{
 "cells": [
  {
   "cell_type": "code",
   "execution_count": 2,
   "id": "16945836",
   "metadata": {},
   "outputs": [],
   "source": [
    "import os\n",
    "from dotenv import load_dotenv\n",
    "from openai import OpenAI\n",
    "from IPython.display import display, Markdown"
   ]
  },
  {
   "cell_type": "code",
   "execution_count": 3,
   "id": "1f63ce14",
   "metadata": {},
   "outputs": [
    {
     "name": "stdout",
     "output_type": "stream",
     "text": [
      "OpenAI API Key found and starts with sk-proj-\n"
     ]
    }
   ],
   "source": [
    "# Check the API key\n",
    "\n",
    "load_dotenv(override=True)\n",
    "api_key = os.getenv(\"OPENAI_API_KEY\")\n",
    "\n",
    "if api_key:\n",
    "    print(f\"OpenAI API Key found and starts with {api_key[:8]}\")\n",
    "else:\n",
    "    print(\"No OpenAI API Key found\")"
   ]
  },
  {
   "cell_type": "code",
   "execution_count": 8,
   "id": "f151f8ec",
   "metadata": {},
   "outputs": [],
   "source": [
    "# Let's do this\n",
    "\n",
    "message = \"what is the next AI conference nearest to Philadelphia.\"\n",
    "messages = [{'role': 'user', 'content': \"You are a helpful assistant that can answer questions and help with tasks.\"}, {'role': 'user', 'content': message}]\n",
    "\n",
    "openai = OpenAI()\n",
    "response = openai.chat.completions.create(model=\"gpt-4o-mini-search-preview-2025-03-11\", messages=messages)\n"
   ]
  },
  {
   "cell_type": "code",
   "execution_count": 9,
   "id": "b1ee0fb6",
   "metadata": {},
   "outputs": [
    {
     "data": {
      "text/markdown": [
       "The next AI conference nearest to Philadelphia is the **1682: The Business of Innovation Conference**, scheduled for October 8, 2025, in Philadelphia, PA. ([unite.ai](https://www.unite.ai/conferences/?utm_source=openai))\n",
       "\n",
       "Additionally, the **Penn AI Symposium: Global Ideas Shaping Humanity** will take place from October 10 to October 11, 2025, at Jon M. Huntsman Hall, 3730 Walnut Street, Philadelphia, PA. ([events.seas.upenn.edu](https://events.seas.upenn.edu/event/the-penn-ai-symposium-global-ideas-shaping-humanity/?utm_source=openai))\n",
       "\n",
       "Looking ahead, the **5th Annual AI in Medical Affairs** conference is set for January 27-28, 2026, at Convene-Commerce Square, 2001 Market Street, Philadelphia, PA. ([clocate.com](https://www.clocate.com/ai-in-medical-affairs/99960/?utm_source=openai))\n",
       "\n",
       "These events offer excellent opportunities to engage with the AI community and explore the latest advancements in the field. "
      ],
      "text/plain": [
       "<IPython.core.display.Markdown object>"
      ]
     },
     "metadata": {},
     "output_type": "display_data"
    }
   ],
   "source": [
    "reply = response.choices[0].message.content\n",
    "\n",
    "display(Markdown(reply))"
   ]
  },
  {
   "cell_type": "code",
   "execution_count": null,
   "id": "ea61f019",
   "metadata": {},
   "outputs": [],
   "source": []
  }
 ],
 "metadata": {
  "kernelspec": {
   "display_name": ".venv",
   "language": "python",
   "name": "python3"
  },
  "language_info": {
   "codemirror_mode": {
    "name": "ipython",
    "version": 3
   },
   "file_extension": ".py",
   "mimetype": "text/x-python",
   "name": "python",
   "nbconvert_exporter": "python",
   "pygments_lexer": "ipython3",
   "version": "3.12.11"
  }
 },
 "nbformat": 4,
 "nbformat_minor": 5
}
