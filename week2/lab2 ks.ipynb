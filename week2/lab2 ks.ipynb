{
 "cells": [
  {
   "cell_type": "markdown",
   "metadata": {},
   "source": [
    "# Lab 2: RAG\n",
    "\n",
    "## We will build and evaluate a Question Answering Expert for a fictional company: InsureLLM!"
   ]
  },
  {
   "cell_type": "markdown",
   "metadata": {},
   "source": [
    "### BEFORE WE BEGIN:\n",
    "\n",
    "Look at the knowledge-base - this is the company shared drive.\n",
    "\n",
    "### For those new to RAG:\n",
    "\n",
    "Does one of the Experts want to give an explanation?\n",
    "\n",
    "We will be figuring out ways to insert relevant background information in to the prompt..\n",
    "\n",
    "Today will be more intense - please ask me lots of questions and clarifications.."
   ]
  },
  {
   "cell_type": "code",
   "execution_count": 1,
   "metadata": {},
   "outputs": [],
   "source": [
    "import os\n",
    "import glob\n",
    "import tiktoken\n",
    "import numpy as np\n",
    "from IPython.display import Markdown, display\n",
    "\n",
    "from langchain_openai import ChatOpenAI\n",
    "from langchain_chroma import Chroma\n",
    "from langchain.chains import create_retrieval_chain\n",
    "from langchain.chains.combine_documents import create_stuff_documents_chain\n",
    "from langchain_core.prompts import ChatPromptTemplate\n",
    "from langchain_huggingface import HuggingFaceEmbeddings\n",
    "from langchain_openai import OpenAIEmbeddings\n",
    "\n",
    "from langchain_community.document_loaders import DirectoryLoader, TextLoader\n",
    "from langchain.text_splitter import RecursiveCharacterTextSplitter\n",
    "\n",
    "from sklearn.manifold import TSNE\n",
    "import plotly.graph_objects as go"
   ]
  },
  {
   "cell_type": "code",
   "execution_count": 2,
   "metadata": {},
   "outputs": [],
   "source": [
    "MODEL = \"gpt-4.1-nano\"\n",
    "db_name = \"vector_db\""
   ]
  },
  {
   "cell_type": "code",
   "execution_count": 3,
   "metadata": {},
   "outputs": [
    {
     "name": "stdout",
     "output_type": "stream",
     "text": [
      "Found 76 files in the knowledge base\n",
      "Total characters in knowledge base: 304,434\n"
     ]
    }
   ],
   "source": [
    "knowledge_base_path = \"knowledge-base/**/*.md\"\n",
    "files = glob.glob(knowledge_base_path, recursive=True)\n",
    "print(f\"Found {len(files)} files in the knowledge base\")\n",
    "\n",
    "entire_knowledge_base = \"\"\n",
    "\n",
    "for file_path in files:\n",
    "    with open(file_path, 'r', encoding='utf-8') as f:\n",
    "        entire_knowledge_base += f.read()\n",
    "        entire_knowledge_base += \"\\n\\n\"\n",
    "\n",
    "print(f\"Total characters in knowledge base: {len(entire_knowledge_base):,}\")"
   ]
  },
  {
   "cell_type": "code",
   "execution_count": 4,
   "metadata": {},
   "outputs": [
    {
     "name": "stdout",
     "output_type": "stream",
     "text": [
      "Total tokens for gpt-4.1-mini: 63,555\n"
     ]
    }
   ],
   "source": [
    "encoding = tiktoken.encoding_for_model(\"gpt-4.1-mini\")\n",
    "tokens = encoding.encode(entire_knowledge_base)\n",
    "token_count = len(tokens)\n",
    "print(f\"Total tokens for gpt-4.1-mini: {token_count:,}\")"
   ]
  },
  {
   "cell_type": "markdown",
   "metadata": {},
   "source": [
    "## LangChain Document Loaders\n",
    "\n",
    "Loading in the data and splitting it into chunks using LangChain's helper classes"
   ]
  },
  {
   "cell_type": "code",
   "execution_count": 5,
   "metadata": {},
   "outputs": [
    {
     "name": "stdout",
     "output_type": "stream",
     "text": [
      "Loaded 76 documents\n"
     ]
    }
   ],
   "source": [
    "folders = glob.glob(\"knowledge-base/*\")\n",
    "\n",
    "documents = []\n",
    "for folder in folders:\n",
    "    doc_type = os.path.basename(folder)\n",
    "    loader = DirectoryLoader(folder, glob=\"**/*.md\", loader_cls=TextLoader, loader_kwargs={'encoding': 'utf-8'})\n",
    "    folder_docs = loader.load()\n",
    "    for doc in folder_docs:\n",
    "        doc.metadata[\"doc_type\"] = doc_type\n",
    "        documents.append(doc)\n",
    "\n",
    "print(f\"Loaded {len(documents)} documents\")"
   ]
  },
  {
   "cell_type": "code",
   "execution_count": 6,
   "metadata": {},
   "outputs": [
    {
     "name": "stdout",
     "output_type": "stream",
     "text": [
      "Divided into 413 chunks\n"
     ]
    }
   ],
   "source": [
    "text_splitter = RecursiveCharacterTextSplitter(chunk_size=1000, chunk_overlap=200)\n",
    "chunks = text_splitter.split_documents(documents)\n",
    "\n",
    "print(f\"Divided into {len(chunks)} chunks\")"
   ]
  },
  {
   "cell_type": "code",
   "execution_count": 7,
   "metadata": {},
   "outputs": [
    {
     "name": "stdout",
     "output_type": "stream",
     "text": [
      "page_content='# Product Summary\n",
      "\n",
      "# Rellm: AI-Powered Enterprise Reinsurance Solution\n",
      "\n",
      "## Summary\n",
      "\n",
      "Rellm is an innovative enterprise reinsurance product developed by Insurellm, designed to transform the way reinsurance companies operate. Harnessing the power of artificial intelligence, Rellm offers an advanced platform that redefines risk management, enhances decision-making processes, and optimizes operational efficiencies within the reinsurance industry. With seamless integrations and robust analytics, Rellm enables insurers to proactively manage their portfolios and respond to market dynamics with agility.\n",
      "\n",
      "## Features\n",
      "\n",
      "### AI-Driven Analytics\n",
      "Rellm utilizes cutting-edge AI algorithms to provide predictive insights into risk exposures, enabling users to forecast trends and make informed decisions. Its real-time data analysis empowers reinsurance professionals with actionable intelligence.' metadata={'source': 'knowledge-base/products/Rellm.md', 'doc_type': 'products'}\n"
     ]
    }
   ],
   "source": [
    "print(chunks[0])"
   ]
  },
  {
   "cell_type": "code",
   "execution_count": 8,
   "metadata": {},
   "outputs": [
    {
     "name": "stdout",
     "output_type": "stream",
     "text": [
      "Vectorstore created with 413 documents\n"
     ]
    }
   ],
   "source": [
    "#embeddings = HuggingFaceEmbeddings(model_name=\"all-MiniLM-L6-v2\")\n",
    "embeddings = OpenAIEmbeddings()\n",
    "\n",
    "if os.path.exists(db_name):\n",
    "    Chroma(persist_directory=db_name, embedding_function=embeddings).delete_collection()\n",
    "\n",
    "vectorstore = Chroma.from_documents(documents=chunks, embedding=embeddings, persist_directory=db_name)\n",
    "print(f\"Vectorstore created with {vectorstore._collection.count()} documents\")"
   ]
  },
  {
   "cell_type": "code",
   "execution_count": 9,
   "metadata": {},
   "outputs": [
    {
     "name": "stdout",
     "output_type": "stream",
     "text": [
      "There are 413 vectors with 1,536 dimensions in the vector store\n"
     ]
    }
   ],
   "source": [
    "# How many documents are in the vector store? How many dimensions?\n",
    "\n",
    "collection = vectorstore._collection\n",
    "count = collection.count()\n",
    "\n",
    "sample_embedding = collection.get(limit=1, include=[\"embeddings\"])[\"embeddings\"][0]\n",
    "dimensions = len(sample_embedding)\n",
    "print(f\"There are {count:,} vectors with {dimensions:,} dimensions in the vector store\")"
   ]
  },
  {
   "cell_type": "code",
   "execution_count": 10,
   "metadata": {},
   "outputs": [],
   "source": [
    "# Gather the vectors, documents and metadata\n",
    "\n",
    "result = collection.get(include=['embeddings', 'documents', 'metadatas'])\n",
    "vectors = np.array(result['embeddings'])\n",
    "documents = result['documents']\n",
    "metadatas = result['metadatas']\n",
    "doc_types = [metadata['source'].split('/')[1] for metadata in metadatas]\n",
    "colors = [['blue', 'green', 'red', 'orange'][['products', 'employees', 'contracts', 'company'].index(t)] for t in doc_types]"
   ]
  },
  {
   "cell_type": "code",
   "execution_count": 11,
   "metadata": {},
   "outputs": [
    {
     "data": {
      "application/vnd.plotly.v1+json": {
       "config": {
        "plotlyServerURL": "https://plot.ly"
       },
       "data": [
        {
         "hoverinfo": "text",
         "marker": {
          "color": [
           "blue",
           "blue",
           "blue",
           "blue",
           "blue",
           "blue",
           "blue",
           "blue",
           "blue",
           "blue",
           "blue",
           "blue",
           "blue",
           "blue",
           "blue",
           "blue",
           "blue",
           "blue",
           "blue",
           "blue",
           "blue",
           "blue",
           "blue",
           "blue",
           "blue",
           "blue",
           "blue",
           "blue",
           "blue",
           "blue",
           "blue",
           "blue",
           "blue",
           "blue",
           "blue",
           "blue",
           "blue",
           "blue",
           "blue",
           "blue",
           "blue",
           "blue",
           "blue",
           "blue",
           "blue",
           "blue",
           "blue",
           "red",
           "red",
           "red",
           "red",
           "red",
           "red",
           "red",
           "red",
           "red",
           "red",
           "red",
           "red",
           "red",
           "red",
           "red",
           "red",
           "red",
           "red",
           "red",
           "red",
           "red",
           "red",
           "red",
           "red",
           "red",
           "red",
           "red",
           "red",
           "red",
           "red",
           "red",
           "red",
           "red",
           "red",
           "red",
           "red",
           "red",
           "red",
           "red",
           "red",
           "red",
           "red",
           "red",
           "red",
           "red",
           "red",
           "red",
           "red",
           "red",
           "red",
           "red",
           "red",
           "red",
           "red",
           "red",
           "red",
           "red",
           "red",
           "red",
           "red",
           "red",
           "red",
           "red",
           "red",
           "red",
           "red",
           "red",
           "red",
           "red",
           "red",
           "red",
           "red",
           "red",
           "red",
           "red",
           "red",
           "red",
           "red",
           "red",
           "red",
           "red",
           "red",
           "red",
           "red",
           "red",
           "red",
           "red",
           "red",
           "red",
           "red",
           "red",
           "red",
           "red",
           "red",
           "red",
           "red",
           "red",
           "red",
           "red",
           "red",
           "red",
           "red",
           "red",
           "red",
           "red",
           "red",
           "red",
           "red",
           "red",
           "red",
           "red",
           "red",
           "red",
           "red",
           "red",
           "red",
           "red",
           "red",
           "red",
           "red",
           "red",
           "red",
           "red",
           "red",
           "red",
           "red",
           "red",
           "red",
           "red",
           "red",
           "red",
           "red",
           "red",
           "red",
           "red",
           "red",
           "red",
           "red",
           "red",
           "red",
           "red",
           "red",
           "red",
           "red",
           "red",
           "red",
           "red",
           "red",
           "red",
           "red",
           "red",
           "red",
           "red",
           "red",
           "red",
           "red",
           "red",
           "red",
           "red",
           "red",
           "red",
           "red",
           "red",
           "red",
           "red",
           "red",
           "red",
           "red",
           "red",
           "red",
           "red",
           "red",
           "red",
           "red",
           "red",
           "red",
           "red",
           "red",
           "red",
           "red",
           "red",
           "red",
           "red",
           "red",
           "red",
           "red",
           "red",
           "red",
           "red",
           "red",
           "red",
           "red",
           "red",
           "red",
           "red",
           "red",
           "red",
           "red",
           "red",
           "red",
           "red",
           "red",
           "red",
           "red",
           "red",
           "red",
           "red",
           "red",
           "red",
           "red",
           "red",
           "red",
           "red",
           "red",
           "red",
           "red",
           "red",
           "red",
           "red",
           "red",
           "red",
           "red",
           "red",
           "red",
           "red",
           "red",
           "red",
           "red",
           "red",
           "red",
           "orange",
           "orange",
           "orange",
           "orange",
           "orange",
           "orange",
           "orange",
           "orange",
           "orange",
           "orange",
           "orange",
           "orange",
           "orange",
           "orange",
           "orange",
           "orange",
           "orange",
           "orange",
           "green",
           "green",
           "green",
           "green",
           "green",
           "green",
           "green",
           "green",
           "green",
           "green",
           "green",
           "green",
           "green",
           "green",
           "green",
           "green",
           "green",
           "green",
           "green",
           "green",
           "green",
           "green",
           "green",
           "green",
           "green",
           "green",
           "green",
           "green",
           "green",
           "green",
           "green",
           "green",
           "green",
           "green",
           "green",
           "green",
           "green",
           "green",
           "green",
           "green",
           "green",
           "green",
           "green",
           "green",
           "green",
           "green",
           "green",
           "green",
           "green",
           "green",
           "green",
           "green",
           "green",
           "green",
           "green",
           "green",
           "green",
           "green",
           "green",
           "green",
           "green",
           "green",
           "green",
           "green",
           "green",
           "green",
           "green",
           "green",
           "green",
           "green",
           "green",
           "green",
           "green",
           "green",
           "green",
           "green",
           "green",
           "green",
           "green",
           "green",
           "green",
           "green",
           "green",
           "green",
           "green",
           "green",
           "green",
           "green",
           "green",
           "green",
           "green",
           "green",
           "green",
           "green",
           "green",
           "green",
           "green",
           "green",
           "green",
           "green",
           "green",
           "green",
           "green",
           "green",
           "green",
           "green",
           "green",
           "green",
           "green",
           "green",
           "green",
           "green",
           "green",
           "green",
           "green",
           "green",
           "green",
           "green"
          ],
          "opacity": 0.8,
          "size": 5
         },
         "mode": "markers",
         "text": [
          "Type: products<br>Text: # Product Summary\n\n# Rellm: AI-Powered Enterprise Reinsurance Solution\n\n## Summary\n\nRellm is an inno...",
          "Type: products<br>Text: ### Seamless Integrations\nRellm's architecture is designed for effortless integration with existing ...",
          "Type: products<br>Text: ### Regulatory Compliance Tools\nRellm includes built-in compliance tracking features to help organiz...",
          "Type: products<br>Text: Join the growing number of organizations leveraging Rellm to enhance their reinsurance processes whi...",
          "Type: products<br>Text: Experience the future of reinsurance with Rellm, where innovation meets reliability. Let Insurellm h...",
          "Type: products<br>Text: # Product Summary\n\n# Claimllm\n\n## Summary\n\nClaimllm is Insurellm's revolutionary claims processing p...",
          "Type: products<br>Text: ## Features\n\n### 1. Intelligent FNOL Processing\nClaimllm's AI-powered first notice of loss intake ca...",
          "Type: products<br>Text: ### 4. Predictive Fraud Detection\nSophisticated fraud analytics evaluate claims against historical p...",
          "Type: products<br>Text: ### 7. Vendor Management Platform\nIntegrated tools coordinate with repair shops, medical providers, ...",
          "Type: products<br>Text: ### 10. Analytics and Reporting\nComprehensive dashboards track key metrics including cycle time, los...",
          "Type: products<br>Text: All tiers include comprehensive implementation, claims staff training, and continuous platform enhan...",
          "Type: products<br>Text: Claimllm represents the future of insurance claims—faster, smarter, and more customer-centric. Trans...",
          "Type: products<br>Text: # Product Summary\n\n# Bizllm\n\n## Summary\n\nBizllm is Insurellm's enterprise-grade commercial insurance...",
          "Type: products<br>Text: ## Features\n\n### 1. Multi-Line Underwriting Engine\nBizllm's sophisticated underwriting platform hand...",
          "Type: products<br>Text: ### 4. Workers' Compensation Optimization\nIntegrated workers' comp tools analyze payroll data, indus...",
          "Type: products<br>Text: ### 7. Portfolio Management Dashboard\nComprehensive analytics provide insurers with portfolio-level ...",
          "Type: products<br>Text: ## Pricing\n\nBizllm's pricing structure reflects the complexity and value of commercial insurance ope...",
          "Type: products<br>Text: All tiers include implementation services, staff training, and continuous platform updates.\n\n## Road...",
          "Type: products<br>Text: Bizllm empowers commercial insurers to compete effectively in complex markets while delivering the d...",
          "Type: products<br>Text: # Product Summary\n\n# Lifellm\n\n## Summary\n\nLifellm is an advanced life insurance platform developed b...",
          "Type: products<br>Text: ### 2. Predictive Risk Modeling\nAdvanced machine learning algorithms assess mortality risk by analyz...",
          "Type: products<br>Text: ### 5. Smart Document Processing\nLifellm utilizes natural language processing and optical character ...",
          "Type: products<br>Text: ## Pricing\n\nLifellm's flexible pricing structure accommodates insurance providers of all sizes:\n\n- *...",
          "Type: products<br>Text: All tiers include comprehensive onboarding, training programs, and regular platform updates.\n\n## Roa...",
          "Type: products<br>Text: With Lifellm, Insurellm is transforming life insurance into a modern, customer-centric experience th...",
          "Type: products<br>Text: # Product Summary\n\n# Healthllm\n\n## Summary\n\nHealthllm is Insurellm's comprehensive health insurance ...",
          "Type: products<br>Text: ### 2. Real-Time Eligibility Verification\nIntegrated eligibility checking ensures instant verificati...",
          "Type: products<br>Text: ### 5. Provider Network Management\nComprehensive tools for managing provider relationships, contract...",
          "Type: products<br>Text: ### 8. Regulatory Compliance Engine\nBuilt-in compliance monitoring ensures adherence to ACA requirem...",
          "Type: products<br>Text: All plans include implementation support, staff training, and ongoing platform enhancements.\n\n## Roa...",
          "Type: products<br>Text: Healthllm represents Insurellm's commitment to transforming health insurance through technology that...",
          "Type: products<br>Text: # Product Summary\n\n# Markellm\n\n## Summary\n\nMarkellm is an innovative two-sided marketplace designed ...",
          "Type: products<br>Text: - **User-Friendly Interface**: Designed with user experience in mind, Markellm features an intuitive...",
          "Type: products<br>Text: - **Customer Support**: Our dedicated support team is always available to assist both consumers and ...",
          "Type: products<br>Text: ### For Insurance Companies:\n- **Basic Listing Fee**: $199/month for a featured listing on the platf...",
          "Type: products<br>Text: ### Q3 2025\n- Initiate a comprehensive marketing campaign targeting both consumers and insurers to i...",
          "Type: products<br>Text: # Product Summary\n\n# Homellm\n\n## Summary\nHomellm is an innovative home insurance product developed b...",
          "Type: products<br>Text: ### 2. Dynamic Pricing Model\nWith Homellm's innovative dynamic pricing model, insurance providers ca...",
          "Type: products<br>Text: ### 5. Multi-Channel Integration\nHomellm seamlessly integrates into existing insurance platforms, pr...",
          "Type: products<br>Text: - **Basic Tier:** Starting at $5,000/month for small insurers with basic integration features.\n- **S...",
          "Type: products<br>Text: All tiers include a comprehensive training program and ongoing updates to ensure optimal performance...",
          "Type: products<br>Text: With Homellm, Insurellm is committed to transforming the landscape of home insurance, ensuring both ...",
          "Type: products<br>Text: # Product Summary\n\n# Carllm\n\n## Summary\n\nCarllm is an innovative auto insurance product developed by...",
          "Type: products<br>Text: - **Instant Quoting**: With Carllm, insurance companies can offer near-instant quotes to customers, ...",
          "Type: products<br>Text: - **Mobile Integration**: Carllm is designed to work seamlessly with mobile applications, providing ...",
          "Type: products<br>Text: - **Professional Tier**: $2,500/month\n  - For medium-sized companies.\n  - All Basic Tier features pl...",
          "Type: products<br>Text: ### Q2 2025: Customer Experience Improvements\n- Launch of a new **mobile app** for end-users.\n- Intr...",
          "Type: contracts<br>Text: # Contract with GreenField Holdings for Markellm\n\n**Effective Date:** November 15, 2023  \n**Contract...",
          "Type: contracts<br>Text: ## Renewal\n1. **Automatic Renewal**: This contract will automatically renew for sequential one-year ...",
          "Type: contracts<br>Text: ## Features\n1. **AI-Powered Matching**: Access to advanced algorithms that connect GreenField Holdin...",
          "Type: contracts<br>Text: ## Support\n1. **Customer Support Access**: The Client will have access to dedicated support through ...",
          "Type: contracts<br>Text: **Signatures:**  \n_________________________                           _________________________  \n**...",
          "Type: contracts<br>Text: # Contract with EverGuard Insurance for Rellm: AI-Powered Enterprise Reinsurance Solution\n\n**Contrac...",
          "Type: contracts<br>Text: 4. **Usage Rights**: EverGuard Insurance is granted a non-exclusive, non-transferable license to acc...",
          "Type: contracts<br>Text: 2. **Customizable Dashboard**: Users at EverGuard Insurance will have access to a customizable dashb...",
          "Type: contracts<br>Text: 3. **Updates and Upgrades**: EverGuard Insurance will receive all platform updates and upgrades at n...",
          "Type: contracts<br>Text: # Contract with United Healthcare Alliance for Healthllm\n\n**Contract Date:** May 15, 2025\n**Contract...",
          "Type: contracts<br>Text: 4. **Service Level Agreement:** Insurellm guarantees 99.95% uptime measured monthly, with financial ...",
          "Type: contracts<br>Text: 7. **Business Continuity:** Guaranteed 2-hour recovery time objective (RTO) and 15-minute recovery p...",
          "Type: contracts<br>Text: 1. **Unlimited Member Administration:** No capacity restrictions, supporting United's 250,000+ membe...",
          "Type: contracts<br>Text: 4. **Advanced AI Claims Adjudication:** Enterprise-grade claims processing:\n   - Auto-adjudication r...",
          "Type: contracts<br>Text: 6. **Complete API Access:** Unlimited API calls supporting:\n   - Real-time integration with United's...",
          "Type: contracts<br>Text: 8. **Comprehensive Medication Management:**\n   - Multi-tier formulary management (national and state...",
          "Type: contracts<br>Text: 10. **Quality and Performance Management:**\n    - HEDIS measure calculation and reporting\n    - STAR...",
          "Type: contracts<br>Text: 12. **Regulatory Compliance and Reporting:**\n    - ACA compliance monitoring (MLR, essential health ...",
          "Type: contracts<br>Text: ---\n\n## Support\n\nInsurellm commits to comprehensive Enterprise-level support for United Healthcare A...",
          "Type: contracts<br>Text: 3. **Comprehensive Implementation:**\n   - 18-month phased implementation program with 4 major go-liv...",
          "Type: contracts<br>Text: 4. **Training and Enablement:**\n   - Comprehensive role-based training programs for all staff\n   - E...",
          "Type: contracts<br>Text: 5. **Custom Development:**\n   - 3,000 hours annually of custom development included\n   - Dedicated d...",
          "Type: contracts<br>Text: 6. **Integration Services:**\n   - Enterprise integration with United's complex system landscape:\n   ...",
          "Type: contracts<br>Text: 7. **Analytics and Reporting:**\n   - Custom dashboard development (unlimited)\n   - Real-time operati...",
          "Type: contracts<br>Text: 8. **Compliance and Regulatory Support:**\n   - Monthly compliance reviews with detailed documentatio...",
          "Type: contracts<br>Text: 9. **Continuous Improvement:**\n   - Bi-weekly process optimization workshops\n   - Quarterly efficien...",
          "Type: contracts<br>Text: _________________________________\n**James Patterson**\n**Title**: Chairman & Chief Executive Officer\n...",
          "Type: contracts<br>Text: # Contract with Guardian Life Partners for Lifellm\n\n---\n\n## Terms...",
          "Type: contracts<br>Text: ---\n\n## Terms\n\n1. **Agreement Effective Date**: This contract is effective as of March 1, 2025.\n2. *...",
          "Type: contracts<br>Text: ---\n\n## Renewal\n\n1. **Automatic Renewal**: This agreement will automatically renew for an additional...",
          "Type: contracts<br>Text: ---\n\n## Features\n\n1. **Access to Growth Tier Features**: Guardian Life Partners will have comprehens...",
          "Type: contracts<br>Text: 3. **Advanced Underwriting:**\n   - Automated underwriting for face amounts up to $500,000\n   - Accel...",
          "Type: contracts<br>Text: 2. **Training**: Comprehensive training program:\n   - Initial onboarding (4 weeks) for up to 20 staf...",
          "Type: contracts<br>Text: 5. **Integration Support**: Technical assistance for integrating Lifellm with:\n   - Guardian's polic...",
          "Type: contracts<br>Text: _________________________________\n**Jonathan Park**\n**Title**: President & CEO\n**Guardian Life Partn...",
          "Type: contracts<br>Text: # Contract with Greenstone Insurance for Homellm\n\n---\n\n## Terms\n\n1. **Parties**: This Contract (\"Agr...",
          "Type: contracts<br>Text: 4. **Payment Terms**: \n   - The Customer shall pay an amount of $10,000 per month for the Standard T...",
          "Type: contracts<br>Text: ---\n\n## Features\n\n- **AI-Powered Risk Assessment**: Customer will have access to enhanced risk evalu...",
          "Type: contracts<br>Text: - **Customer Portal**: A dedicated portal will be provided, allowing the Customer's clients to manag...",
          "Type: contracts<br>Text: ______________________________  \n[Name], [Title]  \nDate: ______________________\n\n**For Greenstone In...",
          "Type: contracts<br>Text: # Contract with Roadway Insurance Inc. for Carllm\n\n---\n\n## Terms\n\n1. **Agreement Effective Date**: T...",
          "Type: contracts<br>Text: ---\n\n## Renewal\n\n1. **Automatic Renewal**: This agreement will automatically renew for an additional...",
          "Type: contracts<br>Text: ---\n\n## Features\n\n1. **Access to Core Features**: Roadway Insurance Inc. will have access to all Pro...",
          "Type: contracts<br>Text: ---\n\n## Support\n\n1. **Technical Support**: Roadway Insurance Inc. will receive priority technical su...",
          "Type: contracts<br>Text: # Contract with Rapid Claims Associates for Claimllm\n\n**Contract Date:** March 1, 2025\n**Contract Nu...",
          "Type: contracts<br>Text: 4. **Overage Fees:** If claims volume exceeds 5,000 annually, overage fees of $0.90 per claim apply,...",
          "Type: contracts<br>Text: ---\n\n## Features\n\nRapid Claims Associates will receive the following Core Tier features:\n\n1. **Intel...",
          "Type: contracts<br>Text: 3. **Basic Document Processing:** OCR and NLP extraction from:\n   - Police reports\n   - Repair estim...",
          "Type: contracts<br>Text: 7. **Payment Processing:** Integration with payment systems for:\n   - Direct deposit (ACH)\n   - Chec...",
          "Type: contracts<br>Text: 3. **Platform Updates:**\n   - Quarterly feature releases with new capabilities\n   - Monthly security...",
          "Type: contracts<br>Text: _________________________________\n**Marcus Johnson**\n**Title**: Chief Claims Officer\n**Rapid Claims ...",
          "Type: contracts<br>Text: # Contract with National Claims Network for Claimllm\n\n**Contract Date:** April 20, 2025\n**Contract N...",
          "Type: contracts<br>Text: 4. **Service Level Agreement:** Insurellm guarantees 99.95% uptime with financial credits for downti...",
          "Type: contracts<br>Text: 7. **Business Continuity:** Insurellm provides disaster recovery with 4-hour RTO (Recovery Time Obje...",
          "Type: contracts<br>Text: 3. **Advanced Computer Vision:** State-of-the-art damage assessment:\n   - Auto damage analysis with ...",
          "Type: contracts<br>Text: 5. **Complete API Access:** Unlimited API calls supporting:\n   - Real-time integrations with 50+ car...",
          "Type: contracts<br>Text: 8. **Advanced Vendor Management:**\n   - Network of 5,000+ preferred vendors nationwide\n   - AI-power...",
          "Type: contracts<br>Text: 2. **24/7/365 Premium Support:**\n   - Guaranteed 10-minute response time for P1 critical issues\n   -...",
          "Type: contracts<br>Text: 4. **Training and Enablement:**\n   - Role-based training programs (adjusters, supervisors, fraud inv...",
          "Type: contracts<br>Text: 6. **Integration Services:**\n   - Enterprise integration with National's systems:\n     - Policy admi...",
          "Type: contracts<br>Text: 8. **Continuous Improvement:**\n   - Quarterly process optimization workshops\n   - Annual efficiency ...",
          "Type: contracts<br>Text: # Contract with Continental Commercial Group for Bizllm\n\n**Contract Date:** April 12, 2025\n**Contrac...",
          "Type: contracts<br>Text: 4. **Confidentiality:** Both parties agree to maintain the highest level of confidentiality regardin...",
          "Type: contracts<br>Text: 7. **Exclusivity:** Continental Commercial Group receives exclusive use of Bizllm in the specialty c...",
          "Type: contracts<br>Text: 2. **Dedicated Cloud Infrastructure:** Private cloud deployment with dedicated servers, ensuring dat...",
          "Type: contracts<br>Text: 5. **Custom Product Configuration:** Ability to configure and deploy unlimited custom commercial ins...",
          "Type: contracts<br>Text: 8. **Regulatory Compliance Suite:** Automated compliance monitoring for all 50 states including form...",
          "Type: contracts<br>Text: 3. **Implementation and Onboarding:**\n   - 6-month implementation program with dedicated project man...",
          "Type: contracts<br>Text: 6. **Performance Optimization:**\n   - Monthly platform performance reviews\n   - Proactive capacity p...",
          "Type: contracts<br>Text: # Contract with Stellar Insurance Co. for Rellm\n\n## Terms\nThis contract is made between **Insurellm*...",
          "Type: contracts<br>Text: ### Termination\nEither party may terminate this agreement with a **30-day written notice**. In the e...",
          "Type: contracts<br>Text: ## Features\nStellar Insurance Co. will receive access to the following features of the Rellm product...",
          "Type: contracts<br>Text: ## Support\nInsurellm provides Stellar Insurance Co. with the following support services:\n\n- **24/7 T...",
          "Type: contracts<br>Text: # Contract with Harmony Health Plans for Healthllm\n\n---\n\n## Terms...",
          "Type: contracts<br>Text: ---\n\n## Terms\n\n1. **Agreement Effective Date**: This contract is effective as of January 25, 2025.\n2...",
          "Type: contracts<br>Text: ---\n\n## Renewal\n\n1. **Automatic Renewal**: This agreement will automatically renew for an additional...",
          "Type: contracts<br>Text: ---\n\n## Features\n\n1. **Access to Professional Tier Features**: Harmony Health Plans will have compre...",
          "Type: contracts<br>Text: 2. **Predictive Healthcare Analytics:**\n   - High-risk member identification for care management\n   ...",
          "Type: contracts<br>Text: 4. **Value-Based Care Tools:**\n   - ACO (Accountable Care Organization) performance tracking\n   - Sh...",
          "Type: contracts<br>Text: 2. **Training**: Comprehensive training program:\n   - 6-week implementation with dedicated project m...",
          "Type: contracts<br>Text: 4. **Account Management**:\n   - Named Senior Customer Success Manager with bi-weekly check-ins\n   - ...",
          "Type: contracts<br>Text: 6. **Analytics and Reporting:**\n   - Custom dashboard development (up to 10 dashboards)\n   - Automat...",
          "Type: contracts<br>Text: ---\n\n**Signatures:**\n\n_________________________________\n**Sarah Chen**\n**Title**: Vice President of ...",
          "Type: contracts<br>Text: # Contract with TechDrive Insurance for Carllm\n\n**Contract Date:** October 1, 2024  \n**Contract Dura...",
          "Type: contracts<br>Text: ## Renewal\n\n1. **Automatic Renewal**: This contract shall automatically renew for additional one-yea...",
          "Type: contracts<br>Text: ## Support\n\n1. **Customer Support**: Insurellm will provide 24/7 customer support to TechDrive Insur...",
          "Type: contracts<br>Text: **TechDrive Insurance Representative:**  \nName: Sarah Johnson  \nTitle: Operations Director  \nDate: _...",
          "Type: contracts<br>Text: # Contract with Heritage Life Assurance for Lifellm\n\n**Contract Date:** February 12, 2025\n**Contract...",
          "Type: contracts<br>Text: ## Renewal\n\n1. **Automatic Renewal**: This agreement automatically renews for 12-month terms unless ...",
          "Type: contracts<br>Text: 3. **Digital Health Integration**:\n   - Wearable device connections (Fitbit, Apple Watch)\n   - Healt...",
          "Type: contracts<br>Text: 6. **Advanced Reporting**:\n   - Application conversion analytics\n   - Underwriting productivity metr...",
          "Type: contracts<br>Text: ---\n\n**Signatures:**\n\n**Insurellm, Inc.**\nMichael Torres, Chief Revenue Officer\nDate: February 12, 2...",
          "Type: contracts<br>Text: # Contract with Premier Adjusters Inc. for Claimllm\n\n---\n\n## Terms...",
          "Type: contracts<br>Text: ---\n\n## Terms\n\n1. **Agreement Effective Date**: This contract is effective as of February 15, 2025.\n...",
          "Type: contracts<br>Text: ---\n\n## Renewal\n\n1. **Automatic Renewal**: This agreement will automatically renew for an additional...",
          "Type: contracts<br>Text: ---\n\n## Features\n\n1. **Access to Advanced Tier Features**: Premier Adjusters Inc. will have access t...",
          "Type: contracts<br>Text: 2. **Computer Vision Capabilities:**\n   - Automated vehicle damage assessment from photos (dents, sc...",
          "Type: contracts<br>Text: ---\n\n## Support\n\n1. **Technical Support**: Premier Adjusters Inc. will receive priority advanced sup...",
          "Type: contracts<br>Text: 3. **Updates and Maintenance**:\n   - Monthly platform updates with new features\n   - Bi-weekly secur...",
          "Type: contracts<br>Text: 6. **Data and Analytics:**\n   - Custom dashboard development (up to 5 dashboards)\n   - Monthly data ...",
          "Type: contracts<br>Text: # Contract with FastTrack Insurance Services for Claimllm\n\n**Contract Date:** May 10, 2025\n**Contrac...",
          "Type: contracts<br>Text: 5. **Confidentiality**: Both parties shall maintain confidentiality regarding each other's proprieta...",
          "Type: contracts<br>Text: 2. **Pricing Review**: Renewal pricing will be discussed 60 days prior to term end. Price increases ...",
          "Type: contracts<br>Text: 2. **Integration Capabilities**: API integration with FastTrack's existing claims systems (Guidewire...",
          "Type: contracts<br>Text: ---\n\n**Signatures:**\n\n**Insurellm, Inc.**\nSarah Chen, VP of Sales\nDate: May 10, 2025\n\n**FastTrack In...",
          "Type: contracts<br>Text: # Contract with Atlantic Risk Solutions for Bizllm\n\n---\n\n## Terms\n\n1. **Agreement Effective Date**: ...",
          "Type: contracts<br>Text: ---\n\n## Renewal\n\n1. **Automatic Renewal**: This agreement will automatically renew for an additional...",
          "Type: contracts<br>Text: ---\n\n## Features\n\n1. **Access to Professional Tier Features**: Atlantic Risk Solutions will have acc...",
          "Type: contracts<br>Text: 2. **Industry-Specific Templates**: Pre-configured underwriting templates for:\n   - Technology compa...",
          "Type: contracts<br>Text: 2. **Training**: Insurellm will provide comprehensive training program:\n   - Initial onboarding for ...",
          "Type: contracts<br>Text: 5. **Integration Support**: Technical assistance for integrating Bizllm with:\n   - Atlantic's existi...",
          "Type: contracts<br>Text: # Contract with Belvedere Insurance for Markellm\n\n## Terms\nThis Contract (\"Agreement\") is made and e...",
          "Type: contracts<br>Text: ## Renewal\n1. **Renewal Terms**: This Agreement may be renewed for additional one-year terms upon mu...",
          "Type: contracts<br>Text: ## Features\n1. **AI-Powered Matching**: Belvedere Insurance will benefit from Markellm's AI-powered ...",
          "Type: contracts<br>Text: ## Support\n1. **Technical Support**: Technical support will be available from 9 AM to 7 PM EST, Mond...",
          "Type: contracts<br>Text: **Belvedere Insurance**  \nSignature: ______________________  \nName: [Authorized Signatory]  \nTitle: ...",
          "Type: contracts<br>Text: # Contract with ConnectInsure Agency for Markellm\n\n**Contract Date:** February 28, 2025\n**Contract N...",
          "Type: contracts<br>Text: 5. **Lead Volume Expectations**: Based on ConnectInsure's profile, Markellm projects 80-120 qualifie...",
          "Type: contracts<br>Text: 8. **Dispute Resolution**: Lead quality disputes must be submitted within 5 business days with docum...",
          "Type: contracts<br>Text: 2. **Featured Listing**: Premium marketplace placement including:\n   - Enhanced agency profile with ...",
          "Type: contracts<br>Text: 5. **Data Insights**: Analytics dashboard providing:\n   - Lead volume trends and forecasting\n   - Co...",
          "Type: contracts<br>Text: 2. **Onboarding**: Implementation includes:\n   - 2-week onboarding process\n   - Platform training fo...",
          "Type: contracts<br>Text: ---\n\n**Signatures:**\n\n**Insurellm, Inc.**\nMichael Torres, Chief Revenue Officer\nDate: February 28, 2...",
          "Type: contracts<br>Text: # Contract with Metropolitan Life Group for Lifellm\n\n**Contract Date:** April 5, 2025\n**Contract Num...",
          "Type: contracts<br>Text: 4. **Service Level Agreement:** Insurellm guarantees 99.9% uptime measured monthly, with 10% monthly...",
          "Type: contracts<br>Text: ---\n\n## Features\n\nMetropolitan Life Group will receive the complete Lifellm Enterprise suite:\n\n1. **...",
          "Type: contracts<br>Text: 4. **Comprehensive Digital Health Integration:**\n   - Wearable integrations: Apple Watch, Fitbit, Ga...",
          "Type: contracts<br>Text: 6. **Predictive Analytics Suite:**\n   - Lapse and persistency prediction modeling\n   - Cross-sell an...",
          "Type: contracts<br>Text: 9. **Regulatory and Compliance:**\n   - 50-state compliance monitoring and form filing\n   - Automated...",
          "Type: contracts<br>Text: ---\n\n## Support\n\nInsurellm commits to comprehensive Enterprise-level support for Metropolitan Life G...",
          "Type: contracts<br>Text: 3. **Comprehensive Implementation:**\n   - 12-month phased implementation program with 3 major releas...",
          "Type: contracts<br>Text: 5. **Custom Development:**\n   - 2,000 hours annually of custom development included\n   - Dedicated d...",
          "Type: contracts<br>Text: 7. **Analytics and Reporting:**\n   - Custom executive dashboard development (unlimited)\n   - Real-ti...",
          "Type: contracts<br>Text: ---\n\n**Signatures:**\n\n_________________________________\n**Jennifer Rodriguez**\n**Title**: Chief Exec...",
          "Type: contracts<br>Text: # Contract with Velocity Auto Solutions for Carllm\n\n**Contract Date:** October 1, 2023  \n**Contract ...",
          "Type: contracts<br>Text: ## Renewal\n\n1. **Automatic Renewal**: This contract will automatically renew for successive 12-month...",
          "Type: contracts<br>Text: ## Support\n\n1. **Customer Support**: Velocity Auto Solutions will have access to Insurellm’s custome...",
          "Type: contracts<br>Text: # Contract with GlobalRe Partners for Rellm - AI-Powered Enterprise Reinsurance Solution\n\n**Contract...",
          "Type: contracts<br>Text: 4. **Reinsurance Volume**: Enterprise Tier supports unlimited treaties and facultative certificates....",
          "Type: contracts<br>Text: 8. **Business Continuity:** Guaranteed 2-hour recovery time objective (RTO) and 30-minute recovery p...",
          "Type: contracts<br>Text: ---\n\n## Features\n\nGlobalRe Partners will receive the complete Rellm Enterprise suite with advanced r...",
          "Type: contracts<br>Text: 3. **Advanced AI-Driven Analytics:** Enterprise-grade reinsurance analytics:\n   - Predictive risk mo...",
          "Type: contracts<br>Text: 5. **Catastrophe Modeling Integration:** Best-in-class CAT modeling:\n   - Integration with all major...",
          "Type: contracts<br>Text: 7. **Facultative Reinsurance Platform:** Comprehensive fac management:\n   - Digital submission intak...",
          "Type: contracts<br>Text: 9. **Regulatory Compliance Tools:** Global compliance support:\n   - Multi-jurisdiction regulatory re...",
          "Type: contracts<br>Text: 11. **Complete API Access:** Unlimited API integration:\n    - Real-time integration with GlobalRe's ...",
          "Type: contracts<br>Text: 13. **Climate Risk Analytics:** Forward-looking climate modeling:\n    - IPCC climate scenario analys...",
          "Type: contracts<br>Text: 2. **24/7/365 Premium Support:**\n   - Guaranteed 10-minute response for P1 critical issues (during c...",
          "Type: contracts<br>Text: 3. **Comprehensive Implementation:**\n   - 18-month phased implementation program with 5 major releas...",
          "Type: contracts<br>Text: 4. **Training and Enablement:**\n   - Comprehensive role-based training (underwriters, actuaries, acc...",
          "Type: contracts<br>Text: 5. **Custom Development:**\n   - 4,000 hours annually of custom development included\n   - Dedicated d...",
          "Type: contracts<br>Text: 6. **Integration Services:**\n   - Enterprise integration with GlobalRe's complex ecosystem:\n     - S...",
          "Type: contracts<br>Text: 7. **Analytics and Reporting:**\n   - Custom dashboard development (unlimited)\n   - Real-time operati...",
          "Type: contracts<br>Text: 8. **Catastrophe Response:**\n   - Dedicated CAT war room activation during major events\n   - Real-ti...",
          "Type: contracts<br>Text: 10. **Continuous Improvement:**\n    - Monthly process optimization sessions\n    - Quarterly efficien...",
          "Type: contracts<br>Text: ---\n\n**Signatures:**\n\n_________________________________\n**Jennifer Rodriguez**\n**Title**: Chief Exec...",
          "Type: contracts<br>Text: # Contract with WellCare Insurance Co. for Healthllm\n\n**Contract Date:** March 8, 2025\n**Contract Nu...",
          "Type: contracts<br>Text: 4. **Member Coverage**: Essential Tier supports health insurance administration for up to 15,000 cov...",
          "Type: contracts<br>Text: ---\n\n## Features\n\nWellCare Insurance Co. will receive the following Essential Tier features:\n\n1. **I...",
          "Type: contracts<br>Text: 3. **AI-Driven Claims Adjudication:** Automated claims processing:\n   - Machine learning-based claim...",
          "Type: contracts<br>Text: 6. **Basic Medication Management:**\n   - Formulary management tools\n   - Prior authorization workflo...",
          "Type: contracts<br>Text: ---\n\n## Support\n\nInsurellm commits to providing comprehensive support to WellCare Insurance Co.:\n\n1....",
          "Type: contracts<br>Text: 4. **Account Management:**\n   - Named customer success manager\n   - Quarterly business review meetin...",
          "Type: contracts<br>Text: ---\n\n**Signatures:**\n\n_________________________________\n**Sarah Chen**\n**Title**: Vice President of ...",
          "Type: contracts<br>Text: # Contract with Fortress Business Underwriters for Bizllm\n\n---\n\n## Terms\n\n1. **Agreement Effective D...",
          "Type: contracts<br>Text: ---\n\n## Renewal\n\n1. **Automatic Renewal**: This agreement will automatically renew for an additional...",
          "Type: contracts<br>Text: ---\n\n## Features\n\n1. **Access to Professional Tier Features**: Fortress Business Underwriters will h...",
          "Type: contracts<br>Text: 2. **Advanced Analytics**: Access to enhanced reporting capabilities including loss ratio analysis, ...",
          "Type: contracts<br>Text: 2. **Training**: Insurellm will provide:\n   - Initial comprehensive onboarding (40 hours) for up to ...",
          "Type: contracts<br>Text: ---\n\n**Signatures:**\n\n_________________________________\n**Michael Torres**\n**Title**: Chief Revenue ...",
          "Type: contracts<br>Text: # Contract with GreenValley Insurance for Homellm\n\n**Contract Date:** October 6, 2023  \n**Contract N...",
          "Type: contracts<br>Text: 4. **Confidentiality:** Both parties agree to maintain the confidentiality of proprietary informatio...",
          "Type: contracts<br>Text: 1. **AI-Powered Risk Assessment:** Access to advanced AI algorithms for real-time risk evaluations.\n...",
          "Type: contracts<br>Text: 3. **Regular Updates:** Insurellm will offer ongoing updates and enhancements to the Homellm platfor...",
          "Type: contracts<br>Text: # Contract with Evergreen Life Insurance for Lifellm\n\n**Contract Date:** January 20, 2025\n**Contract...",
          "Type: contracts<br>Text: 4. **Policy Volume:** Starter Tier supports underwriting and administration for up to 2,000 active p...",
          "Type: contracts<br>Text: ---\n\n## Features\n\nEvergreen Life Insurance will receive the following Starter Tier features:\n\n1. **A...",
          "Type: contracts<br>Text: 4. **Smart Document Processing:** OCR and NLP extraction from:\n   - Medical records and attending ph...",
          "Type: contracts<br>Text: ---\n\n## Support\n\nInsurellm commits to providing comprehensive support to Evergreen Life Insurance:\n\n...",
          "Type: contracts<br>Text: 3. **Platform Updates:**\n   - Quarterly feature releases\n   - Monthly security patches and improveme...",
          "Type: contracts<br>Text: _________________________________\n**Catherine Wu**\n**Title**: Chief Underwriting Officer\n**Evergreen...",
          "Type: contracts<br>Text: # Contract with BrightWay Solutions for Markellm\n\n**Contract Date:** October 5, 2023  \n**Contract ID...",
          "Type: contracts<br>Text: 3. **Service Level Agreement (SLA):**  \n   Insurellm commits to a 99.9% uptime for the platform with...",
          "Type: contracts<br>Text: 2. **Real-Time Quote Availability:**  \n   Consumers sourced via BrightWay Solutions will receive rea...",
          "Type: contracts<br>Text: 3. **Training and Onboarding:**  \n   Insurellm agrees to provide one free training session on how to...",
          "Type: contracts<br>Text: # Contract with DriveSmart Insurance for Carllm\n\n**Contract Date:** March 20, 2025\n**Contract Number...",
          "Type: contracts<br>Text: 4. **Policy Volume**: Enterprise Tier supports unlimited policies. DriveSmart currently has 85,000 a...",
          "Type: contracts<br>Text: ---\n\n## Features\n\nDriveSmart Insurance will receive the complete Carllm Enterprise suite:\n\n1. **Unli...",
          "Type: contracts<br>Text: 4. **Instant Quoting Engine:** High-performance quoting:\n   - Sub-3-second quote generation\n   - Rea...",
          "Type: contracts<br>Text: 6. **Advanced Fraud Detection:** Comprehensive fraud prevention:\n   - Application fraud detection (i...",
          "Type: contracts<br>Text: 8. **Telematics Integration:** Complete telematics platform:\n   - Device-agnostic integration (OBD-I...",
          "Type: contracts<br>Text: 10. **Multi-State Operations:** Comprehensive state support:\n    - State-specific forms and endorsem...",
          "Type: contracts<br>Text: 3. **Implementation:**\n   - 6-month phased implementation\n   - Dedicated project manager\n   - Migrat...",
          "Type: contracts<br>Text: 6. **Integration Services:**\n   - Integration with DriveSmart's systems:\n     - Duck Creek policy ad...",
          "Type: contracts<br>Text: ---\n\n**Signatures:**\n\n_________________________________\n**Jennifer Rodriguez**\n**Title**: Chief Exec...",
          "Type: contracts<br>Text: # Contract with SafeHaven Property Insurance for Homellm\n\n**Contract Date:** May 3, 2025\n**Contract ...",
          "Type: contracts<br>Text: 4. **Policy Volume**: Enterprise Tier supports unlimited policies. SafeHaven currently has 45,000 ac...",
          "Type: contracts<br>Text: ---\n\n## Features\n\nSafeHaven Property Insurance will receive the complete Homellm Enterprise suite:\n\n...",
          "Type: contracts<br>Text: 3. **Advanced AI Risk Assessment:** Enterprise-grade property risk analysis:\n   - Aerial imagery ana...",
          "Type: contracts<br>Text: 5. **Instant Claims Processing:** Advanced claims automation:\n   - AI-driven FNOL with photo/video u...",
          "Type: contracts<br>Text: 7. **Multi-Channel Integration:** Unified platform:\n   - Agent portal for 1,500+ independent agents\n...",
          "Type: contracts<br>Text: 9. **IoT Device Integration:** Smart home platform:\n   - Water leak detection systems (Flo by Moen, ...",
          "Type: contracts<br>Text: 11. **Multi-State Operations:** Comprehensive support:\n    - State-specific forms and endorsements f...",
          "Type: contracts<br>Text: ---\n\n## Support\n\nInsurellm commits to comprehensive Enterprise-level support for SafeHaven Property ...",
          "Type: contracts<br>Text: 3. **Comprehensive Implementation:**\n   - 8-month phased implementation program\n   - Dedicated proje...",
          "Type: contracts<br>Text: 5. **Custom Development:**\n   - 1,200 hours annually of custom development\n   - Dedicated developmen...",
          "Type: contracts<br>Text: 7. **Analytics and Reporting:**\n   - Custom dashboard development (up to 20 dashboards)\n   - Real-ti...",
          "Type: contracts<br>Text: 9. **Catastrophe Response:**\n   - Dedicated CAT support during disaster events\n   - Pre-CAT system p...",
          "Type: contracts<br>Text: _________________________________\n**Laura Mitchell**\n**Title**: President & Chief Executive Officer\n...",
          "Type: contracts<br>Text: # Contract with Pinnacle Insurance Co. for Homellm\n\n## Terms\nThis contract (\"Contract\") is entered i...",
          "Type: contracts<br>Text: ## Renewal\n1. **Renewal Terms**: At the end of the initial term, this Contract shall automatically r...",
          "Type: contracts<br>Text: ## Features\n1. **AI-Powered Risk Assessment**: Utilized for tailored underwriting decisions specific...",
          "Type: contracts<br>Text: ## Support\n1. **Technical Support**: Insurellm shall provide 24/7 technical support via an email and...",
          "Type: contracts<br>Text: # Contract with Apex Reinsurance for Rellm: AI-Powered Enterprise Reinsurance Solution\n\n## Terms\n\n1....",
          "Type: contracts<br>Text: ## Renewal\n\n1. **Automatic Renewal**: This Agreement will automatically renew for successive one-yea...",
          "Type: contracts<br>Text: 2. **Seamless Integrations**: The architecture of Rellm allows for easy integration with existing sy...",
          "Type: contracts<br>Text: 1. **Technical Support**: Provider shall offer dedicated technical support to the Client via phone, ...",
          "Type: contracts<br>Text: **Insurellm, Inc.**  \n_____________________________  \nAuthorized Signature   \nDate: ________________...",
          "Type: contracts<br>Text: # Contract with Advantage Medical Coverage for Healthllm\n\n**Contract Date:** April 18, 2025\n**Contra...",
          "Type: contracts<br>Text: 4. **Member Coverage**: Professional Tier supports up to 50,000 covered members. Advantage currently...",
          "Type: contracts<br>Text: 2. **Pricing Review**: Renewal pricing will be discussed 75 days prior to term end and mutually agre...",
          "Type: contracts<br>Text: 2. **Value-Based Care Support:**\n   - ACO performance tracking and shared savings calculation\n   - H...",
          "Type: contracts<br>Text: 2. **Training**: Comprehensive training program:\n   - 5-week implementation with project manager\n   ...",
          "Type: contracts<br>Text: ---\n\n**Signatures:**\n\n**Insurellm, Inc.**\nSarah Chen, VP of Sales\nDate: April 18, 2025\n\n**Advantage ...",
          "Type: contracts<br>Text: # Contract with Summit Commercial Insurance for Bizllm\n\n**Contract Date:** March 15, 2025\n**Contract...",
          "Type: contracts<br>Text: 3. **Payment:** Summit Commercial Insurance shall pay a monthly fee of $6,000, due by the 1st of eve...",
          "Type: contracts<br>Text: 6. **Data Security:** Insurellm commits to maintaining industry-standard encryption and security pro...",
          "Type: contracts<br>Text: 2. **Business Intelligence Integration:** Automated data gathering from business registries, financi...",
          "Type: contracts<br>Text: ---\n\n## Support\n\nInsurellm commits to providing comprehensive support to Summit Commercial Insurance...",
          "Type: contracts<br>Text: 5. **Performance Reviews:** Quarterly business reviews to assess platform utilization, identify opti...",
          "Type: company<br>Text: # Overview of Insurellm\n\nInsurellm is an innovative insurance tech firm with 32 employees operating ...",
          "Type: company<br>Text: ### Marketplace & Infrastructure\n- **Markellm** - Marketplace connecting consumers with insurance pr...",
          "Type: company<br>Text: ## Client Portfolio Breakdown\n\nInsurellm's 32 active contracts span the full spectrum of insurance t...",
          "Type: company<br>Text: **Insurance Marketplace (Markellm)**: 2 contracts with agencies and brokers leveraging the consumer-...",
          "Type: company<br>Text: # Careers at Insurellm\n\n## Why Join Insurellm?\n\nAt Insurellm, we're not just building software—we're...",
          "Type: company<br>Text: ### Our Culture\n\nWe live by our core values every day:\n- **Innovation First**: We encourage experime...",
          "Type: company<br>Text: ## Current Opportunities\n\n### Engineering\n\n**Senior Full Stack Engineer** - San Francisco, CA\n- Lead...",
          "Type: company<br>Text: **DevOps Engineer** - New York, NY\n- Manage cloud infrastructure (AWS/GCP)\n- Implement CI/CD pipelin...",
          "Type: company<br>Text: **Data Engineer** - Austin, TX\n- Design and maintain data pipelines\n- Build data warehousing solutio...",
          "Type: company<br>Text: ### Sales & Customer Success\n\n**Account Executive** - New York, NY / Chicago, IL / Austin, TX\n- Mana...",
          "Type: company<br>Text: ### Operations & Support\n\n**Technical Support Specialist** - Remote\n- Provide tier 2/3 technical sup...",
          "Type: company<br>Text: # Insurellm Culture\n\n## Vision Statement\nTo revolutionize the insurance industry through innovative ...",
          "Type: company<br>Text: ### Customer Obsession\nOur clients' success is our success. We deeply understand our customers' need...",
          "Type: company<br>Text: ## Employer Value Proposition\n\n**Build the Future of Insurance Technology with Elite Talent**\n\nAt In...",
          "Type: company<br>Text: - **Meaningful Impact**: Your work directly shapes products powering 32 active insurance operations,...",
          "Type: company<br>Text: # About Insurellm\n\nInsurellm was founded by Avery Lancaster in 2015 as an insurance tech startup des...",
          "Type: company<br>Text: However, the company underwent a strategic restructuring in 2022-2023 to focus on profitability and ...",
          "Type: company<br>Text: - **Bizllm** quickly gained traction with 7 commercial insurance contracts, including regional carri...",
          "Type: employees<br>Text: # HR Record\n\n# David Kim\n\n## Summary\n- **Date of Birth:** September 22, 1992\n- **Job Title:** DevOps...",
          "Type: employees<br>Text: - **June 2017 - February 2019:** Systems Administrator at CloudFirst Solutions\n  - Maintained Linux ...",
          "Type: employees<br>Text: ## Other HR Notes\n- **Certifications:** AWS Certified Solutions Architect (2022), Certified Kubernet...",
          "Type: employees<br>Text: # HR Record\n\n# Nina Patel\n\n## Summary\n- **Date of Birth:** July 25, 1991\n- **Job Title:** Business I...",
          "Type: employees<br>Text: - **May 2017 - July 2019:** Data Analyst at RetailMetrics Inc.\n  - Analyzed retail sales data and cu...",
          "Type: employees<br>Text: - **2019:** Rating: 3.9/5\n  *Good onboarding year. Quick to adapt to Insurellm's data systems.*\n\n## ...",
          "Type: employees<br>Text: # HR Record\n\n# Priya Sharma\n\n## Summary\n- **Date of Birth:** January 8, 1986\n- **Job Title:** Senior...",
          "Type: employees<br>Text: - **August 2012 - May 2015:** Research Scientist at UC Berkeley AI Lab\n  - Conducted research in mac...",
          "Type: employees<br>Text: - **2019:** Rating: 4.6/5\n  *Excellent contributions to fraud detection systems. Recognized for thou...",
          "Type: employees<br>Text: ## Other HR Notes\n- **Education:** PhD in Computer Science (Machine Learning) from Stanford Universi...",
          "Type: employees<br>Text: # HR Record\n\n# Alex Chen\n\n## Summary\n- **Date of Birth:** March 15, 1990\n- **Job Title:** Backend So...",
          "Type: employees<br>Text: ## Annual Performance History\n- **2020:**  \n  - Completed onboarding successfully.  \n  - Met expecta...",
          "Type: employees<br>Text: ## Compensation History\n- **2020:** Base Salary: $80,000  \n- **2021:** Base Salary Increase to $90,0...",
          "Type: employees<br>Text: Alex Chen continues to be a vital asset at Insurellm, contributing significantly to innovative backe...",
          "Type: employees<br>Text: # HR Record\n\n# Robert Chen\n\n## Summary\n- **Date of Birth:** February 28, 1983\n- **Job Title:** Senio...",
          "Type: employees<br>Text: - **August 2008 - May 2012:** Software Engineer at TechStartup\n  - Developed features for SaaS platf...",
          "Type: employees<br>Text: - **2019:** Rating: 4.5/5\n  *Excellent year with successful Homellm rewrite. Strong architectural co...",
          "Type: employees<br>Text: ## Other HR Notes\n- **Education:** MS in Computer Science from Stanford University, BS in Computer E...",
          "Type: employees<br>Text: # HR Record\n\n# Oliver Spencer\n\n## Summary\n- **Date of Birth**: May 14, 1990\n- **Job Title**: Backend...",
          "Type: employees<br>Text: ## Annual Performance History\n- **2018**: **3/5** - Adaptable team player but still learning to take...",
          "Type: employees<br>Text: ## Compensation History\n- **March 2018**: Initial salary of $80,000.\n- **July 2019**: Salary increas...",
          "Type: employees<br>Text: # HR Record\n\n# Amanda Foster\n\n## Summary\n- **Date of Birth:** August 14, 1982\n- **Job Title:** HR Bu...",
          "Type: employees<br>Text: - **June 2009 - February 2013:** HR Coordinator at Enterprise Corp.\n  - Supported recruiting and onb...",
          "Type: employees<br>Text: - **2019:** Rating: 4.2/5\n  *Strong year. Improved hiring velocity for engineering roles by 35%. Bui...",
          "Type: employees<br>Text: ## Other HR Notes\n- **Education:** MS in Human Resources Management from Cornell University, BA in P...",
          "Type: employees<br>Text: # HR Record\n\n# Emily Tran\n\n## Summary\n- **Date of Birth:** March 18, 1991\n- **Job Title:** Digital M...",
          "Type: employees<br>Text: - **January 2017 - May 2018**: Marketing Intern  \n  - Supported the Marketing team by collaborating ...",
          "Type: employees<br>Text: - **2021**:  \n  - Performance Rating: Meets Expectations  \n  - Key Achievements: Contributed to the ...",
          "Type: employees<br>Text: - **Professional Development Goals**:  \n  - Emily Tran aims to become a Marketing Manager within the...",
          "Type: employees<br>Text: # HR Record\n\n# Jordan Blake\n\n## Summary\n- **Date of Birth:** March 15, 1993\n- **Job Title:** Sales D...",
          "Type: employees<br>Text: ## Annual Performance History\n- **2021:** First year at Insurellm; achieved 90% of monthly targets. ...",
          "Type: employees<br>Text: ## Other HR Notes\n- Jordan has shown an interest in continuing education, actively participating in ...",
          "Type: employees<br>Text: # HR Record\n\n# Kevin Zhang\n\n## Summary\n- **Date of Birth:** March 27, 1990\n- **Job Title:** Mobile D...",
          "Type: employees<br>Text: - **July 2015 - January 2018:** Junior Mobile Developer at StartupTech\n  - Built mobile features for...",
          "Type: employees<br>Text: ## Other HR Notes\n- **Education:** BS in Computer Science from UC Berkeley\n- **Skills:** Expert in S...",
          "Type: employees<br>Text: # HR Record\n\n# Maya Thompson\n\n## Summary\n- **Date of Birth:** June 14, 1993\n- **Job Title:** Data En...",
          "Type: employees<br>Text: ## Annual Performance History\n- **2023:** Rating: 4.3/5\n  *Strong performance. Delivered critical da...",
          "Type: employees<br>Text: ## Compensation History\n- **2023:** Base Salary: $110,000 + Bonus: $12,000\n- **2022:** Base Salary: ...",
          "Type: employees<br>Text: # HR Record\n\n# Jennifer Adams\n\n## Summary\n- **Date of Birth:** July 7, 1997\n- **Job Title:** Sales D...",
          "Type: employees<br>Text: - **August 2019 - May 2022:** Customer Service Representative at RetailCo\n  - Handled customer inqui...",
          "Type: employees<br>Text: ## Compensation History\n- **2023:** Base Salary: $58,000 + Commission: $4,200\n- **2022:** Intern Sti...",
          "Type: employees<br>Text: # HR Record\n\n# Jessica Liu\n\n## Summary\n- **Date of Birth:** April 30, 1996\n- **Job Title:** Frontend...",
          "Type: employees<br>Text: - **June 2018 - December 2019:** Web Developer Intern at StartupLabs\n  - Created landing pages and m...",
          "Type: employees<br>Text: ## Other HR Notes\n- **Education:** BS in Computer Science from University of Manchester\n- **Skills:*...",
          "Type: employees<br>Text: # Avery Lancaster\n\n## Summary\n- **Date of Birth**: March 15, 1985\n- **Job Title**: Co-Founder & Chie...",
          "Type: employees<br>Text: - **2010 - 2013**: Business Analyst at Edge Analytics  \n  Prior to joining Innovate, Avery worked as...",
          "Type: employees<br>Text: - **2018**: **Exceeds Expectations**  \n  Under Avery’s pivoted vision, Insurellm launched two new su...",
          "Type: employees<br>Text: - **2022**: **Satisfactory**  \n  Avery focused on rebuilding team dynamics and addressing employee c...",
          "Type: employees<br>Text: ## Compensation History\n- **2015**: $150,000 base salary + Significant equity stake  \n- **2016**: $1...",
          "Type: employees<br>Text: ## Other HR Notes\n- **Professional Development**: Avery has actively participated in leadership trai...",
          "Type: employees<br>Text: # HR Record\n\n# Maxine Thompson\n\n## Summary\n- **Date of Birth:** January 15, 1991\n- **Job Title:** Da...",
          "Type: employees<br>Text: ## Insurellm Career Progression\n- **January 2017 - October 2018**: **Junior Data Engineer**  \n  * Ma...",
          "Type: employees<br>Text: - **January 2021 - Present**: **Senior Data Engineer**  \n  * Maxine was promoted to Senior Data Engi...",
          "Type: employees<br>Text: ## Annual Performance History\n- **2017**: *Meets Expectations*  \n  Maxine showed potential in her ro...",
          "Type: employees<br>Text: - **2021**: *Exceeds Expectations*  \n  Maxine spearheaded the transition to a new data warehousing s...",
          "Type: employees<br>Text: ## Compensation History\n- **2017**: $70,000 (Junior Data Engineer)  \n- **2018**: $75,000 (Junior Dat...",
          "Type: employees<br>Text: # HR Record\n\n# Daniel Park\n\n## Summary\n- **Date of Birth:** October 3, 1991\n- **Job Title:** QA Engi...",
          "Type: employees<br>Text: ## Annual Performance History\n- **2023:** Rating: 4.2/5\n  *Strong performance. Expanded test automat...",
          "Type: employees<br>Text: ## Other HR Notes\n- **Education:** BS in Computer Science from Texas State University\n- **Certificat...",
          "Type: employees<br>Text: # Samantha Greene\n\n## Summary\n- **Date of Birth:** October 14, 1990\n- **Job Title:** HR Generalist\n-...",
          "Type: employees<br>Text: ## Annual Performance History\n- **2020:** Exceeds Expectations  \n  Samantha Greene demonstrated exce...",
          "Type: employees<br>Text: ## Compensation History\n- **2020:** Base Salary - $55,000  \n  The entry-level salary matched industr...",
          "Type: employees<br>Text: - **2023:** Base Salary - $70,000  \n  Recognized for substantial improvement in employee relations m...",
          "Type: employees<br>Text: # HR Record\n\n# Marcus Johnson\n\n## Summary\n- **Date of Birth:** February 17, 1988\n- **Job Title:** Cu...",
          "Type: employees<br>Text: - **January 2016 - August 2018:** Account Manager at SaaS Solutions Inc.\n  - Managed B2B client rela...",
          "Type: employees<br>Text: - **2020:** Rating: 4.0/5\n  *Good transition to CSM role. Quickly built rapport with enterprise clie...",
          "Type: employees<br>Text: # HR Record\n\n# Alex Thomson\n\n## Summary\n- **Date of Birth:** March 15, 1995\n- **Job Title:** Sales D...",
          "Type: employees<br>Text: ## Annual Performance History  \n- **2022** - Rated as \"Exceeds Expectations.\" Alex Thomson achieved ...",
          "Type: employees<br>Text: ## Other HR Notes\n- Alex Thomson is an active member of the Diversity and Inclusion committee at Ins...",
          "Type: employees<br>Text: # HR Record\n\n# Michael O'Brien\n\n## Summary\n- **Date of Birth:** May 20, 1984\n- **Job Title:** Accoun...",
          "Type: employees<br>Text: - **August 2010 - May 2014:** Sales Representative at Business Solutions Inc.\n  - B2B software sales...",
          "Type: employees<br>Text: - **2019:** Rating: 4.2/5\n  *Strong performance at 125% quota attainment. Expanded territory success...",
          "Type: employees<br>Text: ## Other HR Notes\n- **Education:** BA in Business from University of Illinois\n- **Awards:** Sales Ex...",
          "Type: employees<br>Text: # HR Record\n\n# Rachel Martinez\n\n## Summary\n- **Date of Birth:** June 8, 1987\n- **Job Title:** Produc...",
          "Type: employees<br>Text: ## Annual Performance History\n- **2023:** Rating: 4.6/5\n  *Exceptional year with successful launch o...",
          "Type: employees<br>Text: - **2019:** Rating: 4.0/5\n  *Strong start as Product Manager. Successfully transitioned from APM rol...",
          "Type: employees<br>Text: ## Other HR Notes\n- **Professional Development:** Completed Product Leadership Certification from Pr...",
          "Type: employees<br>Text: # HR Record\n\n# Sarah Williams\n\n## Summary\n- **Date of Birth:** November 3, 1994\n- **Job Title:** UX ...",
          "Type: employees<br>Text: - **August 2018 - May 2020:** UI/UX Designer at StartupHub Inc.\n  - Designed mobile and web interfac...",
          "Type: employees<br>Text: ## Other HR Notes\n- **Education:** BFA in Graphic Design from Rhode Island School of Design\n- **Skil...",
          "Type: employees<br>Text: # HR Record\n\n# Michelle Rivera\n\n## Summary\n- **Date of Birth:** December 16, 1988\n- **Job Title:** P...",
          "Type: employees<br>Text: - **May 2013 - July 2016:** UX Designer at CreativeAgency\n  - Created user interfaces for consumer a...",
          "Type: employees<br>Text: - **2019:** Rating: 4.0/5\n  *Solid first year at Insurellm. Quick to learn complex insurance domain ...",
          "Type: employees<br>Text: ## Other HR Notes\n- **Education:** MFA in Interaction Design from School of Visual Arts, BFA in Grap...",
          "Type: employees<br>Text: # HR Record\n\n# Samuel Trenton\n\n## Summary\n- **Date of Birth:** April 12, 1989\n- **Job Title:** Senio...",
          "Type: employees<br>Text: - **August 2016 - May 2018:** Junior Data Analyst  \n  *Started at Insurellm as a Junior Data Analyst...",
          "Type: employees<br>Text: - **2021:** Rating: 4.0/5  \n  *There was notable improvement in performance. Worked to enhance model...",
          "Type: employees<br>Text: - **2020:** Base Salary: $100,000 + Bonus: $8,000  \n  *Initial compensation as Senior Data Scientist...",
          "Type: employees<br>Text: # HR Record\n\n# Lisa Anderson\n\n## Summary\n- **Date of Birth:** November 18, 1985\n- **Job Title:** Mar...",
          "Type: employees<br>Text: - **June 2012 - December 2015:** Marketing Coordinator at Enterprise Solutions\n  - Supported marketi...",
          "Type: employees<br>Text: - **2019:** Rating: 4.0/5\n  *Strong start as Marketing Manager. Quick to understand insurance tech m...",
          "Type: employees<br>Text: ## Other HR Notes\n- **Education:** MBA in Marketing from University of Texas at Austin, BA in Commun...",
          "Type: employees<br>Text: # HR Record\n\n# Alex Harper\n\n## Summary\n- **Date of Birth**: March 15, 1993\n- **Job Title**: Sales De...",
          "Type: employees<br>Text: ## Annual Performance History  \n- **2021**:  \n  - **Performance Rating**: 4.5/5  \n  - **Key Achievem...",
          "Type: employees<br>Text: - **2022**:  \n  - **Base Salary**: $65,000 (Promotion to Senior SDR)  \n  - **Bonus**: $13,000 (20% o...",
          "Type: employees<br>Text: # HR Record\n\n# Carlos Rodriguez\n\n## Summary\n- **Date of Birth:** October 12, 1989\n- **Job Title:** S...",
          "Type: employees<br>Text: - **January 2015 - February 2017:** Application Developer at FinTech Systems\n  - Developed financial...",
          "Type: employees<br>Text: - **2019:** Rating: 4.1/5\n  *Strong start as Solutions Engineer. Quick learner with excellent techni...",
          "Type: employees<br>Text: ## Other HR Notes\n- **Education:** MS in Computer Science from University of Florida\n- **Certificati...",
          "Type: employees<br>Text: # HR Record\n\n# James Wilson\n\n## Summary\n- **Date of Birth:** April 5, 1978\n- **Job Title:** Chief Te...",
          "Type: employees<br>Text: - **June 2008 - February 2012:** Senior Engineering Manager at CloudSoft Corp.\n  - Managed multiple ...",
          "Type: employees<br>Text: - **2021:** Rating: 4.6/5\n  *Excellent performance navigating remote transition. Built strong engine...",
          "Type: employees<br>Text: - **2017:** Rating: 4.3/5\n  *Strong start as CTO. Quickly assessed technical landscape and began str...",
          "Type: employees<br>Text: ## Other HR Notes\n- **Education:** MS in Computer Science from MIT, BS in Computer Engineering from ...",
          "Type: employees<br>Text: # HR Record\n\n# Jordan K. Bishop\n\n## Summary\n- **Date of Birth:** March 15, 1990\n- **Job Title:** Fro...",
          "Type: employees<br>Text: ## Annual Performance History\n- **2019:** Exceeds Expectations - Continuously delivered high-quality...",
          "Type: employees<br>Text: ## Compensation History\n- **June 2018:** Starting Salary - $85,000\n- **June 2019:** Salary Increase ...",
          "Type: employees<br>Text: ## Other HR Notes\n- Jordan K. Bishop has been an integral part of club initiatives, including the In...",
          "Type: employees<br>Text: # HR Record\n\n# Emily Carter\n\n## Summary\n- **Date of Birth:** August 12, 1990\n- **Job Title:** Accoun...",
          "Type: employees<br>Text: - **2017-2019:** Marketing Intern  \n  - Assisted with market research and campaign development for s...",
          "Type: employees<br>Text: ## Compensation History\n| Year | Base Salary | Bonus         | Total Compensation |\n|------|--------...",
          "Type: employees<br>Text: Emily Carter exemplifies the kind of talent that drives Insurellm's success and is an invaluable ass...",
          "Type: employees<br>Text: # HR Record\n\n# Tyler Brooks\n\n## Summary\n- **Date of Birth:** September 9, 1998\n- **Job Title:** Juni...",
          "Type: employees<br>Text: - **2022:** Rating: 3.5/5\n  *Adequate performance for a junior developer. Good learning attitude but...",
          "Type: employees<br>Text: ## Compensation History\n- **2023:** Base Salary: $75,000 + Bonus: $2,000\n- **2022:** Base Salary: $7...",
          "Type: employees<br>Text: # HR Record\n\n# Brandon Walker\n\n## Summary\n- **Date of Birth:** December 5, 1993\n- **Job Title:** Tec...",
          "Type: employees<br>Text: - **January 2018 - April 2019:** IT Help Desk Technician at Regional Bank\n  - Provided internal IT s...",
          "Type: employees<br>Text: ## Other HR Notes\n- **Education:** Associate Degree in Information Technology from Phoenix Community..."
         ],
         "type": "scatter",
         "x": {
          "bdata": "jDqdwBt2sMCrxKvA1JL3wHBYrz52VjLANJnTwa+4z8FBqNbBBgxHwTv8AsGcfMG/w0EfwEnEecEwfovBvmaAwXyDOMEOpwfBos7PvwQxh8AcyFXBxV9Hwc04MsEGXg3ByZikP7xsaMD+c83B4XnQwcx7N8HYxwrBjrMOQOOXBsC9lxXAwBovwAThb8AzyiTAW2ufwM9udsFhqmbBRN0uwb+fGcFc4rQ/yujVwBGt78CJuRbBAuQewX9TAMEXs6fAAOuxwb/8jcHsyH7AHdWOQLSHA8G5dwbBh/DYwKir48CrXUHB5z2BwcH6g8EE6G7BPs3GwR/Qu8HzuNHBjfXFweUKTsGErB3Bbg4ZwZCkP8GwpRXB4qKEwScEmcFXN1jB/48oQBocnECvuXLBfmZ+wUQ5s8FRTKTBL0ujwRXGxcAiVyO+GZroQLBDBMHYoqDB8RqAwRBpwb9fA4xAzQtQwS+ZvsEKfj7BMzIkwThcgcFWzIXBmpDRwWJg2sGC29LAZS/6vlRnZEAgPW/BDgeBwSMEcsE6F87BfqC5wbQatsGmMh3By/ArwR4Yh8GCEBJAzeNqwVj7d8GonnfB5uWFwQBzhcGyjELB1NH9wKLTA0DiESTBgUgowTwDg8AUCmPApl9/wUf4hsEJD63B0lq9warTysG4d73BEIq+wB7dZ8Ddn2u/T+y2QIU4PcHs6DnBXpQOwRuv/sB9embB2p2wwU88ssGnSEzAjbB3QLzAjMF60YbB36u1wa3Fy8EaydPByvkPwcsuqMDYVFU+5juAwcvVrcG1VKrBqomnwAMTkECfDZPBYdG4wTcDjMEwoGvB+ey4wBL/oLyk3o/Ak8S1wQP3yb9g3zDAyytCQAOQoMCg1b3A8/c5wfMFocGOcpzBfDe0wLwEa0BKd1jBs+F1wRebh8Gb67PB0oKuwUBlQsE9KyPB/DgMwRt1B8H9cuY/zB9YQEBiP8EszTrBpNIXwa1qCcGwc4PBIqGHwX3jjsF6BaLBq+6lwTxnmsFlZXbB/bmTweb7l8ERjizBfSgcwaXoQMENdRrBhYeKwRuKm8HsS6XBv3olQAZoTkDPzzzBluOTwb7KucGDvMvBh5pOwW3w/sCOOaa/0vewQOWik8E8FrnBPo2IwbiSgcGC2rnAURYtQFE9EcFOSRDB+GCEwTL6VL5idlzBKCCRwcodosGaikbBH+fzwLLSXb2O4txAGMkiwLaSVcH16+a/SRgDwCaqO8FKsGXBB6xpwQSenMFUcMbBAq60wcjHNcEV2QXBgWXYP5NOgUAK4RzBNQQXwY1hEsGlFKbBMT3FwQQWpsH/A7PB6RYhwd4UG8GFXgfBeroBwa99oME9B1tArP3UP3I7B8ELrLTBfCyIwT/dD8BVvAfBP+8XweNlsMCjZFvAYsmDQJDYRsGyaaPBfgeowd8+vMHm4ZDAor+mQMIbXcGbfFnBJRVcwVN9hMGeUqnAglmNP6QWDkAZJQE/9gUDPymbfz/OpLFA9vX0QNoYlEGI1JNBOqaSQehqkEHJ6qNA5IanQMXa40DRVcRA5M32QKfNBEBFnO8/tguRPQsS70FvahJC43PFQU4b+0FK1P9BFI4eQoR+/kGaHu9BkMImQp3mxUHHoOlBIQfyQV3yHkK7ah1B9oXsQVmx9UHNqiJC04zKQWQt4EGiRvdBQbQgQuqYDELLvARCGBUeQsQBvUGziQpC7tYOQvF5F0J9UQ9CE6gIQoBJJUIRYctBgkHxQYo4G0KyedBBXif8QezlIkI9JRNCUWsMQitwCUIJ+Q1C95bnQTcfF0Kbis9BkXChQdkE1EFY5dFB5nPQQQy+HEIWc6NBdHn/QRIIwEHUe79BsRzoQaky30FNMARCb4XrQSb4HEKsdtBBJaccQnpI8UEk7x5CdAwdQviPA0ICNAFCMEIXQsU2CULe8xFCYeq+QemJAkL/NwJCzJQhQtIQukFuMP5BlsL5QWQ1IkI+es1BYifpQTuwF0KsktlBOdrtQX2N8UGo1yNCapvaQYODAkK+0/xBwQQXQguXCkIXMwdCCDMFQiQkJEL6T7tBKQwLQhk0FULE5A5CQbP6QTei90HYjhhCAYzGQURU90HBSvNBvYrtQX89HEIEpcVB0gTgQRPr7UHuhBRCLN/NQYDjBkIpUAhCe4kbQm9cHkEDJ+RBXYcYQpouD0JzYvxBhS0MQj37vUE=",
          "dtype": "f4"
         },
         "y": {
          "bdata": "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",
          "dtype": "f4"
         }
        }
       ],
       "layout": {
        "height": 600,
        "margin": {
         "b": 10,
         "l": 10,
         "r": 20,
         "t": 40
        },
        "scene": {
         "xaxis": {
          "title": {
           "text": "x"
          }
         },
         "yaxis": {
          "title": {
           "text": "y"
          }
         }
        },
        "template": {
         "data": {
          "bar": [
           {
            "error_x": {
             "color": "#2a3f5f"
            },
            "error_y": {
             "color": "#2a3f5f"
            },
            "marker": {
             "line": {
              "color": "#E5ECF6",
              "width": 0.5
             },
             "pattern": {
              "fillmode": "overlay",
              "size": 10,
              "solidity": 0.2
             }
            },
            "type": "bar"
           }
          ],
          "barpolar": [
           {
            "marker": {
             "line": {
              "color": "#E5ECF6",
              "width": 0.5
             },
             "pattern": {
              "fillmode": "overlay",
              "size": 10,
              "solidity": 0.2
             }
            },
            "type": "barpolar"
           }
          ],
          "carpet": [
           {
            "aaxis": {
             "endlinecolor": "#2a3f5f",
             "gridcolor": "white",
             "linecolor": "white",
             "minorgridcolor": "white",
             "startlinecolor": "#2a3f5f"
            },
            "baxis": {
             "endlinecolor": "#2a3f5f",
             "gridcolor": "white",
             "linecolor": "white",
             "minorgridcolor": "white",
             "startlinecolor": "#2a3f5f"
            },
            "type": "carpet"
           }
          ],
          "choropleth": [
           {
            "colorbar": {
             "outlinewidth": 0,
             "ticks": ""
            },
            "type": "choropleth"
           }
          ],
          "contour": [
           {
            "colorbar": {
             "outlinewidth": 0,
             "ticks": ""
            },
            "colorscale": [
             [
              0,
              "#0d0887"
             ],
             [
              0.1111111111111111,
              "#46039f"
             ],
             [
              0.2222222222222222,
              "#7201a8"
             ],
             [
              0.3333333333333333,
              "#9c179e"
             ],
             [
              0.4444444444444444,
              "#bd3786"
             ],
             [
              0.5555555555555556,
              "#d8576b"
             ],
             [
              0.6666666666666666,
              "#ed7953"
             ],
             [
              0.7777777777777778,
              "#fb9f3a"
             ],
             [
              0.8888888888888888,
              "#fdca26"
             ],
             [
              1,
              "#f0f921"
             ]
            ],
            "type": "contour"
           }
          ],
          "contourcarpet": [
           {
            "colorbar": {
             "outlinewidth": 0,
             "ticks": ""
            },
            "type": "contourcarpet"
           }
          ],
          "heatmap": [
           {
            "colorbar": {
             "outlinewidth": 0,
             "ticks": ""
            },
            "colorscale": [
             [
              0,
              "#0d0887"
             ],
             [
              0.1111111111111111,
              "#46039f"
             ],
             [
              0.2222222222222222,
              "#7201a8"
             ],
             [
              0.3333333333333333,
              "#9c179e"
             ],
             [
              0.4444444444444444,
              "#bd3786"
             ],
             [
              0.5555555555555556,
              "#d8576b"
             ],
             [
              0.6666666666666666,
              "#ed7953"
             ],
             [
              0.7777777777777778,
              "#fb9f3a"
             ],
             [
              0.8888888888888888,
              "#fdca26"
             ],
             [
              1,
              "#f0f921"
             ]
            ],
            "type": "heatmap"
           }
          ],
          "histogram": [
           {
            "marker": {
             "pattern": {
              "fillmode": "overlay",
              "size": 10,
              "solidity": 0.2
             }
            },
            "type": "histogram"
           }
          ],
          "histogram2d": [
           {
            "colorbar": {
             "outlinewidth": 0,
             "ticks": ""
            },
            "colorscale": [
             [
              0,
              "#0d0887"
             ],
             [
              0.1111111111111111,
              "#46039f"
             ],
             [
              0.2222222222222222,
              "#7201a8"
             ],
             [
              0.3333333333333333,
              "#9c179e"
             ],
             [
              0.4444444444444444,
              "#bd3786"
             ],
             [
              0.5555555555555556,
              "#d8576b"
             ],
             [
              0.6666666666666666,
              "#ed7953"
             ],
             [
              0.7777777777777778,
              "#fb9f3a"
             ],
             [
              0.8888888888888888,
              "#fdca26"
             ],
             [
              1,
              "#f0f921"
             ]
            ],
            "type": "histogram2d"
           }
          ],
          "histogram2dcontour": [
           {
            "colorbar": {
             "outlinewidth": 0,
             "ticks": ""
            },
            "colorscale": [
             [
              0,
              "#0d0887"
             ],
             [
              0.1111111111111111,
              "#46039f"
             ],
             [
              0.2222222222222222,
              "#7201a8"
             ],
             [
              0.3333333333333333,
              "#9c179e"
             ],
             [
              0.4444444444444444,
              "#bd3786"
             ],
             [
              0.5555555555555556,
              "#d8576b"
             ],
             [
              0.6666666666666666,
              "#ed7953"
             ],
             [
              0.7777777777777778,
              "#fb9f3a"
             ],
             [
              0.8888888888888888,
              "#fdca26"
             ],
             [
              1,
              "#f0f921"
             ]
            ],
            "type": "histogram2dcontour"
           }
          ],
          "mesh3d": [
           {
            "colorbar": {
             "outlinewidth": 0,
             "ticks": ""
            },
            "type": "mesh3d"
           }
          ],
          "parcoords": [
           {
            "line": {
             "colorbar": {
              "outlinewidth": 0,
              "ticks": ""
             }
            },
            "type": "parcoords"
           }
          ],
          "pie": [
           {
            "automargin": true,
            "type": "pie"
           }
          ],
          "scatter": [
           {
            "fillpattern": {
             "fillmode": "overlay",
             "size": 10,
             "solidity": 0.2
            },
            "type": "scatter"
           }
          ],
          "scatter3d": [
           {
            "line": {
             "colorbar": {
              "outlinewidth": 0,
              "ticks": ""
             }
            },
            "marker": {
             "colorbar": {
              "outlinewidth": 0,
              "ticks": ""
             }
            },
            "type": "scatter3d"
           }
          ],
          "scattercarpet": [
           {
            "marker": {
             "colorbar": {
              "outlinewidth": 0,
              "ticks": ""
             }
            },
            "type": "scattercarpet"
           }
          ],
          "scattergeo": [
           {
            "marker": {
             "colorbar": {
              "outlinewidth": 0,
              "ticks": ""
             }
            },
            "type": "scattergeo"
           }
          ],
          "scattergl": [
           {
            "marker": {
             "colorbar": {
              "outlinewidth": 0,
              "ticks": ""
             }
            },
            "type": "scattergl"
           }
          ],
          "scattermap": [
           {
            "marker": {
             "colorbar": {
              "outlinewidth": 0,
              "ticks": ""
             }
            },
            "type": "scattermap"
           }
          ],
          "scattermapbox": [
           {
            "marker": {
             "colorbar": {
              "outlinewidth": 0,
              "ticks": ""
             }
            },
            "type": "scattermapbox"
           }
          ],
          "scatterpolar": [
           {
            "marker": {
             "colorbar": {
              "outlinewidth": 0,
              "ticks": ""
             }
            },
            "type": "scatterpolar"
           }
          ],
          "scatterpolargl": [
           {
            "marker": {
             "colorbar": {
              "outlinewidth": 0,
              "ticks": ""
             }
            },
            "type": "scatterpolargl"
           }
          ],
          "scatterternary": [
           {
            "marker": {
             "colorbar": {
              "outlinewidth": 0,
              "ticks": ""
             }
            },
            "type": "scatterternary"
           }
          ],
          "surface": [
           {
            "colorbar": {
             "outlinewidth": 0,
             "ticks": ""
            },
            "colorscale": [
             [
              0,
              "#0d0887"
             ],
             [
              0.1111111111111111,
              "#46039f"
             ],
             [
              0.2222222222222222,
              "#7201a8"
             ],
             [
              0.3333333333333333,
              "#9c179e"
             ],
             [
              0.4444444444444444,
              "#bd3786"
             ],
             [
              0.5555555555555556,
              "#d8576b"
             ],
             [
              0.6666666666666666,
              "#ed7953"
             ],
             [
              0.7777777777777778,
              "#fb9f3a"
             ],
             [
              0.8888888888888888,
              "#fdca26"
             ],
             [
              1,
              "#f0f921"
             ]
            ],
            "type": "surface"
           }
          ],
          "table": [
           {
            "cells": {
             "fill": {
              "color": "#EBF0F8"
             },
             "line": {
              "color": "white"
             }
            },
            "header": {
             "fill": {
              "color": "#C8D4E3"
             },
             "line": {
              "color": "white"
             }
            },
            "type": "table"
           }
          ]
         },
         "layout": {
          "annotationdefaults": {
           "arrowcolor": "#2a3f5f",
           "arrowhead": 0,
           "arrowwidth": 1
          },
          "autotypenumbers": "strict",
          "coloraxis": {
           "colorbar": {
            "outlinewidth": 0,
            "ticks": ""
           }
          },
          "colorscale": {
           "diverging": [
            [
             0,
             "#8e0152"
            ],
            [
             0.1,
             "#c51b7d"
            ],
            [
             0.2,
             "#de77ae"
            ],
            [
             0.3,
             "#f1b6da"
            ],
            [
             0.4,
             "#fde0ef"
            ],
            [
             0.5,
             "#f7f7f7"
            ],
            [
             0.6,
             "#e6f5d0"
            ],
            [
             0.7,
             "#b8e186"
            ],
            [
             0.8,
             "#7fbc41"
            ],
            [
             0.9,
             "#4d9221"
            ],
            [
             1,
             "#276419"
            ]
           ],
           "sequential": [
            [
             0,
             "#0d0887"
            ],
            [
             0.1111111111111111,
             "#46039f"
            ],
            [
             0.2222222222222222,
             "#7201a8"
            ],
            [
             0.3333333333333333,
             "#9c179e"
            ],
            [
             0.4444444444444444,
             "#bd3786"
            ],
            [
             0.5555555555555556,
             "#d8576b"
            ],
            [
             0.6666666666666666,
             "#ed7953"
            ],
            [
             0.7777777777777778,
             "#fb9f3a"
            ],
            [
             0.8888888888888888,
             "#fdca26"
            ],
            [
             1,
             "#f0f921"
            ]
           ],
           "sequentialminus": [
            [
             0,
             "#0d0887"
            ],
            [
             0.1111111111111111,
             "#46039f"
            ],
            [
             0.2222222222222222,
             "#7201a8"
            ],
            [
             0.3333333333333333,
             "#9c179e"
            ],
            [
             0.4444444444444444,
             "#bd3786"
            ],
            [
             0.5555555555555556,
             "#d8576b"
            ],
            [
             0.6666666666666666,
             "#ed7953"
            ],
            [
             0.7777777777777778,
             "#fb9f3a"
            ],
            [
             0.8888888888888888,
             "#fdca26"
            ],
            [
             1,
             "#f0f921"
            ]
           ]
          },
          "colorway": [
           "#636efa",
           "#EF553B",
           "#00cc96",
           "#ab63fa",
           "#FFA15A",
           "#19d3f3",
           "#FF6692",
           "#B6E880",
           "#FF97FF",
           "#FECB52"
          ],
          "font": {
           "color": "#2a3f5f"
          },
          "geo": {
           "bgcolor": "white",
           "lakecolor": "white",
           "landcolor": "#E5ECF6",
           "showlakes": true,
           "showland": true,
           "subunitcolor": "white"
          },
          "hoverlabel": {
           "align": "left"
          },
          "hovermode": "closest",
          "mapbox": {
           "style": "light"
          },
          "paper_bgcolor": "white",
          "plot_bgcolor": "#E5ECF6",
          "polar": {
           "angularaxis": {
            "gridcolor": "white",
            "linecolor": "white",
            "ticks": ""
           },
           "bgcolor": "#E5ECF6",
           "radialaxis": {
            "gridcolor": "white",
            "linecolor": "white",
            "ticks": ""
           }
          },
          "scene": {
           "xaxis": {
            "backgroundcolor": "#E5ECF6",
            "gridcolor": "white",
            "gridwidth": 2,
            "linecolor": "white",
            "showbackground": true,
            "ticks": "",
            "zerolinecolor": "white"
           },
           "yaxis": {
            "backgroundcolor": "#E5ECF6",
            "gridcolor": "white",
            "gridwidth": 2,
            "linecolor": "white",
            "showbackground": true,
            "ticks": "",
            "zerolinecolor": "white"
           },
           "zaxis": {
            "backgroundcolor": "#E5ECF6",
            "gridcolor": "white",
            "gridwidth": 2,
            "linecolor": "white",
            "showbackground": true,
            "ticks": "",
            "zerolinecolor": "white"
           }
          },
          "shapedefaults": {
           "line": {
            "color": "#2a3f5f"
           }
          },
          "ternary": {
           "aaxis": {
            "gridcolor": "white",
            "linecolor": "white",
            "ticks": ""
           },
           "baxis": {
            "gridcolor": "white",
            "linecolor": "white",
            "ticks": ""
           },
           "bgcolor": "#E5ECF6",
           "caxis": {
            "gridcolor": "white",
            "linecolor": "white",
            "ticks": ""
           }
          },
          "title": {
           "x": 0.05
          },
          "xaxis": {
           "automargin": true,
           "gridcolor": "white",
           "linecolor": "white",
           "ticks": "",
           "title": {
            "standoff": 15
           },
           "zerolinecolor": "white",
           "zerolinewidth": 2
          },
          "yaxis": {
           "automargin": true,
           "gridcolor": "white",
           "linecolor": "white",
           "ticks": "",
           "title": {
            "standoff": 15
           },
           "zerolinecolor": "white",
           "zerolinewidth": 2
          }
         }
        },
        "title": {
         "text": "2D Chroma Vector Store Visualization"
        },
        "width": 800
       }
      }
     },
     "metadata": {},
     "output_type": "display_data"
    }
   ],
   "source": [
    "# We humans find it easier to visalize things in 2D!\n",
    "# Reduce the dimensionality of the vectors to 2D using t-SNE\n",
    "# (t-distributed stochastic neighbor embedding)\n",
    "\n",
    "tsne = TSNE(n_components=2, random_state=42)\n",
    "reduced_vectors = tsne.fit_transform(vectors)\n",
    "\n",
    "# Create the 2D scatter plot\n",
    "fig = go.Figure(data=[go.Scatter(\n",
    "    x=reduced_vectors[:, 0],\n",
    "    y=reduced_vectors[:, 1],\n",
    "    mode='markers',\n",
    "    marker=dict(size=5, color=colors, opacity=0.8),\n",
    "    text=[f\"Type: {t}<br>Text: {d[:100]}...\" for t, d in zip(doc_types, documents)],\n",
    "    hoverinfo='text'\n",
    ")])\n",
    "\n",
    "fig.update_layout(\n",
    "    title='2D Chroma Vector Store Visualization',\n",
    "    scene=dict(xaxis_title='x',yaxis_title='y'),\n",
    "    width=800,\n",
    "    height=600,\n",
    "    margin=dict(r=20, b=10, l=10, t=40)\n",
    ")\n",
    "\n",
    "fig.show()"
   ]
  },
  {
   "cell_type": "code",
   "execution_count": 12,
   "metadata": {},
   "outputs": [
    {
     "data": {
      "application/vnd.plotly.v1+json": {
       "config": {
        "plotlyServerURL": "https://plot.ly"
       },
       "data": [
        {
         "hoverinfo": "text",
         "marker": {
          "color": [
           "blue",
           "blue",
           "blue",
           "blue",
           "blue",
           "blue",
           "blue",
           "blue",
           "blue",
           "blue",
           "blue",
           "blue",
           "blue",
           "blue",
           "blue",
           "blue",
           "blue",
           "blue",
           "blue",
           "blue",
           "blue",
           "blue",
           "blue",
           "blue",
           "blue",
           "blue",
           "blue",
           "blue",
           "blue",
           "blue",
           "blue",
           "blue",
           "blue",
           "blue",
           "blue",
           "blue",
           "blue",
           "blue",
           "blue",
           "blue",
           "blue",
           "blue",
           "blue",
           "blue",
           "blue",
           "blue",
           "blue",
           "red",
           "red",
           "red",
           "red",
           "red",
           "red",
           "red",
           "red",
           "red",
           "red",
           "red",
           "red",
           "red",
           "red",
           "red",
           "red",
           "red",
           "red",
           "red",
           "red",
           "red",
           "red",
           "red",
           "red",
           "red",
           "red",
           "red",
           "red",
           "red",
           "red",
           "red",
           "red",
           "red",
           "red",
           "red",
           "red",
           "red",
           "red",
           "red",
           "red",
           "red",
           "red",
           "red",
           "red",
           "red",
           "red",
           "red",
           "red",
           "red",
           "red",
           "red",
           "red",
           "red",
           "red",
           "red",
           "red",
           "red",
           "red",
           "red",
           "red",
           "red",
           "red",
           "red",
           "red",
           "red",
           "red",
           "red",
           "red",
           "red",
           "red",
           "red",
           "red",
           "red",
           "red",
           "red",
           "red",
           "red",
           "red",
           "red",
           "red",
           "red",
           "red",
           "red",
           "red",
           "red",
           "red",
           "red",
           "red",
           "red",
           "red",
           "red",
           "red",
           "red",
           "red",
           "red",
           "red",
           "red",
           "red",
           "red",
           "red",
           "red",
           "red",
           "red",
           "red",
           "red",
           "red",
           "red",
           "red",
           "red",
           "red",
           "red",
           "red",
           "red",
           "red",
           "red",
           "red",
           "red",
           "red",
           "red",
           "red",
           "red",
           "red",
           "red",
           "red",
           "red",
           "red",
           "red",
           "red",
           "red",
           "red",
           "red",
           "red",
           "red",
           "red",
           "red",
           "red",
           "red",
           "red",
           "red",
           "red",
           "red",
           "red",
           "red",
           "red",
           "red",
           "red",
           "red",
           "red",
           "red",
           "red",
           "red",
           "red",
           "red",
           "red",
           "red",
           "red",
           "red",
           "red",
           "red",
           "red",
           "red",
           "red",
           "red",
           "red",
           "red",
           "red",
           "red",
           "red",
           "red",
           "red",
           "red",
           "red",
           "red",
           "red",
           "red",
           "red",
           "red",
           "red",
           "red",
           "red",
           "red",
           "red",
           "red",
           "red",
           "red",
           "red",
           "red",
           "red",
           "red",
           "red",
           "red",
           "red",
           "red",
           "red",
           "red",
           "red",
           "red",
           "red",
           "red",
           "red",
           "red",
           "red",
           "red",
           "red",
           "red",
           "red",
           "red",
           "red",
           "red",
           "red",
           "red",
           "red",
           "red",
           "red",
           "red",
           "red",
           "red",
           "red",
           "red",
           "red",
           "red",
           "red",
           "red",
           "red",
           "red",
           "red",
           "red",
           "red",
           "red",
           "red",
           "orange",
           "orange",
           "orange",
           "orange",
           "orange",
           "orange",
           "orange",
           "orange",
           "orange",
           "orange",
           "orange",
           "orange",
           "orange",
           "orange",
           "orange",
           "orange",
           "orange",
           "orange",
           "green",
           "green",
           "green",
           "green",
           "green",
           "green",
           "green",
           "green",
           "green",
           "green",
           "green",
           "green",
           "green",
           "green",
           "green",
           "green",
           "green",
           "green",
           "green",
           "green",
           "green",
           "green",
           "green",
           "green",
           "green",
           "green",
           "green",
           "green",
           "green",
           "green",
           "green",
           "green",
           "green",
           "green",
           "green",
           "green",
           "green",
           "green",
           "green",
           "green",
           "green",
           "green",
           "green",
           "green",
           "green",
           "green",
           "green",
           "green",
           "green",
           "green",
           "green",
           "green",
           "green",
           "green",
           "green",
           "green",
           "green",
           "green",
           "green",
           "green",
           "green",
           "green",
           "green",
           "green",
           "green",
           "green",
           "green",
           "green",
           "green",
           "green",
           "green",
           "green",
           "green",
           "green",
           "green",
           "green",
           "green",
           "green",
           "green",
           "green",
           "green",
           "green",
           "green",
           "green",
           "green",
           "green",
           "green",
           "green",
           "green",
           "green",
           "green",
           "green",
           "green",
           "green",
           "green",
           "green",
           "green",
           "green",
           "green",
           "green",
           "green",
           "green",
           "green",
           "green",
           "green",
           "green",
           "green",
           "green",
           "green",
           "green",
           "green",
           "green",
           "green",
           "green",
           "green",
           "green",
           "green",
           "green"
          ],
          "opacity": 0.8,
          "size": 5
         },
         "mode": "markers",
         "text": [
          "Type: products<br>Text: # Product Summary\n\n# Rellm: AI-Powered Enterprise Reinsurance Solution\n\n## Summary\n\nRellm is an inno...",
          "Type: products<br>Text: ### Seamless Integrations\nRellm's architecture is designed for effortless integration with existing ...",
          "Type: products<br>Text: ### Regulatory Compliance Tools\nRellm includes built-in compliance tracking features to help organiz...",
          "Type: products<br>Text: Join the growing number of organizations leveraging Rellm to enhance their reinsurance processes whi...",
          "Type: products<br>Text: Experience the future of reinsurance with Rellm, where innovation meets reliability. Let Insurellm h...",
          "Type: products<br>Text: # Product Summary\n\n# Claimllm\n\n## Summary\n\nClaimllm is Insurellm's revolutionary claims processing p...",
          "Type: products<br>Text: ## Features\n\n### 1. Intelligent FNOL Processing\nClaimllm's AI-powered first notice of loss intake ca...",
          "Type: products<br>Text: ### 4. Predictive Fraud Detection\nSophisticated fraud analytics evaluate claims against historical p...",
          "Type: products<br>Text: ### 7. Vendor Management Platform\nIntegrated tools coordinate with repair shops, medical providers, ...",
          "Type: products<br>Text: ### 10. Analytics and Reporting\nComprehensive dashboards track key metrics including cycle time, los...",
          "Type: products<br>Text: All tiers include comprehensive implementation, claims staff training, and continuous platform enhan...",
          "Type: products<br>Text: Claimllm represents the future of insurance claims—faster, smarter, and more customer-centric. Trans...",
          "Type: products<br>Text: # Product Summary\n\n# Bizllm\n\n## Summary\n\nBizllm is Insurellm's enterprise-grade commercial insurance...",
          "Type: products<br>Text: ## Features\n\n### 1. Multi-Line Underwriting Engine\nBizllm's sophisticated underwriting platform hand...",
          "Type: products<br>Text: ### 4. Workers' Compensation Optimization\nIntegrated workers' comp tools analyze payroll data, indus...",
          "Type: products<br>Text: ### 7. Portfolio Management Dashboard\nComprehensive analytics provide insurers with portfolio-level ...",
          "Type: products<br>Text: ## Pricing\n\nBizllm's pricing structure reflects the complexity and value of commercial insurance ope...",
          "Type: products<br>Text: All tiers include implementation services, staff training, and continuous platform updates.\n\n## Road...",
          "Type: products<br>Text: Bizllm empowers commercial insurers to compete effectively in complex markets while delivering the d...",
          "Type: products<br>Text: # Product Summary\n\n# Lifellm\n\n## Summary\n\nLifellm is an advanced life insurance platform developed b...",
          "Type: products<br>Text: ### 2. Predictive Risk Modeling\nAdvanced machine learning algorithms assess mortality risk by analyz...",
          "Type: products<br>Text: ### 5. Smart Document Processing\nLifellm utilizes natural language processing and optical character ...",
          "Type: products<br>Text: ## Pricing\n\nLifellm's flexible pricing structure accommodates insurance providers of all sizes:\n\n- *...",
          "Type: products<br>Text: All tiers include comprehensive onboarding, training programs, and regular platform updates.\n\n## Roa...",
          "Type: products<br>Text: With Lifellm, Insurellm is transforming life insurance into a modern, customer-centric experience th...",
          "Type: products<br>Text: # Product Summary\n\n# Healthllm\n\n## Summary\n\nHealthllm is Insurellm's comprehensive health insurance ...",
          "Type: products<br>Text: ### 2. Real-Time Eligibility Verification\nIntegrated eligibility checking ensures instant verificati...",
          "Type: products<br>Text: ### 5. Provider Network Management\nComprehensive tools for managing provider relationships, contract...",
          "Type: products<br>Text: ### 8. Regulatory Compliance Engine\nBuilt-in compliance monitoring ensures adherence to ACA requirem...",
          "Type: products<br>Text: All plans include implementation support, staff training, and ongoing platform enhancements.\n\n## Roa...",
          "Type: products<br>Text: Healthllm represents Insurellm's commitment to transforming health insurance through technology that...",
          "Type: products<br>Text: # Product Summary\n\n# Markellm\n\n## Summary\n\nMarkellm is an innovative two-sided marketplace designed ...",
          "Type: products<br>Text: - **User-Friendly Interface**: Designed with user experience in mind, Markellm features an intuitive...",
          "Type: products<br>Text: - **Customer Support**: Our dedicated support team is always available to assist both consumers and ...",
          "Type: products<br>Text: ### For Insurance Companies:\n- **Basic Listing Fee**: $199/month for a featured listing on the platf...",
          "Type: products<br>Text: ### Q3 2025\n- Initiate a comprehensive marketing campaign targeting both consumers and insurers to i...",
          "Type: products<br>Text: # Product Summary\n\n# Homellm\n\n## Summary\nHomellm is an innovative home insurance product developed b...",
          "Type: products<br>Text: ### 2. Dynamic Pricing Model\nWith Homellm's innovative dynamic pricing model, insurance providers ca...",
          "Type: products<br>Text: ### 5. Multi-Channel Integration\nHomellm seamlessly integrates into existing insurance platforms, pr...",
          "Type: products<br>Text: - **Basic Tier:** Starting at $5,000/month for small insurers with basic integration features.\n- **S...",
          "Type: products<br>Text: All tiers include a comprehensive training program and ongoing updates to ensure optimal performance...",
          "Type: products<br>Text: With Homellm, Insurellm is committed to transforming the landscape of home insurance, ensuring both ...",
          "Type: products<br>Text: # Product Summary\n\n# Carllm\n\n## Summary\n\nCarllm is an innovative auto insurance product developed by...",
          "Type: products<br>Text: - **Instant Quoting**: With Carllm, insurance companies can offer near-instant quotes to customers, ...",
          "Type: products<br>Text: - **Mobile Integration**: Carllm is designed to work seamlessly with mobile applications, providing ...",
          "Type: products<br>Text: - **Professional Tier**: $2,500/month\n  - For medium-sized companies.\n  - All Basic Tier features pl...",
          "Type: products<br>Text: ### Q2 2025: Customer Experience Improvements\n- Launch of a new **mobile app** for end-users.\n- Intr...",
          "Type: contracts<br>Text: # Contract with GreenField Holdings for Markellm\n\n**Effective Date:** November 15, 2023  \n**Contract...",
          "Type: contracts<br>Text: ## Renewal\n1. **Automatic Renewal**: This contract will automatically renew for sequential one-year ...",
          "Type: contracts<br>Text: ## Features\n1. **AI-Powered Matching**: Access to advanced algorithms that connect GreenField Holdin...",
          "Type: contracts<br>Text: ## Support\n1. **Customer Support Access**: The Client will have access to dedicated support through ...",
          "Type: contracts<br>Text: **Signatures:**  \n_________________________                           _________________________  \n**...",
          "Type: contracts<br>Text: # Contract with EverGuard Insurance for Rellm: AI-Powered Enterprise Reinsurance Solution\n\n**Contrac...",
          "Type: contracts<br>Text: 4. **Usage Rights**: EverGuard Insurance is granted a non-exclusive, non-transferable license to acc...",
          "Type: contracts<br>Text: 2. **Customizable Dashboard**: Users at EverGuard Insurance will have access to a customizable dashb...",
          "Type: contracts<br>Text: 3. **Updates and Upgrades**: EverGuard Insurance will receive all platform updates and upgrades at n...",
          "Type: contracts<br>Text: # Contract with United Healthcare Alliance for Healthllm\n\n**Contract Date:** May 15, 2025\n**Contract...",
          "Type: contracts<br>Text: 4. **Service Level Agreement:** Insurellm guarantees 99.95% uptime measured monthly, with financial ...",
          "Type: contracts<br>Text: 7. **Business Continuity:** Guaranteed 2-hour recovery time objective (RTO) and 15-minute recovery p...",
          "Type: contracts<br>Text: 1. **Unlimited Member Administration:** No capacity restrictions, supporting United's 250,000+ membe...",
          "Type: contracts<br>Text: 4. **Advanced AI Claims Adjudication:** Enterprise-grade claims processing:\n   - Auto-adjudication r...",
          "Type: contracts<br>Text: 6. **Complete API Access:** Unlimited API calls supporting:\n   - Real-time integration with United's...",
          "Type: contracts<br>Text: 8. **Comprehensive Medication Management:**\n   - Multi-tier formulary management (national and state...",
          "Type: contracts<br>Text: 10. **Quality and Performance Management:**\n    - HEDIS measure calculation and reporting\n    - STAR...",
          "Type: contracts<br>Text: 12. **Regulatory Compliance and Reporting:**\n    - ACA compliance monitoring (MLR, essential health ...",
          "Type: contracts<br>Text: ---\n\n## Support\n\nInsurellm commits to comprehensive Enterprise-level support for United Healthcare A...",
          "Type: contracts<br>Text: 3. **Comprehensive Implementation:**\n   - 18-month phased implementation program with 4 major go-liv...",
          "Type: contracts<br>Text: 4. **Training and Enablement:**\n   - Comprehensive role-based training programs for all staff\n   - E...",
          "Type: contracts<br>Text: 5. **Custom Development:**\n   - 3,000 hours annually of custom development included\n   - Dedicated d...",
          "Type: contracts<br>Text: 6. **Integration Services:**\n   - Enterprise integration with United's complex system landscape:\n   ...",
          "Type: contracts<br>Text: 7. **Analytics and Reporting:**\n   - Custom dashboard development (unlimited)\n   - Real-time operati...",
          "Type: contracts<br>Text: 8. **Compliance and Regulatory Support:**\n   - Monthly compliance reviews with detailed documentatio...",
          "Type: contracts<br>Text: 9. **Continuous Improvement:**\n   - Bi-weekly process optimization workshops\n   - Quarterly efficien...",
          "Type: contracts<br>Text: _________________________________\n**James Patterson**\n**Title**: Chairman & Chief Executive Officer\n...",
          "Type: contracts<br>Text: # Contract with Guardian Life Partners for Lifellm\n\n---\n\n## Terms...",
          "Type: contracts<br>Text: ---\n\n## Terms\n\n1. **Agreement Effective Date**: This contract is effective as of March 1, 2025.\n2. *...",
          "Type: contracts<br>Text: ---\n\n## Renewal\n\n1. **Automatic Renewal**: This agreement will automatically renew for an additional...",
          "Type: contracts<br>Text: ---\n\n## Features\n\n1. **Access to Growth Tier Features**: Guardian Life Partners will have comprehens...",
          "Type: contracts<br>Text: 3. **Advanced Underwriting:**\n   - Automated underwriting for face amounts up to $500,000\n   - Accel...",
          "Type: contracts<br>Text: 2. **Training**: Comprehensive training program:\n   - Initial onboarding (4 weeks) for up to 20 staf...",
          "Type: contracts<br>Text: 5. **Integration Support**: Technical assistance for integrating Lifellm with:\n   - Guardian's polic...",
          "Type: contracts<br>Text: _________________________________\n**Jonathan Park**\n**Title**: President & CEO\n**Guardian Life Partn...",
          "Type: contracts<br>Text: # Contract with Greenstone Insurance for Homellm\n\n---\n\n## Terms\n\n1. **Parties**: This Contract (\"Agr...",
          "Type: contracts<br>Text: 4. **Payment Terms**: \n   - The Customer shall pay an amount of $10,000 per month for the Standard T...",
          "Type: contracts<br>Text: ---\n\n## Features\n\n- **AI-Powered Risk Assessment**: Customer will have access to enhanced risk evalu...",
          "Type: contracts<br>Text: - **Customer Portal**: A dedicated portal will be provided, allowing the Customer's clients to manag...",
          "Type: contracts<br>Text: ______________________________  \n[Name], [Title]  \nDate: ______________________\n\n**For Greenstone In...",
          "Type: contracts<br>Text: # Contract with Roadway Insurance Inc. for Carllm\n\n---\n\n## Terms\n\n1. **Agreement Effective Date**: T...",
          "Type: contracts<br>Text: ---\n\n## Renewal\n\n1. **Automatic Renewal**: This agreement will automatically renew for an additional...",
          "Type: contracts<br>Text: ---\n\n## Features\n\n1. **Access to Core Features**: Roadway Insurance Inc. will have access to all Pro...",
          "Type: contracts<br>Text: ---\n\n## Support\n\n1. **Technical Support**: Roadway Insurance Inc. will receive priority technical su...",
          "Type: contracts<br>Text: # Contract with Rapid Claims Associates for Claimllm\n\n**Contract Date:** March 1, 2025\n**Contract Nu...",
          "Type: contracts<br>Text: 4. **Overage Fees:** If claims volume exceeds 5,000 annually, overage fees of $0.90 per claim apply,...",
          "Type: contracts<br>Text: ---\n\n## Features\n\nRapid Claims Associates will receive the following Core Tier features:\n\n1. **Intel...",
          "Type: contracts<br>Text: 3. **Basic Document Processing:** OCR and NLP extraction from:\n   - Police reports\n   - Repair estim...",
          "Type: contracts<br>Text: 7. **Payment Processing:** Integration with payment systems for:\n   - Direct deposit (ACH)\n   - Chec...",
          "Type: contracts<br>Text: 3. **Platform Updates:**\n   - Quarterly feature releases with new capabilities\n   - Monthly security...",
          "Type: contracts<br>Text: _________________________________\n**Marcus Johnson**\n**Title**: Chief Claims Officer\n**Rapid Claims ...",
          "Type: contracts<br>Text: # Contract with National Claims Network for Claimllm\n\n**Contract Date:** April 20, 2025\n**Contract N...",
          "Type: contracts<br>Text: 4. **Service Level Agreement:** Insurellm guarantees 99.95% uptime with financial credits for downti...",
          "Type: contracts<br>Text: 7. **Business Continuity:** Insurellm provides disaster recovery with 4-hour RTO (Recovery Time Obje...",
          "Type: contracts<br>Text: 3. **Advanced Computer Vision:** State-of-the-art damage assessment:\n   - Auto damage analysis with ...",
          "Type: contracts<br>Text: 5. **Complete API Access:** Unlimited API calls supporting:\n   - Real-time integrations with 50+ car...",
          "Type: contracts<br>Text: 8. **Advanced Vendor Management:**\n   - Network of 5,000+ preferred vendors nationwide\n   - AI-power...",
          "Type: contracts<br>Text: 2. **24/7/365 Premium Support:**\n   - Guaranteed 10-minute response time for P1 critical issues\n   -...",
          "Type: contracts<br>Text: 4. **Training and Enablement:**\n   - Role-based training programs (adjusters, supervisors, fraud inv...",
          "Type: contracts<br>Text: 6. **Integration Services:**\n   - Enterprise integration with National's systems:\n     - Policy admi...",
          "Type: contracts<br>Text: 8. **Continuous Improvement:**\n   - Quarterly process optimization workshops\n   - Annual efficiency ...",
          "Type: contracts<br>Text: # Contract with Continental Commercial Group for Bizllm\n\n**Contract Date:** April 12, 2025\n**Contrac...",
          "Type: contracts<br>Text: 4. **Confidentiality:** Both parties agree to maintain the highest level of confidentiality regardin...",
          "Type: contracts<br>Text: 7. **Exclusivity:** Continental Commercial Group receives exclusive use of Bizllm in the specialty c...",
          "Type: contracts<br>Text: 2. **Dedicated Cloud Infrastructure:** Private cloud deployment with dedicated servers, ensuring dat...",
          "Type: contracts<br>Text: 5. **Custom Product Configuration:** Ability to configure and deploy unlimited custom commercial ins...",
          "Type: contracts<br>Text: 8. **Regulatory Compliance Suite:** Automated compliance monitoring for all 50 states including form...",
          "Type: contracts<br>Text: 3. **Implementation and Onboarding:**\n   - 6-month implementation program with dedicated project man...",
          "Type: contracts<br>Text: 6. **Performance Optimization:**\n   - Monthly platform performance reviews\n   - Proactive capacity p...",
          "Type: contracts<br>Text: # Contract with Stellar Insurance Co. for Rellm\n\n## Terms\nThis contract is made between **Insurellm*...",
          "Type: contracts<br>Text: ### Termination\nEither party may terminate this agreement with a **30-day written notice**. In the e...",
          "Type: contracts<br>Text: ## Features\nStellar Insurance Co. will receive access to the following features of the Rellm product...",
          "Type: contracts<br>Text: ## Support\nInsurellm provides Stellar Insurance Co. with the following support services:\n\n- **24/7 T...",
          "Type: contracts<br>Text: # Contract with Harmony Health Plans for Healthllm\n\n---\n\n## Terms...",
          "Type: contracts<br>Text: ---\n\n## Terms\n\n1. **Agreement Effective Date**: This contract is effective as of January 25, 2025.\n2...",
          "Type: contracts<br>Text: ---\n\n## Renewal\n\n1. **Automatic Renewal**: This agreement will automatically renew for an additional...",
          "Type: contracts<br>Text: ---\n\n## Features\n\n1. **Access to Professional Tier Features**: Harmony Health Plans will have compre...",
          "Type: contracts<br>Text: 2. **Predictive Healthcare Analytics:**\n   - High-risk member identification for care management\n   ...",
          "Type: contracts<br>Text: 4. **Value-Based Care Tools:**\n   - ACO (Accountable Care Organization) performance tracking\n   - Sh...",
          "Type: contracts<br>Text: 2. **Training**: Comprehensive training program:\n   - 6-week implementation with dedicated project m...",
          "Type: contracts<br>Text: 4. **Account Management**:\n   - Named Senior Customer Success Manager with bi-weekly check-ins\n   - ...",
          "Type: contracts<br>Text: 6. **Analytics and Reporting:**\n   - Custom dashboard development (up to 10 dashboards)\n   - Automat...",
          "Type: contracts<br>Text: ---\n\n**Signatures:**\n\n_________________________________\n**Sarah Chen**\n**Title**: Vice President of ...",
          "Type: contracts<br>Text: # Contract with TechDrive Insurance for Carllm\n\n**Contract Date:** October 1, 2024  \n**Contract Dura...",
          "Type: contracts<br>Text: ## Renewal\n\n1. **Automatic Renewal**: This contract shall automatically renew for additional one-yea...",
          "Type: contracts<br>Text: ## Support\n\n1. **Customer Support**: Insurellm will provide 24/7 customer support to TechDrive Insur...",
          "Type: contracts<br>Text: **TechDrive Insurance Representative:**  \nName: Sarah Johnson  \nTitle: Operations Director  \nDate: _...",
          "Type: contracts<br>Text: # Contract with Heritage Life Assurance for Lifellm\n\n**Contract Date:** February 12, 2025\n**Contract...",
          "Type: contracts<br>Text: ## Renewal\n\n1. **Automatic Renewal**: This agreement automatically renews for 12-month terms unless ...",
          "Type: contracts<br>Text: 3. **Digital Health Integration**:\n   - Wearable device connections (Fitbit, Apple Watch)\n   - Healt...",
          "Type: contracts<br>Text: 6. **Advanced Reporting**:\n   - Application conversion analytics\n   - Underwriting productivity metr...",
          "Type: contracts<br>Text: ---\n\n**Signatures:**\n\n**Insurellm, Inc.**\nMichael Torres, Chief Revenue Officer\nDate: February 12, 2...",
          "Type: contracts<br>Text: # Contract with Premier Adjusters Inc. for Claimllm\n\n---\n\n## Terms...",
          "Type: contracts<br>Text: ---\n\n## Terms\n\n1. **Agreement Effective Date**: This contract is effective as of February 15, 2025.\n...",
          "Type: contracts<br>Text: ---\n\n## Renewal\n\n1. **Automatic Renewal**: This agreement will automatically renew for an additional...",
          "Type: contracts<br>Text: ---\n\n## Features\n\n1. **Access to Advanced Tier Features**: Premier Adjusters Inc. will have access t...",
          "Type: contracts<br>Text: 2. **Computer Vision Capabilities:**\n   - Automated vehicle damage assessment from photos (dents, sc...",
          "Type: contracts<br>Text: ---\n\n## Support\n\n1. **Technical Support**: Premier Adjusters Inc. will receive priority advanced sup...",
          "Type: contracts<br>Text: 3. **Updates and Maintenance**:\n   - Monthly platform updates with new features\n   - Bi-weekly secur...",
          "Type: contracts<br>Text: 6. **Data and Analytics:**\n   - Custom dashboard development (up to 5 dashboards)\n   - Monthly data ...",
          "Type: contracts<br>Text: # Contract with FastTrack Insurance Services for Claimllm\n\n**Contract Date:** May 10, 2025\n**Contrac...",
          "Type: contracts<br>Text: 5. **Confidentiality**: Both parties shall maintain confidentiality regarding each other's proprieta...",
          "Type: contracts<br>Text: 2. **Pricing Review**: Renewal pricing will be discussed 60 days prior to term end. Price increases ...",
          "Type: contracts<br>Text: 2. **Integration Capabilities**: API integration with FastTrack's existing claims systems (Guidewire...",
          "Type: contracts<br>Text: ---\n\n**Signatures:**\n\n**Insurellm, Inc.**\nSarah Chen, VP of Sales\nDate: May 10, 2025\n\n**FastTrack In...",
          "Type: contracts<br>Text: # Contract with Atlantic Risk Solutions for Bizllm\n\n---\n\n## Terms\n\n1. **Agreement Effective Date**: ...",
          "Type: contracts<br>Text: ---\n\n## Renewal\n\n1. **Automatic Renewal**: This agreement will automatically renew for an additional...",
          "Type: contracts<br>Text: ---\n\n## Features\n\n1. **Access to Professional Tier Features**: Atlantic Risk Solutions will have acc...",
          "Type: contracts<br>Text: 2. **Industry-Specific Templates**: Pre-configured underwriting templates for:\n   - Technology compa...",
          "Type: contracts<br>Text: 2. **Training**: Insurellm will provide comprehensive training program:\n   - Initial onboarding for ...",
          "Type: contracts<br>Text: 5. **Integration Support**: Technical assistance for integrating Bizllm with:\n   - Atlantic's existi...",
          "Type: contracts<br>Text: # Contract with Belvedere Insurance for Markellm\n\n## Terms\nThis Contract (\"Agreement\") is made and e...",
          "Type: contracts<br>Text: ## Renewal\n1. **Renewal Terms**: This Agreement may be renewed for additional one-year terms upon mu...",
          "Type: contracts<br>Text: ## Features\n1. **AI-Powered Matching**: Belvedere Insurance will benefit from Markellm's AI-powered ...",
          "Type: contracts<br>Text: ## Support\n1. **Technical Support**: Technical support will be available from 9 AM to 7 PM EST, Mond...",
          "Type: contracts<br>Text: **Belvedere Insurance**  \nSignature: ______________________  \nName: [Authorized Signatory]  \nTitle: ...",
          "Type: contracts<br>Text: # Contract with ConnectInsure Agency for Markellm\n\n**Contract Date:** February 28, 2025\n**Contract N...",
          "Type: contracts<br>Text: 5. **Lead Volume Expectations**: Based on ConnectInsure's profile, Markellm projects 80-120 qualifie...",
          "Type: contracts<br>Text: 8. **Dispute Resolution**: Lead quality disputes must be submitted within 5 business days with docum...",
          "Type: contracts<br>Text: 2. **Featured Listing**: Premium marketplace placement including:\n   - Enhanced agency profile with ...",
          "Type: contracts<br>Text: 5. **Data Insights**: Analytics dashboard providing:\n   - Lead volume trends and forecasting\n   - Co...",
          "Type: contracts<br>Text: 2. **Onboarding**: Implementation includes:\n   - 2-week onboarding process\n   - Platform training fo...",
          "Type: contracts<br>Text: ---\n\n**Signatures:**\n\n**Insurellm, Inc.**\nMichael Torres, Chief Revenue Officer\nDate: February 28, 2...",
          "Type: contracts<br>Text: # Contract with Metropolitan Life Group for Lifellm\n\n**Contract Date:** April 5, 2025\n**Contract Num...",
          "Type: contracts<br>Text: 4. **Service Level Agreement:** Insurellm guarantees 99.9% uptime measured monthly, with 10% monthly...",
          "Type: contracts<br>Text: ---\n\n## Features\n\nMetropolitan Life Group will receive the complete Lifellm Enterprise suite:\n\n1. **...",
          "Type: contracts<br>Text: 4. **Comprehensive Digital Health Integration:**\n   - Wearable integrations: Apple Watch, Fitbit, Ga...",
          "Type: contracts<br>Text: 6. **Predictive Analytics Suite:**\n   - Lapse and persistency prediction modeling\n   - Cross-sell an...",
          "Type: contracts<br>Text: 9. **Regulatory and Compliance:**\n   - 50-state compliance monitoring and form filing\n   - Automated...",
          "Type: contracts<br>Text: ---\n\n## Support\n\nInsurellm commits to comprehensive Enterprise-level support for Metropolitan Life G...",
          "Type: contracts<br>Text: 3. **Comprehensive Implementation:**\n   - 12-month phased implementation program with 3 major releas...",
          "Type: contracts<br>Text: 5. **Custom Development:**\n   - 2,000 hours annually of custom development included\n   - Dedicated d...",
          "Type: contracts<br>Text: 7. **Analytics and Reporting:**\n   - Custom executive dashboard development (unlimited)\n   - Real-ti...",
          "Type: contracts<br>Text: ---\n\n**Signatures:**\n\n_________________________________\n**Jennifer Rodriguez**\n**Title**: Chief Exec...",
          "Type: contracts<br>Text: # Contract with Velocity Auto Solutions for Carllm\n\n**Contract Date:** October 1, 2023  \n**Contract ...",
          "Type: contracts<br>Text: ## Renewal\n\n1. **Automatic Renewal**: This contract will automatically renew for successive 12-month...",
          "Type: contracts<br>Text: ## Support\n\n1. **Customer Support**: Velocity Auto Solutions will have access to Insurellm’s custome...",
          "Type: contracts<br>Text: # Contract with GlobalRe Partners for Rellm - AI-Powered Enterprise Reinsurance Solution\n\n**Contract...",
          "Type: contracts<br>Text: 4. **Reinsurance Volume**: Enterprise Tier supports unlimited treaties and facultative certificates....",
          "Type: contracts<br>Text: 8. **Business Continuity:** Guaranteed 2-hour recovery time objective (RTO) and 30-minute recovery p...",
          "Type: contracts<br>Text: ---\n\n## Features\n\nGlobalRe Partners will receive the complete Rellm Enterprise suite with advanced r...",
          "Type: contracts<br>Text: 3. **Advanced AI-Driven Analytics:** Enterprise-grade reinsurance analytics:\n   - Predictive risk mo...",
          "Type: contracts<br>Text: 5. **Catastrophe Modeling Integration:** Best-in-class CAT modeling:\n   - Integration with all major...",
          "Type: contracts<br>Text: 7. **Facultative Reinsurance Platform:** Comprehensive fac management:\n   - Digital submission intak...",
          "Type: contracts<br>Text: 9. **Regulatory Compliance Tools:** Global compliance support:\n   - Multi-jurisdiction regulatory re...",
          "Type: contracts<br>Text: 11. **Complete API Access:** Unlimited API integration:\n    - Real-time integration with GlobalRe's ...",
          "Type: contracts<br>Text: 13. **Climate Risk Analytics:** Forward-looking climate modeling:\n    - IPCC climate scenario analys...",
          "Type: contracts<br>Text: 2. **24/7/365 Premium Support:**\n   - Guaranteed 10-minute response for P1 critical issues (during c...",
          "Type: contracts<br>Text: 3. **Comprehensive Implementation:**\n   - 18-month phased implementation program with 5 major releas...",
          "Type: contracts<br>Text: 4. **Training and Enablement:**\n   - Comprehensive role-based training (underwriters, actuaries, acc...",
          "Type: contracts<br>Text: 5. **Custom Development:**\n   - 4,000 hours annually of custom development included\n   - Dedicated d...",
          "Type: contracts<br>Text: 6. **Integration Services:**\n   - Enterprise integration with GlobalRe's complex ecosystem:\n     - S...",
          "Type: contracts<br>Text: 7. **Analytics and Reporting:**\n   - Custom dashboard development (unlimited)\n   - Real-time operati...",
          "Type: contracts<br>Text: 8. **Catastrophe Response:**\n   - Dedicated CAT war room activation during major events\n   - Real-ti...",
          "Type: contracts<br>Text: 10. **Continuous Improvement:**\n    - Monthly process optimization sessions\n    - Quarterly efficien...",
          "Type: contracts<br>Text: ---\n\n**Signatures:**\n\n_________________________________\n**Jennifer Rodriguez**\n**Title**: Chief Exec...",
          "Type: contracts<br>Text: # Contract with WellCare Insurance Co. for Healthllm\n\n**Contract Date:** March 8, 2025\n**Contract Nu...",
          "Type: contracts<br>Text: 4. **Member Coverage**: Essential Tier supports health insurance administration for up to 15,000 cov...",
          "Type: contracts<br>Text: ---\n\n## Features\n\nWellCare Insurance Co. will receive the following Essential Tier features:\n\n1. **I...",
          "Type: contracts<br>Text: 3. **AI-Driven Claims Adjudication:** Automated claims processing:\n   - Machine learning-based claim...",
          "Type: contracts<br>Text: 6. **Basic Medication Management:**\n   - Formulary management tools\n   - Prior authorization workflo...",
          "Type: contracts<br>Text: ---\n\n## Support\n\nInsurellm commits to providing comprehensive support to WellCare Insurance Co.:\n\n1....",
          "Type: contracts<br>Text: 4. **Account Management:**\n   - Named customer success manager\n   - Quarterly business review meetin...",
          "Type: contracts<br>Text: ---\n\n**Signatures:**\n\n_________________________________\n**Sarah Chen**\n**Title**: Vice President of ...",
          "Type: contracts<br>Text: # Contract with Fortress Business Underwriters for Bizllm\n\n---\n\n## Terms\n\n1. **Agreement Effective D...",
          "Type: contracts<br>Text: ---\n\n## Renewal\n\n1. **Automatic Renewal**: This agreement will automatically renew for an additional...",
          "Type: contracts<br>Text: ---\n\n## Features\n\n1. **Access to Professional Tier Features**: Fortress Business Underwriters will h...",
          "Type: contracts<br>Text: 2. **Advanced Analytics**: Access to enhanced reporting capabilities including loss ratio analysis, ...",
          "Type: contracts<br>Text: 2. **Training**: Insurellm will provide:\n   - Initial comprehensive onboarding (40 hours) for up to ...",
          "Type: contracts<br>Text: ---\n\n**Signatures:**\n\n_________________________________\n**Michael Torres**\n**Title**: Chief Revenue ...",
          "Type: contracts<br>Text: # Contract with GreenValley Insurance for Homellm\n\n**Contract Date:** October 6, 2023  \n**Contract N...",
          "Type: contracts<br>Text: 4. **Confidentiality:** Both parties agree to maintain the confidentiality of proprietary informatio...",
          "Type: contracts<br>Text: 1. **AI-Powered Risk Assessment:** Access to advanced AI algorithms for real-time risk evaluations.\n...",
          "Type: contracts<br>Text: 3. **Regular Updates:** Insurellm will offer ongoing updates and enhancements to the Homellm platfor...",
          "Type: contracts<br>Text: # Contract with Evergreen Life Insurance for Lifellm\n\n**Contract Date:** January 20, 2025\n**Contract...",
          "Type: contracts<br>Text: 4. **Policy Volume:** Starter Tier supports underwriting and administration for up to 2,000 active p...",
          "Type: contracts<br>Text: ---\n\n## Features\n\nEvergreen Life Insurance will receive the following Starter Tier features:\n\n1. **A...",
          "Type: contracts<br>Text: 4. **Smart Document Processing:** OCR and NLP extraction from:\n   - Medical records and attending ph...",
          "Type: contracts<br>Text: ---\n\n## Support\n\nInsurellm commits to providing comprehensive support to Evergreen Life Insurance:\n\n...",
          "Type: contracts<br>Text: 3. **Platform Updates:**\n   - Quarterly feature releases\n   - Monthly security patches and improveme...",
          "Type: contracts<br>Text: _________________________________\n**Catherine Wu**\n**Title**: Chief Underwriting Officer\n**Evergreen...",
          "Type: contracts<br>Text: # Contract with BrightWay Solutions for Markellm\n\n**Contract Date:** October 5, 2023  \n**Contract ID...",
          "Type: contracts<br>Text: 3. **Service Level Agreement (SLA):**  \n   Insurellm commits to a 99.9% uptime for the platform with...",
          "Type: contracts<br>Text: 2. **Real-Time Quote Availability:**  \n   Consumers sourced via BrightWay Solutions will receive rea...",
          "Type: contracts<br>Text: 3. **Training and Onboarding:**  \n   Insurellm agrees to provide one free training session on how to...",
          "Type: contracts<br>Text: # Contract with DriveSmart Insurance for Carllm\n\n**Contract Date:** March 20, 2025\n**Contract Number...",
          "Type: contracts<br>Text: 4. **Policy Volume**: Enterprise Tier supports unlimited policies. DriveSmart currently has 85,000 a...",
          "Type: contracts<br>Text: ---\n\n## Features\n\nDriveSmart Insurance will receive the complete Carllm Enterprise suite:\n\n1. **Unli...",
          "Type: contracts<br>Text: 4. **Instant Quoting Engine:** High-performance quoting:\n   - Sub-3-second quote generation\n   - Rea...",
          "Type: contracts<br>Text: 6. **Advanced Fraud Detection:** Comprehensive fraud prevention:\n   - Application fraud detection (i...",
          "Type: contracts<br>Text: 8. **Telematics Integration:** Complete telematics platform:\n   - Device-agnostic integration (OBD-I...",
          "Type: contracts<br>Text: 10. **Multi-State Operations:** Comprehensive state support:\n    - State-specific forms and endorsem...",
          "Type: contracts<br>Text: 3. **Implementation:**\n   - 6-month phased implementation\n   - Dedicated project manager\n   - Migrat...",
          "Type: contracts<br>Text: 6. **Integration Services:**\n   - Integration with DriveSmart's systems:\n     - Duck Creek policy ad...",
          "Type: contracts<br>Text: ---\n\n**Signatures:**\n\n_________________________________\n**Jennifer Rodriguez**\n**Title**: Chief Exec...",
          "Type: contracts<br>Text: # Contract with SafeHaven Property Insurance for Homellm\n\n**Contract Date:** May 3, 2025\n**Contract ...",
          "Type: contracts<br>Text: 4. **Policy Volume**: Enterprise Tier supports unlimited policies. SafeHaven currently has 45,000 ac...",
          "Type: contracts<br>Text: ---\n\n## Features\n\nSafeHaven Property Insurance will receive the complete Homellm Enterprise suite:\n\n...",
          "Type: contracts<br>Text: 3. **Advanced AI Risk Assessment:** Enterprise-grade property risk analysis:\n   - Aerial imagery ana...",
          "Type: contracts<br>Text: 5. **Instant Claims Processing:** Advanced claims automation:\n   - AI-driven FNOL with photo/video u...",
          "Type: contracts<br>Text: 7. **Multi-Channel Integration:** Unified platform:\n   - Agent portal for 1,500+ independent agents\n...",
          "Type: contracts<br>Text: 9. **IoT Device Integration:** Smart home platform:\n   - Water leak detection systems (Flo by Moen, ...",
          "Type: contracts<br>Text: 11. **Multi-State Operations:** Comprehensive support:\n    - State-specific forms and endorsements f...",
          "Type: contracts<br>Text: ---\n\n## Support\n\nInsurellm commits to comprehensive Enterprise-level support for SafeHaven Property ...",
          "Type: contracts<br>Text: 3. **Comprehensive Implementation:**\n   - 8-month phased implementation program\n   - Dedicated proje...",
          "Type: contracts<br>Text: 5. **Custom Development:**\n   - 1,200 hours annually of custom development\n   - Dedicated developmen...",
          "Type: contracts<br>Text: 7. **Analytics and Reporting:**\n   - Custom dashboard development (up to 20 dashboards)\n   - Real-ti...",
          "Type: contracts<br>Text: 9. **Catastrophe Response:**\n   - Dedicated CAT support during disaster events\n   - Pre-CAT system p...",
          "Type: contracts<br>Text: _________________________________\n**Laura Mitchell**\n**Title**: President & Chief Executive Officer\n...",
          "Type: contracts<br>Text: # Contract with Pinnacle Insurance Co. for Homellm\n\n## Terms\nThis contract (\"Contract\") is entered i...",
          "Type: contracts<br>Text: ## Renewal\n1. **Renewal Terms**: At the end of the initial term, this Contract shall automatically r...",
          "Type: contracts<br>Text: ## Features\n1. **AI-Powered Risk Assessment**: Utilized for tailored underwriting decisions specific...",
          "Type: contracts<br>Text: ## Support\n1. **Technical Support**: Insurellm shall provide 24/7 technical support via an email and...",
          "Type: contracts<br>Text: # Contract with Apex Reinsurance for Rellm: AI-Powered Enterprise Reinsurance Solution\n\n## Terms\n\n1....",
          "Type: contracts<br>Text: ## Renewal\n\n1. **Automatic Renewal**: This Agreement will automatically renew for successive one-yea...",
          "Type: contracts<br>Text: 2. **Seamless Integrations**: The architecture of Rellm allows for easy integration with existing sy...",
          "Type: contracts<br>Text: 1. **Technical Support**: Provider shall offer dedicated technical support to the Client via phone, ...",
          "Type: contracts<br>Text: **Insurellm, Inc.**  \n_____________________________  \nAuthorized Signature   \nDate: ________________...",
          "Type: contracts<br>Text: # Contract with Advantage Medical Coverage for Healthllm\n\n**Contract Date:** April 18, 2025\n**Contra...",
          "Type: contracts<br>Text: 4. **Member Coverage**: Professional Tier supports up to 50,000 covered members. Advantage currently...",
          "Type: contracts<br>Text: 2. **Pricing Review**: Renewal pricing will be discussed 75 days prior to term end and mutually agre...",
          "Type: contracts<br>Text: 2. **Value-Based Care Support:**\n   - ACO performance tracking and shared savings calculation\n   - H...",
          "Type: contracts<br>Text: 2. **Training**: Comprehensive training program:\n   - 5-week implementation with project manager\n   ...",
          "Type: contracts<br>Text: ---\n\n**Signatures:**\n\n**Insurellm, Inc.**\nSarah Chen, VP of Sales\nDate: April 18, 2025\n\n**Advantage ...",
          "Type: contracts<br>Text: # Contract with Summit Commercial Insurance for Bizllm\n\n**Contract Date:** March 15, 2025\n**Contract...",
          "Type: contracts<br>Text: 3. **Payment:** Summit Commercial Insurance shall pay a monthly fee of $6,000, due by the 1st of eve...",
          "Type: contracts<br>Text: 6. **Data Security:** Insurellm commits to maintaining industry-standard encryption and security pro...",
          "Type: contracts<br>Text: 2. **Business Intelligence Integration:** Automated data gathering from business registries, financi...",
          "Type: contracts<br>Text: ---\n\n## Support\n\nInsurellm commits to providing comprehensive support to Summit Commercial Insurance...",
          "Type: contracts<br>Text: 5. **Performance Reviews:** Quarterly business reviews to assess platform utilization, identify opti...",
          "Type: company<br>Text: # Overview of Insurellm\n\nInsurellm is an innovative insurance tech firm with 32 employees operating ...",
          "Type: company<br>Text: ### Marketplace & Infrastructure\n- **Markellm** - Marketplace connecting consumers with insurance pr...",
          "Type: company<br>Text: ## Client Portfolio Breakdown\n\nInsurellm's 32 active contracts span the full spectrum of insurance t...",
          "Type: company<br>Text: **Insurance Marketplace (Markellm)**: 2 contracts with agencies and brokers leveraging the consumer-...",
          "Type: company<br>Text: # Careers at Insurellm\n\n## Why Join Insurellm?\n\nAt Insurellm, we're not just building software—we're...",
          "Type: company<br>Text: ### Our Culture\n\nWe live by our core values every day:\n- **Innovation First**: We encourage experime...",
          "Type: company<br>Text: ## Current Opportunities\n\n### Engineering\n\n**Senior Full Stack Engineer** - San Francisco, CA\n- Lead...",
          "Type: company<br>Text: **DevOps Engineer** - New York, NY\n- Manage cloud infrastructure (AWS/GCP)\n- Implement CI/CD pipelin...",
          "Type: company<br>Text: **Data Engineer** - Austin, TX\n- Design and maintain data pipelines\n- Build data warehousing solutio...",
          "Type: company<br>Text: ### Sales & Customer Success\n\n**Account Executive** - New York, NY / Chicago, IL / Austin, TX\n- Mana...",
          "Type: company<br>Text: ### Operations & Support\n\n**Technical Support Specialist** - Remote\n- Provide tier 2/3 technical sup...",
          "Type: company<br>Text: # Insurellm Culture\n\n## Vision Statement\nTo revolutionize the insurance industry through innovative ...",
          "Type: company<br>Text: ### Customer Obsession\nOur clients' success is our success. We deeply understand our customers' need...",
          "Type: company<br>Text: ## Employer Value Proposition\n\n**Build the Future of Insurance Technology with Elite Talent**\n\nAt In...",
          "Type: company<br>Text: - **Meaningful Impact**: Your work directly shapes products powering 32 active insurance operations,...",
          "Type: company<br>Text: # About Insurellm\n\nInsurellm was founded by Avery Lancaster in 2015 as an insurance tech startup des...",
          "Type: company<br>Text: However, the company underwent a strategic restructuring in 2022-2023 to focus on profitability and ...",
          "Type: company<br>Text: - **Bizllm** quickly gained traction with 7 commercial insurance contracts, including regional carri...",
          "Type: employees<br>Text: # HR Record\n\n# David Kim\n\n## Summary\n- **Date of Birth:** September 22, 1992\n- **Job Title:** DevOps...",
          "Type: employees<br>Text: - **June 2017 - February 2019:** Systems Administrator at CloudFirst Solutions\n  - Maintained Linux ...",
          "Type: employees<br>Text: ## Other HR Notes\n- **Certifications:** AWS Certified Solutions Architect (2022), Certified Kubernet...",
          "Type: employees<br>Text: # HR Record\n\n# Nina Patel\n\n## Summary\n- **Date of Birth:** July 25, 1991\n- **Job Title:** Business I...",
          "Type: employees<br>Text: - **May 2017 - July 2019:** Data Analyst at RetailMetrics Inc.\n  - Analyzed retail sales data and cu...",
          "Type: employees<br>Text: - **2019:** Rating: 3.9/5\n  *Good onboarding year. Quick to adapt to Insurellm's data systems.*\n\n## ...",
          "Type: employees<br>Text: # HR Record\n\n# Priya Sharma\n\n## Summary\n- **Date of Birth:** January 8, 1986\n- **Job Title:** Senior...",
          "Type: employees<br>Text: - **August 2012 - May 2015:** Research Scientist at UC Berkeley AI Lab\n  - Conducted research in mac...",
          "Type: employees<br>Text: - **2019:** Rating: 4.6/5\n  *Excellent contributions to fraud detection systems. Recognized for thou...",
          "Type: employees<br>Text: ## Other HR Notes\n- **Education:** PhD in Computer Science (Machine Learning) from Stanford Universi...",
          "Type: employees<br>Text: # HR Record\n\n# Alex Chen\n\n## Summary\n- **Date of Birth:** March 15, 1990\n- **Job Title:** Backend So...",
          "Type: employees<br>Text: ## Annual Performance History\n- **2020:**  \n  - Completed onboarding successfully.  \n  - Met expecta...",
          "Type: employees<br>Text: ## Compensation History\n- **2020:** Base Salary: $80,000  \n- **2021:** Base Salary Increase to $90,0...",
          "Type: employees<br>Text: Alex Chen continues to be a vital asset at Insurellm, contributing significantly to innovative backe...",
          "Type: employees<br>Text: # HR Record\n\n# Robert Chen\n\n## Summary\n- **Date of Birth:** February 28, 1983\n- **Job Title:** Senio...",
          "Type: employees<br>Text: - **August 2008 - May 2012:** Software Engineer at TechStartup\n  - Developed features for SaaS platf...",
          "Type: employees<br>Text: - **2019:** Rating: 4.5/5\n  *Excellent year with successful Homellm rewrite. Strong architectural co...",
          "Type: employees<br>Text: ## Other HR Notes\n- **Education:** MS in Computer Science from Stanford University, BS in Computer E...",
          "Type: employees<br>Text: # HR Record\n\n# Oliver Spencer\n\n## Summary\n- **Date of Birth**: May 14, 1990\n- **Job Title**: Backend...",
          "Type: employees<br>Text: ## Annual Performance History\n- **2018**: **3/5** - Adaptable team player but still learning to take...",
          "Type: employees<br>Text: ## Compensation History\n- **March 2018**: Initial salary of $80,000.\n- **July 2019**: Salary increas...",
          "Type: employees<br>Text: # HR Record\n\n# Amanda Foster\n\n## Summary\n- **Date of Birth:** August 14, 1982\n- **Job Title:** HR Bu...",
          "Type: employees<br>Text: - **June 2009 - February 2013:** HR Coordinator at Enterprise Corp.\n  - Supported recruiting and onb...",
          "Type: employees<br>Text: - **2019:** Rating: 4.2/5\n  *Strong year. Improved hiring velocity for engineering roles by 35%. Bui...",
          "Type: employees<br>Text: ## Other HR Notes\n- **Education:** MS in Human Resources Management from Cornell University, BA in P...",
          "Type: employees<br>Text: # HR Record\n\n# Emily Tran\n\n## Summary\n- **Date of Birth:** March 18, 1991\n- **Job Title:** Digital M...",
          "Type: employees<br>Text: - **January 2017 - May 2018**: Marketing Intern  \n  - Supported the Marketing team by collaborating ...",
          "Type: employees<br>Text: - **2021**:  \n  - Performance Rating: Meets Expectations  \n  - Key Achievements: Contributed to the ...",
          "Type: employees<br>Text: - **Professional Development Goals**:  \n  - Emily Tran aims to become a Marketing Manager within the...",
          "Type: employees<br>Text: # HR Record\n\n# Jordan Blake\n\n## Summary\n- **Date of Birth:** March 15, 1993\n- **Job Title:** Sales D...",
          "Type: employees<br>Text: ## Annual Performance History\n- **2021:** First year at Insurellm; achieved 90% of monthly targets. ...",
          "Type: employees<br>Text: ## Other HR Notes\n- Jordan has shown an interest in continuing education, actively participating in ...",
          "Type: employees<br>Text: # HR Record\n\n# Kevin Zhang\n\n## Summary\n- **Date of Birth:** March 27, 1990\n- **Job Title:** Mobile D...",
          "Type: employees<br>Text: - **July 2015 - January 2018:** Junior Mobile Developer at StartupTech\n  - Built mobile features for...",
          "Type: employees<br>Text: ## Other HR Notes\n- **Education:** BS in Computer Science from UC Berkeley\n- **Skills:** Expert in S...",
          "Type: employees<br>Text: # HR Record\n\n# Maya Thompson\n\n## Summary\n- **Date of Birth:** June 14, 1993\n- **Job Title:** Data En...",
          "Type: employees<br>Text: ## Annual Performance History\n- **2023:** Rating: 4.3/5\n  *Strong performance. Delivered critical da...",
          "Type: employees<br>Text: ## Compensation History\n- **2023:** Base Salary: $110,000 + Bonus: $12,000\n- **2022:** Base Salary: ...",
          "Type: employees<br>Text: # HR Record\n\n# Jennifer Adams\n\n## Summary\n- **Date of Birth:** July 7, 1997\n- **Job Title:** Sales D...",
          "Type: employees<br>Text: - **August 2019 - May 2022:** Customer Service Representative at RetailCo\n  - Handled customer inqui...",
          "Type: employees<br>Text: ## Compensation History\n- **2023:** Base Salary: $58,000 + Commission: $4,200\n- **2022:** Intern Sti...",
          "Type: employees<br>Text: # HR Record\n\n# Jessica Liu\n\n## Summary\n- **Date of Birth:** April 30, 1996\n- **Job Title:** Frontend...",
          "Type: employees<br>Text: - **June 2018 - December 2019:** Web Developer Intern at StartupLabs\n  - Created landing pages and m...",
          "Type: employees<br>Text: ## Other HR Notes\n- **Education:** BS in Computer Science from University of Manchester\n- **Skills:*...",
          "Type: employees<br>Text: # Avery Lancaster\n\n## Summary\n- **Date of Birth**: March 15, 1985\n- **Job Title**: Co-Founder & Chie...",
          "Type: employees<br>Text: - **2010 - 2013**: Business Analyst at Edge Analytics  \n  Prior to joining Innovate, Avery worked as...",
          "Type: employees<br>Text: - **2018**: **Exceeds Expectations**  \n  Under Avery’s pivoted vision, Insurellm launched two new su...",
          "Type: employees<br>Text: - **2022**: **Satisfactory**  \n  Avery focused on rebuilding team dynamics and addressing employee c...",
          "Type: employees<br>Text: ## Compensation History\n- **2015**: $150,000 base salary + Significant equity stake  \n- **2016**: $1...",
          "Type: employees<br>Text: ## Other HR Notes\n- **Professional Development**: Avery has actively participated in leadership trai...",
          "Type: employees<br>Text: # HR Record\n\n# Maxine Thompson\n\n## Summary\n- **Date of Birth:** January 15, 1991\n- **Job Title:** Da...",
          "Type: employees<br>Text: ## Insurellm Career Progression\n- **January 2017 - October 2018**: **Junior Data Engineer**  \n  * Ma...",
          "Type: employees<br>Text: - **January 2021 - Present**: **Senior Data Engineer**  \n  * Maxine was promoted to Senior Data Engi...",
          "Type: employees<br>Text: ## Annual Performance History\n- **2017**: *Meets Expectations*  \n  Maxine showed potential in her ro...",
          "Type: employees<br>Text: - **2021**: *Exceeds Expectations*  \n  Maxine spearheaded the transition to a new data warehousing s...",
          "Type: employees<br>Text: ## Compensation History\n- **2017**: $70,000 (Junior Data Engineer)  \n- **2018**: $75,000 (Junior Dat...",
          "Type: employees<br>Text: # HR Record\n\n# Daniel Park\n\n## Summary\n- **Date of Birth:** October 3, 1991\n- **Job Title:** QA Engi...",
          "Type: employees<br>Text: ## Annual Performance History\n- **2023:** Rating: 4.2/5\n  *Strong performance. Expanded test automat...",
          "Type: employees<br>Text: ## Other HR Notes\n- **Education:** BS in Computer Science from Texas State University\n- **Certificat...",
          "Type: employees<br>Text: # Samantha Greene\n\n## Summary\n- **Date of Birth:** October 14, 1990\n- **Job Title:** HR Generalist\n-...",
          "Type: employees<br>Text: ## Annual Performance History\n- **2020:** Exceeds Expectations  \n  Samantha Greene demonstrated exce...",
          "Type: employees<br>Text: ## Compensation History\n- **2020:** Base Salary - $55,000  \n  The entry-level salary matched industr...",
          "Type: employees<br>Text: - **2023:** Base Salary - $70,000  \n  Recognized for substantial improvement in employee relations m...",
          "Type: employees<br>Text: # HR Record\n\n# Marcus Johnson\n\n## Summary\n- **Date of Birth:** February 17, 1988\n- **Job Title:** Cu...",
          "Type: employees<br>Text: - **January 2016 - August 2018:** Account Manager at SaaS Solutions Inc.\n  - Managed B2B client rela...",
          "Type: employees<br>Text: - **2020:** Rating: 4.0/5\n  *Good transition to CSM role. Quickly built rapport with enterprise clie...",
          "Type: employees<br>Text: # HR Record\n\n# Alex Thomson\n\n## Summary\n- **Date of Birth:** March 15, 1995\n- **Job Title:** Sales D...",
          "Type: employees<br>Text: ## Annual Performance History  \n- **2022** - Rated as \"Exceeds Expectations.\" Alex Thomson achieved ...",
          "Type: employees<br>Text: ## Other HR Notes\n- Alex Thomson is an active member of the Diversity and Inclusion committee at Ins...",
          "Type: employees<br>Text: # HR Record\n\n# Michael O'Brien\n\n## Summary\n- **Date of Birth:** May 20, 1984\n- **Job Title:** Accoun...",
          "Type: employees<br>Text: - **August 2010 - May 2014:** Sales Representative at Business Solutions Inc.\n  - B2B software sales...",
          "Type: employees<br>Text: - **2019:** Rating: 4.2/5\n  *Strong performance at 125% quota attainment. Expanded territory success...",
          "Type: employees<br>Text: ## Other HR Notes\n- **Education:** BA in Business from University of Illinois\n- **Awards:** Sales Ex...",
          "Type: employees<br>Text: # HR Record\n\n# Rachel Martinez\n\n## Summary\n- **Date of Birth:** June 8, 1987\n- **Job Title:** Produc...",
          "Type: employees<br>Text: ## Annual Performance History\n- **2023:** Rating: 4.6/5\n  *Exceptional year with successful launch o...",
          "Type: employees<br>Text: - **2019:** Rating: 4.0/5\n  *Strong start as Product Manager. Successfully transitioned from APM rol...",
          "Type: employees<br>Text: ## Other HR Notes\n- **Professional Development:** Completed Product Leadership Certification from Pr...",
          "Type: employees<br>Text: # HR Record\n\n# Sarah Williams\n\n## Summary\n- **Date of Birth:** November 3, 1994\n- **Job Title:** UX ...",
          "Type: employees<br>Text: - **August 2018 - May 2020:** UI/UX Designer at StartupHub Inc.\n  - Designed mobile and web interfac...",
          "Type: employees<br>Text: ## Other HR Notes\n- **Education:** BFA in Graphic Design from Rhode Island School of Design\n- **Skil...",
          "Type: employees<br>Text: # HR Record\n\n# Michelle Rivera\n\n## Summary\n- **Date of Birth:** December 16, 1988\n- **Job Title:** P...",
          "Type: employees<br>Text: - **May 2013 - July 2016:** UX Designer at CreativeAgency\n  - Created user interfaces for consumer a...",
          "Type: employees<br>Text: - **2019:** Rating: 4.0/5\n  *Solid first year at Insurellm. Quick to learn complex insurance domain ...",
          "Type: employees<br>Text: ## Other HR Notes\n- **Education:** MFA in Interaction Design from School of Visual Arts, BFA in Grap...",
          "Type: employees<br>Text: # HR Record\n\n# Samuel Trenton\n\n## Summary\n- **Date of Birth:** April 12, 1989\n- **Job Title:** Senio...",
          "Type: employees<br>Text: - **August 2016 - May 2018:** Junior Data Analyst  \n  *Started at Insurellm as a Junior Data Analyst...",
          "Type: employees<br>Text: - **2021:** Rating: 4.0/5  \n  *There was notable improvement in performance. Worked to enhance model...",
          "Type: employees<br>Text: - **2020:** Base Salary: $100,000 + Bonus: $8,000  \n  *Initial compensation as Senior Data Scientist...",
          "Type: employees<br>Text: # HR Record\n\n# Lisa Anderson\n\n## Summary\n- **Date of Birth:** November 18, 1985\n- **Job Title:** Mar...",
          "Type: employees<br>Text: - **June 2012 - December 2015:** Marketing Coordinator at Enterprise Solutions\n  - Supported marketi...",
          "Type: employees<br>Text: - **2019:** Rating: 4.0/5\n  *Strong start as Marketing Manager. Quick to understand insurance tech m...",
          "Type: employees<br>Text: ## Other HR Notes\n- **Education:** MBA in Marketing from University of Texas at Austin, BA in Commun...",
          "Type: employees<br>Text: # HR Record\n\n# Alex Harper\n\n## Summary\n- **Date of Birth**: March 15, 1993\n- **Job Title**: Sales De...",
          "Type: employees<br>Text: ## Annual Performance History  \n- **2021**:  \n  - **Performance Rating**: 4.5/5  \n  - **Key Achievem...",
          "Type: employees<br>Text: - **2022**:  \n  - **Base Salary**: $65,000 (Promotion to Senior SDR)  \n  - **Bonus**: $13,000 (20% o...",
          "Type: employees<br>Text: # HR Record\n\n# Carlos Rodriguez\n\n## Summary\n- **Date of Birth:** October 12, 1989\n- **Job Title:** S...",
          "Type: employees<br>Text: - **January 2015 - February 2017:** Application Developer at FinTech Systems\n  - Developed financial...",
          "Type: employees<br>Text: - **2019:** Rating: 4.1/5\n  *Strong start as Solutions Engineer. Quick learner with excellent techni...",
          "Type: employees<br>Text: ## Other HR Notes\n- **Education:** MS in Computer Science from University of Florida\n- **Certificati...",
          "Type: employees<br>Text: # HR Record\n\n# James Wilson\n\n## Summary\n- **Date of Birth:** April 5, 1978\n- **Job Title:** Chief Te...",
          "Type: employees<br>Text: - **June 2008 - February 2012:** Senior Engineering Manager at CloudSoft Corp.\n  - Managed multiple ...",
          "Type: employees<br>Text: - **2021:** Rating: 4.6/5\n  *Excellent performance navigating remote transition. Built strong engine...",
          "Type: employees<br>Text: - **2017:** Rating: 4.3/5\n  *Strong start as CTO. Quickly assessed technical landscape and began str...",
          "Type: employees<br>Text: ## Other HR Notes\n- **Education:** MS in Computer Science from MIT, BS in Computer Engineering from ...",
          "Type: employees<br>Text: # HR Record\n\n# Jordan K. Bishop\n\n## Summary\n- **Date of Birth:** March 15, 1990\n- **Job Title:** Fro...",
          "Type: employees<br>Text: ## Annual Performance History\n- **2019:** Exceeds Expectations - Continuously delivered high-quality...",
          "Type: employees<br>Text: ## Compensation History\n- **June 2018:** Starting Salary - $85,000\n- **June 2019:** Salary Increase ...",
          "Type: employees<br>Text: ## Other HR Notes\n- Jordan K. Bishop has been an integral part of club initiatives, including the In...",
          "Type: employees<br>Text: # HR Record\n\n# Emily Carter\n\n## Summary\n- **Date of Birth:** August 12, 1990\n- **Job Title:** Accoun...",
          "Type: employees<br>Text: - **2017-2019:** Marketing Intern  \n  - Assisted with market research and campaign development for s...",
          "Type: employees<br>Text: ## Compensation History\n| Year | Base Salary | Bonus         | Total Compensation |\n|------|--------...",
          "Type: employees<br>Text: Emily Carter exemplifies the kind of talent that drives Insurellm's success and is an invaluable ass...",
          "Type: employees<br>Text: # HR Record\n\n# Tyler Brooks\n\n## Summary\n- **Date of Birth:** September 9, 1998\n- **Job Title:** Juni...",
          "Type: employees<br>Text: - **2022:** Rating: 3.5/5\n  *Adequate performance for a junior developer. Good learning attitude but...",
          "Type: employees<br>Text: ## Compensation History\n- **2023:** Base Salary: $75,000 + Bonus: $2,000\n- **2022:** Base Salary: $7...",
          "Type: employees<br>Text: # HR Record\n\n# Brandon Walker\n\n## Summary\n- **Date of Birth:** December 5, 1993\n- **Job Title:** Tec...",
          "Type: employees<br>Text: - **January 2018 - April 2019:** IT Help Desk Technician at Regional Bank\n  - Provided internal IT s...",
          "Type: employees<br>Text: ## Other HR Notes\n- **Education:** Associate Degree in Information Technology from Phoenix Community..."
         ],
         "type": "scatter3d",
         "x": {
          "bdata": "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",
          "dtype": "f4"
         },
         "y": {
          "bdata": "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",
          "dtype": "f4"
         },
         "z": {
          "bdata": "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",
          "dtype": "f4"
         }
        }
       ],
       "layout": {
        "height": 700,
        "margin": {
         "b": 10,
         "l": 10,
         "r": 20,
         "t": 40
        },
        "scene": {
         "xaxis": {
          "title": {
           "text": "x"
          }
         },
         "yaxis": {
          "title": {
           "text": "y"
          }
         },
         "zaxis": {
          "title": {
           "text": "z"
          }
         }
        },
        "template": {
         "data": {
          "bar": [
           {
            "error_x": {
             "color": "#2a3f5f"
            },
            "error_y": {
             "color": "#2a3f5f"
            },
            "marker": {
             "line": {
              "color": "#E5ECF6",
              "width": 0.5
             },
             "pattern": {
              "fillmode": "overlay",
              "size": 10,
              "solidity": 0.2
             }
            },
            "type": "bar"
           }
          ],
          "barpolar": [
           {
            "marker": {
             "line": {
              "color": "#E5ECF6",
              "width": 0.5
             },
             "pattern": {
              "fillmode": "overlay",
              "size": 10,
              "solidity": 0.2
             }
            },
            "type": "barpolar"
           }
          ],
          "carpet": [
           {
            "aaxis": {
             "endlinecolor": "#2a3f5f",
             "gridcolor": "white",
             "linecolor": "white",
             "minorgridcolor": "white",
             "startlinecolor": "#2a3f5f"
            },
            "baxis": {
             "endlinecolor": "#2a3f5f",
             "gridcolor": "white",
             "linecolor": "white",
             "minorgridcolor": "white",
             "startlinecolor": "#2a3f5f"
            },
            "type": "carpet"
           }
          ],
          "choropleth": [
           {
            "colorbar": {
             "outlinewidth": 0,
             "ticks": ""
            },
            "type": "choropleth"
           }
          ],
          "contour": [
           {
            "colorbar": {
             "outlinewidth": 0,
             "ticks": ""
            },
            "colorscale": [
             [
              0,
              "#0d0887"
             ],
             [
              0.1111111111111111,
              "#46039f"
             ],
             [
              0.2222222222222222,
              "#7201a8"
             ],
             [
              0.3333333333333333,
              "#9c179e"
             ],
             [
              0.4444444444444444,
              "#bd3786"
             ],
             [
              0.5555555555555556,
              "#d8576b"
             ],
             [
              0.6666666666666666,
              "#ed7953"
             ],
             [
              0.7777777777777778,
              "#fb9f3a"
             ],
             [
              0.8888888888888888,
              "#fdca26"
             ],
             [
              1,
              "#f0f921"
             ]
            ],
            "type": "contour"
           }
          ],
          "contourcarpet": [
           {
            "colorbar": {
             "outlinewidth": 0,
             "ticks": ""
            },
            "type": "contourcarpet"
           }
          ],
          "heatmap": [
           {
            "colorbar": {
             "outlinewidth": 0,
             "ticks": ""
            },
            "colorscale": [
             [
              0,
              "#0d0887"
             ],
             [
              0.1111111111111111,
              "#46039f"
             ],
             [
              0.2222222222222222,
              "#7201a8"
             ],
             [
              0.3333333333333333,
              "#9c179e"
             ],
             [
              0.4444444444444444,
              "#bd3786"
             ],
             [
              0.5555555555555556,
              "#d8576b"
             ],
             [
              0.6666666666666666,
              "#ed7953"
             ],
             [
              0.7777777777777778,
              "#fb9f3a"
             ],
             [
              0.8888888888888888,
              "#fdca26"
             ],
             [
              1,
              "#f0f921"
             ]
            ],
            "type": "heatmap"
           }
          ],
          "histogram": [
           {
            "marker": {
             "pattern": {
              "fillmode": "overlay",
              "size": 10,
              "solidity": 0.2
             }
            },
            "type": "histogram"
           }
          ],
          "histogram2d": [
           {
            "colorbar": {
             "outlinewidth": 0,
             "ticks": ""
            },
            "colorscale": [
             [
              0,
              "#0d0887"
             ],
             [
              0.1111111111111111,
              "#46039f"
             ],
             [
              0.2222222222222222,
              "#7201a8"
             ],
             [
              0.3333333333333333,
              "#9c179e"
             ],
             [
              0.4444444444444444,
              "#bd3786"
             ],
             [
              0.5555555555555556,
              "#d8576b"
             ],
             [
              0.6666666666666666,
              "#ed7953"
             ],
             [
              0.7777777777777778,
              "#fb9f3a"
             ],
             [
              0.8888888888888888,
              "#fdca26"
             ],
             [
              1,
              "#f0f921"
             ]
            ],
            "type": "histogram2d"
           }
          ],
          "histogram2dcontour": [
           {
            "colorbar": {
             "outlinewidth": 0,
             "ticks": ""
            },
            "colorscale": [
             [
              0,
              "#0d0887"
             ],
             [
              0.1111111111111111,
              "#46039f"
             ],
             [
              0.2222222222222222,
              "#7201a8"
             ],
             [
              0.3333333333333333,
              "#9c179e"
             ],
             [
              0.4444444444444444,
              "#bd3786"
             ],
             [
              0.5555555555555556,
              "#d8576b"
             ],
             [
              0.6666666666666666,
              "#ed7953"
             ],
             [
              0.7777777777777778,
              "#fb9f3a"
             ],
             [
              0.8888888888888888,
              "#fdca26"
             ],
             [
              1,
              "#f0f921"
             ]
            ],
            "type": "histogram2dcontour"
           }
          ],
          "mesh3d": [
           {
            "colorbar": {
             "outlinewidth": 0,
             "ticks": ""
            },
            "type": "mesh3d"
           }
          ],
          "parcoords": [
           {
            "line": {
             "colorbar": {
              "outlinewidth": 0,
              "ticks": ""
             }
            },
            "type": "parcoords"
           }
          ],
          "pie": [
           {
            "automargin": true,
            "type": "pie"
           }
          ],
          "scatter": [
           {
            "fillpattern": {
             "fillmode": "overlay",
             "size": 10,
             "solidity": 0.2
            },
            "type": "scatter"
           }
          ],
          "scatter3d": [
           {
            "line": {
             "colorbar": {
              "outlinewidth": 0,
              "ticks": ""
             }
            },
            "marker": {
             "colorbar": {
              "outlinewidth": 0,
              "ticks": ""
             }
            },
            "type": "scatter3d"
           }
          ],
          "scattercarpet": [
           {
            "marker": {
             "colorbar": {
              "outlinewidth": 0,
              "ticks": ""
             }
            },
            "type": "scattercarpet"
           }
          ],
          "scattergeo": [
           {
            "marker": {
             "colorbar": {
              "outlinewidth": 0,
              "ticks": ""
             }
            },
            "type": "scattergeo"
           }
          ],
          "scattergl": [
           {
            "marker": {
             "colorbar": {
              "outlinewidth": 0,
              "ticks": ""
             }
            },
            "type": "scattergl"
           }
          ],
          "scattermap": [
           {
            "marker": {
             "colorbar": {
              "outlinewidth": 0,
              "ticks": ""
             }
            },
            "type": "scattermap"
           }
          ],
          "scattermapbox": [
           {
            "marker": {
             "colorbar": {
              "outlinewidth": 0,
              "ticks": ""
             }
            },
            "type": "scattermapbox"
           }
          ],
          "scatterpolar": [
           {
            "marker": {
             "colorbar": {
              "outlinewidth": 0,
              "ticks": ""
             }
            },
            "type": "scatterpolar"
           }
          ],
          "scatterpolargl": [
           {
            "marker": {
             "colorbar": {
              "outlinewidth": 0,
              "ticks": ""
             }
            },
            "type": "scatterpolargl"
           }
          ],
          "scatterternary": [
           {
            "marker": {
             "colorbar": {
              "outlinewidth": 0,
              "ticks": ""
             }
            },
            "type": "scatterternary"
           }
          ],
          "surface": [
           {
            "colorbar": {
             "outlinewidth": 0,
             "ticks": ""
            },
            "colorscale": [
             [
              0,
              "#0d0887"
             ],
             [
              0.1111111111111111,
              "#46039f"
             ],
             [
              0.2222222222222222,
              "#7201a8"
             ],
             [
              0.3333333333333333,
              "#9c179e"
             ],
             [
              0.4444444444444444,
              "#bd3786"
             ],
             [
              0.5555555555555556,
              "#d8576b"
             ],
             [
              0.6666666666666666,
              "#ed7953"
             ],
             [
              0.7777777777777778,
              "#fb9f3a"
             ],
             [
              0.8888888888888888,
              "#fdca26"
             ],
             [
              1,
              "#f0f921"
             ]
            ],
            "type": "surface"
           }
          ],
          "table": [
           {
            "cells": {
             "fill": {
              "color": "#EBF0F8"
             },
             "line": {
              "color": "white"
             }
            },
            "header": {
             "fill": {
              "color": "#C8D4E3"
             },
             "line": {
              "color": "white"
             }
            },
            "type": "table"
           }
          ]
         },
         "layout": {
          "annotationdefaults": {
           "arrowcolor": "#2a3f5f",
           "arrowhead": 0,
           "arrowwidth": 1
          },
          "autotypenumbers": "strict",
          "coloraxis": {
           "colorbar": {
            "outlinewidth": 0,
            "ticks": ""
           }
          },
          "colorscale": {
           "diverging": [
            [
             0,
             "#8e0152"
            ],
            [
             0.1,
             "#c51b7d"
            ],
            [
             0.2,
             "#de77ae"
            ],
            [
             0.3,
             "#f1b6da"
            ],
            [
             0.4,
             "#fde0ef"
            ],
            [
             0.5,
             "#f7f7f7"
            ],
            [
             0.6,
             "#e6f5d0"
            ],
            [
             0.7,
             "#b8e186"
            ],
            [
             0.8,
             "#7fbc41"
            ],
            [
             0.9,
             "#4d9221"
            ],
            [
             1,
             "#276419"
            ]
           ],
           "sequential": [
            [
             0,
             "#0d0887"
            ],
            [
             0.1111111111111111,
             "#46039f"
            ],
            [
             0.2222222222222222,
             "#7201a8"
            ],
            [
             0.3333333333333333,
             "#9c179e"
            ],
            [
             0.4444444444444444,
             "#bd3786"
            ],
            [
             0.5555555555555556,
             "#d8576b"
            ],
            [
             0.6666666666666666,
             "#ed7953"
            ],
            [
             0.7777777777777778,
             "#fb9f3a"
            ],
            [
             0.8888888888888888,
             "#fdca26"
            ],
            [
             1,
             "#f0f921"
            ]
           ],
           "sequentialminus": [
            [
             0,
             "#0d0887"
            ],
            [
             0.1111111111111111,
             "#46039f"
            ],
            [
             0.2222222222222222,
             "#7201a8"
            ],
            [
             0.3333333333333333,
             "#9c179e"
            ],
            [
             0.4444444444444444,
             "#bd3786"
            ],
            [
             0.5555555555555556,
             "#d8576b"
            ],
            [
             0.6666666666666666,
             "#ed7953"
            ],
            [
             0.7777777777777778,
             "#fb9f3a"
            ],
            [
             0.8888888888888888,
             "#fdca26"
            ],
            [
             1,
             "#f0f921"
            ]
           ]
          },
          "colorway": [
           "#636efa",
           "#EF553B",
           "#00cc96",
           "#ab63fa",
           "#FFA15A",
           "#19d3f3",
           "#FF6692",
           "#B6E880",
           "#FF97FF",
           "#FECB52"
          ],
          "font": {
           "color": "#2a3f5f"
          },
          "geo": {
           "bgcolor": "white",
           "lakecolor": "white",
           "landcolor": "#E5ECF6",
           "showlakes": true,
           "showland": true,
           "subunitcolor": "white"
          },
          "hoverlabel": {
           "align": "left"
          },
          "hovermode": "closest",
          "mapbox": {
           "style": "light"
          },
          "paper_bgcolor": "white",
          "plot_bgcolor": "#E5ECF6",
          "polar": {
           "angularaxis": {
            "gridcolor": "white",
            "linecolor": "white",
            "ticks": ""
           },
           "bgcolor": "#E5ECF6",
           "radialaxis": {
            "gridcolor": "white",
            "linecolor": "white",
            "ticks": ""
           }
          },
          "scene": {
           "xaxis": {
            "backgroundcolor": "#E5ECF6",
            "gridcolor": "white",
            "gridwidth": 2,
            "linecolor": "white",
            "showbackground": true,
            "ticks": "",
            "zerolinecolor": "white"
           },
           "yaxis": {
            "backgroundcolor": "#E5ECF6",
            "gridcolor": "white",
            "gridwidth": 2,
            "linecolor": "white",
            "showbackground": true,
            "ticks": "",
            "zerolinecolor": "white"
           },
           "zaxis": {
            "backgroundcolor": "#E5ECF6",
            "gridcolor": "white",
            "gridwidth": 2,
            "linecolor": "white",
            "showbackground": true,
            "ticks": "",
            "zerolinecolor": "white"
           }
          },
          "shapedefaults": {
           "line": {
            "color": "#2a3f5f"
           }
          },
          "ternary": {
           "aaxis": {
            "gridcolor": "white",
            "linecolor": "white",
            "ticks": ""
           },
           "baxis": {
            "gridcolor": "white",
            "linecolor": "white",
            "ticks": ""
           },
           "bgcolor": "#E5ECF6",
           "caxis": {
            "gridcolor": "white",
            "linecolor": "white",
            "ticks": ""
           }
          },
          "title": {
           "x": 0.05
          },
          "xaxis": {
           "automargin": true,
           "gridcolor": "white",
           "linecolor": "white",
           "ticks": "",
           "title": {
            "standoff": 15
           },
           "zerolinecolor": "white",
           "zerolinewidth": 2
          },
          "yaxis": {
           "automargin": true,
           "gridcolor": "white",
           "linecolor": "white",
           "ticks": "",
           "title": {
            "standoff": 15
           },
           "zerolinecolor": "white",
           "zerolinewidth": 2
          }
         }
        },
        "title": {
         "text": "3D Chroma Vector Store Visualization"
        },
        "width": 900
       }
      }
     },
     "metadata": {},
     "output_type": "display_data"
    }
   ],
   "source": [
    "# Let's try 3D!\n",
    "\n",
    "tsne = TSNE(n_components=3, random_state=42)\n",
    "reduced_vectors = tsne.fit_transform(vectors)\n",
    "\n",
    "# Create the 3D scatter plot\n",
    "fig = go.Figure(data=[go.Scatter3d(\n",
    "    x=reduced_vectors[:, 0],\n",
    "    y=reduced_vectors[:, 1],\n",
    "    z=reduced_vectors[:, 2],\n",
    "    mode='markers',\n",
    "    marker=dict(size=5, color=colors, opacity=0.8),\n",
    "    text=[f\"Type: {t}<br>Text: {d[:100]}...\" for t, d in zip(doc_types, documents)],\n",
    "    hoverinfo='text'\n",
    ")])\n",
    "\n",
    "fig.update_layout(\n",
    "    title='3D Chroma Vector Store Visualization',\n",
    "    scene=dict(xaxis_title='x', yaxis_title='y', zaxis_title='z'),\n",
    "    width=900,\n",
    "    height=700,\n",
    "    margin=dict(r=20, b=10, l=10, t=40)\n",
    ")\n",
    "\n",
    "fig.show()"
   ]
  },
  {
   "cell_type": "markdown",
   "metadata": {},
   "source": [
    "## LangChain Code to Call OpenAI"
   ]
  },
  {
   "cell_type": "code",
   "execution_count": 13,
   "metadata": {},
   "outputs": [
    {
     "name": "stdout",
     "output_type": "stream",
     "text": [
      "Insurellm is an innovative insurance technology company founded in 2015 that develops digital platforms for various insurance lines, including auto, home, life, health, and commercial insurance. It focuses on providing modern, customer-centric insurance solutions through its suite of software products, operating primarily remotely across the United States.\n"
     ]
    }
   ],
   "source": [
    "# create a new Chat with OpenAI\n",
    "llm = ChatOpenAI(temperature=0, model_name=MODEL)\n",
    "\n",
    "# how many chunks to provide in each prompt\n",
    "retriever = vectorstore.as_retriever(search_kwargs={\"k\": 5})\n",
    "\n",
    "# Simple prompt that includes chat history\n",
    "prompt = ChatPromptTemplate.from_messages([\n",
    "    (\"system\", \"Answer the question based on the context:\\n{context}\"),\n",
    "    (\"human\", \"{input}\")\n",
    "])\n",
    "\n",
    "# Create the chain\n",
    "question_answer_chain = create_stuff_documents_chain(llm, prompt)\n",
    "rag_chain = create_retrieval_chain(retriever, question_answer_chain)\n",
    "\n",
    "# Invoke it\n",
    "query = \"Please explain what Insurellm is in a couple of sentences\"\n",
    "result = rag_chain.invoke({\"input\": query})\n",
    "print(result[\"answer\"])"
   ]
  },
  {
   "cell_type": "markdown",
   "metadata": {},
   "source": [
    "# CHALLENGE:\n",
    "\n",
    "You will be changing or replacing 2 modules:\n",
    "\n",
    "`ingest.py`\n",
    "\n",
    "`answer.py`\n",
    "\n",
    "They are VERY simple! Let's look at them."
   ]
  },
  {
   "cell_type": "markdown",
   "metadata": {},
   "source": [
    "## Now check out ingest.py\n",
    "\n",
    "Then run at the terminal:\n",
    "\n",
    "`uv run ingest.py`"
   ]
  },
  {
   "cell_type": "code",
   "execution_count": 14,
   "metadata": {},
   "outputs": [
    {
     "name": "stdout",
     "output_type": "stream",
     "text": [
      "Chunk size: 2000, Chunk overlap: 250\n",
      "There are 205 vectors with 1,536 dimensions in the vector store\n",
      "Ingestion complete\n"
     ]
    }
   ],
   "source": [
    "!uv run ingest.py"
   ]
  },
  {
   "cell_type": "markdown",
   "metadata": {},
   "source": [
    "## Now check out answer.py"
   ]
  },
  {
   "cell_type": "code",
   "execution_count": 18,
   "metadata": {},
   "outputs": [
    {
     "name": "stdout",
     "output_type": "stream",
     "text": [
      "Raggified question: Retrieve the contract number associated with Metropolitan Life Group's Lifellm agreement.\n"
     ]
    },
    {
     "data": {
      "text/plain": [
       "[Document(id='7a4a8ff1-90c1-46ba-96b4-d27fa3a85875', metadata={'doc_type': 'contracts', 'source': 'knowledge-base/contracts/Contract with Metropolitan Life Group for Lifellm.md', 'filename': 'Contract with Metropolitan Life Group for Lifellm'}, page_content='Document Type: contracts | Filename: Contract with Metropolitan Life Group for Lifellm\\n\\n# Contract with Metropolitan Life Group for Lifellm\\n\\n**Contract Date:** April 5, 2025\\n**Contract Number:** LF-2025-E-0087\\n**Parties:**\\n- Insurellm, Inc.\\n- Metropolitan Life Group, Inc.\\n\\n---\\n\\n## Terms\\n\\n1. **Coverage:** Insurellm agrees to provide Metropolitan Life Group with enterprise access to the Lifellm platform, including white-label capabilities, full customization, dedicated support, and enterprise-grade security for their nationwide life insurance operations managing 50,000+ active policies.\\n\\n2. **Duration:** This agreement is effective for a period of 36 months from the contract date, representing a strategic long-term partnership.\\n\\n3. **Payment:** Metropolitan Life Group shall pay custom Enterprise Tier pricing of $28,000 per month for months 1-12, $30,500 per month for months 13-24, and $33,000 per month for months 25-36, totaling $1,098,000 over the contract term.\\n\\n4. **Service Level Agreement:** Insurellm guarantees 99.9% uptime measured monthly, with 10% monthly credit for each 0.1% below target, maximum 30% credit.\\n\\n5. **Confidentiality:** Both parties agree to maintain the highest level of confidentiality regarding AI algorithms, underwriting models, policyholder data, and strategic initiatives.\\n\\n6. **Data Security:** Insurellm commits to maintaining HIPAA compliance, SOC 2 Type II certification, and annual third-party security audits.\\n\\n7. **Disaster Recovery:** 4-hour recovery time objective (RTO) and 30-minute recovery point objective (RPO).\\n\\n---\\n\\n## Renewal\\n\\nThis agreement includes a mutual 90-day renewal notice period. Metropolitan Life Group receives guaranteed enterprise pricing at or below market rates for renewal. Contract may be extended in 12 or 24-month increments with mutual agreement.\\n\\n---\\n\\n## Features\\n\\nMetropolitan Life Group will receive the complete Lifellm Enterprise suite:'),\n",
       " Document(id='f6c4d108-ed0c-4fc8-9c67-d3662ab429ca', metadata={'source': 'knowledge-base/contracts/Contract with Metropolitan Life Group for Lifellm.md', 'doc_type': 'contracts', 'filename': 'Contract with Metropolitan Life Group for Lifellm'}, page_content=\"Document Type: contracts | Filename: Contract with Metropolitan Life Group for Lifellm\\n\\n6. **Integration Services:**\\n   - Enterprise integration with Metropolitan's systems:\\n     - iPipeline policy administration\\n     - Salesforce CRM and agent management\\n     - DocuSign for digital signatures\\n     - Multiple payment processors\\n     - Data warehouse (Snowflake)\\n     - BI platforms (Tableau, PowerBI)\\n   - Dedicated integration engineer (50% FTE)\\n   - Quarterly integration health assessments\\n   - Performance optimization and load testing\\n\\n7. **Analytics and Reporting:**\\n   - Custom executive dashboard development (unlimited)\\n   - Real-time operational dashboards\\n   - Automated reporting suite (daily, weekly, monthly, quarterly, annual)\\n   - Ad-hoc analytics support (unlimited requests)\\n   - Industry benchmarking against top 50 life insurers\\n   - Predictive modeling consultation (quarterly sessions)\\n   - Data science partnership for advanced analytics projects\\n\\n8. **Continuous Improvement:**\\n   - Monthly process optimization reviews\\n   - Semi-annual efficiency audits with ROI analysis\\n   - Best practice sharing and peer learning opportunities\\n   - Innovation lab access for emerging technologies (AI, blockchain, quantum computing)\\n   - Joint whitepapers and case studies\\n   - Speaking opportunities at industry conferences\\n\\n---\\n\\n**Signatures:**\\n\\n_________________________________\\n**Jennifer Rodriguez**\\n**Title**: Chief Executive Officer\\n**Insurellm, Inc.**\\n**Date**: April 5, 2025\\n\\n_________________________________\\n**Richard Thompson**\\n**Title**: Chairman & Chief Executive Officer\\n**Metropolitan Life Group, Inc.**\\n**Date**: April 5, 2025\\n\\n---\\n\\nThis agreement establishes Metropolitan Life Group as Insurellm's flagship enterprise life insurance partner, representing a strategic partnership to transform life insurance through cutting-edge AI technology and innovation. This contract supersedes all prior agreements and communications.\"),\n",
       " Document(id='8a01a6fe-797f-4e89-9881-27a56381c15f', metadata={'filename': 'Contract with Metropolitan Life Group for Lifellm', 'source': 'knowledge-base/contracts/Contract with Metropolitan Life Group for Lifellm.md', 'doc_type': 'contracts'}, page_content=\"Document Type: contracts | Filename: Contract with Metropolitan Life Group for Lifellm\\n\\n---\\n\\n## Features\\n\\nMetropolitan Life Group will receive the complete Lifellm Enterprise suite:\\n\\n1. **Unlimited Policy Administration:** No capacity restrictions, supporting Metropolitan's 50,000+ active policies with scalability to 200,000+ as business expands.\\n\\n2. **White-Label Platform:** Complete branding customization:\\n   - Custom domains (life.metropolitanlifegroup.com)\\n   - Branded mobile apps (iOS and Android) with custom UI/UX\\n   - Customized email templates and policyholder communications\\n   - Co-branded agent portals and marketing materials\\n\\n3. **Advanced AI Underwriting:** State-of-the-art underwriting capabilities:\\n   - Instant decisioning for 75% of applications up to $1M face amount\\n   - Predictive mortality models trained on 50M+ data points\\n   - Genetic risk assessment integration (when legally permitted)\\n   - Accelerated underwriting with no medical exam for qualified applicants\\n   - Alternative data sources (social media, financial, education)\\n\\n4. **Comprehensive Digital Health Integration:**\\n   - Wearable integrations: Apple Watch, Fitbit, Garmin, Oura Ring, Whoop\\n   - Health app integrations: Apple Health, Google Fit, MyFitnessPal\\n   - Biometric screening integration with Quest Diagnostics, LabCorp\\n   - Wellness program platform with challenges, rewards, gamification\\n   - Premium discount automation based on verified health behaviors\\n   - Long-term health trajectory modeling\\n\\n5. **Complete API Access:** Unlimited API calls supporting:\\n   - Real-time integration with Metropolitan's core policy admin system\\n   - Agent management system synchronization\\n   - Third-party data provider integrations (MIB, IntelliScript, ExamOne, Clareto, Lifescore)\\n   - Custom workflow automation\\n   - Data warehouse bidirectional sync\"),\n",
       " Document(id='c808854f-a110-41bf-917d-83b420bacb44', metadata={'source': 'knowledge-base/contracts/Contract with Metropolitan Life Group for Lifellm.md', 'filename': 'Contract with Metropolitan Life Group for Lifellm', 'doc_type': 'contracts'}, page_content='Document Type: contracts | Filename: Contract with Metropolitan Life Group for Lifellm\\n\\n6. **Predictive Analytics Suite:**\\n   - Lapse and persistency prediction modeling\\n   - Cross-sell and upsell opportunity identification\\n   - Agent productivity analytics and optimization\\n   - Competitive positioning and market share analysis\\n   - Lifetime value prediction for policyholders\\n\\n7. **Advanced Policy Management:**\\n   - Automatic premium loan processing\\n   - Policy conversion and exchange support\\n   - Dividend calculation and distribution (whole life)\\n   - Non-forfeiture options automation\\n   - Reinstatement processing with re-underwriting\\n   - Settlement options administration\\n\\n8. **Agent Network Platform:**\\n   - Support for 5,000+ independent agents and career agents\\n   - Hierarchical permissions and agency structures\\n   - Real-time commission calculation and reporting\\n   - Advanced quoting engine with need analysis tools\\n   - Automated licensing and appointment tracking\\n   - Agent recruiting and onboarding workflows\\n\\n9. **Regulatory and Compliance:**\\n   - 50-state compliance monitoring and form filing\\n   - Automated NAIC reporting\\n   - AML (Anti-Money Laundering) screening integration\\n   - OFAC (Office of Foreign Assets Control) checking\\n   - Escheatment and unclaimed property tracking\\n   - Audit trail and compliance reporting\\n\\n10. **Blockchain Policy Verification:**\\n   - Immutable policy records on private blockchain\\n   - Fraud prevention through distributed ledger\\n   - Beneficiary verification and claims authentication\\n   - Regulatory audit transparency\\n\\n---\\n\\n## Support\\n\\nInsurellm commits to comprehensive Enterprise-level support for Metropolitan Life Group:\\n\\n1. **Dedicated Success Team:**\\n   - Executive sponsor (C-suite level) with quarterly strategic reviews\\n   - Dedicated Customer Success Director with weekly touchpoints\\n   - Technical Account Manager for system optimization\\n   - Solutions Architect for ongoing innovation projects\\n   - Quarterly executive business reviews with CEO participation'),\n",
       " Document(id='218e39d5-5e8f-42a2-868d-39dad600292b', metadata={'doc_type': 'contracts', 'source': 'knowledge-base/contracts/Contract with Metropolitan Life Group for Lifellm.md', 'filename': 'Contract with Metropolitan Life Group for Lifellm'}, page_content=\"Document Type: contracts | Filename: Contract with Metropolitan Life Group for Lifellm\\n\\n2. **24/7/365 Premium Support:**\\n   - Guaranteed 15-minute response for P1 critical issues\\n   - 1-hour response for P2 high-priority issues\\n   - 4-hour response for P3 standard issues\\n   - Named support team familiar with Metropolitan's environment\\n   - Private Slack channel with engineering team access\\n   - Annual on-site support visits (minimum 6 per year)\\n\\n3. **Comprehensive Implementation:**\\n   - 12-month phased implementation program with 3 major releases\\n   - Dedicated project management office (PMO) with weekly steering committee\\n   - Migration of 50,000+ existing policies from legacy system\\n   - Training for 150+ Metropolitan staff and 500+ top-producing agents\\n   - Parallel processing with legacy system for 90 days\\n   - Go-live support with 8-week on-site Insurellm team presence\\n\\n4. **Training and Enablement:**\\n   - Comprehensive training programs for all roles\\n   - Executive briefings on AI and technology trends\\n   - Train-the-trainer certification program\\n   - Annual user conference attendance (5 attendees, all expenses paid)\\n   - Quarterly advanced training sessions\\n   - Unlimited online learning platform access\\n   - Custom training content development\\n\\n5. **Custom Development:**\\n   - 2,000 hours annually of custom development included\\n   - Dedicated development team for Metropolitan-specific features\\n   - Priority feature requests with guaranteed roadmap inclusion\\n   - Early access to beta features (90 days before general release)\\n   - Joint innovation projects and co-development opportunities\\n   - Input into product strategy and 3-year roadmap\"),\n",
       " Document(id='ec73a781-f17f-44a7-9e8d-9a5915640a81', metadata={'doc_type': 'contracts', 'filename': 'Contract with Evergreen Life Insurance for Lifellm', 'source': 'knowledge-base/contracts/Contract with Evergreen Life Insurance for Lifellm.md'}, page_content=\"Document Type: contracts | Filename: Contract with Evergreen Life Insurance for Lifellm\\n\\n# Contract with Evergreen Life Insurance for Lifellm\\n\\n**Contract Date:** January 20, 2025\\n**Contract Number:** LF-2025-0012\\n**Parties:**\\n- Insurellm, Inc.\\n- Evergreen Life Insurance Company\\n\\n---\\n\\n## Terms\\n\\n1. **Coverage:** Insurellm agrees to provide Evergreen Life Insurance with access to the Lifellm platform, enabling AI-powered life insurance underwriting, policy administration, and risk assessment for individual and group life policies.\\n\\n2. **Duration:** This agreement is effective for a period of 12 months from the contract date, with automatic renewal provisions unless terminated with 30-day written notice.\\n\\n3. **Payment:** Evergreen Life Insurance shall pay a monthly fee of $3,500, due by the 5th of every month for the Starter Tier package.\\n\\n4. **Policy Volume:** Starter Tier supports underwriting and administration for up to 2,000 active policies. Current baseline: 1,400 policies.\\n\\n5. **Confidentiality:** Both parties agree to maintain strict confidentiality of proprietary underwriting models, policyholder health information (PHI), and business strategies.\\n\\n6. **HIPAA Compliance:** Insurellm maintains full HIPAA compliance for all health data processed through the Lifellm platform.\\n\\n7. **Liability:** Insurellm's liability is limited to direct damages not exceeding the total fees paid in the preceding 6 months.\\n\\n---\\n\\n## Renewal\\n\\nUnless either party provides written notice of termination at least 30 days prior to contract expiration, this agreement automatically renews for successive 12-month terms under the same terms, subject to pricing adjustments with 60 days' advance notice (capped at 10% annual increase).\\n\\n---\\n\\n## Features\\n\\nEvergreen Life Insurance will receive the following Starter Tier features:\"),\n",
       " Document(id='ac436fd1-9a1c-425f-8352-8a48c2cef0ae', metadata={'source': 'knowledge-base/contracts/Contract with Heritage Life Assurance for Lifellm.md', 'doc_type': 'contracts', 'filename': 'Contract with Heritage Life Assurance for Lifellm'}, page_content='Document Type: contracts | Filename: Contract with Heritage Life Assurance for Lifellm\\n\\n# Contract with Heritage Life Assurance for Lifellm\\n\\n**Contract Date:** February 12, 2025\\n**Contract Number:** LF-2025-0045\\n\\n---\\n\\n## Terms\\n\\n1. **Parties Involved**: This contract is entered into between Insurellm, Inc. (\"Provider\") and Heritage Life Assurance (\"Client\").\\n\\n2. **Scope of Services**: Provider agrees to deliver Lifellm Growth Tier, including AI-powered underwriting, predictive risk modeling, digital health integration, and policy management capabilities.\\n\\n3. **Payment Terms**: Client shall pay $7,500 per month for 18 months. Total contract value: $135,000. Payments due on the 1st via ACH.\\n\\n4. **Policy Volume**: Growth Tier supports up to 10,000 active policies. Heritage currently administers 6,200 policies.\\n\\n5. **Contract Duration**: 18 months commencing February 12, 2025 and ending August 11, 2026.\\n\\n## Renewal\\n\\n1. **Automatic Renewal**: This agreement automatically renews for 12-month terms unless either party provides 45-day written notice of non-renewal.\\n\\n2. **Renewal Pricing**: Pricing adjustments communicated 75 days prior to renewal, capped at 8% annual increase.\\n\\n## Features\\n\\n1. **AI-Powered Underwriting**: Heritage Life Assurance will benefit from:\\n   - Accelerated underwriting with 65% instant decisions\\n   - Medical record analysis and risk scoring\\n   - Mortality prediction models\\n   - Automated decisioning for face amounts up to $750,000\\n\\n2. **Predictive Risk Modeling**: Advanced analytics considering:\\n   - Comprehensive medical histories\\n   - Prescription drug databases\\n   - Lifestyle and occupation factors\\n   - Family history and genetic markers\\n   - Predictive health trajectories\\n\\n3. **Digital Health Integration**:\\n   - Wearable device connections (Fitbit, Apple Watch)\\n   - Health app integrations\\n   - Wellness program platform\\n   - Premium discount automation\\n   - Activity tracking and rewards'),\n",
       " Document(id='b0987191-d7b3-4bf4-8943-d47c330677b0', metadata={'doc_type': 'company', 'filename': 'overview', 'source': 'knowledge-base/company/overview.md'}, page_content=\"Document Type: company | Filename: overview\\n\\n**Claims Processing (Claimllm)**: 7 contracts ranging from independent adjusting firms to enterprise claims networks\\n\\n**Life Insurance (Lifellm)**: 6 contracts serving life insurance carriers from small regional providers to major national groups\\n\\n**Health Insurance (Healthllm)**: 6 contracts with health plans from regional insurers to multi-state healthcare alliances\\n\\n**Auto Insurance (Carllm)**: 3 contracts with personal and commercial auto insurers\\n\\n**Home Insurance (Homellm)**: 4 contracts including property insurers with advanced IoT and catastrophe management needs\\n\\n**Insurance Marketplace (Markellm)**: 2 contracts with agencies and brokers leveraging the consumer-insurer matching platform\\n\\n**Reinsurance (Rellm)**: 2 contracts with reinsurance companies including global treaty and facultative operations\\n\\nThis diversified portfolio demonstrates Insurellm's ability to serve the entire insurance value chain, from consumer-facing marketplaces to complex reinsurance operations.\"),\n",
       " Document(id='692a3dc2-6cb5-4e10-b118-24660a293acb', metadata={'doc_type': 'contracts', 'filename': 'Contract with Guardian Life Partners for Lifellm', 'source': 'knowledge-base/contracts/Contract with Guardian Life Partners for Lifellm.md'}, page_content=\"Document Type: contracts | Filename: Contract with Guardian Life Partners for Lifellm\\n\\n# Contract with Guardian Life Partners for Lifellm\\n\\n---\\n\\n## Terms\\n\\n1. **Agreement Effective Date**: This contract is effective as of March 1, 2025.\\n2. **Duration**: This agreement will remain in effect for a term of 24 months, concluding on February 28, 2027.\\n3. **Subscription Type**: Guardian Life Partners agrees to subscribe to the **Growth Tier** of Lifellm, at a cost of $7,500/month, totaling $180,000 for the duration of this contract.\\n4. **Policy Capacity**: Growth Tier supports up to 10,000 active policies with underwriting for 3,000 new applications annually.\\n5. **Payment Terms**: Payments are due on the 1st of each month via ACH transfer. Late payments incur a 1.5% monthly penalty.\\n6. **User Licenses**: Contract includes 25 named user licenses (underwriters, administrators, agents). Additional licenses: $120/month per user.\\n7. **Termination Clause**: Either party may terminate with 60 days' written notice. Early termination before month 12 requires payment of 30% of remaining contract value.\\n\\n---\\n\\n## Renewal\\n\\n1. **Automatic Renewal**: This agreement will automatically renew for an additional 24-month term unless either party provides written notice of non-renewal at least 60 days before expiration.\\n2. **Price Protection**: Pricing increases capped at 7% annually for first two renewals.\\n3. **Enterprise Upgrade**: If Guardian upgrades to Enterprise tier at renewal, receives 12% discount on incremental cost for first renewal period.\\n\\n---\\n\\n## Features\"),\n",
       " Document(id='0005744a-34ee-4101-8e26-b7baa2ca9dd3', metadata={'source': 'knowledge-base/contracts/Contract with Guardian Life Partners for Lifellm.md', 'doc_type': 'contracts', 'filename': 'Contract with Guardian Life Partners for Lifellm'}, page_content=\"Document Type: contracts | Filename: Contract with Guardian Life Partners for Lifellm\\n\\n_________________________________\\n**Jonathan Park**\\n**Title**: President & CEO\\n**Guardian Life Partners**\\n**Date**: March 1, 2025\\n\\n---\\n\\n*This contract establishes Guardian Life Partners as a strategic partner leveraging Lifellm's advanced AI underwriting and digital health integration to modernize life insurance operations.*\")]"
      ]
     },
     "execution_count": 18,
     "metadata": {},
     "output_type": "execute_result"
    }
   ],
   "source": [
    "from answer import fetch_context, answer_question\n",
    "\n",
    "fetch_context(\"What is the contract number for Metropolitan Life Group's Lifellm agreement?\")"
   ]
  },
  {
   "cell_type": "code",
   "execution_count": 16,
   "metadata": {},
   "outputs": [
    {
     "data": {
      "text/markdown": [
       "Avery Lancaster is the Co-Founder and Chief Executive Officer (CEO) of Insurellm. She has been with the company since its founding in 2015 and has played a key role in guiding Insurellm to become a leading provider in the insurance technology industry. Avery is known for her innovative leadership, risk management expertise, and her active participation in professional development and community outreach efforts."
      ],
      "text/plain": [
       "<IPython.core.display.Markdown object>"
      ]
     },
     "metadata": {},
     "output_type": "display_data"
    }
   ],
   "source": [
    "result, chunks = await answer_question(\"Who is Avery?\")\n",
    "display(Markdown(result))"
   ]
  },
  {
   "cell_type": "markdown",
   "metadata": {},
   "source": [
    "## Now check out app.py\n",
    "\n",
    "As long as you keep the same 2 functions in `answer.py`, this UI will keep working!!"
   ]
  },
  {
   "cell_type": "code",
   "execution_count": 17,
   "metadata": {},
   "outputs": [
    {
     "name": "stdout",
     "output_type": "stream",
     "text": [
      "* Running on local URL:  http://127.0.0.1:7860\n",
      "* To create a public link, set `share=True` in `launch()`.\n",
      "^C\n",
      "Traceback (most recent call last):\n",
      "  File \"/Users/kinjal/projects/sds/.venv/lib/python3.12/site-packages/gradio/blocks.py\", line 2958, in block_thread\n",
      "    time.sleep(0.1)\n",
      "KeyboardInterrupt\n",
      "\n",
      "During handling of the above exception, another exception occurred:\n",
      "\n",
      "Traceback (most recent call last):\n",
      "  File \"/Users/kinjal/projects/sds/week2/app.py\", line 60, in <module>\n",
      "    main()\n",
      "  File \"/Users/kinjal/projects/sds/week2/app.py\", line 56, in main\n",
      "    ui.launch(inbrowser=True)\n",
      "  File \"/Users/kinjal/projects/sds/.venv/lib/python3.12/site-packages/gradio/blocks.py\", line 2865, in launch\n",
      "    self.block_thread()\n",
      "  File \"/Users/kinjal/projects/sds/.venv/lib/python3.12/site-packages/gradio/blocks.py\", line 2962, in block_thread\n",
      "    self.server.close()\n",
      "  File \"/Users/kinjal/projects/sds/.venv/lib/python3.12/site-packages/gradio/http_server.py\", line 69, in close\n",
      "    self.thread.join(timeout=5)\n",
      "  File \"/Users/kinjal/.local/share/uv/python/cpython-3.12.11-macos-aarch64-none/lib/python3.12/threading.py\", line 1153, in join\n",
      "    self._wait_for_tstate_lock(timeout=max(timeout, 0))\n",
      "  File \"/Users/kinjal/.local/share/uv/python/cpython-3.12.11-macos-aarch64-none/lib/python3.12/threading.py\", line 1169, in _wait_for_tstate_lock\n",
      "    if lock.acquire(block, timeout):\n",
      "       ^^^^^^^^^^^^^^^^^^^^^^^^^^^^\n",
      "KeyboardInterrupt\n"
     ]
    }
   ],
   "source": [
    "!uv run app.py"
   ]
  },
  {
   "cell_type": "markdown",
   "metadata": {},
   "source": [
    "## OK - Now it's time to EVALUATE!\n",
    "\n",
    "### First check out tests.jsonl for all the questions\n",
    "\n",
    "And see how it's loaded in test.py\n"
   ]
  },
  {
   "cell_type": "code",
   "execution_count": 19,
   "metadata": {},
   "outputs": [
    {
     "name": "stdout",
     "output_type": "stream",
     "text": [
      "150\n",
      "question='Who won the prestigious IIOTY award in 2023?' keywords=['Maxine', 'Thompson', 'IIOTY'] reference_answer='Maxine Thompson won the prestigious Insurellm Innovator of the Year (IIOTY) award in 2023.' category='direct_fact'\n",
      "question='How many Claimllm contracts does Insurellm have?' keywords=['7', 'Claimllm'] reference_answer='Insurellm has 7 contracts for Claimllm, ranging from independent adjusting firms to enterprise claims networks.' category='direct_fact'\n"
     ]
    }
   ],
   "source": [
    "from test import load_tests\n",
    "\n",
    "test_data = load_tests()\n",
    "\n",
    "print(len(test_data))\n",
    "print(test_data[0])\n",
    "print(test_data[10])\n",
    "\n"
   ]
  },
  {
   "cell_type": "code",
   "execution_count": 20,
   "metadata": {},
   "outputs": [
    {
     "name": "stdout",
     "output_type": "stream",
     "text": [
      "{'holistic', 'direct_fact', 'relationship', 'temporal', 'spanning', 'numerical', 'comparative'}\n"
     ]
    }
   ],
   "source": [
    "print(set(test.category for test in test_data))\n"
   ]
  },
  {
   "cell_type": "markdown",
   "metadata": {},
   "source": [
    "## Now take a look at eval.py\n",
    "\n",
    "test_data[0] is a very hard question that it sometimes gets wrong  \n",
    "test_data[1] is an easy question"
   ]
  },
  {
   "cell_type": "code",
   "execution_count": 22,
   "metadata": {},
   "outputs": [
    {
     "name": "stdout",
     "output_type": "stream",
     "text": [
      "Raggified question: Retrieve the name of the individual who signed the Atlantic Risk Solutions contract for Insurellm.\n"
     ]
    },
    {
     "data": {
      "text/plain": [
       "RetrievalEval(mrr=1.0, ndcg=0.9598603945740938, keywords_found=2, total_keywords=2, keyword_coverage=100.0)"
      ]
     },
     "execution_count": 22,
     "metadata": {},
     "output_type": "execute_result"
    }
   ],
   "source": [
    "from eval import evaluate_retrieval, evaluate_answer\n",
    "\n",
    "evaluate_retrieval(test_data[63])"
   ]
  },
  {
   "cell_type": "code",
   "execution_count": 24,
   "metadata": {},
   "outputs": [
    {
     "data": {
      "text/plain": [
       "(AnswerEval(feedback='The answer correctly identifies Michael Torres as the signatory and his position, aligning with the reference, and correctly relates to the Atlantic Risk Solutions contract as indicated in the context.', accuracy=5.0, completeness=4.0, relevance=5.0),\n",
       " 'The Atlantic Risk Solutions contract was signed by Michael Torres, who is the Chief Revenue Officer of Insurellm.',\n",
       " [Document(id='4eaa1a83-00bd-475d-91ec-264d61d2ebad', metadata={'filename': 'Contract with Atlantic Risk Solutions for Bizllm', 'doc_type': 'contracts', 'source': 'knowledge-base/contracts/Contract with Atlantic Risk Solutions for Bizllm.md'}, page_content=\"Document Type: contracts | Filename: Contract with Atlantic Risk Solutions for Bizllm\\n\\n2. **Training**: Insurellm will provide comprehensive training program:\\n   - Initial onboarding for up to 15 staff members (20 hours total training)\\n   - Bi-monthly webinars on platform updates and best practices\\n   - Access to on-demand video library and knowledge base\\n   - Annual refresher training session\\n\\n3. **Updates and Maintenance**:\\n   - Quarterly platform updates with new features and security enhancements\\n   - Monthly minor updates and bug fixes\\n   - Maintenance windows: Sunday 1 AM - 5 AM EST\\n   - 48-hour advance notice for all scheduled maintenance\\n\\n4. **Account Management**:\\n   - Assigned account manager with quarterly business review meetings\\n   - Annual strategic planning session to align platform usage with business goals\\n   - Priority access to new beta features\\n\\n5. **Integration Support**: Technical assistance for integrating Bizllm with:\\n   - Atlantic's existing agency management system (Applied Epic)\\n   - Commercial lines rating platforms\\n   - Third-party data providers (Dun & Bradstreet, Experian, Verisk)\\n   - Email marketing platforms for agent communications\\n\\n---\\n\\n**Signatures:**\\n\\n_________________________________\\n**Michael Torres**\\n**Title**: Chief Revenue Officer\\n**Insurellm, Inc.**\\n**Date**: January 15, 2025\\n\\n_________________________________\\n**Diana Marquez**\\n**Title**: Senior Vice President, Commercial Lines\\n**Atlantic Risk Solutions**\\n**Date**: January 15, 2025\\n\\n---\\n\\n*This contract establishes a professional partnership between Insurellm and Atlantic Risk Solutions, enabling Atlantic to leverage cutting-edge AI technology for commercial insurance underwriting and administration.*\"),\n",
       "  Document(id='c27cc0f8-8564-431f-a1f8-4d0e57811075', metadata={'source': 'knowledge-base/contracts/Contract with Atlantic Risk Solutions for Bizllm.md', 'doc_type': 'contracts', 'filename': 'Contract with Atlantic Risk Solutions for Bizllm'}, page_content=\"Document Type: contracts | Filename: Contract with Atlantic Risk Solutions for Bizllm\\n\\n---\\n\\n## Features\\n\\n1. **Access to Professional Tier Features**: Atlantic Risk Solutions will have access to all Professional Tier features, including:\\n   - Multi-Line Underwriting Engine supporting general liability, professional liability, property, workers' compensation, and cyber insurance\\n   - Business Intelligence Integration with automated data gathering from 50+ data sources\\n   - Cyber Risk Assessment module with security posture evaluation\\n   - Workers' Compensation Optimization with payroll integration and class code analysis\\n   - Commercial Property Evaluation with catastrophe modeling\\n   - Professional Liability Specialization for E&O coverage\\n   - Portfolio Management Dashboard with loss ratio tracking and geographic analysis\\n   - Agent and Broker Portal supporting up to 500 distribution partners\\n   - Claims Management Integration with reserve recommendation engine\\n\\n2. **Industry-Specific Templates**: Pre-configured underwriting templates for:\\n   - Technology companies and software-as-a-service (SaaS) businesses\\n   - Professional services firms (consulting, accounting, legal)\\n   - Healthcare providers and medical practices\\n   - Contractors and construction trades\\n   - Restaurants and hospitality businesses\\n\\n3. **Advanced Reporting**: Monthly automated reports including:\\n   - New business pipeline and conversion rates\\n   - Renewal retention analysis\\n   - Loss ratio trending by line of business\\n   - Agent performance scorecards\\n   - Competitive market positioning insights\\n\\n---\\n\\n## Support\\n\\n1. **Technical Support**: Atlantic Risk Solutions will receive priority technical support from Insurellm for any issues arising from the Bizllm product:\\n   - Dedicated support phone line and email\\n   - Response time: 4 hours for critical issues, 12 hours for standard requests\\n   - Access to technical support Monday-Friday 7 AM - 8 PM EST\"),\n",
       "  Document(id='f1e05a4f-6d59-46fd-aa8c-758f851204aa', metadata={'source': 'knowledge-base/contracts/Contract with ConnectInsure Agency for Markellm.md', 'doc_type': 'contracts', 'filename': 'Contract with ConnectInsure Agency for Markellm'}, page_content=\"Document Type: contracts | Filename: Contract with ConnectInsure Agency for Markellm\\n\\n---\\n\\n**Signatures:**\\n\\n**Insurellm, Inc.**\\nMichael Torres, Chief Revenue Officer\\nDate: February 28, 2025\\n\\n**ConnectInsure Agency**\\nBrian Foster, Agency Principal\\nDate: February 28, 2025\\n\\n---\\n\\nThis contract enables ConnectInsure Agency to leverage Markellm's AI-powered marketplace to connect with qualified insurance shoppers and grow their business through data-driven lead generation.\"),\n",
       "  Document(id='68573255-70ad-4ff7-a6e9-9f3183701d96', metadata={'source': 'knowledge-base/contracts/Contract with United Healthcare Alliance for Healthllm.md', 'doc_type': 'contracts', 'filename': 'Contract with United Healthcare Alliance for Healthllm'}, page_content=\"Document Type: contracts | Filename: Contract with United Healthcare Alliance for Healthllm\\n\\n---\\n\\n**Signatures:**\\n\\n_________________________________\\n**Jennifer Rodriguez**\\n**Title**: Chief Executive Officer\\n**Insurellm, Inc.**\\n**Date**: May 15, 2025\\n\\n_________________________________\\n**James Patterson**\\n**Title**: Chairman & Chief Executive Officer\\n**United Healthcare Alliance, LLC**\\n**Date**: May 15, 2025\\n\\n---\\n\\nThis agreement establishes United Healthcare Alliance as Insurellm's flagship enterprise health insurance partner, representing the most comprehensive strategic partnership in Insurellm's history. This partnership will drive innovation in healthcare technology and set new standards for AI-powered health insurance operations. This contract supersedes all prior agreements and communications.\"),\n",
       "  Document(id='8101cfe6-efad-4a62-af0d-1850c4f0fe75', metadata={'doc_type': 'contracts', 'source': 'knowledge-base/contracts/Contract with Atlantic Risk Solutions for Bizllm.md', 'filename': 'Contract with Atlantic Risk Solutions for Bizllm'}, page_content=\"Document Type: contracts | Filename: Contract with Atlantic Risk Solutions for Bizllm\\n\\n# Contract with Atlantic Risk Solutions for Bizllm\\n\\n---\\n\\n## Terms\\n\\n1. **Agreement Effective Date**: This contract is effective as of January 15, 2025.\\n2. **Duration**: This agreement will remain in effect for a term of 12 months, concluding on January 14, 2026.\\n3. **Subscription Type**: Atlantic Risk Solutions agrees to subscribe to the **Professional Tier** of Bizllm, at a cost of $12,000/month, totaling $144,000 for the duration of this contract.\\n4. **Payment Terms**: Payments are due on the 10th of each month via ACH transfer. Late payments will incur a penalty of 1.5% per month and may result in service suspension after 15 days delinquency.\\n5. **User Licenses**: Contract includes 35 named user licenses. Additional users may be added at $180/month per license.\\n6. **Termination Clause**: Either party may terminate this agreement with 45 days' written notice. Early termination requires payment of 50% of remaining contract value.\\n\\n---\\n\\n## Renewal\\n\\n1. **Automatic Renewal**: This agreement will automatically renew for an additional 12-month term unless either party provides written notice of non-renewal at least 45 days before the expiration date.\\n2. **Price Protection**: Pricing increases capped at 8% annually for the first two renewal periods, providing Atlantic Risk Solutions with budget predictability.\\n3. **Volume Discounts**: If Atlantic Risk Solutions expands to Enterprise tier during renewal, they receive a 15% discount on the difference for the first renewal year.\\n\\n---\\n\\n## Features\"),\n",
       "  Document(id='c86c9458-41b9-4539-ac6b-d84378a24322', metadata={'doc_type': 'contracts', 'source': 'knowledge-base/contracts/Contract with Belvedere Insurance for Markellm.md', 'filename': 'Contract with Belvedere Insurance for Markellm'}, page_content='Document Type: contracts | Filename: Contract with Belvedere Insurance for Markellm\\n\\n## Support\\n1. **Technical Support**: Technical support will be available from 9 AM to 7 PM EST, Monday through Friday via email and phone.\\n2. **Response Times**: Insurellm agrees to respond to all support queries within 24 business hours. Emergency support will be prioritized throughout the contract period.\\n3. **Training**: Insurellm will offer a comprehensive training session for the Client’s staff upon beginning the service to ensure effective utilization of the features.\\n\\n## Acceptance\\nBy signing below, the parties agree to the terms of this Agreement.\\n\\n**Insurellm, Inc.**  \\nSignature: ______________________  \\nName: [Authorized Signatory]  \\nTitle: [Title]  \\nDate: ______________________  \\n\\n**Belvedere Insurance**  \\nSignature: ______________________  \\nName: [Authorized Signatory]  \\nTitle: [Title]  \\nDate: ______________________  \\n\\n--- \\nThis synthetic contract document outlines a fictional agreement between Insurellm and a fictional insurance client, Belvedere Insurance, which engages with the Markellm platform. The contract contains creative yet realistic terms for potential use in training and development in insurance technology scenarios.'),\n",
       "  Document(id='ce1d0e44-b4de-4e0c-b0ca-73329174639a', metadata={'source': 'knowledge-base/contracts/Contract with Continental Commercial Group for Bizllm.md', 'filename': 'Contract with Continental Commercial Group for Bizllm', 'doc_type': 'contracts'}, page_content='Document Type: contracts | Filename: Contract with Continental Commercial Group for Bizllm\\n\\n5. **Data Services:**\\n   - Quarterly data quality audits\\n   - Annual data migration support for system upgrades\\n   - Dedicated data warehouse with 7-year retention\\n   - Custom reporting and analytics dashboard development\\n\\n6. **Performance Optimization:**\\n   - Monthly platform performance reviews\\n   - Proactive capacity planning and scaling recommendations\\n   - Load testing before major product launches\\n   - Dedicated infrastructure monitoring with real-time alerts\\n\\n---\\n\\n**Signatures:**\\n\\n_________________________________\\n**Jennifer Rodriguez**\\n**Title**: Chief Executive Officer\\n**Insurellm, Inc.**\\n**Date**: April 12, 2025\\n\\n_________________________________\\n**Thomas Wellington**\\n**Title**: President & Chief Operating Officer\\n**Continental Commercial Group, Inc.**\\n**Date**: April 12, 2025\\n\\n---\\n\\nThis agreement represents a strategic partnership between Insurellm and Continental Commercial Group to transform commercial insurance operations through cutting-edge technology and innovation. This contract supersedes all prior agreements and represents the complete understanding between both parties.'),\n",
       "  Document(id='f752fe96-0589-452f-be3f-98b176165c7d', metadata={'doc_type': 'contracts', 'source': 'knowledge-base/contracts/Contract with National Claims Network for Claimllm.md', 'filename': 'Contract with National Claims Network for Claimllm'}, page_content=\"Document Type: contracts | Filename: Contract with National Claims Network for Claimllm\\n\\n8. **Continuous Improvement:**\\n   - Quarterly process optimization workshops\\n   - Annual efficiency audits with recommendations\\n   - Best practice sharing from across Insurellm customer base\\n   - Innovation labs to pilot emerging technologies (AI, blockchain, IoT)\\n\\n---\\n\\n**Signatures:**\\n\\n_________________________________\\n**Jennifer Rodriguez**\\n**Title**: Chief Executive Officer\\n**Insurellm, Inc.**\\n**Date**: April 20, 2025\\n\\n_________________________________\\n**Amanda Richardson**\\n**Title**: President & Chief Operating Officer\\n**National Claims Network Corp.**\\n**Date**: April 20, 2025\\n\\n---\\n\\nThis agreement represents a strategic partnership between Insurellm and National Claims Network, establishing National Claims Network as Insurellm's flagship enterprise claims processing partner. This contract supersedes all prior agreements and communications.\"),\n",
       "  Document(id='2cd4f431-31e4-448f-9f85-70b678090994', metadata={'doc_type': 'company', 'source': 'knowledge-base/company/about.md', 'filename': 'about'}, page_content='Document Type: company | Filename: about\\n\\n# About Insurellm\\n\\nInsurellm was founded by Avery Lancaster in 2015 as an insurance tech startup designed to disrupt an industry in need of innovative products. Its first product was Markellm, the marketplace connecting consumers with insurance providers.\\n\\nThe company experienced rapid growth in its first five years, expanding its product portfolio to include Carllm (auto insurance portal), Homellm (home insurance portal), and Rellm (enterprise reinsurance platform). By 2020, Insurellm had reached a peak of 200 employees with 12 offices across the US.\\n\\nHowever, the company underwent a strategic restructuring in 2022-2023 to focus on profitability and sustainable growth. This included consolidating office locations, implementing a remote-first strategy, and streamlining operations. As of 2025, Insurellm operates with a lean, highly efficient team of 32 employees who have built a portfolio of 32 active contracts spanning all eight product lines. The company maintains its San Francisco headquarters along with small satellite offices in key markets including New York, Austin, Chicago, and Denver.\\n\\nSince the restructuring, Insurellm has continued to innovate, expanding its product suite to eight comprehensive platforms. The company added Lifellm (life insurance), Healthllm (health insurance), Bizllm (commercial insurance), and Claimllm (claims processing) to serve the full spectrum of insurance needs. This strategic expansion has been highly successful, with strong adoption across all new products:\\n\\n- **Bizllm** quickly gained traction with 7 commercial insurance contracts, including regional carriers and national commercial groups\\n- **Claimllm** signed 7 contracts ranging from independent adjusting firms to enterprise claims networks\\n- **Lifellm** secured 6 life insurance clients from small regional providers to major national carriers\\n- **Healthllm** won 6 health plan contracts including regional insurers and multi-state healthcare alliances'),\n",
       "  Document(id='417ae5f1-f4d8-4cae-8a72-a068ff5a8103', metadata={'source': 'knowledge-base/contracts/Contract with Stellar Insurance Co. for Rellm.md', 'filename': 'Contract with Stellar Insurance Co. for Rellm', 'doc_type': 'contracts'}, page_content='Document Type: contracts | Filename: Contract with Stellar Insurance Co. for Rellm\\n\\n## Features\\nStellar Insurance Co. will receive access to the following features of the Rellm product:\\n\\n- **AI-Driven Analytics**: Predictive insights into risk exposures tailored for the reinsurance industry.\\n- **Seamless Integrations**: Compatibility with existing systems for policy management and claims processing.\\n- **Risk Assessment Module**: Comprehensive evaluation of risk profiles using advanced modeling techniques.\\n- **Customizable Dashboard**: Tailored user interface presenting relevant metrics and performance indicators.\\n- **Regulatory Compliance Tools**: Features to ensure adherence to local and international regulations.\\n- **Client and Broker Portals**: Dedicated portals for enhanced communication and document sharing.\\n\\n## Support\\nInsurellm provides Stellar Insurance Co. with the following support services:\\n\\n- **24/7 Technical Support**: Access to dedicated support representatives via phone and online chat.\\n- **Quarterly Account Review**: Meetings to discuss performance metrics and uncover additional needs.\\n- **Training Sessions**: Initial orientation and ongoing training opportunities to maximize the effectiveness of Rellm usage.\\n- **Updates and Upgrades**: Regular software updates and enhancements are included as part of the subscription.\\n\\nStellar Insurance Co. acknowledges receipt of the Rellm product summary and agrees to the terms set forth above. By signing below, both parties confirm their acceptance of this contract.\\n\\n**For Insurellm**  \\n______________________________  \\n[Signature]  \\n[Name, Title]  \\n[Date]  \\n\\n**For Stellar Insurance Co.**  \\n______________________________  \\n[Signature]  \\n[Name, Title]  \\n[Date]')])"
      ]
     },
     "execution_count": 24,
     "metadata": {},
     "output_type": "execute_result"
    }
   ],
   "source": [
    "await evaluate_answer(test_data[63])"
   ]
  },
  {
   "cell_type": "markdown",
   "metadata": {},
   "source": [
    "## AND FINALLY - all come together in a UI"
   ]
  },
  {
   "cell_type": "code",
   "execution_count": null,
   "metadata": {},
   "outputs": [
    {
     "name": "stdout",
     "output_type": "stream",
     "text": [
      "* Running on local URL:  http://127.0.0.1:7860\n",
      "* To create a public link, set `share=True` in `launch()`.\n",
      "Raggified question: Retrieve information about the recipient of the IIOTY award in 2023, including details about the award's significance and the awarding organization.\n",
      "Raggified question: Retrieve the founding date of Insurellm from the company's historical records or official sources.\n",
      "Raggified question: Retrieve information about the founder(s) of Insurellm, including any relevant details about its origin and founding team.\n",
      "Raggified question: Retrieve the current number of employees at Insurellm.\n",
      "Raggified question: Retrieve information about Insurellm's initial product launch or earliest product offering to identify Insurellm's first product.\n",
      "Raggified question: Retrieve the number of active contracts managed by Insurellm.\n",
      "Raggified question: Retrieve the location of Insurellm's headquarters, including address, city, and country.\n",
      "Raggified question: Retrieve the total number of office locations maintained by Insurellm.\n",
      "Raggified question: Retrieve Insurellm's official vision statement and related strategic goals from the company's documents or website.\n",
      "Raggified question: Retrieve the total number of Bizllm contracts secured by Insurellm.\n",
      "Raggified question: Retrieve the total number of Claimllm contracts associated with Insurellm.\n",
      "Raggified question: Retrieve the total number of life insurance contracts secured by Lifellm.\n",
      "Raggified question: Retrieve the total number of health insurance contracts held by Healthllm.\n",
      "Raggified question: Retrieve detailed information on Carllm's Basic Tier subscription plan, including its monthly cost and features.\n",
      "Raggified question: Retrieve detailed information on the monthly pricing and features of Carllm's Enterprise Tier plan.\n",
      "Raggified question: Retrieve the detailed pricing information for Homellm's Standard Tier, including the monthly cost, to answer the user's question.\n",
      "Raggified question: Retrieve the detailed pricing information for Bizllm's Professional Tier, including the monthly cost, to provide an accurate answer.\n",
      "Raggified question: Retrieve detailed information on Claimllm's Core Tier, including its monthly cost and associated pricing details.\n",
      "Raggified question: Retrieve detailed information on the monthly pricing for Healthllm's Essential Tier subscription plan.\n",
      "Raggified question: Retrieve the detailed pricing information for Lifellm's Starter Tier, including the monthly cost, from the company's official pricing documentation or relevant data sources.\n",
      "Raggified question: Retrieve the details of Rellm's Basic Plan, including its monthly cost, from the company’s pricing information.\n",
      "Raggified question: Retrieve the current job title of Maxine Thompson from the company's employee records.\n",
      "Raggified question: Retrieve the most recent salary details for Maxine Thompson.\n",
      "Raggified question: Retrieve the current location or office address of Maxine Thompson within the company's employee database.\n",
      "Raggified question: Retrieve the current job title of Avery Lancaster from the company's employee records.\n",
      "Raggified question: Retrieve the most recent salary details for Avery Lancaster from the company's HR database.\n",
      "Raggified question: Retrieve the current job title of James Wilson from the company's employee records.\n",
      "Raggified question: Retrieve the most recent salary information for James Wilson from the company's HR database or employee records.\n",
      "Raggified question: Retrieve the current job title of Priya Sharma from the company's employee records.\n",
      "Raggified question: Retrieve the most recent salary details for Priya Sharma.\n",
      "Raggified question: Retrieve the current job title of Robert Chen from the company's employee records or official directory.\n",
      "Raggified question: Retrieve the most recent salary information for Robert Chen from the company's HR database.\n",
      "Raggified question: Retrieve details about the product for which Robert Chen is the technical lead.\n",
      "Raggified question: Retrieve the current job title of David Kim from the company's employee records.\n",
      "Raggified question: Retrieve the current job title of Sarah Williams at the company.\n",
      "Raggified question: Retrieve details about the product design responsibilities of Sarah Williams, including the specific product she leads.\n",
      "Raggified question: Retrieve the current job title of Marcus Johnson from the company's employee records or HR database.\n",
      "Raggified question: Retrieve the client retention rate for Marcus Johnson from the company's latest performance data.\n",
      "Raggified question: Retrieve the current job title of Lisa Anderson from the company's employee records.\n",
      "Raggified question: Retrieve detailed information on Lisa Anderson's annual marketing budget, including its size and any relevant financial data.\n",
      "Raggified question: Retrieve the current job title of Emily Carter from the company's employee records.\n",
      "Raggified question: Retrieve the contract number associated with DriveSmart Insurance's Carllm agreement.\n",
      "Raggified question: Retrieve details about the DriveSmart Insurance Carllm contract, including its start date, end date, and overall duration.\n",
      "Raggified question: Retrieve the total contract value associated with DriveSmart Insurance's Carllm agreement from the company's contract records.\n",
      "Raggified question: Retrieve the current count of active auto insurance policies issued by DriveSmart Insurance.\n",
      "Raggified question: Retrieve the uptime SLA guarantee details for DriveSmart Insurance.\n",
      "Raggified question: Retrieve details about the individual who signed the DriveSmart Insurance contract for Insurellm, including their name, title, and signing date.\n",
      "Raggified question: Retrieve the monthly payment details for Greenstone Insurance's Homellm contract.\n",
      "Raggified question: Retrieve the subscription tier of Harmony Health Plans for Healthllm, including details on the specific tier level and any relevant subscription information.\n",
      "Raggified question: Retrieve the monthly subscription cost details for Harmony Health Plans' Healthllm service.\n",
      "Raggified question: Retrieve the total number of covered members for Harmony Health Plans.\n",
      "Raggified question: Retrieve details about the individual who authorized or signed the Harmony Health Plans contract for Insurellm, including their name, title, and date of signing.\n",
      "Raggified question: Retrieve the contract number associated with Metropolitan Life Group's Lifellm agreement.\n",
      "Raggified question: Retrieve the total contract value associated with Metropolitan Life Group's Lifellm agreement.\n",
      "Raggified question: Retrieve the total number of active policies managed by Metropolitan Life Group.\n",
      "Raggified question: Retrieve details about the individual who authorized or signed the Metropolitan Life Group contract for the client, including their name, title, and signing date.\n",
      "Raggified question: Retrieve the subscription tier of FastTrack Insurance Services for Claimllm.\n",
      "Raggified question: Retrieve the details of the Claimllm contract for FastTrack Insurance Services, including the monthly payment amount.\n",
      "Raggified question: Retrieve details about the contract duration for FastTrack Insurance Services.\n",
      "Raggified question: Retrieve the name of the individual who signed the FastTrack Insurance Services contract for Insurellm.\n",
      "Raggified question: Retrieve the subscription tier of Atlantic Risk Solutions for Bizllm.\n",
      "Raggified question: Retrieve the monthly subscription cost details for Atlantic Risk Solutions' Bizllm service.\n",
      "Raggified question: Retrieve the number of user licenses included in Atlantic Risk Solutions' contract.\n",
      "Raggified question: Retrieve the name of the individual who signed the Atlantic Risk Solutions contract for Insurellm.\n",
      "Raggified question: Retrieve the monthly fee details for the Markellm listing associated with Belvedere Insurance.\n",
      "Raggified question: Retrieve the employment start date of Maxine Thompson at Insurellm.\n",
      "Raggified question: Retrieve the date James Wilson joined Insurellm.\n",
      "Raggified question: Retrieve the date or period when Insurellm's employee count peaked at 200 employees.\n",
      "Raggified question: Retrieve details on the timeline and events related to Insurellm's strategic restructuring.\n",
      "Raggified question: Retrieve the launch date and details of Carllm's telematics-based pricing feature.\n",
      "Raggified question: Retrieve the release date and details for Homellm version 2.0.\n",
      "Raggified question: Retrieve the release date and launch schedule details for Bizllm version 1.0.\n",
      "Raggified question: Retrieve the release date and launch schedule details for Claimllm version 1.0.\n",
      "Raggified question: Retrieve the release date and launch schedule details for Lifellm version 1.0.\n",
      "Raggified question: Retrieve the release date and launch schedule details for Healthllm version 1.0.\n",
      "Raggified question: Retrieve the date when the DriveSmart Insurance contract for Carllm was signed.\n",
      "Raggified question: Retrieve the contract start date for Harmony Health Plans' Healthllm agreement.\n",
      "Raggified question: Retrieve the date of signing for the Metropolitan Life Group Life insurance contract.\n",
      "Raggified question: Retrieve the signing date of the FastTrack Insurance Services Claimllm contract.\n",
      "Raggified question: Retrieve the effective date of the Atlantic Risk Solutions Bizllm contract.\n",
      "Raggified question: Retrieve data on Priya Sharma's recommendation engine at Marketllm, focusing on its impact on conversion rates and the percentage increase attributed to this engine.\n",
      "Raggified question: What is the percentage reduction in deployment time achieved by David Kim through the implementation of CI/CD pipelines at the company?\n",
      "Raggified question: Retrieve the percentage increase in user satisfaction scores attributed to Sarah Williams' initiatives or actions.\n",
      "Raggified question: Retrieve data on Lisa Anderson's qualified leads from 2021 to the present, and calculate the percentage increase in qualified leads over this period.\n",
      "Raggified question: Retrieve Emily Carter's actual sales for 2022 and her assigned annual sales target, then calculate the percentage increase: ((Actual Sales - Target Sales) / Target Sales) * 100.\n",
      "Raggified question: Retrieve details on the performance-based pricing structure for Belvedere Insurance's Markellm contract, including terms, conditions, and any relevant performance metrics.\n",
      "Raggified question: Retrieve the monthly cost details of Stellar Insurance Co.'s Rellm subscription, including pricing and billing information.\n",
      "Raggified question: Retrieve Insurellm's official statement or documentation detailing their four core values.\n",
      "Raggified question: Retrieve details about awards won by Alex Harper in 2022, including the name of the award, the event or organization presenting it, and any relevant context or significance.\n",
      "Raggified question: Retrieve the effective date of the Rellm contract for Stellar Insurance Co.\n",
      "Raggified question: Retrieve projected claim count for FastTrack Insurance Services in year 1.\n",
      "Raggified question: Retrieve the annual revenue figures associated with Marcus Johnson's investment portfolio.\n",
      "Raggified question: Retrieve the sales performance data for Jennifer Adams in 2023, focusing on her achieved quota percentage.\n",
      "Raggified question: Retrieve the total number of products offered by Insurellm.\n",
      "Raggified question: Retrieve the detailed pricing information for Carllm's Professional Tier, including the monthly cost, from the company's official pricing documentation or support resources.\n",
      "Raggified question: Retrieve detailed information on the core insurance portals provided by Insurellm, including features, functionalities, and integration options.\n",
      "Raggified question: Retrieve detailed information on the marketplace and infrastructure products provided by Insurellm, including product descriptions, features, and any relevant documentation or specifications.\n",
      "Raggified question: Retrieve information about the products developed by Jessica Liu for the company.\n",
      "Raggified question: Retrieve the current job title of Tyler Brooks from the company's employee records.\n",
      "Raggified question: Retrieve details about the product associated with Tyler Brooks at the company.\n",
      "Raggified question: Retrieve details about the product associated with the company that won the IIOTY award.\n",
      "Raggified question: Retrieve details about the technical lead associated with the product priced at $10,000/month under the Standard Tier to identify the responsible person.\n",
      "Raggified question: Retrieve the salary details of the CTO who started in January 2017, including their employment history and compensation records.\n",
      "Raggified question: Retrieve the latest salary details of the founder of Insurellm.\n",
      "Raggified question: Retrieve details about products for which the Senior Data Scientist developed recommendation engines, specifically focusing on those that resulted in a 28% increase in conversion rates.\n",
      "Raggified question: Retrieve details about the product designed by the UX Designer responsible for a 35% increase in user satisfaction, including the product name and related design information.\n",
      "Raggified question: Retrieve details on the annual marketing budget overseen by the Marketing Manager in Austin, including related documents and financial reports.\n",
      "Raggified question: Retrieve details of the contract signed by Insurellm for the client paying $18,000/month for Carllm, including the signatory's name and position.\n",
      "Raggified question: Retrieve the subscription tier for the client with 35 user licenses for Bizllm.\n",
      "Raggified question: Retrieve the number of covered members for the client subscribed to Healthllm Professional Tier at $15,000/month.\n",
      "Raggified question: Retrieve the name of the individual who signed the Metropolitan Life Group contract valued at $1,098,000.\n",
      "Raggified question: Retrieve the total contract value for the client with a monthly payment of $12,000 for Bizllm Professional Tier.\n",
      "Raggified question: Retrieve the percentage reduction in deployment time achieved by the DevOps Engineer in New York.\n",
      "Raggified question: Retrieve the annual revenue data for the portfolio managed by the Customer Success Manager located in New York.\n",
      "Raggified question: Retrieve the percentage by which the Austin-based Account Executive exceeded their 2022 annual sales target.\n",
      "Raggified question: Retrieve details about the launch date of the telematics-based pricing feature for the product priced at $1,000/month in the Basic Tier.\n",
      "Raggified question: Retrieve the monthly Basic Listing Fee details for Insurellm's initial marketplace product to understand its cost structure.\n",
      "Raggified question: Retrieve the number of core values associated with the company founded by Avery Lancaster.\n",
      "Raggified question: Retrieve details about Healthllm subscription tiers that cost $15,000/month and offer Advanced Medication Management features.\n",
      "Raggified question: Retrieve the number of active policies managed by the client with a monthly payment of $28,000 for Lifellm.\n",
      "Raggified question: Retrieve the current job title of Alex Chen from the company's employee records.\n",
      "Raggified question: Retrieve the most recent salary information for Carlos Rodriguez from the company's HR database or records.\n",
      "Raggified question: Retrieve the monthly cost details for the Bizllm Business Tier plan.\n",
      "Raggified question: Retrieve the current job title of Nina Patel from the company's employee records.\n",
      "Raggified question: Retrieve the contract number associated with the GreenValley Insurance Homellm agreement.\n",
      "Raggified question: Retrieve the employment start date of Alex Chen at Insurellm.\n",
      "Raggified question: Retrieve the date of signing for the GreenValley Insurance Homellm contract.\n",
      "Raggified question: Retrieve the effective date of the Summit Commercial Insurance Bizllm contract.\n",
      "Raggified question: Retrieve the start and end dates of the Roadway Insurance Carllm contract to determine its effective period.\n",
      "Raggified question: Retrieve the signing date of the Evergreen Life Insurance Lifellm contract.\n",
      "Raggified question: Retrieve the peak employee count of Insurellm in 2020.\n",
      "Raggified question: Retrieve the monthly subscription cost details for Apex Reinsurance's Rellm service.\n",
      "Raggified question: Retrieve the current number of active policies managed by Evergreen Life Insurance.\n",
      "Raggified question: Retrieve the number of user licenses allocated for onboarding training specified in the Summit Commercial Insurance contract.\n",
      "Raggified question: Retrieve the total value or number of new business deals generated by Michael O'Brien in the past 3 years from the company's records or database.\n",
      "Raggified question: Retrieve details about the product strategy led by Rachel Martinez, including the specific product she is responsible for.\n",
      "Raggified question: Retrieve the name of the mobile app for which Kevin Zhang is the iOS development lead.\n",
      "Raggified question: Retrieve information about Summit Commercial Insurance's subscription tier for Bizllm, including details on the specific tier or plan they are enrolled in.\n",
      "Raggified question: Retrieve details about awards won by Carlos Rodriguez in 2023.\n",
      "Raggified question: Retrieve the name of the individual who signed the Summit Commercial Insurance contract for Insurellm.\n",
      "Raggified question: Retrieve the number of employees at Insurellm with a current salary below $80,000.\n",
      "Raggified question: Retrieve the total contract value for all contracts related to Healthllm.\n",
      "Raggified question: Retrieve information on the product line with the highest number of active contracts as detailed in the company's overview.\n",
      "Raggified question: Retrieve the total number of employees at Insurellm by aggregating employee counts from all company locations.\n",
      "Raggified question: Retrieve the average monthly subscription fee for all Carllm contracts to determine the typical cost.\n",
      "Raggified question: Retrieve the total number of distinct insurance product lines offered by Insurellm.\n",
      "Raggified question: Retrieve data on products and their active contract counts from the portfolio breakdown to identify the product with the fewest active contracts.\n",
      "Raggified question: Retrieve the total count of active contracts associated with all Insurellm products.\n",
      "Raggified question: Retrieve the number of states where United Healthcare Alliance operates based on their contractual agreements.\n",
      "Raggified question: Retrieve the maximum contract duration for all Insurellm contracts to identify the longest agreement.\n"
     ]
    }
   ],
   "source": [
    "!uv run evaluator.py"
   ]
  },
  {
   "cell_type": "markdown",
   "metadata": {},
   "source": [
    "## Ideas for your experiments\n",
    "\n",
    "### Quick wins\n",
    "\n",
    "- Experiment with the encoder\n",
    "- Experiment with chunking strategies\n",
    "\n",
    "### Big change ideas\n",
    "\n",
    "1. Pre-processing - use an LLM to rewrite (a) the chunks and/or (b) the questions / conversation history\n",
    "2. Hierarchical RAG - summarize at different levels and do RAG over summaries\n",
    "3. Tools!"
   ]
  },
  {
   "cell_type": "markdown",
   "metadata": {},
   "source": [
    "# 10 RAG Techniques\n",
    "\n",
    "1. **Chunking R&D:** experiment with chunking strategy to optimize for your commercial goal\n",
    "2. **Encoder R&D:** select the best Encoder model based on a test set\n",
    "3. **Improve Prompts:** general content, the current date, relevant context and history\n",
    "4. **Document pre-processing:** use an LLM to make the chunks and/or text for encoding\n",
    "5. **Query rewriting:** use an LLM to convert the user’s question to a RAG query\n",
    "6. **Query expansion:** use an LLM to turn the question into multiple RAG queries\n",
    "7. **Re-ranking:** use an LLM to sub-select from RAG results\n",
    "8. **Hierarchical:** use an LLM to summarize at multiple levels\n",
    "9. **Graph RAG:** retrieve content closely related to similar documents\n",
    "10. **Agentic RAG:** use Agents for retrieval, combining with Memory and Tools such as SQL\n"
   ]
  },
  {
   "cell_type": "markdown",
   "metadata": {},
   "source": [
    "2 hard questions that can be addressed with the above:\n",
    "\n",
    "- Who won the IIOTY award in 2023?\n",
    "\n",
    "- What proportion of employees have a salary over $90,000?\n",
    "\n"
   ]
  },
  {
   "cell_type": "markdown",
   "metadata": {},
   "source": []
  }
 ],
 "metadata": {
  "kernelspec": {
   "display_name": ".venv",
   "language": "python",
   "name": "python3"
  },
  "language_info": {
   "codemirror_mode": {
    "name": "ipython",
    "version": 3
   },
   "file_extension": ".py",
   "mimetype": "text/x-python",
   "name": "python",
   "nbconvert_exporter": "python",
   "pygments_lexer": "ipython3",
   "version": "3.12.11"
  }
 },
 "nbformat": 4,
 "nbformat_minor": 4
}
