{
 "cells": [
  {
   "cell_type": "markdown",
   "metadata": {},
   "source": [
    "# Lab 2: RAG\n",
    "\n",
    "## We will build and evaluate a Question Answering Expert for a fictional company: InsureLLM!"
   ]
  },
  {
   "cell_type": "markdown",
   "metadata": {},
   "source": [
    "### BEFORE WE BEGIN:\n",
    "\n",
    "Look at the knowledge-base - this is the company shared drive.\n",
    "\n",
    "### For those new to RAG:\n",
    "\n",
    "Does one of the Experts want to give an explanation?\n",
    "\n",
    "We will be figuring out ways to insert relevant background information in to the prompt..\n",
    "\n",
    "Today will be more intense - please ask me lots of questions and clarifications.."
   ]
  },
  {
   "cell_type": "code",
   "execution_count": 1,
   "metadata": {},
   "outputs": [],
   "source": [
    "import os\n",
    "import glob\n",
    "import tiktoken\n",
    "import numpy as np\n",
    "from IPython.display import Markdown, display\n",
    "\n",
    "from langchain_openai import ChatOpenAI\n",
    "from langchain_chroma import Chroma\n",
    "from langchain.chains import create_retrieval_chain\n",
    "from langchain.chains.combine_documents import create_stuff_documents_chain\n",
    "from langchain_core.prompts import ChatPromptTemplate\n",
    "from langchain_huggingface import HuggingFaceEmbeddings\n",
    "from langchain_openai import OpenAIEmbeddings\n",
    "\n",
    "from langchain_community.document_loaders import DirectoryLoader, TextLoader\n",
    "from langchain.text_splitter import RecursiveCharacterTextSplitter\n",
    "\n",
    "from sklearn.manifold import TSNE\n",
    "import plotly.graph_objects as go"
   ]
  },
  {
   "cell_type": "code",
   "execution_count": 2,
   "metadata": {},
   "outputs": [],
   "source": [
    "MODEL = \"gpt-4.1-nano\"\n",
    "db_name = \"vector_db\""
   ]
  },
  {
   "cell_type": "code",
   "execution_count": 3,
   "metadata": {},
   "outputs": [
    {
     "name": "stdout",
     "output_type": "stream",
     "text": [
      "Found 76 files in the knowledge base\n",
      "Total characters in knowledge base: 304,434\n"
     ]
    }
   ],
   "source": [
    "knowledge_base_path = \"knowledge-base/**/*.md\"\n",
    "files = glob.glob(knowledge_base_path, recursive=True)\n",
    "print(f\"Found {len(files)} files in the knowledge base\")\n",
    "\n",
    "entire_knowledge_base = \"\"\n",
    "\n",
    "for file_path in files:\n",
    "    with open(file_path, 'r', encoding='utf-8') as f:\n",
    "        entire_knowledge_base += f.read()\n",
    "        entire_knowledge_base += \"\\n\\n\"\n",
    "\n",
    "print(f\"Total characters in knowledge base: {len(entire_knowledge_base):,}\")"
   ]
  },
  {
   "cell_type": "code",
   "execution_count": 4,
   "metadata": {},
   "outputs": [
    {
     "name": "stdout",
     "output_type": "stream",
     "text": [
      "Total tokens for gpt-4.1-mini: 63,555\n"
     ]
    }
   ],
   "source": [
    "encoding = tiktoken.encoding_for_model(\"gpt-4.1-mini\")\n",
    "tokens = encoding.encode(entire_knowledge_base)\n",
    "token_count = len(tokens)\n",
    "print(f\"Total tokens for gpt-4.1-mini: {token_count:,}\")"
   ]
  },
  {
   "cell_type": "markdown",
   "metadata": {},
   "source": [
    "## LangChain Document Loaders\n",
    "\n",
    "Loading in the data and splitting it into chunks using LangChain's helper classes"
   ]
  },
  {
   "cell_type": "code",
   "execution_count": 5,
   "metadata": {},
   "outputs": [
    {
     "name": "stdout",
     "output_type": "stream",
     "text": [
      "Loaded 76 documents\n"
     ]
    }
   ],
   "source": [
    "folders = glob.glob(\"knowledge-base/*\")\n",
    "\n",
    "documents = []\n",
    "for folder in folders:\n",
    "    doc_type = os.path.basename(folder)\n",
    "    loader = DirectoryLoader(folder, glob=\"**/*.md\", loader_cls=TextLoader, loader_kwargs={'encoding': 'utf-8'})\n",
    "    folder_docs = loader.load()\n",
    "    for doc in folder_docs:\n",
    "        doc.metadata[\"doc_type\"] = doc_type\n",
    "        documents.append(doc)\n",
    "\n",
    "print(f\"Loaded {len(documents)} documents\")"
   ]
  },
  {
   "cell_type": "code",
   "execution_count": 6,
   "metadata": {},
   "outputs": [
    {
     "name": "stdout",
     "output_type": "stream",
     "text": [
      "Divided into 413 chunks\n"
     ]
    }
   ],
   "source": [
    "text_splitter = RecursiveCharacterTextSplitter(chunk_size=1000, chunk_overlap=200)\n",
    "chunks = text_splitter.split_documents(documents)\n",
    "\n",
    "print(f\"Divided into {len(chunks)} chunks\")"
   ]
  },
  {
   "cell_type": "code",
   "execution_count": 7,
   "metadata": {},
   "outputs": [
    {
     "name": "stdout",
     "output_type": "stream",
     "text": [
      "page_content='# Product Summary\n",
      "\n",
      "# Rellm: AI-Powered Enterprise Reinsurance Solution\n",
      "\n",
      "## Summary\n",
      "\n",
      "Rellm is an innovative enterprise reinsurance product developed by Insurellm, designed to transform the way reinsurance companies operate. Harnessing the power of artificial intelligence, Rellm offers an advanced platform that redefines risk management, enhances decision-making processes, and optimizes operational efficiencies within the reinsurance industry. With seamless integrations and robust analytics, Rellm enables insurers to proactively manage their portfolios and respond to market dynamics with agility.\n",
      "\n",
      "## Features\n",
      "\n",
      "### AI-Driven Analytics\n",
      "Rellm utilizes cutting-edge AI algorithms to provide predictive insights into risk exposures, enabling users to forecast trends and make informed decisions. Its real-time data analysis empowers reinsurance professionals with actionable intelligence.' metadata={'source': 'knowledge-base/products/Rellm.md', 'doc_type': 'products'}\n"
     ]
    }
   ],
   "source": [
    "print(chunks[0])"
   ]
  },
  {
   "cell_type": "code",
   "execution_count": 8,
   "metadata": {},
   "outputs": [
    {
     "name": "stdout",
     "output_type": "stream",
     "text": [
      "Vectorstore created with 413 documents\n"
     ]
    }
   ],
   "source": [
    "#embeddings = HuggingFaceEmbeddings(model_name=\"all-MiniLM-L6-v2\")\n",
    "embeddings = OpenAIEmbeddings()\n",
    "\n",
    "if os.path.exists(db_name):\n",
    "    Chroma(persist_directory=db_name, embedding_function=embeddings).delete_collection()\n",
    "\n",
    "vectorstore = Chroma.from_documents(documents=chunks, embedding=embeddings, persist_directory=db_name)\n",
    "print(f\"Vectorstore created with {vectorstore._collection.count()} documents\")"
   ]
  },
  {
   "cell_type": "code",
   "execution_count": 9,
   "metadata": {},
   "outputs": [
    {
     "name": "stdout",
     "output_type": "stream",
     "text": [
      "There are 413 vectors with 1,536 dimensions in the vector store\n"
     ]
    }
   ],
   "source": [
    "# How many documents are in the vector store? How many dimensions?\n",
    "\n",
    "collection = vectorstore._collection\n",
    "count = collection.count()\n",
    "\n",
    "sample_embedding = collection.get(limit=1, include=[\"embeddings\"])[\"embeddings\"][0]\n",
    "dimensions = len(sample_embedding)\n",
    "print(f\"There are {count:,} vectors with {dimensions:,} dimensions in the vector store\")"
   ]
  },
  {
   "cell_type": "code",
   "execution_count": 10,
   "metadata": {},
   "outputs": [],
   "source": [
    "# Gather the vectors, documents and metadata\n",
    "\n",
    "result = collection.get(include=['embeddings', 'documents', 'metadatas'])\n",
    "vectors = np.array(result['embeddings'])\n",
    "documents = result['documents']\n",
    "metadatas = result['metadatas']\n",
    "doc_types = [metadata['source'].split('/')[1] for metadata in metadatas]\n",
    "colors = [['blue', 'green', 'red', 'orange'][['products', 'employees', 'contracts', 'company'].index(t)] for t in doc_types]"
   ]
  },
  {
   "cell_type": "code",
   "execution_count": 11,
   "metadata": {},
   "outputs": [
    {
     "data": {
      "application/vnd.plotly.v1+json": {
       "config": {
        "plotlyServerURL": "https://plot.ly"
       },
       "data": [
        {
         "hoverinfo": "text",
         "marker": {
          "color": [
           "blue",
           "blue",
           "blue",
           "blue",
           "blue",
           "blue",
           "blue",
           "blue",
           "blue",
           "blue",
           "blue",
           "blue",
           "blue",
           "blue",
           "blue",
           "blue",
           "blue",
           "blue",
           "blue",
           "blue",
           "blue",
           "blue",
           "blue",
           "blue",
           "blue",
           "blue",
           "blue",
           "blue",
           "blue",
           "blue",
           "blue",
           "blue",
           "blue",
           "blue",
           "blue",
           "blue",
           "blue",
           "blue",
           "blue",
           "blue",
           "blue",
           "blue",
           "blue",
           "blue",
           "blue",
           "blue",
           "blue",
           "red",
           "red",
           "red",
           "red",
           "red",
           "red",
           "red",
           "red",
           "red",
           "red",
           "red",
           "red",
           "red",
           "red",
           "red",
           "red",
           "red",
           "red",
           "red",
           "red",
           "red",
           "red",
           "red",
           "red",
           "red",
           "red",
           "red",
           "red",
           "red",
           "red",
           "red",
           "red",
           "red",
           "red",
           "red",
           "red",
           "red",
           "red",
           "red",
           "red",
           "red",
           "red",
           "red",
           "red",
           "red",
           "red",
           "red",
           "red",
           "red",
           "red",
           "red",
           "red",
           "red",
           "red",
           "red",
           "red",
           "red",
           "red",
           "red",
           "red",
           "red",
           "red",
           "red",
           "red",
           "red",
           "red",
           "red",
           "red",
           "red",
           "red",
           "red",
           "red",
           "red",
           "red",
           "red",
           "red",
           "red",
           "red",
           "red",
           "red",
           "red",
           "red",
           "red",
           "red",
           "red",
           "red",
           "red",
           "red",
           "red",
           "red",
           "red",
           "red",
           "red",
           "red",
           "red",
           "red",
           "red",
           "red",
           "red",
           "red",
           "red",
           "red",
           "red",
           "red",
           "red",
           "red",
           "red",
           "red",
           "red",
           "red",
           "red",
           "red",
           "red",
           "red",
           "red",
           "red",
           "red",
           "red",
           "red",
           "red",
           "red",
           "red",
           "red",
           "red",
           "red",
           "red",
           "red",
           "red",
           "red",
           "red",
           "red",
           "red",
           "red",
           "red",
           "red",
           "red",
           "red",
           "red",
           "red",
           "red",
           "red",
           "red",
           "red",
           "red",
           "red",
           "red",
           "red",
           "red",
           "red",
           "red",
           "red",
           "red",
           "red",
           "red",
           "red",
           "red",
           "red",
           "red",
           "red",
           "red",
           "red",
           "red",
           "red",
           "red",
           "red",
           "red",
           "red",
           "red",
           "red",
           "red",
           "red",
           "red",
           "red",
           "red",
           "red",
           "red",
           "red",
           "red",
           "red",
           "red",
           "red",
           "red",
           "red",
           "red",
           "red",
           "red",
           "red",
           "red",
           "red",
           "red",
           "red",
           "red",
           "red",
           "red",
           "red",
           "red",
           "red",
           "red",
           "red",
           "red",
           "red",
           "red",
           "red",
           "red",
           "red",
           "red",
           "red",
           "red",
           "red",
           "red",
           "red",
           "red",
           "red",
           "red",
           "red",
           "red",
           "red",
           "red",
           "red",
           "red",
           "red",
           "red",
           "red",
           "red",
           "red",
           "red",
           "red",
           "red",
           "red",
           "red",
           "orange",
           "orange",
           "orange",
           "orange",
           "orange",
           "orange",
           "orange",
           "orange",
           "orange",
           "orange",
           "orange",
           "orange",
           "orange",
           "orange",
           "orange",
           "orange",
           "orange",
           "orange",
           "green",
           "green",
           "green",
           "green",
           "green",
           "green",
           "green",
           "green",
           "green",
           "green",
           "green",
           "green",
           "green",
           "green",
           "green",
           "green",
           "green",
           "green",
           "green",
           "green",
           "green",
           "green",
           "green",
           "green",
           "green",
           "green",
           "green",
           "green",
           "green",
           "green",
           "green",
           "green",
           "green",
           "green",
           "green",
           "green",
           "green",
           "green",
           "green",
           "green",
           "green",
           "green",
           "green",
           "green",
           "green",
           "green",
           "green",
           "green",
           "green",
           "green",
           "green",
           "green",
           "green",
           "green",
           "green",
           "green",
           "green",
           "green",
           "green",
           "green",
           "green",
           "green",
           "green",
           "green",
           "green",
           "green",
           "green",
           "green",
           "green",
           "green",
           "green",
           "green",
           "green",
           "green",
           "green",
           "green",
           "green",
           "green",
           "green",
           "green",
           "green",
           "green",
           "green",
           "green",
           "green",
           "green",
           "green",
           "green",
           "green",
           "green",
           "green",
           "green",
           "green",
           "green",
           "green",
           "green",
           "green",
           "green",
           "green",
           "green",
           "green",
           "green",
           "green",
           "green",
           "green",
           "green",
           "green",
           "green",
           "green",
           "green",
           "green",
           "green",
           "green",
           "green",
           "green",
           "green",
           "green",
           "green"
          ],
          "opacity": 0.8,
          "size": 5
         },
         "mode": "markers",
         "text": [
          "Type: products<br>Text: # Product Summary\n\n# Rellm: AI-Powered Enterprise Reinsurance Solution\n\n## Summary\n\nRellm is an inno...",
          "Type: products<br>Text: ### Seamless Integrations\nRellm's architecture is designed for effortless integration with existing ...",
          "Type: products<br>Text: ### Regulatory Compliance Tools\nRellm includes built-in compliance tracking features to help organiz...",
          "Type: products<br>Text: Join the growing number of organizations leveraging Rellm to enhance their reinsurance processes whi...",
          "Type: products<br>Text: Experience the future of reinsurance with Rellm, where innovation meets reliability. Let Insurellm h...",
          "Type: products<br>Text: # Product Summary\n\n# Claimllm\n\n## Summary\n\nClaimllm is Insurellm's revolutionary claims processing p...",
          "Type: products<br>Text: ## Features\n\n### 1. Intelligent FNOL Processing\nClaimllm's AI-powered first notice of loss intake ca...",
          "Type: products<br>Text: ### 4. Predictive Fraud Detection\nSophisticated fraud analytics evaluate claims against historical p...",
          "Type: products<br>Text: ### 7. Vendor Management Platform\nIntegrated tools coordinate with repair shops, medical providers, ...",
          "Type: products<br>Text: ### 10. Analytics and Reporting\nComprehensive dashboards track key metrics including cycle time, los...",
          "Type: products<br>Text: All tiers include comprehensive implementation, claims staff training, and continuous platform enhan...",
          "Type: products<br>Text: Claimllm represents the future of insurance claims—faster, smarter, and more customer-centric. Trans...",
          "Type: products<br>Text: # Product Summary\n\n# Bizllm\n\n## Summary\n\nBizllm is Insurellm's enterprise-grade commercial insurance...",
          "Type: products<br>Text: ## Features\n\n### 1. Multi-Line Underwriting Engine\nBizllm's sophisticated underwriting platform hand...",
          "Type: products<br>Text: ### 4. Workers' Compensation Optimization\nIntegrated workers' comp tools analyze payroll data, indus...",
          "Type: products<br>Text: ### 7. Portfolio Management Dashboard\nComprehensive analytics provide insurers with portfolio-level ...",
          "Type: products<br>Text: ## Pricing\n\nBizllm's pricing structure reflects the complexity and value of commercial insurance ope...",
          "Type: products<br>Text: All tiers include implementation services, staff training, and continuous platform updates.\n\n## Road...",
          "Type: products<br>Text: Bizllm empowers commercial insurers to compete effectively in complex markets while delivering the d...",
          "Type: products<br>Text: # Product Summary\n\n# Lifellm\n\n## Summary\n\nLifellm is an advanced life insurance platform developed b...",
          "Type: products<br>Text: ### 2. Predictive Risk Modeling\nAdvanced machine learning algorithms assess mortality risk by analyz...",
          "Type: products<br>Text: ### 5. Smart Document Processing\nLifellm utilizes natural language processing and optical character ...",
          "Type: products<br>Text: ## Pricing\n\nLifellm's flexible pricing structure accommodates insurance providers of all sizes:\n\n- *...",
          "Type: products<br>Text: All tiers include comprehensive onboarding, training programs, and regular platform updates.\n\n## Roa...",
          "Type: products<br>Text: With Lifellm, Insurellm is transforming life insurance into a modern, customer-centric experience th...",
          "Type: products<br>Text: # Product Summary\n\n# Healthllm\n\n## Summary\n\nHealthllm is Insurellm's comprehensive health insurance ...",
          "Type: products<br>Text: ### 2. Real-Time Eligibility Verification\nIntegrated eligibility checking ensures instant verificati...",
          "Type: products<br>Text: ### 5. Provider Network Management\nComprehensive tools for managing provider relationships, contract...",
          "Type: products<br>Text: ### 8. Regulatory Compliance Engine\nBuilt-in compliance monitoring ensures adherence to ACA requirem...",
          "Type: products<br>Text: All plans include implementation support, staff training, and ongoing platform enhancements.\n\n## Roa...",
          "Type: products<br>Text: Healthllm represents Insurellm's commitment to transforming health insurance through technology that...",
          "Type: products<br>Text: # Product Summary\n\n# Markellm\n\n## Summary\n\nMarkellm is an innovative two-sided marketplace designed ...",
          "Type: products<br>Text: - **User-Friendly Interface**: Designed with user experience in mind, Markellm features an intuitive...",
          "Type: products<br>Text: - **Customer Support**: Our dedicated support team is always available to assist both consumers and ...",
          "Type: products<br>Text: ### For Insurance Companies:\n- **Basic Listing Fee**: $199/month for a featured listing on the platf...",
          "Type: products<br>Text: ### Q3 2025\n- Initiate a comprehensive marketing campaign targeting both consumers and insurers to i...",
          "Type: products<br>Text: # Product Summary\n\n# Homellm\n\n## Summary\nHomellm is an innovative home insurance product developed b...",
          "Type: products<br>Text: ### 2. Dynamic Pricing Model\nWith Homellm's innovative dynamic pricing model, insurance providers ca...",
          "Type: products<br>Text: ### 5. Multi-Channel Integration\nHomellm seamlessly integrates into existing insurance platforms, pr...",
          "Type: products<br>Text: - **Basic Tier:** Starting at $5,000/month for small insurers with basic integration features.\n- **S...",
          "Type: products<br>Text: All tiers include a comprehensive training program and ongoing updates to ensure optimal performance...",
          "Type: products<br>Text: With Homellm, Insurellm is committed to transforming the landscape of home insurance, ensuring both ...",
          "Type: products<br>Text: # Product Summary\n\n# Carllm\n\n## Summary\n\nCarllm is an innovative auto insurance product developed by...",
          "Type: products<br>Text: - **Instant Quoting**: With Carllm, insurance companies can offer near-instant quotes to customers, ...",
          "Type: products<br>Text: - **Mobile Integration**: Carllm is designed to work seamlessly with mobile applications, providing ...",
          "Type: products<br>Text: - **Professional Tier**: $2,500/month\n  - For medium-sized companies.\n  - All Basic Tier features pl...",
          "Type: products<br>Text: ### Q2 2025: Customer Experience Improvements\n- Launch of a new **mobile app** for end-users.\n- Intr...",
          "Type: contracts<br>Text: # Contract with GreenField Holdings for Markellm\n\n**Effective Date:** November 15, 2023  \n**Contract...",
          "Type: contracts<br>Text: ## Renewal\n1. **Automatic Renewal**: This contract will automatically renew for sequential one-year ...",
          "Type: contracts<br>Text: ## Features\n1. **AI-Powered Matching**: Access to advanced algorithms that connect GreenField Holdin...",
          "Type: contracts<br>Text: ## Support\n1. **Customer Support Access**: The Client will have access to dedicated support through ...",
          "Type: contracts<br>Text: **Signatures:**  \n_________________________                           _________________________  \n**...",
          "Type: contracts<br>Text: # Contract with EverGuard Insurance for Rellm: AI-Powered Enterprise Reinsurance Solution\n\n**Contrac...",
          "Type: contracts<br>Text: 4. **Usage Rights**: EverGuard Insurance is granted a non-exclusive, non-transferable license to acc...",
          "Type: contracts<br>Text: 2. **Customizable Dashboard**: Users at EverGuard Insurance will have access to a customizable dashb...",
          "Type: contracts<br>Text: 3. **Updates and Upgrades**: EverGuard Insurance will receive all platform updates and upgrades at n...",
          "Type: contracts<br>Text: # Contract with United Healthcare Alliance for Healthllm\n\n**Contract Date:** May 15, 2025\n**Contract...",
          "Type: contracts<br>Text: 4. **Service Level Agreement:** Insurellm guarantees 99.95% uptime measured monthly, with financial ...",
          "Type: contracts<br>Text: 7. **Business Continuity:** Guaranteed 2-hour recovery time objective (RTO) and 15-minute recovery p...",
          "Type: contracts<br>Text: 1. **Unlimited Member Administration:** No capacity restrictions, supporting United's 250,000+ membe...",
          "Type: contracts<br>Text: 4. **Advanced AI Claims Adjudication:** Enterprise-grade claims processing:\n   - Auto-adjudication r...",
          "Type: contracts<br>Text: 6. **Complete API Access:** Unlimited API calls supporting:\n   - Real-time integration with United's...",
          "Type: contracts<br>Text: 8. **Comprehensive Medication Management:**\n   - Multi-tier formulary management (national and state...",
          "Type: contracts<br>Text: 10. **Quality and Performance Management:**\n    - HEDIS measure calculation and reporting\n    - STAR...",
          "Type: contracts<br>Text: 12. **Regulatory Compliance and Reporting:**\n    - ACA compliance monitoring (MLR, essential health ...",
          "Type: contracts<br>Text: ---\n\n## Support\n\nInsurellm commits to comprehensive Enterprise-level support for United Healthcare A...",
          "Type: contracts<br>Text: 3. **Comprehensive Implementation:**\n   - 18-month phased implementation program with 4 major go-liv...",
          "Type: contracts<br>Text: 4. **Training and Enablement:**\n   - Comprehensive role-based training programs for all staff\n   - E...",
          "Type: contracts<br>Text: 5. **Custom Development:**\n   - 3,000 hours annually of custom development included\n   - Dedicated d...",
          "Type: contracts<br>Text: 6. **Integration Services:**\n   - Enterprise integration with United's complex system landscape:\n   ...",
          "Type: contracts<br>Text: 7. **Analytics and Reporting:**\n   - Custom dashboard development (unlimited)\n   - Real-time operati...",
          "Type: contracts<br>Text: 8. **Compliance and Regulatory Support:**\n   - Monthly compliance reviews with detailed documentatio...",
          "Type: contracts<br>Text: 9. **Continuous Improvement:**\n   - Bi-weekly process optimization workshops\n   - Quarterly efficien...",
          "Type: contracts<br>Text: _________________________________\n**James Patterson**\n**Title**: Chairman & Chief Executive Officer\n...",
          "Type: contracts<br>Text: # Contract with Guardian Life Partners for Lifellm\n\n---\n\n## Terms...",
          "Type: contracts<br>Text: ---\n\n## Terms\n\n1. **Agreement Effective Date**: This contract is effective as of March 1, 2025.\n2. *...",
          "Type: contracts<br>Text: ---\n\n## Renewal\n\n1. **Automatic Renewal**: This agreement will automatically renew for an additional...",
          "Type: contracts<br>Text: ---\n\n## Features\n\n1. **Access to Growth Tier Features**: Guardian Life Partners will have comprehens...",
          "Type: contracts<br>Text: 3. **Advanced Underwriting:**\n   - Automated underwriting for face amounts up to $500,000\n   - Accel...",
          "Type: contracts<br>Text: 2. **Training**: Comprehensive training program:\n   - Initial onboarding (4 weeks) for up to 20 staf...",
          "Type: contracts<br>Text: 5. **Integration Support**: Technical assistance for integrating Lifellm with:\n   - Guardian's polic...",
          "Type: contracts<br>Text: _________________________________\n**Jonathan Park**\n**Title**: President & CEO\n**Guardian Life Partn...",
          "Type: contracts<br>Text: # Contract with Greenstone Insurance for Homellm\n\n---\n\n## Terms\n\n1. **Parties**: This Contract (\"Agr...",
          "Type: contracts<br>Text: 4. **Payment Terms**: \n   - The Customer shall pay an amount of $10,000 per month for the Standard T...",
          "Type: contracts<br>Text: ---\n\n## Features\n\n- **AI-Powered Risk Assessment**: Customer will have access to enhanced risk evalu...",
          "Type: contracts<br>Text: - **Customer Portal**: A dedicated portal will be provided, allowing the Customer's clients to manag...",
          "Type: contracts<br>Text: ______________________________  \n[Name], [Title]  \nDate: ______________________\n\n**For Greenstone In...",
          "Type: contracts<br>Text: # Contract with Roadway Insurance Inc. for Carllm\n\n---\n\n## Terms\n\n1. **Agreement Effective Date**: T...",
          "Type: contracts<br>Text: ---\n\n## Renewal\n\n1. **Automatic Renewal**: This agreement will automatically renew for an additional...",
          "Type: contracts<br>Text: ---\n\n## Features\n\n1. **Access to Core Features**: Roadway Insurance Inc. will have access to all Pro...",
          "Type: contracts<br>Text: ---\n\n## Support\n\n1. **Technical Support**: Roadway Insurance Inc. will receive priority technical su...",
          "Type: contracts<br>Text: # Contract with Rapid Claims Associates for Claimllm\n\n**Contract Date:** March 1, 2025\n**Contract Nu...",
          "Type: contracts<br>Text: 4. **Overage Fees:** If claims volume exceeds 5,000 annually, overage fees of $0.90 per claim apply,...",
          "Type: contracts<br>Text: ---\n\n## Features\n\nRapid Claims Associates will receive the following Core Tier features:\n\n1. **Intel...",
          "Type: contracts<br>Text: 3. **Basic Document Processing:** OCR and NLP extraction from:\n   - Police reports\n   - Repair estim...",
          "Type: contracts<br>Text: 7. **Payment Processing:** Integration with payment systems for:\n   - Direct deposit (ACH)\n   - Chec...",
          "Type: contracts<br>Text: 3. **Platform Updates:**\n   - Quarterly feature releases with new capabilities\n   - Monthly security...",
          "Type: contracts<br>Text: _________________________________\n**Marcus Johnson**\n**Title**: Chief Claims Officer\n**Rapid Claims ...",
          "Type: contracts<br>Text: # Contract with National Claims Network for Claimllm\n\n**Contract Date:** April 20, 2025\n**Contract N...",
          "Type: contracts<br>Text: 4. **Service Level Agreement:** Insurellm guarantees 99.95% uptime with financial credits for downti...",
          "Type: contracts<br>Text: 7. **Business Continuity:** Insurellm provides disaster recovery with 4-hour RTO (Recovery Time Obje...",
          "Type: contracts<br>Text: 3. **Advanced Computer Vision:** State-of-the-art damage assessment:\n   - Auto damage analysis with ...",
          "Type: contracts<br>Text: 5. **Complete API Access:** Unlimited API calls supporting:\n   - Real-time integrations with 50+ car...",
          "Type: contracts<br>Text: 8. **Advanced Vendor Management:**\n   - Network of 5,000+ preferred vendors nationwide\n   - AI-power...",
          "Type: contracts<br>Text: 2. **24/7/365 Premium Support:**\n   - Guaranteed 10-minute response time for P1 critical issues\n   -...",
          "Type: contracts<br>Text: 4. **Training and Enablement:**\n   - Role-based training programs (adjusters, supervisors, fraud inv...",
          "Type: contracts<br>Text: 6. **Integration Services:**\n   - Enterprise integration with National's systems:\n     - Policy admi...",
          "Type: contracts<br>Text: 8. **Continuous Improvement:**\n   - Quarterly process optimization workshops\n   - Annual efficiency ...",
          "Type: contracts<br>Text: # Contract with Continental Commercial Group for Bizllm\n\n**Contract Date:** April 12, 2025\n**Contrac...",
          "Type: contracts<br>Text: 4. **Confidentiality:** Both parties agree to maintain the highest level of confidentiality regardin...",
          "Type: contracts<br>Text: 7. **Exclusivity:** Continental Commercial Group receives exclusive use of Bizllm in the specialty c...",
          "Type: contracts<br>Text: 2. **Dedicated Cloud Infrastructure:** Private cloud deployment with dedicated servers, ensuring dat...",
          "Type: contracts<br>Text: 5. **Custom Product Configuration:** Ability to configure and deploy unlimited custom commercial ins...",
          "Type: contracts<br>Text: 8. **Regulatory Compliance Suite:** Automated compliance monitoring for all 50 states including form...",
          "Type: contracts<br>Text: 3. **Implementation and Onboarding:**\n   - 6-month implementation program with dedicated project man...",
          "Type: contracts<br>Text: 6. **Performance Optimization:**\n   - Monthly platform performance reviews\n   - Proactive capacity p...",
          "Type: contracts<br>Text: # Contract with Stellar Insurance Co. for Rellm\n\n## Terms\nThis contract is made between **Insurellm*...",
          "Type: contracts<br>Text: ### Termination\nEither party may terminate this agreement with a **30-day written notice**. In the e...",
          "Type: contracts<br>Text: ## Features\nStellar Insurance Co. will receive access to the following features of the Rellm product...",
          "Type: contracts<br>Text: ## Support\nInsurellm provides Stellar Insurance Co. with the following support services:\n\n- **24/7 T...",
          "Type: contracts<br>Text: # Contract with Harmony Health Plans for Healthllm\n\n---\n\n## Terms...",
          "Type: contracts<br>Text: ---\n\n## Terms\n\n1. **Agreement Effective Date**: This contract is effective as of January 25, 2025.\n2...",
          "Type: contracts<br>Text: ---\n\n## Renewal\n\n1. **Automatic Renewal**: This agreement will automatically renew for an additional...",
          "Type: contracts<br>Text: ---\n\n## Features\n\n1. **Access to Professional Tier Features**: Harmony Health Plans will have compre...",
          "Type: contracts<br>Text: 2. **Predictive Healthcare Analytics:**\n   - High-risk member identification for care management\n   ...",
          "Type: contracts<br>Text: 4. **Value-Based Care Tools:**\n   - ACO (Accountable Care Organization) performance tracking\n   - Sh...",
          "Type: contracts<br>Text: 2. **Training**: Comprehensive training program:\n   - 6-week implementation with dedicated project m...",
          "Type: contracts<br>Text: 4. **Account Management**:\n   - Named Senior Customer Success Manager with bi-weekly check-ins\n   - ...",
          "Type: contracts<br>Text: 6. **Analytics and Reporting:**\n   - Custom dashboard development (up to 10 dashboards)\n   - Automat...",
          "Type: contracts<br>Text: ---\n\n**Signatures:**\n\n_________________________________\n**Sarah Chen**\n**Title**: Vice President of ...",
          "Type: contracts<br>Text: # Contract with TechDrive Insurance for Carllm\n\n**Contract Date:** October 1, 2024  \n**Contract Dura...",
          "Type: contracts<br>Text: ## Renewal\n\n1. **Automatic Renewal**: This contract shall automatically renew for additional one-yea...",
          "Type: contracts<br>Text: ## Support\n\n1. **Customer Support**: Insurellm will provide 24/7 customer support to TechDrive Insur...",
          "Type: contracts<br>Text: **TechDrive Insurance Representative:**  \nName: Sarah Johnson  \nTitle: Operations Director  \nDate: _...",
          "Type: contracts<br>Text: # Contract with Heritage Life Assurance for Lifellm\n\n**Contract Date:** February 12, 2025\n**Contract...",
          "Type: contracts<br>Text: ## Renewal\n\n1. **Automatic Renewal**: This agreement automatically renews for 12-month terms unless ...",
          "Type: contracts<br>Text: 3. **Digital Health Integration**:\n   - Wearable device connections (Fitbit, Apple Watch)\n   - Healt...",
          "Type: contracts<br>Text: 6. **Advanced Reporting**:\n   - Application conversion analytics\n   - Underwriting productivity metr...",
          "Type: contracts<br>Text: ---\n\n**Signatures:**\n\n**Insurellm, Inc.**\nMichael Torres, Chief Revenue Officer\nDate: February 12, 2...",
          "Type: contracts<br>Text: # Contract with Premier Adjusters Inc. for Claimllm\n\n---\n\n## Terms...",
          "Type: contracts<br>Text: ---\n\n## Terms\n\n1. **Agreement Effective Date**: This contract is effective as of February 15, 2025.\n...",
          "Type: contracts<br>Text: ---\n\n## Renewal\n\n1. **Automatic Renewal**: This agreement will automatically renew for an additional...",
          "Type: contracts<br>Text: ---\n\n## Features\n\n1. **Access to Advanced Tier Features**: Premier Adjusters Inc. will have access t...",
          "Type: contracts<br>Text: 2. **Computer Vision Capabilities:**\n   - Automated vehicle damage assessment from photos (dents, sc...",
          "Type: contracts<br>Text: ---\n\n## Support\n\n1. **Technical Support**: Premier Adjusters Inc. will receive priority advanced sup...",
          "Type: contracts<br>Text: 3. **Updates and Maintenance**:\n   - Monthly platform updates with new features\n   - Bi-weekly secur...",
          "Type: contracts<br>Text: 6. **Data and Analytics:**\n   - Custom dashboard development (up to 5 dashboards)\n   - Monthly data ...",
          "Type: contracts<br>Text: # Contract with FastTrack Insurance Services for Claimllm\n\n**Contract Date:** May 10, 2025\n**Contrac...",
          "Type: contracts<br>Text: 5. **Confidentiality**: Both parties shall maintain confidentiality regarding each other's proprieta...",
          "Type: contracts<br>Text: 2. **Pricing Review**: Renewal pricing will be discussed 60 days prior to term end. Price increases ...",
          "Type: contracts<br>Text: 2. **Integration Capabilities**: API integration with FastTrack's existing claims systems (Guidewire...",
          "Type: contracts<br>Text: ---\n\n**Signatures:**\n\n**Insurellm, Inc.**\nSarah Chen, VP of Sales\nDate: May 10, 2025\n\n**FastTrack In...",
          "Type: contracts<br>Text: # Contract with Atlantic Risk Solutions for Bizllm\n\n---\n\n## Terms\n\n1. **Agreement Effective Date**: ...",
          "Type: contracts<br>Text: ---\n\n## Renewal\n\n1. **Automatic Renewal**: This agreement will automatically renew for an additional...",
          "Type: contracts<br>Text: ---\n\n## Features\n\n1. **Access to Professional Tier Features**: Atlantic Risk Solutions will have acc...",
          "Type: contracts<br>Text: 2. **Industry-Specific Templates**: Pre-configured underwriting templates for:\n   - Technology compa...",
          "Type: contracts<br>Text: 2. **Training**: Insurellm will provide comprehensive training program:\n   - Initial onboarding for ...",
          "Type: contracts<br>Text: 5. **Integration Support**: Technical assistance for integrating Bizllm with:\n   - Atlantic's existi...",
          "Type: contracts<br>Text: # Contract with Belvedere Insurance for Markellm\n\n## Terms\nThis Contract (\"Agreement\") is made and e...",
          "Type: contracts<br>Text: ## Renewal\n1. **Renewal Terms**: This Agreement may be renewed for additional one-year terms upon mu...",
          "Type: contracts<br>Text: ## Features\n1. **AI-Powered Matching**: Belvedere Insurance will benefit from Markellm's AI-powered ...",
          "Type: contracts<br>Text: ## Support\n1. **Technical Support**: Technical support will be available from 9 AM to 7 PM EST, Mond...",
          "Type: contracts<br>Text: **Belvedere Insurance**  \nSignature: ______________________  \nName: [Authorized Signatory]  \nTitle: ...",
          "Type: contracts<br>Text: # Contract with ConnectInsure Agency for Markellm\n\n**Contract Date:** February 28, 2025\n**Contract N...",
          "Type: contracts<br>Text: 5. **Lead Volume Expectations**: Based on ConnectInsure's profile, Markellm projects 80-120 qualifie...",
          "Type: contracts<br>Text: 8. **Dispute Resolution**: Lead quality disputes must be submitted within 5 business days with docum...",
          "Type: contracts<br>Text: 2. **Featured Listing**: Premium marketplace placement including:\n   - Enhanced agency profile with ...",
          "Type: contracts<br>Text: 5. **Data Insights**: Analytics dashboard providing:\n   - Lead volume trends and forecasting\n   - Co...",
          "Type: contracts<br>Text: 2. **Onboarding**: Implementation includes:\n   - 2-week onboarding process\n   - Platform training fo...",
          "Type: contracts<br>Text: ---\n\n**Signatures:**\n\n**Insurellm, Inc.**\nMichael Torres, Chief Revenue Officer\nDate: February 28, 2...",
          "Type: contracts<br>Text: # Contract with Metropolitan Life Group for Lifellm\n\n**Contract Date:** April 5, 2025\n**Contract Num...",
          "Type: contracts<br>Text: 4. **Service Level Agreement:** Insurellm guarantees 99.9% uptime measured monthly, with 10% monthly...",
          "Type: contracts<br>Text: ---\n\n## Features\n\nMetropolitan Life Group will receive the complete Lifellm Enterprise suite:\n\n1. **...",
          "Type: contracts<br>Text: 4. **Comprehensive Digital Health Integration:**\n   - Wearable integrations: Apple Watch, Fitbit, Ga...",
          "Type: contracts<br>Text: 6. **Predictive Analytics Suite:**\n   - Lapse and persistency prediction modeling\n   - Cross-sell an...",
          "Type: contracts<br>Text: 9. **Regulatory and Compliance:**\n   - 50-state compliance monitoring and form filing\n   - Automated...",
          "Type: contracts<br>Text: ---\n\n## Support\n\nInsurellm commits to comprehensive Enterprise-level support for Metropolitan Life G...",
          "Type: contracts<br>Text: 3. **Comprehensive Implementation:**\n   - 12-month phased implementation program with 3 major releas...",
          "Type: contracts<br>Text: 5. **Custom Development:**\n   - 2,000 hours annually of custom development included\n   - Dedicated d...",
          "Type: contracts<br>Text: 7. **Analytics and Reporting:**\n   - Custom executive dashboard development (unlimited)\n   - Real-ti...",
          "Type: contracts<br>Text: ---\n\n**Signatures:**\n\n_________________________________\n**Jennifer Rodriguez**\n**Title**: Chief Exec...",
          "Type: contracts<br>Text: # Contract with Velocity Auto Solutions for Carllm\n\n**Contract Date:** October 1, 2023  \n**Contract ...",
          "Type: contracts<br>Text: ## Renewal\n\n1. **Automatic Renewal**: This contract will automatically renew for successive 12-month...",
          "Type: contracts<br>Text: ## Support\n\n1. **Customer Support**: Velocity Auto Solutions will have access to Insurellm’s custome...",
          "Type: contracts<br>Text: # Contract with GlobalRe Partners for Rellm - AI-Powered Enterprise Reinsurance Solution\n\n**Contract...",
          "Type: contracts<br>Text: 4. **Reinsurance Volume**: Enterprise Tier supports unlimited treaties and facultative certificates....",
          "Type: contracts<br>Text: 8. **Business Continuity:** Guaranteed 2-hour recovery time objective (RTO) and 30-minute recovery p...",
          "Type: contracts<br>Text: ---\n\n## Features\n\nGlobalRe Partners will receive the complete Rellm Enterprise suite with advanced r...",
          "Type: contracts<br>Text: 3. **Advanced AI-Driven Analytics:** Enterprise-grade reinsurance analytics:\n   - Predictive risk mo...",
          "Type: contracts<br>Text: 5. **Catastrophe Modeling Integration:** Best-in-class CAT modeling:\n   - Integration with all major...",
          "Type: contracts<br>Text: 7. **Facultative Reinsurance Platform:** Comprehensive fac management:\n   - Digital submission intak...",
          "Type: contracts<br>Text: 9. **Regulatory Compliance Tools:** Global compliance support:\n   - Multi-jurisdiction regulatory re...",
          "Type: contracts<br>Text: 11. **Complete API Access:** Unlimited API integration:\n    - Real-time integration with GlobalRe's ...",
          "Type: contracts<br>Text: 13. **Climate Risk Analytics:** Forward-looking climate modeling:\n    - IPCC climate scenario analys...",
          "Type: contracts<br>Text: 2. **24/7/365 Premium Support:**\n   - Guaranteed 10-minute response for P1 critical issues (during c...",
          "Type: contracts<br>Text: 3. **Comprehensive Implementation:**\n   - 18-month phased implementation program with 5 major releas...",
          "Type: contracts<br>Text: 4. **Training and Enablement:**\n   - Comprehensive role-based training (underwriters, actuaries, acc...",
          "Type: contracts<br>Text: 5. **Custom Development:**\n   - 4,000 hours annually of custom development included\n   - Dedicated d...",
          "Type: contracts<br>Text: 6. **Integration Services:**\n   - Enterprise integration with GlobalRe's complex ecosystem:\n     - S...",
          "Type: contracts<br>Text: 7. **Analytics and Reporting:**\n   - Custom dashboard development (unlimited)\n   - Real-time operati...",
          "Type: contracts<br>Text: 8. **Catastrophe Response:**\n   - Dedicated CAT war room activation during major events\n   - Real-ti...",
          "Type: contracts<br>Text: 10. **Continuous Improvement:**\n    - Monthly process optimization sessions\n    - Quarterly efficien...",
          "Type: contracts<br>Text: ---\n\n**Signatures:**\n\n_________________________________\n**Jennifer Rodriguez**\n**Title**: Chief Exec...",
          "Type: contracts<br>Text: # Contract with WellCare Insurance Co. for Healthllm\n\n**Contract Date:** March 8, 2025\n**Contract Nu...",
          "Type: contracts<br>Text: 4. **Member Coverage**: Essential Tier supports health insurance administration for up to 15,000 cov...",
          "Type: contracts<br>Text: ---\n\n## Features\n\nWellCare Insurance Co. will receive the following Essential Tier features:\n\n1. **I...",
          "Type: contracts<br>Text: 3. **AI-Driven Claims Adjudication:** Automated claims processing:\n   - Machine learning-based claim...",
          "Type: contracts<br>Text: 6. **Basic Medication Management:**\n   - Formulary management tools\n   - Prior authorization workflo...",
          "Type: contracts<br>Text: ---\n\n## Support\n\nInsurellm commits to providing comprehensive support to WellCare Insurance Co.:\n\n1....",
          "Type: contracts<br>Text: 4. **Account Management:**\n   - Named customer success manager\n   - Quarterly business review meetin...",
          "Type: contracts<br>Text: ---\n\n**Signatures:**\n\n_________________________________\n**Sarah Chen**\n**Title**: Vice President of ...",
          "Type: contracts<br>Text: # Contract with Fortress Business Underwriters for Bizllm\n\n---\n\n## Terms\n\n1. **Agreement Effective D...",
          "Type: contracts<br>Text: ---\n\n## Renewal\n\n1. **Automatic Renewal**: This agreement will automatically renew for an additional...",
          "Type: contracts<br>Text: ---\n\n## Features\n\n1. **Access to Professional Tier Features**: Fortress Business Underwriters will h...",
          "Type: contracts<br>Text: 2. **Advanced Analytics**: Access to enhanced reporting capabilities including loss ratio analysis, ...",
          "Type: contracts<br>Text: 2. **Training**: Insurellm will provide:\n   - Initial comprehensive onboarding (40 hours) for up to ...",
          "Type: contracts<br>Text: ---\n\n**Signatures:**\n\n_________________________________\n**Michael Torres**\n**Title**: Chief Revenue ...",
          "Type: contracts<br>Text: # Contract with GreenValley Insurance for Homellm\n\n**Contract Date:** October 6, 2023  \n**Contract N...",
          "Type: contracts<br>Text: 4. **Confidentiality:** Both parties agree to maintain the confidentiality of proprietary informatio...",
          "Type: contracts<br>Text: 1. **AI-Powered Risk Assessment:** Access to advanced AI algorithms for real-time risk evaluations.\n...",
          "Type: contracts<br>Text: 3. **Regular Updates:** Insurellm will offer ongoing updates and enhancements to the Homellm platfor...",
          "Type: contracts<br>Text: # Contract with Evergreen Life Insurance for Lifellm\n\n**Contract Date:** January 20, 2025\n**Contract...",
          "Type: contracts<br>Text: 4. **Policy Volume:** Starter Tier supports underwriting and administration for up to 2,000 active p...",
          "Type: contracts<br>Text: ---\n\n## Features\n\nEvergreen Life Insurance will receive the following Starter Tier features:\n\n1. **A...",
          "Type: contracts<br>Text: 4. **Smart Document Processing:** OCR and NLP extraction from:\n   - Medical records and attending ph...",
          "Type: contracts<br>Text: ---\n\n## Support\n\nInsurellm commits to providing comprehensive support to Evergreen Life Insurance:\n\n...",
          "Type: contracts<br>Text: 3. **Platform Updates:**\n   - Quarterly feature releases\n   - Monthly security patches and improveme...",
          "Type: contracts<br>Text: _________________________________\n**Catherine Wu**\n**Title**: Chief Underwriting Officer\n**Evergreen...",
          "Type: contracts<br>Text: # Contract with BrightWay Solutions for Markellm\n\n**Contract Date:** October 5, 2023  \n**Contract ID...",
          "Type: contracts<br>Text: 3. **Service Level Agreement (SLA):**  \n   Insurellm commits to a 99.9% uptime for the platform with...",
          "Type: contracts<br>Text: 2. **Real-Time Quote Availability:**  \n   Consumers sourced via BrightWay Solutions will receive rea...",
          "Type: contracts<br>Text: 3. **Training and Onboarding:**  \n   Insurellm agrees to provide one free training session on how to...",
          "Type: contracts<br>Text: # Contract with DriveSmart Insurance for Carllm\n\n**Contract Date:** March 20, 2025\n**Contract Number...",
          "Type: contracts<br>Text: 4. **Policy Volume**: Enterprise Tier supports unlimited policies. DriveSmart currently has 85,000 a...",
          "Type: contracts<br>Text: ---\n\n## Features\n\nDriveSmart Insurance will receive the complete Carllm Enterprise suite:\n\n1. **Unli...",
          "Type: contracts<br>Text: 4. **Instant Quoting Engine:** High-performance quoting:\n   - Sub-3-second quote generation\n   - Rea...",
          "Type: contracts<br>Text: 6. **Advanced Fraud Detection:** Comprehensive fraud prevention:\n   - Application fraud detection (i...",
          "Type: contracts<br>Text: 8. **Telematics Integration:** Complete telematics platform:\n   - Device-agnostic integration (OBD-I...",
          "Type: contracts<br>Text: 10. **Multi-State Operations:** Comprehensive state support:\n    - State-specific forms and endorsem...",
          "Type: contracts<br>Text: 3. **Implementation:**\n   - 6-month phased implementation\n   - Dedicated project manager\n   - Migrat...",
          "Type: contracts<br>Text: 6. **Integration Services:**\n   - Integration with DriveSmart's systems:\n     - Duck Creek policy ad...",
          "Type: contracts<br>Text: ---\n\n**Signatures:**\n\n_________________________________\n**Jennifer Rodriguez**\n**Title**: Chief Exec...",
          "Type: contracts<br>Text: # Contract with SafeHaven Property Insurance for Homellm\n\n**Contract Date:** May 3, 2025\n**Contract ...",
          "Type: contracts<br>Text: 4. **Policy Volume**: Enterprise Tier supports unlimited policies. SafeHaven currently has 45,000 ac...",
          "Type: contracts<br>Text: ---\n\n## Features\n\nSafeHaven Property Insurance will receive the complete Homellm Enterprise suite:\n\n...",
          "Type: contracts<br>Text: 3. **Advanced AI Risk Assessment:** Enterprise-grade property risk analysis:\n   - Aerial imagery ana...",
          "Type: contracts<br>Text: 5. **Instant Claims Processing:** Advanced claims automation:\n   - AI-driven FNOL with photo/video u...",
          "Type: contracts<br>Text: 7. **Multi-Channel Integration:** Unified platform:\n   - Agent portal for 1,500+ independent agents\n...",
          "Type: contracts<br>Text: 9. **IoT Device Integration:** Smart home platform:\n   - Water leak detection systems (Flo by Moen, ...",
          "Type: contracts<br>Text: 11. **Multi-State Operations:** Comprehensive support:\n    - State-specific forms and endorsements f...",
          "Type: contracts<br>Text: ---\n\n## Support\n\nInsurellm commits to comprehensive Enterprise-level support for SafeHaven Property ...",
          "Type: contracts<br>Text: 3. **Comprehensive Implementation:**\n   - 8-month phased implementation program\n   - Dedicated proje...",
          "Type: contracts<br>Text: 5. **Custom Development:**\n   - 1,200 hours annually of custom development\n   - Dedicated developmen...",
          "Type: contracts<br>Text: 7. **Analytics and Reporting:**\n   - Custom dashboard development (up to 20 dashboards)\n   - Real-ti...",
          "Type: contracts<br>Text: 9. **Catastrophe Response:**\n   - Dedicated CAT support during disaster events\n   - Pre-CAT system p...",
          "Type: contracts<br>Text: _________________________________\n**Laura Mitchell**\n**Title**: President & Chief Executive Officer\n...",
          "Type: contracts<br>Text: # Contract with Pinnacle Insurance Co. for Homellm\n\n## Terms\nThis contract (\"Contract\") is entered i...",
          "Type: contracts<br>Text: ## Renewal\n1. **Renewal Terms**: At the end of the initial term, this Contract shall automatically r...",
          "Type: contracts<br>Text: ## Features\n1. **AI-Powered Risk Assessment**: Utilized for tailored underwriting decisions specific...",
          "Type: contracts<br>Text: ## Support\n1. **Technical Support**: Insurellm shall provide 24/7 technical support via an email and...",
          "Type: contracts<br>Text: # Contract with Apex Reinsurance for Rellm: AI-Powered Enterprise Reinsurance Solution\n\n## Terms\n\n1....",
          "Type: contracts<br>Text: ## Renewal\n\n1. **Automatic Renewal**: This Agreement will automatically renew for successive one-yea...",
          "Type: contracts<br>Text: 2. **Seamless Integrations**: The architecture of Rellm allows for easy integration with existing sy...",
          "Type: contracts<br>Text: 1. **Technical Support**: Provider shall offer dedicated technical support to the Client via phone, ...",
          "Type: contracts<br>Text: **Insurellm, Inc.**  \n_____________________________  \nAuthorized Signature   \nDate: ________________...",
          "Type: contracts<br>Text: # Contract with Advantage Medical Coverage for Healthllm\n\n**Contract Date:** April 18, 2025\n**Contra...",
          "Type: contracts<br>Text: 4. **Member Coverage**: Professional Tier supports up to 50,000 covered members. Advantage currently...",
          "Type: contracts<br>Text: 2. **Pricing Review**: Renewal pricing will be discussed 75 days prior to term end and mutually agre...",
          "Type: contracts<br>Text: 2. **Value-Based Care Support:**\n   - ACO performance tracking and shared savings calculation\n   - H...",
          "Type: contracts<br>Text: 2. **Training**: Comprehensive training program:\n   - 5-week implementation with project manager\n   ...",
          "Type: contracts<br>Text: ---\n\n**Signatures:**\n\n**Insurellm, Inc.**\nSarah Chen, VP of Sales\nDate: April 18, 2025\n\n**Advantage ...",
          "Type: contracts<br>Text: # Contract with Summit Commercial Insurance for Bizllm\n\n**Contract Date:** March 15, 2025\n**Contract...",
          "Type: contracts<br>Text: 3. **Payment:** Summit Commercial Insurance shall pay a monthly fee of $6,000, due by the 1st of eve...",
          "Type: contracts<br>Text: 6. **Data Security:** Insurellm commits to maintaining industry-standard encryption and security pro...",
          "Type: contracts<br>Text: 2. **Business Intelligence Integration:** Automated data gathering from business registries, financi...",
          "Type: contracts<br>Text: ---\n\n## Support\n\nInsurellm commits to providing comprehensive support to Summit Commercial Insurance...",
          "Type: contracts<br>Text: 5. **Performance Reviews:** Quarterly business reviews to assess platform utilization, identify opti...",
          "Type: company<br>Text: # Overview of Insurellm\n\nInsurellm is an innovative insurance tech firm with 32 employees operating ...",
          "Type: company<br>Text: ### Marketplace & Infrastructure\n- **Markellm** - Marketplace connecting consumers with insurance pr...",
          "Type: company<br>Text: ## Client Portfolio Breakdown\n\nInsurellm's 32 active contracts span the full spectrum of insurance t...",
          "Type: company<br>Text: **Insurance Marketplace (Markellm)**: 2 contracts with agencies and brokers leveraging the consumer-...",
          "Type: company<br>Text: # Careers at Insurellm\n\n## Why Join Insurellm?\n\nAt Insurellm, we're not just building software—we're...",
          "Type: company<br>Text: ### Our Culture\n\nWe live by our core values every day:\n- **Innovation First**: We encourage experime...",
          "Type: company<br>Text: ## Current Opportunities\n\n### Engineering\n\n**Senior Full Stack Engineer** - San Francisco, CA\n- Lead...",
          "Type: company<br>Text: **DevOps Engineer** - New York, NY\n- Manage cloud infrastructure (AWS/GCP)\n- Implement CI/CD pipelin...",
          "Type: company<br>Text: **Data Engineer** - Austin, TX\n- Design and maintain data pipelines\n- Build data warehousing solutio...",
          "Type: company<br>Text: ### Sales & Customer Success\n\n**Account Executive** - New York, NY / Chicago, IL / Austin, TX\n- Mana...",
          "Type: company<br>Text: ### Operations & Support\n\n**Technical Support Specialist** - Remote\n- Provide tier 2/3 technical sup...",
          "Type: company<br>Text: # Insurellm Culture\n\n## Vision Statement\nTo revolutionize the insurance industry through innovative ...",
          "Type: company<br>Text: ### Customer Obsession\nOur clients' success is our success. We deeply understand our customers' need...",
          "Type: company<br>Text: ## Employer Value Proposition\n\n**Build the Future of Insurance Technology with Elite Talent**\n\nAt In...",
          "Type: company<br>Text: - **Meaningful Impact**: Your work directly shapes products powering 32 active insurance operations,...",
          "Type: company<br>Text: # About Insurellm\n\nInsurellm was founded by Avery Lancaster in 2015 as an insurance tech startup des...",
          "Type: company<br>Text: However, the company underwent a strategic restructuring in 2022-2023 to focus on profitability and ...",
          "Type: company<br>Text: - **Bizllm** quickly gained traction with 7 commercial insurance contracts, including regional carri...",
          "Type: employees<br>Text: # HR Record\n\n# David Kim\n\n## Summary\n- **Date of Birth:** September 22, 1992\n- **Job Title:** DevOps...",
          "Type: employees<br>Text: - **June 2017 - February 2019:** Systems Administrator at CloudFirst Solutions\n  - Maintained Linux ...",
          "Type: employees<br>Text: ## Other HR Notes\n- **Certifications:** AWS Certified Solutions Architect (2022), Certified Kubernet...",
          "Type: employees<br>Text: # HR Record\n\n# Nina Patel\n\n## Summary\n- **Date of Birth:** July 25, 1991\n- **Job Title:** Business I...",
          "Type: employees<br>Text: - **May 2017 - July 2019:** Data Analyst at RetailMetrics Inc.\n  - Analyzed retail sales data and cu...",
          "Type: employees<br>Text: - **2019:** Rating: 3.9/5\n  *Good onboarding year. Quick to adapt to Insurellm's data systems.*\n\n## ...",
          "Type: employees<br>Text: # HR Record\n\n# Priya Sharma\n\n## Summary\n- **Date of Birth:** January 8, 1986\n- **Job Title:** Senior...",
          "Type: employees<br>Text: - **August 2012 - May 2015:** Research Scientist at UC Berkeley AI Lab\n  - Conducted research in mac...",
          "Type: employees<br>Text: - **2019:** Rating: 4.6/5\n  *Excellent contributions to fraud detection systems. Recognized for thou...",
          "Type: employees<br>Text: ## Other HR Notes\n- **Education:** PhD in Computer Science (Machine Learning) from Stanford Universi...",
          "Type: employees<br>Text: # HR Record\n\n# Alex Chen\n\n## Summary\n- **Date of Birth:** March 15, 1990\n- **Job Title:** Backend So...",
          "Type: employees<br>Text: ## Annual Performance History\n- **2020:**  \n  - Completed onboarding successfully.  \n  - Met expecta...",
          "Type: employees<br>Text: ## Compensation History\n- **2020:** Base Salary: $80,000  \n- **2021:** Base Salary Increase to $90,0...",
          "Type: employees<br>Text: Alex Chen continues to be a vital asset at Insurellm, contributing significantly to innovative backe...",
          "Type: employees<br>Text: # HR Record\n\n# Robert Chen\n\n## Summary\n- **Date of Birth:** February 28, 1983\n- **Job Title:** Senio...",
          "Type: employees<br>Text: - **August 2008 - May 2012:** Software Engineer at TechStartup\n  - Developed features for SaaS platf...",
          "Type: employees<br>Text: - **2019:** Rating: 4.5/5\n  *Excellent year with successful Homellm rewrite. Strong architectural co...",
          "Type: employees<br>Text: ## Other HR Notes\n- **Education:** MS in Computer Science from Stanford University, BS in Computer E...",
          "Type: employees<br>Text: # HR Record\n\n# Oliver Spencer\n\n## Summary\n- **Date of Birth**: May 14, 1990\n- **Job Title**: Backend...",
          "Type: employees<br>Text: ## Annual Performance History\n- **2018**: **3/5** - Adaptable team player but still learning to take...",
          "Type: employees<br>Text: ## Compensation History\n- **March 2018**: Initial salary of $80,000.\n- **July 2019**: Salary increas...",
          "Type: employees<br>Text: # HR Record\n\n# Amanda Foster\n\n## Summary\n- **Date of Birth:** August 14, 1982\n- **Job Title:** HR Bu...",
          "Type: employees<br>Text: - **June 2009 - February 2013:** HR Coordinator at Enterprise Corp.\n  - Supported recruiting and onb...",
          "Type: employees<br>Text: - **2019:** Rating: 4.2/5\n  *Strong year. Improved hiring velocity for engineering roles by 35%. Bui...",
          "Type: employees<br>Text: ## Other HR Notes\n- **Education:** MS in Human Resources Management from Cornell University, BA in P...",
          "Type: employees<br>Text: # HR Record\n\n# Emily Tran\n\n## Summary\n- **Date of Birth:** March 18, 1991\n- **Job Title:** Digital M...",
          "Type: employees<br>Text: - **January 2017 - May 2018**: Marketing Intern  \n  - Supported the Marketing team by collaborating ...",
          "Type: employees<br>Text: - **2021**:  \n  - Performance Rating: Meets Expectations  \n  - Key Achievements: Contributed to the ...",
          "Type: employees<br>Text: - **Professional Development Goals**:  \n  - Emily Tran aims to become a Marketing Manager within the...",
          "Type: employees<br>Text: # HR Record\n\n# Jordan Blake\n\n## Summary\n- **Date of Birth:** March 15, 1993\n- **Job Title:** Sales D...",
          "Type: employees<br>Text: ## Annual Performance History\n- **2021:** First year at Insurellm; achieved 90% of monthly targets. ...",
          "Type: employees<br>Text: ## Other HR Notes\n- Jordan has shown an interest in continuing education, actively participating in ...",
          "Type: employees<br>Text: # HR Record\n\n# Kevin Zhang\n\n## Summary\n- **Date of Birth:** March 27, 1990\n- **Job Title:** Mobile D...",
          "Type: employees<br>Text: - **July 2015 - January 2018:** Junior Mobile Developer at StartupTech\n  - Built mobile features for...",
          "Type: employees<br>Text: ## Other HR Notes\n- **Education:** BS in Computer Science from UC Berkeley\n- **Skills:** Expert in S...",
          "Type: employees<br>Text: # HR Record\n\n# Maya Thompson\n\n## Summary\n- **Date of Birth:** June 14, 1993\n- **Job Title:** Data En...",
          "Type: employees<br>Text: ## Annual Performance History\n- **2023:** Rating: 4.3/5\n  *Strong performance. Delivered critical da...",
          "Type: employees<br>Text: ## Compensation History\n- **2023:** Base Salary: $110,000 + Bonus: $12,000\n- **2022:** Base Salary: ...",
          "Type: employees<br>Text: # HR Record\n\n# Jennifer Adams\n\n## Summary\n- **Date of Birth:** July 7, 1997\n- **Job Title:** Sales D...",
          "Type: employees<br>Text: - **August 2019 - May 2022:** Customer Service Representative at RetailCo\n  - Handled customer inqui...",
          "Type: employees<br>Text: ## Compensation History\n- **2023:** Base Salary: $58,000 + Commission: $4,200\n- **2022:** Intern Sti...",
          "Type: employees<br>Text: # HR Record\n\n# Jessica Liu\n\n## Summary\n- **Date of Birth:** April 30, 1996\n- **Job Title:** Frontend...",
          "Type: employees<br>Text: - **June 2018 - December 2019:** Web Developer Intern at StartupLabs\n  - Created landing pages and m...",
          "Type: employees<br>Text: ## Other HR Notes\n- **Education:** BS in Computer Science from University of Manchester\n- **Skills:*...",
          "Type: employees<br>Text: # Avery Lancaster\n\n## Summary\n- **Date of Birth**: March 15, 1985\n- **Job Title**: Co-Founder & Chie...",
          "Type: employees<br>Text: - **2010 - 2013**: Business Analyst at Edge Analytics  \n  Prior to joining Innovate, Avery worked as...",
          "Type: employees<br>Text: - **2018**: **Exceeds Expectations**  \n  Under Avery’s pivoted vision, Insurellm launched two new su...",
          "Type: employees<br>Text: - **2022**: **Satisfactory**  \n  Avery focused on rebuilding team dynamics and addressing employee c...",
          "Type: employees<br>Text: ## Compensation History\n- **2015**: $150,000 base salary + Significant equity stake  \n- **2016**: $1...",
          "Type: employees<br>Text: ## Other HR Notes\n- **Professional Development**: Avery has actively participated in leadership trai...",
          "Type: employees<br>Text: # HR Record\n\n# Maxine Thompson\n\n## Summary\n- **Date of Birth:** January 15, 1991\n- **Job Title:** Da...",
          "Type: employees<br>Text: ## Insurellm Career Progression\n- **January 2017 - October 2018**: **Junior Data Engineer**  \n  * Ma...",
          "Type: employees<br>Text: - **January 2021 - Present**: **Senior Data Engineer**  \n  * Maxine was promoted to Senior Data Engi...",
          "Type: employees<br>Text: ## Annual Performance History\n- **2017**: *Meets Expectations*  \n  Maxine showed potential in her ro...",
          "Type: employees<br>Text: - **2021**: *Exceeds Expectations*  \n  Maxine spearheaded the transition to a new data warehousing s...",
          "Type: employees<br>Text: ## Compensation History\n- **2017**: $70,000 (Junior Data Engineer)  \n- **2018**: $75,000 (Junior Dat...",
          "Type: employees<br>Text: # HR Record\n\n# Daniel Park\n\n## Summary\n- **Date of Birth:** October 3, 1991\n- **Job Title:** QA Engi...",
          "Type: employees<br>Text: ## Annual Performance History\n- **2023:** Rating: 4.2/5\n  *Strong performance. Expanded test automat...",
          "Type: employees<br>Text: ## Other HR Notes\n- **Education:** BS in Computer Science from Texas State University\n- **Certificat...",
          "Type: employees<br>Text: # Samantha Greene\n\n## Summary\n- **Date of Birth:** October 14, 1990\n- **Job Title:** HR Generalist\n-...",
          "Type: employees<br>Text: ## Annual Performance History\n- **2020:** Exceeds Expectations  \n  Samantha Greene demonstrated exce...",
          "Type: employees<br>Text: ## Compensation History\n- **2020:** Base Salary - $55,000  \n  The entry-level salary matched industr...",
          "Type: employees<br>Text: - **2023:** Base Salary - $70,000  \n  Recognized for substantial improvement in employee relations m...",
          "Type: employees<br>Text: # HR Record\n\n# Marcus Johnson\n\n## Summary\n- **Date of Birth:** February 17, 1988\n- **Job Title:** Cu...",
          "Type: employees<br>Text: - **January 2016 - August 2018:** Account Manager at SaaS Solutions Inc.\n  - Managed B2B client rela...",
          "Type: employees<br>Text: - **2020:** Rating: 4.0/5\n  *Good transition to CSM role. Quickly built rapport with enterprise clie...",
          "Type: employees<br>Text: # HR Record\n\n# Alex Thomson\n\n## Summary\n- **Date of Birth:** March 15, 1995\n- **Job Title:** Sales D...",
          "Type: employees<br>Text: ## Annual Performance History  \n- **2022** - Rated as \"Exceeds Expectations.\" Alex Thomson achieved ...",
          "Type: employees<br>Text: ## Other HR Notes\n- Alex Thomson is an active member of the Diversity and Inclusion committee at Ins...",
          "Type: employees<br>Text: # HR Record\n\n# Michael O'Brien\n\n## Summary\n- **Date of Birth:** May 20, 1984\n- **Job Title:** Accoun...",
          "Type: employees<br>Text: - **August 2010 - May 2014:** Sales Representative at Business Solutions Inc.\n  - B2B software sales...",
          "Type: employees<br>Text: - **2019:** Rating: 4.2/5\n  *Strong performance at 125% quota attainment. Expanded territory success...",
          "Type: employees<br>Text: ## Other HR Notes\n- **Education:** BA in Business from University of Illinois\n- **Awards:** Sales Ex...",
          "Type: employees<br>Text: # HR Record\n\n# Rachel Martinez\n\n## Summary\n- **Date of Birth:** June 8, 1987\n- **Job Title:** Produc...",
          "Type: employees<br>Text: ## Annual Performance History\n- **2023:** Rating: 4.6/5\n  *Exceptional year with successful launch o...",
          "Type: employees<br>Text: - **2019:** Rating: 4.0/5\n  *Strong start as Product Manager. Successfully transitioned from APM rol...",
          "Type: employees<br>Text: ## Other HR Notes\n- **Professional Development:** Completed Product Leadership Certification from Pr...",
          "Type: employees<br>Text: # HR Record\n\n# Sarah Williams\n\n## Summary\n- **Date of Birth:** November 3, 1994\n- **Job Title:** UX ...",
          "Type: employees<br>Text: - **August 2018 - May 2020:** UI/UX Designer at StartupHub Inc.\n  - Designed mobile and web interfac...",
          "Type: employees<br>Text: ## Other HR Notes\n- **Education:** BFA in Graphic Design from Rhode Island School of Design\n- **Skil...",
          "Type: employees<br>Text: # HR Record\n\n# Michelle Rivera\n\n## Summary\n- **Date of Birth:** December 16, 1988\n- **Job Title:** P...",
          "Type: employees<br>Text: - **May 2013 - July 2016:** UX Designer at CreativeAgency\n  - Created user interfaces for consumer a...",
          "Type: employees<br>Text: - **2019:** Rating: 4.0/5\n  *Solid first year at Insurellm. Quick to learn complex insurance domain ...",
          "Type: employees<br>Text: ## Other HR Notes\n- **Education:** MFA in Interaction Design from School of Visual Arts, BFA in Grap...",
          "Type: employees<br>Text: # HR Record\n\n# Samuel Trenton\n\n## Summary\n- **Date of Birth:** April 12, 1989\n- **Job Title:** Senio...",
          "Type: employees<br>Text: - **August 2016 - May 2018:** Junior Data Analyst  \n  *Started at Insurellm as a Junior Data Analyst...",
          "Type: employees<br>Text: - **2021:** Rating: 4.0/5  \n  *There was notable improvement in performance. Worked to enhance model...",
          "Type: employees<br>Text: - **2020:** Base Salary: $100,000 + Bonus: $8,000  \n  *Initial compensation as Senior Data Scientist...",
          "Type: employees<br>Text: # HR Record\n\n# Lisa Anderson\n\n## Summary\n- **Date of Birth:** November 18, 1985\n- **Job Title:** Mar...",
          "Type: employees<br>Text: - **June 2012 - December 2015:** Marketing Coordinator at Enterprise Solutions\n  - Supported marketi...",
          "Type: employees<br>Text: - **2019:** Rating: 4.0/5\n  *Strong start as Marketing Manager. Quick to understand insurance tech m...",
          "Type: employees<br>Text: ## Other HR Notes\n- **Education:** MBA in Marketing from University of Texas at Austin, BA in Commun...",
          "Type: employees<br>Text: # HR Record\n\n# Alex Harper\n\n## Summary\n- **Date of Birth**: March 15, 1993\n- **Job Title**: Sales De...",
          "Type: employees<br>Text: ## Annual Performance History  \n- **2021**:  \n  - **Performance Rating**: 4.5/5  \n  - **Key Achievem...",
          "Type: employees<br>Text: - **2022**:  \n  - **Base Salary**: $65,000 (Promotion to Senior SDR)  \n  - **Bonus**: $13,000 (20% o...",
          "Type: employees<br>Text: # HR Record\n\n# Carlos Rodriguez\n\n## Summary\n- **Date of Birth:** October 12, 1989\n- **Job Title:** S...",
          "Type: employees<br>Text: - **January 2015 - February 2017:** Application Developer at FinTech Systems\n  - Developed financial...",
          "Type: employees<br>Text: - **2019:** Rating: 4.1/5\n  *Strong start as Solutions Engineer. Quick learner with excellent techni...",
          "Type: employees<br>Text: ## Other HR Notes\n- **Education:** MS in Computer Science from University of Florida\n- **Certificati...",
          "Type: employees<br>Text: # HR Record\n\n# James Wilson\n\n## Summary\n- **Date of Birth:** April 5, 1978\n- **Job Title:** Chief Te...",
          "Type: employees<br>Text: - **June 2008 - February 2012:** Senior Engineering Manager at CloudSoft Corp.\n  - Managed multiple ...",
          "Type: employees<br>Text: - **2021:** Rating: 4.6/5\n  *Excellent performance navigating remote transition. Built strong engine...",
          "Type: employees<br>Text: - **2017:** Rating: 4.3/5\n  *Strong start as CTO. Quickly assessed technical landscape and began str...",
          "Type: employees<br>Text: ## Other HR Notes\n- **Education:** MS in Computer Science from MIT, BS in Computer Engineering from ...",
          "Type: employees<br>Text: # HR Record\n\n# Jordan K. Bishop\n\n## Summary\n- **Date of Birth:** March 15, 1990\n- **Job Title:** Fro...",
          "Type: employees<br>Text: ## Annual Performance History\n- **2019:** Exceeds Expectations - Continuously delivered high-quality...",
          "Type: employees<br>Text: ## Compensation History\n- **June 2018:** Starting Salary - $85,000\n- **June 2019:** Salary Increase ...",
          "Type: employees<br>Text: ## Other HR Notes\n- Jordan K. Bishop has been an integral part of club initiatives, including the In...",
          "Type: employees<br>Text: # HR Record\n\n# Emily Carter\n\n## Summary\n- **Date of Birth:** August 12, 1990\n- **Job Title:** Accoun...",
          "Type: employees<br>Text: - **2017-2019:** Marketing Intern  \n  - Assisted with market research and campaign development for s...",
          "Type: employees<br>Text: ## Compensation History\n| Year | Base Salary | Bonus         | Total Compensation |\n|------|--------...",
          "Type: employees<br>Text: Emily Carter exemplifies the kind of talent that drives Insurellm's success and is an invaluable ass...",
          "Type: employees<br>Text: # HR Record\n\n# Tyler Brooks\n\n## Summary\n- **Date of Birth:** September 9, 1998\n- **Job Title:** Juni...",
          "Type: employees<br>Text: - **2022:** Rating: 3.5/5\n  *Adequate performance for a junior developer. Good learning attitude but...",
          "Type: employees<br>Text: ## Compensation History\n- **2023:** Base Salary: $75,000 + Bonus: $2,000\n- **2022:** Base Salary: $7...",
          "Type: employees<br>Text: # HR Record\n\n# Brandon Walker\n\n## Summary\n- **Date of Birth:** December 5, 1993\n- **Job Title:** Tec...",
          "Type: employees<br>Text: - **January 2018 - April 2019:** IT Help Desk Technician at Regional Bank\n  - Provided internal IT s...",
          "Type: employees<br>Text: ## Other HR Notes\n- **Education:** Associate Degree in Information Technology from Phoenix Community..."
         ],
         "type": "scatter",
         "x": {
          "bdata": "vIvhvxMPyr/qZfq/YeaLwG4CHEBhdK+/DWW8wa+nusEqgNHBMPwewUx9w8CtKKQ+lgExv+ToQcGmk2vBrahPweuuDsH3+rHAeemEPjagKsCCfuPAakbJwMxE/8CTcrvAVx5SQMq/BcB4BcfBiG7TwbMXEcG0XdPA2XeMQOple8AEeYXAvrGUwEQbx8COKinACj55wG3yA8FXjeHAym7+wIaM28BHomtAOQlZwN1vgcCu767AuFPBwAIbdcCPip/AucuewUHpC8F59a/A6+uzP9YGDcFEoRjBxDoOwWDDCcFjfxDBL6hhwazNksF4sKTB81TEwWP7vcFvC9jBJvTPwRm8asHuWCnBueLVwLeeb8HRoBHBi++vwYCsjcE443jBBSWXQAluyEC0XD/Bsq1MwRPRo8GgyJTBe/KTwaJTesAwXsE/w9rpQHADmcDWu4/B4GYTweLrVMCp4pY/WFQ9wSblrcGBHCzBoZ2HwPXzWMGzhmTB7NO6wd9Uq8F+Tt7An4/mPytfxD4k4UTBAgRiwchof8GT6a7BsPKwwcOBqsFbEAzB+EdlwXyfrMGfNIRAXmNWwcbqZcHRW2TBhXx6warlb8GcXEvBSJPuwGMyUUCGhObA9UMCwXjHQsB8ccfAQwpKwQMqXcElZJ3BUenVwW950sFDntTBHxMawBBbcr8I0/I/0a23QC2ULMEoli7BFw4ywMvAwL9AoTTBt9Okwe9clMHYf2i/aK6BQA7QZ8Fjt13B8hSlwb91tsEr2avBfCwMwZ3mTsBGqUFALjxVwd/sm8FT67XBzyyzwMe4XEA3SXnB846qwbczWcGR9EfBIWOawF6Zlz9CI8TAOoqhwf/trsC1b2HAOqGFPl771MDftALBwKIQwUADhcH3bYPBR2t8wOcrQUDPByrBEW1uwY5FhMFMcJXBHpKiwThwUcFwMi7BezvWwFunDsFp/4hAIm6PQDf+L8Ek+izB6OpTwGeDEcFBhXTB/u2QwbsqkMFqKo/B8XGXwfBri8E+s63BUMOiwdAziMFcChjBrqvbwKsmdsEWohjBrA+qwb96j8GkQJjB8pWbQIKTkUCwrgrB2hmJwdzg0sGJdsjBB6Fjwc7vCMHCj7Q/XaCxQCJQesEuVKjBMjlWwTs1UMH+GaHAXAI7QCyzisCm4mrAF8MMwRBRK8ArbSzBltqGwWpPk8EZf0zB2RsDwTAKCED3qd5AA2hcwNxQQ8HN97vAuis3wAUFKsE8amnBzr52wc7UccHymq/BM1mYwa4ORsEj+9rABaOLQKBCc0C/qsDA+yxSwcmNU8ESp5HBW0m4wWIeisEWr5jBDCtLwbQmOMGIE83AUW0iwRLQksH8lcFAl52gQPI8tcAh8aDBwI4iwZvZVsAmUgfBInUgwQxYx7/OiYnApDi0P/wOFcECyJbBpbabwVsw1MHrPxXA9n+TQIQJXMGfjGXB8axRwQLtX8ETdcDA7YHqP2v8UkATgIk/s3/GPxEZuj+gddNAe9wEQe8BkUEZXJBBIH+OQUN2i0ED1jnA173CQK06/0AfGOdAK+wCQRD7QkDsyVVA1mGpP971FUIN1BhCQ7XBQRLMGkJ+ju1Bp00UQhjdGUIFw+RBELkZQhPsyUFZlw9Ca0bcQQWVEEJhJx9BipYOQlfz60HPchJCkv/CQQ69EEImqNhB1sENQpbWAEIfEv9BcgYWQntp0UH+JwVCkOftQR1nFEIaQO1BMJIOQqjcC0JsTuNBMywLQlmnCkLDvr5BkPIdQuwjD0LHUB9CU7sRQh6VDUJLmhtC+xQIQuBEDkIZ6L1BeEnFQYFezUFJKshBNK/GQXvNIUKTlcZBda4gQnX3s0G5ULRBPK7JQdMMwUF4lCJCJncWQlFmFkJSwLlBlCIGQmbb0UFkTwhC4u0FQteYEULXNPBBARsiQm6qDEIRlgVCbS/2QXptC0LM5PBBZloaQjk500F9twZCQFPcQVWQH0KBGNVBVIABQo9OBkLh6t5BrFADQt95/EGjehFC2uPeQWW3FkI5N+tBc9scQoSzG0JrfwVCFUn8QdViG0LDSNJBpA4PQlvDGELfjRJCOG4LQv/98kGYFBtCZ8rDQYrfE0LZPutBNCzmQYErH0Ji6slBxJgLQm9E1UHEciZC7gDlQeORB0LaqfxBkSYRQpQPEkGiSxBCk8oTQtPPHkJRCg9CCaoQQh1aykE=",
          "dtype": "f4"
         },
         "y": {
          "bdata": "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",
          "dtype": "f4"
         }
        }
       ],
       "layout": {
        "height": 600,
        "margin": {
         "b": 10,
         "l": 10,
         "r": 20,
         "t": 40
        },
        "scene": {
         "xaxis": {
          "title": {
           "text": "x"
          }
         },
         "yaxis": {
          "title": {
           "text": "y"
          }
         }
        },
        "template": {
         "data": {
          "bar": [
           {
            "error_x": {
             "color": "#2a3f5f"
            },
            "error_y": {
             "color": "#2a3f5f"
            },
            "marker": {
             "line": {
              "color": "#E5ECF6",
              "width": 0.5
             },
             "pattern": {
              "fillmode": "overlay",
              "size": 10,
              "solidity": 0.2
             }
            },
            "type": "bar"
           }
          ],
          "barpolar": [
           {
            "marker": {
             "line": {
              "color": "#E5ECF6",
              "width": 0.5
             },
             "pattern": {
              "fillmode": "overlay",
              "size": 10,
              "solidity": 0.2
             }
            },
            "type": "barpolar"
           }
          ],
          "carpet": [
           {
            "aaxis": {
             "endlinecolor": "#2a3f5f",
             "gridcolor": "white",
             "linecolor": "white",
             "minorgridcolor": "white",
             "startlinecolor": "#2a3f5f"
            },
            "baxis": {
             "endlinecolor": "#2a3f5f",
             "gridcolor": "white",
             "linecolor": "white",
             "minorgridcolor": "white",
             "startlinecolor": "#2a3f5f"
            },
            "type": "carpet"
           }
          ],
          "choropleth": [
           {
            "colorbar": {
             "outlinewidth": 0,
             "ticks": ""
            },
            "type": "choropleth"
           }
          ],
          "contour": [
           {
            "colorbar": {
             "outlinewidth": 0,
             "ticks": ""
            },
            "colorscale": [
             [
              0,
              "#0d0887"
             ],
             [
              0.1111111111111111,
              "#46039f"
             ],
             [
              0.2222222222222222,
              "#7201a8"
             ],
             [
              0.3333333333333333,
              "#9c179e"
             ],
             [
              0.4444444444444444,
              "#bd3786"
             ],
             [
              0.5555555555555556,
              "#d8576b"
             ],
             [
              0.6666666666666666,
              "#ed7953"
             ],
             [
              0.7777777777777778,
              "#fb9f3a"
             ],
             [
              0.8888888888888888,
              "#fdca26"
             ],
             [
              1,
              "#f0f921"
             ]
            ],
            "type": "contour"
           }
          ],
          "contourcarpet": [
           {
            "colorbar": {
             "outlinewidth": 0,
             "ticks": ""
            },
            "type": "contourcarpet"
           }
          ],
          "heatmap": [
           {
            "colorbar": {
             "outlinewidth": 0,
             "ticks": ""
            },
            "colorscale": [
             [
              0,
              "#0d0887"
             ],
             [
              0.1111111111111111,
              "#46039f"
             ],
             [
              0.2222222222222222,
              "#7201a8"
             ],
             [
              0.3333333333333333,
              "#9c179e"
             ],
             [
              0.4444444444444444,
              "#bd3786"
             ],
             [
              0.5555555555555556,
              "#d8576b"
             ],
             [
              0.6666666666666666,
              "#ed7953"
             ],
             [
              0.7777777777777778,
              "#fb9f3a"
             ],
             [
              0.8888888888888888,
              "#fdca26"
             ],
             [
              1,
              "#f0f921"
             ]
            ],
            "type": "heatmap"
           }
          ],
          "histogram": [
           {
            "marker": {
             "pattern": {
              "fillmode": "overlay",
              "size": 10,
              "solidity": 0.2
             }
            },
            "type": "histogram"
           }
          ],
          "histogram2d": [
           {
            "colorbar": {
             "outlinewidth": 0,
             "ticks": ""
            },
            "colorscale": [
             [
              0,
              "#0d0887"
             ],
             [
              0.1111111111111111,
              "#46039f"
             ],
             [
              0.2222222222222222,
              "#7201a8"
             ],
             [
              0.3333333333333333,
              "#9c179e"
             ],
             [
              0.4444444444444444,
              "#bd3786"
             ],
             [
              0.5555555555555556,
              "#d8576b"
             ],
             [
              0.6666666666666666,
              "#ed7953"
             ],
             [
              0.7777777777777778,
              "#fb9f3a"
             ],
             [
              0.8888888888888888,
              "#fdca26"
             ],
             [
              1,
              "#f0f921"
             ]
            ],
            "type": "histogram2d"
           }
          ],
          "histogram2dcontour": [
           {
            "colorbar": {
             "outlinewidth": 0,
             "ticks": ""
            },
            "colorscale": [
             [
              0,
              "#0d0887"
             ],
             [
              0.1111111111111111,
              "#46039f"
             ],
             [
              0.2222222222222222,
              "#7201a8"
             ],
             [
              0.3333333333333333,
              "#9c179e"
             ],
             [
              0.4444444444444444,
              "#bd3786"
             ],
             [
              0.5555555555555556,
              "#d8576b"
             ],
             [
              0.6666666666666666,
              "#ed7953"
             ],
             [
              0.7777777777777778,
              "#fb9f3a"
             ],
             [
              0.8888888888888888,
              "#fdca26"
             ],
             [
              1,
              "#f0f921"
             ]
            ],
            "type": "histogram2dcontour"
           }
          ],
          "mesh3d": [
           {
            "colorbar": {
             "outlinewidth": 0,
             "ticks": ""
            },
            "type": "mesh3d"
           }
          ],
          "parcoords": [
           {
            "line": {
             "colorbar": {
              "outlinewidth": 0,
              "ticks": ""
             }
            },
            "type": "parcoords"
           }
          ],
          "pie": [
           {
            "automargin": true,
            "type": "pie"
           }
          ],
          "scatter": [
           {
            "fillpattern": {
             "fillmode": "overlay",
             "size": 10,
             "solidity": 0.2
            },
            "type": "scatter"
           }
          ],
          "scatter3d": [
           {
            "line": {
             "colorbar": {
              "outlinewidth": 0,
              "ticks": ""
             }
            },
            "marker": {
             "colorbar": {
              "outlinewidth": 0,
              "ticks": ""
             }
            },
            "type": "scatter3d"
           }
          ],
          "scattercarpet": [
           {
            "marker": {
             "colorbar": {
              "outlinewidth": 0,
              "ticks": ""
             }
            },
            "type": "scattercarpet"
           }
          ],
          "scattergeo": [
           {
            "marker": {
             "colorbar": {
              "outlinewidth": 0,
              "ticks": ""
             }
            },
            "type": "scattergeo"
           }
          ],
          "scattergl": [
           {
            "marker": {
             "colorbar": {
              "outlinewidth": 0,
              "ticks": ""
             }
            },
            "type": "scattergl"
           }
          ],
          "scattermap": [
           {
            "marker": {
             "colorbar": {
              "outlinewidth": 0,
              "ticks": ""
             }
            },
            "type": "scattermap"
           }
          ],
          "scattermapbox": [
           {
            "marker": {
             "colorbar": {
              "outlinewidth": 0,
              "ticks": ""
             }
            },
            "type": "scattermapbox"
           }
          ],
          "scatterpolar": [
           {
            "marker": {
             "colorbar": {
              "outlinewidth": 0,
              "ticks": ""
             }
            },
            "type": "scatterpolar"
           }
          ],
          "scatterpolargl": [
           {
            "marker": {
             "colorbar": {
              "outlinewidth": 0,
              "ticks": ""
             }
            },
            "type": "scatterpolargl"
           }
          ],
          "scatterternary": [
           {
            "marker": {
             "colorbar": {
              "outlinewidth": 0,
              "ticks": ""
             }
            },
            "type": "scatterternary"
           }
          ],
          "surface": [
           {
            "colorbar": {
             "outlinewidth": 0,
             "ticks": ""
            },
            "colorscale": [
             [
              0,
              "#0d0887"
             ],
             [
              0.1111111111111111,
              "#46039f"
             ],
             [
              0.2222222222222222,
              "#7201a8"
             ],
             [
              0.3333333333333333,
              "#9c179e"
             ],
             [
              0.4444444444444444,
              "#bd3786"
             ],
             [
              0.5555555555555556,
              "#d8576b"
             ],
             [
              0.6666666666666666,
              "#ed7953"
             ],
             [
              0.7777777777777778,
              "#fb9f3a"
             ],
             [
              0.8888888888888888,
              "#fdca26"
             ],
             [
              1,
              "#f0f921"
             ]
            ],
            "type": "surface"
           }
          ],
          "table": [
           {
            "cells": {
             "fill": {
              "color": "#EBF0F8"
             },
             "line": {
              "color": "white"
             }
            },
            "header": {
             "fill": {
              "color": "#C8D4E3"
             },
             "line": {
              "color": "white"
             }
            },
            "type": "table"
           }
          ]
         },
         "layout": {
          "annotationdefaults": {
           "arrowcolor": "#2a3f5f",
           "arrowhead": 0,
           "arrowwidth": 1
          },
          "autotypenumbers": "strict",
          "coloraxis": {
           "colorbar": {
            "outlinewidth": 0,
            "ticks": ""
           }
          },
          "colorscale": {
           "diverging": [
            [
             0,
             "#8e0152"
            ],
            [
             0.1,
             "#c51b7d"
            ],
            [
             0.2,
             "#de77ae"
            ],
            [
             0.3,
             "#f1b6da"
            ],
            [
             0.4,
             "#fde0ef"
            ],
            [
             0.5,
             "#f7f7f7"
            ],
            [
             0.6,
             "#e6f5d0"
            ],
            [
             0.7,
             "#b8e186"
            ],
            [
             0.8,
             "#7fbc41"
            ],
            [
             0.9,
             "#4d9221"
            ],
            [
             1,
             "#276419"
            ]
           ],
           "sequential": [
            [
             0,
             "#0d0887"
            ],
            [
             0.1111111111111111,
             "#46039f"
            ],
            [
             0.2222222222222222,
             "#7201a8"
            ],
            [
             0.3333333333333333,
             "#9c179e"
            ],
            [
             0.4444444444444444,
             "#bd3786"
            ],
            [
             0.5555555555555556,
             "#d8576b"
            ],
            [
             0.6666666666666666,
             "#ed7953"
            ],
            [
             0.7777777777777778,
             "#fb9f3a"
            ],
            [
             0.8888888888888888,
             "#fdca26"
            ],
            [
             1,
             "#f0f921"
            ]
           ],
           "sequentialminus": [
            [
             0,
             "#0d0887"
            ],
            [
             0.1111111111111111,
             "#46039f"
            ],
            [
             0.2222222222222222,
             "#7201a8"
            ],
            [
             0.3333333333333333,
             "#9c179e"
            ],
            [
             0.4444444444444444,
             "#bd3786"
            ],
            [
             0.5555555555555556,
             "#d8576b"
            ],
            [
             0.6666666666666666,
             "#ed7953"
            ],
            [
             0.7777777777777778,
             "#fb9f3a"
            ],
            [
             0.8888888888888888,
             "#fdca26"
            ],
            [
             1,
             "#f0f921"
            ]
           ]
          },
          "colorway": [
           "#636efa",
           "#EF553B",
           "#00cc96",
           "#ab63fa",
           "#FFA15A",
           "#19d3f3",
           "#FF6692",
           "#B6E880",
           "#FF97FF",
           "#FECB52"
          ],
          "font": {
           "color": "#2a3f5f"
          },
          "geo": {
           "bgcolor": "white",
           "lakecolor": "white",
           "landcolor": "#E5ECF6",
           "showlakes": true,
           "showland": true,
           "subunitcolor": "white"
          },
          "hoverlabel": {
           "align": "left"
          },
          "hovermode": "closest",
          "mapbox": {
           "style": "light"
          },
          "paper_bgcolor": "white",
          "plot_bgcolor": "#E5ECF6",
          "polar": {
           "angularaxis": {
            "gridcolor": "white",
            "linecolor": "white",
            "ticks": ""
           },
           "bgcolor": "#E5ECF6",
           "radialaxis": {
            "gridcolor": "white",
            "linecolor": "white",
            "ticks": ""
           }
          },
          "scene": {
           "xaxis": {
            "backgroundcolor": "#E5ECF6",
            "gridcolor": "white",
            "gridwidth": 2,
            "linecolor": "white",
            "showbackground": true,
            "ticks": "",
            "zerolinecolor": "white"
           },
           "yaxis": {
            "backgroundcolor": "#E5ECF6",
            "gridcolor": "white",
            "gridwidth": 2,
            "linecolor": "white",
            "showbackground": true,
            "ticks": "",
            "zerolinecolor": "white"
           },
           "zaxis": {
            "backgroundcolor": "#E5ECF6",
            "gridcolor": "white",
            "gridwidth": 2,
            "linecolor": "white",
            "showbackground": true,
            "ticks": "",
            "zerolinecolor": "white"
           }
          },
          "shapedefaults": {
           "line": {
            "color": "#2a3f5f"
           }
          },
          "ternary": {
           "aaxis": {
            "gridcolor": "white",
            "linecolor": "white",
            "ticks": ""
           },
           "baxis": {
            "gridcolor": "white",
            "linecolor": "white",
            "ticks": ""
           },
           "bgcolor": "#E5ECF6",
           "caxis": {
            "gridcolor": "white",
            "linecolor": "white",
            "ticks": ""
           }
          },
          "title": {
           "x": 0.05
          },
          "xaxis": {
           "automargin": true,
           "gridcolor": "white",
           "linecolor": "white",
           "ticks": "",
           "title": {
            "standoff": 15
           },
           "zerolinecolor": "white",
           "zerolinewidth": 2
          },
          "yaxis": {
           "automargin": true,
           "gridcolor": "white",
           "linecolor": "white",
           "ticks": "",
           "title": {
            "standoff": 15
           },
           "zerolinecolor": "white",
           "zerolinewidth": 2
          }
         }
        },
        "title": {
         "text": "2D Chroma Vector Store Visualization"
        },
        "width": 800
       }
      }
     },
     "metadata": {},
     "output_type": "display_data"
    }
   ],
   "source": [
    "# We humans find it easier to visalize things in 2D!\n",
    "# Reduce the dimensionality of the vectors to 2D using t-SNE\n",
    "# (t-distributed stochastic neighbor embedding)\n",
    "\n",
    "tsne = TSNE(n_components=2, random_state=42)\n",
    "reduced_vectors = tsne.fit_transform(vectors)\n",
    "\n",
    "# Create the 2D scatter plot\n",
    "fig = go.Figure(data=[go.Scatter(\n",
    "    x=reduced_vectors[:, 0],\n",
    "    y=reduced_vectors[:, 1],\n",
    "    mode='markers',\n",
    "    marker=dict(size=5, color=colors, opacity=0.8),\n",
    "    text=[f\"Type: {t}<br>Text: {d[:100]}...\" for t, d in zip(doc_types, documents)],\n",
    "    hoverinfo='text'\n",
    ")])\n",
    "\n",
    "fig.update_layout(\n",
    "    title='2D Chroma Vector Store Visualization',\n",
    "    scene=dict(xaxis_title='x',yaxis_title='y'),\n",
    "    width=800,\n",
    "    height=600,\n",
    "    margin=dict(r=20, b=10, l=10, t=40)\n",
    ")\n",
    "\n",
    "fig.show()"
   ]
  },
  {
   "cell_type": "code",
   "execution_count": 12,
   "metadata": {},
   "outputs": [
    {
     "data": {
      "application/vnd.plotly.v1+json": {
       "config": {
        "plotlyServerURL": "https://plot.ly"
       },
       "data": [
        {
         "hoverinfo": "text",
         "marker": {
          "color": [
           "blue",
           "blue",
           "blue",
           "blue",
           "blue",
           "blue",
           "blue",
           "blue",
           "blue",
           "blue",
           "blue",
           "blue",
           "blue",
           "blue",
           "blue",
           "blue",
           "blue",
           "blue",
           "blue",
           "blue",
           "blue",
           "blue",
           "blue",
           "blue",
           "blue",
           "blue",
           "blue",
           "blue",
           "blue",
           "blue",
           "blue",
           "blue",
           "blue",
           "blue",
           "blue",
           "blue",
           "blue",
           "blue",
           "blue",
           "blue",
           "blue",
           "blue",
           "blue",
           "blue",
           "blue",
           "blue",
           "blue",
           "red",
           "red",
           "red",
           "red",
           "red",
           "red",
           "red",
           "red",
           "red",
           "red",
           "red",
           "red",
           "red",
           "red",
           "red",
           "red",
           "red",
           "red",
           "red",
           "red",
           "red",
           "red",
           "red",
           "red",
           "red",
           "red",
           "red",
           "red",
           "red",
           "red",
           "red",
           "red",
           "red",
           "red",
           "red",
           "red",
           "red",
           "red",
           "red",
           "red",
           "red",
           "red",
           "red",
           "red",
           "red",
           "red",
           "red",
           "red",
           "red",
           "red",
           "red",
           "red",
           "red",
           "red",
           "red",
           "red",
           "red",
           "red",
           "red",
           "red",
           "red",
           "red",
           "red",
           "red",
           "red",
           "red",
           "red",
           "red",
           "red",
           "red",
           "red",
           "red",
           "red",
           "red",
           "red",
           "red",
           "red",
           "red",
           "red",
           "red",
           "red",
           "red",
           "red",
           "red",
           "red",
           "red",
           "red",
           "red",
           "red",
           "red",
           "red",
           "red",
           "red",
           "red",
           "red",
           "red",
           "red",
           "red",
           "red",
           "red",
           "red",
           "red",
           "red",
           "red",
           "red",
           "red",
           "red",
           "red",
           "red",
           "red",
           "red",
           "red",
           "red",
           "red",
           "red",
           "red",
           "red",
           "red",
           "red",
           "red",
           "red",
           "red",
           "red",
           "red",
           "red",
           "red",
           "red",
           "red",
           "red",
           "red",
           "red",
           "red",
           "red",
           "red",
           "red",
           "red",
           "red",
           "red",
           "red",
           "red",
           "red",
           "red",
           "red",
           "red",
           "red",
           "red",
           "red",
           "red",
           "red",
           "red",
           "red",
           "red",
           "red",
           "red",
           "red",
           "red",
           "red",
           "red",
           "red",
           "red",
           "red",
           "red",
           "red",
           "red",
           "red",
           "red",
           "red",
           "red",
           "red",
           "red",
           "red",
           "red",
           "red",
           "red",
           "red",
           "red",
           "red",
           "red",
           "red",
           "red",
           "red",
           "red",
           "red",
           "red",
           "red",
           "red",
           "red",
           "red",
           "red",
           "red",
           "red",
           "red",
           "red",
           "red",
           "red",
           "red",
           "red",
           "red",
           "red",
           "red",
           "red",
           "red",
           "red",
           "red",
           "red",
           "red",
           "red",
           "red",
           "red",
           "red",
           "red",
           "red",
           "red",
           "red",
           "red",
           "red",
           "red",
           "red",
           "red",
           "red",
           "red",
           "red",
           "red",
           "red",
           "red",
           "red",
           "red",
           "red",
           "red",
           "red",
           "orange",
           "orange",
           "orange",
           "orange",
           "orange",
           "orange",
           "orange",
           "orange",
           "orange",
           "orange",
           "orange",
           "orange",
           "orange",
           "orange",
           "orange",
           "orange",
           "orange",
           "orange",
           "green",
           "green",
           "green",
           "green",
           "green",
           "green",
           "green",
           "green",
           "green",
           "green",
           "green",
           "green",
           "green",
           "green",
           "green",
           "green",
           "green",
           "green",
           "green",
           "green",
           "green",
           "green",
           "green",
           "green",
           "green",
           "green",
           "green",
           "green",
           "green",
           "green",
           "green",
           "green",
           "green",
           "green",
           "green",
           "green",
           "green",
           "green",
           "green",
           "green",
           "green",
           "green",
           "green",
           "green",
           "green",
           "green",
           "green",
           "green",
           "green",
           "green",
           "green",
           "green",
           "green",
           "green",
           "green",
           "green",
           "green",
           "green",
           "green",
           "green",
           "green",
           "green",
           "green",
           "green",
           "green",
           "green",
           "green",
           "green",
           "green",
           "green",
           "green",
           "green",
           "green",
           "green",
           "green",
           "green",
           "green",
           "green",
           "green",
           "green",
           "green",
           "green",
           "green",
           "green",
           "green",
           "green",
           "green",
           "green",
           "green",
           "green",
           "green",
           "green",
           "green",
           "green",
           "green",
           "green",
           "green",
           "green",
           "green",
           "green",
           "green",
           "green",
           "green",
           "green",
           "green",
           "green",
           "green",
           "green",
           "green",
           "green",
           "green",
           "green",
           "green",
           "green",
           "green",
           "green",
           "green",
           "green"
          ],
          "opacity": 0.8,
          "size": 5
         },
         "mode": "markers",
         "text": [
          "Type: products<br>Text: # Product Summary\n\n# Rellm: AI-Powered Enterprise Reinsurance Solution\n\n## Summary\n\nRellm is an inno...",
          "Type: products<br>Text: ### Seamless Integrations\nRellm's architecture is designed for effortless integration with existing ...",
          "Type: products<br>Text: ### Regulatory Compliance Tools\nRellm includes built-in compliance tracking features to help organiz...",
          "Type: products<br>Text: Join the growing number of organizations leveraging Rellm to enhance their reinsurance processes whi...",
          "Type: products<br>Text: Experience the future of reinsurance with Rellm, where innovation meets reliability. Let Insurellm h...",
          "Type: products<br>Text: # Product Summary\n\n# Claimllm\n\n## Summary\n\nClaimllm is Insurellm's revolutionary claims processing p...",
          "Type: products<br>Text: ## Features\n\n### 1. Intelligent FNOL Processing\nClaimllm's AI-powered first notice of loss intake ca...",
          "Type: products<br>Text: ### 4. Predictive Fraud Detection\nSophisticated fraud analytics evaluate claims against historical p...",
          "Type: products<br>Text: ### 7. Vendor Management Platform\nIntegrated tools coordinate with repair shops, medical providers, ...",
          "Type: products<br>Text: ### 10. Analytics and Reporting\nComprehensive dashboards track key metrics including cycle time, los...",
          "Type: products<br>Text: All tiers include comprehensive implementation, claims staff training, and continuous platform enhan...",
          "Type: products<br>Text: Claimllm represents the future of insurance claims—faster, smarter, and more customer-centric. Trans...",
          "Type: products<br>Text: # Product Summary\n\n# Bizllm\n\n## Summary\n\nBizllm is Insurellm's enterprise-grade commercial insurance...",
          "Type: products<br>Text: ## Features\n\n### 1. Multi-Line Underwriting Engine\nBizllm's sophisticated underwriting platform hand...",
          "Type: products<br>Text: ### 4. Workers' Compensation Optimization\nIntegrated workers' comp tools analyze payroll data, indus...",
          "Type: products<br>Text: ### 7. Portfolio Management Dashboard\nComprehensive analytics provide insurers with portfolio-level ...",
          "Type: products<br>Text: ## Pricing\n\nBizllm's pricing structure reflects the complexity and value of commercial insurance ope...",
          "Type: products<br>Text: All tiers include implementation services, staff training, and continuous platform updates.\n\n## Road...",
          "Type: products<br>Text: Bizllm empowers commercial insurers to compete effectively in complex markets while delivering the d...",
          "Type: products<br>Text: # Product Summary\n\n# Lifellm\n\n## Summary\n\nLifellm is an advanced life insurance platform developed b...",
          "Type: products<br>Text: ### 2. Predictive Risk Modeling\nAdvanced machine learning algorithms assess mortality risk by analyz...",
          "Type: products<br>Text: ### 5. Smart Document Processing\nLifellm utilizes natural language processing and optical character ...",
          "Type: products<br>Text: ## Pricing\n\nLifellm's flexible pricing structure accommodates insurance providers of all sizes:\n\n- *...",
          "Type: products<br>Text: All tiers include comprehensive onboarding, training programs, and regular platform updates.\n\n## Roa...",
          "Type: products<br>Text: With Lifellm, Insurellm is transforming life insurance into a modern, customer-centric experience th...",
          "Type: products<br>Text: # Product Summary\n\n# Healthllm\n\n## Summary\n\nHealthllm is Insurellm's comprehensive health insurance ...",
          "Type: products<br>Text: ### 2. Real-Time Eligibility Verification\nIntegrated eligibility checking ensures instant verificati...",
          "Type: products<br>Text: ### 5. Provider Network Management\nComprehensive tools for managing provider relationships, contract...",
          "Type: products<br>Text: ### 8. Regulatory Compliance Engine\nBuilt-in compliance monitoring ensures adherence to ACA requirem...",
          "Type: products<br>Text: All plans include implementation support, staff training, and ongoing platform enhancements.\n\n## Roa...",
          "Type: products<br>Text: Healthllm represents Insurellm's commitment to transforming health insurance through technology that...",
          "Type: products<br>Text: # Product Summary\n\n# Markellm\n\n## Summary\n\nMarkellm is an innovative two-sided marketplace designed ...",
          "Type: products<br>Text: - **User-Friendly Interface**: Designed with user experience in mind, Markellm features an intuitive...",
          "Type: products<br>Text: - **Customer Support**: Our dedicated support team is always available to assist both consumers and ...",
          "Type: products<br>Text: ### For Insurance Companies:\n- **Basic Listing Fee**: $199/month for a featured listing on the platf...",
          "Type: products<br>Text: ### Q3 2025\n- Initiate a comprehensive marketing campaign targeting both consumers and insurers to i...",
          "Type: products<br>Text: # Product Summary\n\n# Homellm\n\n## Summary\nHomellm is an innovative home insurance product developed b...",
          "Type: products<br>Text: ### 2. Dynamic Pricing Model\nWith Homellm's innovative dynamic pricing model, insurance providers ca...",
          "Type: products<br>Text: ### 5. Multi-Channel Integration\nHomellm seamlessly integrates into existing insurance platforms, pr...",
          "Type: products<br>Text: - **Basic Tier:** Starting at $5,000/month for small insurers with basic integration features.\n- **S...",
          "Type: products<br>Text: All tiers include a comprehensive training program and ongoing updates to ensure optimal performance...",
          "Type: products<br>Text: With Homellm, Insurellm is committed to transforming the landscape of home insurance, ensuring both ...",
          "Type: products<br>Text: # Product Summary\n\n# Carllm\n\n## Summary\n\nCarllm is an innovative auto insurance product developed by...",
          "Type: products<br>Text: - **Instant Quoting**: With Carllm, insurance companies can offer near-instant quotes to customers, ...",
          "Type: products<br>Text: - **Mobile Integration**: Carllm is designed to work seamlessly with mobile applications, providing ...",
          "Type: products<br>Text: - **Professional Tier**: $2,500/month\n  - For medium-sized companies.\n  - All Basic Tier features pl...",
          "Type: products<br>Text: ### Q2 2025: Customer Experience Improvements\n- Launch of a new **mobile app** for end-users.\n- Intr...",
          "Type: contracts<br>Text: # Contract with GreenField Holdings for Markellm\n\n**Effective Date:** November 15, 2023  \n**Contract...",
          "Type: contracts<br>Text: ## Renewal\n1. **Automatic Renewal**: This contract will automatically renew for sequential one-year ...",
          "Type: contracts<br>Text: ## Features\n1. **AI-Powered Matching**: Access to advanced algorithms that connect GreenField Holdin...",
          "Type: contracts<br>Text: ## Support\n1. **Customer Support Access**: The Client will have access to dedicated support through ...",
          "Type: contracts<br>Text: **Signatures:**  \n_________________________                           _________________________  \n**...",
          "Type: contracts<br>Text: # Contract with EverGuard Insurance for Rellm: AI-Powered Enterprise Reinsurance Solution\n\n**Contrac...",
          "Type: contracts<br>Text: 4. **Usage Rights**: EverGuard Insurance is granted a non-exclusive, non-transferable license to acc...",
          "Type: contracts<br>Text: 2. **Customizable Dashboard**: Users at EverGuard Insurance will have access to a customizable dashb...",
          "Type: contracts<br>Text: 3. **Updates and Upgrades**: EverGuard Insurance will receive all platform updates and upgrades at n...",
          "Type: contracts<br>Text: # Contract with United Healthcare Alliance for Healthllm\n\n**Contract Date:** May 15, 2025\n**Contract...",
          "Type: contracts<br>Text: 4. **Service Level Agreement:** Insurellm guarantees 99.95% uptime measured monthly, with financial ...",
          "Type: contracts<br>Text: 7. **Business Continuity:** Guaranteed 2-hour recovery time objective (RTO) and 15-minute recovery p...",
          "Type: contracts<br>Text: 1. **Unlimited Member Administration:** No capacity restrictions, supporting United's 250,000+ membe...",
          "Type: contracts<br>Text: 4. **Advanced AI Claims Adjudication:** Enterprise-grade claims processing:\n   - Auto-adjudication r...",
          "Type: contracts<br>Text: 6. **Complete API Access:** Unlimited API calls supporting:\n   - Real-time integration with United's...",
          "Type: contracts<br>Text: 8. **Comprehensive Medication Management:**\n   - Multi-tier formulary management (national and state...",
          "Type: contracts<br>Text: 10. **Quality and Performance Management:**\n    - HEDIS measure calculation and reporting\n    - STAR...",
          "Type: contracts<br>Text: 12. **Regulatory Compliance and Reporting:**\n    - ACA compliance monitoring (MLR, essential health ...",
          "Type: contracts<br>Text: ---\n\n## Support\n\nInsurellm commits to comprehensive Enterprise-level support for United Healthcare A...",
          "Type: contracts<br>Text: 3. **Comprehensive Implementation:**\n   - 18-month phased implementation program with 4 major go-liv...",
          "Type: contracts<br>Text: 4. **Training and Enablement:**\n   - Comprehensive role-based training programs for all staff\n   - E...",
          "Type: contracts<br>Text: 5. **Custom Development:**\n   - 3,000 hours annually of custom development included\n   - Dedicated d...",
          "Type: contracts<br>Text: 6. **Integration Services:**\n   - Enterprise integration with United's complex system landscape:\n   ...",
          "Type: contracts<br>Text: 7. **Analytics and Reporting:**\n   - Custom dashboard development (unlimited)\n   - Real-time operati...",
          "Type: contracts<br>Text: 8. **Compliance and Regulatory Support:**\n   - Monthly compliance reviews with detailed documentatio...",
          "Type: contracts<br>Text: 9. **Continuous Improvement:**\n   - Bi-weekly process optimization workshops\n   - Quarterly efficien...",
          "Type: contracts<br>Text: _________________________________\n**James Patterson**\n**Title**: Chairman & Chief Executive Officer\n...",
          "Type: contracts<br>Text: # Contract with Guardian Life Partners for Lifellm\n\n---\n\n## Terms...",
          "Type: contracts<br>Text: ---\n\n## Terms\n\n1. **Agreement Effective Date**: This contract is effective as of March 1, 2025.\n2. *...",
          "Type: contracts<br>Text: ---\n\n## Renewal\n\n1. **Automatic Renewal**: This agreement will automatically renew for an additional...",
          "Type: contracts<br>Text: ---\n\n## Features\n\n1. **Access to Growth Tier Features**: Guardian Life Partners will have comprehens...",
          "Type: contracts<br>Text: 3. **Advanced Underwriting:**\n   - Automated underwriting for face amounts up to $500,000\n   - Accel...",
          "Type: contracts<br>Text: 2. **Training**: Comprehensive training program:\n   - Initial onboarding (4 weeks) for up to 20 staf...",
          "Type: contracts<br>Text: 5. **Integration Support**: Technical assistance for integrating Lifellm with:\n   - Guardian's polic...",
          "Type: contracts<br>Text: _________________________________\n**Jonathan Park**\n**Title**: President & CEO\n**Guardian Life Partn...",
          "Type: contracts<br>Text: # Contract with Greenstone Insurance for Homellm\n\n---\n\n## Terms\n\n1. **Parties**: This Contract (\"Agr...",
          "Type: contracts<br>Text: 4. **Payment Terms**: \n   - The Customer shall pay an amount of $10,000 per month for the Standard T...",
          "Type: contracts<br>Text: ---\n\n## Features\n\n- **AI-Powered Risk Assessment**: Customer will have access to enhanced risk evalu...",
          "Type: contracts<br>Text: - **Customer Portal**: A dedicated portal will be provided, allowing the Customer's clients to manag...",
          "Type: contracts<br>Text: ______________________________  \n[Name], [Title]  \nDate: ______________________\n\n**For Greenstone In...",
          "Type: contracts<br>Text: # Contract with Roadway Insurance Inc. for Carllm\n\n---\n\n## Terms\n\n1. **Agreement Effective Date**: T...",
          "Type: contracts<br>Text: ---\n\n## Renewal\n\n1. **Automatic Renewal**: This agreement will automatically renew for an additional...",
          "Type: contracts<br>Text: ---\n\n## Features\n\n1. **Access to Core Features**: Roadway Insurance Inc. will have access to all Pro...",
          "Type: contracts<br>Text: ---\n\n## Support\n\n1. **Technical Support**: Roadway Insurance Inc. will receive priority technical su...",
          "Type: contracts<br>Text: # Contract with Rapid Claims Associates for Claimllm\n\n**Contract Date:** March 1, 2025\n**Contract Nu...",
          "Type: contracts<br>Text: 4. **Overage Fees:** If claims volume exceeds 5,000 annually, overage fees of $0.90 per claim apply,...",
          "Type: contracts<br>Text: ---\n\n## Features\n\nRapid Claims Associates will receive the following Core Tier features:\n\n1. **Intel...",
          "Type: contracts<br>Text: 3. **Basic Document Processing:** OCR and NLP extraction from:\n   - Police reports\n   - Repair estim...",
          "Type: contracts<br>Text: 7. **Payment Processing:** Integration with payment systems for:\n   - Direct deposit (ACH)\n   - Chec...",
          "Type: contracts<br>Text: 3. **Platform Updates:**\n   - Quarterly feature releases with new capabilities\n   - Monthly security...",
          "Type: contracts<br>Text: _________________________________\n**Marcus Johnson**\n**Title**: Chief Claims Officer\n**Rapid Claims ...",
          "Type: contracts<br>Text: # Contract with National Claims Network for Claimllm\n\n**Contract Date:** April 20, 2025\n**Contract N...",
          "Type: contracts<br>Text: 4. **Service Level Agreement:** Insurellm guarantees 99.95% uptime with financial credits for downti...",
          "Type: contracts<br>Text: 7. **Business Continuity:** Insurellm provides disaster recovery with 4-hour RTO (Recovery Time Obje...",
          "Type: contracts<br>Text: 3. **Advanced Computer Vision:** State-of-the-art damage assessment:\n   - Auto damage analysis with ...",
          "Type: contracts<br>Text: 5. **Complete API Access:** Unlimited API calls supporting:\n   - Real-time integrations with 50+ car...",
          "Type: contracts<br>Text: 8. **Advanced Vendor Management:**\n   - Network of 5,000+ preferred vendors nationwide\n   - AI-power...",
          "Type: contracts<br>Text: 2. **24/7/365 Premium Support:**\n   - Guaranteed 10-minute response time for P1 critical issues\n   -...",
          "Type: contracts<br>Text: 4. **Training and Enablement:**\n   - Role-based training programs (adjusters, supervisors, fraud inv...",
          "Type: contracts<br>Text: 6. **Integration Services:**\n   - Enterprise integration with National's systems:\n     - Policy admi...",
          "Type: contracts<br>Text: 8. **Continuous Improvement:**\n   - Quarterly process optimization workshops\n   - Annual efficiency ...",
          "Type: contracts<br>Text: # Contract with Continental Commercial Group for Bizllm\n\n**Contract Date:** April 12, 2025\n**Contrac...",
          "Type: contracts<br>Text: 4. **Confidentiality:** Both parties agree to maintain the highest level of confidentiality regardin...",
          "Type: contracts<br>Text: 7. **Exclusivity:** Continental Commercial Group receives exclusive use of Bizllm in the specialty c...",
          "Type: contracts<br>Text: 2. **Dedicated Cloud Infrastructure:** Private cloud deployment with dedicated servers, ensuring dat...",
          "Type: contracts<br>Text: 5. **Custom Product Configuration:** Ability to configure and deploy unlimited custom commercial ins...",
          "Type: contracts<br>Text: 8. **Regulatory Compliance Suite:** Automated compliance monitoring for all 50 states including form...",
          "Type: contracts<br>Text: 3. **Implementation and Onboarding:**\n   - 6-month implementation program with dedicated project man...",
          "Type: contracts<br>Text: 6. **Performance Optimization:**\n   - Monthly platform performance reviews\n   - Proactive capacity p...",
          "Type: contracts<br>Text: # Contract with Stellar Insurance Co. for Rellm\n\n## Terms\nThis contract is made between **Insurellm*...",
          "Type: contracts<br>Text: ### Termination\nEither party may terminate this agreement with a **30-day written notice**. In the e...",
          "Type: contracts<br>Text: ## Features\nStellar Insurance Co. will receive access to the following features of the Rellm product...",
          "Type: contracts<br>Text: ## Support\nInsurellm provides Stellar Insurance Co. with the following support services:\n\n- **24/7 T...",
          "Type: contracts<br>Text: # Contract with Harmony Health Plans for Healthllm\n\n---\n\n## Terms...",
          "Type: contracts<br>Text: ---\n\n## Terms\n\n1. **Agreement Effective Date**: This contract is effective as of January 25, 2025.\n2...",
          "Type: contracts<br>Text: ---\n\n## Renewal\n\n1. **Automatic Renewal**: This agreement will automatically renew for an additional...",
          "Type: contracts<br>Text: ---\n\n## Features\n\n1. **Access to Professional Tier Features**: Harmony Health Plans will have compre...",
          "Type: contracts<br>Text: 2. **Predictive Healthcare Analytics:**\n   - High-risk member identification for care management\n   ...",
          "Type: contracts<br>Text: 4. **Value-Based Care Tools:**\n   - ACO (Accountable Care Organization) performance tracking\n   - Sh...",
          "Type: contracts<br>Text: 2. **Training**: Comprehensive training program:\n   - 6-week implementation with dedicated project m...",
          "Type: contracts<br>Text: 4. **Account Management**:\n   - Named Senior Customer Success Manager with bi-weekly check-ins\n   - ...",
          "Type: contracts<br>Text: 6. **Analytics and Reporting:**\n   - Custom dashboard development (up to 10 dashboards)\n   - Automat...",
          "Type: contracts<br>Text: ---\n\n**Signatures:**\n\n_________________________________\n**Sarah Chen**\n**Title**: Vice President of ...",
          "Type: contracts<br>Text: # Contract with TechDrive Insurance for Carllm\n\n**Contract Date:** October 1, 2024  \n**Contract Dura...",
          "Type: contracts<br>Text: ## Renewal\n\n1. **Automatic Renewal**: This contract shall automatically renew for additional one-yea...",
          "Type: contracts<br>Text: ## Support\n\n1. **Customer Support**: Insurellm will provide 24/7 customer support to TechDrive Insur...",
          "Type: contracts<br>Text: **TechDrive Insurance Representative:**  \nName: Sarah Johnson  \nTitle: Operations Director  \nDate: _...",
          "Type: contracts<br>Text: # Contract with Heritage Life Assurance for Lifellm\n\n**Contract Date:** February 12, 2025\n**Contract...",
          "Type: contracts<br>Text: ## Renewal\n\n1. **Automatic Renewal**: This agreement automatically renews for 12-month terms unless ...",
          "Type: contracts<br>Text: 3. **Digital Health Integration**:\n   - Wearable device connections (Fitbit, Apple Watch)\n   - Healt...",
          "Type: contracts<br>Text: 6. **Advanced Reporting**:\n   - Application conversion analytics\n   - Underwriting productivity metr...",
          "Type: contracts<br>Text: ---\n\n**Signatures:**\n\n**Insurellm, Inc.**\nMichael Torres, Chief Revenue Officer\nDate: February 12, 2...",
          "Type: contracts<br>Text: # Contract with Premier Adjusters Inc. for Claimllm\n\n---\n\n## Terms...",
          "Type: contracts<br>Text: ---\n\n## Terms\n\n1. **Agreement Effective Date**: This contract is effective as of February 15, 2025.\n...",
          "Type: contracts<br>Text: ---\n\n## Renewal\n\n1. **Automatic Renewal**: This agreement will automatically renew for an additional...",
          "Type: contracts<br>Text: ---\n\n## Features\n\n1. **Access to Advanced Tier Features**: Premier Adjusters Inc. will have access t...",
          "Type: contracts<br>Text: 2. **Computer Vision Capabilities:**\n   - Automated vehicle damage assessment from photos (dents, sc...",
          "Type: contracts<br>Text: ---\n\n## Support\n\n1. **Technical Support**: Premier Adjusters Inc. will receive priority advanced sup...",
          "Type: contracts<br>Text: 3. **Updates and Maintenance**:\n   - Monthly platform updates with new features\n   - Bi-weekly secur...",
          "Type: contracts<br>Text: 6. **Data and Analytics:**\n   - Custom dashboard development (up to 5 dashboards)\n   - Monthly data ...",
          "Type: contracts<br>Text: # Contract with FastTrack Insurance Services for Claimllm\n\n**Contract Date:** May 10, 2025\n**Contrac...",
          "Type: contracts<br>Text: 5. **Confidentiality**: Both parties shall maintain confidentiality regarding each other's proprieta...",
          "Type: contracts<br>Text: 2. **Pricing Review**: Renewal pricing will be discussed 60 days prior to term end. Price increases ...",
          "Type: contracts<br>Text: 2. **Integration Capabilities**: API integration with FastTrack's existing claims systems (Guidewire...",
          "Type: contracts<br>Text: ---\n\n**Signatures:**\n\n**Insurellm, Inc.**\nSarah Chen, VP of Sales\nDate: May 10, 2025\n\n**FastTrack In...",
          "Type: contracts<br>Text: # Contract with Atlantic Risk Solutions for Bizllm\n\n---\n\n## Terms\n\n1. **Agreement Effective Date**: ...",
          "Type: contracts<br>Text: ---\n\n## Renewal\n\n1. **Automatic Renewal**: This agreement will automatically renew for an additional...",
          "Type: contracts<br>Text: ---\n\n## Features\n\n1. **Access to Professional Tier Features**: Atlantic Risk Solutions will have acc...",
          "Type: contracts<br>Text: 2. **Industry-Specific Templates**: Pre-configured underwriting templates for:\n   - Technology compa...",
          "Type: contracts<br>Text: 2. **Training**: Insurellm will provide comprehensive training program:\n   - Initial onboarding for ...",
          "Type: contracts<br>Text: 5. **Integration Support**: Technical assistance for integrating Bizllm with:\n   - Atlantic's existi...",
          "Type: contracts<br>Text: # Contract with Belvedere Insurance for Markellm\n\n## Terms\nThis Contract (\"Agreement\") is made and e...",
          "Type: contracts<br>Text: ## Renewal\n1. **Renewal Terms**: This Agreement may be renewed for additional one-year terms upon mu...",
          "Type: contracts<br>Text: ## Features\n1. **AI-Powered Matching**: Belvedere Insurance will benefit from Markellm's AI-powered ...",
          "Type: contracts<br>Text: ## Support\n1. **Technical Support**: Technical support will be available from 9 AM to 7 PM EST, Mond...",
          "Type: contracts<br>Text: **Belvedere Insurance**  \nSignature: ______________________  \nName: [Authorized Signatory]  \nTitle: ...",
          "Type: contracts<br>Text: # Contract with ConnectInsure Agency for Markellm\n\n**Contract Date:** February 28, 2025\n**Contract N...",
          "Type: contracts<br>Text: 5. **Lead Volume Expectations**: Based on ConnectInsure's profile, Markellm projects 80-120 qualifie...",
          "Type: contracts<br>Text: 8. **Dispute Resolution**: Lead quality disputes must be submitted within 5 business days with docum...",
          "Type: contracts<br>Text: 2. **Featured Listing**: Premium marketplace placement including:\n   - Enhanced agency profile with ...",
          "Type: contracts<br>Text: 5. **Data Insights**: Analytics dashboard providing:\n   - Lead volume trends and forecasting\n   - Co...",
          "Type: contracts<br>Text: 2. **Onboarding**: Implementation includes:\n   - 2-week onboarding process\n   - Platform training fo...",
          "Type: contracts<br>Text: ---\n\n**Signatures:**\n\n**Insurellm, Inc.**\nMichael Torres, Chief Revenue Officer\nDate: February 28, 2...",
          "Type: contracts<br>Text: # Contract with Metropolitan Life Group for Lifellm\n\n**Contract Date:** April 5, 2025\n**Contract Num...",
          "Type: contracts<br>Text: 4. **Service Level Agreement:** Insurellm guarantees 99.9% uptime measured monthly, with 10% monthly...",
          "Type: contracts<br>Text: ---\n\n## Features\n\nMetropolitan Life Group will receive the complete Lifellm Enterprise suite:\n\n1. **...",
          "Type: contracts<br>Text: 4. **Comprehensive Digital Health Integration:**\n   - Wearable integrations: Apple Watch, Fitbit, Ga...",
          "Type: contracts<br>Text: 6. **Predictive Analytics Suite:**\n   - Lapse and persistency prediction modeling\n   - Cross-sell an...",
          "Type: contracts<br>Text: 9. **Regulatory and Compliance:**\n   - 50-state compliance monitoring and form filing\n   - Automated...",
          "Type: contracts<br>Text: ---\n\n## Support\n\nInsurellm commits to comprehensive Enterprise-level support for Metropolitan Life G...",
          "Type: contracts<br>Text: 3. **Comprehensive Implementation:**\n   - 12-month phased implementation program with 3 major releas...",
          "Type: contracts<br>Text: 5. **Custom Development:**\n   - 2,000 hours annually of custom development included\n   - Dedicated d...",
          "Type: contracts<br>Text: 7. **Analytics and Reporting:**\n   - Custom executive dashboard development (unlimited)\n   - Real-ti...",
          "Type: contracts<br>Text: ---\n\n**Signatures:**\n\n_________________________________\n**Jennifer Rodriguez**\n**Title**: Chief Exec...",
          "Type: contracts<br>Text: # Contract with Velocity Auto Solutions for Carllm\n\n**Contract Date:** October 1, 2023  \n**Contract ...",
          "Type: contracts<br>Text: ## Renewal\n\n1. **Automatic Renewal**: This contract will automatically renew for successive 12-month...",
          "Type: contracts<br>Text: ## Support\n\n1. **Customer Support**: Velocity Auto Solutions will have access to Insurellm’s custome...",
          "Type: contracts<br>Text: # Contract with GlobalRe Partners for Rellm - AI-Powered Enterprise Reinsurance Solution\n\n**Contract...",
          "Type: contracts<br>Text: 4. **Reinsurance Volume**: Enterprise Tier supports unlimited treaties and facultative certificates....",
          "Type: contracts<br>Text: 8. **Business Continuity:** Guaranteed 2-hour recovery time objective (RTO) and 30-minute recovery p...",
          "Type: contracts<br>Text: ---\n\n## Features\n\nGlobalRe Partners will receive the complete Rellm Enterprise suite with advanced r...",
          "Type: contracts<br>Text: 3. **Advanced AI-Driven Analytics:** Enterprise-grade reinsurance analytics:\n   - Predictive risk mo...",
          "Type: contracts<br>Text: 5. **Catastrophe Modeling Integration:** Best-in-class CAT modeling:\n   - Integration with all major...",
          "Type: contracts<br>Text: 7. **Facultative Reinsurance Platform:** Comprehensive fac management:\n   - Digital submission intak...",
          "Type: contracts<br>Text: 9. **Regulatory Compliance Tools:** Global compliance support:\n   - Multi-jurisdiction regulatory re...",
          "Type: contracts<br>Text: 11. **Complete API Access:** Unlimited API integration:\n    - Real-time integration with GlobalRe's ...",
          "Type: contracts<br>Text: 13. **Climate Risk Analytics:** Forward-looking climate modeling:\n    - IPCC climate scenario analys...",
          "Type: contracts<br>Text: 2. **24/7/365 Premium Support:**\n   - Guaranteed 10-minute response for P1 critical issues (during c...",
          "Type: contracts<br>Text: 3. **Comprehensive Implementation:**\n   - 18-month phased implementation program with 5 major releas...",
          "Type: contracts<br>Text: 4. **Training and Enablement:**\n   - Comprehensive role-based training (underwriters, actuaries, acc...",
          "Type: contracts<br>Text: 5. **Custom Development:**\n   - 4,000 hours annually of custom development included\n   - Dedicated d...",
          "Type: contracts<br>Text: 6. **Integration Services:**\n   - Enterprise integration with GlobalRe's complex ecosystem:\n     - S...",
          "Type: contracts<br>Text: 7. **Analytics and Reporting:**\n   - Custom dashboard development (unlimited)\n   - Real-time operati...",
          "Type: contracts<br>Text: 8. **Catastrophe Response:**\n   - Dedicated CAT war room activation during major events\n   - Real-ti...",
          "Type: contracts<br>Text: 10. **Continuous Improvement:**\n    - Monthly process optimization sessions\n    - Quarterly efficien...",
          "Type: contracts<br>Text: ---\n\n**Signatures:**\n\n_________________________________\n**Jennifer Rodriguez**\n**Title**: Chief Exec...",
          "Type: contracts<br>Text: # Contract with WellCare Insurance Co. for Healthllm\n\n**Contract Date:** March 8, 2025\n**Contract Nu...",
          "Type: contracts<br>Text: 4. **Member Coverage**: Essential Tier supports health insurance administration for up to 15,000 cov...",
          "Type: contracts<br>Text: ---\n\n## Features\n\nWellCare Insurance Co. will receive the following Essential Tier features:\n\n1. **I...",
          "Type: contracts<br>Text: 3. **AI-Driven Claims Adjudication:** Automated claims processing:\n   - Machine learning-based claim...",
          "Type: contracts<br>Text: 6. **Basic Medication Management:**\n   - Formulary management tools\n   - Prior authorization workflo...",
          "Type: contracts<br>Text: ---\n\n## Support\n\nInsurellm commits to providing comprehensive support to WellCare Insurance Co.:\n\n1....",
          "Type: contracts<br>Text: 4. **Account Management:**\n   - Named customer success manager\n   - Quarterly business review meetin...",
          "Type: contracts<br>Text: ---\n\n**Signatures:**\n\n_________________________________\n**Sarah Chen**\n**Title**: Vice President of ...",
          "Type: contracts<br>Text: # Contract with Fortress Business Underwriters for Bizllm\n\n---\n\n## Terms\n\n1. **Agreement Effective D...",
          "Type: contracts<br>Text: ---\n\n## Renewal\n\n1. **Automatic Renewal**: This agreement will automatically renew for an additional...",
          "Type: contracts<br>Text: ---\n\n## Features\n\n1. **Access to Professional Tier Features**: Fortress Business Underwriters will h...",
          "Type: contracts<br>Text: 2. **Advanced Analytics**: Access to enhanced reporting capabilities including loss ratio analysis, ...",
          "Type: contracts<br>Text: 2. **Training**: Insurellm will provide:\n   - Initial comprehensive onboarding (40 hours) for up to ...",
          "Type: contracts<br>Text: ---\n\n**Signatures:**\n\n_________________________________\n**Michael Torres**\n**Title**: Chief Revenue ...",
          "Type: contracts<br>Text: # Contract with GreenValley Insurance for Homellm\n\n**Contract Date:** October 6, 2023  \n**Contract N...",
          "Type: contracts<br>Text: 4. **Confidentiality:** Both parties agree to maintain the confidentiality of proprietary informatio...",
          "Type: contracts<br>Text: 1. **AI-Powered Risk Assessment:** Access to advanced AI algorithms for real-time risk evaluations.\n...",
          "Type: contracts<br>Text: 3. **Regular Updates:** Insurellm will offer ongoing updates and enhancements to the Homellm platfor...",
          "Type: contracts<br>Text: # Contract with Evergreen Life Insurance for Lifellm\n\n**Contract Date:** January 20, 2025\n**Contract...",
          "Type: contracts<br>Text: 4. **Policy Volume:** Starter Tier supports underwriting and administration for up to 2,000 active p...",
          "Type: contracts<br>Text: ---\n\n## Features\n\nEvergreen Life Insurance will receive the following Starter Tier features:\n\n1. **A...",
          "Type: contracts<br>Text: 4. **Smart Document Processing:** OCR and NLP extraction from:\n   - Medical records and attending ph...",
          "Type: contracts<br>Text: ---\n\n## Support\n\nInsurellm commits to providing comprehensive support to Evergreen Life Insurance:\n\n...",
          "Type: contracts<br>Text: 3. **Platform Updates:**\n   - Quarterly feature releases\n   - Monthly security patches and improveme...",
          "Type: contracts<br>Text: _________________________________\n**Catherine Wu**\n**Title**: Chief Underwriting Officer\n**Evergreen...",
          "Type: contracts<br>Text: # Contract with BrightWay Solutions for Markellm\n\n**Contract Date:** October 5, 2023  \n**Contract ID...",
          "Type: contracts<br>Text: 3. **Service Level Agreement (SLA):**  \n   Insurellm commits to a 99.9% uptime for the platform with...",
          "Type: contracts<br>Text: 2. **Real-Time Quote Availability:**  \n   Consumers sourced via BrightWay Solutions will receive rea...",
          "Type: contracts<br>Text: 3. **Training and Onboarding:**  \n   Insurellm agrees to provide one free training session on how to...",
          "Type: contracts<br>Text: # Contract with DriveSmart Insurance for Carllm\n\n**Contract Date:** March 20, 2025\n**Contract Number...",
          "Type: contracts<br>Text: 4. **Policy Volume**: Enterprise Tier supports unlimited policies. DriveSmart currently has 85,000 a...",
          "Type: contracts<br>Text: ---\n\n## Features\n\nDriveSmart Insurance will receive the complete Carllm Enterprise suite:\n\n1. **Unli...",
          "Type: contracts<br>Text: 4. **Instant Quoting Engine:** High-performance quoting:\n   - Sub-3-second quote generation\n   - Rea...",
          "Type: contracts<br>Text: 6. **Advanced Fraud Detection:** Comprehensive fraud prevention:\n   - Application fraud detection (i...",
          "Type: contracts<br>Text: 8. **Telematics Integration:** Complete telematics platform:\n   - Device-agnostic integration (OBD-I...",
          "Type: contracts<br>Text: 10. **Multi-State Operations:** Comprehensive state support:\n    - State-specific forms and endorsem...",
          "Type: contracts<br>Text: 3. **Implementation:**\n   - 6-month phased implementation\n   - Dedicated project manager\n   - Migrat...",
          "Type: contracts<br>Text: 6. **Integration Services:**\n   - Integration with DriveSmart's systems:\n     - Duck Creek policy ad...",
          "Type: contracts<br>Text: ---\n\n**Signatures:**\n\n_________________________________\n**Jennifer Rodriguez**\n**Title**: Chief Exec...",
          "Type: contracts<br>Text: # Contract with SafeHaven Property Insurance for Homellm\n\n**Contract Date:** May 3, 2025\n**Contract ...",
          "Type: contracts<br>Text: 4. **Policy Volume**: Enterprise Tier supports unlimited policies. SafeHaven currently has 45,000 ac...",
          "Type: contracts<br>Text: ---\n\n## Features\n\nSafeHaven Property Insurance will receive the complete Homellm Enterprise suite:\n\n...",
          "Type: contracts<br>Text: 3. **Advanced AI Risk Assessment:** Enterprise-grade property risk analysis:\n   - Aerial imagery ana...",
          "Type: contracts<br>Text: 5. **Instant Claims Processing:** Advanced claims automation:\n   - AI-driven FNOL with photo/video u...",
          "Type: contracts<br>Text: 7. **Multi-Channel Integration:** Unified platform:\n   - Agent portal for 1,500+ independent agents\n...",
          "Type: contracts<br>Text: 9. **IoT Device Integration:** Smart home platform:\n   - Water leak detection systems (Flo by Moen, ...",
          "Type: contracts<br>Text: 11. **Multi-State Operations:** Comprehensive support:\n    - State-specific forms and endorsements f...",
          "Type: contracts<br>Text: ---\n\n## Support\n\nInsurellm commits to comprehensive Enterprise-level support for SafeHaven Property ...",
          "Type: contracts<br>Text: 3. **Comprehensive Implementation:**\n   - 8-month phased implementation program\n   - Dedicated proje...",
          "Type: contracts<br>Text: 5. **Custom Development:**\n   - 1,200 hours annually of custom development\n   - Dedicated developmen...",
          "Type: contracts<br>Text: 7. **Analytics and Reporting:**\n   - Custom dashboard development (up to 20 dashboards)\n   - Real-ti...",
          "Type: contracts<br>Text: 9. **Catastrophe Response:**\n   - Dedicated CAT support during disaster events\n   - Pre-CAT system p...",
          "Type: contracts<br>Text: _________________________________\n**Laura Mitchell**\n**Title**: President & Chief Executive Officer\n...",
          "Type: contracts<br>Text: # Contract with Pinnacle Insurance Co. for Homellm\n\n## Terms\nThis contract (\"Contract\") is entered i...",
          "Type: contracts<br>Text: ## Renewal\n1. **Renewal Terms**: At the end of the initial term, this Contract shall automatically r...",
          "Type: contracts<br>Text: ## Features\n1. **AI-Powered Risk Assessment**: Utilized for tailored underwriting decisions specific...",
          "Type: contracts<br>Text: ## Support\n1. **Technical Support**: Insurellm shall provide 24/7 technical support via an email and...",
          "Type: contracts<br>Text: # Contract with Apex Reinsurance for Rellm: AI-Powered Enterprise Reinsurance Solution\n\n## Terms\n\n1....",
          "Type: contracts<br>Text: ## Renewal\n\n1. **Automatic Renewal**: This Agreement will automatically renew for successive one-yea...",
          "Type: contracts<br>Text: 2. **Seamless Integrations**: The architecture of Rellm allows for easy integration with existing sy...",
          "Type: contracts<br>Text: 1. **Technical Support**: Provider shall offer dedicated technical support to the Client via phone, ...",
          "Type: contracts<br>Text: **Insurellm, Inc.**  \n_____________________________  \nAuthorized Signature   \nDate: ________________...",
          "Type: contracts<br>Text: # Contract with Advantage Medical Coverage for Healthllm\n\n**Contract Date:** April 18, 2025\n**Contra...",
          "Type: contracts<br>Text: 4. **Member Coverage**: Professional Tier supports up to 50,000 covered members. Advantage currently...",
          "Type: contracts<br>Text: 2. **Pricing Review**: Renewal pricing will be discussed 75 days prior to term end and mutually agre...",
          "Type: contracts<br>Text: 2. **Value-Based Care Support:**\n   - ACO performance tracking and shared savings calculation\n   - H...",
          "Type: contracts<br>Text: 2. **Training**: Comprehensive training program:\n   - 5-week implementation with project manager\n   ...",
          "Type: contracts<br>Text: ---\n\n**Signatures:**\n\n**Insurellm, Inc.**\nSarah Chen, VP of Sales\nDate: April 18, 2025\n\n**Advantage ...",
          "Type: contracts<br>Text: # Contract with Summit Commercial Insurance for Bizllm\n\n**Contract Date:** March 15, 2025\n**Contract...",
          "Type: contracts<br>Text: 3. **Payment:** Summit Commercial Insurance shall pay a monthly fee of $6,000, due by the 1st of eve...",
          "Type: contracts<br>Text: 6. **Data Security:** Insurellm commits to maintaining industry-standard encryption and security pro...",
          "Type: contracts<br>Text: 2. **Business Intelligence Integration:** Automated data gathering from business registries, financi...",
          "Type: contracts<br>Text: ---\n\n## Support\n\nInsurellm commits to providing comprehensive support to Summit Commercial Insurance...",
          "Type: contracts<br>Text: 5. **Performance Reviews:** Quarterly business reviews to assess platform utilization, identify opti...",
          "Type: company<br>Text: # Overview of Insurellm\n\nInsurellm is an innovative insurance tech firm with 32 employees operating ...",
          "Type: company<br>Text: ### Marketplace & Infrastructure\n- **Markellm** - Marketplace connecting consumers with insurance pr...",
          "Type: company<br>Text: ## Client Portfolio Breakdown\n\nInsurellm's 32 active contracts span the full spectrum of insurance t...",
          "Type: company<br>Text: **Insurance Marketplace (Markellm)**: 2 contracts with agencies and brokers leveraging the consumer-...",
          "Type: company<br>Text: # Careers at Insurellm\n\n## Why Join Insurellm?\n\nAt Insurellm, we're not just building software—we're...",
          "Type: company<br>Text: ### Our Culture\n\nWe live by our core values every day:\n- **Innovation First**: We encourage experime...",
          "Type: company<br>Text: ## Current Opportunities\n\n### Engineering\n\n**Senior Full Stack Engineer** - San Francisco, CA\n- Lead...",
          "Type: company<br>Text: **DevOps Engineer** - New York, NY\n- Manage cloud infrastructure (AWS/GCP)\n- Implement CI/CD pipelin...",
          "Type: company<br>Text: **Data Engineer** - Austin, TX\n- Design and maintain data pipelines\n- Build data warehousing solutio...",
          "Type: company<br>Text: ### Sales & Customer Success\n\n**Account Executive** - New York, NY / Chicago, IL / Austin, TX\n- Mana...",
          "Type: company<br>Text: ### Operations & Support\n\n**Technical Support Specialist** - Remote\n- Provide tier 2/3 technical sup...",
          "Type: company<br>Text: # Insurellm Culture\n\n## Vision Statement\nTo revolutionize the insurance industry through innovative ...",
          "Type: company<br>Text: ### Customer Obsession\nOur clients' success is our success. We deeply understand our customers' need...",
          "Type: company<br>Text: ## Employer Value Proposition\n\n**Build the Future of Insurance Technology with Elite Talent**\n\nAt In...",
          "Type: company<br>Text: - **Meaningful Impact**: Your work directly shapes products powering 32 active insurance operations,...",
          "Type: company<br>Text: # About Insurellm\n\nInsurellm was founded by Avery Lancaster in 2015 as an insurance tech startup des...",
          "Type: company<br>Text: However, the company underwent a strategic restructuring in 2022-2023 to focus on profitability and ...",
          "Type: company<br>Text: - **Bizllm** quickly gained traction with 7 commercial insurance contracts, including regional carri...",
          "Type: employees<br>Text: # HR Record\n\n# David Kim\n\n## Summary\n- **Date of Birth:** September 22, 1992\n- **Job Title:** DevOps...",
          "Type: employees<br>Text: - **June 2017 - February 2019:** Systems Administrator at CloudFirst Solutions\n  - Maintained Linux ...",
          "Type: employees<br>Text: ## Other HR Notes\n- **Certifications:** AWS Certified Solutions Architect (2022), Certified Kubernet...",
          "Type: employees<br>Text: # HR Record\n\n# Nina Patel\n\n## Summary\n- **Date of Birth:** July 25, 1991\n- **Job Title:** Business I...",
          "Type: employees<br>Text: - **May 2017 - July 2019:** Data Analyst at RetailMetrics Inc.\n  - Analyzed retail sales data and cu...",
          "Type: employees<br>Text: - **2019:** Rating: 3.9/5\n  *Good onboarding year. Quick to adapt to Insurellm's data systems.*\n\n## ...",
          "Type: employees<br>Text: # HR Record\n\n# Priya Sharma\n\n## Summary\n- **Date of Birth:** January 8, 1986\n- **Job Title:** Senior...",
          "Type: employees<br>Text: - **August 2012 - May 2015:** Research Scientist at UC Berkeley AI Lab\n  - Conducted research in mac...",
          "Type: employees<br>Text: - **2019:** Rating: 4.6/5\n  *Excellent contributions to fraud detection systems. Recognized for thou...",
          "Type: employees<br>Text: ## Other HR Notes\n- **Education:** PhD in Computer Science (Machine Learning) from Stanford Universi...",
          "Type: employees<br>Text: # HR Record\n\n# Alex Chen\n\n## Summary\n- **Date of Birth:** March 15, 1990\n- **Job Title:** Backend So...",
          "Type: employees<br>Text: ## Annual Performance History\n- **2020:**  \n  - Completed onboarding successfully.  \n  - Met expecta...",
          "Type: employees<br>Text: ## Compensation History\n- **2020:** Base Salary: $80,000  \n- **2021:** Base Salary Increase to $90,0...",
          "Type: employees<br>Text: Alex Chen continues to be a vital asset at Insurellm, contributing significantly to innovative backe...",
          "Type: employees<br>Text: # HR Record\n\n# Robert Chen\n\n## Summary\n- **Date of Birth:** February 28, 1983\n- **Job Title:** Senio...",
          "Type: employees<br>Text: - **August 2008 - May 2012:** Software Engineer at TechStartup\n  - Developed features for SaaS platf...",
          "Type: employees<br>Text: - **2019:** Rating: 4.5/5\n  *Excellent year with successful Homellm rewrite. Strong architectural co...",
          "Type: employees<br>Text: ## Other HR Notes\n- **Education:** MS in Computer Science from Stanford University, BS in Computer E...",
          "Type: employees<br>Text: # HR Record\n\n# Oliver Spencer\n\n## Summary\n- **Date of Birth**: May 14, 1990\n- **Job Title**: Backend...",
          "Type: employees<br>Text: ## Annual Performance History\n- **2018**: **3/5** - Adaptable team player but still learning to take...",
          "Type: employees<br>Text: ## Compensation History\n- **March 2018**: Initial salary of $80,000.\n- **July 2019**: Salary increas...",
          "Type: employees<br>Text: # HR Record\n\n# Amanda Foster\n\n## Summary\n- **Date of Birth:** August 14, 1982\n- **Job Title:** HR Bu...",
          "Type: employees<br>Text: - **June 2009 - February 2013:** HR Coordinator at Enterprise Corp.\n  - Supported recruiting and onb...",
          "Type: employees<br>Text: - **2019:** Rating: 4.2/5\n  *Strong year. Improved hiring velocity for engineering roles by 35%. Bui...",
          "Type: employees<br>Text: ## Other HR Notes\n- **Education:** MS in Human Resources Management from Cornell University, BA in P...",
          "Type: employees<br>Text: # HR Record\n\n# Emily Tran\n\n## Summary\n- **Date of Birth:** March 18, 1991\n- **Job Title:** Digital M...",
          "Type: employees<br>Text: - **January 2017 - May 2018**: Marketing Intern  \n  - Supported the Marketing team by collaborating ...",
          "Type: employees<br>Text: - **2021**:  \n  - Performance Rating: Meets Expectations  \n  - Key Achievements: Contributed to the ...",
          "Type: employees<br>Text: - **Professional Development Goals**:  \n  - Emily Tran aims to become a Marketing Manager within the...",
          "Type: employees<br>Text: # HR Record\n\n# Jordan Blake\n\n## Summary\n- **Date of Birth:** March 15, 1993\n- **Job Title:** Sales D...",
          "Type: employees<br>Text: ## Annual Performance History\n- **2021:** First year at Insurellm; achieved 90% of monthly targets. ...",
          "Type: employees<br>Text: ## Other HR Notes\n- Jordan has shown an interest in continuing education, actively participating in ...",
          "Type: employees<br>Text: # HR Record\n\n# Kevin Zhang\n\n## Summary\n- **Date of Birth:** March 27, 1990\n- **Job Title:** Mobile D...",
          "Type: employees<br>Text: - **July 2015 - January 2018:** Junior Mobile Developer at StartupTech\n  - Built mobile features for...",
          "Type: employees<br>Text: ## Other HR Notes\n- **Education:** BS in Computer Science from UC Berkeley\n- **Skills:** Expert in S...",
          "Type: employees<br>Text: # HR Record\n\n# Maya Thompson\n\n## Summary\n- **Date of Birth:** June 14, 1993\n- **Job Title:** Data En...",
          "Type: employees<br>Text: ## Annual Performance History\n- **2023:** Rating: 4.3/5\n  *Strong performance. Delivered critical da...",
          "Type: employees<br>Text: ## Compensation History\n- **2023:** Base Salary: $110,000 + Bonus: $12,000\n- **2022:** Base Salary: ...",
          "Type: employees<br>Text: # HR Record\n\n# Jennifer Adams\n\n## Summary\n- **Date of Birth:** July 7, 1997\n- **Job Title:** Sales D...",
          "Type: employees<br>Text: - **August 2019 - May 2022:** Customer Service Representative at RetailCo\n  - Handled customer inqui...",
          "Type: employees<br>Text: ## Compensation History\n- **2023:** Base Salary: $58,000 + Commission: $4,200\n- **2022:** Intern Sti...",
          "Type: employees<br>Text: # HR Record\n\n# Jessica Liu\n\n## Summary\n- **Date of Birth:** April 30, 1996\n- **Job Title:** Frontend...",
          "Type: employees<br>Text: - **June 2018 - December 2019:** Web Developer Intern at StartupLabs\n  - Created landing pages and m...",
          "Type: employees<br>Text: ## Other HR Notes\n- **Education:** BS in Computer Science from University of Manchester\n- **Skills:*...",
          "Type: employees<br>Text: # Avery Lancaster\n\n## Summary\n- **Date of Birth**: March 15, 1985\n- **Job Title**: Co-Founder & Chie...",
          "Type: employees<br>Text: - **2010 - 2013**: Business Analyst at Edge Analytics  \n  Prior to joining Innovate, Avery worked as...",
          "Type: employees<br>Text: - **2018**: **Exceeds Expectations**  \n  Under Avery’s pivoted vision, Insurellm launched two new su...",
          "Type: employees<br>Text: - **2022**: **Satisfactory**  \n  Avery focused on rebuilding team dynamics and addressing employee c...",
          "Type: employees<br>Text: ## Compensation History\n- **2015**: $150,000 base salary + Significant equity stake  \n- **2016**: $1...",
          "Type: employees<br>Text: ## Other HR Notes\n- **Professional Development**: Avery has actively participated in leadership trai...",
          "Type: employees<br>Text: # HR Record\n\n# Maxine Thompson\n\n## Summary\n- **Date of Birth:** January 15, 1991\n- **Job Title:** Da...",
          "Type: employees<br>Text: ## Insurellm Career Progression\n- **January 2017 - October 2018**: **Junior Data Engineer**  \n  * Ma...",
          "Type: employees<br>Text: - **January 2021 - Present**: **Senior Data Engineer**  \n  * Maxine was promoted to Senior Data Engi...",
          "Type: employees<br>Text: ## Annual Performance History\n- **2017**: *Meets Expectations*  \n  Maxine showed potential in her ro...",
          "Type: employees<br>Text: - **2021**: *Exceeds Expectations*  \n  Maxine spearheaded the transition to a new data warehousing s...",
          "Type: employees<br>Text: ## Compensation History\n- **2017**: $70,000 (Junior Data Engineer)  \n- **2018**: $75,000 (Junior Dat...",
          "Type: employees<br>Text: # HR Record\n\n# Daniel Park\n\n## Summary\n- **Date of Birth:** October 3, 1991\n- **Job Title:** QA Engi...",
          "Type: employees<br>Text: ## Annual Performance History\n- **2023:** Rating: 4.2/5\n  *Strong performance. Expanded test automat...",
          "Type: employees<br>Text: ## Other HR Notes\n- **Education:** BS in Computer Science from Texas State University\n- **Certificat...",
          "Type: employees<br>Text: # Samantha Greene\n\n## Summary\n- **Date of Birth:** October 14, 1990\n- **Job Title:** HR Generalist\n-...",
          "Type: employees<br>Text: ## Annual Performance History\n- **2020:** Exceeds Expectations  \n  Samantha Greene demonstrated exce...",
          "Type: employees<br>Text: ## Compensation History\n- **2020:** Base Salary - $55,000  \n  The entry-level salary matched industr...",
          "Type: employees<br>Text: - **2023:** Base Salary - $70,000  \n  Recognized for substantial improvement in employee relations m...",
          "Type: employees<br>Text: # HR Record\n\n# Marcus Johnson\n\n## Summary\n- **Date of Birth:** February 17, 1988\n- **Job Title:** Cu...",
          "Type: employees<br>Text: - **January 2016 - August 2018:** Account Manager at SaaS Solutions Inc.\n  - Managed B2B client rela...",
          "Type: employees<br>Text: - **2020:** Rating: 4.0/5\n  *Good transition to CSM role. Quickly built rapport with enterprise clie...",
          "Type: employees<br>Text: # HR Record\n\n# Alex Thomson\n\n## Summary\n- **Date of Birth:** March 15, 1995\n- **Job Title:** Sales D...",
          "Type: employees<br>Text: ## Annual Performance History  \n- **2022** - Rated as \"Exceeds Expectations.\" Alex Thomson achieved ...",
          "Type: employees<br>Text: ## Other HR Notes\n- Alex Thomson is an active member of the Diversity and Inclusion committee at Ins...",
          "Type: employees<br>Text: # HR Record\n\n# Michael O'Brien\n\n## Summary\n- **Date of Birth:** May 20, 1984\n- **Job Title:** Accoun...",
          "Type: employees<br>Text: - **August 2010 - May 2014:** Sales Representative at Business Solutions Inc.\n  - B2B software sales...",
          "Type: employees<br>Text: - **2019:** Rating: 4.2/5\n  *Strong performance at 125% quota attainment. Expanded territory success...",
          "Type: employees<br>Text: ## Other HR Notes\n- **Education:** BA in Business from University of Illinois\n- **Awards:** Sales Ex...",
          "Type: employees<br>Text: # HR Record\n\n# Rachel Martinez\n\n## Summary\n- **Date of Birth:** June 8, 1987\n- **Job Title:** Produc...",
          "Type: employees<br>Text: ## Annual Performance History\n- **2023:** Rating: 4.6/5\n  *Exceptional year with successful launch o...",
          "Type: employees<br>Text: - **2019:** Rating: 4.0/5\n  *Strong start as Product Manager. Successfully transitioned from APM rol...",
          "Type: employees<br>Text: ## Other HR Notes\n- **Professional Development:** Completed Product Leadership Certification from Pr...",
          "Type: employees<br>Text: # HR Record\n\n# Sarah Williams\n\n## Summary\n- **Date of Birth:** November 3, 1994\n- **Job Title:** UX ...",
          "Type: employees<br>Text: - **August 2018 - May 2020:** UI/UX Designer at StartupHub Inc.\n  - Designed mobile and web interfac...",
          "Type: employees<br>Text: ## Other HR Notes\n- **Education:** BFA in Graphic Design from Rhode Island School of Design\n- **Skil...",
          "Type: employees<br>Text: # HR Record\n\n# Michelle Rivera\n\n## Summary\n- **Date of Birth:** December 16, 1988\n- **Job Title:** P...",
          "Type: employees<br>Text: - **May 2013 - July 2016:** UX Designer at CreativeAgency\n  - Created user interfaces for consumer a...",
          "Type: employees<br>Text: - **2019:** Rating: 4.0/5\n  *Solid first year at Insurellm. Quick to learn complex insurance domain ...",
          "Type: employees<br>Text: ## Other HR Notes\n- **Education:** MFA in Interaction Design from School of Visual Arts, BFA in Grap...",
          "Type: employees<br>Text: # HR Record\n\n# Samuel Trenton\n\n## Summary\n- **Date of Birth:** April 12, 1989\n- **Job Title:** Senio...",
          "Type: employees<br>Text: - **August 2016 - May 2018:** Junior Data Analyst  \n  *Started at Insurellm as a Junior Data Analyst...",
          "Type: employees<br>Text: - **2021:** Rating: 4.0/5  \n  *There was notable improvement in performance. Worked to enhance model...",
          "Type: employees<br>Text: - **2020:** Base Salary: $100,000 + Bonus: $8,000  \n  *Initial compensation as Senior Data Scientist...",
          "Type: employees<br>Text: # HR Record\n\n# Lisa Anderson\n\n## Summary\n- **Date of Birth:** November 18, 1985\n- **Job Title:** Mar...",
          "Type: employees<br>Text: - **June 2012 - December 2015:** Marketing Coordinator at Enterprise Solutions\n  - Supported marketi...",
          "Type: employees<br>Text: - **2019:** Rating: 4.0/5\n  *Strong start as Marketing Manager. Quick to understand insurance tech m...",
          "Type: employees<br>Text: ## Other HR Notes\n- **Education:** MBA in Marketing from University of Texas at Austin, BA in Commun...",
          "Type: employees<br>Text: # HR Record\n\n# Alex Harper\n\n## Summary\n- **Date of Birth**: March 15, 1993\n- **Job Title**: Sales De...",
          "Type: employees<br>Text: ## Annual Performance History  \n- **2021**:  \n  - **Performance Rating**: 4.5/5  \n  - **Key Achievem...",
          "Type: employees<br>Text: - **2022**:  \n  - **Base Salary**: $65,000 (Promotion to Senior SDR)  \n  - **Bonus**: $13,000 (20% o...",
          "Type: employees<br>Text: # HR Record\n\n# Carlos Rodriguez\n\n## Summary\n- **Date of Birth:** October 12, 1989\n- **Job Title:** S...",
          "Type: employees<br>Text: - **January 2015 - February 2017:** Application Developer at FinTech Systems\n  - Developed financial...",
          "Type: employees<br>Text: - **2019:** Rating: 4.1/5\n  *Strong start as Solutions Engineer. Quick learner with excellent techni...",
          "Type: employees<br>Text: ## Other HR Notes\n- **Education:** MS in Computer Science from University of Florida\n- **Certificati...",
          "Type: employees<br>Text: # HR Record\n\n# James Wilson\n\n## Summary\n- **Date of Birth:** April 5, 1978\n- **Job Title:** Chief Te...",
          "Type: employees<br>Text: - **June 2008 - February 2012:** Senior Engineering Manager at CloudSoft Corp.\n  - Managed multiple ...",
          "Type: employees<br>Text: - **2021:** Rating: 4.6/5\n  *Excellent performance navigating remote transition. Built strong engine...",
          "Type: employees<br>Text: - **2017:** Rating: 4.3/5\n  *Strong start as CTO. Quickly assessed technical landscape and began str...",
          "Type: employees<br>Text: ## Other HR Notes\n- **Education:** MS in Computer Science from MIT, BS in Computer Engineering from ...",
          "Type: employees<br>Text: # HR Record\n\n# Jordan K. Bishop\n\n## Summary\n- **Date of Birth:** March 15, 1990\n- **Job Title:** Fro...",
          "Type: employees<br>Text: ## Annual Performance History\n- **2019:** Exceeds Expectations - Continuously delivered high-quality...",
          "Type: employees<br>Text: ## Compensation History\n- **June 2018:** Starting Salary - $85,000\n- **June 2019:** Salary Increase ...",
          "Type: employees<br>Text: ## Other HR Notes\n- Jordan K. Bishop has been an integral part of club initiatives, including the In...",
          "Type: employees<br>Text: # HR Record\n\n# Emily Carter\n\n## Summary\n- **Date of Birth:** August 12, 1990\n- **Job Title:** Accoun...",
          "Type: employees<br>Text: - **2017-2019:** Marketing Intern  \n  - Assisted with market research and campaign development for s...",
          "Type: employees<br>Text: ## Compensation History\n| Year | Base Salary | Bonus         | Total Compensation |\n|------|--------...",
          "Type: employees<br>Text: Emily Carter exemplifies the kind of talent that drives Insurellm's success and is an invaluable ass...",
          "Type: employees<br>Text: # HR Record\n\n# Tyler Brooks\n\n## Summary\n- **Date of Birth:** September 9, 1998\n- **Job Title:** Juni...",
          "Type: employees<br>Text: - **2022:** Rating: 3.5/5\n  *Adequate performance for a junior developer. Good learning attitude but...",
          "Type: employees<br>Text: ## Compensation History\n- **2023:** Base Salary: $75,000 + Bonus: $2,000\n- **2022:** Base Salary: $7...",
          "Type: employees<br>Text: # HR Record\n\n# Brandon Walker\n\n## Summary\n- **Date of Birth:** December 5, 1993\n- **Job Title:** Tec...",
          "Type: employees<br>Text: - **January 2018 - April 2019:** IT Help Desk Technician at Regional Bank\n  - Provided internal IT s...",
          "Type: employees<br>Text: ## Other HR Notes\n- **Education:** Associate Degree in Information Technology from Phoenix Community..."
         ],
         "type": "scatter3d",
         "x": {
          "bdata": "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",
          "dtype": "f4"
         },
         "y": {
          "bdata": "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",
          "dtype": "f4"
         },
         "z": {
          "bdata": "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",
          "dtype": "f4"
         }
        }
       ],
       "layout": {
        "height": 700,
        "margin": {
         "b": 10,
         "l": 10,
         "r": 20,
         "t": 40
        },
        "scene": {
         "xaxis": {
          "title": {
           "text": "x"
          }
         },
         "yaxis": {
          "title": {
           "text": "y"
          }
         },
         "zaxis": {
          "title": {
           "text": "z"
          }
         }
        },
        "template": {
         "data": {
          "bar": [
           {
            "error_x": {
             "color": "#2a3f5f"
            },
            "error_y": {
             "color": "#2a3f5f"
            },
            "marker": {
             "line": {
              "color": "#E5ECF6",
              "width": 0.5
             },
             "pattern": {
              "fillmode": "overlay",
              "size": 10,
              "solidity": 0.2
             }
            },
            "type": "bar"
           }
          ],
          "barpolar": [
           {
            "marker": {
             "line": {
              "color": "#E5ECF6",
              "width": 0.5
             },
             "pattern": {
              "fillmode": "overlay",
              "size": 10,
              "solidity": 0.2
             }
            },
            "type": "barpolar"
           }
          ],
          "carpet": [
           {
            "aaxis": {
             "endlinecolor": "#2a3f5f",
             "gridcolor": "white",
             "linecolor": "white",
             "minorgridcolor": "white",
             "startlinecolor": "#2a3f5f"
            },
            "baxis": {
             "endlinecolor": "#2a3f5f",
             "gridcolor": "white",
             "linecolor": "white",
             "minorgridcolor": "white",
             "startlinecolor": "#2a3f5f"
            },
            "type": "carpet"
           }
          ],
          "choropleth": [
           {
            "colorbar": {
             "outlinewidth": 0,
             "ticks": ""
            },
            "type": "choropleth"
           }
          ],
          "contour": [
           {
            "colorbar": {
             "outlinewidth": 0,
             "ticks": ""
            },
            "colorscale": [
             [
              0,
              "#0d0887"
             ],
             [
              0.1111111111111111,
              "#46039f"
             ],
             [
              0.2222222222222222,
              "#7201a8"
             ],
             [
              0.3333333333333333,
              "#9c179e"
             ],
             [
              0.4444444444444444,
              "#bd3786"
             ],
             [
              0.5555555555555556,
              "#d8576b"
             ],
             [
              0.6666666666666666,
              "#ed7953"
             ],
             [
              0.7777777777777778,
              "#fb9f3a"
             ],
             [
              0.8888888888888888,
              "#fdca26"
             ],
             [
              1,
              "#f0f921"
             ]
            ],
            "type": "contour"
           }
          ],
          "contourcarpet": [
           {
            "colorbar": {
             "outlinewidth": 0,
             "ticks": ""
            },
            "type": "contourcarpet"
           }
          ],
          "heatmap": [
           {
            "colorbar": {
             "outlinewidth": 0,
             "ticks": ""
            },
            "colorscale": [
             [
              0,
              "#0d0887"
             ],
             [
              0.1111111111111111,
              "#46039f"
             ],
             [
              0.2222222222222222,
              "#7201a8"
             ],
             [
              0.3333333333333333,
              "#9c179e"
             ],
             [
              0.4444444444444444,
              "#bd3786"
             ],
             [
              0.5555555555555556,
              "#d8576b"
             ],
             [
              0.6666666666666666,
              "#ed7953"
             ],
             [
              0.7777777777777778,
              "#fb9f3a"
             ],
             [
              0.8888888888888888,
              "#fdca26"
             ],
             [
              1,
              "#f0f921"
             ]
            ],
            "type": "heatmap"
           }
          ],
          "histogram": [
           {
            "marker": {
             "pattern": {
              "fillmode": "overlay",
              "size": 10,
              "solidity": 0.2
             }
            },
            "type": "histogram"
           }
          ],
          "histogram2d": [
           {
            "colorbar": {
             "outlinewidth": 0,
             "ticks": ""
            },
            "colorscale": [
             [
              0,
              "#0d0887"
             ],
             [
              0.1111111111111111,
              "#46039f"
             ],
             [
              0.2222222222222222,
              "#7201a8"
             ],
             [
              0.3333333333333333,
              "#9c179e"
             ],
             [
              0.4444444444444444,
              "#bd3786"
             ],
             [
              0.5555555555555556,
              "#d8576b"
             ],
             [
              0.6666666666666666,
              "#ed7953"
             ],
             [
              0.7777777777777778,
              "#fb9f3a"
             ],
             [
              0.8888888888888888,
              "#fdca26"
             ],
             [
              1,
              "#f0f921"
             ]
            ],
            "type": "histogram2d"
           }
          ],
          "histogram2dcontour": [
           {
            "colorbar": {
             "outlinewidth": 0,
             "ticks": ""
            },
            "colorscale": [
             [
              0,
              "#0d0887"
             ],
             [
              0.1111111111111111,
              "#46039f"
             ],
             [
              0.2222222222222222,
              "#7201a8"
             ],
             [
              0.3333333333333333,
              "#9c179e"
             ],
             [
              0.4444444444444444,
              "#bd3786"
             ],
             [
              0.5555555555555556,
              "#d8576b"
             ],
             [
              0.6666666666666666,
              "#ed7953"
             ],
             [
              0.7777777777777778,
              "#fb9f3a"
             ],
             [
              0.8888888888888888,
              "#fdca26"
             ],
             [
              1,
              "#f0f921"
             ]
            ],
            "type": "histogram2dcontour"
           }
          ],
          "mesh3d": [
           {
            "colorbar": {
             "outlinewidth": 0,
             "ticks": ""
            },
            "type": "mesh3d"
           }
          ],
          "parcoords": [
           {
            "line": {
             "colorbar": {
              "outlinewidth": 0,
              "ticks": ""
             }
            },
            "type": "parcoords"
           }
          ],
          "pie": [
           {
            "automargin": true,
            "type": "pie"
           }
          ],
          "scatter": [
           {
            "fillpattern": {
             "fillmode": "overlay",
             "size": 10,
             "solidity": 0.2
            },
            "type": "scatter"
           }
          ],
          "scatter3d": [
           {
            "line": {
             "colorbar": {
              "outlinewidth": 0,
              "ticks": ""
             }
            },
            "marker": {
             "colorbar": {
              "outlinewidth": 0,
              "ticks": ""
             }
            },
            "type": "scatter3d"
           }
          ],
          "scattercarpet": [
           {
            "marker": {
             "colorbar": {
              "outlinewidth": 0,
              "ticks": ""
             }
            },
            "type": "scattercarpet"
           }
          ],
          "scattergeo": [
           {
            "marker": {
             "colorbar": {
              "outlinewidth": 0,
              "ticks": ""
             }
            },
            "type": "scattergeo"
           }
          ],
          "scattergl": [
           {
            "marker": {
             "colorbar": {
              "outlinewidth": 0,
              "ticks": ""
             }
            },
            "type": "scattergl"
           }
          ],
          "scattermap": [
           {
            "marker": {
             "colorbar": {
              "outlinewidth": 0,
              "ticks": ""
             }
            },
            "type": "scattermap"
           }
          ],
          "scattermapbox": [
           {
            "marker": {
             "colorbar": {
              "outlinewidth": 0,
              "ticks": ""
             }
            },
            "type": "scattermapbox"
           }
          ],
          "scatterpolar": [
           {
            "marker": {
             "colorbar": {
              "outlinewidth": 0,
              "ticks": ""
             }
            },
            "type": "scatterpolar"
           }
          ],
          "scatterpolargl": [
           {
            "marker": {
             "colorbar": {
              "outlinewidth": 0,
              "ticks": ""
             }
            },
            "type": "scatterpolargl"
           }
          ],
          "scatterternary": [
           {
            "marker": {
             "colorbar": {
              "outlinewidth": 0,
              "ticks": ""
             }
            },
            "type": "scatterternary"
           }
          ],
          "surface": [
           {
            "colorbar": {
             "outlinewidth": 0,
             "ticks": ""
            },
            "colorscale": [
             [
              0,
              "#0d0887"
             ],
             [
              0.1111111111111111,
              "#46039f"
             ],
             [
              0.2222222222222222,
              "#7201a8"
             ],
             [
              0.3333333333333333,
              "#9c179e"
             ],
             [
              0.4444444444444444,
              "#bd3786"
             ],
             [
              0.5555555555555556,
              "#d8576b"
             ],
             [
              0.6666666666666666,
              "#ed7953"
             ],
             [
              0.7777777777777778,
              "#fb9f3a"
             ],
             [
              0.8888888888888888,
              "#fdca26"
             ],
             [
              1,
              "#f0f921"
             ]
            ],
            "type": "surface"
           }
          ],
          "table": [
           {
            "cells": {
             "fill": {
              "color": "#EBF0F8"
             },
             "line": {
              "color": "white"
             }
            },
            "header": {
             "fill": {
              "color": "#C8D4E3"
             },
             "line": {
              "color": "white"
             }
            },
            "type": "table"
           }
          ]
         },
         "layout": {
          "annotationdefaults": {
           "arrowcolor": "#2a3f5f",
           "arrowhead": 0,
           "arrowwidth": 1
          },
          "autotypenumbers": "strict",
          "coloraxis": {
           "colorbar": {
            "outlinewidth": 0,
            "ticks": ""
           }
          },
          "colorscale": {
           "diverging": [
            [
             0,
             "#8e0152"
            ],
            [
             0.1,
             "#c51b7d"
            ],
            [
             0.2,
             "#de77ae"
            ],
            [
             0.3,
             "#f1b6da"
            ],
            [
             0.4,
             "#fde0ef"
            ],
            [
             0.5,
             "#f7f7f7"
            ],
            [
             0.6,
             "#e6f5d0"
            ],
            [
             0.7,
             "#b8e186"
            ],
            [
             0.8,
             "#7fbc41"
            ],
            [
             0.9,
             "#4d9221"
            ],
            [
             1,
             "#276419"
            ]
           ],
           "sequential": [
            [
             0,
             "#0d0887"
            ],
            [
             0.1111111111111111,
             "#46039f"
            ],
            [
             0.2222222222222222,
             "#7201a8"
            ],
            [
             0.3333333333333333,
             "#9c179e"
            ],
            [
             0.4444444444444444,
             "#bd3786"
            ],
            [
             0.5555555555555556,
             "#d8576b"
            ],
            [
             0.6666666666666666,
             "#ed7953"
            ],
            [
             0.7777777777777778,
             "#fb9f3a"
            ],
            [
             0.8888888888888888,
             "#fdca26"
            ],
            [
             1,
             "#f0f921"
            ]
           ],
           "sequentialminus": [
            [
             0,
             "#0d0887"
            ],
            [
             0.1111111111111111,
             "#46039f"
            ],
            [
             0.2222222222222222,
             "#7201a8"
            ],
            [
             0.3333333333333333,
             "#9c179e"
            ],
            [
             0.4444444444444444,
             "#bd3786"
            ],
            [
             0.5555555555555556,
             "#d8576b"
            ],
            [
             0.6666666666666666,
             "#ed7953"
            ],
            [
             0.7777777777777778,
             "#fb9f3a"
            ],
            [
             0.8888888888888888,
             "#fdca26"
            ],
            [
             1,
             "#f0f921"
            ]
           ]
          },
          "colorway": [
           "#636efa",
           "#EF553B",
           "#00cc96",
           "#ab63fa",
           "#FFA15A",
           "#19d3f3",
           "#FF6692",
           "#B6E880",
           "#FF97FF",
           "#FECB52"
          ],
          "font": {
           "color": "#2a3f5f"
          },
          "geo": {
           "bgcolor": "white",
           "lakecolor": "white",
           "landcolor": "#E5ECF6",
           "showlakes": true,
           "showland": true,
           "subunitcolor": "white"
          },
          "hoverlabel": {
           "align": "left"
          },
          "hovermode": "closest",
          "mapbox": {
           "style": "light"
          },
          "paper_bgcolor": "white",
          "plot_bgcolor": "#E5ECF6",
          "polar": {
           "angularaxis": {
            "gridcolor": "white",
            "linecolor": "white",
            "ticks": ""
           },
           "bgcolor": "#E5ECF6",
           "radialaxis": {
            "gridcolor": "white",
            "linecolor": "white",
            "ticks": ""
           }
          },
          "scene": {
           "xaxis": {
            "backgroundcolor": "#E5ECF6",
            "gridcolor": "white",
            "gridwidth": 2,
            "linecolor": "white",
            "showbackground": true,
            "ticks": "",
            "zerolinecolor": "white"
           },
           "yaxis": {
            "backgroundcolor": "#E5ECF6",
            "gridcolor": "white",
            "gridwidth": 2,
            "linecolor": "white",
            "showbackground": true,
            "ticks": "",
            "zerolinecolor": "white"
           },
           "zaxis": {
            "backgroundcolor": "#E5ECF6",
            "gridcolor": "white",
            "gridwidth": 2,
            "linecolor": "white",
            "showbackground": true,
            "ticks": "",
            "zerolinecolor": "white"
           }
          },
          "shapedefaults": {
           "line": {
            "color": "#2a3f5f"
           }
          },
          "ternary": {
           "aaxis": {
            "gridcolor": "white",
            "linecolor": "white",
            "ticks": ""
           },
           "baxis": {
            "gridcolor": "white",
            "linecolor": "white",
            "ticks": ""
           },
           "bgcolor": "#E5ECF6",
           "caxis": {
            "gridcolor": "white",
            "linecolor": "white",
            "ticks": ""
           }
          },
          "title": {
           "x": 0.05
          },
          "xaxis": {
           "automargin": true,
           "gridcolor": "white",
           "linecolor": "white",
           "ticks": "",
           "title": {
            "standoff": 15
           },
           "zerolinecolor": "white",
           "zerolinewidth": 2
          },
          "yaxis": {
           "automargin": true,
           "gridcolor": "white",
           "linecolor": "white",
           "ticks": "",
           "title": {
            "standoff": 15
           },
           "zerolinecolor": "white",
           "zerolinewidth": 2
          }
         }
        },
        "title": {
         "text": "3D Chroma Vector Store Visualization"
        },
        "width": 900
       }
      }
     },
     "metadata": {},
     "output_type": "display_data"
    }
   ],
   "source": [
    "# Let's try 3D!\n",
    "\n",
    "tsne = TSNE(n_components=3, random_state=42)\n",
    "reduced_vectors = tsne.fit_transform(vectors)\n",
    "\n",
    "# Create the 3D scatter plot\n",
    "fig = go.Figure(data=[go.Scatter3d(\n",
    "    x=reduced_vectors[:, 0],\n",
    "    y=reduced_vectors[:, 1],\n",
    "    z=reduced_vectors[:, 2],\n",
    "    mode='markers',\n",
    "    marker=dict(size=5, color=colors, opacity=0.8),\n",
    "    text=[f\"Type: {t}<br>Text: {d[:100]}...\" for t, d in zip(doc_types, documents)],\n",
    "    hoverinfo='text'\n",
    ")])\n",
    "\n",
    "fig.update_layout(\n",
    "    title='3D Chroma Vector Store Visualization',\n",
    "    scene=dict(xaxis_title='x', yaxis_title='y', zaxis_title='z'),\n",
    "    width=900,\n",
    "    height=700,\n",
    "    margin=dict(r=20, b=10, l=10, t=40)\n",
    ")\n",
    "\n",
    "fig.show()"
   ]
  },
  {
   "cell_type": "markdown",
   "metadata": {},
   "source": [
    "## LangChain Code to Call OpenAI"
   ]
  },
  {
   "cell_type": "code",
   "execution_count": 13,
   "metadata": {},
   "outputs": [
    {
     "name": "stdout",
     "output_type": "stream",
     "text": [
      "Insurellm is an innovative insurance technology company founded in 2015 that develops digital platforms for various insurance lines, including auto, home, life, health, and commercial insurance. It focuses on providing modern, customer-centric insurance solutions through its suite of software products, operating primarily remotely with a lean team across the United States.\n"
     ]
    }
   ],
   "source": [
    "# create a new Chat with OpenAI\n",
    "llm = ChatOpenAI(temperature=0, model_name=MODEL)\n",
    "\n",
    "# how many chunks to provide in each prompt\n",
    "retriever = vectorstore.as_retriever(search_kwargs={\"k\": 5})\n",
    "\n",
    "# Simple prompt that includes chat history\n",
    "prompt = ChatPromptTemplate.from_messages([\n",
    "    (\"system\", \"Answer the question based on the context:\\n{context}\"),\n",
    "    (\"human\", \"{input}\")\n",
    "])\n",
    "\n",
    "# Create the chain\n",
    "question_answer_chain = create_stuff_documents_chain(llm, prompt)\n",
    "rag_chain = create_retrieval_chain(retriever, question_answer_chain)\n",
    "\n",
    "# Invoke it\n",
    "query = \"Please explain what Insurellm is in a couple of sentences\"\n",
    "result = rag_chain.invoke({\"input\": query})\n",
    "print(result[\"answer\"])"
   ]
  },
  {
   "cell_type": "markdown",
   "metadata": {},
   "source": [
    "# CHALLENGE:\n",
    "\n",
    "You will be changing or replacing 2 modules:\n",
    "\n",
    "`ingest.py`\n",
    "\n",
    "`answer.py`\n",
    "\n",
    "They are VERY simple! Let's look at them."
   ]
  },
  {
   "cell_type": "markdown",
   "metadata": {},
   "source": [
    "## Now check out ingest.py\n",
    "\n",
    "Then run at the terminal:\n",
    "\n",
    "`uv run ingest.py`"
   ]
  },
  {
   "cell_type": "code",
   "execution_count": 14,
   "metadata": {},
   "outputs": [
    {
     "name": "stdout",
     "output_type": "stream",
     "text": [
      "There are 205 vectors with 1,536 dimensions in the vector store\n",
      "Ingestion complete\n"
     ]
    }
   ],
   "source": [
    "!uv run ingest.py"
   ]
  },
  {
   "cell_type": "markdown",
   "metadata": {},
   "source": [
    "## Now check out answer.py"
   ]
  },
  {
   "cell_type": "code",
   "execution_count": 15,
   "metadata": {},
   "outputs": [
    {
     "data": {
      "text/plain": [
       "[Document(id='427af57a-c0d8-44ca-a5f0-5dd0a5626f69', metadata={'doc_type': 'employees', 'filename': 'Avery Lancaster', 'source': 'knowledge-base/employees/Avery Lancaster.md'}, page_content=\"Document Type: employees | Filename: Avery Lancaster\\n\\n## Other HR Notes\\n- **Professional Development**: Avery has actively participated in leadership training programs and industry conferences, representing Insurellm and fostering partnerships.  \\n- **Diversity & Inclusion Initiatives**: Avery has championed a commitment to diversity in hiring practices, seeing visible improvements in team representation since 2021.  \\n- **Work-Life Balance**: Feedback revealed concerns regarding work-life balance, which Avery has approached by implementing flexible working conditions and ensuring regular check-ins with the team.\\n- **Community Engagement**: Avery led community outreach efforts, focusing on financial literacy programs, particularly aimed at underserved populations, improving Insurellm's corporate social responsibility image.  \\n\\nAvery Lancaster has demonstrated resilience and adaptability throughout her career at Insurellm, positioning the company as a key player in the insurance technology landscape.\"),\n",
       " Document(id='a2e8deb7-0f6e-4093-9583-9c00e51d0332', metadata={'source': 'knowledge-base/employees/Avery Lancaster.md', 'doc_type': 'employees', 'filename': 'Avery Lancaster'}, page_content=\"Document Type: employees | Filename: Avery Lancaster\\n\\n# Avery Lancaster\\n\\n## Summary\\n- **Date of Birth**: March 15, 1985\\n- **Job Title**: Co-Founder & Chief Executive Officer (CEO)\\n- **Location**: San Francisco, California\\n- **Current Salary**: $225,000  \\n\\n## Insurellm Career Progression\\n- **2015 - Present**: Co-Founder & CEO  \\n  Avery Lancaster co-founded Insurellm in 2015 and has since guided the company to its current position as a leading Insurance Tech provider. Avery is known for her innovative leadership strategies and risk management expertise that have catapulted the company into the mainstream insurance market.  \\n\\n- **2013 - 2015**: Senior Product Manager at Innovate Insurance Solutions  \\n  Before launching Insurellm, Avery was a leading Senior Product Manager at Innovate Insurance Solutions, where she developed groundbreaking insurance products aimed at the tech sector.  \\n\\n- **2010 - 2013**: Business Analyst at Edge Analytics  \\n  Prior to joining Innovate, Avery worked as a Business Analyst, focusing on market trends and consumer preferences in the insurance space. This position laid the groundwork for Avery’s future entrepreneurial endeavors.\\n\\n## Annual Performance History\\n- **2015**: **Exceeds Expectations**  \\n  Avery’s leadership during Insurellm's foundational year led to successful product launches and securing initial funding.  \\n\\n- **2016**: **Meets Expectations**  \\n  Growth continued, though challenges arose in operational efficiency that required Avery's attention.  \\n\\n- **2017**: **Developing**  \\n  Market competition intensified, and monthly sales metrics were below targets. Avery implemented new strategies which required a steep learning curve.  \\n\\n- **2018**: **Exceeds Expectations**  \\n  Under Avery’s pivoted vision, Insurellm launched two new successful products that significantly increased market share.  \\n\\n- **2019**: **Meets Expectations**  \\n  Steady growth, however, some team tensions led to a minor drop in employee morale. Avery recognized the need to enhance company culture.\"),\n",
       " Document(id='bb394ce0-ee76-4f34-ac32-4cca3b80a148', metadata={'source': 'knowledge-base/employees/Avery Lancaster.md', 'doc_type': 'employees', 'filename': 'Avery Lancaster'}, page_content=\"Document Type: employees | Filename: Avery Lancaster\\n\\n- **2019**: **Meets Expectations**  \\n  Steady growth, however, some team tensions led to a minor drop in employee morale. Avery recognized the need to enhance company culture.  \\n\\n- **2020**: **Below Expectations**  \\n  The COVID-19 pandemic posed unforeseen operational difficulties. Avery faced criticism for delayed strategy shifts, although efforts were eventually made to stabilize the company.  \\n\\n- **2021**: **Exceptional**  \\n  Avery's decisive transition to remote work and rapid adoption of digital tools led to record-high customer satisfaction levels and increased sales.  \\n\\n- **2022**: **Satisfactory**  \\n  Avery focused on rebuilding team dynamics and addressing employee concerns, leading to overall improvement despite a saturated market.  \\n\\n- **2023**: **Exceeds Expectations**  \\n  Market leadership was regained with innovative approaches to personalized insurance solutions. Avery is now recognized in industry publications as a leading voice in Insurance Tech innovation.\\n\\n## Compensation History\\n- **2015**: $150,000 base salary + Significant equity stake  \\n- **2016**: $160,000 base salary + Equity increase  \\n- **2017**: $150,000 base salary + Decrease in bonus due to performance  \\n- **2018**: $180,000 base salary + performance bonus of $30,000  \\n- **2019**: $185,000 base salary + market adjustment + $5,000 bonus  \\n- **2020**: $170,000 base salary (temporary reduction due to COVID-19)  \\n- **2021**: $200,000 base salary + performance bonus of $50,000  \\n- **2022**: $210,000 base salary + retention bonus  \\n- **2023**: $225,000 base salary + $75,000 performance bonus\"),\n",
       " Document(id='ed4fa749-f952-4c49-a433-e7f59f2f14d8', metadata={'source': 'knowledge-base/employees/Lisa Anderson.md', 'filename': 'Lisa Anderson', 'doc_type': 'employees'}, page_content='Document Type: employees | Filename: Lisa Anderson\\n\\n## Other HR Notes\\n- **Education:** MBA in Marketing from University of Texas at Austin, BA in Communications\\n- **Certifications:** Google Analytics Certified, HubSpot Marketing Automation Expert\\n- **Recognition:** Marketing Excellence Award 2023, led award-winning rebranding campaign\\n- **Team Leadership:** Manages team of 5 marketing specialists. Known for developing talent and creating high-performing culture.\\n- **Skills:** Expert in demand generation, content marketing, marketing analytics, marketing automation (HubSpot, Marketo), and brand strategy\\n- **Feedback:** Strategic marketing leader with strong analytical skills and creative vision. Excellent cross-functional collaborator who drives measurable business results.'),\n",
       " Document(id='7f0ba948-f5d8-4782-94c7-04f39718104b', metadata={'doc_type': 'employees', 'source': 'knowledge-base/employees/Alex Thomson.md', 'filename': 'Alex Thomson'}, page_content='Document Type: employees | Filename: Alex Thomson\\n\\n## Other HR Notes\\n- Alex Thomson is an active member of the Diversity and Inclusion committee at Insurellm and has participated in various community outreach programs.  \\n- Alex has received external training on advanced CRM usage, which has subsequently improved team efficiency and productivity.\\n- Continuous professional development through attending sales conventions and workshops, with plans to pursue certification in Sales Enablement in 2024.\\n- Recognized by peers for promoting a supportive and high-energy team environment, often organizing team-building activities to enhance camaraderie within the SDR department. \\n\\n--- \\n**Comment:** Alex Thomson is considered a cornerstone of Insurellm’s sales team and has a bright future within the organization.'),\n",
       " Document(id='017b5eda-6ff7-410f-af6e-8647b53edd49', metadata={'filename': 'Jordan Blake', 'source': 'knowledge-base/employees/Jordan Blake.md', 'doc_type': 'employees'}, page_content='Document Type: employees | Filename: Jordan Blake\\n\\n## Other HR Notes\\n- Jordan has shown an interest in continuing education, actively participating in company-sponsored sales webinars.  \\n- Notable for involvement in the Insurellm volunteer program, assisting local charity events related to financial literacy.  \\n- Employee wellness advocate, consistently promotes team bonding activities and stress-relief workshops.  \\n- Plans to enroll in a course for advanced sales strategies in Q4 2023, aiming to further enhance his skills at Insurellm.'),\n",
       " Document(id='907045ee-bae7-4141-a6a9-e0fced3aec6b', metadata={'source': 'knowledge-base/employees/Alex Chen.md', 'filename': 'Alex Chen', 'doc_type': 'employees'}, page_content=\"Document Type: employees | Filename: Alex Chen\\n\\n## Other HR Notes\\n- Participates regularly in Insurellm's Diversity & Inclusion initiatives, championing tech accessibility for underrepresented communities.\\n- Completed several certifications in cloud architecture and DevOps, contributing to professional growth.\\n- Plans for a professional development course in AI and machine learning to further enhance backend capabilities in Insurellm's offerings.\\n- Acknowledged for volunteer efforts in local tech meetups, bringing seasoned engineers to mentor aspiring coders.  \\n\\nAlex Chen continues to be a vital asset at Insurellm, contributing significantly to innovative backend solutions that help shape the future of insurance technology.\"),\n",
       " Document(id='56ddc36a-446d-4bc4-b237-45562ce9b7a6', metadata={'source': 'knowledge-base/employees/Emily Carter.md', 'filename': 'Emily Carter', 'doc_type': 'employees'}, page_content=\"Document Type: employees | Filename: Emily Carter\\n\\n## Other HR Notes\\n- **Professional Development:** Emily is currently enrolled in a leadership training program to enhance her management skills and aims to move into a senior account role within the next 2 years.  \\n- **Volunteer Work:** Actively participates in community outreach programs, representing Insurellm in charity events to promote corporate social responsibility.  \\n- **Interests:** In her spare time, Emily enjoys hiking, photography, and volunteering at local animal shelters.  \\n- **Team Feedback:** Colleagues describe Emily as a highly motivated team player who consistently uplifts everyone around her.  \\n\\nEmily Carter exemplifies the kind of talent that drives Insurellm's success and is an invaluable asset to the company.\"),\n",
       " Document(id='e3b52481-eb98-49ef-ba6a-a4eadd2b5d88', metadata={'source': 'knowledge-base/employees/David Kim.md', 'filename': 'David Kim', 'doc_type': 'employees'}, page_content='Document Type: employees | Filename: David Kim\\n\\n## Other HR Notes\\n- **Certifications:** AWS Certified Solutions Architect (2022), Certified Kubernetes Administrator (2023)\\n- **Training:** Completed advanced Docker and container orchestration courses. Currently pursuing AWS DevOps Professional certification.\\n- **On-Call Rotation:** Participates in weekly on-call rotation for production systems.\\n- **Feedback:** Technically strong with excellent problem-solving abilities. Working on improving communication with non-technical stakeholders.'),\n",
       " Document(id='9370c9a4-c393-4d45-bd50-6f20dbbb9203', metadata={'filename': 'about', 'doc_type': 'company', 'source': 'knowledge-base/company/about.md'}, page_content=\"Document Type: company | Filename: about\\n\\nCombined with continued growth in the original product lines (Carllm, Homellm, Markellm, and Rellm), Insurellm now serves clients ranging from regional insurers to global reinsurance partners, demonstrating the company's ability to compete across the entire insurance value chain.\"),\n",
       " Document(id='1abf65c7-d5c1-4ed0-8e83-94b22cdd8baf', metadata={'source': 'knowledge-base/employees/Amanda Foster.md', 'filename': 'Amanda Foster', 'doc_type': 'employees'}, page_content='Document Type: employees | Filename: Amanda Foster\\n\\n# HR Record\\n\\n# Amanda Foster\\n\\n## Summary\\n- **Date of Birth:** August 14, 1982\\n- **Job Title:** HR Business Partner\\n- **Location:** San Francisco, California\\n- **Current Salary:** $115,000\\n\\n## Insurellm Career Progression\\n- **September 2016 - Present:** HR Business Partner\\n  - Partners with engineering and product leadership teams\\n  - Supports 85 employees across multiple departments\\n  - Leads talent acquisition strategy for technical roles\\n  - Drives performance management and organizational development initiatives\\n\\n- **March 2013 - August 2016:** Senior HR Generalist at TechVentures Inc.\\n  - Managed full-cycle HR operations for 150-person startup\\n  - Led benefits administration and employee relations\\n\\n- **June 2009 - February 2013:** HR Coordinator at Enterprise Corp.\\n  - Supported recruiting and onboarding processes\\n  - Assisted with HR compliance and policy implementation\\n\\n## Annual Performance History\\n- **2023:** Rating: 4.5/5\\n  *Strong performance. Successfully led diversity hiring initiative resulting in 40% increase in underrepresented candidates. Effective partner to leadership.*\\n\\n- **2022:** Rating: 4.3/5\\n  *Exceeded expectations. Implemented new performance review system well-received by employees. Strong employee relations skills.*\\n\\n- **2021:** Rating: 4.0/5\\n  *Good performance. Managed challenging employee situations effectively. Supported smooth remote-to-hybrid transition.*\\n\\n- **2020:** Rating: 3.7/5\\n  *Solid performance during unprecedented pandemic challenges. Helped navigate layoffs and policy changes with empathy.*\\n\\n- **2019:** Rating: 4.2/5\\n  *Strong year. Improved hiring velocity for engineering roles by 35%. Built strong relationships with department heads.*\\n\\n- **2018:** Rating: 4.1/5\\n  *Good performance. Successfully scaled HR support as company grew rapidly.*\\n\\n- **2017:** Rating: 3.9/5\\n  *Solid first full year. Learning Insurellm culture and building credibility with leadership.*'),\n",
       " Document(id='1067e968-5e59-4a93-a521-8881123fec3e', metadata={'source': 'knowledge-base/employees/Oliver Spencer.md', 'filename': 'Oliver Spencer', 'doc_type': 'employees'}, page_content='Document Type: employees | Filename: Oliver Spencer\\n\\n# HR Record\\n\\n# Oliver Spencer\\n\\n## Summary\\n- **Date of Birth**: May 14, 1990\\n- **Job Title**: Backend Software Engineer\\n- **Location**: Austin, Texas\\n- **Current Salary**: $125,000  \\n\\n## Insurellm Career Progression\\n- **March 2018**: Joined Insurellm as a Backend Developer I, focusing on API development for customer management systems.\\n- **July 2019**: Promoted to Backend Developer II after successfully leading a team project to revamp the claims processing system, reducing response time by 30%.\\n- **June 2021**: Transitioned to Backend Software Engineer with a broader role in architecture and system design, collaborating closely with the DevOps team.\\n- **September 2022**: Assigned as the lead engineer for the new \"Innovate\" initiative, aimed at integrating AI-driven solutions into existing products.\\n- **January 2023**: Awarded a mentorship role to guide new hires in backend technology and best practices within Insurellm.\\n\\n## Annual Performance History\\n- **2018**: **3/5** - Adaptable team player but still learning to take initiative.\\n- **2019**: **4/5** - Demonstrated strong problem-solving skills, outstanding contribution on the claims project.\\n- **2020**: **2/5** - Struggled with time management; fell behind on deadlines during a high-traffic release period.\\n- **2021**: **4/5** - Made a significant turnaround with organized work habits and successful project management.\\n- **2022**: **5/5** - Exceptional performance during the \"Innovate\" initiative, showcasing leadership and creativity.\\n- **2023**: **3/5** - Maintaining steady work; expectations for innovation not fully met, leading to discussions about goals.')]"
      ]
     },
     "execution_count": 15,
     "metadata": {},
     "output_type": "execute_result"
    }
   ],
   "source": [
    "from answer import fetch_context, answer_question\n",
    "\n",
    "fetch_context(\"Who is Avery?\")"
   ]
  },
  {
   "cell_type": "code",
   "execution_count": 16,
   "metadata": {},
   "outputs": [
    {
     "data": {
      "text/markdown": [
       "Avery Lancaster is a prominent figure at Insurellm, serving as the Co-Founder and Chief Executive Officer (CEO). She co-founded the company in 2015 and has been instrumental in guiding its growth into a leading Insurance Tech provider. Based in San Francisco, California, Avery has demonstrated resilience and adaptability throughout her career, positioning Insurellm as a key player in the insurance technology landscape.\n",
       "\n",
       "Her career prior to Insurellm includes roles such as Senior Product Manager at Innovate Insurance Solutions and Business Analyst at Edge Analytics. Avery's leadership has been recognized through her annual performance ratings, with notable achievements including exceeding expectations in 2018 and 2023, and an exceptional rating in 2021.\n",
       "\n",
       "Avery's compensation has evolved over the years, with her current salary at $225,000, complemented by performance bonuses. She has actively participated in professional development, leadership training, and industry conferences, and has championed diversity and inclusion initiatives within the company.\n",
       "\n",
       "Overall, Avery Lancaster's leadership and strategic vision have been pivotal in establishing Insurellm's reputation and success in the insurance technology sector."
      ],
      "text/plain": [
       "<IPython.core.display.Markdown object>"
      ]
     },
     "metadata": {},
     "output_type": "display_data"
    }
   ],
   "source": [
    "result, chunks = await answer_question(\"Who is Avery?\")\n",
    "display(Markdown(result))"
   ]
  },
  {
   "cell_type": "markdown",
   "metadata": {},
   "source": [
    "## Now check out app.py\n",
    "\n",
    "As long as you keep the same 2 functions in `answer.py`, this UI will keep working!!"
   ]
  },
  {
   "cell_type": "code",
   "execution_count": 17,
   "metadata": {},
   "outputs": [],
   "source": [
    "#!uv run app.py"
   ]
  },
  {
   "cell_type": "markdown",
   "metadata": {},
   "source": [
    "## OK - Now it's time to EVALUATE!\n",
    "\n",
    "### First check out tests.jsonl for all the questions\n",
    "\n",
    "And see how it's loaded in test.py\n"
   ]
  },
  {
   "cell_type": "code",
   "execution_count": 18,
   "metadata": {},
   "outputs": [
    {
     "name": "stdout",
     "output_type": "stream",
     "text": [
      "150\n",
      "question='Who won the prestigious IIOTY award in 2023?' keywords=['Maxine', 'Thompson', 'IIOTY'] reference_answer='Maxine Thompson won the prestigious Insurellm Innovator of the Year (IIOTY) award in 2023.' category='direct_fact'\n",
      "question='How many Claimllm contracts does Insurellm have?' keywords=['7', 'Claimllm'] reference_answer='Insurellm has 7 contracts for Claimllm, ranging from independent adjusting firms to enterprise claims networks.' category='direct_fact'\n"
     ]
    }
   ],
   "source": [
    "from test import load_tests\n",
    "\n",
    "test_data = load_tests()\n",
    "\n",
    "print(len(test_data))\n",
    "print(test_data[0])\n",
    "print(test_data[10])\n",
    "\n"
   ]
  },
  {
   "cell_type": "code",
   "execution_count": 19,
   "metadata": {},
   "outputs": [
    {
     "name": "stdout",
     "output_type": "stream",
     "text": [
      "{'comparative', 'spanning', 'direct_fact', 'temporal', 'numerical', 'holistic', 'relationship'}\n"
     ]
    }
   ],
   "source": [
    "print(set(test.category for test in test_data))\n"
   ]
  },
  {
   "cell_type": "markdown",
   "metadata": {},
   "source": [
    "## Now take a look at eval.py\n",
    "\n",
    "test_data[0] is a very hard question that it sometimes gets wrong  \n",
    "test_data[1] is an easy question"
   ]
  },
  {
   "cell_type": "code",
   "execution_count": 20,
   "metadata": {},
   "outputs": [
    {
     "data": {
      "text/plain": [
       "RetrievalEval(mrr=1.0, ndcg=0.9837339917445846, keywords_found=2, total_keywords=2, keyword_coverage=100.0)"
      ]
     },
     "execution_count": 20,
     "metadata": {},
     "output_type": "execute_result"
    }
   ],
   "source": [
    "from eval import evaluate_retrieval, evaluate_answer\n",
    "\n",
    "evaluate_retrieval(test_data[1])"
   ]
  },
  {
   "cell_type": "code",
   "execution_count": 21,
   "metadata": {},
   "outputs": [
    {
     "data": {
      "text/plain": [
       "(AnswerEval(feedback='The answer does not address the fact that Maxine Thompson won the IIOTY award in 2023, as stated in the reference.', accuracy=1.0, completeness=2.0, relevance=1.0),\n",
       " \"I'm sorry, but I don't have information about the recipient of the 2023 IIOTY award or the details regarding the award's significance. If you have any other questions about Insurellm or related topics, I'd be happy to help!\",\n",
       " [Document(id='a25b8fbd-0900-440c-8d6e-55d0a1df10b1', metadata={'filename': 'James Wilson', 'source': 'knowledge-base/employees/James Wilson.md', 'doc_type': 'employees'}, page_content=\"Document Type: employees | Filename: James Wilson\\n\\n- **2020:** Rating: 4.4/5\\n  *Strong performance during challenging year. Successfully pivoted technology strategy for remote-first world.*\\n\\n- **2019:** Rating: 4.8/5\\n  *Exceptional leadership. Scaled engineering organization effectively while maintaining quality and culture.*\\n\\n- **2018:** Rating: 4.5/5\\n  *Excellent year with successful cloud migration. Strong technical vision and execution.*\\n\\n- **2017:** Rating: 4.3/5\\n  *Strong start as CTO. Quickly assessed technical landscape and began strategic improvements.*\\n\\n## Compensation History\\n- **2023:** Base Salary: $285,000 + Bonus: $125,000 + Equity refresh\\n- **2022:** Base Salary: $270,000 + Bonus: $110,000 + Equity refresh\\n- **2021:** Base Salary: $255,000 + Bonus: $100,000\\n- **2020:** Base Salary: $240,000 + Bonus: $85,000\\n- **2019:** Base Salary: $225,000 + Bonus: $95,000\\n- **2018:** Base Salary: $210,000 + Bonus: $80,000\\n- **2017:** Base Salary: $195,000 + Bonus: $70,000 + Significant equity grant\\n\\n## Other HR Notes\\n- **Education:** MS in Computer Science from MIT, BS in Computer Engineering from Stanford University\\n- **Board Participation:** Serves on technical advisory board for two InsurTech startups\\n- **Industry Recognition:** Named to InsureTech 100 list (2021, 2022, 2023), speaker at major technology conferences\\n- **Patents:** 5 patents in distributed systems and insurance technology\\n- **Leadership:** Known for building high-performing teams and fostering innovation culture. Strong mentor to technical leaders.\\n- **Strategic Impact:** Transformed Insurellm's technology from legacy systems to modern cloud-native architecture. Key architect of AI strategy.\\n- **Feedback:** Visionary technology leader with exceptional strategic thinking and execution capabilities. Trusted partner to CEO and board. Critical to company's technical success and future growth.\"),\n",
       "  Document(id='2b1daf6c-a6e6-4800-8b7c-d784c042aa68', metadata={'filename': 'James Wilson', 'source': 'knowledge-base/employees/James Wilson.md', 'doc_type': 'employees'}, page_content='Document Type: employees | Filename: James Wilson\\n\\n# HR Record\\n\\n# James Wilson\\n\\n## Summary\\n- **Date of Birth:** April 5, 1978\\n- **Job Title:** Chief Technology Officer (CTO)\\n- **Location:** San Francisco, California\\n- **Current Salary:** $285,000\\n\\n## Insurellm Career Progression\\n- **January 2017 - Present:** Chief Technology Officer\\n  - Reports directly to CEO, member of executive leadership team\\n  - Oversees all technology strategy and engineering operations\\n  - Manages 85-person engineering, product, and data organization\\n  - Led company through major platform modernization and cloud migration\\n  - Drove adoption of AI/ML capabilities across product suite\\n\\n- **March 2012 - December 2016:** VP of Engineering at TechScale Inc.\\n  - Built and scaled engineering organization from 15 to 60 engineers\\n  - Led product development for B2B SaaS platform\\n  - Drove technical strategy and architecture decisions\\n\\n- **June 2008 - February 2012:** Senior Engineering Manager at CloudSoft Corp.\\n  - Managed multiple engineering teams\\n  - Delivered major platform features and infrastructure improvements\\n\\n- **August 2003 - May 2008:** Software Architect at Enterprise Systems Inc.\\n  - Designed large-scale distributed systems\\n  - Led technical architecture for critical business applications\\n\\n## Annual Performance History\\n- **2023:** Rating: 4.9/5\\n  *Outstanding performance. Successfully led AI transformation initiative. Exceptional strategic leadership and team building. Key driver of company growth.*\\n\\n- **2022:** Rating: 4.7/5\\n  *Exceeded expectations. Strong execution on platform modernization. Improved engineering productivity and velocity significantly.*\\n\\n- **2021:** Rating: 4.6/5\\n  *Excellent performance navigating remote transition. Built strong engineering culture and maintained high delivery standards.*\\n\\n- **2020:** Rating: 4.4/5\\n  *Strong performance during challenging year. Successfully pivoted technology strategy for remote-first world.*'),\n",
       "  Document(id='c11e9ca4-53c8-408b-ad3a-cad7ddff5b26', metadata={'filename': 'Bizllm', 'doc_type': 'products', 'source': 'knowledge-base/products/Bizllm.md'}, page_content=\"Document Type: products | Filename: Bizllm\\n\\nAll tiers include implementation services, staff training, and continuous platform updates.\\n\\n## Roadmap\\n\\nBizllm's forward-looking development roadmap includes:\\n\\n- **Q2 2025:** Launch of Bizllm version 1.0 with core multi-line underwriting, quoting, and policy administration.\\n- **Q4 2025:** Introduction of enhanced cyber insurance capabilities including active threat monitoring and breach response coordination.\\n- **Q2 2026:** Release of embedded IoT integration for real-time risk monitoring in property and workers' comp lines.\\n- **Q4 2026:** Launch of parametric insurance module enabling rapid payout triggers for weather events and business interruption.\\n- **Q2 2027:** Introduction of climate risk modeling tools incorporating forward-looking environmental data and transition risk analysis.\\n- **Q4 2027:** Expansion into international markets with country-specific commercial insurance products and regulatory compliance.\\n\\nBizllm empowers commercial insurers to compete effectively in complex markets while delivering the digital experiences today's business customers demand. Transform your commercial insurance operations with Bizllm!\"),\n",
       "  Document(id='db1bf55f-3e59-44e7-9ab5-c38b17b4cace', metadata={'filename': 'Contract with SafeHaven Property Insurance for Homellm', 'source': 'knowledge-base/contracts/Contract with SafeHaven Property Insurance for Homellm.md', 'doc_type': 'contracts'}, page_content=\"Document Type: contracts | Filename: Contract with SafeHaven Property Insurance for Homellm\\n\\n8. **IoT and Innovation Support:**\\n   - Quarterly IoT strategy sessions\\n   - New smart home device evaluation and integration\\n   - Pilot programs for emerging technologies\\n   - Consumer education materials for IoT programs\\n   - Marketing campaign support for smart home initiatives\\n\\n9. **Catastrophe Response:**\\n   - Dedicated CAT support during disaster events\\n   - Pre-CAT system preparation and testing\\n   - Real-time claims surge capacity support\\n   - Post-CAT analysis and lessons learned\\n   - Annual CAT preparedness drills\\n\\n10. **Continuous Improvement:**\\n    - Quarterly process optimization workshops\\n    - Annual efficiency audits with ROI documentation\\n    - Best practice sharing from insurance industry\\n    - Innovation lab for climate risk, AI, and IoT\\n    - Joint whitepapers and case studies\\n    - Speaking opportunities at industry events\\n\\n---\\n\\n**Signatures:**\\n\\n_________________________________\\n**Jennifer Rodriguez**\\n**Title**: Chief Executive Officer\\n**Insurellm, Inc.**\\n**Date**: May 3, 2025\\n\\n_________________________________\\n**Laura Mitchell**\\n**Title**: President & Chief Executive Officer\\n**SafeHaven Property Insurance, Inc.**\\n**Date**: May 3, 2025\\n\\n---\\n\\nThis agreement establishes SafeHaven Property Insurance as a leading enterprise partner in property insurance innovation, leveraging Homellm's AI, IoT integration, and catastrophe management capabilities. This contract supersedes all prior agreements.\"),\n",
       "  Document(id='8fe6dc3f-8a80-4c80-9e4d-5d4a527a4b5c', metadata={'doc_type': 'products', 'filename': 'Healthllm', 'source': 'knowledge-base/products/Healthllm.md'}, page_content=\"Document Type: products | Filename: Healthllm\\n\\nAll plans include implementation support, staff training, and ongoing platform enhancements.\\n\\n## Roadmap\\n\\nHealthllm's strategic development roadmap includes:\\n\\n- **Q1 2025:** Launch of Healthllm version 1.0 featuring core claims processing, eligibility verification, and member portal.\\n- **Q3 2025:** Introduction of predictive analytics module for population health management and risk stratification.\\n- **Q1 2026:** Release of advanced AI claims adjudication with automated fraud detection and payment optimization.\\n- **Q3 2026:** Launch of social determinants of health (SDOH) integration, enabling holistic member care and targeted interventions.\\n- **Q1 2027:** Introduction of value-based care management tools supporting ACO and bundled payment models.\\n- **Q3 2027:** Global expansion with international healthcare system integrations and multi-language support.\\n\\nHealthllm represents Insurellm's commitment to transforming health insurance through technology that improves outcomes for insurers, providers, and members alike. Join us in building the future of health insurance!\"),\n",
       "  Document(id='95eda8f3-dd8f-4079-9606-5ec17363e195', metadata={'doc_type': 'contracts', 'source': 'knowledge-base/contracts/Contract with DriveSmart Insurance for Carllm.md', 'filename': 'Contract with DriveSmart Insurance for Carllm'}, page_content=\"Document Type: contracts | Filename: Contract with DriveSmart Insurance for Carllm\\n\\n8. **Continuous Improvement:**\\n   - Quarterly optimization workshops\\n   - Annual efficiency audits\\n   - Best practice sharing\\n   - Innovation lab for emerging tech (AI, IoT, connected cars)\\n\\n---\\n\\n**Signatures:**\\n\\n_________________________________\\n**Jennifer Rodriguez**\\n**Title**: Chief Executive Officer\\n**Insurellm, Inc.**\\n**Date**: March 20, 2025\\n\\n_________________________________\\n**Steven Brooks**\\n**Title**: President & Chief Operating Officer\\n**DriveSmart Insurance Corp.**\\n**Date**: March 20, 2025\\n\\n---\\n\\nThis agreement establishes DriveSmart Insurance as a premier enterprise partner leveraging Carllm's advanced AI and telematics capabilities to transform auto insurance operations. This contract supersedes all prior agreements.\"),\n",
       "  Document(id='f56c64ee-40c1-43f5-9c44-a0d898283cc5', metadata={'doc_type': 'contracts', 'source': 'knowledge-base/contracts/Contract with Guardian Life Partners for Lifellm.md', 'filename': 'Contract with Guardian Life Partners for Lifellm'}, page_content=\"Document Type: contracts | Filename: Contract with Guardian Life Partners for Lifellm\\n\\n_________________________________\\n**Jonathan Park**\\n**Title**: President & CEO\\n**Guardian Life Partners**\\n**Date**: March 1, 2025\\n\\n---\\n\\n*This contract establishes Guardian Life Partners as a strategic partner leveraging Lifellm's advanced AI underwriting and digital health integration to modernize life insurance operations.*\"),\n",
       "  Document(id='e894966f-e12f-45a8-8aac-d9f9a7183ce6', metadata={'doc_type': 'employees', 'filename': 'Priya Sharma', 'source': 'knowledge-base/employees/Priya Sharma.md'}, page_content='Document Type: employees | Filename: Priya Sharma\\n\\n- **2018:** Rating: 4.2/5\\n  *Solid first year. Quick to understand insurance domain and apply ML expertise effectively.*\\n\\n## Compensation History\\n- **2023:** Base Salary: $145,000 + Bonus: $25,000\\n- **2022:** Base Salary: $138,000 + Bonus: $22,000\\n- **2021:** Base Salary: $130,000 + Bonus: $20,000\\n- **2020:** Base Salary: $122,000 + Bonus: $18,000\\n- **2019:** Base Salary: $115,000 + Bonus: $15,000\\n- **2018:** Base Salary: $108,000 + Bonus: $12,000\\n\\n## Other HR Notes\\n- **Education:** PhD in Computer Science (Machine Learning) from Stanford University\\n- **Publications:** 7+ peer-reviewed papers in ML conferences and journals\\n- **Speaking:** Regular speaker at ML and InsurTech conferences. Represented Insurellm at 4 major conferences in 2023.\\n- **Patents:** Co-inventor on 2 pending patents for insurance ML applications\\n- **Recognition:** Data Science Excellence Award 2023, featured in InsureTech Innovation Magazine\\n- **Skills:** Expert in Python, TensorFlow, PyTorch, scikit-learn, SQL, and cloud ML platforms\\n- **Feedback:** World-class technical talent with strong business acumen. Natural leader who elevates entire team. Key retention priority.'),\n",
       "  Document(id='b61da52f-8db9-43cb-8335-16467a58edd8', metadata={'doc_type': 'products', 'source': 'knowledge-base/products/Lifellm.md', 'filename': 'Lifellm'}, page_content='Document Type: products | Filename: Lifellm\\n\\nAll tiers include comprehensive onboarding, training programs, and regular platform updates.\\n\\n## Roadmap\\n\\nThe development roadmap for Lifellm includes these strategic milestones:\\n\\n- **Q2 2025:** Launch of Lifellm version 1.0 with core AI underwriting and policy management capabilities.\\n- **Q4 2025:** Introduction of digital health platform integrations with major wearable device manufacturers and health app providers.\\n- **Q2 2026:** Release of Lifellm version 2.0 featuring enhanced predictive modeling, genetic risk assessment capabilities, and blockchain-based policy verification.\\n- **Q4 2026:** Launch of embedded life insurance API allowing partners to offer life coverage within their own platforms and applications.\\n- **Q2 2027:** Expansion into international markets with localized regulatory compliance features and multi-currency support.\\n\\nWith Lifellm, Insurellm is transforming life insurance into a modern, customer-centric experience that benefits both insurers and policyholders. Experience the future of life insurance technology today!'),\n",
       "  Document(id='f24184ee-b20d-4dc2-bb83-d05e4cba43bd', metadata={'filename': 'Carllm', 'source': 'knowledge-base/products/Carllm.md', 'doc_type': 'products'}, page_content='Document Type: products | Filename: Carllm\\n\\n### Q3 2025: Global Expansion\\n- Begin pilot programs for international insurance markets.\\n- Collaborate with local insurers to offer compliant, localized versions of Carllm.\\n\\n### Q4 2025: AI and Machine Learning Upgrades\\n- Implement next-gen machine learning models for predictive analysis.\\n- Roll out customer insights dashboard updates based on user feedback.\\n\\n### 2026: Scaling and Partnerships\\n- Increase partnerships with automakers for integrated insurance solutions.\\n- Enhance the **AI customer support system** to include multi-language support.\\n\\nCarllm is not just an auto insurance product; it is a transformative tool for the insurance industry. Join us on this exciting journey as we redefine the future of auto insurance with technology and customer-centric solutions.'),\n",
       "  Document(id='9e7bd665-3b6a-4fee-a5d1-f5a1dd8ee123', metadata={'source': 'knowledge-base/company/culture.md', 'doc_type': 'company', 'filename': 'culture'}, page_content=\"Document Type: company | Filename: culture\\n\\n## Employer Value Proposition\\n\\n**Build the Future of Insurance Technology with Elite Talent**\\n\\nAt Insurellm, you'll join an elite team of 32 exceptional professionals transforming a traditional industry with cutting-edge technology. After our strategic restructuring in 2022-2023, we evolved from a 200-person startup to a lean, high-performing organization where every person makes a significant impact. With 32 active contracts across all eight product lines—from regional insurers to global reinsurance partners—each team member directly influences technology used by thousands of insurance professionals and millions of consumers. We offer:\\n\\n- **Meaningful Impact**: Your work directly shapes products powering 32 active insurance operations, from commercial carriers to health plans to global reinsurance firms\\n- **Growth & Development**: Comprehensive professional development programs, mentorship opportunities, and clear career progression paths\\n- **Innovation Freedom**: Access to the latest technologies and the autonomy to experiment with new ideas\\n- **Work-Life Harmony**: Flexible working arrangements, generous PTO, and a culture that respects personal time\\n- **Competitive Rewards**: Market-leading compensation, equity participation, comprehensive benefits, and performance bonuses\\n- **Inclusive Environment**: A diverse team where every voice matters and different perspectives drive better solutions\\n- **Purpose-Driven Mission**: Be part of making insurance more accessible and fair for everyone\\n\\nJoin us in disrupting an industry and building technology that matters.\"),\n",
       "  Document(id='2ccd9ec0-bd62-4f9d-8a91-c697e3cc628a', metadata={'doc_type': 'products', 'source': 'knowledge-base/products/Homellm.md', 'filename': 'Homellm'}, page_content='Document Type: products | Filename: Homellm\\n\\nAll tiers include a comprehensive training program and ongoing updates to ensure optimal performance.\\n\\n## Roadmap\\nThe development roadmap for Homellm includes the following key milestones:\\n\\n- **Q1 2024:** Launch of Homellm version 1.0, featuring core functionalities and integrations.\\n- **Q3 2024:** Introduction of enhanced analytics capabilities, including visualization tools and advanced reporting features.\\n- **Q1 2025:** Release of Homellm version 2.0, with expanded predictive maintenance alerts and automated underwriting processes.\\n- **Q3 2025:** Establish partnerships with IoT device manufacturers to provide integrated solutions for proactive risk management.\\n- **Q1 2026:** Ongoing improvements based on user feedback and industry trends, ensuring that Homellm remains at the forefront of home insurance technology. \\n\\nWith Homellm, Insurellm is committed to transforming the landscape of home insurance, ensuring both innovation and reliability for all insurance providers and their customers. Explore the future of home insurance today with Homellm!')])"
      ]
     },
     "execution_count": 21,
     "metadata": {},
     "output_type": "execute_result"
    }
   ],
   "source": [
    "await evaluate_answer(test_data[0])"
   ]
  },
  {
   "cell_type": "markdown",
   "metadata": {},
   "source": [
    "## AND FINALLY - all come together in a UI"
   ]
  },
  {
   "cell_type": "code",
   "execution_count": 22,
   "metadata": {},
   "outputs": [
    {
     "name": "stdout",
     "output_type": "stream",
     "text": [
      "* Running on local URL:  http://127.0.0.1:7860\n",
      "* To create a public link, set `share=True` in `launch()`.\n",
      "^C\n",
      "Traceback (most recent call last):\n",
      "  File \"/Users/kinjal/projects/sds/.venv/lib/python3.12/site-packages/gradio/blocks.py\", line 2958, in block_thread\n",
      "    time.sleep(0.1)\n",
      "KeyboardInterrupt\n",
      "\n",
      "During handling of the above exception, another exception occurred:\n",
      "\n",
      "Traceback (most recent call last):\n",
      "  File \"/Users/kinjal/projects/sds/week2/evaluator.py\", line 237, in <module>\n",
      "    main()\n",
      "  File \"/Users/kinjal/projects/sds/week2/evaluator.py\", line 233, in main\n",
      "    app.launch(inbrowser=True)\n",
      "  File \"/Users/kinjal/projects/sds/.venv/lib/python3.12/site-packages/gradio/blocks.py\", line 2865, in launch\n",
      "    self.block_thread()\n",
      "  File \"/Users/kinjal/projects/sds/.venv/lib/python3.12/site-packages/gradio/blocks.py\", line 2962, in block_thread\n",
      "    self.server.close()\n",
      "  File \"/Users/kinjal/projects/sds/.venv/lib/python3.12/site-packages/gradio/http_server.py\", line 69, in close\n",
      "    self.thread.join(timeout=5)\n",
      "  File \"/Users/kinjal/.local/share/uv/python/cpython-3.12.11-macos-aarch64-none/lib/python3.12/threading.py\", line 1153, in join\n",
      "    self._wait_for_tstate_lock(timeout=max(timeout, 0))\n",
      "  File \"/Users/kinjal/.local/share/uv/python/cpython-3.12.11-macos-aarch64-none/lib/python3.12/threading.py\", line 1169, in _wait_for_tstate_lock\n",
      "    if lock.acquire(block, timeout):\n",
      "       ^^^^^^^^^^^^^^^^^^^^^^^^^^^^\n",
      "KeyboardInterrupt\n"
     ]
    }
   ],
   "source": [
    "!uv run evaluator.py"
   ]
  },
  {
   "cell_type": "markdown",
   "metadata": {},
   "source": [
    "## Ideas for your experiments\n",
    "\n",
    "### Quick wins\n",
    "\n",
    "- Experiment with the encoder\n",
    "- Experiment with chunking strategies\n",
    "\n",
    "### Big change ideas\n",
    "\n",
    "1. Pre-processing - use an LLM to rewrite (a) the chunks and/or (b) the questions / conversation history\n",
    "2. Hierarchical RAG - summarize at different levels and do RAG over summaries\n",
    "3. Tools!"
   ]
  },
  {
   "cell_type": "markdown",
   "metadata": {},
   "source": [
    "# 10 RAG Techniques\n",
    "\n",
    "1. **Chunking R&D:** experiment with chunking strategy to optimize for your commercial goal\n",
    "2. **Encoder R&D:** select the best Encoder model based on a test set\n",
    "3. **Improve Prompts:** general content, the current date, relevant context and history\n",
    "4. **Document pre-processing:** use an LLM to make the chunks and/or text for encoding\n",
    "5. **Query rewriting:** use an LLM to convert the user’s question to a RAG query\n",
    "6. **Query expansion:** use an LLM to turn the question into multiple RAG queries\n",
    "7. **Re-ranking:** use an LLM to sub-select from RAG results\n",
    "8. **Hierarchical:** use an LLM to summarize at multiple levels\n",
    "9. **Graph RAG:** retrieve content closely related to similar documents\n",
    "10. **Agentic RAG:** use Agents for retrieval, combining with Memory and Tools such as SQL\n"
   ]
  },
  {
   "cell_type": "markdown",
   "metadata": {},
   "source": [
    "2 hard questions that can be addressed with the above:\n",
    "\n",
    "- Who won the IIOTY award in 2023?\n",
    "\n",
    "- What proportion of employees have a salary over $90,000?\n",
    "\n"
   ]
  },
  {
   "cell_type": "markdown",
   "metadata": {},
   "source": []
  }
 ],
 "metadata": {
  "kernelspec": {
   "display_name": ".venv",
   "language": "python",
   "name": "python3"
  },
  "language_info": {
   "codemirror_mode": {
    "name": "ipython",
    "version": 3
   },
   "file_extension": ".py",
   "mimetype": "text/x-python",
   "name": "python",
   "nbconvert_exporter": "python",
   "pygments_lexer": "ipython3",
   "version": "3.12.11"
  }
 },
 "nbformat": 4,
 "nbformat_minor": 4
}
