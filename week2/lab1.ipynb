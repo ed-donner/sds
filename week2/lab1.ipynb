{
 "cells": [
  {
   "cell_type": "markdown",
   "metadata": {},
   "source": [
    "# Welcome to Core Session 2!\n",
    "\n",
    "## AGENDA\n",
    "\n",
    "1. LLMs and APIs - conclusion  \n",
    "  - Review of Week 1 via LiteLLM  \n",
    "  - Leaderboards: costs, context windows and capabilities  \n",
    "  - APIs at scale: Prompt caching & Batch APIs  \n",
    "2. Tools\n",
    "  - Exploring Tools Use aka Function Calling\n",
    "  - The FlightAI Airline Chatbot equipped with Tools\n",
    "  - Tools + SQL\n",
    "3. Introducing the Digital Twin\n",
    "  - Context\n",
    "  - Tools\n",
    "  - Assignments: security / prompt hardening; rate-limiting; adding RAG\n",
    "\n",
    "## New Approach\n",
    "\n",
    "- Interactive\n",
    "- More coding\n",
    "- Fewer slides..."
   ]
  },
  {
   "cell_type": "code",
   "execution_count": null,
   "metadata": {},
   "outputs": [],
   "source": [
    "# What is the meaning of life?\n",
    "\n"
   ]
  },
  {
   "cell_type": "code",
   "execution_count": null,
   "metadata": {},
   "outputs": [],
   "source": [
    "# And now try Command+K\n",
    "\n"
   ]
  },
  {
   "cell_type": "code",
   "execution_count": null,
   "metadata": {},
   "outputs": [],
   "source": []
  }
 ],
 "metadata": {
  "kernelspec": {
   "display_name": ".venv",
   "language": "python",
   "name": "python3"
  },
  "language_info": {
   "codemirror_mode": {
    "name": "ipython",
    "version": 3
   },
   "file_extension": ".py",
   "mimetype": "text/x-python",
   "name": "python",
   "nbconvert_exporter": "python",
   "pygments_lexer": "ipython3",
   "version": "3.12.9"
  }
 },
 "nbformat": 4,
 "nbformat_minor": 2
}
