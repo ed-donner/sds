{
 "cells": [
  {
   "cell_type": "markdown",
   "metadata": {},
   "source": [
    "# Lab 6\n",
    "\n",
    "Advanced APIs for Scale - Batching"
   ]
  },
  {
   "cell_type": "code",
   "execution_count": 1,
   "metadata": {},
   "outputs": [],
   "source": [
    "from dotenv import load_dotenv\n",
    "from openai import OpenAI\n",
    "load_dotenv(override=True)\n",
    "\n",
    "openai = OpenAI()\n"
   ]
  },
  {
   "cell_type": "code",
   "execution_count": 2,
   "metadata": {},
   "outputs": [],
   "source": [
    "questions = [\n",
    "    \"What is the capital of France?\",\n",
    "    \"What is the capital of Germany?\",\n",
    "    \"What is the capital of Italy?\",\n",
    "    \"What is the capital of Spain?\",\n",
    "    \"What is the capital of Portugal?\",\n",
    "    \"What is the capital of Greece?\",\n",
    "    \"What is the capital of Turkey?\",\n",
    "    \"What is the capital of Egypt?\",\n",
    "    \"What is the capital of South Africa?\",\n",
    "]"
   ]
  },
  {
   "cell_type": "markdown",
   "metadata": {},
   "source": [
    "## First step - Generate a jsonl file\n",
<<<<<<< Updated upstream
    "\n",
    "With this format:\n",
    "\n",
=======
    "\n",
    "With this format:\n",
    "\n",
>>>>>>> Stashed changes
    "```jsonl\n",
    "{\"custom_id\": \"request-1\", \"method\": \"POST\", \"url\": \"/v1/chat/completions\", \"body\": {\"model\": \"gpt-3.5-turbo-0125\", \"messages\": [{\"role\": \"system\", \"content\": \"You are a helpful assistant.\"},{\"role\": \"user\", \"content\": \"Hello world!\"}],\"max_tokens\": 1000}}\n",
    "{\"custom_id\": \"request-2\", \"method\": \"POST\", \"url\": \"/v1/chat/completions\", \"body\": {\"model\": \"gpt-3.5-turbo-0125\", \"messages\": [{\"role\": \"system\", \"content\": \"You are an unhelpful assistant.\"},{\"role\": \"user\", \"content\": \"Hello world!\"}],\"max_tokens\": 1000}}\n",
    "```"
   ]
  },
  {
   "cell_type": "code",
<<<<<<< Updated upstream
   "execution_count": null,
   "metadata": {},
   "outputs": [],
=======
   "execution_count": 3,
   "metadata": {},
   "outputs": [
    {
     "data": {
      "text/plain": [
       "'{\"custom_id\": \"request-0\", \"method\": \"POST\", \"url\": \"/v1/chat/completions\", \"body\": {\"model\": \"gpt-4.1-nano\", \"messages\": [{\"role\": \"user\", \"content\": \"What is the capital of France?\"}],\"max_tokens\": 1000}}'"
      ]
     },
     "execution_count": 3,
     "metadata": {},
     "output_type": "execute_result"
    }
   ],
>>>>>>> Stashed changes
   "source": [
    "def make_line(index):\n",
    "    question = questions[index]\n",
    "    return f'{{\"custom_id\": \"request-{index}\", \"method\": \"POST\", \"url\": \"/v1/chat/completions\", \"body\": {{\"model\": \"gpt-4.1-nano\", \"messages\": [{{\"role\": \"user\", \"content\": \"{question}\"}}],\"max_tokens\": 1000}}}}'\n",
    "\n",
    "\n",
    "make_line(0)"
   ]
  },
  {
   "cell_type": "code",
   "execution_count": 4,
<<<<<<< Updated upstream
   "metadata": {},
   "outputs": [],
   "source": [
    "with open(\"questions.jsonl\", \"w\", encoding=\"utf-8\") as f:\n",
    "    for i in range(len(questions)):\n",
    "        f.write(make_line(i) + \"\\n\")"
   ]
  },
  {
   "cell_type": "markdown",
   "metadata": {},
   "source": [
    "## Second step - upload the file"
   ]
  },
  {
   "cell_type": "code",
   "execution_count": null,
   "metadata": {},
   "outputs": [],
   "source": [
    "\n",
    "questions_file = openai.files.create(file=open(\"questions.jsonl\", \"rb\"), purpose=\"batch\")\n",
    "questions_file"
=======
   "metadata": {},
   "outputs": [],
   "source": [
    "with open(\"questions.jsonl\", \"w\", encoding=\"utf-8\") as f:\n",
    "    for i in range(len(questions)):\n",
    "        f.write(make_line(i) + \"\\n\")"
>>>>>>> Stashed changes
   ]
  },
  {
   "cell_type": "markdown",
   "metadata": {},
   "source": [
<<<<<<< Updated upstream
    "## Third step - make the batch"
=======
    "## Second step - upload the file"
>>>>>>> Stashed changes
   ]
  },
  {
   "cell_type": "code",
   "execution_count": 5,
   "metadata": {},
   "outputs": [
    {
     "data": {
      "text/plain": [
       "FileObject(id='file-2EBRBxPBJu1PeV47Qn6Prf', bytes=1869, created_at=1750718574, filename='questions.jsonl', object='file', purpose='batch', status='processed', expires_at=None, status_details=None)"
      ]
     },
     "execution_count": 5,
     "metadata": {},
     "output_type": "execute_result"
    }
   ],
   "source": [
<<<<<<< Updated upstream
    "\n",
    "\n",
    "file_id = questions_file.id\n",
    "batch = openai.batches.create(input_file_id=file_id, endpoint=\"/v1/chat/completions\", completion_window=\"24h\")\n",
    "batch"
=======
    "\n",
    "questions_file = openai.files.create(file=open(\"questions.jsonl\", \"rb\"), purpose=\"batch\")\n",
    "questions_file"
>>>>>>> Stashed changes
   ]
  },
  {
   "cell_type": "markdown",
   "metadata": {},
   "source": [
<<<<<<< Updated upstream
    "## Fourth step - monitor the batch"
=======
    "## Third step - make the batch"
>>>>>>> Stashed changes
   ]
  },
  {
   "cell_type": "code",
<<<<<<< Updated upstream
   "execution_count": null,
=======
   "execution_count": 6,
>>>>>>> Stashed changes
   "metadata": {},
   "outputs": [
    {
     "data": {
      "text/plain": [
       "Batch(id='batch_6859d89eb5908190b5f4ef1bef32240e', completion_window='24h', created_at=1750718622, endpoint='/v1/chat/completions', input_file_id='file-2EBRBxPBJu1PeV47Qn6Prf', object='batch', status='validating', cancelled_at=None, cancelling_at=None, completed_at=None, error_file_id=None, errors=None, expired_at=None, expires_at=1750805022, failed_at=None, finalizing_at=None, in_progress_at=None, metadata=None, output_file_id=None, request_counts=BatchRequestCounts(completed=0, failed=0, total=0))"
      ]
     },
     "execution_count": 6,
     "metadata": {},
     "output_type": "execute_result"
    }
   ],
   "source": [
<<<<<<< Updated upstream
    "latest = openai.batches.retrieve(batch.id)\n",
    "print(latest)\n",
    "print(latest.status)"
=======
    "\n",
    "\n",
    "file_id = questions_file.id\n",
    "batch = openai.batches.create(input_file_id=file_id, endpoint=\"/v1/chat/completions\", completion_window=\"24h\")\n",
    "batch"
>>>>>>> Stashed changes
   ]
  },
  {
   "cell_type": "markdown",
   "metadata": {},
   "source": [
<<<<<<< Updated upstream
    "## Fifth step - collect the results"
=======
    "## Fourth step - monitor the batch"
   ]
  },
  {
   "cell_type": "code",
   "execution_count": 8,
   "metadata": {},
   "outputs": [
    {
     "name": "stdout",
     "output_type": "stream",
     "text": [
      "Batch(id='batch_6859d89eb5908190b5f4ef1bef32240e', completion_window='24h', created_at=1750718622, endpoint='/v1/chat/completions', input_file_id='file-2EBRBxPBJu1PeV47Qn6Prf', object='batch', status='completed', cancelled_at=None, cancelling_at=None, completed_at=1750718664, error_file_id=None, errors=None, expired_at=None, expires_at=1750805022, failed_at=None, finalizing_at=1750718663, in_progress_at=1750718623, metadata=None, output_file_id='file-HSC1mXY6aL5jZ7goTBPYzv', request_counts=BatchRequestCounts(completed=9, failed=0, total=9))\n",
      "completed\n"
     ]
    }
   ],
   "source": [
    "latest = openai.batches.retrieve(batch.id)\n",
    "print(latest)\n",
    "print(latest.status)"
>>>>>>> Stashed changes
   ]
  },
  {
   "cell_type": "markdown",
   "metadata": {},
   "source": [
<<<<<<< Updated upstream
=======
    "## Fifth step - collect the results"
   ]
  },
  {
   "cell_type": "code",
   "execution_count": 9,
   "metadata": {},
   "outputs": [
    {
     "data": {
      "text/plain": [
       "'{\"id\": \"batch_req_6859d8c804fc8190ae45140f75a98d0c\", \"custom_id\": \"request-0\", \"response\": {\"status_code\": 200, \"request_id\": \"53c012f98aafad5fb481f7ce97cb71f0\", \"body\": {\"id\": \"chatcmpl-BlkB7G3UP86NWJZF85oHnB8rmSam9\", \"object\": \"chat.completion\", \"created\": 1750718625, \"model\": \"gpt-4.1-nano-2025-04-14\", \"choices\": [{\"index\": 0, \"message\": {\"role\": \"assistant\", \"content\": \"The capital of France is Paris.\", \"refusal\": null, \"annotations\": []}, \"logprobs\": null, \"finish_reason\": \"stop\"}], \"usage\": {\"prompt_tokens\": 14, \"completion_tokens\": 7, \"total_tokens\": 21, \"prompt_tokens_details\": {\"cached_tokens\": 0, \"audio_tokens\": 0}, \"completion_tokens_details\": {\"reasoning_tokens\": 0, \"audio_tokens\": 0, \"accepted_prediction_tokens\": 0, \"rejected_prediction_tokens\": 0}}, \"service_tier\": \"default\", \"system_fingerprint\": \"fp_38343a2f8f\"}}, \"error\": null}\\n{\"id\": \"batch_req_6859d8c813888190a313593f5c0ccd39\", \"custom_id\": \"request-1\", \"response\": {\"status_code\": 200, \"request_id\": \"32e60fe593690c1dadf43195efbf2cd4\", \"body\": {\"id\": \"chatcmpl-BlkB80hwnUUcG4nz4vxPu4ZyVV7mx\", \"object\": \"chat.completion\", \"created\": 1750718626, \"model\": \"gpt-4.1-nano-2025-04-14\", \"choices\": [{\"index\": 0, \"message\": {\"role\": \"assistant\", \"content\": \"The capital of Germany is Berlin.\", \"refusal\": null, \"annotations\": []}, \"logprobs\": null, \"finish_reason\": \"stop\"}], \"usage\": {\"prompt_tokens\": 14, \"completion_tokens\": 7, \"total_tokens\": 21, \"prompt_tokens_details\": {\"cached_tokens\": 0, \"audio_tokens\": 0}, \"completion_tokens_details\": {\"reasoning_tokens\": 0, \"audio_tokens\": 0, \"accepted_prediction_tokens\": 0, \"rejected_prediction_tokens\": 0}}, \"service_tier\": \"default\", \"system_fingerprint\": \"fp_f12167b370\"}}, \"error\": null}\\n{\"id\": \"batch_req_6859d8c825388190a7ae3cd2dc1bfed2\", \"custom_id\": \"request-2\", \"response\": {\"status_code\": 200, \"request_id\": \"1605ab660e2b2b55f9b34ae7c27faa44\", \"body\": {\"id\": \"chatcmpl-BlkB9Rxz3A2Dxy25SYybCvHA8QiTJ\", \"object\": \"chat.completion\", \"created\": 1750718627, \"model\": \"gpt-4.1-nano-2025-04-14\", \"choices\": [{\"index\": 0, \"message\": {\"role\": \"assistant\", \"content\": \"The capital of Italy is Rome.\", \"refusal\": null, \"annotations\": []}, \"logprobs\": null, \"finish_reason\": \"stop\"}], \"usage\": {\"prompt_tokens\": 14, \"completion_tokens\": 7, \"total_tokens\": 21, \"prompt_tokens_details\": {\"cached_tokens\": 0, \"audio_tokens\": 0}, \"completion_tokens_details\": {\"reasoning_tokens\": 0, \"audio_tokens\": 0, \"accepted_prediction_tokens\": 0, \"rejected_prediction_tokens\": 0}}, \"service_tier\": \"default\", \"system_fingerprint\": \"fp_38343a2f8f\"}}, \"error\": null}\\n{\"id\": \"batch_req_6859d8c835508190832b35e065a96007\", \"custom_id\": \"request-3\", \"response\": {\"status_code\": 200, \"request_id\": \"cef544754d217466ab702dc007042c6e\", \"body\": {\"id\": \"chatcmpl-BlkBAthmnvjxtaaf2fqhyte7Xkrkb\", \"object\": \"chat.completion\", \"created\": 1750718628, \"model\": \"gpt-4.1-nano-2025-04-14\", \"choices\": [{\"index\": 0, \"message\": {\"role\": \"assistant\", \"content\": \"The capital of Spain is Madrid.\", \"refusal\": null, \"annotations\": []}, \"logprobs\": null, \"finish_reason\": \"stop\"}], \"usage\": {\"prompt_tokens\": 14, \"completion_tokens\": 7, \"total_tokens\": 21, \"prompt_tokens_details\": {\"cached_tokens\": 0, \"audio_tokens\": 0}, \"completion_tokens_details\": {\"reasoning_tokens\": 0, \"audio_tokens\": 0, \"accepted_prediction_tokens\": 0, \"rejected_prediction_tokens\": 0}}, \"service_tier\": \"default\", \"system_fingerprint\": \"fp_38343a2f8f\"}}, \"error\": null}\\n{\"id\": \"batch_req_6859d8c843a481909defbc72aa10f372\", \"custom_id\": \"request-4\", \"response\": {\"status_code\": 200, \"request_id\": \"58f2ab9ea2a0c16f932142ef9454cb5a\", \"body\": {\"id\": \"chatcmpl-BlkBKbA86Hg7vsbdYtRAkhzBpCAMG\", \"object\": \"chat.completion\", \"created\": 1750718638, \"model\": \"gpt-4.1-nano-2025-04-14\", \"choices\": [{\"index\": 0, \"message\": {\"role\": \"assistant\", \"content\": \"The capital of Portugal is Lisbon.\", \"refusal\": null, \"annotations\": []}, \"logprobs\": null, \"finish_reason\": \"stop\"}], \"usage\": {\"prompt_tokens\": 14, \"completion_tokens\": 7, \"total_tokens\": 21, \"prompt_tokens_details\": {\"cached_tokens\": 0, \"audio_tokens\": 0}, \"completion_tokens_details\": {\"reasoning_tokens\": 0, \"audio_tokens\": 0, \"accepted_prediction_tokens\": 0, \"rejected_prediction_tokens\": 0}}, \"service_tier\": \"default\", \"system_fingerprint\": \"fp_f12167b370\"}}, \"error\": null}\\n{\"id\": \"batch_req_6859d8c852708190b207a0cbe2025607\", \"custom_id\": \"request-5\", \"response\": {\"status_code\": 200, \"request_id\": \"3f3076805ab061e5366d1b095900c7e9\", \"body\": {\"id\": \"chatcmpl-BlkBL4gxWHBULF8HahnYR6hm2qKub\", \"object\": \"chat.completion\", \"created\": 1750718639, \"model\": \"gpt-4.1-nano-2025-04-14\", \"choices\": [{\"index\": 0, \"message\": {\"role\": \"assistant\", \"content\": \"The capital of Greece is Athens.\", \"refusal\": null, \"annotations\": []}, \"logprobs\": null, \"finish_reason\": \"stop\"}], \"usage\": {\"prompt_tokens\": 14, \"completion_tokens\": 7, \"total_tokens\": 21, \"prompt_tokens_details\": {\"cached_tokens\": 0, \"audio_tokens\": 0}, \"completion_tokens_details\": {\"reasoning_tokens\": 0, \"audio_tokens\": 0, \"accepted_prediction_tokens\": 0, \"rejected_prediction_tokens\": 0}}, \"service_tier\": \"default\", \"system_fingerprint\": \"fp_38343a2f8f\"}}, \"error\": null}\\n{\"id\": \"batch_req_6859d8c8612881908f7a5bdf6b0a6a34\", \"custom_id\": \"request-6\", \"response\": {\"status_code\": 200, \"request_id\": \"1e659669d5fd21bf2510bff8f00b09d1\", \"body\": {\"id\": \"chatcmpl-BlkBMyYg7ot89LctH4ezI0E2LxPJH\", \"object\": \"chat.completion\", \"created\": 1750718640, \"model\": \"gpt-4.1-nano-2025-04-14\", \"choices\": [{\"index\": 0, \"message\": {\"role\": \"assistant\", \"content\": \"The capital of Turkey is Ankara.\", \"refusal\": null, \"annotations\": []}, \"logprobs\": null, \"finish_reason\": \"stop\"}], \"usage\": {\"prompt_tokens\": 14, \"completion_tokens\": 7, \"total_tokens\": 21, \"prompt_tokens_details\": {\"cached_tokens\": 0, \"audio_tokens\": 0}, \"completion_tokens_details\": {\"reasoning_tokens\": 0, \"audio_tokens\": 0, \"accepted_prediction_tokens\": 0, \"rejected_prediction_tokens\": 0}}, \"service_tier\": \"default\", \"system_fingerprint\": \"fp_38343a2f8f\"}}, \"error\": null}\\n{\"id\": \"batch_req_6859d8c8702c81908b05e6b976bfdce5\", \"custom_id\": \"request-7\", \"response\": {\"status_code\": 200, \"request_id\": \"c18bea5747c484abedf711b39d5d1040\", \"body\": {\"id\": \"chatcmpl-BlkBNNjLmxTyNKN4I7kpW5r6RdCw7\", \"object\": \"chat.completion\", \"created\": 1750718641, \"model\": \"gpt-4.1-nano-2025-04-14\", \"choices\": [{\"index\": 0, \"message\": {\"role\": \"assistant\", \"content\": \"The capital of Egypt is Cairo.\", \"refusal\": null, \"annotations\": []}, \"logprobs\": null, \"finish_reason\": \"stop\"}], \"usage\": {\"prompt_tokens\": 14, \"completion_tokens\": 7, \"total_tokens\": 21, \"prompt_tokens_details\": {\"cached_tokens\": 0, \"audio_tokens\": 0}, \"completion_tokens_details\": {\"reasoning_tokens\": 0, \"audio_tokens\": 0, \"accepted_prediction_tokens\": 0, \"rejected_prediction_tokens\": 0}}, \"service_tier\": \"default\", \"system_fingerprint\": \"fp_38343a2f8f\"}}, \"error\": null}\\n{\"id\": \"batch_req_6859d8c87f5c81909b71bb1dde9a92a1\", \"custom_id\": \"request-8\", \"response\": {\"status_code\": 200, \"request_id\": \"0805343be93245bb701b36b7bcf43f61\", \"body\": {\"id\": \"chatcmpl-BlkBOWmts4xoBHHG0UKaNxVOpufCq\", \"object\": \"chat.completion\", \"created\": 1750718642, \"model\": \"gpt-4.1-nano-2025-04-14\", \"choices\": [{\"index\": 0, \"message\": {\"role\": \"assistant\", \"content\": \"South Africa has three capital cities:\\\\n\\\\n- Pretoria (administrative and executive capital)\\\\n- Bloemfontein (judicial capital)\\\\n- Cape Town (legislative capital)\", \"refusal\": null, \"annotations\": []}, \"logprobs\": null, \"finish_reason\": \"stop\"}], \"usage\": {\"prompt_tokens\": 15, \"completion_tokens\": 35, \"total_tokens\": 50, \"prompt_tokens_details\": {\"cached_tokens\": 0, \"audio_tokens\": 0}, \"completion_tokens_details\": {\"reasoning_tokens\": 0, \"audio_tokens\": 0, \"accepted_prediction_tokens\": 0, \"rejected_prediction_tokens\": 0}}, \"service_tier\": \"default\", \"system_fingerprint\": \"fp_38343a2f8f\"}}, \"error\": null}\\n'"
      ]
     },
     "execution_count": 9,
     "metadata": {},
     "output_type": "execute_result"
    }
   ],
   "source": [
>>>>>>> Stashed changes
    "results_file_id = latest.output_file_id\n",
    "results_file = openai.files.content(results_file_id)\n",
    "results_file.text"
   ]
  },
  {
   "cell_type": "markdown",
   "metadata": {},
   "source": [
    "## And now let's see"
   ]
  },
  {
   "cell_type": "code",
<<<<<<< Updated upstream
   "execution_count": null,
   "metadata": {},
   "outputs": [],
=======
   "execution_count": 10,
   "metadata": {},
   "outputs": [
    {
     "name": "stdout",
     "output_type": "stream",
     "text": [
      "Number of results: 9\n",
      "First result:\n"
     ]
    },
    {
     "data": {
      "text/plain": [
       "{'id': 'batch_req_6859d8c804fc8190ae45140f75a98d0c',\n",
       " 'custom_id': 'request-0',\n",
       " 'response': {'status_code': 200,\n",
       "  'request_id': '53c012f98aafad5fb481f7ce97cb71f0',\n",
       "  'body': {'id': 'chatcmpl-BlkB7G3UP86NWJZF85oHnB8rmSam9',\n",
       "   'object': 'chat.completion',\n",
       "   'created': 1750718625,\n",
       "   'model': 'gpt-4.1-nano-2025-04-14',\n",
       "   'choices': [{'index': 0,\n",
       "     'message': {'role': 'assistant',\n",
       "      'content': 'The capital of France is Paris.',\n",
       "      'refusal': None,\n",
       "      'annotations': []},\n",
       "     'logprobs': None,\n",
       "     'finish_reason': 'stop'}],\n",
       "   'usage': {'prompt_tokens': 14,\n",
       "    'completion_tokens': 7,\n",
       "    'total_tokens': 21,\n",
       "    'prompt_tokens_details': {'cached_tokens': 0, 'audio_tokens': 0},\n",
       "    'completion_tokens_details': {'reasoning_tokens': 0,\n",
       "     'audio_tokens': 0,\n",
       "     'accepted_prediction_tokens': 0,\n",
       "     'rejected_prediction_tokens': 0}},\n",
       "   'service_tier': 'default',\n",
       "   'system_fingerprint': 'fp_38343a2f8f'}},\n",
       " 'error': None}"
      ]
     },
     "execution_count": 10,
     "metadata": {},
     "output_type": "execute_result"
    }
   ],
>>>>>>> Stashed changes
   "source": [
    "import json\n",
    "lines = results_file.text.split(\"\\n\")\n",
    "results = [json.loads(line) for line in lines if line]\n",
    "print(f\"Number of results: {len(results)}\")\n",
    "print(\"First result:\")\n",
    "results[0]"
   ]
  },
  {
   "cell_type": "code",
<<<<<<< Updated upstream
   "execution_count": null,
   "metadata": {},
   "outputs": [],
=======
   "execution_count": 11,
   "metadata": {},
   "outputs": [
    {
     "name": "stdout",
     "output_type": "stream",
     "text": [
      "What is the capital of France?\n",
      "The capital of France is Paris.\n",
      "----------------------------------------------------------------------------------------------------\n",
      "What is the capital of Germany?\n",
      "The capital of Germany is Berlin.\n",
      "----------------------------------------------------------------------------------------------------\n",
      "What is the capital of Italy?\n",
      "The capital of Italy is Rome.\n",
      "----------------------------------------------------------------------------------------------------\n",
      "What is the capital of Spain?\n",
      "The capital of Spain is Madrid.\n",
      "----------------------------------------------------------------------------------------------------\n",
      "What is the capital of Portugal?\n",
      "The capital of Portugal is Lisbon.\n",
      "----------------------------------------------------------------------------------------------------\n",
      "What is the capital of Greece?\n",
      "The capital of Greece is Athens.\n",
      "----------------------------------------------------------------------------------------------------\n",
      "What is the capital of Turkey?\n",
      "The capital of Turkey is Ankara.\n",
      "----------------------------------------------------------------------------------------------------\n",
      "What is the capital of Egypt?\n",
      "The capital of Egypt is Cairo.\n",
      "----------------------------------------------------------------------------------------------------\n",
      "What is the capital of South Africa?\n",
      "South Africa has three capital cities:\n",
      "\n",
      "- Pretoria (administrative and executive capital)\n",
      "- Bloemfontein (judicial capital)\n",
      "- Cape Town (legislative capital)\n",
      "----------------------------------------------------------------------------------------------------\n"
     ]
    }
   ],
>>>>>>> Stashed changes
   "source": [
    "for result in results:\n",
    "    id = result[\"custom_id\"]\n",
    "    question = questions[int(id.split(\"-\")[1])]\n",
    "    print(question)\n",
    "    print(result[\"response\"][\"body\"][\"choices\"][0][\"message\"][\"content\"])\n",
    "    print(\"-\"*100)"
   ]
  },
  {
   "cell_type": "markdown",
   "metadata": {},
   "source": [
    "## Anthropic has a similar Batch API\n",
    "\n",
    "https://docs.anthropic.com/en/docs/build-with-claude/batch-processing"
   ]
  },
  {
   "cell_type": "markdown",
   "metadata": {},
   "source": []
  }
 ],
 "metadata": {
  "kernelspec": {
   "display_name": ".venv",
   "language": "python",
   "name": "python3"
  },
  "language_info": {
   "codemirror_mode": {
    "name": "ipython",
    "version": 3
   },
   "file_extension": ".py",
   "mimetype": "text/x-python",
   "name": "python",
   "nbconvert_exporter": "python",
   "pygments_lexer": "ipython3",
   "version": "3.12.10"
  }
 },
 "nbformat": 4,
 "nbformat_minor": 2
}
