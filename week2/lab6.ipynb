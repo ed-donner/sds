{
 "cells": [
  {
   "cell_type": "markdown",
   "metadata": {},
   "source": [
    "# Lab 6\n",
    "\n",
    "Advanced APIs for Scale - Batching"
   ]
  },
  {
   "cell_type": "code",
   "execution_count": 1,
   "metadata": {},
   "outputs": [],
   "source": [
    "from dotenv import load_dotenv\n",
    "from openai import OpenAI\n",
    "load_dotenv(override=True)\n",
    "\n",
    "openai = OpenAI()\n"
   ]
  },
  {
   "cell_type": "code",
   "execution_count": 2,
   "metadata": {},
   "outputs": [],
   "source": [
    "questions = [\n",
    "    \"What is the capital of France?\",\n",
    "    \"What is the capital of Germany?\",\n",
    "    \"What is the capital of Italy?\",\n",
    "    \"What is the capital of Spain?\",\n",
    "    \"What is the capital of Portugal?\",\n",
    "    \"What is the capital of Greece?\",\n",
    "    \"What is the capital of Turkey?\",\n",
    "    \"What is the capital of Egypt?\",\n",
    "    \"What is the capital of South Africa?\",\n",
    "]"
   ]
  },
  {
   "cell_type": "markdown",
   "metadata": {},
   "source": [
    "## First step - Generate a jsonl file - json line - good for streaming and batch\n",
    "\n",
    "With this format:\n",
    "\n",
    "```jsonl\n",
    "{\"custom_id\": \"request-1\", \"method\": \"POST\", \"url\": \"/v1/chat/completions\", \"body\": {\"model\": \"gpt-3.5-turbo-0125\", \"messages\": [{\"role\": \"system\", \"content\": \"You are a helpful assistant.\"},{\"role\": \"user\", \"content\": \"Hello world!\"}],\"max_tokens\": 1000}}\n",
    "{\"custom_id\": \"request-2\", \"method\": \"POST\", \"url\": \"/v1/chat/completions\", \"body\": {\"model\": \"gpt-3.5-turbo-0125\", \"messages\": [{\"role\": \"system\", \"content\": \"You are an unhelpful assistant.\"},{\"role\": \"user\", \"content\": \"Hello world!\"}],\"max_tokens\": 1000}}\n",
    "```"
   ]
  },
  {
   "cell_type": "code",
   "execution_count": 3,
   "metadata": {},
   "outputs": [
    {
     "data": {
      "text/plain": [
       "'{\"custom_id\": \"request-0\", \"method\": \"POST\", \"url\": \"/v1/chat/completions\", \"body\": {\"model\": \"gpt-4.1-nano\", \"messages\": [{\"role\": \"user\", \"content\": \"What is the capital of France?\"}],\"max_tokens\": 1000}}'"
      ]
     },
     "execution_count": 3,
     "metadata": {},
     "output_type": "execute_result"
    }
   ],
   "source": [
    "#generate one line to fill the questions from the list\n",
    "def make_line(index):\n",
    "    question = questions[index]\n",
    "    return f'{{\"custom_id\": \"request-{index}\", \"method\": \"POST\", \"url\": \"/v1/chat/completions\", \"body\": {{\"model\": \"gpt-4.1-nano\", \"messages\": [{{\"role\": \"user\", \"content\": \"{question}\"}}],\"max_tokens\": 1000}}}}'\n",
    "\n",
    "\n",
    "make_line(0)"
   ]
  },
  {
   "cell_type": "code",
   "execution_count": 5,
   "metadata": {},
   "outputs": [],
   "source": [
    "#create new jsonl file in the folder\n",
    "\n",
    "with open(\"questions.jsonl\", \"w\", encoding=\"utf-8\") as f:\n",
    "    for i in range(len(questions)):\n",
    "        f.write(make_line(i) + \"\\n\")"
   ]
  },
  {
   "cell_type": "markdown",
   "metadata": {},
   "source": [
    "## Second step - upload the file"
   ]
  },
  {
   "cell_type": "code",
   "execution_count": 6,
   "metadata": {},
   "outputs": [
    {
     "data": {
      "text/plain": [
       "FileObject(id='file-5zSDHwyFTsKjjFQTfhxG2t', bytes=1878, created_at=1750718604, filename='questions.jsonl', object='file', purpose='batch', status='processed', expires_at=None, status_details=None)"
      ]
     },
     "execution_count": 6,
     "metadata": {},
     "output_type": "execute_result"
    }
   ],
   "source": [
    "#create a file with file object and id uploaded\n",
    "questions_file = openai.files.create(file=open(\"questions.jsonl\", \"rb\"), purpose=\"batch\")\n",
    "questions_file"
   ]
  },
  {
   "cell_type": "markdown",
   "metadata": {},
   "source": [
    "## Third step - make the batch"
   ]
  },
  {
   "cell_type": "code",
   "execution_count": 7,
   "metadata": {},
   "outputs": [
    {
     "data": {
      "text/plain": [
       "Batch(id='batch_6859d8abd654819091a1718b8228f06c', completion_window='24h', created_at=1750718635, endpoint='/v1/chat/completions', input_file_id='file-5zSDHwyFTsKjjFQTfhxG2t', object='batch', status='validating', cancelled_at=None, cancelling_at=None, completed_at=None, error_file_id=None, errors=None, expired_at=None, expires_at=1750805035, failed_at=None, finalizing_at=None, in_progress_at=None, metadata=None, output_file_id=None, request_counts=BatchRequestCounts(completed=0, failed=0, total=0))"
      ]
     },
     "execution_count": 7,
     "metadata": {},
     "output_type": "execute_result"
    }
   ],
   "source": [
    "#completion_window='24h' means openai you hvae 24h to do it when you want.\n",
    "\n",
    "file_id = questions_file.id\n",
    "batch = openai.batches.create(input_file_id=file_id, endpoint=\"/v1/chat/completions\", completion_window=\"24h\")\n",
    "batch"
   ]
  },
  {
   "cell_type": "markdown",
   "metadata": {},
   "source": [
    "## Fourth step - monitor the batch"
   ]
  },
  {
   "cell_type": "code",
   "execution_count": 8,
   "metadata": {},
   "outputs": [
    {
     "name": "stdout",
     "output_type": "stream",
     "text": [
      "Batch(id='batch_6859d8abd654819091a1718b8228f06c', completion_window='24h', created_at=1750718635, endpoint='/v1/chat/completions', input_file_id='file-5zSDHwyFTsKjjFQTfhxG2t', object='batch', status='completed', cancelled_at=None, cancelling_at=None, completed_at=1750718652, error_file_id=None, errors=None, expired_at=None, expires_at=1750805035, failed_at=None, finalizing_at=1750718649, in_progress_at=1750718636, metadata=None, output_file_id='file-MbrMjVVKxPfk5jtDKpUQEz', request_counts=BatchRequestCounts(completed=9, failed=0, total=9))\n",
      "completed\n"
     ]
    }
   ],
   "source": [
    "latest = openai.batches.retrieve(batch.id)\n",
    "print(latest)\n",
    "print(latest.status)"
   ]
  },
  {
   "cell_type": "markdown",
   "metadata": {},
   "source": [
    "## Fifth step - collect the results"
   ]
  },
  {
   "cell_type": "code",
   "execution_count": 9,
   "metadata": {},
   "outputs": [
    {
     "data": {
      "text/plain": [
       "'{\"id\": \"batch_req_6859d8b9da588190b4189ec4511c5177\", \"custom_id\": \"request-0\", \"response\": {\"status_code\": 200, \"request_id\": \"25ef90c94bcd88fd073bd891fc3a8b27\", \"body\": {\"id\": \"chatcmpl-BlkBKl7xxvK3pJSa9yNrlMxzYxiHX\", \"object\": \"chat.completion\", \"created\": 1750718638, \"model\": \"gpt-4.1-nano-2025-04-14\", \"choices\": [{\"index\": 0, \"message\": {\"role\": \"assistant\", \"content\": \"The capital of France is Paris.\", \"refusal\": null, \"annotations\": []}, \"logprobs\": null, \"finish_reason\": \"stop\"}], \"usage\": {\"prompt_tokens\": 14, \"completion_tokens\": 7, \"total_tokens\": 21, \"prompt_tokens_details\": {\"cached_tokens\": 0, \"audio_tokens\": 0}, \"completion_tokens_details\": {\"reasoning_tokens\": 0, \"audio_tokens\": 0, \"accepted_prediction_tokens\": 0, \"rejected_prediction_tokens\": 0}}, \"service_tier\": \"default\", \"system_fingerprint\": \"fp_38343a2f8f\"}}, \"error\": null}\\n{\"id\": \"batch_req_6859d8b9e98081908a3f823a1f58d98e\", \"custom_id\": \"request-1\", \"response\": {\"status_code\": 200, \"request_id\": \"4125289f03f01be18daebedd129f7af3\", \"body\": {\"id\": \"chatcmpl-BlkBLHqhxMOMwG56yvOhdIf6sjFZC\", \"object\": \"chat.completion\", \"created\": 1750718639, \"model\": \"gpt-4.1-nano-2025-04-14\", \"choices\": [{\"index\": 0, \"message\": {\"role\": \"assistant\", \"content\": \"The capital of Germany is Berlin.\", \"refusal\": null, \"annotations\": []}, \"logprobs\": null, \"finish_reason\": \"stop\"}], \"usage\": {\"prompt_tokens\": 14, \"completion_tokens\": 7, \"total_tokens\": 21, \"prompt_tokens_details\": {\"cached_tokens\": 0, \"audio_tokens\": 0}, \"completion_tokens_details\": {\"reasoning_tokens\": 0, \"audio_tokens\": 0, \"accepted_prediction_tokens\": 0, \"rejected_prediction_tokens\": 0}}, \"service_tier\": \"default\", \"system_fingerprint\": \"fp_38343a2f8f\"}}, \"error\": null}\\n{\"id\": \"batch_req_6859d8b9f77c8190a656ec1abecdd967\", \"custom_id\": \"request-2\", \"response\": {\"status_code\": 200, \"request_id\": \"45a763ae38350241554a928e03dc0e1e\", \"body\": {\"id\": \"chatcmpl-BlkBLEM8YvQNy7gNSBHFpkQgiW9c8\", \"object\": \"chat.completion\", \"created\": 1750718639, \"model\": \"gpt-4.1-nano-2025-04-14\", \"choices\": [{\"index\": 0, \"message\": {\"role\": \"assistant\", \"content\": \"The capital of Italy is Rome.\", \"refusal\": null, \"annotations\": []}, \"logprobs\": null, \"finish_reason\": \"stop\"}], \"usage\": {\"prompt_tokens\": 14, \"completion_tokens\": 7, \"total_tokens\": 21, \"prompt_tokens_details\": {\"cached_tokens\": 0, \"audio_tokens\": 0}, \"completion_tokens_details\": {\"reasoning_tokens\": 0, \"audio_tokens\": 0, \"accepted_prediction_tokens\": 0, \"rejected_prediction_tokens\": 0}}, \"service_tier\": \"default\", \"system_fingerprint\": \"fp_38343a2f8f\"}}, \"error\": null}\\n{\"id\": \"batch_req_6859d8ba05688190939402722026f891\", \"custom_id\": \"request-3\", \"response\": {\"status_code\": 200, \"request_id\": \"044e9a292e1622189b77d8cbd613ca52\", \"body\": {\"id\": \"chatcmpl-BlkBQfXcOTr0zy79PgVJhp6U7KDat\", \"object\": \"chat.completion\", \"created\": 1750718644, \"model\": \"gpt-4.1-nano-2025-04-14\", \"choices\": [{\"index\": 0, \"message\": {\"role\": \"assistant\", \"content\": \"The capital of Spain is Madrid.\", \"refusal\": null, \"annotations\": []}, \"logprobs\": null, \"finish_reason\": \"stop\"}], \"usage\": {\"prompt_tokens\": 14, \"completion_tokens\": 7, \"total_tokens\": 21, \"prompt_tokens_details\": {\"cached_tokens\": 0, \"audio_tokens\": 0}, \"completion_tokens_details\": {\"reasoning_tokens\": 0, \"audio_tokens\": 0, \"accepted_prediction_tokens\": 0, \"rejected_prediction_tokens\": 0}}, \"service_tier\": \"default\", \"system_fingerprint\": \"fp_38343a2f8f\"}}, \"error\": null}\\n{\"id\": \"batch_req_6859d8ba13348190b44f20eda4de0a8a\", \"custom_id\": \"request-4\", \"response\": {\"status_code\": 200, \"request_id\": \"81d6956c09b27ea6fea3528720935e92\", \"body\": {\"id\": \"chatcmpl-BlkBLfXN3LmdjW8F0roOhTDNXV5Um\", \"object\": \"chat.completion\", \"created\": 1750718639, \"model\": \"gpt-4.1-nano-2025-04-14\", \"choices\": [{\"index\": 0, \"message\": {\"role\": \"assistant\", \"content\": \"The capital of Portugal is Lisbon.\", \"refusal\": null, \"annotations\": []}, \"logprobs\": null, \"finish_reason\": \"stop\"}], \"usage\": {\"prompt_tokens\": 14, \"completion_tokens\": 7, \"total_tokens\": 21, \"prompt_tokens_details\": {\"cached_tokens\": 0, \"audio_tokens\": 0}, \"completion_tokens_details\": {\"reasoning_tokens\": 0, \"audio_tokens\": 0, \"accepted_prediction_tokens\": 0, \"rejected_prediction_tokens\": 0}}, \"service_tier\": \"default\", \"system_fingerprint\": \"fp_38343a2f8f\"}}, \"error\": null}\\n{\"id\": \"batch_req_6859d8ba20088190945c3ecc51b7397f\", \"custom_id\": \"request-5\", \"response\": {\"status_code\": 200, \"request_id\": \"a54458bb2505f66f499e387172fe00bc\", \"body\": {\"id\": \"chatcmpl-BlkBRUNPHU2pcivuk1yqRt77oQYv7\", \"object\": \"chat.completion\", \"created\": 1750718645, \"model\": \"gpt-4.1-nano-2025-04-14\", \"choices\": [{\"index\": 0, \"message\": {\"role\": \"assistant\", \"content\": \"The capital of Greece is Athens.\", \"refusal\": null, \"annotations\": []}, \"logprobs\": null, \"finish_reason\": \"stop\"}], \"usage\": {\"prompt_tokens\": 14, \"completion_tokens\": 7, \"total_tokens\": 21, \"prompt_tokens_details\": {\"cached_tokens\": 0, \"audio_tokens\": 0}, \"completion_tokens_details\": {\"reasoning_tokens\": 0, \"audio_tokens\": 0, \"accepted_prediction_tokens\": 0, \"rejected_prediction_tokens\": 0}}, \"service_tier\": \"default\", \"system_fingerprint\": \"fp_38343a2f8f\"}}, \"error\": null}\\n{\"id\": \"batch_req_6859d8ba2e788190a99adef8e030e1ed\", \"custom_id\": \"request-6\", \"response\": {\"status_code\": 200, \"request_id\": \"0d2355ef88e10183a296a1a36646223c\", \"body\": {\"id\": \"chatcmpl-BlkBRnvbb36FlUGmLwPymJWhZlYa6\", \"object\": \"chat.completion\", \"created\": 1750718645, \"model\": \"gpt-4.1-nano-2025-04-14\", \"choices\": [{\"index\": 0, \"message\": {\"role\": \"assistant\", \"content\": \"The capital of Turkey is Ankara.\", \"refusal\": null, \"annotations\": []}, \"logprobs\": null, \"finish_reason\": \"stop\"}], \"usage\": {\"prompt_tokens\": 14, \"completion_tokens\": 7, \"total_tokens\": 21, \"prompt_tokens_details\": {\"cached_tokens\": 0, \"audio_tokens\": 0}, \"completion_tokens_details\": {\"reasoning_tokens\": 0, \"audio_tokens\": 0, \"accepted_prediction_tokens\": 0, \"rejected_prediction_tokens\": 0}}, \"service_tier\": \"default\", \"system_fingerprint\": \"fp_38343a2f8f\"}}, \"error\": null}\\n{\"id\": \"batch_req_6859d8ba3d50819090ed7cf20cb75359\", \"custom_id\": \"request-7\", \"response\": {\"status_code\": 200, \"request_id\": \"629160a1b87a943e50e9050259c50bb0\", \"body\": {\"id\": \"chatcmpl-BlkBMpMBVRLLdva00n7O2WcgrKmUO\", \"object\": \"chat.completion\", \"created\": 1750718640, \"model\": \"gpt-4.1-nano-2025-04-14\", \"choices\": [{\"index\": 0, \"message\": {\"role\": \"assistant\", \"content\": \"The capital of Egypt is Cairo.\", \"refusal\": null, \"annotations\": []}, \"logprobs\": null, \"finish_reason\": \"stop\"}], \"usage\": {\"prompt_tokens\": 14, \"completion_tokens\": 7, \"total_tokens\": 21, \"prompt_tokens_details\": {\"cached_tokens\": 0, \"audio_tokens\": 0}, \"completion_tokens_details\": {\"reasoning_tokens\": 0, \"audio_tokens\": 0, \"accepted_prediction_tokens\": 0, \"rejected_prediction_tokens\": 0}}, \"service_tier\": \"default\", \"system_fingerprint\": \"fp_38343a2f8f\"}}, \"error\": null}\\n{\"id\": \"batch_req_6859d8ba4db8819098f1da4b3f782c25\", \"custom_id\": \"request-8\", \"response\": {\"status_code\": 200, \"request_id\": \"e1fb660836845de53d53cf903d45e3a9\", \"body\": {\"id\": \"chatcmpl-BlkBO2Rx16s3DCock8oPs8LEnUO2I\", \"object\": \"chat.completion\", \"created\": 1750718642, \"model\": \"gpt-4.1-nano-2025-04-14\", \"choices\": [{\"index\": 0, \"message\": {\"role\": \"assistant\", \"content\": \"South Africa has three capital cities: Pretoria (administrative capital), Bloemfontein (judicial capital), and Cape Town (legislative capital).\", \"refusal\": null, \"annotations\": []}, \"logprobs\": null, \"finish_reason\": \"stop\"}], \"usage\": {\"prompt_tokens\": 15, \"completion_tokens\": 31, \"total_tokens\": 46, \"prompt_tokens_details\": {\"cached_tokens\": 0, \"audio_tokens\": 0}, \"completion_tokens_details\": {\"reasoning_tokens\": 0, \"audio_tokens\": 0, \"accepted_prediction_tokens\": 0, \"rejected_prediction_tokens\": 0}}, \"service_tier\": \"default\", \"system_fingerprint\": \"fp_38343a2f8f\"}}, \"error\": null}\\n'"
      ]
     },
     "execution_count": 9,
     "metadata": {},
     "output_type": "execute_result"
    }
   ],
   "source": [
    "results_file_id = latest.output_file_id\n",
    "results_file = openai.files.content(results_file_id)\n",
    "results_file.text"
   ]
  },
  {
   "cell_type": "markdown",
   "metadata": {},
   "source": [
    "## And now let's see"
   ]
  },
  {
   "cell_type": "code",
   "execution_count": 10,
   "metadata": {},
   "outputs": [
    {
     "name": "stdout",
     "output_type": "stream",
     "text": [
      "Number of results: 9\n",
      "First result:\n"
     ]
    },
    {
     "data": {
      "text/plain": [
       "{'id': 'batch_req_6859d8b9da588190b4189ec4511c5177',\n",
       " 'custom_id': 'request-0',\n",
       " 'response': {'status_code': 200,\n",
       "  'request_id': '25ef90c94bcd88fd073bd891fc3a8b27',\n",
       "  'body': {'id': 'chatcmpl-BlkBKl7xxvK3pJSa9yNrlMxzYxiHX',\n",
       "   'object': 'chat.completion',\n",
       "   'created': 1750718638,\n",
       "   'model': 'gpt-4.1-nano-2025-04-14',\n",
       "   'choices': [{'index': 0,\n",
       "     'message': {'role': 'assistant',\n",
       "      'content': 'The capital of France is Paris.',\n",
       "      'refusal': None,\n",
       "      'annotations': []},\n",
       "     'logprobs': None,\n",
       "     'finish_reason': 'stop'}],\n",
       "   'usage': {'prompt_tokens': 14,\n",
       "    'completion_tokens': 7,\n",
       "    'total_tokens': 21,\n",
       "    'prompt_tokens_details': {'cached_tokens': 0, 'audio_tokens': 0},\n",
       "    'completion_tokens_details': {'reasoning_tokens': 0,\n",
       "     'audio_tokens': 0,\n",
       "     'accepted_prediction_tokens': 0,\n",
       "     'rejected_prediction_tokens': 0}},\n",
       "   'service_tier': 'default',\n",
       "   'system_fingerprint': 'fp_38343a2f8f'}},\n",
       " 'error': None}"
      ]
     },
     "execution_count": 10,
     "metadata": {},
     "output_type": "execute_result"
    }
   ],
   "source": [
    "import json\n",
    "lines = results_file.text.split(\"\\n\")\n",
    "results = [json.loads(line) for line in lines if line]\n",
    "print(f\"Number of results: {len(results)}\")\n",
    "print(\"First result:\")\n",
    "results[0]"
   ]
  },
  {
   "cell_type": "code",
   "execution_count": 11,
   "metadata": {},
   "outputs": [
    {
     "name": "stdout",
     "output_type": "stream",
     "text": [
      "What is the capital of France?\n",
      "The capital of France is Paris.\n",
      "----------------------------------------------------------------------------------------------------\n",
      "What is the capital of Germany?\n",
      "The capital of Germany is Berlin.\n",
      "----------------------------------------------------------------------------------------------------\n",
      "What is the capital of Italy?\n",
      "The capital of Italy is Rome.\n",
      "----------------------------------------------------------------------------------------------------\n",
      "What is the capital of Spain?\n",
      "The capital of Spain is Madrid.\n",
      "----------------------------------------------------------------------------------------------------\n",
      "What is the capital of Portugal?\n",
      "The capital of Portugal is Lisbon.\n",
      "----------------------------------------------------------------------------------------------------\n",
      "What is the capital of Greece?\n",
      "The capital of Greece is Athens.\n",
      "----------------------------------------------------------------------------------------------------\n",
      "What is the capital of Turkey?\n",
      "The capital of Turkey is Ankara.\n",
      "----------------------------------------------------------------------------------------------------\n",
      "What is the capital of Egypt?\n",
      "The capital of Egypt is Cairo.\n",
      "----------------------------------------------------------------------------------------------------\n",
      "What is the capital of South Africa?\n",
      "South Africa has three capital cities: Pretoria (administrative capital), Bloemfontein (judicial capital), and Cape Town (legislative capital).\n",
      "----------------------------------------------------------------------------------------------------\n"
     ]
    }
   ],
   "source": [
    "for result in results:\n",
    "    id = result[\"custom_id\"]\n",
    "    question = questions[int(id.split(\"-\")[1])]\n",
    "    print(question)\n",
    "    print(result[\"response\"][\"body\"][\"choices\"][0][\"message\"][\"content\"])\n",
    "    print(\"-\"*100)"
   ]
  },
  {
   "cell_type": "markdown",
   "metadata": {},
   "source": [
    "## Anthropic has a similar Batch API\n",
    "\n",
    "https://docs.anthropic.com/en/docs/build-with-claude/batch-processing"
   ]
  },
  {
   "cell_type": "markdown",
   "metadata": {},
   "source": []
  }
 ],
 "metadata": {
  "kernelspec": {
   "display_name": ".venv",
   "language": "python",
   "name": "python3"
  },
  "language_info": {
   "codemirror_mode": {
    "name": "ipython",
    "version": 3
   },
   "file_extension": ".py",
   "mimetype": "text/x-python",
   "name": "python",
   "nbconvert_exporter": "python",
   "pygments_lexer": "ipython3",
   "version": "3.12.11"
  }
 },
 "nbformat": 4,
 "nbformat_minor": 2
}
