{
 "cells": [
  {
   "cell_type": "markdown",
   "metadata": {},
   "source": [
    "# Break Timer - \"We need an AI Agent for that\""
   ]
  },
  {
   "cell_type": "code",
   "execution_count": 32,
   "metadata": {},
   "outputs": [],
   "source": [
    "from dotenv import load_dotenv\n",
    "from openai import OpenAI\n",
    "import time\n",
    "from datetime import datetime\n",
    "from IPython.display import Markdown, display\n",
    "load_dotenv(override=True)\n",
    "openai = OpenAI()"
   ]
  },
  {
   "cell_type": "code",
   "execution_count": null,
   "metadata": {},
   "outputs": [],
   "source": [
    "\n",
    "BREAK_LENGTH = \"10 minutes\"\n",
    "MODEL = \"gpt-4.1\"\n",
    "\n",
    "style = \"in the style of Michael Scott from The Office\"\n",
    "\n",
    "now = datetime.now().strftime(\"%H:%M:%S\")\n",
    "print(f\"The time is {now}\")\n"
   ]
  },
  {
   "cell_type": "code",
   "execution_count": 34,
   "metadata": {},
   "outputs": [],
   "source": [
    "start = datetime.now().strftime(\"%H:%M:%S\")\n",
    "\n",
    "agent_messages = []\n",
    "\n",
    "system_prompt = f\"\"\"\n",
    "You are an AI Agent responsible for timing a class break from a class about AI Agents.\n",
    "The class is breaking for {BREAK_LENGTH} starting at {start}.\n",
    "You are given the current time and you need to determine if the break is over.\n",
    "If the break is over, you must respond only \"Break is over!\".\n",
    "If the break is not over, you must respond with a hype-message {style}to keep the class engaged,\n",
    "and to build up tension and excitement for when the class resumes! Be sure to mention how much time is left.\n",
    "You will be given a list of your previous messages so you can keep the theme and add to the build-up.\n",
    "\"\"\""
   ]
  },
  {
   "cell_type": "code",
   "execution_count": null,
   "metadata": {},
   "outputs": [],
   "source": [
    "break_over = False\n",
    "while not break_over:\n",
    "    now = datetime.now().strftime(\"%H:%M:%S\")\n",
    "    \n",
    "    user_prompt = f\"The current time is {now} - you are timing a break from {start} for {BREAK_LENGTH}.\\n\\n\"\n",
    "\n",
    "    if agent_messages:\n",
    "        user_prompt += f\"You have already made these announcements:\\n{'\\n'.join(agent_messages)}\"\n",
    "    else:\n",
    "        user_prompt += \"You have not made any announcements yet.\"\n",
    "\n",
    "    user_prompt += f\"\\n\\nRespond with 'Break is over!' if the break is over, or with a hype message {style} to keep the class excited.\"\n",
    "\n",
    "    messages = [{\"role\": \"system\", \"content\": system_prompt}, {\"role\": \"user\", \"content\": user_prompt}]\n",
    "    \n",
    "    response = openai.chat.completions.create(model=MODEL, messages=messages)\n",
    "    reply = response.choices[0].message.content\n",
    "\n",
    "    display(Markdown(\"#### \"+reply))\n",
    "    if \"break is over\" in reply.lower():\n",
    "        break_over = True\n",
    "    else:\n",
    "        agent_messages.append(reply)\n",
    "        time.sleep(20)\n"
   ]
  }
 ],
 "metadata": {
  "kernelspec": {
   "display_name": ".venv",
   "language": "python",
   "name": "python3"
  },
  "language_info": {
   "codemirror_mode": {
    "name": "ipython",
    "version": 3
   },
   "file_extension": ".py",
   "mimetype": "text/x-python",
   "name": "python",
   "nbconvert_exporter": "python",
   "pygments_lexer": "ipython3",
   "version": "3.12.11"
  }
 },
 "nbformat": 4,
 "nbformat_minor": 2
}
