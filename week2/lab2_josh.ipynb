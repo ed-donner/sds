{
 "cells": [
  {
   "cell_type": "markdown",
   "metadata": {},
   "source": [
    "# Lab 2: RAG\n",
    "\n",
    "## We will build and evaluate a Question Answering Expert for a fictional company: InsureLLM!"
   ]
  },
  {
   "cell_type": "markdown",
   "metadata": {},
   "source": [
    "### BEFORE WE BEGIN:\n",
    "\n",
    "Look at the knowledge-base - this is the company shared drive.\n",
    "\n",
    "### For those new to RAG:\n",
    "\n",
    "Does one of the Experts want to give an explanation?\n",
    "\n",
    "We will be figuring out ways to insert relevant background information in to the prompt..\n",
    "\n",
    "Today will be more intense - please ask me lots of questions and clarifications.."
   ]
  },
  {
   "cell_type": "code",
   "execution_count": 1,
   "metadata": {},
   "outputs": [],
   "source": [
    "import os\n",
    "import glob\n",
    "import tiktoken\n",
    "import numpy as np\n",
    "from IPython.display import Markdown, display\n",
    "\n",
    "from langchain_openai import ChatOpenAI\n",
    "from langchain_chroma import Chroma\n",
    "from langchain.chains import create_retrieval_chain\n",
    "from langchain.chains.combine_documents import create_stuff_documents_chain\n",
    "from langchain_core.prompts import ChatPromptTemplate\n",
    "from langchain_huggingface import HuggingFaceEmbeddings\n",
    "from langchain_openai import OpenAIEmbeddings\n",
    "\n",
    "from langchain_community.document_loaders import DirectoryLoader, TextLoader\n",
    "from langchain.text_splitter import RecursiveCharacterTextSplitter\n",
    "\n",
    "from sklearn.manifold import TSNE\n",
    "import plotly.graph_objects as go"
   ]
  },
  {
   "cell_type": "code",
   "execution_count": 2,
   "metadata": {},
   "outputs": [
    {
     "data": {
      "text/plain": [
       "True"
      ]
     },
     "execution_count": 2,
     "metadata": {},
     "output_type": "execute_result"
    }
   ],
   "source": [
    "from dotenv import load_dotenv\n",
    "from openai import OpenAI\n",
    "from IPython.display import Markdown, display\n",
    "\n",
    "load_dotenv(override=True)"
   ]
  },
  {
   "cell_type": "code",
   "execution_count": 3,
   "metadata": {},
   "outputs": [],
   "source": [
    "MODEL = \"gpt-4.1-nano\"\n",
    "db_name = \"vector_db\""
   ]
  },
  {
   "cell_type": "code",
   "execution_count": 4,
   "metadata": {},
   "outputs": [
    {
     "name": "stdout",
     "output_type": "stream",
     "text": [
      "Found 76 files in the knowledge base\n",
      "Total characters in knowledge base: 304,434\n"
     ]
    }
   ],
   "source": [
    "knowledge_base_path = \"knowledge-base/**/*.md\"\n",
    "files = glob.glob(knowledge_base_path, recursive=True)\n",
    "print(f\"Found {len(files)} files in the knowledge base\")\n",
    "\n",
    "entire_knowledge_base = \"\"\n",
    "\n",
    "for file_path in files:\n",
    "    with open(file_path, 'r', encoding='utf-8') as f:\n",
    "        entire_knowledge_base += f.read()\n",
    "        entire_knowledge_base += \"\\n\\n\"\n",
    "\n",
    "print(f\"Total characters in knowledge base: {len(entire_knowledge_base):,}\")"
   ]
  },
  {
   "cell_type": "code",
   "execution_count": 5,
   "metadata": {},
   "outputs": [
    {
     "name": "stdout",
     "output_type": "stream",
     "text": [
      "Total tokens for gpt-4.1-mini: 63,555\n"
     ]
    }
   ],
   "source": [
    "encoding = tiktoken.encoding_for_model(\"gpt-4.1-mini\")\n",
    "tokens = encoding.encode(entire_knowledge_base)\n",
    "token_count = len(tokens)\n",
    "print(f\"Total tokens for gpt-4.1-mini: {token_count:,}\")"
   ]
  },
  {
   "cell_type": "markdown",
   "metadata": {},
   "source": [
    "## LangChain Document Loaders\n",
    "\n",
    "Loading in the data and splitting it into chunks using LangChain's helper classes"
   ]
  },
  {
   "cell_type": "code",
   "execution_count": 6,
   "metadata": {},
   "outputs": [
    {
     "name": "stdout",
     "output_type": "stream",
     "text": [
      "Loaded 76 documents\n"
     ]
    }
   ],
   "source": [
    "folders = glob.glob(\"knowledge-base/*\")\n",
    "\n",
    "documents = []\n",
    "for folder in folders:\n",
    "    doc_type = os.path.basename(folder)\n",
    "    loader = DirectoryLoader(folder, glob=\"**/*.md\", loader_cls=TextLoader, loader_kwargs={'encoding': 'utf-8'})\n",
    "    folder_docs = loader.load()\n",
    "    for doc in folder_docs:\n",
    "        doc.metadata[\"doc_type\"] = doc_type\n",
    "        documents.append(doc)\n",
    "\n",
    "print(f\"Loaded {len(documents)} documents\")"
   ]
  },
  {
   "cell_type": "code",
   "execution_count": 7,
   "metadata": {},
   "outputs": [
    {
     "name": "stdout",
     "output_type": "stream",
     "text": [
      "Divided into 413 chunks\n"
     ]
    }
   ],
   "source": [
    "text_splitter = RecursiveCharacterTextSplitter(chunk_size=1000, chunk_overlap=200)\n",
    "chunks = text_splitter.split_documents(documents)\n",
    "\n",
    "print(f\"Divided into {len(chunks)} chunks\")"
   ]
  },
  {
   "cell_type": "code",
   "execution_count": 8,
   "metadata": {},
   "outputs": [
    {
     "name": "stdout",
     "output_type": "stream",
     "text": [
      "page_content='# Product Summary\n",
      "\n",
      "# Rellm: AI-Powered Enterprise Reinsurance Solution\n",
      "\n",
      "## Summary\n",
      "\n",
      "Rellm is an innovative enterprise reinsurance product developed by Insurellm, designed to transform the way reinsurance companies operate. Harnessing the power of artificial intelligence, Rellm offers an advanced platform that redefines risk management, enhances decision-making processes, and optimizes operational efficiencies within the reinsurance industry. With seamless integrations and robust analytics, Rellm enables insurers to proactively manage their portfolios and respond to market dynamics with agility.\n",
      "\n",
      "## Features\n",
      "\n",
      "### AI-Driven Analytics\n",
      "Rellm utilizes cutting-edge AI algorithms to provide predictive insights into risk exposures, enabling users to forecast trends and make informed decisions. Its real-time data analysis empowers reinsurance professionals with actionable intelligence.' metadata={'source': 'knowledge-base/products/Rellm.md', 'doc_type': 'products'}\n"
     ]
    }
   ],
   "source": [
    "print(chunks[0])"
   ]
  },
  {
   "cell_type": "code",
   "execution_count": 9,
   "metadata": {},
   "outputs": [
    {
     "name": "stdout",
     "output_type": "stream",
     "text": [
      "Vectorstore created with 413 documents\n"
     ]
    }
   ],
   "source": [
    "embeddings = HuggingFaceEmbeddings(model_name=\"all-MiniLM-L6-v2\")\n",
    "#embeddings = OpenAIEmbeddings()\n",
    "\n",
    "if os.path.exists(db_name):\n",
    "    Chroma(persist_directory=db_name, embedding_function=embeddings).delete_collection()\n",
    "\n",
    "vectorstore = Chroma.from_documents(documents=chunks, embedding=embeddings, persist_directory=db_name)\n",
    "print(f\"Vectorstore created with {vectorstore._collection.count()} documents\")"
   ]
  },
  {
   "cell_type": "code",
   "execution_count": 10,
   "metadata": {},
   "outputs": [
    {
     "name": "stdout",
     "output_type": "stream",
     "text": [
      "There are 413 vectors with 384 dimensions in the vector store\n"
     ]
    }
   ],
   "source": [
    "# How many documents are in the vector store? How many dimensions?\n",
    "\n",
    "collection = vectorstore._collection\n",
    "count = collection.count()\n",
    "\n",
    "sample_embedding = collection.get(limit=1, include=[\"embeddings\"])[\"embeddings\"][0]\n",
    "dimensions = len(sample_embedding)\n",
    "print(f\"There are {count:,} vectors with {dimensions:,} dimensions in the vector store\")"
   ]
  },
  {
   "cell_type": "code",
   "execution_count": 11,
   "metadata": {},
   "outputs": [],
   "source": [
    "# Gather the vectors, documents and metadata\n",
    "\n",
    "result = collection.get(include=['embeddings', 'documents', 'metadatas'])\n",
    "vectors = np.array(result['embeddings'])\n",
    "documents = result['documents']\n",
    "metadatas = result['metadatas']\n",
    "doc_types = [metadata['source'].split('/')[1] for metadata in metadatas]\n",
    "colors = [['blue', 'green', 'red', 'orange'][['products', 'employees', 'contracts', 'company'].index(t)] for t in doc_types]"
   ]
  },
  {
   "cell_type": "code",
   "execution_count": 12,
   "metadata": {},
   "outputs": [
    {
     "name": "stderr",
     "output_type": "stream",
     "text": [
      "huggingface/tokenizers: The current process just got forked, after parallelism has already been used. Disabling parallelism to avoid deadlocks...\n",
      "To disable this warning, you can either:\n",
      "\t- Avoid using `tokenizers` before the fork if possible\n",
      "\t- Explicitly set the environment variable TOKENIZERS_PARALLELISM=(true | false)\n"
     ]
    },
    {
     "data": {
      "application/vnd.plotly.v1+json": {
       "config": {
        "plotlyServerURL": "https://plot.ly"
       },
       "data": [
        {
         "hoverinfo": "text",
         "marker": {
          "color": [
           "blue",
           "blue",
           "blue",
           "blue",
           "blue",
           "blue",
           "blue",
           "blue",
           "blue",
           "blue",
           "blue",
           "blue",
           "blue",
           "blue",
           "blue",
           "blue",
           "blue",
           "blue",
           "blue",
           "blue",
           "blue",
           "blue",
           "blue",
           "blue",
           "blue",
           "blue",
           "blue",
           "blue",
           "blue",
           "blue",
           "blue",
           "blue",
           "blue",
           "blue",
           "blue",
           "blue",
           "blue",
           "blue",
           "blue",
           "blue",
           "blue",
           "blue",
           "blue",
           "blue",
           "blue",
           "blue",
           "blue",
           "red",
           "red",
           "red",
           "red",
           "red",
           "red",
           "red",
           "red",
           "red",
           "red",
           "red",
           "red",
           "red",
           "red",
           "red",
           "red",
           "red",
           "red",
           "red",
           "red",
           "red",
           "red",
           "red",
           "red",
           "red",
           "red",
           "red",
           "red",
           "red",
           "red",
           "red",
           "red",
           "red",
           "red",
           "red",
           "red",
           "red",
           "red",
           "red",
           "red",
           "red",
           "red",
           "red",
           "red",
           "red",
           "red",
           "red",
           "red",
           "red",
           "red",
           "red",
           "red",
           "red",
           "red",
           "red",
           "red",
           "red",
           "red",
           "red",
           "red",
           "red",
           "red",
           "red",
           "red",
           "red",
           "red",
           "red",
           "red",
           "red",
           "red",
           "red",
           "red",
           "red",
           "red",
           "red",
           "red",
           "red",
           "red",
           "red",
           "red",
           "red",
           "red",
           "red",
           "red",
           "red",
           "red",
           "red",
           "red",
           "red",
           "red",
           "red",
           "red",
           "red",
           "red",
           "red",
           "red",
           "red",
           "red",
           "red",
           "red",
           "red",
           "red",
           "red",
           "red",
           "red",
           "red",
           "red",
           "red",
           "red",
           "red",
           "red",
           "red",
           "red",
           "red",
           "red",
           "red",
           "red",
           "red",
           "red",
           "red",
           "red",
           "red",
           "red",
           "red",
           "red",
           "red",
           "red",
           "red",
           "red",
           "red",
           "red",
           "red",
           "red",
           "red",
           "red",
           "red",
           "red",
           "red",
           "red",
           "red",
           "red",
           "red",
           "red",
           "red",
           "red",
           "red",
           "red",
           "red",
           "red",
           "red",
           "red",
           "red",
           "red",
           "red",
           "red",
           "red",
           "red",
           "red",
           "red",
           "red",
           "red",
           "red",
           "red",
           "red",
           "red",
           "red",
           "red",
           "red",
           "red",
           "red",
           "red",
           "red",
           "red",
           "red",
           "red",
           "red",
           "red",
           "red",
           "red",
           "red",
           "red",
           "red",
           "red",
           "red",
           "red",
           "red",
           "red",
           "red",
           "red",
           "red",
           "red",
           "red",
           "red",
           "red",
           "red",
           "red",
           "red",
           "red",
           "red",
           "red",
           "red",
           "red",
           "red",
           "red",
           "red",
           "red",
           "red",
           "red",
           "red",
           "red",
           "red",
           "red",
           "red",
           "red",
           "red",
           "red",
           "red",
           "red",
           "red",
           "red",
           "red",
           "red",
           "red",
           "red",
           "red",
           "red",
           "red",
           "red",
           "red",
           "red",
           "orange",
           "orange",
           "orange",
           "orange",
           "orange",
           "orange",
           "orange",
           "orange",
           "orange",
           "orange",
           "orange",
           "orange",
           "orange",
           "orange",
           "orange",
           "orange",
           "orange",
           "orange",
           "green",
           "green",
           "green",
           "green",
           "green",
           "green",
           "green",
           "green",
           "green",
           "green",
           "green",
           "green",
           "green",
           "green",
           "green",
           "green",
           "green",
           "green",
           "green",
           "green",
           "green",
           "green",
           "green",
           "green",
           "green",
           "green",
           "green",
           "green",
           "green",
           "green",
           "green",
           "green",
           "green",
           "green",
           "green",
           "green",
           "green",
           "green",
           "green",
           "green",
           "green",
           "green",
           "green",
           "green",
           "green",
           "green",
           "green",
           "green",
           "green",
           "green",
           "green",
           "green",
           "green",
           "green",
           "green",
           "green",
           "green",
           "green",
           "green",
           "green",
           "green",
           "green",
           "green",
           "green",
           "green",
           "green",
           "green",
           "green",
           "green",
           "green",
           "green",
           "green",
           "green",
           "green",
           "green",
           "green",
           "green",
           "green",
           "green",
           "green",
           "green",
           "green",
           "green",
           "green",
           "green",
           "green",
           "green",
           "green",
           "green",
           "green",
           "green",
           "green",
           "green",
           "green",
           "green",
           "green",
           "green",
           "green",
           "green",
           "green",
           "green",
           "green",
           "green",
           "green",
           "green",
           "green",
           "green",
           "green",
           "green",
           "green",
           "green",
           "green",
           "green",
           "green",
           "green",
           "green",
           "green",
           "green"
          ],
          "opacity": 0.8,
          "size": 5
         },
         "mode": "markers",
         "text": [
          "Type: products<br>Text: # Product Summary\n\n# Rellm: AI-Powered Enterprise Reinsurance Solution\n\n## Summary\n\nRellm is an inno...",
          "Type: products<br>Text: ### Seamless Integrations\nRellm's architecture is designed for effortless integration with existing ...",
          "Type: products<br>Text: ### Regulatory Compliance Tools\nRellm includes built-in compliance tracking features to help organiz...",
          "Type: products<br>Text: Join the growing number of organizations leveraging Rellm to enhance their reinsurance processes whi...",
          "Type: products<br>Text: Experience the future of reinsurance with Rellm, where innovation meets reliability. Let Insurellm h...",
          "Type: products<br>Text: # Product Summary\n\n# Claimllm\n\n## Summary\n\nClaimllm is Insurellm's revolutionary claims processing p...",
          "Type: products<br>Text: ## Features\n\n### 1. Intelligent FNOL Processing\nClaimllm's AI-powered first notice of loss intake ca...",
          "Type: products<br>Text: ### 4. Predictive Fraud Detection\nSophisticated fraud analytics evaluate claims against historical p...",
          "Type: products<br>Text: ### 7. Vendor Management Platform\nIntegrated tools coordinate with repair shops, medical providers, ...",
          "Type: products<br>Text: ### 10. Analytics and Reporting\nComprehensive dashboards track key metrics including cycle time, los...",
          "Type: products<br>Text: All tiers include comprehensive implementation, claims staff training, and continuous platform enhan...",
          "Type: products<br>Text: Claimllm represents the future of insurance claims—faster, smarter, and more customer-centric. Trans...",
          "Type: products<br>Text: # Product Summary\n\n# Bizllm\n\n## Summary\n\nBizllm is Insurellm's enterprise-grade commercial insurance...",
          "Type: products<br>Text: ## Features\n\n### 1. Multi-Line Underwriting Engine\nBizllm's sophisticated underwriting platform hand...",
          "Type: products<br>Text: ### 4. Workers' Compensation Optimization\nIntegrated workers' comp tools analyze payroll data, indus...",
          "Type: products<br>Text: ### 7. Portfolio Management Dashboard\nComprehensive analytics provide insurers with portfolio-level ...",
          "Type: products<br>Text: ## Pricing\n\nBizllm's pricing structure reflects the complexity and value of commercial insurance ope...",
          "Type: products<br>Text: All tiers include implementation services, staff training, and continuous platform updates.\n\n## Road...",
          "Type: products<br>Text: Bizllm empowers commercial insurers to compete effectively in complex markets while delivering the d...",
          "Type: products<br>Text: # Product Summary\n\n# Lifellm\n\n## Summary\n\nLifellm is an advanced life insurance platform developed b...",
          "Type: products<br>Text: ### 2. Predictive Risk Modeling\nAdvanced machine learning algorithms assess mortality risk by analyz...",
          "Type: products<br>Text: ### 5. Smart Document Processing\nLifellm utilizes natural language processing and optical character ...",
          "Type: products<br>Text: ## Pricing\n\nLifellm's flexible pricing structure accommodates insurance providers of all sizes:\n\n- *...",
          "Type: products<br>Text: All tiers include comprehensive onboarding, training programs, and regular platform updates.\n\n## Roa...",
          "Type: products<br>Text: With Lifellm, Insurellm is transforming life insurance into a modern, customer-centric experience th...",
          "Type: products<br>Text: # Product Summary\n\n# Healthllm\n\n## Summary\n\nHealthllm is Insurellm's comprehensive health insurance ...",
          "Type: products<br>Text: ### 2. Real-Time Eligibility Verification\nIntegrated eligibility checking ensures instant verificati...",
          "Type: products<br>Text: ### 5. Provider Network Management\nComprehensive tools for managing provider relationships, contract...",
          "Type: products<br>Text: ### 8. Regulatory Compliance Engine\nBuilt-in compliance monitoring ensures adherence to ACA requirem...",
          "Type: products<br>Text: All plans include implementation support, staff training, and ongoing platform enhancements.\n\n## Roa...",
          "Type: products<br>Text: Healthllm represents Insurellm's commitment to transforming health insurance through technology that...",
          "Type: products<br>Text: # Product Summary\n\n# Markellm\n\n## Summary\n\nMarkellm is an innovative two-sided marketplace designed ...",
          "Type: products<br>Text: - **User-Friendly Interface**: Designed with user experience in mind, Markellm features an intuitive...",
          "Type: products<br>Text: - **Customer Support**: Our dedicated support team is always available to assist both consumers and ...",
          "Type: products<br>Text: ### For Insurance Companies:\n- **Basic Listing Fee**: $199/month for a featured listing on the platf...",
          "Type: products<br>Text: ### Q3 2025\n- Initiate a comprehensive marketing campaign targeting both consumers and insurers to i...",
          "Type: products<br>Text: # Product Summary\n\n# Homellm\n\n## Summary\nHomellm is an innovative home insurance product developed b...",
          "Type: products<br>Text: ### 2. Dynamic Pricing Model\nWith Homellm's innovative dynamic pricing model, insurance providers ca...",
          "Type: products<br>Text: ### 5. Multi-Channel Integration\nHomellm seamlessly integrates into existing insurance platforms, pr...",
          "Type: products<br>Text: - **Basic Tier:** Starting at $5,000/month for small insurers with basic integration features.\n- **S...",
          "Type: products<br>Text: All tiers include a comprehensive training program and ongoing updates to ensure optimal performance...",
          "Type: products<br>Text: With Homellm, Insurellm is committed to transforming the landscape of home insurance, ensuring both ...",
          "Type: products<br>Text: # Product Summary\n\n# Carllm\n\n## Summary\n\nCarllm is an innovative auto insurance product developed by...",
          "Type: products<br>Text: - **Instant Quoting**: With Carllm, insurance companies can offer near-instant quotes to customers, ...",
          "Type: products<br>Text: - **Mobile Integration**: Carllm is designed to work seamlessly with mobile applications, providing ...",
          "Type: products<br>Text: - **Professional Tier**: $2,500/month\n  - For medium-sized companies.\n  - All Basic Tier features pl...",
          "Type: products<br>Text: ### Q2 2025: Customer Experience Improvements\n- Launch of a new **mobile app** for end-users.\n- Intr...",
          "Type: contracts<br>Text: # Contract with GreenField Holdings for Markellm\n\n**Effective Date:** November 15, 2023  \n**Contract...",
          "Type: contracts<br>Text: ## Renewal\n1. **Automatic Renewal**: This contract will automatically renew for sequential one-year ...",
          "Type: contracts<br>Text: ## Features\n1. **AI-Powered Matching**: Access to advanced algorithms that connect GreenField Holdin...",
          "Type: contracts<br>Text: ## Support\n1. **Customer Support Access**: The Client will have access to dedicated support through ...",
          "Type: contracts<br>Text: **Signatures:**  \n_________________________                           _________________________  \n**...",
          "Type: contracts<br>Text: # Contract with EverGuard Insurance for Rellm: AI-Powered Enterprise Reinsurance Solution\n\n**Contrac...",
          "Type: contracts<br>Text: 4. **Usage Rights**: EverGuard Insurance is granted a non-exclusive, non-transferable license to acc...",
          "Type: contracts<br>Text: 2. **Customizable Dashboard**: Users at EverGuard Insurance will have access to a customizable dashb...",
          "Type: contracts<br>Text: 3. **Updates and Upgrades**: EverGuard Insurance will receive all platform updates and upgrades at n...",
          "Type: contracts<br>Text: # Contract with United Healthcare Alliance for Healthllm\n\n**Contract Date:** May 15, 2025\n**Contract...",
          "Type: contracts<br>Text: 4. **Service Level Agreement:** Insurellm guarantees 99.95% uptime measured monthly, with financial ...",
          "Type: contracts<br>Text: 7. **Business Continuity:** Guaranteed 2-hour recovery time objective (RTO) and 15-minute recovery p...",
          "Type: contracts<br>Text: 1. **Unlimited Member Administration:** No capacity restrictions, supporting United's 250,000+ membe...",
          "Type: contracts<br>Text: 4. **Advanced AI Claims Adjudication:** Enterprise-grade claims processing:\n   - Auto-adjudication r...",
          "Type: contracts<br>Text: 6. **Complete API Access:** Unlimited API calls supporting:\n   - Real-time integration with United's...",
          "Type: contracts<br>Text: 8. **Comprehensive Medication Management:**\n   - Multi-tier formulary management (national and state...",
          "Type: contracts<br>Text: 10. **Quality and Performance Management:**\n    - HEDIS measure calculation and reporting\n    - STAR...",
          "Type: contracts<br>Text: 12. **Regulatory Compliance and Reporting:**\n    - ACA compliance monitoring (MLR, essential health ...",
          "Type: contracts<br>Text: ---\n\n## Support\n\nInsurellm commits to comprehensive Enterprise-level support for United Healthcare A...",
          "Type: contracts<br>Text: 3. **Comprehensive Implementation:**\n   - 18-month phased implementation program with 4 major go-liv...",
          "Type: contracts<br>Text: 4. **Training and Enablement:**\n   - Comprehensive role-based training programs for all staff\n   - E...",
          "Type: contracts<br>Text: 5. **Custom Development:**\n   - 3,000 hours annually of custom development included\n   - Dedicated d...",
          "Type: contracts<br>Text: 6. **Integration Services:**\n   - Enterprise integration with United's complex system landscape:\n   ...",
          "Type: contracts<br>Text: 7. **Analytics and Reporting:**\n   - Custom dashboard development (unlimited)\n   - Real-time operati...",
          "Type: contracts<br>Text: 8. **Compliance and Regulatory Support:**\n   - Monthly compliance reviews with detailed documentatio...",
          "Type: contracts<br>Text: 9. **Continuous Improvement:**\n   - Bi-weekly process optimization workshops\n   - Quarterly efficien...",
          "Type: contracts<br>Text: _________________________________\n**James Patterson**\n**Title**: Chairman & Chief Executive Officer\n...",
          "Type: contracts<br>Text: # Contract with Guardian Life Partners for Lifellm\n\n---\n\n## Terms...",
          "Type: contracts<br>Text: ---\n\n## Terms\n\n1. **Agreement Effective Date**: This contract is effective as of March 1, 2025.\n2. *...",
          "Type: contracts<br>Text: ---\n\n## Renewal\n\n1. **Automatic Renewal**: This agreement will automatically renew for an additional...",
          "Type: contracts<br>Text: ---\n\n## Features\n\n1. **Access to Growth Tier Features**: Guardian Life Partners will have comprehens...",
          "Type: contracts<br>Text: 3. **Advanced Underwriting:**\n   - Automated underwriting for face amounts up to $500,000\n   - Accel...",
          "Type: contracts<br>Text: 2. **Training**: Comprehensive training program:\n   - Initial onboarding (4 weeks) for up to 20 staf...",
          "Type: contracts<br>Text: 5. **Integration Support**: Technical assistance for integrating Lifellm with:\n   - Guardian's polic...",
          "Type: contracts<br>Text: _________________________________\n**Jonathan Park**\n**Title**: President & CEO\n**Guardian Life Partn...",
          "Type: contracts<br>Text: # Contract with Greenstone Insurance for Homellm\n\n---\n\n## Terms\n\n1. **Parties**: This Contract (\"Agr...",
          "Type: contracts<br>Text: 4. **Payment Terms**: \n   - The Customer shall pay an amount of $10,000 per month for the Standard T...",
          "Type: contracts<br>Text: ---\n\n## Features\n\n- **AI-Powered Risk Assessment**: Customer will have access to enhanced risk evalu...",
          "Type: contracts<br>Text: - **Customer Portal**: A dedicated portal will be provided, allowing the Customer's clients to manag...",
          "Type: contracts<br>Text: ______________________________  \n[Name], [Title]  \nDate: ______________________\n\n**For Greenstone In...",
          "Type: contracts<br>Text: # Contract with Roadway Insurance Inc. for Carllm\n\n---\n\n## Terms\n\n1. **Agreement Effective Date**: T...",
          "Type: contracts<br>Text: ---\n\n## Renewal\n\n1. **Automatic Renewal**: This agreement will automatically renew for an additional...",
          "Type: contracts<br>Text: ---\n\n## Features\n\n1. **Access to Core Features**: Roadway Insurance Inc. will have access to all Pro...",
          "Type: contracts<br>Text: ---\n\n## Support\n\n1. **Technical Support**: Roadway Insurance Inc. will receive priority technical su...",
          "Type: contracts<br>Text: # Contract with Rapid Claims Associates for Claimllm\n\n**Contract Date:** March 1, 2025\n**Contract Nu...",
          "Type: contracts<br>Text: 4. **Overage Fees:** If claims volume exceeds 5,000 annually, overage fees of $0.90 per claim apply,...",
          "Type: contracts<br>Text: ---\n\n## Features\n\nRapid Claims Associates will receive the following Core Tier features:\n\n1. **Intel...",
          "Type: contracts<br>Text: 3. **Basic Document Processing:** OCR and NLP extraction from:\n   - Police reports\n   - Repair estim...",
          "Type: contracts<br>Text: 7. **Payment Processing:** Integration with payment systems for:\n   - Direct deposit (ACH)\n   - Chec...",
          "Type: contracts<br>Text: 3. **Platform Updates:**\n   - Quarterly feature releases with new capabilities\n   - Monthly security...",
          "Type: contracts<br>Text: _________________________________\n**Marcus Johnson**\n**Title**: Chief Claims Officer\n**Rapid Claims ...",
          "Type: contracts<br>Text: # Contract with National Claims Network for Claimllm\n\n**Contract Date:** April 20, 2025\n**Contract N...",
          "Type: contracts<br>Text: 4. **Service Level Agreement:** Insurellm guarantees 99.95% uptime with financial credits for downti...",
          "Type: contracts<br>Text: 7. **Business Continuity:** Insurellm provides disaster recovery with 4-hour RTO (Recovery Time Obje...",
          "Type: contracts<br>Text: 3. **Advanced Computer Vision:** State-of-the-art damage assessment:\n   - Auto damage analysis with ...",
          "Type: contracts<br>Text: 5. **Complete API Access:** Unlimited API calls supporting:\n   - Real-time integrations with 50+ car...",
          "Type: contracts<br>Text: 8. **Advanced Vendor Management:**\n   - Network of 5,000+ preferred vendors nationwide\n   - AI-power...",
          "Type: contracts<br>Text: 2. **24/7/365 Premium Support:**\n   - Guaranteed 10-minute response time for P1 critical issues\n   -...",
          "Type: contracts<br>Text: 4. **Training and Enablement:**\n   - Role-based training programs (adjusters, supervisors, fraud inv...",
          "Type: contracts<br>Text: 6. **Integration Services:**\n   - Enterprise integration with National's systems:\n     - Policy admi...",
          "Type: contracts<br>Text: 8. **Continuous Improvement:**\n   - Quarterly process optimization workshops\n   - Annual efficiency ...",
          "Type: contracts<br>Text: # Contract with Continental Commercial Group for Bizllm\n\n**Contract Date:** April 12, 2025\n**Contrac...",
          "Type: contracts<br>Text: 4. **Confidentiality:** Both parties agree to maintain the highest level of confidentiality regardin...",
          "Type: contracts<br>Text: 7. **Exclusivity:** Continental Commercial Group receives exclusive use of Bizllm in the specialty c...",
          "Type: contracts<br>Text: 2. **Dedicated Cloud Infrastructure:** Private cloud deployment with dedicated servers, ensuring dat...",
          "Type: contracts<br>Text: 5. **Custom Product Configuration:** Ability to configure and deploy unlimited custom commercial ins...",
          "Type: contracts<br>Text: 8. **Regulatory Compliance Suite:** Automated compliance monitoring for all 50 states including form...",
          "Type: contracts<br>Text: 3. **Implementation and Onboarding:**\n   - 6-month implementation program with dedicated project man...",
          "Type: contracts<br>Text: 6. **Performance Optimization:**\n   - Monthly platform performance reviews\n   - Proactive capacity p...",
          "Type: contracts<br>Text: # Contract with Stellar Insurance Co. for Rellm\n\n## Terms\nThis contract is made between **Insurellm*...",
          "Type: contracts<br>Text: ### Termination\nEither party may terminate this agreement with a **30-day written notice**. In the e...",
          "Type: contracts<br>Text: ## Features\nStellar Insurance Co. will receive access to the following features of the Rellm product...",
          "Type: contracts<br>Text: ## Support\nInsurellm provides Stellar Insurance Co. with the following support services:\n\n- **24/7 T...",
          "Type: contracts<br>Text: # Contract with Harmony Health Plans for Healthllm\n\n---\n\n## Terms...",
          "Type: contracts<br>Text: ---\n\n## Terms\n\n1. **Agreement Effective Date**: This contract is effective as of January 25, 2025.\n2...",
          "Type: contracts<br>Text: ---\n\n## Renewal\n\n1. **Automatic Renewal**: This agreement will automatically renew for an additional...",
          "Type: contracts<br>Text: ---\n\n## Features\n\n1. **Access to Professional Tier Features**: Harmony Health Plans will have compre...",
          "Type: contracts<br>Text: 2. **Predictive Healthcare Analytics:**\n   - High-risk member identification for care management\n   ...",
          "Type: contracts<br>Text: 4. **Value-Based Care Tools:**\n   - ACO (Accountable Care Organization) performance tracking\n   - Sh...",
          "Type: contracts<br>Text: 2. **Training**: Comprehensive training program:\n   - 6-week implementation with dedicated project m...",
          "Type: contracts<br>Text: 4. **Account Management**:\n   - Named Senior Customer Success Manager with bi-weekly check-ins\n   - ...",
          "Type: contracts<br>Text: 6. **Analytics and Reporting:**\n   - Custom dashboard development (up to 10 dashboards)\n   - Automat...",
          "Type: contracts<br>Text: ---\n\n**Signatures:**\n\n_________________________________\n**Sarah Chen**\n**Title**: Vice President of ...",
          "Type: contracts<br>Text: # Contract with TechDrive Insurance for Carllm\n\n**Contract Date:** October 1, 2024  \n**Contract Dura...",
          "Type: contracts<br>Text: ## Renewal\n\n1. **Automatic Renewal**: This contract shall automatically renew for additional one-yea...",
          "Type: contracts<br>Text: ## Support\n\n1. **Customer Support**: Insurellm will provide 24/7 customer support to TechDrive Insur...",
          "Type: contracts<br>Text: **TechDrive Insurance Representative:**  \nName: Sarah Johnson  \nTitle: Operations Director  \nDate: _...",
          "Type: contracts<br>Text: # Contract with Heritage Life Assurance for Lifellm\n\n**Contract Date:** February 12, 2025\n**Contract...",
          "Type: contracts<br>Text: ## Renewal\n\n1. **Automatic Renewal**: This agreement automatically renews for 12-month terms unless ...",
          "Type: contracts<br>Text: 3. **Digital Health Integration**:\n   - Wearable device connections (Fitbit, Apple Watch)\n   - Healt...",
          "Type: contracts<br>Text: 6. **Advanced Reporting**:\n   - Application conversion analytics\n   - Underwriting productivity metr...",
          "Type: contracts<br>Text: ---\n\n**Signatures:**\n\n**Insurellm, Inc.**\nMichael Torres, Chief Revenue Officer\nDate: February 12, 2...",
          "Type: contracts<br>Text: # Contract with Premier Adjusters Inc. for Claimllm\n\n---\n\n## Terms...",
          "Type: contracts<br>Text: ---\n\n## Terms\n\n1. **Agreement Effective Date**: This contract is effective as of February 15, 2025.\n...",
          "Type: contracts<br>Text: ---\n\n## Renewal\n\n1. **Automatic Renewal**: This agreement will automatically renew for an additional...",
          "Type: contracts<br>Text: ---\n\n## Features\n\n1. **Access to Advanced Tier Features**: Premier Adjusters Inc. will have access t...",
          "Type: contracts<br>Text: 2. **Computer Vision Capabilities:**\n   - Automated vehicle damage assessment from photos (dents, sc...",
          "Type: contracts<br>Text: ---\n\n## Support\n\n1. **Technical Support**: Premier Adjusters Inc. will receive priority advanced sup...",
          "Type: contracts<br>Text: 3. **Updates and Maintenance**:\n   - Monthly platform updates with new features\n   - Bi-weekly secur...",
          "Type: contracts<br>Text: 6. **Data and Analytics:**\n   - Custom dashboard development (up to 5 dashboards)\n   - Monthly data ...",
          "Type: contracts<br>Text: # Contract with FastTrack Insurance Services for Claimllm\n\n**Contract Date:** May 10, 2025\n**Contrac...",
          "Type: contracts<br>Text: 5. **Confidentiality**: Both parties shall maintain confidentiality regarding each other's proprieta...",
          "Type: contracts<br>Text: 2. **Pricing Review**: Renewal pricing will be discussed 60 days prior to term end. Price increases ...",
          "Type: contracts<br>Text: 2. **Integration Capabilities**: API integration with FastTrack's existing claims systems (Guidewire...",
          "Type: contracts<br>Text: ---\n\n**Signatures:**\n\n**Insurellm, Inc.**\nSarah Chen, VP of Sales\nDate: May 10, 2025\n\n**FastTrack In...",
          "Type: contracts<br>Text: # Contract with Atlantic Risk Solutions for Bizllm\n\n---\n\n## Terms\n\n1. **Agreement Effective Date**: ...",
          "Type: contracts<br>Text: ---\n\n## Renewal\n\n1. **Automatic Renewal**: This agreement will automatically renew for an additional...",
          "Type: contracts<br>Text: ---\n\n## Features\n\n1. **Access to Professional Tier Features**: Atlantic Risk Solutions will have acc...",
          "Type: contracts<br>Text: 2. **Industry-Specific Templates**: Pre-configured underwriting templates for:\n   - Technology compa...",
          "Type: contracts<br>Text: 2. **Training**: Insurellm will provide comprehensive training program:\n   - Initial onboarding for ...",
          "Type: contracts<br>Text: 5. **Integration Support**: Technical assistance for integrating Bizllm with:\n   - Atlantic's existi...",
          "Type: contracts<br>Text: # Contract with Belvedere Insurance for Markellm\n\n## Terms\nThis Contract (\"Agreement\") is made and e...",
          "Type: contracts<br>Text: ## Renewal\n1. **Renewal Terms**: This Agreement may be renewed for additional one-year terms upon mu...",
          "Type: contracts<br>Text: ## Features\n1. **AI-Powered Matching**: Belvedere Insurance will benefit from Markellm's AI-powered ...",
          "Type: contracts<br>Text: ## Support\n1. **Technical Support**: Technical support will be available from 9 AM to 7 PM EST, Mond...",
          "Type: contracts<br>Text: **Belvedere Insurance**  \nSignature: ______________________  \nName: [Authorized Signatory]  \nTitle: ...",
          "Type: contracts<br>Text: # Contract with ConnectInsure Agency for Markellm\n\n**Contract Date:** February 28, 2025\n**Contract N...",
          "Type: contracts<br>Text: 5. **Lead Volume Expectations**: Based on ConnectInsure's profile, Markellm projects 80-120 qualifie...",
          "Type: contracts<br>Text: 8. **Dispute Resolution**: Lead quality disputes must be submitted within 5 business days with docum...",
          "Type: contracts<br>Text: 2. **Featured Listing**: Premium marketplace placement including:\n   - Enhanced agency profile with ...",
          "Type: contracts<br>Text: 5. **Data Insights**: Analytics dashboard providing:\n   - Lead volume trends and forecasting\n   - Co...",
          "Type: contracts<br>Text: 2. **Onboarding**: Implementation includes:\n   - 2-week onboarding process\n   - Platform training fo...",
          "Type: contracts<br>Text: ---\n\n**Signatures:**\n\n**Insurellm, Inc.**\nMichael Torres, Chief Revenue Officer\nDate: February 28, 2...",
          "Type: contracts<br>Text: # Contract with Metropolitan Life Group for Lifellm\n\n**Contract Date:** April 5, 2025\n**Contract Num...",
          "Type: contracts<br>Text: 4. **Service Level Agreement:** Insurellm guarantees 99.9% uptime measured monthly, with 10% monthly...",
          "Type: contracts<br>Text: ---\n\n## Features\n\nMetropolitan Life Group will receive the complete Lifellm Enterprise suite:\n\n1. **...",
          "Type: contracts<br>Text: 4. **Comprehensive Digital Health Integration:**\n   - Wearable integrations: Apple Watch, Fitbit, Ga...",
          "Type: contracts<br>Text: 6. **Predictive Analytics Suite:**\n   - Lapse and persistency prediction modeling\n   - Cross-sell an...",
          "Type: contracts<br>Text: 9. **Regulatory and Compliance:**\n   - 50-state compliance monitoring and form filing\n   - Automated...",
          "Type: contracts<br>Text: ---\n\n## Support\n\nInsurellm commits to comprehensive Enterprise-level support for Metropolitan Life G...",
          "Type: contracts<br>Text: 3. **Comprehensive Implementation:**\n   - 12-month phased implementation program with 3 major releas...",
          "Type: contracts<br>Text: 5. **Custom Development:**\n   - 2,000 hours annually of custom development included\n   - Dedicated d...",
          "Type: contracts<br>Text: 7. **Analytics and Reporting:**\n   - Custom executive dashboard development (unlimited)\n   - Real-ti...",
          "Type: contracts<br>Text: ---\n\n**Signatures:**\n\n_________________________________\n**Jennifer Rodriguez**\n**Title**: Chief Exec...",
          "Type: contracts<br>Text: # Contract with Velocity Auto Solutions for Carllm\n\n**Contract Date:** October 1, 2023  \n**Contract ...",
          "Type: contracts<br>Text: ## Renewal\n\n1. **Automatic Renewal**: This contract will automatically renew for successive 12-month...",
          "Type: contracts<br>Text: ## Support\n\n1. **Customer Support**: Velocity Auto Solutions will have access to Insurellm’s custome...",
          "Type: contracts<br>Text: # Contract with GlobalRe Partners for Rellm - AI-Powered Enterprise Reinsurance Solution\n\n**Contract...",
          "Type: contracts<br>Text: 4. **Reinsurance Volume**: Enterprise Tier supports unlimited treaties and facultative certificates....",
          "Type: contracts<br>Text: 8. **Business Continuity:** Guaranteed 2-hour recovery time objective (RTO) and 30-minute recovery p...",
          "Type: contracts<br>Text: ---\n\n## Features\n\nGlobalRe Partners will receive the complete Rellm Enterprise suite with advanced r...",
          "Type: contracts<br>Text: 3. **Advanced AI-Driven Analytics:** Enterprise-grade reinsurance analytics:\n   - Predictive risk mo...",
          "Type: contracts<br>Text: 5. **Catastrophe Modeling Integration:** Best-in-class CAT modeling:\n   - Integration with all major...",
          "Type: contracts<br>Text: 7. **Facultative Reinsurance Platform:** Comprehensive fac management:\n   - Digital submission intak...",
          "Type: contracts<br>Text: 9. **Regulatory Compliance Tools:** Global compliance support:\n   - Multi-jurisdiction regulatory re...",
          "Type: contracts<br>Text: 11. **Complete API Access:** Unlimited API integration:\n    - Real-time integration with GlobalRe's ...",
          "Type: contracts<br>Text: 13. **Climate Risk Analytics:** Forward-looking climate modeling:\n    - IPCC climate scenario analys...",
          "Type: contracts<br>Text: 2. **24/7/365 Premium Support:**\n   - Guaranteed 10-minute response for P1 critical issues (during c...",
          "Type: contracts<br>Text: 3. **Comprehensive Implementation:**\n   - 18-month phased implementation program with 5 major releas...",
          "Type: contracts<br>Text: 4. **Training and Enablement:**\n   - Comprehensive role-based training (underwriters, actuaries, acc...",
          "Type: contracts<br>Text: 5. **Custom Development:**\n   - 4,000 hours annually of custom development included\n   - Dedicated d...",
          "Type: contracts<br>Text: 6. **Integration Services:**\n   - Enterprise integration with GlobalRe's complex ecosystem:\n     - S...",
          "Type: contracts<br>Text: 7. **Analytics and Reporting:**\n   - Custom dashboard development (unlimited)\n   - Real-time operati...",
          "Type: contracts<br>Text: 8. **Catastrophe Response:**\n   - Dedicated CAT war room activation during major events\n   - Real-ti...",
          "Type: contracts<br>Text: 10. **Continuous Improvement:**\n    - Monthly process optimization sessions\n    - Quarterly efficien...",
          "Type: contracts<br>Text: ---\n\n**Signatures:**\n\n_________________________________\n**Jennifer Rodriguez**\n**Title**: Chief Exec...",
          "Type: contracts<br>Text: # Contract with WellCare Insurance Co. for Healthllm\n\n**Contract Date:** March 8, 2025\n**Contract Nu...",
          "Type: contracts<br>Text: 4. **Member Coverage**: Essential Tier supports health insurance administration for up to 15,000 cov...",
          "Type: contracts<br>Text: ---\n\n## Features\n\nWellCare Insurance Co. will receive the following Essential Tier features:\n\n1. **I...",
          "Type: contracts<br>Text: 3. **AI-Driven Claims Adjudication:** Automated claims processing:\n   - Machine learning-based claim...",
          "Type: contracts<br>Text: 6. **Basic Medication Management:**\n   - Formulary management tools\n   - Prior authorization workflo...",
          "Type: contracts<br>Text: ---\n\n## Support\n\nInsurellm commits to providing comprehensive support to WellCare Insurance Co.:\n\n1....",
          "Type: contracts<br>Text: 4. **Account Management:**\n   - Named customer success manager\n   - Quarterly business review meetin...",
          "Type: contracts<br>Text: ---\n\n**Signatures:**\n\n_________________________________\n**Sarah Chen**\n**Title**: Vice President of ...",
          "Type: contracts<br>Text: # Contract with Fortress Business Underwriters for Bizllm\n\n---\n\n## Terms\n\n1. **Agreement Effective D...",
          "Type: contracts<br>Text: ---\n\n## Renewal\n\n1. **Automatic Renewal**: This agreement will automatically renew for an additional...",
          "Type: contracts<br>Text: ---\n\n## Features\n\n1. **Access to Professional Tier Features**: Fortress Business Underwriters will h...",
          "Type: contracts<br>Text: 2. **Advanced Analytics**: Access to enhanced reporting capabilities including loss ratio analysis, ...",
          "Type: contracts<br>Text: 2. **Training**: Insurellm will provide:\n   - Initial comprehensive onboarding (40 hours) for up to ...",
          "Type: contracts<br>Text: ---\n\n**Signatures:**\n\n_________________________________\n**Michael Torres**\n**Title**: Chief Revenue ...",
          "Type: contracts<br>Text: # Contract with GreenValley Insurance for Homellm\n\n**Contract Date:** October 6, 2023  \n**Contract N...",
          "Type: contracts<br>Text: 4. **Confidentiality:** Both parties agree to maintain the confidentiality of proprietary informatio...",
          "Type: contracts<br>Text: 1. **AI-Powered Risk Assessment:** Access to advanced AI algorithms for real-time risk evaluations.\n...",
          "Type: contracts<br>Text: 3. **Regular Updates:** Insurellm will offer ongoing updates and enhancements to the Homellm platfor...",
          "Type: contracts<br>Text: # Contract with Evergreen Life Insurance for Lifellm\n\n**Contract Date:** January 20, 2025\n**Contract...",
          "Type: contracts<br>Text: 4. **Policy Volume:** Starter Tier supports underwriting and administration for up to 2,000 active p...",
          "Type: contracts<br>Text: ---\n\n## Features\n\nEvergreen Life Insurance will receive the following Starter Tier features:\n\n1. **A...",
          "Type: contracts<br>Text: 4. **Smart Document Processing:** OCR and NLP extraction from:\n   - Medical records and attending ph...",
          "Type: contracts<br>Text: ---\n\n## Support\n\nInsurellm commits to providing comprehensive support to Evergreen Life Insurance:\n\n...",
          "Type: contracts<br>Text: 3. **Platform Updates:**\n   - Quarterly feature releases\n   - Monthly security patches and improveme...",
          "Type: contracts<br>Text: _________________________________\n**Catherine Wu**\n**Title**: Chief Underwriting Officer\n**Evergreen...",
          "Type: contracts<br>Text: # Contract with BrightWay Solutions for Markellm\n\n**Contract Date:** October 5, 2023  \n**Contract ID...",
          "Type: contracts<br>Text: 3. **Service Level Agreement (SLA):**  \n   Insurellm commits to a 99.9% uptime for the platform with...",
          "Type: contracts<br>Text: 2. **Real-Time Quote Availability:**  \n   Consumers sourced via BrightWay Solutions will receive rea...",
          "Type: contracts<br>Text: 3. **Training and Onboarding:**  \n   Insurellm agrees to provide one free training session on how to...",
          "Type: contracts<br>Text: # Contract with DriveSmart Insurance for Carllm\n\n**Contract Date:** March 20, 2025\n**Contract Number...",
          "Type: contracts<br>Text: 4. **Policy Volume**: Enterprise Tier supports unlimited policies. DriveSmart currently has 85,000 a...",
          "Type: contracts<br>Text: ---\n\n## Features\n\nDriveSmart Insurance will receive the complete Carllm Enterprise suite:\n\n1. **Unli...",
          "Type: contracts<br>Text: 4. **Instant Quoting Engine:** High-performance quoting:\n   - Sub-3-second quote generation\n   - Rea...",
          "Type: contracts<br>Text: 6. **Advanced Fraud Detection:** Comprehensive fraud prevention:\n   - Application fraud detection (i...",
          "Type: contracts<br>Text: 8. **Telematics Integration:** Complete telematics platform:\n   - Device-agnostic integration (OBD-I...",
          "Type: contracts<br>Text: 10. **Multi-State Operations:** Comprehensive state support:\n    - State-specific forms and endorsem...",
          "Type: contracts<br>Text: 3. **Implementation:**\n   - 6-month phased implementation\n   - Dedicated project manager\n   - Migrat...",
          "Type: contracts<br>Text: 6. **Integration Services:**\n   - Integration with DriveSmart's systems:\n     - Duck Creek policy ad...",
          "Type: contracts<br>Text: ---\n\n**Signatures:**\n\n_________________________________\n**Jennifer Rodriguez**\n**Title**: Chief Exec...",
          "Type: contracts<br>Text: # Contract with SafeHaven Property Insurance for Homellm\n\n**Contract Date:** May 3, 2025\n**Contract ...",
          "Type: contracts<br>Text: 4. **Policy Volume**: Enterprise Tier supports unlimited policies. SafeHaven currently has 45,000 ac...",
          "Type: contracts<br>Text: ---\n\n## Features\n\nSafeHaven Property Insurance will receive the complete Homellm Enterprise suite:\n\n...",
          "Type: contracts<br>Text: 3. **Advanced AI Risk Assessment:** Enterprise-grade property risk analysis:\n   - Aerial imagery ana...",
          "Type: contracts<br>Text: 5. **Instant Claims Processing:** Advanced claims automation:\n   - AI-driven FNOL with photo/video u...",
          "Type: contracts<br>Text: 7. **Multi-Channel Integration:** Unified platform:\n   - Agent portal for 1,500+ independent agents\n...",
          "Type: contracts<br>Text: 9. **IoT Device Integration:** Smart home platform:\n   - Water leak detection systems (Flo by Moen, ...",
          "Type: contracts<br>Text: 11. **Multi-State Operations:** Comprehensive support:\n    - State-specific forms and endorsements f...",
          "Type: contracts<br>Text: ---\n\n## Support\n\nInsurellm commits to comprehensive Enterprise-level support for SafeHaven Property ...",
          "Type: contracts<br>Text: 3. **Comprehensive Implementation:**\n   - 8-month phased implementation program\n   - Dedicated proje...",
          "Type: contracts<br>Text: 5. **Custom Development:**\n   - 1,200 hours annually of custom development\n   - Dedicated developmen...",
          "Type: contracts<br>Text: 7. **Analytics and Reporting:**\n   - Custom dashboard development (up to 20 dashboards)\n   - Real-ti...",
          "Type: contracts<br>Text: 9. **Catastrophe Response:**\n   - Dedicated CAT support during disaster events\n   - Pre-CAT system p...",
          "Type: contracts<br>Text: _________________________________\n**Laura Mitchell**\n**Title**: President & Chief Executive Officer\n...",
          "Type: contracts<br>Text: # Contract with Pinnacle Insurance Co. for Homellm\n\n## Terms\nThis contract (\"Contract\") is entered i...",
          "Type: contracts<br>Text: ## Renewal\n1. **Renewal Terms**: At the end of the initial term, this Contract shall automatically r...",
          "Type: contracts<br>Text: ## Features\n1. **AI-Powered Risk Assessment**: Utilized for tailored underwriting decisions specific...",
          "Type: contracts<br>Text: ## Support\n1. **Technical Support**: Insurellm shall provide 24/7 technical support via an email and...",
          "Type: contracts<br>Text: # Contract with Apex Reinsurance for Rellm: AI-Powered Enterprise Reinsurance Solution\n\n## Terms\n\n1....",
          "Type: contracts<br>Text: ## Renewal\n\n1. **Automatic Renewal**: This Agreement will automatically renew for successive one-yea...",
          "Type: contracts<br>Text: 2. **Seamless Integrations**: The architecture of Rellm allows for easy integration with existing sy...",
          "Type: contracts<br>Text: 1. **Technical Support**: Provider shall offer dedicated technical support to the Client via phone, ...",
          "Type: contracts<br>Text: **Insurellm, Inc.**  \n_____________________________  \nAuthorized Signature   \nDate: ________________...",
          "Type: contracts<br>Text: # Contract with Advantage Medical Coverage for Healthllm\n\n**Contract Date:** April 18, 2025\n**Contra...",
          "Type: contracts<br>Text: 4. **Member Coverage**: Professional Tier supports up to 50,000 covered members. Advantage currently...",
          "Type: contracts<br>Text: 2. **Pricing Review**: Renewal pricing will be discussed 75 days prior to term end and mutually agre...",
          "Type: contracts<br>Text: 2. **Value-Based Care Support:**\n   - ACO performance tracking and shared savings calculation\n   - H...",
          "Type: contracts<br>Text: 2. **Training**: Comprehensive training program:\n   - 5-week implementation with project manager\n   ...",
          "Type: contracts<br>Text: ---\n\n**Signatures:**\n\n**Insurellm, Inc.**\nSarah Chen, VP of Sales\nDate: April 18, 2025\n\n**Advantage ...",
          "Type: contracts<br>Text: # Contract with Summit Commercial Insurance for Bizllm\n\n**Contract Date:** March 15, 2025\n**Contract...",
          "Type: contracts<br>Text: 3. **Payment:** Summit Commercial Insurance shall pay a monthly fee of $6,000, due by the 1st of eve...",
          "Type: contracts<br>Text: 6. **Data Security:** Insurellm commits to maintaining industry-standard encryption and security pro...",
          "Type: contracts<br>Text: 2. **Business Intelligence Integration:** Automated data gathering from business registries, financi...",
          "Type: contracts<br>Text: ---\n\n## Support\n\nInsurellm commits to providing comprehensive support to Summit Commercial Insurance...",
          "Type: contracts<br>Text: 5. **Performance Reviews:** Quarterly business reviews to assess platform utilization, identify opti...",
          "Type: company<br>Text: # Overview of Insurellm\n\nInsurellm is an innovative insurance tech firm with 32 employees operating ...",
          "Type: company<br>Text: ### Marketplace & Infrastructure\n- **Markellm** - Marketplace connecting consumers with insurance pr...",
          "Type: company<br>Text: ## Client Portfolio Breakdown\n\nInsurellm's 32 active contracts span the full spectrum of insurance t...",
          "Type: company<br>Text: **Insurance Marketplace (Markellm)**: 2 contracts with agencies and brokers leveraging the consumer-...",
          "Type: company<br>Text: # Careers at Insurellm\n\n## Why Join Insurellm?\n\nAt Insurellm, we're not just building software—we're...",
          "Type: company<br>Text: ### Our Culture\n\nWe live by our core values every day:\n- **Innovation First**: We encourage experime...",
          "Type: company<br>Text: ## Current Opportunities\n\n### Engineering\n\n**Senior Full Stack Engineer** - San Francisco, CA\n- Lead...",
          "Type: company<br>Text: **DevOps Engineer** - New York, NY\n- Manage cloud infrastructure (AWS/GCP)\n- Implement CI/CD pipelin...",
          "Type: company<br>Text: **Data Engineer** - Austin, TX\n- Design and maintain data pipelines\n- Build data warehousing solutio...",
          "Type: company<br>Text: ### Sales & Customer Success\n\n**Account Executive** - New York, NY / Chicago, IL / Austin, TX\n- Mana...",
          "Type: company<br>Text: ### Operations & Support\n\n**Technical Support Specialist** - Remote\n- Provide tier 2/3 technical sup...",
          "Type: company<br>Text: # Insurellm Culture\n\n## Vision Statement\nTo revolutionize the insurance industry through innovative ...",
          "Type: company<br>Text: ### Customer Obsession\nOur clients' success is our success. We deeply understand our customers' need...",
          "Type: company<br>Text: ## Employer Value Proposition\n\n**Build the Future of Insurance Technology with Elite Talent**\n\nAt In...",
          "Type: company<br>Text: - **Meaningful Impact**: Your work directly shapes products powering 32 active insurance operations,...",
          "Type: company<br>Text: # About Insurellm\n\nInsurellm was founded by Avery Lancaster in 2015 as an insurance tech startup des...",
          "Type: company<br>Text: However, the company underwent a strategic restructuring in 2022-2023 to focus on profitability and ...",
          "Type: company<br>Text: - **Bizllm** quickly gained traction with 7 commercial insurance contracts, including regional carri...",
          "Type: employees<br>Text: # HR Record\n\n# David Kim\n\n## Summary\n- **Date of Birth:** September 22, 1992\n- **Job Title:** DevOps...",
          "Type: employees<br>Text: - **June 2017 - February 2019:** Systems Administrator at CloudFirst Solutions\n  - Maintained Linux ...",
          "Type: employees<br>Text: ## Other HR Notes\n- **Certifications:** AWS Certified Solutions Architect (2022), Certified Kubernet...",
          "Type: employees<br>Text: # HR Record\n\n# Nina Patel\n\n## Summary\n- **Date of Birth:** July 25, 1991\n- **Job Title:** Business I...",
          "Type: employees<br>Text: - **May 2017 - July 2019:** Data Analyst at RetailMetrics Inc.\n  - Analyzed retail sales data and cu...",
          "Type: employees<br>Text: - **2019:** Rating: 3.9/5\n  *Good onboarding year. Quick to adapt to Insurellm's data systems.*\n\n## ...",
          "Type: employees<br>Text: # HR Record\n\n# Priya Sharma\n\n## Summary\n- **Date of Birth:** January 8, 1986\n- **Job Title:** Senior...",
          "Type: employees<br>Text: - **August 2012 - May 2015:** Research Scientist at UC Berkeley AI Lab\n  - Conducted research in mac...",
          "Type: employees<br>Text: - **2019:** Rating: 4.6/5\n  *Excellent contributions to fraud detection systems. Recognized for thou...",
          "Type: employees<br>Text: ## Other HR Notes\n- **Education:** PhD in Computer Science (Machine Learning) from Stanford Universi...",
          "Type: employees<br>Text: # HR Record\n\n# Alex Chen\n\n## Summary\n- **Date of Birth:** March 15, 1990\n- **Job Title:** Backend So...",
          "Type: employees<br>Text: ## Annual Performance History\n- **2020:**  \n  - Completed onboarding successfully.  \n  - Met expecta...",
          "Type: employees<br>Text: ## Compensation History\n- **2020:** Base Salary: $80,000  \n- **2021:** Base Salary Increase to $90,0...",
          "Type: employees<br>Text: Alex Chen continues to be a vital asset at Insurellm, contributing significantly to innovative backe...",
          "Type: employees<br>Text: # HR Record\n\n# Robert Chen\n\n## Summary\n- **Date of Birth:** February 28, 1983\n- **Job Title:** Senio...",
          "Type: employees<br>Text: - **August 2008 - May 2012:** Software Engineer at TechStartup\n  - Developed features for SaaS platf...",
          "Type: employees<br>Text: - **2019:** Rating: 4.5/5\n  *Excellent year with successful Homellm rewrite. Strong architectural co...",
          "Type: employees<br>Text: ## Other HR Notes\n- **Education:** MS in Computer Science from Stanford University, BS in Computer E...",
          "Type: employees<br>Text: # HR Record\n\n# Oliver Spencer\n\n## Summary\n- **Date of Birth**: May 14, 1990\n- **Job Title**: Backend...",
          "Type: employees<br>Text: ## Annual Performance History\n- **2018**: **3/5** - Adaptable team player but still learning to take...",
          "Type: employees<br>Text: ## Compensation History\n- **March 2018**: Initial salary of $80,000.\n- **July 2019**: Salary increas...",
          "Type: employees<br>Text: # HR Record\n\n# Amanda Foster\n\n## Summary\n- **Date of Birth:** August 14, 1982\n- **Job Title:** HR Bu...",
          "Type: employees<br>Text: - **June 2009 - February 2013:** HR Coordinator at Enterprise Corp.\n  - Supported recruiting and onb...",
          "Type: employees<br>Text: - **2019:** Rating: 4.2/5\n  *Strong year. Improved hiring velocity for engineering roles by 35%. Bui...",
          "Type: employees<br>Text: ## Other HR Notes\n- **Education:** MS in Human Resources Management from Cornell University, BA in P...",
          "Type: employees<br>Text: # HR Record\n\n# Emily Tran\n\n## Summary\n- **Date of Birth:** March 18, 1991\n- **Job Title:** Digital M...",
          "Type: employees<br>Text: - **January 2017 - May 2018**: Marketing Intern  \n  - Supported the Marketing team by collaborating ...",
          "Type: employees<br>Text: - **2021**:  \n  - Performance Rating: Meets Expectations  \n  - Key Achievements: Contributed to the ...",
          "Type: employees<br>Text: - **Professional Development Goals**:  \n  - Emily Tran aims to become a Marketing Manager within the...",
          "Type: employees<br>Text: # HR Record\n\n# Jordan Blake\n\n## Summary\n- **Date of Birth:** March 15, 1993\n- **Job Title:** Sales D...",
          "Type: employees<br>Text: ## Annual Performance History\n- **2021:** First year at Insurellm; achieved 90% of monthly targets. ...",
          "Type: employees<br>Text: ## Other HR Notes\n- Jordan has shown an interest in continuing education, actively participating in ...",
          "Type: employees<br>Text: # HR Record\n\n# Kevin Zhang\n\n## Summary\n- **Date of Birth:** March 27, 1990\n- **Job Title:** Mobile D...",
          "Type: employees<br>Text: - **July 2015 - January 2018:** Junior Mobile Developer at StartupTech\n  - Built mobile features for...",
          "Type: employees<br>Text: ## Other HR Notes\n- **Education:** BS in Computer Science from UC Berkeley\n- **Skills:** Expert in S...",
          "Type: employees<br>Text: # HR Record\n\n# Maya Thompson\n\n## Summary\n- **Date of Birth:** June 14, 1993\n- **Job Title:** Data En...",
          "Type: employees<br>Text: ## Annual Performance History\n- **2023:** Rating: 4.3/5\n  *Strong performance. Delivered critical da...",
          "Type: employees<br>Text: ## Compensation History\n- **2023:** Base Salary: $110,000 + Bonus: $12,000\n- **2022:** Base Salary: ...",
          "Type: employees<br>Text: # HR Record\n\n# Jennifer Adams\n\n## Summary\n- **Date of Birth:** July 7, 1997\n- **Job Title:** Sales D...",
          "Type: employees<br>Text: - **August 2019 - May 2022:** Customer Service Representative at RetailCo\n  - Handled customer inqui...",
          "Type: employees<br>Text: ## Compensation History\n- **2023:** Base Salary: $58,000 + Commission: $4,200\n- **2022:** Intern Sti...",
          "Type: employees<br>Text: # HR Record\n\n# Jessica Liu\n\n## Summary\n- **Date of Birth:** April 30, 1996\n- **Job Title:** Frontend...",
          "Type: employees<br>Text: - **June 2018 - December 2019:** Web Developer Intern at StartupLabs\n  - Created landing pages and m...",
          "Type: employees<br>Text: ## Other HR Notes\n- **Education:** BS in Computer Science from University of Manchester\n- **Skills:*...",
          "Type: employees<br>Text: # Avery Lancaster\n\n## Summary\n- **Date of Birth**: March 15, 1985\n- **Job Title**: Co-Founder & Chie...",
          "Type: employees<br>Text: - **2010 - 2013**: Business Analyst at Edge Analytics  \n  Prior to joining Innovate, Avery worked as...",
          "Type: employees<br>Text: - **2018**: **Exceeds Expectations**  \n  Under Avery’s pivoted vision, Insurellm launched two new su...",
          "Type: employees<br>Text: - **2022**: **Satisfactory**  \n  Avery focused on rebuilding team dynamics and addressing employee c...",
          "Type: employees<br>Text: ## Compensation History\n- **2015**: $150,000 base salary + Significant equity stake  \n- **2016**: $1...",
          "Type: employees<br>Text: ## Other HR Notes\n- **Professional Development**: Avery has actively participated in leadership trai...",
          "Type: employees<br>Text: # HR Record\n\n# Maxine Thompson\n\n## Summary\n- **Date of Birth:** January 15, 1991\n- **Job Title:** Da...",
          "Type: employees<br>Text: ## Insurellm Career Progression\n- **January 2017 - October 2018**: **Junior Data Engineer**  \n  * Ma...",
          "Type: employees<br>Text: - **January 2021 - Present**: **Senior Data Engineer**  \n  * Maxine was promoted to Senior Data Engi...",
          "Type: employees<br>Text: ## Annual Performance History\n- **2017**: *Meets Expectations*  \n  Maxine showed potential in her ro...",
          "Type: employees<br>Text: - **2021**: *Exceeds Expectations*  \n  Maxine spearheaded the transition to a new data warehousing s...",
          "Type: employees<br>Text: ## Compensation History\n- **2017**: $70,000 (Junior Data Engineer)  \n- **2018**: $75,000 (Junior Dat...",
          "Type: employees<br>Text: # HR Record\n\n# Daniel Park\n\n## Summary\n- **Date of Birth:** October 3, 1991\n- **Job Title:** QA Engi...",
          "Type: employees<br>Text: ## Annual Performance History\n- **2023:** Rating: 4.2/5\n  *Strong performance. Expanded test automat...",
          "Type: employees<br>Text: ## Other HR Notes\n- **Education:** BS in Computer Science from Texas State University\n- **Certificat...",
          "Type: employees<br>Text: # Samantha Greene\n\n## Summary\n- **Date of Birth:** October 14, 1990\n- **Job Title:** HR Generalist\n-...",
          "Type: employees<br>Text: ## Annual Performance History\n- **2020:** Exceeds Expectations  \n  Samantha Greene demonstrated exce...",
          "Type: employees<br>Text: ## Compensation History\n- **2020:** Base Salary - $55,000  \n  The entry-level salary matched industr...",
          "Type: employees<br>Text: - **2023:** Base Salary - $70,000  \n  Recognized for substantial improvement in employee relations m...",
          "Type: employees<br>Text: # HR Record\n\n# Marcus Johnson\n\n## Summary\n- **Date of Birth:** February 17, 1988\n- **Job Title:** Cu...",
          "Type: employees<br>Text: - **January 2016 - August 2018:** Account Manager at SaaS Solutions Inc.\n  - Managed B2B client rela...",
          "Type: employees<br>Text: - **2020:** Rating: 4.0/5\n  *Good transition to CSM role. Quickly built rapport with enterprise clie...",
          "Type: employees<br>Text: # HR Record\n\n# Alex Thomson\n\n## Summary\n- **Date of Birth:** March 15, 1995\n- **Job Title:** Sales D...",
          "Type: employees<br>Text: ## Annual Performance History  \n- **2022** - Rated as \"Exceeds Expectations.\" Alex Thomson achieved ...",
          "Type: employees<br>Text: ## Other HR Notes\n- Alex Thomson is an active member of the Diversity and Inclusion committee at Ins...",
          "Type: employees<br>Text: # HR Record\n\n# Michael O'Brien\n\n## Summary\n- **Date of Birth:** May 20, 1984\n- **Job Title:** Accoun...",
          "Type: employees<br>Text: - **August 2010 - May 2014:** Sales Representative at Business Solutions Inc.\n  - B2B software sales...",
          "Type: employees<br>Text: - **2019:** Rating: 4.2/5\n  *Strong performance at 125% quota attainment. Expanded territory success...",
          "Type: employees<br>Text: ## Other HR Notes\n- **Education:** BA in Business from University of Illinois\n- **Awards:** Sales Ex...",
          "Type: employees<br>Text: # HR Record\n\n# Rachel Martinez\n\n## Summary\n- **Date of Birth:** June 8, 1987\n- **Job Title:** Produc...",
          "Type: employees<br>Text: ## Annual Performance History\n- **2023:** Rating: 4.6/5\n  *Exceptional year with successful launch o...",
          "Type: employees<br>Text: - **2019:** Rating: 4.0/5\n  *Strong start as Product Manager. Successfully transitioned from APM rol...",
          "Type: employees<br>Text: ## Other HR Notes\n- **Professional Development:** Completed Product Leadership Certification from Pr...",
          "Type: employees<br>Text: # HR Record\n\n# Sarah Williams\n\n## Summary\n- **Date of Birth:** November 3, 1994\n- **Job Title:** UX ...",
          "Type: employees<br>Text: - **August 2018 - May 2020:** UI/UX Designer at StartupHub Inc.\n  - Designed mobile and web interfac...",
          "Type: employees<br>Text: ## Other HR Notes\n- **Education:** BFA in Graphic Design from Rhode Island School of Design\n- **Skil...",
          "Type: employees<br>Text: # HR Record\n\n# Michelle Rivera\n\n## Summary\n- **Date of Birth:** December 16, 1988\n- **Job Title:** P...",
          "Type: employees<br>Text: - **May 2013 - July 2016:** UX Designer at CreativeAgency\n  - Created user interfaces for consumer a...",
          "Type: employees<br>Text: - **2019:** Rating: 4.0/5\n  *Solid first year at Insurellm. Quick to learn complex insurance domain ...",
          "Type: employees<br>Text: ## Other HR Notes\n- **Education:** MFA in Interaction Design from School of Visual Arts, BFA in Grap...",
          "Type: employees<br>Text: # HR Record\n\n# Samuel Trenton\n\n## Summary\n- **Date of Birth:** April 12, 1989\n- **Job Title:** Senio...",
          "Type: employees<br>Text: - **August 2016 - May 2018:** Junior Data Analyst  \n  *Started at Insurellm as a Junior Data Analyst...",
          "Type: employees<br>Text: - **2021:** Rating: 4.0/5  \n  *There was notable improvement in performance. Worked to enhance model...",
          "Type: employees<br>Text: - **2020:** Base Salary: $100,000 + Bonus: $8,000  \n  *Initial compensation as Senior Data Scientist...",
          "Type: employees<br>Text: # HR Record\n\n# Lisa Anderson\n\n## Summary\n- **Date of Birth:** November 18, 1985\n- **Job Title:** Mar...",
          "Type: employees<br>Text: - **June 2012 - December 2015:** Marketing Coordinator at Enterprise Solutions\n  - Supported marketi...",
          "Type: employees<br>Text: - **2019:** Rating: 4.0/5\n  *Strong start as Marketing Manager. Quick to understand insurance tech m...",
          "Type: employees<br>Text: ## Other HR Notes\n- **Education:** MBA in Marketing from University of Texas at Austin, BA in Commun...",
          "Type: employees<br>Text: # HR Record\n\n# Alex Harper\n\n## Summary\n- **Date of Birth**: March 15, 1993\n- **Job Title**: Sales De...",
          "Type: employees<br>Text: ## Annual Performance History  \n- **2021**:  \n  - **Performance Rating**: 4.5/5  \n  - **Key Achievem...",
          "Type: employees<br>Text: - **2022**:  \n  - **Base Salary**: $65,000 (Promotion to Senior SDR)  \n  - **Bonus**: $13,000 (20% o...",
          "Type: employees<br>Text: # HR Record\n\n# Carlos Rodriguez\n\n## Summary\n- **Date of Birth:** October 12, 1989\n- **Job Title:** S...",
          "Type: employees<br>Text: - **January 2015 - February 2017:** Application Developer at FinTech Systems\n  - Developed financial...",
          "Type: employees<br>Text: - **2019:** Rating: 4.1/5\n  *Strong start as Solutions Engineer. Quick learner with excellent techni...",
          "Type: employees<br>Text: ## Other HR Notes\n- **Education:** MS in Computer Science from University of Florida\n- **Certificati...",
          "Type: employees<br>Text: # HR Record\n\n# James Wilson\n\n## Summary\n- **Date of Birth:** April 5, 1978\n- **Job Title:** Chief Te...",
          "Type: employees<br>Text: - **June 2008 - February 2012:** Senior Engineering Manager at CloudSoft Corp.\n  - Managed multiple ...",
          "Type: employees<br>Text: - **2021:** Rating: 4.6/5\n  *Excellent performance navigating remote transition. Built strong engine...",
          "Type: employees<br>Text: - **2017:** Rating: 4.3/5\n  *Strong start as CTO. Quickly assessed technical landscape and began str...",
          "Type: employees<br>Text: ## Other HR Notes\n- **Education:** MS in Computer Science from MIT, BS in Computer Engineering from ...",
          "Type: employees<br>Text: # HR Record\n\n# Jordan K. Bishop\n\n## Summary\n- **Date of Birth:** March 15, 1990\n- **Job Title:** Fro...",
          "Type: employees<br>Text: ## Annual Performance History\n- **2019:** Exceeds Expectations - Continuously delivered high-quality...",
          "Type: employees<br>Text: ## Compensation History\n- **June 2018:** Starting Salary - $85,000\n- **June 2019:** Salary Increase ...",
          "Type: employees<br>Text: ## Other HR Notes\n- Jordan K. Bishop has been an integral part of club initiatives, including the In...",
          "Type: employees<br>Text: # HR Record\n\n# Emily Carter\n\n## Summary\n- **Date of Birth:** August 12, 1990\n- **Job Title:** Accoun...",
          "Type: employees<br>Text: - **2017-2019:** Marketing Intern  \n  - Assisted with market research and campaign development for s...",
          "Type: employees<br>Text: ## Compensation History\n| Year | Base Salary | Bonus         | Total Compensation |\n|------|--------...",
          "Type: employees<br>Text: Emily Carter exemplifies the kind of talent that drives Insurellm's success and is an invaluable ass...",
          "Type: employees<br>Text: # HR Record\n\n# Tyler Brooks\n\n## Summary\n- **Date of Birth:** September 9, 1998\n- **Job Title:** Juni...",
          "Type: employees<br>Text: - **2022:** Rating: 3.5/5\n  *Adequate performance for a junior developer. Good learning attitude but...",
          "Type: employees<br>Text: ## Compensation History\n- **2023:** Base Salary: $75,000 + Bonus: $2,000\n- **2022:** Base Salary: $7...",
          "Type: employees<br>Text: # HR Record\n\n# Brandon Walker\n\n## Summary\n- **Date of Birth:** December 5, 1993\n- **Job Title:** Tec...",
          "Type: employees<br>Text: - **January 2018 - April 2019:** IT Help Desk Technician at Regional Bank\n  - Provided internal IT s...",
          "Type: employees<br>Text: ## Other HR Notes\n- **Education:** Associate Degree in Information Technology from Phoenix Community..."
         ],
         "type": "scatter",
         "x": {
          "bdata": "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",
          "dtype": "f4"
         },
         "y": {
          "bdata": "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",
          "dtype": "f4"
         }
        }
       ],
       "layout": {
        "height": 600,
        "margin": {
         "b": 10,
         "l": 10,
         "r": 20,
         "t": 40
        },
        "scene": {
         "xaxis": {
          "title": {
           "text": "x"
          }
         },
         "yaxis": {
          "title": {
           "text": "y"
          }
         }
        },
        "template": {
         "data": {
          "bar": [
           {
            "error_x": {
             "color": "#2a3f5f"
            },
            "error_y": {
             "color": "#2a3f5f"
            },
            "marker": {
             "line": {
              "color": "#E5ECF6",
              "width": 0.5
             },
             "pattern": {
              "fillmode": "overlay",
              "size": 10,
              "solidity": 0.2
             }
            },
            "type": "bar"
           }
          ],
          "barpolar": [
           {
            "marker": {
             "line": {
              "color": "#E5ECF6",
              "width": 0.5
             },
             "pattern": {
              "fillmode": "overlay",
              "size": 10,
              "solidity": 0.2
             }
            },
            "type": "barpolar"
           }
          ],
          "carpet": [
           {
            "aaxis": {
             "endlinecolor": "#2a3f5f",
             "gridcolor": "white",
             "linecolor": "white",
             "minorgridcolor": "white",
             "startlinecolor": "#2a3f5f"
            },
            "baxis": {
             "endlinecolor": "#2a3f5f",
             "gridcolor": "white",
             "linecolor": "white",
             "minorgridcolor": "white",
             "startlinecolor": "#2a3f5f"
            },
            "type": "carpet"
           }
          ],
          "choropleth": [
           {
            "colorbar": {
             "outlinewidth": 0,
             "ticks": ""
            },
            "type": "choropleth"
           }
          ],
          "contour": [
           {
            "colorbar": {
             "outlinewidth": 0,
             "ticks": ""
            },
            "colorscale": [
             [
              0,
              "#0d0887"
             ],
             [
              0.1111111111111111,
              "#46039f"
             ],
             [
              0.2222222222222222,
              "#7201a8"
             ],
             [
              0.3333333333333333,
              "#9c179e"
             ],
             [
              0.4444444444444444,
              "#bd3786"
             ],
             [
              0.5555555555555556,
              "#d8576b"
             ],
             [
              0.6666666666666666,
              "#ed7953"
             ],
             [
              0.7777777777777778,
              "#fb9f3a"
             ],
             [
              0.8888888888888888,
              "#fdca26"
             ],
             [
              1,
              "#f0f921"
             ]
            ],
            "type": "contour"
           }
          ],
          "contourcarpet": [
           {
            "colorbar": {
             "outlinewidth": 0,
             "ticks": ""
            },
            "type": "contourcarpet"
           }
          ],
          "heatmap": [
           {
            "colorbar": {
             "outlinewidth": 0,
             "ticks": ""
            },
            "colorscale": [
             [
              0,
              "#0d0887"
             ],
             [
              0.1111111111111111,
              "#46039f"
             ],
             [
              0.2222222222222222,
              "#7201a8"
             ],
             [
              0.3333333333333333,
              "#9c179e"
             ],
             [
              0.4444444444444444,
              "#bd3786"
             ],
             [
              0.5555555555555556,
              "#d8576b"
             ],
             [
              0.6666666666666666,
              "#ed7953"
             ],
             [
              0.7777777777777778,
              "#fb9f3a"
             ],
             [
              0.8888888888888888,
              "#fdca26"
             ],
             [
              1,
              "#f0f921"
             ]
            ],
            "type": "heatmap"
           }
          ],
          "histogram": [
           {
            "marker": {
             "pattern": {
              "fillmode": "overlay",
              "size": 10,
              "solidity": 0.2
             }
            },
            "type": "histogram"
           }
          ],
          "histogram2d": [
           {
            "colorbar": {
             "outlinewidth": 0,
             "ticks": ""
            },
            "colorscale": [
             [
              0,
              "#0d0887"
             ],
             [
              0.1111111111111111,
              "#46039f"
             ],
             [
              0.2222222222222222,
              "#7201a8"
             ],
             [
              0.3333333333333333,
              "#9c179e"
             ],
             [
              0.4444444444444444,
              "#bd3786"
             ],
             [
              0.5555555555555556,
              "#d8576b"
             ],
             [
              0.6666666666666666,
              "#ed7953"
             ],
             [
              0.7777777777777778,
              "#fb9f3a"
             ],
             [
              0.8888888888888888,
              "#fdca26"
             ],
             [
              1,
              "#f0f921"
             ]
            ],
            "type": "histogram2d"
           }
          ],
          "histogram2dcontour": [
           {
            "colorbar": {
             "outlinewidth": 0,
             "ticks": ""
            },
            "colorscale": [
             [
              0,
              "#0d0887"
             ],
             [
              0.1111111111111111,
              "#46039f"
             ],
             [
              0.2222222222222222,
              "#7201a8"
             ],
             [
              0.3333333333333333,
              "#9c179e"
             ],
             [
              0.4444444444444444,
              "#bd3786"
             ],
             [
              0.5555555555555556,
              "#d8576b"
             ],
             [
              0.6666666666666666,
              "#ed7953"
             ],
             [
              0.7777777777777778,
              "#fb9f3a"
             ],
             [
              0.8888888888888888,
              "#fdca26"
             ],
             [
              1,
              "#f0f921"
             ]
            ],
            "type": "histogram2dcontour"
           }
          ],
          "mesh3d": [
           {
            "colorbar": {
             "outlinewidth": 0,
             "ticks": ""
            },
            "type": "mesh3d"
           }
          ],
          "parcoords": [
           {
            "line": {
             "colorbar": {
              "outlinewidth": 0,
              "ticks": ""
             }
            },
            "type": "parcoords"
           }
          ],
          "pie": [
           {
            "automargin": true,
            "type": "pie"
           }
          ],
          "scatter": [
           {
            "fillpattern": {
             "fillmode": "overlay",
             "size": 10,
             "solidity": 0.2
            },
            "type": "scatter"
           }
          ],
          "scatter3d": [
           {
            "line": {
             "colorbar": {
              "outlinewidth": 0,
              "ticks": ""
             }
            },
            "marker": {
             "colorbar": {
              "outlinewidth": 0,
              "ticks": ""
             }
            },
            "type": "scatter3d"
           }
          ],
          "scattercarpet": [
           {
            "marker": {
             "colorbar": {
              "outlinewidth": 0,
              "ticks": ""
             }
            },
            "type": "scattercarpet"
           }
          ],
          "scattergeo": [
           {
            "marker": {
             "colorbar": {
              "outlinewidth": 0,
              "ticks": ""
             }
            },
            "type": "scattergeo"
           }
          ],
          "scattergl": [
           {
            "marker": {
             "colorbar": {
              "outlinewidth": 0,
              "ticks": ""
             }
            },
            "type": "scattergl"
           }
          ],
          "scattermap": [
           {
            "marker": {
             "colorbar": {
              "outlinewidth": 0,
              "ticks": ""
             }
            },
            "type": "scattermap"
           }
          ],
          "scattermapbox": [
           {
            "marker": {
             "colorbar": {
              "outlinewidth": 0,
              "ticks": ""
             }
            },
            "type": "scattermapbox"
           }
          ],
          "scatterpolar": [
           {
            "marker": {
             "colorbar": {
              "outlinewidth": 0,
              "ticks": ""
             }
            },
            "type": "scatterpolar"
           }
          ],
          "scatterpolargl": [
           {
            "marker": {
             "colorbar": {
              "outlinewidth": 0,
              "ticks": ""
             }
            },
            "type": "scatterpolargl"
           }
          ],
          "scatterternary": [
           {
            "marker": {
             "colorbar": {
              "outlinewidth": 0,
              "ticks": ""
             }
            },
            "type": "scatterternary"
           }
          ],
          "surface": [
           {
            "colorbar": {
             "outlinewidth": 0,
             "ticks": ""
            },
            "colorscale": [
             [
              0,
              "#0d0887"
             ],
             [
              0.1111111111111111,
              "#46039f"
             ],
             [
              0.2222222222222222,
              "#7201a8"
             ],
             [
              0.3333333333333333,
              "#9c179e"
             ],
             [
              0.4444444444444444,
              "#bd3786"
             ],
             [
              0.5555555555555556,
              "#d8576b"
             ],
             [
              0.6666666666666666,
              "#ed7953"
             ],
             [
              0.7777777777777778,
              "#fb9f3a"
             ],
             [
              0.8888888888888888,
              "#fdca26"
             ],
             [
              1,
              "#f0f921"
             ]
            ],
            "type": "surface"
           }
          ],
          "table": [
           {
            "cells": {
             "fill": {
              "color": "#EBF0F8"
             },
             "line": {
              "color": "white"
             }
            },
            "header": {
             "fill": {
              "color": "#C8D4E3"
             },
             "line": {
              "color": "white"
             }
            },
            "type": "table"
           }
          ]
         },
         "layout": {
          "annotationdefaults": {
           "arrowcolor": "#2a3f5f",
           "arrowhead": 0,
           "arrowwidth": 1
          },
          "autotypenumbers": "strict",
          "coloraxis": {
           "colorbar": {
            "outlinewidth": 0,
            "ticks": ""
           }
          },
          "colorscale": {
           "diverging": [
            [
             0,
             "#8e0152"
            ],
            [
             0.1,
             "#c51b7d"
            ],
            [
             0.2,
             "#de77ae"
            ],
            [
             0.3,
             "#f1b6da"
            ],
            [
             0.4,
             "#fde0ef"
            ],
            [
             0.5,
             "#f7f7f7"
            ],
            [
             0.6,
             "#e6f5d0"
            ],
            [
             0.7,
             "#b8e186"
            ],
            [
             0.8,
             "#7fbc41"
            ],
            [
             0.9,
             "#4d9221"
            ],
            [
             1,
             "#276419"
            ]
           ],
           "sequential": [
            [
             0,
             "#0d0887"
            ],
            [
             0.1111111111111111,
             "#46039f"
            ],
            [
             0.2222222222222222,
             "#7201a8"
            ],
            [
             0.3333333333333333,
             "#9c179e"
            ],
            [
             0.4444444444444444,
             "#bd3786"
            ],
            [
             0.5555555555555556,
             "#d8576b"
            ],
            [
             0.6666666666666666,
             "#ed7953"
            ],
            [
             0.7777777777777778,
             "#fb9f3a"
            ],
            [
             0.8888888888888888,
             "#fdca26"
            ],
            [
             1,
             "#f0f921"
            ]
           ],
           "sequentialminus": [
            [
             0,
             "#0d0887"
            ],
            [
             0.1111111111111111,
             "#46039f"
            ],
            [
             0.2222222222222222,
             "#7201a8"
            ],
            [
             0.3333333333333333,
             "#9c179e"
            ],
            [
             0.4444444444444444,
             "#bd3786"
            ],
            [
             0.5555555555555556,
             "#d8576b"
            ],
            [
             0.6666666666666666,
             "#ed7953"
            ],
            [
             0.7777777777777778,
             "#fb9f3a"
            ],
            [
             0.8888888888888888,
             "#fdca26"
            ],
            [
             1,
             "#f0f921"
            ]
           ]
          },
          "colorway": [
           "#636efa",
           "#EF553B",
           "#00cc96",
           "#ab63fa",
           "#FFA15A",
           "#19d3f3",
           "#FF6692",
           "#B6E880",
           "#FF97FF",
           "#FECB52"
          ],
          "font": {
           "color": "#2a3f5f"
          },
          "geo": {
           "bgcolor": "white",
           "lakecolor": "white",
           "landcolor": "#E5ECF6",
           "showlakes": true,
           "showland": true,
           "subunitcolor": "white"
          },
          "hoverlabel": {
           "align": "left"
          },
          "hovermode": "closest",
          "mapbox": {
           "style": "light"
          },
          "paper_bgcolor": "white",
          "plot_bgcolor": "#E5ECF6",
          "polar": {
           "angularaxis": {
            "gridcolor": "white",
            "linecolor": "white",
            "ticks": ""
           },
           "bgcolor": "#E5ECF6",
           "radialaxis": {
            "gridcolor": "white",
            "linecolor": "white",
            "ticks": ""
           }
          },
          "scene": {
           "xaxis": {
            "backgroundcolor": "#E5ECF6",
            "gridcolor": "white",
            "gridwidth": 2,
            "linecolor": "white",
            "showbackground": true,
            "ticks": "",
            "zerolinecolor": "white"
           },
           "yaxis": {
            "backgroundcolor": "#E5ECF6",
            "gridcolor": "white",
            "gridwidth": 2,
            "linecolor": "white",
            "showbackground": true,
            "ticks": "",
            "zerolinecolor": "white"
           },
           "zaxis": {
            "backgroundcolor": "#E5ECF6",
            "gridcolor": "white",
            "gridwidth": 2,
            "linecolor": "white",
            "showbackground": true,
            "ticks": "",
            "zerolinecolor": "white"
           }
          },
          "shapedefaults": {
           "line": {
            "color": "#2a3f5f"
           }
          },
          "ternary": {
           "aaxis": {
            "gridcolor": "white",
            "linecolor": "white",
            "ticks": ""
           },
           "baxis": {
            "gridcolor": "white",
            "linecolor": "white",
            "ticks": ""
           },
           "bgcolor": "#E5ECF6",
           "caxis": {
            "gridcolor": "white",
            "linecolor": "white",
            "ticks": ""
           }
          },
          "title": {
           "x": 0.05
          },
          "xaxis": {
           "automargin": true,
           "gridcolor": "white",
           "linecolor": "white",
           "ticks": "",
           "title": {
            "standoff": 15
           },
           "zerolinecolor": "white",
           "zerolinewidth": 2
          },
          "yaxis": {
           "automargin": true,
           "gridcolor": "white",
           "linecolor": "white",
           "ticks": "",
           "title": {
            "standoff": 15
           },
           "zerolinecolor": "white",
           "zerolinewidth": 2
          }
         }
        },
        "title": {
         "text": "2D Chroma Vector Store Visualization"
        },
        "width": 800
       }
      }
     },
     "metadata": {},
     "output_type": "display_data"
    }
   ],
   "source": [
    "# We humans find it easier to visalize things in 2D!\n",
    "# Reduce the dimensionality of the vectors to 2D using t-SNE\n",
    "# (t-distributed stochastic neighbor embedding)\n",
    "\n",
    "tsne = TSNE(n_components=2, random_state=42)\n",
    "reduced_vectors = tsne.fit_transform(vectors)\n",
    "\n",
    "# Create the 2D scatter plot\n",
    "fig = go.Figure(data=[go.Scatter(\n",
    "    x=reduced_vectors[:, 0],\n",
    "    y=reduced_vectors[:, 1],\n",
    "    mode='markers',\n",
    "    marker=dict(size=5, color=colors, opacity=0.8),\n",
    "    text=[f\"Type: {t}<br>Text: {d[:100]}...\" for t, d in zip(doc_types, documents)],\n",
    "    hoverinfo='text'\n",
    ")])\n",
    "\n",
    "fig.update_layout(\n",
    "    title='2D Chroma Vector Store Visualization',\n",
    "    scene=dict(xaxis_title='x',yaxis_title='y'),\n",
    "    width=800,\n",
    "    height=600,\n",
    "    margin=dict(r=20, b=10, l=10, t=40)\n",
    ")\n",
    "\n",
    "fig.show()"
   ]
  },
  {
   "cell_type": "code",
   "execution_count": 13,
   "metadata": {},
   "outputs": [
    {
     "data": {
      "application/vnd.plotly.v1+json": {
       "config": {
        "plotlyServerURL": "https://plot.ly"
       },
       "data": [
        {
         "hoverinfo": "text",
         "marker": {
          "color": [
           "blue",
           "blue",
           "blue",
           "blue",
           "blue",
           "blue",
           "blue",
           "blue",
           "blue",
           "blue",
           "blue",
           "blue",
           "blue",
           "blue",
           "blue",
           "blue",
           "blue",
           "blue",
           "blue",
           "blue",
           "blue",
           "blue",
           "blue",
           "blue",
           "blue",
           "blue",
           "blue",
           "blue",
           "blue",
           "blue",
           "blue",
           "blue",
           "blue",
           "blue",
           "blue",
           "blue",
           "blue",
           "blue",
           "blue",
           "blue",
           "blue",
           "blue",
           "blue",
           "blue",
           "blue",
           "blue",
           "blue",
           "red",
           "red",
           "red",
           "red",
           "red",
           "red",
           "red",
           "red",
           "red",
           "red",
           "red",
           "red",
           "red",
           "red",
           "red",
           "red",
           "red",
           "red",
           "red",
           "red",
           "red",
           "red",
           "red",
           "red",
           "red",
           "red",
           "red",
           "red",
           "red",
           "red",
           "red",
           "red",
           "red",
           "red",
           "red",
           "red",
           "red",
           "red",
           "red",
           "red",
           "red",
           "red",
           "red",
           "red",
           "red",
           "red",
           "red",
           "red",
           "red",
           "red",
           "red",
           "red",
           "red",
           "red",
           "red",
           "red",
           "red",
           "red",
           "red",
           "red",
           "red",
           "red",
           "red",
           "red",
           "red",
           "red",
           "red",
           "red",
           "red",
           "red",
           "red",
           "red",
           "red",
           "red",
           "red",
           "red",
           "red",
           "red",
           "red",
           "red",
           "red",
           "red",
           "red",
           "red",
           "red",
           "red",
           "red",
           "red",
           "red",
           "red",
           "red",
           "red",
           "red",
           "red",
           "red",
           "red",
           "red",
           "red",
           "red",
           "red",
           "red",
           "red",
           "red",
           "red",
           "red",
           "red",
           "red",
           "red",
           "red",
           "red",
           "red",
           "red",
           "red",
           "red",
           "red",
           "red",
           "red",
           "red",
           "red",
           "red",
           "red",
           "red",
           "red",
           "red",
           "red",
           "red",
           "red",
           "red",
           "red",
           "red",
           "red",
           "red",
           "red",
           "red",
           "red",
           "red",
           "red",
           "red",
           "red",
           "red",
           "red",
           "red",
           "red",
           "red",
           "red",
           "red",
           "red",
           "red",
           "red",
           "red",
           "red",
           "red",
           "red",
           "red",
           "red",
           "red",
           "red",
           "red",
           "red",
           "red",
           "red",
           "red",
           "red",
           "red",
           "red",
           "red",
           "red",
           "red",
           "red",
           "red",
           "red",
           "red",
           "red",
           "red",
           "red",
           "red",
           "red",
           "red",
           "red",
           "red",
           "red",
           "red",
           "red",
           "red",
           "red",
           "red",
           "red",
           "red",
           "red",
           "red",
           "red",
           "red",
           "red",
           "red",
           "red",
           "red",
           "red",
           "red",
           "red",
           "red",
           "red",
           "red",
           "red",
           "red",
           "red",
           "red",
           "red",
           "red",
           "red",
           "red",
           "red",
           "red",
           "red",
           "red",
           "red",
           "red",
           "red",
           "red",
           "red",
           "red",
           "red",
           "red",
           "red",
           "red",
           "red",
           "red",
           "red",
           "red",
           "red",
           "red",
           "orange",
           "orange",
           "orange",
           "orange",
           "orange",
           "orange",
           "orange",
           "orange",
           "orange",
           "orange",
           "orange",
           "orange",
           "orange",
           "orange",
           "orange",
           "orange",
           "orange",
           "orange",
           "green",
           "green",
           "green",
           "green",
           "green",
           "green",
           "green",
           "green",
           "green",
           "green",
           "green",
           "green",
           "green",
           "green",
           "green",
           "green",
           "green",
           "green",
           "green",
           "green",
           "green",
           "green",
           "green",
           "green",
           "green",
           "green",
           "green",
           "green",
           "green",
           "green",
           "green",
           "green",
           "green",
           "green",
           "green",
           "green",
           "green",
           "green",
           "green",
           "green",
           "green",
           "green",
           "green",
           "green",
           "green",
           "green",
           "green",
           "green",
           "green",
           "green",
           "green",
           "green",
           "green",
           "green",
           "green",
           "green",
           "green",
           "green",
           "green",
           "green",
           "green",
           "green",
           "green",
           "green",
           "green",
           "green",
           "green",
           "green",
           "green",
           "green",
           "green",
           "green",
           "green",
           "green",
           "green",
           "green",
           "green",
           "green",
           "green",
           "green",
           "green",
           "green",
           "green",
           "green",
           "green",
           "green",
           "green",
           "green",
           "green",
           "green",
           "green",
           "green",
           "green",
           "green",
           "green",
           "green",
           "green",
           "green",
           "green",
           "green",
           "green",
           "green",
           "green",
           "green",
           "green",
           "green",
           "green",
           "green",
           "green",
           "green",
           "green",
           "green",
           "green",
           "green",
           "green",
           "green",
           "green",
           "green"
          ],
          "opacity": 0.8,
          "size": 5
         },
         "mode": "markers",
         "text": [
          "Type: products<br>Text: # Product Summary\n\n# Rellm: AI-Powered Enterprise Reinsurance Solution\n\n## Summary\n\nRellm is an inno...",
          "Type: products<br>Text: ### Seamless Integrations\nRellm's architecture is designed for effortless integration with existing ...",
          "Type: products<br>Text: ### Regulatory Compliance Tools\nRellm includes built-in compliance tracking features to help organiz...",
          "Type: products<br>Text: Join the growing number of organizations leveraging Rellm to enhance their reinsurance processes whi...",
          "Type: products<br>Text: Experience the future of reinsurance with Rellm, where innovation meets reliability. Let Insurellm h...",
          "Type: products<br>Text: # Product Summary\n\n# Claimllm\n\n## Summary\n\nClaimllm is Insurellm's revolutionary claims processing p...",
          "Type: products<br>Text: ## Features\n\n### 1. Intelligent FNOL Processing\nClaimllm's AI-powered first notice of loss intake ca...",
          "Type: products<br>Text: ### 4. Predictive Fraud Detection\nSophisticated fraud analytics evaluate claims against historical p...",
          "Type: products<br>Text: ### 7. Vendor Management Platform\nIntegrated tools coordinate with repair shops, medical providers, ...",
          "Type: products<br>Text: ### 10. Analytics and Reporting\nComprehensive dashboards track key metrics including cycle time, los...",
          "Type: products<br>Text: All tiers include comprehensive implementation, claims staff training, and continuous platform enhan...",
          "Type: products<br>Text: Claimllm represents the future of insurance claims—faster, smarter, and more customer-centric. Trans...",
          "Type: products<br>Text: # Product Summary\n\n# Bizllm\n\n## Summary\n\nBizllm is Insurellm's enterprise-grade commercial insurance...",
          "Type: products<br>Text: ## Features\n\n### 1. Multi-Line Underwriting Engine\nBizllm's sophisticated underwriting platform hand...",
          "Type: products<br>Text: ### 4. Workers' Compensation Optimization\nIntegrated workers' comp tools analyze payroll data, indus...",
          "Type: products<br>Text: ### 7. Portfolio Management Dashboard\nComprehensive analytics provide insurers with portfolio-level ...",
          "Type: products<br>Text: ## Pricing\n\nBizllm's pricing structure reflects the complexity and value of commercial insurance ope...",
          "Type: products<br>Text: All tiers include implementation services, staff training, and continuous platform updates.\n\n## Road...",
          "Type: products<br>Text: Bizllm empowers commercial insurers to compete effectively in complex markets while delivering the d...",
          "Type: products<br>Text: # Product Summary\n\n# Lifellm\n\n## Summary\n\nLifellm is an advanced life insurance platform developed b...",
          "Type: products<br>Text: ### 2. Predictive Risk Modeling\nAdvanced machine learning algorithms assess mortality risk by analyz...",
          "Type: products<br>Text: ### 5. Smart Document Processing\nLifellm utilizes natural language processing and optical character ...",
          "Type: products<br>Text: ## Pricing\n\nLifellm's flexible pricing structure accommodates insurance providers of all sizes:\n\n- *...",
          "Type: products<br>Text: All tiers include comprehensive onboarding, training programs, and regular platform updates.\n\n## Roa...",
          "Type: products<br>Text: With Lifellm, Insurellm is transforming life insurance into a modern, customer-centric experience th...",
          "Type: products<br>Text: # Product Summary\n\n# Healthllm\n\n## Summary\n\nHealthllm is Insurellm's comprehensive health insurance ...",
          "Type: products<br>Text: ### 2. Real-Time Eligibility Verification\nIntegrated eligibility checking ensures instant verificati...",
          "Type: products<br>Text: ### 5. Provider Network Management\nComprehensive tools for managing provider relationships, contract...",
          "Type: products<br>Text: ### 8. Regulatory Compliance Engine\nBuilt-in compliance monitoring ensures adherence to ACA requirem...",
          "Type: products<br>Text: All plans include implementation support, staff training, and ongoing platform enhancements.\n\n## Roa...",
          "Type: products<br>Text: Healthllm represents Insurellm's commitment to transforming health insurance through technology that...",
          "Type: products<br>Text: # Product Summary\n\n# Markellm\n\n## Summary\n\nMarkellm is an innovative two-sided marketplace designed ...",
          "Type: products<br>Text: - **User-Friendly Interface**: Designed with user experience in mind, Markellm features an intuitive...",
          "Type: products<br>Text: - **Customer Support**: Our dedicated support team is always available to assist both consumers and ...",
          "Type: products<br>Text: ### For Insurance Companies:\n- **Basic Listing Fee**: $199/month for a featured listing on the platf...",
          "Type: products<br>Text: ### Q3 2025\n- Initiate a comprehensive marketing campaign targeting both consumers and insurers to i...",
          "Type: products<br>Text: # Product Summary\n\n# Homellm\n\n## Summary\nHomellm is an innovative home insurance product developed b...",
          "Type: products<br>Text: ### 2. Dynamic Pricing Model\nWith Homellm's innovative dynamic pricing model, insurance providers ca...",
          "Type: products<br>Text: ### 5. Multi-Channel Integration\nHomellm seamlessly integrates into existing insurance platforms, pr...",
          "Type: products<br>Text: - **Basic Tier:** Starting at $5,000/month for small insurers with basic integration features.\n- **S...",
          "Type: products<br>Text: All tiers include a comprehensive training program and ongoing updates to ensure optimal performance...",
          "Type: products<br>Text: With Homellm, Insurellm is committed to transforming the landscape of home insurance, ensuring both ...",
          "Type: products<br>Text: # Product Summary\n\n# Carllm\n\n## Summary\n\nCarllm is an innovative auto insurance product developed by...",
          "Type: products<br>Text: - **Instant Quoting**: With Carllm, insurance companies can offer near-instant quotes to customers, ...",
          "Type: products<br>Text: - **Mobile Integration**: Carllm is designed to work seamlessly with mobile applications, providing ...",
          "Type: products<br>Text: - **Professional Tier**: $2,500/month\n  - For medium-sized companies.\n  - All Basic Tier features pl...",
          "Type: products<br>Text: ### Q2 2025: Customer Experience Improvements\n- Launch of a new **mobile app** for end-users.\n- Intr...",
          "Type: contracts<br>Text: # Contract with GreenField Holdings for Markellm\n\n**Effective Date:** November 15, 2023  \n**Contract...",
          "Type: contracts<br>Text: ## Renewal\n1. **Automatic Renewal**: This contract will automatically renew for sequential one-year ...",
          "Type: contracts<br>Text: ## Features\n1. **AI-Powered Matching**: Access to advanced algorithms that connect GreenField Holdin...",
          "Type: contracts<br>Text: ## Support\n1. **Customer Support Access**: The Client will have access to dedicated support through ...",
          "Type: contracts<br>Text: **Signatures:**  \n_________________________                           _________________________  \n**...",
          "Type: contracts<br>Text: # Contract with EverGuard Insurance for Rellm: AI-Powered Enterprise Reinsurance Solution\n\n**Contrac...",
          "Type: contracts<br>Text: 4. **Usage Rights**: EverGuard Insurance is granted a non-exclusive, non-transferable license to acc...",
          "Type: contracts<br>Text: 2. **Customizable Dashboard**: Users at EverGuard Insurance will have access to a customizable dashb...",
          "Type: contracts<br>Text: 3. **Updates and Upgrades**: EverGuard Insurance will receive all platform updates and upgrades at n...",
          "Type: contracts<br>Text: # Contract with United Healthcare Alliance for Healthllm\n\n**Contract Date:** May 15, 2025\n**Contract...",
          "Type: contracts<br>Text: 4. **Service Level Agreement:** Insurellm guarantees 99.95% uptime measured monthly, with financial ...",
          "Type: contracts<br>Text: 7. **Business Continuity:** Guaranteed 2-hour recovery time objective (RTO) and 15-minute recovery p...",
          "Type: contracts<br>Text: 1. **Unlimited Member Administration:** No capacity restrictions, supporting United's 250,000+ membe...",
          "Type: contracts<br>Text: 4. **Advanced AI Claims Adjudication:** Enterprise-grade claims processing:\n   - Auto-adjudication r...",
          "Type: contracts<br>Text: 6. **Complete API Access:** Unlimited API calls supporting:\n   - Real-time integration with United's...",
          "Type: contracts<br>Text: 8. **Comprehensive Medication Management:**\n   - Multi-tier formulary management (national and state...",
          "Type: contracts<br>Text: 10. **Quality and Performance Management:**\n    - HEDIS measure calculation and reporting\n    - STAR...",
          "Type: contracts<br>Text: 12. **Regulatory Compliance and Reporting:**\n    - ACA compliance monitoring (MLR, essential health ...",
          "Type: contracts<br>Text: ---\n\n## Support\n\nInsurellm commits to comprehensive Enterprise-level support for United Healthcare A...",
          "Type: contracts<br>Text: 3. **Comprehensive Implementation:**\n   - 18-month phased implementation program with 4 major go-liv...",
          "Type: contracts<br>Text: 4. **Training and Enablement:**\n   - Comprehensive role-based training programs for all staff\n   - E...",
          "Type: contracts<br>Text: 5. **Custom Development:**\n   - 3,000 hours annually of custom development included\n   - Dedicated d...",
          "Type: contracts<br>Text: 6. **Integration Services:**\n   - Enterprise integration with United's complex system landscape:\n   ...",
          "Type: contracts<br>Text: 7. **Analytics and Reporting:**\n   - Custom dashboard development (unlimited)\n   - Real-time operati...",
          "Type: contracts<br>Text: 8. **Compliance and Regulatory Support:**\n   - Monthly compliance reviews with detailed documentatio...",
          "Type: contracts<br>Text: 9. **Continuous Improvement:**\n   - Bi-weekly process optimization workshops\n   - Quarterly efficien...",
          "Type: contracts<br>Text: _________________________________\n**James Patterson**\n**Title**: Chairman & Chief Executive Officer\n...",
          "Type: contracts<br>Text: # Contract with Guardian Life Partners for Lifellm\n\n---\n\n## Terms...",
          "Type: contracts<br>Text: ---\n\n## Terms\n\n1. **Agreement Effective Date**: This contract is effective as of March 1, 2025.\n2. *...",
          "Type: contracts<br>Text: ---\n\n## Renewal\n\n1. **Automatic Renewal**: This agreement will automatically renew for an additional...",
          "Type: contracts<br>Text: ---\n\n## Features\n\n1. **Access to Growth Tier Features**: Guardian Life Partners will have comprehens...",
          "Type: contracts<br>Text: 3. **Advanced Underwriting:**\n   - Automated underwriting for face amounts up to $500,000\n   - Accel...",
          "Type: contracts<br>Text: 2. **Training**: Comprehensive training program:\n   - Initial onboarding (4 weeks) for up to 20 staf...",
          "Type: contracts<br>Text: 5. **Integration Support**: Technical assistance for integrating Lifellm with:\n   - Guardian's polic...",
          "Type: contracts<br>Text: _________________________________\n**Jonathan Park**\n**Title**: President & CEO\n**Guardian Life Partn...",
          "Type: contracts<br>Text: # Contract with Greenstone Insurance for Homellm\n\n---\n\n## Terms\n\n1. **Parties**: This Contract (\"Agr...",
          "Type: contracts<br>Text: 4. **Payment Terms**: \n   - The Customer shall pay an amount of $10,000 per month for the Standard T...",
          "Type: contracts<br>Text: ---\n\n## Features\n\n- **AI-Powered Risk Assessment**: Customer will have access to enhanced risk evalu...",
          "Type: contracts<br>Text: - **Customer Portal**: A dedicated portal will be provided, allowing the Customer's clients to manag...",
          "Type: contracts<br>Text: ______________________________  \n[Name], [Title]  \nDate: ______________________\n\n**For Greenstone In...",
          "Type: contracts<br>Text: # Contract with Roadway Insurance Inc. for Carllm\n\n---\n\n## Terms\n\n1. **Agreement Effective Date**: T...",
          "Type: contracts<br>Text: ---\n\n## Renewal\n\n1. **Automatic Renewal**: This agreement will automatically renew for an additional...",
          "Type: contracts<br>Text: ---\n\n## Features\n\n1. **Access to Core Features**: Roadway Insurance Inc. will have access to all Pro...",
          "Type: contracts<br>Text: ---\n\n## Support\n\n1. **Technical Support**: Roadway Insurance Inc. will receive priority technical su...",
          "Type: contracts<br>Text: # Contract with Rapid Claims Associates for Claimllm\n\n**Contract Date:** March 1, 2025\n**Contract Nu...",
          "Type: contracts<br>Text: 4. **Overage Fees:** If claims volume exceeds 5,000 annually, overage fees of $0.90 per claim apply,...",
          "Type: contracts<br>Text: ---\n\n## Features\n\nRapid Claims Associates will receive the following Core Tier features:\n\n1. **Intel...",
          "Type: contracts<br>Text: 3. **Basic Document Processing:** OCR and NLP extraction from:\n   - Police reports\n   - Repair estim...",
          "Type: contracts<br>Text: 7. **Payment Processing:** Integration with payment systems for:\n   - Direct deposit (ACH)\n   - Chec...",
          "Type: contracts<br>Text: 3. **Platform Updates:**\n   - Quarterly feature releases with new capabilities\n   - Monthly security...",
          "Type: contracts<br>Text: _________________________________\n**Marcus Johnson**\n**Title**: Chief Claims Officer\n**Rapid Claims ...",
          "Type: contracts<br>Text: # Contract with National Claims Network for Claimllm\n\n**Contract Date:** April 20, 2025\n**Contract N...",
          "Type: contracts<br>Text: 4. **Service Level Agreement:** Insurellm guarantees 99.95% uptime with financial credits for downti...",
          "Type: contracts<br>Text: 7. **Business Continuity:** Insurellm provides disaster recovery with 4-hour RTO (Recovery Time Obje...",
          "Type: contracts<br>Text: 3. **Advanced Computer Vision:** State-of-the-art damage assessment:\n   - Auto damage analysis with ...",
          "Type: contracts<br>Text: 5. **Complete API Access:** Unlimited API calls supporting:\n   - Real-time integrations with 50+ car...",
          "Type: contracts<br>Text: 8. **Advanced Vendor Management:**\n   - Network of 5,000+ preferred vendors nationwide\n   - AI-power...",
          "Type: contracts<br>Text: 2. **24/7/365 Premium Support:**\n   - Guaranteed 10-minute response time for P1 critical issues\n   -...",
          "Type: contracts<br>Text: 4. **Training and Enablement:**\n   - Role-based training programs (adjusters, supervisors, fraud inv...",
          "Type: contracts<br>Text: 6. **Integration Services:**\n   - Enterprise integration with National's systems:\n     - Policy admi...",
          "Type: contracts<br>Text: 8. **Continuous Improvement:**\n   - Quarterly process optimization workshops\n   - Annual efficiency ...",
          "Type: contracts<br>Text: # Contract with Continental Commercial Group for Bizllm\n\n**Contract Date:** April 12, 2025\n**Contrac...",
          "Type: contracts<br>Text: 4. **Confidentiality:** Both parties agree to maintain the highest level of confidentiality regardin...",
          "Type: contracts<br>Text: 7. **Exclusivity:** Continental Commercial Group receives exclusive use of Bizllm in the specialty c...",
          "Type: contracts<br>Text: 2. **Dedicated Cloud Infrastructure:** Private cloud deployment with dedicated servers, ensuring dat...",
          "Type: contracts<br>Text: 5. **Custom Product Configuration:** Ability to configure and deploy unlimited custom commercial ins...",
          "Type: contracts<br>Text: 8. **Regulatory Compliance Suite:** Automated compliance monitoring for all 50 states including form...",
          "Type: contracts<br>Text: 3. **Implementation and Onboarding:**\n   - 6-month implementation program with dedicated project man...",
          "Type: contracts<br>Text: 6. **Performance Optimization:**\n   - Monthly platform performance reviews\n   - Proactive capacity p...",
          "Type: contracts<br>Text: # Contract with Stellar Insurance Co. for Rellm\n\n## Terms\nThis contract is made between **Insurellm*...",
          "Type: contracts<br>Text: ### Termination\nEither party may terminate this agreement with a **30-day written notice**. In the e...",
          "Type: contracts<br>Text: ## Features\nStellar Insurance Co. will receive access to the following features of the Rellm product...",
          "Type: contracts<br>Text: ## Support\nInsurellm provides Stellar Insurance Co. with the following support services:\n\n- **24/7 T...",
          "Type: contracts<br>Text: # Contract with Harmony Health Plans for Healthllm\n\n---\n\n## Terms...",
          "Type: contracts<br>Text: ---\n\n## Terms\n\n1. **Agreement Effective Date**: This contract is effective as of January 25, 2025.\n2...",
          "Type: contracts<br>Text: ---\n\n## Renewal\n\n1. **Automatic Renewal**: This agreement will automatically renew for an additional...",
          "Type: contracts<br>Text: ---\n\n## Features\n\n1. **Access to Professional Tier Features**: Harmony Health Plans will have compre...",
          "Type: contracts<br>Text: 2. **Predictive Healthcare Analytics:**\n   - High-risk member identification for care management\n   ...",
          "Type: contracts<br>Text: 4. **Value-Based Care Tools:**\n   - ACO (Accountable Care Organization) performance tracking\n   - Sh...",
          "Type: contracts<br>Text: 2. **Training**: Comprehensive training program:\n   - 6-week implementation with dedicated project m...",
          "Type: contracts<br>Text: 4. **Account Management**:\n   - Named Senior Customer Success Manager with bi-weekly check-ins\n   - ...",
          "Type: contracts<br>Text: 6. **Analytics and Reporting:**\n   - Custom dashboard development (up to 10 dashboards)\n   - Automat...",
          "Type: contracts<br>Text: ---\n\n**Signatures:**\n\n_________________________________\n**Sarah Chen**\n**Title**: Vice President of ...",
          "Type: contracts<br>Text: # Contract with TechDrive Insurance for Carllm\n\n**Contract Date:** October 1, 2024  \n**Contract Dura...",
          "Type: contracts<br>Text: ## Renewal\n\n1. **Automatic Renewal**: This contract shall automatically renew for additional one-yea...",
          "Type: contracts<br>Text: ## Support\n\n1. **Customer Support**: Insurellm will provide 24/7 customer support to TechDrive Insur...",
          "Type: contracts<br>Text: **TechDrive Insurance Representative:**  \nName: Sarah Johnson  \nTitle: Operations Director  \nDate: _...",
          "Type: contracts<br>Text: # Contract with Heritage Life Assurance for Lifellm\n\n**Contract Date:** February 12, 2025\n**Contract...",
          "Type: contracts<br>Text: ## Renewal\n\n1. **Automatic Renewal**: This agreement automatically renews for 12-month terms unless ...",
          "Type: contracts<br>Text: 3. **Digital Health Integration**:\n   - Wearable device connections (Fitbit, Apple Watch)\n   - Healt...",
          "Type: contracts<br>Text: 6. **Advanced Reporting**:\n   - Application conversion analytics\n   - Underwriting productivity metr...",
          "Type: contracts<br>Text: ---\n\n**Signatures:**\n\n**Insurellm, Inc.**\nMichael Torres, Chief Revenue Officer\nDate: February 12, 2...",
          "Type: contracts<br>Text: # Contract with Premier Adjusters Inc. for Claimllm\n\n---\n\n## Terms...",
          "Type: contracts<br>Text: ---\n\n## Terms\n\n1. **Agreement Effective Date**: This contract is effective as of February 15, 2025.\n...",
          "Type: contracts<br>Text: ---\n\n## Renewal\n\n1. **Automatic Renewal**: This agreement will automatically renew for an additional...",
          "Type: contracts<br>Text: ---\n\n## Features\n\n1. **Access to Advanced Tier Features**: Premier Adjusters Inc. will have access t...",
          "Type: contracts<br>Text: 2. **Computer Vision Capabilities:**\n   - Automated vehicle damage assessment from photos (dents, sc...",
          "Type: contracts<br>Text: ---\n\n## Support\n\n1. **Technical Support**: Premier Adjusters Inc. will receive priority advanced sup...",
          "Type: contracts<br>Text: 3. **Updates and Maintenance**:\n   - Monthly platform updates with new features\n   - Bi-weekly secur...",
          "Type: contracts<br>Text: 6. **Data and Analytics:**\n   - Custom dashboard development (up to 5 dashboards)\n   - Monthly data ...",
          "Type: contracts<br>Text: # Contract with FastTrack Insurance Services for Claimllm\n\n**Contract Date:** May 10, 2025\n**Contrac...",
          "Type: contracts<br>Text: 5. **Confidentiality**: Both parties shall maintain confidentiality regarding each other's proprieta...",
          "Type: contracts<br>Text: 2. **Pricing Review**: Renewal pricing will be discussed 60 days prior to term end. Price increases ...",
          "Type: contracts<br>Text: 2. **Integration Capabilities**: API integration with FastTrack's existing claims systems (Guidewire...",
          "Type: contracts<br>Text: ---\n\n**Signatures:**\n\n**Insurellm, Inc.**\nSarah Chen, VP of Sales\nDate: May 10, 2025\n\n**FastTrack In...",
          "Type: contracts<br>Text: # Contract with Atlantic Risk Solutions for Bizllm\n\n---\n\n## Terms\n\n1. **Agreement Effective Date**: ...",
          "Type: contracts<br>Text: ---\n\n## Renewal\n\n1. **Automatic Renewal**: This agreement will automatically renew for an additional...",
          "Type: contracts<br>Text: ---\n\n## Features\n\n1. **Access to Professional Tier Features**: Atlantic Risk Solutions will have acc...",
          "Type: contracts<br>Text: 2. **Industry-Specific Templates**: Pre-configured underwriting templates for:\n   - Technology compa...",
          "Type: contracts<br>Text: 2. **Training**: Insurellm will provide comprehensive training program:\n   - Initial onboarding for ...",
          "Type: contracts<br>Text: 5. **Integration Support**: Technical assistance for integrating Bizllm with:\n   - Atlantic's existi...",
          "Type: contracts<br>Text: # Contract with Belvedere Insurance for Markellm\n\n## Terms\nThis Contract (\"Agreement\") is made and e...",
          "Type: contracts<br>Text: ## Renewal\n1. **Renewal Terms**: This Agreement may be renewed for additional one-year terms upon mu...",
          "Type: contracts<br>Text: ## Features\n1. **AI-Powered Matching**: Belvedere Insurance will benefit from Markellm's AI-powered ...",
          "Type: contracts<br>Text: ## Support\n1. **Technical Support**: Technical support will be available from 9 AM to 7 PM EST, Mond...",
          "Type: contracts<br>Text: **Belvedere Insurance**  \nSignature: ______________________  \nName: [Authorized Signatory]  \nTitle: ...",
          "Type: contracts<br>Text: # Contract with ConnectInsure Agency for Markellm\n\n**Contract Date:** February 28, 2025\n**Contract N...",
          "Type: contracts<br>Text: 5. **Lead Volume Expectations**: Based on ConnectInsure's profile, Markellm projects 80-120 qualifie...",
          "Type: contracts<br>Text: 8. **Dispute Resolution**: Lead quality disputes must be submitted within 5 business days with docum...",
          "Type: contracts<br>Text: 2. **Featured Listing**: Premium marketplace placement including:\n   - Enhanced agency profile with ...",
          "Type: contracts<br>Text: 5. **Data Insights**: Analytics dashboard providing:\n   - Lead volume trends and forecasting\n   - Co...",
          "Type: contracts<br>Text: 2. **Onboarding**: Implementation includes:\n   - 2-week onboarding process\n   - Platform training fo...",
          "Type: contracts<br>Text: ---\n\n**Signatures:**\n\n**Insurellm, Inc.**\nMichael Torres, Chief Revenue Officer\nDate: February 28, 2...",
          "Type: contracts<br>Text: # Contract with Metropolitan Life Group for Lifellm\n\n**Contract Date:** April 5, 2025\n**Contract Num...",
          "Type: contracts<br>Text: 4. **Service Level Agreement:** Insurellm guarantees 99.9% uptime measured monthly, with 10% monthly...",
          "Type: contracts<br>Text: ---\n\n## Features\n\nMetropolitan Life Group will receive the complete Lifellm Enterprise suite:\n\n1. **...",
          "Type: contracts<br>Text: 4. **Comprehensive Digital Health Integration:**\n   - Wearable integrations: Apple Watch, Fitbit, Ga...",
          "Type: contracts<br>Text: 6. **Predictive Analytics Suite:**\n   - Lapse and persistency prediction modeling\n   - Cross-sell an...",
          "Type: contracts<br>Text: 9. **Regulatory and Compliance:**\n   - 50-state compliance monitoring and form filing\n   - Automated...",
          "Type: contracts<br>Text: ---\n\n## Support\n\nInsurellm commits to comprehensive Enterprise-level support for Metropolitan Life G...",
          "Type: contracts<br>Text: 3. **Comprehensive Implementation:**\n   - 12-month phased implementation program with 3 major releas...",
          "Type: contracts<br>Text: 5. **Custom Development:**\n   - 2,000 hours annually of custom development included\n   - Dedicated d...",
          "Type: contracts<br>Text: 7. **Analytics and Reporting:**\n   - Custom executive dashboard development (unlimited)\n   - Real-ti...",
          "Type: contracts<br>Text: ---\n\n**Signatures:**\n\n_________________________________\n**Jennifer Rodriguez**\n**Title**: Chief Exec...",
          "Type: contracts<br>Text: # Contract with Velocity Auto Solutions for Carllm\n\n**Contract Date:** October 1, 2023  \n**Contract ...",
          "Type: contracts<br>Text: ## Renewal\n\n1. **Automatic Renewal**: This contract will automatically renew for successive 12-month...",
          "Type: contracts<br>Text: ## Support\n\n1. **Customer Support**: Velocity Auto Solutions will have access to Insurellm’s custome...",
          "Type: contracts<br>Text: # Contract with GlobalRe Partners for Rellm - AI-Powered Enterprise Reinsurance Solution\n\n**Contract...",
          "Type: contracts<br>Text: 4. **Reinsurance Volume**: Enterprise Tier supports unlimited treaties and facultative certificates....",
          "Type: contracts<br>Text: 8. **Business Continuity:** Guaranteed 2-hour recovery time objective (RTO) and 30-minute recovery p...",
          "Type: contracts<br>Text: ---\n\n## Features\n\nGlobalRe Partners will receive the complete Rellm Enterprise suite with advanced r...",
          "Type: contracts<br>Text: 3. **Advanced AI-Driven Analytics:** Enterprise-grade reinsurance analytics:\n   - Predictive risk mo...",
          "Type: contracts<br>Text: 5. **Catastrophe Modeling Integration:** Best-in-class CAT modeling:\n   - Integration with all major...",
          "Type: contracts<br>Text: 7. **Facultative Reinsurance Platform:** Comprehensive fac management:\n   - Digital submission intak...",
          "Type: contracts<br>Text: 9. **Regulatory Compliance Tools:** Global compliance support:\n   - Multi-jurisdiction regulatory re...",
          "Type: contracts<br>Text: 11. **Complete API Access:** Unlimited API integration:\n    - Real-time integration with GlobalRe's ...",
          "Type: contracts<br>Text: 13. **Climate Risk Analytics:** Forward-looking climate modeling:\n    - IPCC climate scenario analys...",
          "Type: contracts<br>Text: 2. **24/7/365 Premium Support:**\n   - Guaranteed 10-minute response for P1 critical issues (during c...",
          "Type: contracts<br>Text: 3. **Comprehensive Implementation:**\n   - 18-month phased implementation program with 5 major releas...",
          "Type: contracts<br>Text: 4. **Training and Enablement:**\n   - Comprehensive role-based training (underwriters, actuaries, acc...",
          "Type: contracts<br>Text: 5. **Custom Development:**\n   - 4,000 hours annually of custom development included\n   - Dedicated d...",
          "Type: contracts<br>Text: 6. **Integration Services:**\n   - Enterprise integration with GlobalRe's complex ecosystem:\n     - S...",
          "Type: contracts<br>Text: 7. **Analytics and Reporting:**\n   - Custom dashboard development (unlimited)\n   - Real-time operati...",
          "Type: contracts<br>Text: 8. **Catastrophe Response:**\n   - Dedicated CAT war room activation during major events\n   - Real-ti...",
          "Type: contracts<br>Text: 10. **Continuous Improvement:**\n    - Monthly process optimization sessions\n    - Quarterly efficien...",
          "Type: contracts<br>Text: ---\n\n**Signatures:**\n\n_________________________________\n**Jennifer Rodriguez**\n**Title**: Chief Exec...",
          "Type: contracts<br>Text: # Contract with WellCare Insurance Co. for Healthllm\n\n**Contract Date:** March 8, 2025\n**Contract Nu...",
          "Type: contracts<br>Text: 4. **Member Coverage**: Essential Tier supports health insurance administration for up to 15,000 cov...",
          "Type: contracts<br>Text: ---\n\n## Features\n\nWellCare Insurance Co. will receive the following Essential Tier features:\n\n1. **I...",
          "Type: contracts<br>Text: 3. **AI-Driven Claims Adjudication:** Automated claims processing:\n   - Machine learning-based claim...",
          "Type: contracts<br>Text: 6. **Basic Medication Management:**\n   - Formulary management tools\n   - Prior authorization workflo...",
          "Type: contracts<br>Text: ---\n\n## Support\n\nInsurellm commits to providing comprehensive support to WellCare Insurance Co.:\n\n1....",
          "Type: contracts<br>Text: 4. **Account Management:**\n   - Named customer success manager\n   - Quarterly business review meetin...",
          "Type: contracts<br>Text: ---\n\n**Signatures:**\n\n_________________________________\n**Sarah Chen**\n**Title**: Vice President of ...",
          "Type: contracts<br>Text: # Contract with Fortress Business Underwriters for Bizllm\n\n---\n\n## Terms\n\n1. **Agreement Effective D...",
          "Type: contracts<br>Text: ---\n\n## Renewal\n\n1. **Automatic Renewal**: This agreement will automatically renew for an additional...",
          "Type: contracts<br>Text: ---\n\n## Features\n\n1. **Access to Professional Tier Features**: Fortress Business Underwriters will h...",
          "Type: contracts<br>Text: 2. **Advanced Analytics**: Access to enhanced reporting capabilities including loss ratio analysis, ...",
          "Type: contracts<br>Text: 2. **Training**: Insurellm will provide:\n   - Initial comprehensive onboarding (40 hours) for up to ...",
          "Type: contracts<br>Text: ---\n\n**Signatures:**\n\n_________________________________\n**Michael Torres**\n**Title**: Chief Revenue ...",
          "Type: contracts<br>Text: # Contract with GreenValley Insurance for Homellm\n\n**Contract Date:** October 6, 2023  \n**Contract N...",
          "Type: contracts<br>Text: 4. **Confidentiality:** Both parties agree to maintain the confidentiality of proprietary informatio...",
          "Type: contracts<br>Text: 1. **AI-Powered Risk Assessment:** Access to advanced AI algorithms for real-time risk evaluations.\n...",
          "Type: contracts<br>Text: 3. **Regular Updates:** Insurellm will offer ongoing updates and enhancements to the Homellm platfor...",
          "Type: contracts<br>Text: # Contract with Evergreen Life Insurance for Lifellm\n\n**Contract Date:** January 20, 2025\n**Contract...",
          "Type: contracts<br>Text: 4. **Policy Volume:** Starter Tier supports underwriting and administration for up to 2,000 active p...",
          "Type: contracts<br>Text: ---\n\n## Features\n\nEvergreen Life Insurance will receive the following Starter Tier features:\n\n1. **A...",
          "Type: contracts<br>Text: 4. **Smart Document Processing:** OCR and NLP extraction from:\n   - Medical records and attending ph...",
          "Type: contracts<br>Text: ---\n\n## Support\n\nInsurellm commits to providing comprehensive support to Evergreen Life Insurance:\n\n...",
          "Type: contracts<br>Text: 3. **Platform Updates:**\n   - Quarterly feature releases\n   - Monthly security patches and improveme...",
          "Type: contracts<br>Text: _________________________________\n**Catherine Wu**\n**Title**: Chief Underwriting Officer\n**Evergreen...",
          "Type: contracts<br>Text: # Contract with BrightWay Solutions for Markellm\n\n**Contract Date:** October 5, 2023  \n**Contract ID...",
          "Type: contracts<br>Text: 3. **Service Level Agreement (SLA):**  \n   Insurellm commits to a 99.9% uptime for the platform with...",
          "Type: contracts<br>Text: 2. **Real-Time Quote Availability:**  \n   Consumers sourced via BrightWay Solutions will receive rea...",
          "Type: contracts<br>Text: 3. **Training and Onboarding:**  \n   Insurellm agrees to provide one free training session on how to...",
          "Type: contracts<br>Text: # Contract with DriveSmart Insurance for Carllm\n\n**Contract Date:** March 20, 2025\n**Contract Number...",
          "Type: contracts<br>Text: 4. **Policy Volume**: Enterprise Tier supports unlimited policies. DriveSmart currently has 85,000 a...",
          "Type: contracts<br>Text: ---\n\n## Features\n\nDriveSmart Insurance will receive the complete Carllm Enterprise suite:\n\n1. **Unli...",
          "Type: contracts<br>Text: 4. **Instant Quoting Engine:** High-performance quoting:\n   - Sub-3-second quote generation\n   - Rea...",
          "Type: contracts<br>Text: 6. **Advanced Fraud Detection:** Comprehensive fraud prevention:\n   - Application fraud detection (i...",
          "Type: contracts<br>Text: 8. **Telematics Integration:** Complete telematics platform:\n   - Device-agnostic integration (OBD-I...",
          "Type: contracts<br>Text: 10. **Multi-State Operations:** Comprehensive state support:\n    - State-specific forms and endorsem...",
          "Type: contracts<br>Text: 3. **Implementation:**\n   - 6-month phased implementation\n   - Dedicated project manager\n   - Migrat...",
          "Type: contracts<br>Text: 6. **Integration Services:**\n   - Integration with DriveSmart's systems:\n     - Duck Creek policy ad...",
          "Type: contracts<br>Text: ---\n\n**Signatures:**\n\n_________________________________\n**Jennifer Rodriguez**\n**Title**: Chief Exec...",
          "Type: contracts<br>Text: # Contract with SafeHaven Property Insurance for Homellm\n\n**Contract Date:** May 3, 2025\n**Contract ...",
          "Type: contracts<br>Text: 4. **Policy Volume**: Enterprise Tier supports unlimited policies. SafeHaven currently has 45,000 ac...",
          "Type: contracts<br>Text: ---\n\n## Features\n\nSafeHaven Property Insurance will receive the complete Homellm Enterprise suite:\n\n...",
          "Type: contracts<br>Text: 3. **Advanced AI Risk Assessment:** Enterprise-grade property risk analysis:\n   - Aerial imagery ana...",
          "Type: contracts<br>Text: 5. **Instant Claims Processing:** Advanced claims automation:\n   - AI-driven FNOL with photo/video u...",
          "Type: contracts<br>Text: 7. **Multi-Channel Integration:** Unified platform:\n   - Agent portal for 1,500+ independent agents\n...",
          "Type: contracts<br>Text: 9. **IoT Device Integration:** Smart home platform:\n   - Water leak detection systems (Flo by Moen, ...",
          "Type: contracts<br>Text: 11. **Multi-State Operations:** Comprehensive support:\n    - State-specific forms and endorsements f...",
          "Type: contracts<br>Text: ---\n\n## Support\n\nInsurellm commits to comprehensive Enterprise-level support for SafeHaven Property ...",
          "Type: contracts<br>Text: 3. **Comprehensive Implementation:**\n   - 8-month phased implementation program\n   - Dedicated proje...",
          "Type: contracts<br>Text: 5. **Custom Development:**\n   - 1,200 hours annually of custom development\n   - Dedicated developmen...",
          "Type: contracts<br>Text: 7. **Analytics and Reporting:**\n   - Custom dashboard development (up to 20 dashboards)\n   - Real-ti...",
          "Type: contracts<br>Text: 9. **Catastrophe Response:**\n   - Dedicated CAT support during disaster events\n   - Pre-CAT system p...",
          "Type: contracts<br>Text: _________________________________\n**Laura Mitchell**\n**Title**: President & Chief Executive Officer\n...",
          "Type: contracts<br>Text: # Contract with Pinnacle Insurance Co. for Homellm\n\n## Terms\nThis contract (\"Contract\") is entered i...",
          "Type: contracts<br>Text: ## Renewal\n1. **Renewal Terms**: At the end of the initial term, this Contract shall automatically r...",
          "Type: contracts<br>Text: ## Features\n1. **AI-Powered Risk Assessment**: Utilized for tailored underwriting decisions specific...",
          "Type: contracts<br>Text: ## Support\n1. **Technical Support**: Insurellm shall provide 24/7 technical support via an email and...",
          "Type: contracts<br>Text: # Contract with Apex Reinsurance for Rellm: AI-Powered Enterprise Reinsurance Solution\n\n## Terms\n\n1....",
          "Type: contracts<br>Text: ## Renewal\n\n1. **Automatic Renewal**: This Agreement will automatically renew for successive one-yea...",
          "Type: contracts<br>Text: 2. **Seamless Integrations**: The architecture of Rellm allows for easy integration with existing sy...",
          "Type: contracts<br>Text: 1. **Technical Support**: Provider shall offer dedicated technical support to the Client via phone, ...",
          "Type: contracts<br>Text: **Insurellm, Inc.**  \n_____________________________  \nAuthorized Signature   \nDate: ________________...",
          "Type: contracts<br>Text: # Contract with Advantage Medical Coverage for Healthllm\n\n**Contract Date:** April 18, 2025\n**Contra...",
          "Type: contracts<br>Text: 4. **Member Coverage**: Professional Tier supports up to 50,000 covered members. Advantage currently...",
          "Type: contracts<br>Text: 2. **Pricing Review**: Renewal pricing will be discussed 75 days prior to term end and mutually agre...",
          "Type: contracts<br>Text: 2. **Value-Based Care Support:**\n   - ACO performance tracking and shared savings calculation\n   - H...",
          "Type: contracts<br>Text: 2. **Training**: Comprehensive training program:\n   - 5-week implementation with project manager\n   ...",
          "Type: contracts<br>Text: ---\n\n**Signatures:**\n\n**Insurellm, Inc.**\nSarah Chen, VP of Sales\nDate: April 18, 2025\n\n**Advantage ...",
          "Type: contracts<br>Text: # Contract with Summit Commercial Insurance for Bizllm\n\n**Contract Date:** March 15, 2025\n**Contract...",
          "Type: contracts<br>Text: 3. **Payment:** Summit Commercial Insurance shall pay a monthly fee of $6,000, due by the 1st of eve...",
          "Type: contracts<br>Text: 6. **Data Security:** Insurellm commits to maintaining industry-standard encryption and security pro...",
          "Type: contracts<br>Text: 2. **Business Intelligence Integration:** Automated data gathering from business registries, financi...",
          "Type: contracts<br>Text: ---\n\n## Support\n\nInsurellm commits to providing comprehensive support to Summit Commercial Insurance...",
          "Type: contracts<br>Text: 5. **Performance Reviews:** Quarterly business reviews to assess platform utilization, identify opti...",
          "Type: company<br>Text: # Overview of Insurellm\n\nInsurellm is an innovative insurance tech firm with 32 employees operating ...",
          "Type: company<br>Text: ### Marketplace & Infrastructure\n- **Markellm** - Marketplace connecting consumers with insurance pr...",
          "Type: company<br>Text: ## Client Portfolio Breakdown\n\nInsurellm's 32 active contracts span the full spectrum of insurance t...",
          "Type: company<br>Text: **Insurance Marketplace (Markellm)**: 2 contracts with agencies and brokers leveraging the consumer-...",
          "Type: company<br>Text: # Careers at Insurellm\n\n## Why Join Insurellm?\n\nAt Insurellm, we're not just building software—we're...",
          "Type: company<br>Text: ### Our Culture\n\nWe live by our core values every day:\n- **Innovation First**: We encourage experime...",
          "Type: company<br>Text: ## Current Opportunities\n\n### Engineering\n\n**Senior Full Stack Engineer** - San Francisco, CA\n- Lead...",
          "Type: company<br>Text: **DevOps Engineer** - New York, NY\n- Manage cloud infrastructure (AWS/GCP)\n- Implement CI/CD pipelin...",
          "Type: company<br>Text: **Data Engineer** - Austin, TX\n- Design and maintain data pipelines\n- Build data warehousing solutio...",
          "Type: company<br>Text: ### Sales & Customer Success\n\n**Account Executive** - New York, NY / Chicago, IL / Austin, TX\n- Mana...",
          "Type: company<br>Text: ### Operations & Support\n\n**Technical Support Specialist** - Remote\n- Provide tier 2/3 technical sup...",
          "Type: company<br>Text: # Insurellm Culture\n\n## Vision Statement\nTo revolutionize the insurance industry through innovative ...",
          "Type: company<br>Text: ### Customer Obsession\nOur clients' success is our success. We deeply understand our customers' need...",
          "Type: company<br>Text: ## Employer Value Proposition\n\n**Build the Future of Insurance Technology with Elite Talent**\n\nAt In...",
          "Type: company<br>Text: - **Meaningful Impact**: Your work directly shapes products powering 32 active insurance operations,...",
          "Type: company<br>Text: # About Insurellm\n\nInsurellm was founded by Avery Lancaster in 2015 as an insurance tech startup des...",
          "Type: company<br>Text: However, the company underwent a strategic restructuring in 2022-2023 to focus on profitability and ...",
          "Type: company<br>Text: - **Bizllm** quickly gained traction with 7 commercial insurance contracts, including regional carri...",
          "Type: employees<br>Text: # HR Record\n\n# David Kim\n\n## Summary\n- **Date of Birth:** September 22, 1992\n- **Job Title:** DevOps...",
          "Type: employees<br>Text: - **June 2017 - February 2019:** Systems Administrator at CloudFirst Solutions\n  - Maintained Linux ...",
          "Type: employees<br>Text: ## Other HR Notes\n- **Certifications:** AWS Certified Solutions Architect (2022), Certified Kubernet...",
          "Type: employees<br>Text: # HR Record\n\n# Nina Patel\n\n## Summary\n- **Date of Birth:** July 25, 1991\n- **Job Title:** Business I...",
          "Type: employees<br>Text: - **May 2017 - July 2019:** Data Analyst at RetailMetrics Inc.\n  - Analyzed retail sales data and cu...",
          "Type: employees<br>Text: - **2019:** Rating: 3.9/5\n  *Good onboarding year. Quick to adapt to Insurellm's data systems.*\n\n## ...",
          "Type: employees<br>Text: # HR Record\n\n# Priya Sharma\n\n## Summary\n- **Date of Birth:** January 8, 1986\n- **Job Title:** Senior...",
          "Type: employees<br>Text: - **August 2012 - May 2015:** Research Scientist at UC Berkeley AI Lab\n  - Conducted research in mac...",
          "Type: employees<br>Text: - **2019:** Rating: 4.6/5\n  *Excellent contributions to fraud detection systems. Recognized for thou...",
          "Type: employees<br>Text: ## Other HR Notes\n- **Education:** PhD in Computer Science (Machine Learning) from Stanford Universi...",
          "Type: employees<br>Text: # HR Record\n\n# Alex Chen\n\n## Summary\n- **Date of Birth:** March 15, 1990\n- **Job Title:** Backend So...",
          "Type: employees<br>Text: ## Annual Performance History\n- **2020:**  \n  - Completed onboarding successfully.  \n  - Met expecta...",
          "Type: employees<br>Text: ## Compensation History\n- **2020:** Base Salary: $80,000  \n- **2021:** Base Salary Increase to $90,0...",
          "Type: employees<br>Text: Alex Chen continues to be a vital asset at Insurellm, contributing significantly to innovative backe...",
          "Type: employees<br>Text: # HR Record\n\n# Robert Chen\n\n## Summary\n- **Date of Birth:** February 28, 1983\n- **Job Title:** Senio...",
          "Type: employees<br>Text: - **August 2008 - May 2012:** Software Engineer at TechStartup\n  - Developed features for SaaS platf...",
          "Type: employees<br>Text: - **2019:** Rating: 4.5/5\n  *Excellent year with successful Homellm rewrite. Strong architectural co...",
          "Type: employees<br>Text: ## Other HR Notes\n- **Education:** MS in Computer Science from Stanford University, BS in Computer E...",
          "Type: employees<br>Text: # HR Record\n\n# Oliver Spencer\n\n## Summary\n- **Date of Birth**: May 14, 1990\n- **Job Title**: Backend...",
          "Type: employees<br>Text: ## Annual Performance History\n- **2018**: **3/5** - Adaptable team player but still learning to take...",
          "Type: employees<br>Text: ## Compensation History\n- **March 2018**: Initial salary of $80,000.\n- **July 2019**: Salary increas...",
          "Type: employees<br>Text: # HR Record\n\n# Amanda Foster\n\n## Summary\n- **Date of Birth:** August 14, 1982\n- **Job Title:** HR Bu...",
          "Type: employees<br>Text: - **June 2009 - February 2013:** HR Coordinator at Enterprise Corp.\n  - Supported recruiting and onb...",
          "Type: employees<br>Text: - **2019:** Rating: 4.2/5\n  *Strong year. Improved hiring velocity for engineering roles by 35%. Bui...",
          "Type: employees<br>Text: ## Other HR Notes\n- **Education:** MS in Human Resources Management from Cornell University, BA in P...",
          "Type: employees<br>Text: # HR Record\n\n# Emily Tran\n\n## Summary\n- **Date of Birth:** March 18, 1991\n- **Job Title:** Digital M...",
          "Type: employees<br>Text: - **January 2017 - May 2018**: Marketing Intern  \n  - Supported the Marketing team by collaborating ...",
          "Type: employees<br>Text: - **2021**:  \n  - Performance Rating: Meets Expectations  \n  - Key Achievements: Contributed to the ...",
          "Type: employees<br>Text: - **Professional Development Goals**:  \n  - Emily Tran aims to become a Marketing Manager within the...",
          "Type: employees<br>Text: # HR Record\n\n# Jordan Blake\n\n## Summary\n- **Date of Birth:** March 15, 1993\n- **Job Title:** Sales D...",
          "Type: employees<br>Text: ## Annual Performance History\n- **2021:** First year at Insurellm; achieved 90% of monthly targets. ...",
          "Type: employees<br>Text: ## Other HR Notes\n- Jordan has shown an interest in continuing education, actively participating in ...",
          "Type: employees<br>Text: # HR Record\n\n# Kevin Zhang\n\n## Summary\n- **Date of Birth:** March 27, 1990\n- **Job Title:** Mobile D...",
          "Type: employees<br>Text: - **July 2015 - January 2018:** Junior Mobile Developer at StartupTech\n  - Built mobile features for...",
          "Type: employees<br>Text: ## Other HR Notes\n- **Education:** BS in Computer Science from UC Berkeley\n- **Skills:** Expert in S...",
          "Type: employees<br>Text: # HR Record\n\n# Maya Thompson\n\n## Summary\n- **Date of Birth:** June 14, 1993\n- **Job Title:** Data En...",
          "Type: employees<br>Text: ## Annual Performance History\n- **2023:** Rating: 4.3/5\n  *Strong performance. Delivered critical da...",
          "Type: employees<br>Text: ## Compensation History\n- **2023:** Base Salary: $110,000 + Bonus: $12,000\n- **2022:** Base Salary: ...",
          "Type: employees<br>Text: # HR Record\n\n# Jennifer Adams\n\n## Summary\n- **Date of Birth:** July 7, 1997\n- **Job Title:** Sales D...",
          "Type: employees<br>Text: - **August 2019 - May 2022:** Customer Service Representative at RetailCo\n  - Handled customer inqui...",
          "Type: employees<br>Text: ## Compensation History\n- **2023:** Base Salary: $58,000 + Commission: $4,200\n- **2022:** Intern Sti...",
          "Type: employees<br>Text: # HR Record\n\n# Jessica Liu\n\n## Summary\n- **Date of Birth:** April 30, 1996\n- **Job Title:** Frontend...",
          "Type: employees<br>Text: - **June 2018 - December 2019:** Web Developer Intern at StartupLabs\n  - Created landing pages and m...",
          "Type: employees<br>Text: ## Other HR Notes\n- **Education:** BS in Computer Science from University of Manchester\n- **Skills:*...",
          "Type: employees<br>Text: # Avery Lancaster\n\n## Summary\n- **Date of Birth**: March 15, 1985\n- **Job Title**: Co-Founder & Chie...",
          "Type: employees<br>Text: - **2010 - 2013**: Business Analyst at Edge Analytics  \n  Prior to joining Innovate, Avery worked as...",
          "Type: employees<br>Text: - **2018**: **Exceeds Expectations**  \n  Under Avery’s pivoted vision, Insurellm launched two new su...",
          "Type: employees<br>Text: - **2022**: **Satisfactory**  \n  Avery focused on rebuilding team dynamics and addressing employee c...",
          "Type: employees<br>Text: ## Compensation History\n- **2015**: $150,000 base salary + Significant equity stake  \n- **2016**: $1...",
          "Type: employees<br>Text: ## Other HR Notes\n- **Professional Development**: Avery has actively participated in leadership trai...",
          "Type: employees<br>Text: # HR Record\n\n# Maxine Thompson\n\n## Summary\n- **Date of Birth:** January 15, 1991\n- **Job Title:** Da...",
          "Type: employees<br>Text: ## Insurellm Career Progression\n- **January 2017 - October 2018**: **Junior Data Engineer**  \n  * Ma...",
          "Type: employees<br>Text: - **January 2021 - Present**: **Senior Data Engineer**  \n  * Maxine was promoted to Senior Data Engi...",
          "Type: employees<br>Text: ## Annual Performance History\n- **2017**: *Meets Expectations*  \n  Maxine showed potential in her ro...",
          "Type: employees<br>Text: - **2021**: *Exceeds Expectations*  \n  Maxine spearheaded the transition to a new data warehousing s...",
          "Type: employees<br>Text: ## Compensation History\n- **2017**: $70,000 (Junior Data Engineer)  \n- **2018**: $75,000 (Junior Dat...",
          "Type: employees<br>Text: # HR Record\n\n# Daniel Park\n\n## Summary\n- **Date of Birth:** October 3, 1991\n- **Job Title:** QA Engi...",
          "Type: employees<br>Text: ## Annual Performance History\n- **2023:** Rating: 4.2/5\n  *Strong performance. Expanded test automat...",
          "Type: employees<br>Text: ## Other HR Notes\n- **Education:** BS in Computer Science from Texas State University\n- **Certificat...",
          "Type: employees<br>Text: # Samantha Greene\n\n## Summary\n- **Date of Birth:** October 14, 1990\n- **Job Title:** HR Generalist\n-...",
          "Type: employees<br>Text: ## Annual Performance History\n- **2020:** Exceeds Expectations  \n  Samantha Greene demonstrated exce...",
          "Type: employees<br>Text: ## Compensation History\n- **2020:** Base Salary - $55,000  \n  The entry-level salary matched industr...",
          "Type: employees<br>Text: - **2023:** Base Salary - $70,000  \n  Recognized for substantial improvement in employee relations m...",
          "Type: employees<br>Text: # HR Record\n\n# Marcus Johnson\n\n## Summary\n- **Date of Birth:** February 17, 1988\n- **Job Title:** Cu...",
          "Type: employees<br>Text: - **January 2016 - August 2018:** Account Manager at SaaS Solutions Inc.\n  - Managed B2B client rela...",
          "Type: employees<br>Text: - **2020:** Rating: 4.0/5\n  *Good transition to CSM role. Quickly built rapport with enterprise clie...",
          "Type: employees<br>Text: # HR Record\n\n# Alex Thomson\n\n## Summary\n- **Date of Birth:** March 15, 1995\n- **Job Title:** Sales D...",
          "Type: employees<br>Text: ## Annual Performance History  \n- **2022** - Rated as \"Exceeds Expectations.\" Alex Thomson achieved ...",
          "Type: employees<br>Text: ## Other HR Notes\n- Alex Thomson is an active member of the Diversity and Inclusion committee at Ins...",
          "Type: employees<br>Text: # HR Record\n\n# Michael O'Brien\n\n## Summary\n- **Date of Birth:** May 20, 1984\n- **Job Title:** Accoun...",
          "Type: employees<br>Text: - **August 2010 - May 2014:** Sales Representative at Business Solutions Inc.\n  - B2B software sales...",
          "Type: employees<br>Text: - **2019:** Rating: 4.2/5\n  *Strong performance at 125% quota attainment. Expanded territory success...",
          "Type: employees<br>Text: ## Other HR Notes\n- **Education:** BA in Business from University of Illinois\n- **Awards:** Sales Ex...",
          "Type: employees<br>Text: # HR Record\n\n# Rachel Martinez\n\n## Summary\n- **Date of Birth:** June 8, 1987\n- **Job Title:** Produc...",
          "Type: employees<br>Text: ## Annual Performance History\n- **2023:** Rating: 4.6/5\n  *Exceptional year with successful launch o...",
          "Type: employees<br>Text: - **2019:** Rating: 4.0/5\n  *Strong start as Product Manager. Successfully transitioned from APM rol...",
          "Type: employees<br>Text: ## Other HR Notes\n- **Professional Development:** Completed Product Leadership Certification from Pr...",
          "Type: employees<br>Text: # HR Record\n\n# Sarah Williams\n\n## Summary\n- **Date of Birth:** November 3, 1994\n- **Job Title:** UX ...",
          "Type: employees<br>Text: - **August 2018 - May 2020:** UI/UX Designer at StartupHub Inc.\n  - Designed mobile and web interfac...",
          "Type: employees<br>Text: ## Other HR Notes\n- **Education:** BFA in Graphic Design from Rhode Island School of Design\n- **Skil...",
          "Type: employees<br>Text: # HR Record\n\n# Michelle Rivera\n\n## Summary\n- **Date of Birth:** December 16, 1988\n- **Job Title:** P...",
          "Type: employees<br>Text: - **May 2013 - July 2016:** UX Designer at CreativeAgency\n  - Created user interfaces for consumer a...",
          "Type: employees<br>Text: - **2019:** Rating: 4.0/5\n  *Solid first year at Insurellm. Quick to learn complex insurance domain ...",
          "Type: employees<br>Text: ## Other HR Notes\n- **Education:** MFA in Interaction Design from School of Visual Arts, BFA in Grap...",
          "Type: employees<br>Text: # HR Record\n\n# Samuel Trenton\n\n## Summary\n- **Date of Birth:** April 12, 1989\n- **Job Title:** Senio...",
          "Type: employees<br>Text: - **August 2016 - May 2018:** Junior Data Analyst  \n  *Started at Insurellm as a Junior Data Analyst...",
          "Type: employees<br>Text: - **2021:** Rating: 4.0/5  \n  *There was notable improvement in performance. Worked to enhance model...",
          "Type: employees<br>Text: - **2020:** Base Salary: $100,000 + Bonus: $8,000  \n  *Initial compensation as Senior Data Scientist...",
          "Type: employees<br>Text: # HR Record\n\n# Lisa Anderson\n\n## Summary\n- **Date of Birth:** November 18, 1985\n- **Job Title:** Mar...",
          "Type: employees<br>Text: - **June 2012 - December 2015:** Marketing Coordinator at Enterprise Solutions\n  - Supported marketi...",
          "Type: employees<br>Text: - **2019:** Rating: 4.0/5\n  *Strong start as Marketing Manager. Quick to understand insurance tech m...",
          "Type: employees<br>Text: ## Other HR Notes\n- **Education:** MBA in Marketing from University of Texas at Austin, BA in Commun...",
          "Type: employees<br>Text: # HR Record\n\n# Alex Harper\n\n## Summary\n- **Date of Birth**: March 15, 1993\n- **Job Title**: Sales De...",
          "Type: employees<br>Text: ## Annual Performance History  \n- **2021**:  \n  - **Performance Rating**: 4.5/5  \n  - **Key Achievem...",
          "Type: employees<br>Text: - **2022**:  \n  - **Base Salary**: $65,000 (Promotion to Senior SDR)  \n  - **Bonus**: $13,000 (20% o...",
          "Type: employees<br>Text: # HR Record\n\n# Carlos Rodriguez\n\n## Summary\n- **Date of Birth:** October 12, 1989\n- **Job Title:** S...",
          "Type: employees<br>Text: - **January 2015 - February 2017:** Application Developer at FinTech Systems\n  - Developed financial...",
          "Type: employees<br>Text: - **2019:** Rating: 4.1/5\n  *Strong start as Solutions Engineer. Quick learner with excellent techni...",
          "Type: employees<br>Text: ## Other HR Notes\n- **Education:** MS in Computer Science from University of Florida\n- **Certificati...",
          "Type: employees<br>Text: # HR Record\n\n# James Wilson\n\n## Summary\n- **Date of Birth:** April 5, 1978\n- **Job Title:** Chief Te...",
          "Type: employees<br>Text: - **June 2008 - February 2012:** Senior Engineering Manager at CloudSoft Corp.\n  - Managed multiple ...",
          "Type: employees<br>Text: - **2021:** Rating: 4.6/5\n  *Excellent performance navigating remote transition. Built strong engine...",
          "Type: employees<br>Text: - **2017:** Rating: 4.3/5\n  *Strong start as CTO. Quickly assessed technical landscape and began str...",
          "Type: employees<br>Text: ## Other HR Notes\n- **Education:** MS in Computer Science from MIT, BS in Computer Engineering from ...",
          "Type: employees<br>Text: # HR Record\n\n# Jordan K. Bishop\n\n## Summary\n- **Date of Birth:** March 15, 1990\n- **Job Title:** Fro...",
          "Type: employees<br>Text: ## Annual Performance History\n- **2019:** Exceeds Expectations - Continuously delivered high-quality...",
          "Type: employees<br>Text: ## Compensation History\n- **June 2018:** Starting Salary - $85,000\n- **June 2019:** Salary Increase ...",
          "Type: employees<br>Text: ## Other HR Notes\n- Jordan K. Bishop has been an integral part of club initiatives, including the In...",
          "Type: employees<br>Text: # HR Record\n\n# Emily Carter\n\n## Summary\n- **Date of Birth:** August 12, 1990\n- **Job Title:** Accoun...",
          "Type: employees<br>Text: - **2017-2019:** Marketing Intern  \n  - Assisted with market research and campaign development for s...",
          "Type: employees<br>Text: ## Compensation History\n| Year | Base Salary | Bonus         | Total Compensation |\n|------|--------...",
          "Type: employees<br>Text: Emily Carter exemplifies the kind of talent that drives Insurellm's success and is an invaluable ass...",
          "Type: employees<br>Text: # HR Record\n\n# Tyler Brooks\n\n## Summary\n- **Date of Birth:** September 9, 1998\n- **Job Title:** Juni...",
          "Type: employees<br>Text: - **2022:** Rating: 3.5/5\n  *Adequate performance for a junior developer. Good learning attitude but...",
          "Type: employees<br>Text: ## Compensation History\n- **2023:** Base Salary: $75,000 + Bonus: $2,000\n- **2022:** Base Salary: $7...",
          "Type: employees<br>Text: # HR Record\n\n# Brandon Walker\n\n## Summary\n- **Date of Birth:** December 5, 1993\n- **Job Title:** Tec...",
          "Type: employees<br>Text: - **January 2018 - April 2019:** IT Help Desk Technician at Regional Bank\n  - Provided internal IT s...",
          "Type: employees<br>Text: ## Other HR Notes\n- **Education:** Associate Degree in Information Technology from Phoenix Community..."
         ],
         "type": "scatter3d",
         "x": {
          "bdata": "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",
          "dtype": "f4"
         },
         "y": {
          "bdata": "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",
          "dtype": "f4"
         },
         "z": {
          "bdata": "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",
          "dtype": "f4"
         }
        }
       ],
       "layout": {
        "height": 700,
        "margin": {
         "b": 10,
         "l": 10,
         "r": 20,
         "t": 40
        },
        "scene": {
         "xaxis": {
          "title": {
           "text": "x"
          }
         },
         "yaxis": {
          "title": {
           "text": "y"
          }
         },
         "zaxis": {
          "title": {
           "text": "z"
          }
         }
        },
        "template": {
         "data": {
          "bar": [
           {
            "error_x": {
             "color": "#2a3f5f"
            },
            "error_y": {
             "color": "#2a3f5f"
            },
            "marker": {
             "line": {
              "color": "#E5ECF6",
              "width": 0.5
             },
             "pattern": {
              "fillmode": "overlay",
              "size": 10,
              "solidity": 0.2
             }
            },
            "type": "bar"
           }
          ],
          "barpolar": [
           {
            "marker": {
             "line": {
              "color": "#E5ECF6",
              "width": 0.5
             },
             "pattern": {
              "fillmode": "overlay",
              "size": 10,
              "solidity": 0.2
             }
            },
            "type": "barpolar"
           }
          ],
          "carpet": [
           {
            "aaxis": {
             "endlinecolor": "#2a3f5f",
             "gridcolor": "white",
             "linecolor": "white",
             "minorgridcolor": "white",
             "startlinecolor": "#2a3f5f"
            },
            "baxis": {
             "endlinecolor": "#2a3f5f",
             "gridcolor": "white",
             "linecolor": "white",
             "minorgridcolor": "white",
             "startlinecolor": "#2a3f5f"
            },
            "type": "carpet"
           }
          ],
          "choropleth": [
           {
            "colorbar": {
             "outlinewidth": 0,
             "ticks": ""
            },
            "type": "choropleth"
           }
          ],
          "contour": [
           {
            "colorbar": {
             "outlinewidth": 0,
             "ticks": ""
            },
            "colorscale": [
             [
              0,
              "#0d0887"
             ],
             [
              0.1111111111111111,
              "#46039f"
             ],
             [
              0.2222222222222222,
              "#7201a8"
             ],
             [
              0.3333333333333333,
              "#9c179e"
             ],
             [
              0.4444444444444444,
              "#bd3786"
             ],
             [
              0.5555555555555556,
              "#d8576b"
             ],
             [
              0.6666666666666666,
              "#ed7953"
             ],
             [
              0.7777777777777778,
              "#fb9f3a"
             ],
             [
              0.8888888888888888,
              "#fdca26"
             ],
             [
              1,
              "#f0f921"
             ]
            ],
            "type": "contour"
           }
          ],
          "contourcarpet": [
           {
            "colorbar": {
             "outlinewidth": 0,
             "ticks": ""
            },
            "type": "contourcarpet"
           }
          ],
          "heatmap": [
           {
            "colorbar": {
             "outlinewidth": 0,
             "ticks": ""
            },
            "colorscale": [
             [
              0,
              "#0d0887"
             ],
             [
              0.1111111111111111,
              "#46039f"
             ],
             [
              0.2222222222222222,
              "#7201a8"
             ],
             [
              0.3333333333333333,
              "#9c179e"
             ],
             [
              0.4444444444444444,
              "#bd3786"
             ],
             [
              0.5555555555555556,
              "#d8576b"
             ],
             [
              0.6666666666666666,
              "#ed7953"
             ],
             [
              0.7777777777777778,
              "#fb9f3a"
             ],
             [
              0.8888888888888888,
              "#fdca26"
             ],
             [
              1,
              "#f0f921"
             ]
            ],
            "type": "heatmap"
           }
          ],
          "histogram": [
           {
            "marker": {
             "pattern": {
              "fillmode": "overlay",
              "size": 10,
              "solidity": 0.2
             }
            },
            "type": "histogram"
           }
          ],
          "histogram2d": [
           {
            "colorbar": {
             "outlinewidth": 0,
             "ticks": ""
            },
            "colorscale": [
             [
              0,
              "#0d0887"
             ],
             [
              0.1111111111111111,
              "#46039f"
             ],
             [
              0.2222222222222222,
              "#7201a8"
             ],
             [
              0.3333333333333333,
              "#9c179e"
             ],
             [
              0.4444444444444444,
              "#bd3786"
             ],
             [
              0.5555555555555556,
              "#d8576b"
             ],
             [
              0.6666666666666666,
              "#ed7953"
             ],
             [
              0.7777777777777778,
              "#fb9f3a"
             ],
             [
              0.8888888888888888,
              "#fdca26"
             ],
             [
              1,
              "#f0f921"
             ]
            ],
            "type": "histogram2d"
           }
          ],
          "histogram2dcontour": [
           {
            "colorbar": {
             "outlinewidth": 0,
             "ticks": ""
            },
            "colorscale": [
             [
              0,
              "#0d0887"
             ],
             [
              0.1111111111111111,
              "#46039f"
             ],
             [
              0.2222222222222222,
              "#7201a8"
             ],
             [
              0.3333333333333333,
              "#9c179e"
             ],
             [
              0.4444444444444444,
              "#bd3786"
             ],
             [
              0.5555555555555556,
              "#d8576b"
             ],
             [
              0.6666666666666666,
              "#ed7953"
             ],
             [
              0.7777777777777778,
              "#fb9f3a"
             ],
             [
              0.8888888888888888,
              "#fdca26"
             ],
             [
              1,
              "#f0f921"
             ]
            ],
            "type": "histogram2dcontour"
           }
          ],
          "mesh3d": [
           {
            "colorbar": {
             "outlinewidth": 0,
             "ticks": ""
            },
            "type": "mesh3d"
           }
          ],
          "parcoords": [
           {
            "line": {
             "colorbar": {
              "outlinewidth": 0,
              "ticks": ""
             }
            },
            "type": "parcoords"
           }
          ],
          "pie": [
           {
            "automargin": true,
            "type": "pie"
           }
          ],
          "scatter": [
           {
            "fillpattern": {
             "fillmode": "overlay",
             "size": 10,
             "solidity": 0.2
            },
            "type": "scatter"
           }
          ],
          "scatter3d": [
           {
            "line": {
             "colorbar": {
              "outlinewidth": 0,
              "ticks": ""
             }
            },
            "marker": {
             "colorbar": {
              "outlinewidth": 0,
              "ticks": ""
             }
            },
            "type": "scatter3d"
           }
          ],
          "scattercarpet": [
           {
            "marker": {
             "colorbar": {
              "outlinewidth": 0,
              "ticks": ""
             }
            },
            "type": "scattercarpet"
           }
          ],
          "scattergeo": [
           {
            "marker": {
             "colorbar": {
              "outlinewidth": 0,
              "ticks": ""
             }
            },
            "type": "scattergeo"
           }
          ],
          "scattergl": [
           {
            "marker": {
             "colorbar": {
              "outlinewidth": 0,
              "ticks": ""
             }
            },
            "type": "scattergl"
           }
          ],
          "scattermap": [
           {
            "marker": {
             "colorbar": {
              "outlinewidth": 0,
              "ticks": ""
             }
            },
            "type": "scattermap"
           }
          ],
          "scattermapbox": [
           {
            "marker": {
             "colorbar": {
              "outlinewidth": 0,
              "ticks": ""
             }
            },
            "type": "scattermapbox"
           }
          ],
          "scatterpolar": [
           {
            "marker": {
             "colorbar": {
              "outlinewidth": 0,
              "ticks": ""
             }
            },
            "type": "scatterpolar"
           }
          ],
          "scatterpolargl": [
           {
            "marker": {
             "colorbar": {
              "outlinewidth": 0,
              "ticks": ""
             }
            },
            "type": "scatterpolargl"
           }
          ],
          "scatterternary": [
           {
            "marker": {
             "colorbar": {
              "outlinewidth": 0,
              "ticks": ""
             }
            },
            "type": "scatterternary"
           }
          ],
          "surface": [
           {
            "colorbar": {
             "outlinewidth": 0,
             "ticks": ""
            },
            "colorscale": [
             [
              0,
              "#0d0887"
             ],
             [
              0.1111111111111111,
              "#46039f"
             ],
             [
              0.2222222222222222,
              "#7201a8"
             ],
             [
              0.3333333333333333,
              "#9c179e"
             ],
             [
              0.4444444444444444,
              "#bd3786"
             ],
             [
              0.5555555555555556,
              "#d8576b"
             ],
             [
              0.6666666666666666,
              "#ed7953"
             ],
             [
              0.7777777777777778,
              "#fb9f3a"
             ],
             [
              0.8888888888888888,
              "#fdca26"
             ],
             [
              1,
              "#f0f921"
             ]
            ],
            "type": "surface"
           }
          ],
          "table": [
           {
            "cells": {
             "fill": {
              "color": "#EBF0F8"
             },
             "line": {
              "color": "white"
             }
            },
            "header": {
             "fill": {
              "color": "#C8D4E3"
             },
             "line": {
              "color": "white"
             }
            },
            "type": "table"
           }
          ]
         },
         "layout": {
          "annotationdefaults": {
           "arrowcolor": "#2a3f5f",
           "arrowhead": 0,
           "arrowwidth": 1
          },
          "autotypenumbers": "strict",
          "coloraxis": {
           "colorbar": {
            "outlinewidth": 0,
            "ticks": ""
           }
          },
          "colorscale": {
           "diverging": [
            [
             0,
             "#8e0152"
            ],
            [
             0.1,
             "#c51b7d"
            ],
            [
             0.2,
             "#de77ae"
            ],
            [
             0.3,
             "#f1b6da"
            ],
            [
             0.4,
             "#fde0ef"
            ],
            [
             0.5,
             "#f7f7f7"
            ],
            [
             0.6,
             "#e6f5d0"
            ],
            [
             0.7,
             "#b8e186"
            ],
            [
             0.8,
             "#7fbc41"
            ],
            [
             0.9,
             "#4d9221"
            ],
            [
             1,
             "#276419"
            ]
           ],
           "sequential": [
            [
             0,
             "#0d0887"
            ],
            [
             0.1111111111111111,
             "#46039f"
            ],
            [
             0.2222222222222222,
             "#7201a8"
            ],
            [
             0.3333333333333333,
             "#9c179e"
            ],
            [
             0.4444444444444444,
             "#bd3786"
            ],
            [
             0.5555555555555556,
             "#d8576b"
            ],
            [
             0.6666666666666666,
             "#ed7953"
            ],
            [
             0.7777777777777778,
             "#fb9f3a"
            ],
            [
             0.8888888888888888,
             "#fdca26"
            ],
            [
             1,
             "#f0f921"
            ]
           ],
           "sequentialminus": [
            [
             0,
             "#0d0887"
            ],
            [
             0.1111111111111111,
             "#46039f"
            ],
            [
             0.2222222222222222,
             "#7201a8"
            ],
            [
             0.3333333333333333,
             "#9c179e"
            ],
            [
             0.4444444444444444,
             "#bd3786"
            ],
            [
             0.5555555555555556,
             "#d8576b"
            ],
            [
             0.6666666666666666,
             "#ed7953"
            ],
            [
             0.7777777777777778,
             "#fb9f3a"
            ],
            [
             0.8888888888888888,
             "#fdca26"
            ],
            [
             1,
             "#f0f921"
            ]
           ]
          },
          "colorway": [
           "#636efa",
           "#EF553B",
           "#00cc96",
           "#ab63fa",
           "#FFA15A",
           "#19d3f3",
           "#FF6692",
           "#B6E880",
           "#FF97FF",
           "#FECB52"
          ],
          "font": {
           "color": "#2a3f5f"
          },
          "geo": {
           "bgcolor": "white",
           "lakecolor": "white",
           "landcolor": "#E5ECF6",
           "showlakes": true,
           "showland": true,
           "subunitcolor": "white"
          },
          "hoverlabel": {
           "align": "left"
          },
          "hovermode": "closest",
          "mapbox": {
           "style": "light"
          },
          "paper_bgcolor": "white",
          "plot_bgcolor": "#E5ECF6",
          "polar": {
           "angularaxis": {
            "gridcolor": "white",
            "linecolor": "white",
            "ticks": ""
           },
           "bgcolor": "#E5ECF6",
           "radialaxis": {
            "gridcolor": "white",
            "linecolor": "white",
            "ticks": ""
           }
          },
          "scene": {
           "xaxis": {
            "backgroundcolor": "#E5ECF6",
            "gridcolor": "white",
            "gridwidth": 2,
            "linecolor": "white",
            "showbackground": true,
            "ticks": "",
            "zerolinecolor": "white"
           },
           "yaxis": {
            "backgroundcolor": "#E5ECF6",
            "gridcolor": "white",
            "gridwidth": 2,
            "linecolor": "white",
            "showbackground": true,
            "ticks": "",
            "zerolinecolor": "white"
           },
           "zaxis": {
            "backgroundcolor": "#E5ECF6",
            "gridcolor": "white",
            "gridwidth": 2,
            "linecolor": "white",
            "showbackground": true,
            "ticks": "",
            "zerolinecolor": "white"
           }
          },
          "shapedefaults": {
           "line": {
            "color": "#2a3f5f"
           }
          },
          "ternary": {
           "aaxis": {
            "gridcolor": "white",
            "linecolor": "white",
            "ticks": ""
           },
           "baxis": {
            "gridcolor": "white",
            "linecolor": "white",
            "ticks": ""
           },
           "bgcolor": "#E5ECF6",
           "caxis": {
            "gridcolor": "white",
            "linecolor": "white",
            "ticks": ""
           }
          },
          "title": {
           "x": 0.05
          },
          "xaxis": {
           "automargin": true,
           "gridcolor": "white",
           "linecolor": "white",
           "ticks": "",
           "title": {
            "standoff": 15
           },
           "zerolinecolor": "white",
           "zerolinewidth": 2
          },
          "yaxis": {
           "automargin": true,
           "gridcolor": "white",
           "linecolor": "white",
           "ticks": "",
           "title": {
            "standoff": 15
           },
           "zerolinecolor": "white",
           "zerolinewidth": 2
          }
         }
        },
        "title": {
         "text": "3D Chroma Vector Store Visualization"
        },
        "width": 900
       }
      }
     },
     "metadata": {},
     "output_type": "display_data"
    }
   ],
   "source": [
    "# Let's try 3D!\n",
    "\n",
    "tsne = TSNE(n_components=3, random_state=42)\n",
    "reduced_vectors = tsne.fit_transform(vectors)\n",
    "\n",
    "# Create the 3D scatter plot\n",
    "fig = go.Figure(data=[go.Scatter3d(\n",
    "    x=reduced_vectors[:, 0],\n",
    "    y=reduced_vectors[:, 1],\n",
    "    z=reduced_vectors[:, 2],\n",
    "    mode='markers',\n",
    "    marker=dict(size=5, color=colors, opacity=0.8),\n",
    "    text=[f\"Type: {t}<br>Text: {d[:100]}...\" for t, d in zip(doc_types, documents)],\n",
    "    hoverinfo='text'\n",
    ")])\n",
    "\n",
    "fig.update_layout(\n",
    "    title='3D Chroma Vector Store Visualization',\n",
    "    scene=dict(xaxis_title='x', yaxis_title='y', zaxis_title='z'),\n",
    "    width=900,\n",
    "    height=700,\n",
    "    margin=dict(r=20, b=10, l=10, t=40)\n",
    ")\n",
    "\n",
    "fig.show()"
   ]
  },
  {
   "cell_type": "markdown",
   "metadata": {},
   "source": [
    "## LangChain Code to Call OpenAI"
   ]
  },
  {
   "cell_type": "code",
   "execution_count": null,
   "metadata": {},
   "outputs": [
    {
     "name": "stdout",
     "output_type": "stream",
     "text": [
      "Insurellm is an innovative insurance technology company that develops software platforms for various insurance lines, including auto, home, life, health, and commercial insurance. Founded in 2015, it aims to modernize and streamline the insurance industry through its suite of digital portals and AI-powered solutions.\n"
     ]
    }
   ],
   "source": [
    "# create a new Chat with OpenAI\n",
    "llm = ChatOpenAI(temperature=0, model_name=MODEL)\n",
    "\n",
    "# how many chunks to provide in each prompt\n",
    "retriever = vectorstore.as_retriever(search_kwargs={\"k\": 3})\n",
    "\n",
    "# Simple prompt that includes chat history\n",
    "prompt = ChatPromptTemplate.from_messages([\n",
    "    (\"system\", \"Answer the question based on the context:\\n{context}\"),\n",
    "    (\"human\", \"{input}\")\n",
    "])\n",
    "\n",
    "# Create the chain\n",
    "question_answer_chain = create_stuff_documents_chain(llm, prompt)\n",
    "rag_chain = create_retrieval_chain(retriever, question_answer_chain)\n",
    "\n",
    "# Invoke it\n",
    "query = \"Please explain what Insurellm is in a couple of sentences\"\n",
    "result = rag_chain.invoke({\"input\": query})\n",
    "print(result[\"answer\"])"
   ]
  },
  {
   "cell_type": "markdown",
   "metadata": {},
   "source": [
    "# CHALLENGE:\n",
    "\n",
    "You will be changing or replacing 2 modules:\n",
    "\n",
    "`ingest.py`\n",
    "\n",
    "`answer.py`\n",
    "\n",
    "They are VERY simple! Let's look at them."
   ]
  },
  {
   "cell_type": "markdown",
   "metadata": {},
   "source": [
    "## Now check out ingest.py\n",
    "\n",
    "Then run at the terminal:\n",
    "\n",
    "`uv run ingest.py`"
   ]
  },
  {
   "cell_type": "code",
   "execution_count": null,
   "metadata": {},
   "outputs": [],
   "source": [
    "!uv run ingest.py"
   ]
  },
  {
   "cell_type": "markdown",
   "metadata": {},
   "source": [
    "## Now check out answer.py"
   ]
  },
  {
   "cell_type": "code",
   "execution_count": 15,
   "metadata": {},
   "outputs": [
    {
     "data": {
      "text/plain": [
       "[Document(id='cef0fec5-2d90-4c8a-b165-39e3aadec0c2', metadata={'doc_type': 'employees', 'source': 'knowledge-base/employees/Avery Lancaster.md'}, page_content=\"## Other HR Notes\\n- **Professional Development**: Avery has actively participated in leadership training programs and industry conferences, representing Insurellm and fostering partnerships.  \\n- **Diversity & Inclusion Initiatives**: Avery has championed a commitment to diversity in hiring practices, seeing visible improvements in team representation since 2021.  \\n- **Work-Life Balance**: Feedback revealed concerns regarding work-life balance, which Avery has approached by implementing flexible working conditions and ensuring regular check-ins with the team.\\n- **Community Engagement**: Avery led community outreach efforts, focusing on financial literacy programs, particularly aimed at underserved populations, improving Insurellm's corporate social responsibility image.  \\n\\nAvery Lancaster has demonstrated resilience and adaptability throughout her career at Insurellm, positioning the company as a key player in the insurance technology landscape.\"),\n",
       " Document(id='9f606c63-9530-4e64-b3a0-e307448e9d62', metadata={'doc_type': 'employees', 'source': 'knowledge-base/employees/Avery Lancaster.md'}, page_content='- **2022**: **Satisfactory**  \\n  Avery focused on rebuilding team dynamics and addressing employee concerns, leading to overall improvement despite a saturated market.  \\n\\n- **2023**: **Exceeds Expectations**  \\n  Market leadership was regained with innovative approaches to personalized insurance solutions. Avery is now recognized in industry publications as a leading voice in Insurance Tech innovation.'),\n",
       " Document(id='0b6ea95f-2248-4013-a74f-5a5fab85de3d', metadata={'doc_type': 'employees', 'source': 'knowledge-base/employees/Avery Lancaster.md'}, page_content=\"- **2018**: **Exceeds Expectations**  \\n  Under Avery’s pivoted vision, Insurellm launched two new successful products that significantly increased market share.  \\n\\n- **2019**: **Meets Expectations**  \\n  Steady growth, however, some team tensions led to a minor drop in employee morale. Avery recognized the need to enhance company culture.  \\n\\n- **2020**: **Below Expectations**  \\n  The COVID-19 pandemic posed unforeseen operational difficulties. Avery faced criticism for delayed strategy shifts, although efforts were eventually made to stabilize the company.  \\n\\n- **2021**: **Exceptional**  \\n  Avery's decisive transition to remote work and rapid adoption of digital tools led to record-high customer satisfaction levels and increased sales.  \\n\\n- **2022**: **Satisfactory**  \\n  Avery focused on rebuilding team dynamics and addressing employee concerns, leading to overall improvement despite a saturated market.\"),\n",
       " Document(id='87f85c1c-8c94-4093-8e61-912f3bc54e73', metadata={'doc_type': 'employees', 'source': 'knowledge-base/employees/Avery Lancaster.md'}, page_content='# Avery Lancaster\\n\\n## Summary\\n- **Date of Birth**: March 15, 1985\\n- **Job Title**: Co-Founder & Chief Executive Officer (CEO)\\n- **Location**: San Francisco, California\\n- **Current Salary**: $225,000  \\n\\n## Insurellm Career Progression\\n- **2015 - Present**: Co-Founder & CEO  \\n  Avery Lancaster co-founded Insurellm in 2015 and has since guided the company to its current position as a leading Insurance Tech provider. Avery is known for her innovative leadership strategies and risk management expertise that have catapulted the company into the mainstream insurance market.  \\n\\n- **2013 - 2015**: Senior Product Manager at Innovate Insurance Solutions  \\n  Before launching Insurellm, Avery was a leading Senior Product Manager at Innovate Insurance Solutions, where she developed groundbreaking insurance products aimed at the tech sector.'),\n",
       " Document(id='809c3b64-41ec-418c-b048-613f1514630b', metadata={'doc_type': 'employees', 'source': 'knowledge-base/employees/Avery Lancaster.md'}, page_content=\"- **2010 - 2013**: Business Analyst at Edge Analytics  \\n  Prior to joining Innovate, Avery worked as a Business Analyst, focusing on market trends and consumer preferences in the insurance space. This position laid the groundwork for Avery’s future entrepreneurial endeavors.\\n\\n## Annual Performance History\\n- **2015**: **Exceeds Expectations**  \\n  Avery’s leadership during Insurellm's foundational year led to successful product launches and securing initial funding.  \\n\\n- **2016**: **Meets Expectations**  \\n  Growth continued, though challenges arose in operational efficiency that required Avery's attention.  \\n\\n- **2017**: **Developing**  \\n  Market competition intensified, and monthly sales metrics were below targets. Avery implemented new strategies which required a steep learning curve.  \\n\\n- **2018**: **Exceeds Expectations**  \\n  Under Avery’s pivoted vision, Insurellm launched two new successful products that significantly increased market share.\"),\n",
       " Document(id='ec86c158-306a-43e5-b002-c4e9885e74bf', metadata={'source': 'knowledge-base/employees/Jordan K. Bishop.md', 'doc_type': 'employees'}, page_content=\"## Other HR Notes\\n- Jordan K. Bishop has been an integral part of club initiatives, including the Insurellm Code Reviews and Feedback Group, providing peer support.\\n- Active participant in the company's Diversity and Inclusion committee, promoting a positive work culture.\\n- Jordan has expressed interest in professional development courses, particularly those focused on modern web technologies, which are being considered for sponsorship by Insurellm.\\n- Engaged in a 6-month performance improvement plan as of August 2023, focusing on skill development and consistent performance monitoring. \\n\\nJordan K. Bishop is a valued member of the Insurellm family, exhibiting a commitment to growth and development despite recent challenges.\"),\n",
       " Document(id='655201e7-b53f-49f4-b9a6-2f55f48fd23c', metadata={'doc_type': 'employees', 'source': 'knowledge-base/employees/Jordan K. Bishop.md'}, page_content=\"# HR Record\\n\\n# Jordan K. Bishop\\n\\n## Summary\\n- **Date of Birth:** March 15, 1990\\n- **Job Title:** Frontend Software Engineer\\n- **Location:** Austin, Texas\\n- **Current Salary:** $92,000\\n\\n## Insurellm Career Progression\\n- **June 2018:** Hired as a Frontend Software Engineer.\\n- **August 2019:** Promoted to Senior Frontend Software Engineer due to outstanding contributions to the Insurellm web application redesign project.\\n- **March 2021:** Led a cross-functional team for the launch of Insurellm's customer portal, enhancing user experience and engagement.\\n- **January 2022:** Transitioned to a mentorship role, where Jordan K. Bishop began training junior engineers, which affected the focus on personal projects.\\n- **August 2023:** Returned to core development tasks but faced challenges adapting to new frameworks, leading to performance reviews reflecting a need for improvement.\"),\n",
       " Document(id='159a09e0-abcd-43b9-b2b8-7e163c274559', metadata={'doc_type': 'employees', 'source': 'knowledge-base/employees/Emily Carter.md'}, page_content=\"Emily Carter exemplifies the kind of talent that drives Insurellm's success and is an invaluable asset to the company.\"),\n",
       " Document(id='e4879bc6-f125-4953-aeac-7fd33f8662c3', metadata={'source': 'knowledge-base/contracts/Contract with Heritage Life Assurance for Lifellm.md', 'doc_type': 'contracts'}, page_content=\"---\\n\\n**Signatures:**\\n\\n**Insurellm, Inc.**\\nMichael Torres, Chief Revenue Officer\\nDate: February 12, 2025\\n\\n**Heritage Life Assurance**\\nMelissa Zhang, VP of Operations\\nDate: February 12, 2025\\n\\n---\\n\\nThis contract enables Heritage Life Assurance to leverage Lifellm's AI technology for modernized life insurance underwriting and administration.\"),\n",
       " Document(id='c0bee0d0-6311-48d7-b013-49a9a271b322', metadata={'source': 'knowledge-base/employees/Alex Chen.md', 'doc_type': 'employees'}, page_content='Alex Chen continues to be a vital asset at Insurellm, contributing significantly to innovative backend solutions that help shape the future of insurance technology.')]"
      ]
     },
     "execution_count": 15,
     "metadata": {},
     "output_type": "execute_result"
    }
   ],
   "source": [
    "from answer import fetch_context, answer_question\n",
    "\n",
    "fetch_context(\"Who is Avery?\")"
   ]
  },
  {
   "cell_type": "code",
   "execution_count": 16,
   "metadata": {},
   "outputs": [
    {
     "data": {
      "text/markdown": [
       "Avery Lancaster is the Co-Founder and Chief Executive Officer (CEO) of Insurellm. She has been with the company since 2015 and has played a key role in guiding Insurellm to become a leading provider in the insurance technology industry. Avery is known for her innovative leadership, risk management expertise, and her active participation in professional development, diversity initiatives, and community outreach efforts."
      ],
      "text/plain": [
       "<IPython.core.display.Markdown object>"
      ]
     },
     "metadata": {},
     "output_type": "display_data"
    }
   ],
   "source": [
    "result, chunks = await answer_question(\"Who is Avery?\")\n",
    "display(Markdown(result))"
   ]
  },
  {
   "cell_type": "markdown",
   "metadata": {},
   "source": [
    "## Now check out app.py\n",
    "\n",
    "As long as you keep the same 2 functions in `answer.py`, this UI will keep working!!"
   ]
  },
  {
   "cell_type": "code",
   "execution_count": null,
   "metadata": {},
   "outputs": [],
   "source": [
    "!uv run app.py"
   ]
  },
  {
   "cell_type": "markdown",
   "metadata": {},
   "source": [
    "## OK - Now it's time to EVALUATE!\n",
    "\n",
    "### First check out tests.jsonl for all the questions\n",
    "\n",
    "And see how it's loaded in test.py\n"
   ]
  },
  {
   "cell_type": "code",
   "execution_count": 21,
   "metadata": {},
   "outputs": [
    {
     "name": "stdout",
     "output_type": "stream",
     "text": [
      "150\n",
      "question='Who won the prestigious IIOTY award in 2023?' keywords=['Maxine', 'Thompson', 'IIOTY'] reference_answer='Maxine Thompson won the prestigious Insurellm Innovator of the Year (IIOTY) award in 2023.' category='direct_fact'\n",
      "question='How many Claimllm contracts does Insurellm have?' keywords=['7', 'Claimllm'] reference_answer='Insurellm has 7 contracts for Claimllm, ranging from independent adjusting firms to enterprise claims networks.' category='direct_fact'\n"
     ]
    }
   ],
   "source": [
    "from test import load_tests\n",
    "\n",
    "test_data = load_tests()\n",
    "\n",
    "print(len(test_data))\n",
    "print(test_data[0])\n",
    "print(test_data[10])\n",
    "\n"
   ]
  },
  {
   "cell_type": "code",
   "execution_count": 18,
   "metadata": {},
   "outputs": [
    {
     "name": "stdout",
     "output_type": "stream",
     "text": [
      "{'holistic', 'temporal', 'relationship', 'comparative', 'spanning', 'numerical', 'direct_fact'}\n"
     ]
    }
   ],
   "source": [
    "print(set(test.category for test in test_data))\n"
   ]
  },
  {
   "cell_type": "markdown",
   "metadata": {},
   "source": [
    "## Now take a look at eval.py\n",
    "\n",
    "test_data[0] is a very hard question that it sometimes gets wrong  \n",
    "test_data[1] is an easy question"
   ]
  },
  {
   "cell_type": "code",
   "execution_count": 19,
   "metadata": {},
   "outputs": [
    {
     "data": {
      "text/plain": [
       "RetrievalEval(mrr=1.0, ndcg=0.9134015924715543, keywords_found=2, total_keywords=2, keyword_coverage=100.0)"
      ]
     },
     "execution_count": 19,
     "metadata": {},
     "output_type": "execute_result"
    }
   ],
   "source": [
    "from eval import evaluate_retrieval, evaluate_answer\n",
    "\n",
    "evaluate_retrieval(test_data[1])"
   ]
  },
  {
   "cell_type": "code",
   "execution_count": 20,
   "metadata": {},
   "outputs": [
    {
     "data": {
      "text/plain": [
       "(AnswerEval(feedback='The answer correctly identifies Maxine as the winner of the IIOTY award in 2023 but omits the full official title and ignores that the award was specifically for her, as indicated in the context.', accuracy=4.0, completeness=4.0, relevance=5.0),\n",
       " 'Maxine was recognized with the prestigious IIOTY (Insurellm Innovator of the Year) award in 2023.',\n",
       " [Document(id='7b54a2c6-3a41-4718-b2c1-4fbb4b0785f6', metadata={'doc_type': 'employees', 'source': 'knowledge-base/employees/Oliver Spencer.md'}, page_content='## Annual Performance History\\n- **2018**: **3/5** - Adaptable team player but still learning to take initiative.\\n- **2019**: **4/5** - Demonstrated strong problem-solving skills, outstanding contribution on the claims project.\\n- **2020**: **2/5** - Struggled with time management; fell behind on deadlines during a high-traffic release period.\\n- **2021**: **4/5** - Made a significant turnaround with organized work habits and successful project management.\\n- **2022**: **5/5** - Exceptional performance during the \"Innovate\" initiative, showcasing leadership and creativity.\\n- **2023**: **3/5** - Maintaining steady work; expectations for innovation not fully met, leading to discussions about goals.'),\n",
       "  Document(id='81ad81eb-3046-4c4d-92ad-245a1d6ae988', metadata={'source': 'knowledge-base/employees/Alex Chen.md', 'doc_type': 'employees'}, page_content='## Annual Performance History\\n- **2020:**  \\n  - Completed onboarding successfully.  \\n  - Met expectations in delivering project milestones.  \\n  - Received positive feedback from the team leads.\\n\\n- **2021:**  \\n  - Achieved a 95% success rate in project delivery timelines.  \\n  - Awarded \"Rising Star\" at the annual company gala for outstanding contributions.  \\n\\n- **2022:**  \\n  - Exceeded goals by optimizing existing backend code, improving system performance by 25%.  \\n  - Conducted training sessions for junior developers, fostering knowledge sharing.  \\n\\n- **2023:**  \\n  - Led a major overhaul of the API internal architecture, enhancing security protocols.  \\n  - Contributed to the company’s transition to a cloud-based infrastructure.  \\n  - Received an overall performance rating of 4.8/5.'),\n",
       "  Document(id='de156899-b69f-4cfa-a7eb-9f14afdb1872', metadata={'doc_type': 'employees', 'source': 'knowledge-base/employees/Robert Chen.md'}, page_content=\"## Other HR Notes\\n- **Education:** MS in Computer Science from Stanford University, BS in Computer Engineering from MIT\\n- **Technical Expertise:** Expert in React, Node.js, TypeScript, PostgreSQL, AWS, microservices architecture\\n- **Recognition:** Engineering Excellence Award 2023, Technical Leadership Award 2021\\n- **Mentorship:** Mentored 12 engineers during tenure. Known for developing junior talent into strong contributors.\\n- **Patents:** Co-inventor on 1 patent for insurance processing optimization\\n- **Feedback:** World-class engineer with exceptional technical and leadership skills. Trusted advisor to engineering leadership. Critical to company's technical success.\"),\n",
       "  Document(id='6b794463-e618-44c3-8f8d-0ad2880d69a0', metadata={'source': 'knowledge-base/employees/Maxine Thompson.md', 'doc_type': 'employees'}, page_content='- **January 2021 - Present**: **Senior Data Engineer**  \\n  * Maxine was promoted to Senior Data Engineer after successfully leading a pivotal project that improved data retrieval times by 30%. She now mentors junior engineers and is involved in strategic data initiatives, solidifying her position as a valued asset at Insurellm. She was recognized as Insurellm Innovator of the year in 2023, receiving the prestigious IIOTY 2023 award.'),\n",
       "  Document(id='49367e0e-9dfe-4453-bf58-421b1d4633c7', metadata={'source': 'knowledge-base/employees/Priya Sharma.md', 'doc_type': 'employees'}, page_content='- **August 2012 - May 2015:** Research Scientist at UC Berkeley AI Lab\\n  - Conducted research in machine learning and natural language processing\\n  - Published 5 peer-reviewed papers\\n\\n## Annual Performance History\\n- **2023:** Rating: 4.9/5\\n  *Exceptional performance. Led breakthrough AI-driven underwriting project. Excellent technical leadership and mentorship.*\\n\\n- **2022:** Rating: 4.7/5\\n  *Outstanding work on risk prediction models. Strong collaboration with product team and technical innovation.*\\n\\n- **2021:** Rating: 4.5/5\\n  *Exceeded expectations with successful launch of recommendation engine. Effective mentor to junior team members.*\\n\\n- **2020:** Rating: 4.3/5\\n  *Strong performance despite remote transition challenges. Maintained high-quality model development.*\\n\\n- **2019:** Rating: 4.6/5\\n  *Excellent contributions to fraud detection systems. Recognized for thought leadership in ML applications.*'),\n",
       "  Document(id='3893294d-6ba6-4a1d-9a8c-167084b5f6e7', metadata={'doc_type': 'employees', 'source': 'knowledge-base/employees/Priya Sharma.md'}, page_content='## Other HR Notes\\n- **Education:** PhD in Computer Science (Machine Learning) from Stanford University\\n- **Publications:** 7+ peer-reviewed papers in ML conferences and journals\\n- **Speaking:** Regular speaker at ML and InsurTech conferences. Represented Insurellm at 4 major conferences in 2023.\\n- **Patents:** Co-inventor on 2 pending patents for insurance ML applications\\n- **Recognition:** Data Science Excellence Award 2023, featured in InsureTech Innovation Magazine\\n- **Skills:** Expert in Python, TensorFlow, PyTorch, scikit-learn, SQL, and cloud ML platforms\\n- **Feedback:** World-class technical talent with strong business acumen. Natural leader who elevates entire team. Key retention priority.'),\n",
       "  Document(id='e2b82975-093f-49e6-b38b-995d090ab607', metadata={'source': 'knowledge-base/employees/Jordan K. Bishop.md', 'doc_type': 'employees'}, page_content='## Annual Performance History\\n- **2019:** Exceeds Expectations - Continuously delivered high-quality code and participated actively in team meetings.\\n- **2020:** Meets Expectations - Jordan K. Bishop maintained steady performance but faced challenges due to a higher workload from multiple projects.\\n- **2021:** Exceeds Expectations - Recognized for leadership during the customer portal project; received the “Innovation Award” for creative problem-solving.\\n- **2022:** Meets Expectations - While mentoring others, the shift in focus led to fewer contributions to new features, marking a decrease in performance.\\n- **2023:** Needs Improvement - Transitioning back to development has resulted in difficulties with recent technologies, prompting a performance improvement plan.'),\n",
       "  Document(id='0ac5d652-a5b8-440f-adf8-b1fa661adbaa', metadata={'doc_type': 'employees', 'source': 'knowledge-base/employees/Samuel Trenton.md'}, page_content='- **2021:** Rating: 4.0/5  \\n  *There was notable improvement in performance. Worked to enhance model accuracy, leading to improved risk assessment outcomes for B2C customers.*\\n\\n- **2020:** Rating: 3.5/5  \\n  *Exhibited a solid performance during the initial year as a Senior Data Scientist but had struggles adapting to new leadership expectations.*\\n\\n## Compensation History\\n- **2023:** Base Salary: $115,000 + Bonus: $15,000  \\n  *Annual bonus based on successful project completions and performance metrics.*\\n\\n- **2022:** Base Salary: $110,000 + Bonus: $10,000  \\n  *Slight decrease in bonus due to performance challenges during the year.*\\n\\n- **2021:** Base Salary: $105,000 + Bonus: $12,000  \\n  *Merit-based increase, reflecting consistent contributions to the data science team.*\\n\\n- **2020:** Base Salary: $100,000 + Bonus: $8,000  \\n  *Initial compensation as Senior Data Scientist, with a focus on building rapport with cross-functional teams.*'),\n",
       "  Document(id='9196fb93-56c3-4e2b-84f1-af9ad9a22835', metadata={'source': 'knowledge-base/employees/Carlos Rodriguez.md', 'doc_type': 'employees'}, page_content='- **January 2015 - February 2017:** Application Developer at FinTech Systems\\n  - Developed financial software applications\\n  - Worked with Java, Python, and SQL technologies\\n\\n## Annual Performance History\\n- **2023:** Rating: 4.9/5\\n  *Outstanding performance. Instrumental in closing $3M in new business. Excellent technical presentations and client relationships.*\\n\\n- **2022:** Rating: 4.6/5\\n  *Exceeded expectations. Strong technical demos that significantly influenced win rates. Great collaboration with sales team.*\\n\\n- **2021:** Rating: 4.4/5\\n  *Solid performance with good sales support. Needed to improve documentation of technical solutions.*\\n\\n- **2020:** Rating: 3.9/5\\n  *Good performance during challenging remote transition. Some gaps in product knowledge addressed through training.*\\n\\n- **2019:** Rating: 4.1/5\\n  *Strong start as Solutions Engineer. Quick learner with excellent technical communication skills.*'),\n",
       "  Document(id='a126fda5-38bf-41e5-a2e3-03595ae422b4', metadata={'source': 'knowledge-base/employees/Maxine Thompson.md', 'doc_type': 'employees'}, page_content='## Compensation History\\n- **2017**: $70,000 (Junior Data Engineer)  \\n- **2018**: $75,000 (Junior Data Engineer)  \\n- **2019**: $80,000 (Data Engineer)  \\n- **2020**: $84,000 (Data Engineer)  \\n- **2021**: $95,000 (Senior Data Engineer)  \\n- **2022**: $110,000 (Senior Data Engineer)  \\n- **2023**: $120,000 (Senior Data Engineer)  \\n\\n## Other HR Notes\\n- Maxine participated in various company-sponsored trainings related to big data technologies and cloud infrastructure.  \\n- She was recognized for her contributions with the prestigious Insurellm IIOTY Innovator Award in 2023.  \\n- Maxine is currently involved in the women-in-tech initiative and participates in mentorship programs to guide junior employees.  \\n- Future development areas include improving her stakeholder communication skills to ensure smoother project transitions and collaboration.')])"
      ]
     },
     "execution_count": 20,
     "metadata": {},
     "output_type": "execute_result"
    }
   ],
   "source": [
    "await evaluate_answer(test_data[0])"
   ]
  },
  {
   "cell_type": "markdown",
   "metadata": {},
   "source": [
    "## AND FINALLY - all come together in a UI"
   ]
  },
  {
   "cell_type": "code",
   "execution_count": 21,
   "metadata": {},
   "outputs": [
    {
     "name": "stderr",
     "output_type": "stream",
     "text": [
      "huggingface/tokenizers: The current process just got forked, after parallelism has already been used. Disabling parallelism to avoid deadlocks...\n",
      "To disable this warning, you can either:\n",
      "\t- Avoid using `tokenizers` before the fork if possible\n",
      "\t- Explicitly set the environment variable TOKENIZERS_PARALLELISM=(true | false)\n"
     ]
    },
    {
     "name": "stdout",
     "output_type": "stream",
     "text": [
      "* Running on local URL:  http://127.0.0.1:7860\n",
      "* To create a public link, set `share=True` in `launch()`.\n",
      "huggingface/tokenizers: The current process just got forked, after parallelism has already been used. Disabling parallelism to avoid deadlocks...\n",
      "huggingface/tokenizers: The current process just got forked, after parallelism has already been used. Disabling parallelism to avoid deadlocks...\n",
      "To disable this warning, you can either:\n",
      "To disable this warning, you can either:\n",
      "\t- Avoid using `tokenizers` before the fork if possible\n",
      "\t- Explicitly set the environment variable \t- Avoid using `tokenizers` before the fork if possible\n",
      "\t- Explicitly set the environment variable TOKENIZERS_PARALLELISMTOKENIZERS_PARALLELISM=(true | false)\n",
      "=(true | false)\n",
      "huggingface/tokenizers: The current process just got forked, after parallelism has already been used. Disabling parallelism to avoid deadlocks...\n",
      "To disable this warning, you can either:\n",
      "\t- Avoid using `tokenizers` before the fork if possible\n",
      "\t- Explicitly set the environment variable TOKENIZERS_PARALLELISM=(true | false)\n",
      "huggingface/tokenizers: The current process just got forked, after parallelism has already been used. Disabling parallelism to avoid deadlocks...\n",
      "To disable this warning, you can either:\n",
      "\t- Avoid using `tokenizers` before the fork if possible\n",
      "\t- Explicitly set the environment variable TOKENIZERS_PARALLELISM=(true | false)\n",
      "huggingface/tokenizers: The current process just got forked, after parallelism has already been used. Disabling parallelism to avoid deadlocks...\n",
      "To disable this warning, you can either:\n",
      "\t- Avoid using `tokenizers` before the fork if possible\n",
      "\t- Explicitly set the environment variable TOKENIZERS_PARALLELISM=(true | false)\n",
      "huggingface/tokenizers: The current process just got forked, after parallelism has already been used. Disabling parallelism to avoid deadlocks...\n",
      "To disable this warning, you can either:\n",
      "\t- Avoid using `tokenizers` before the fork if possible\n",
      "\t- Explicitly set the environment variable TOKENIZERS_PARALLELISM=(true | false)\n",
      "huggingface/tokenizers: The current process just got forked, after parallelism has already been used. Disabling parallelism to avoid deadlocks...\n",
      "To disable this warning, you can either:\n",
      "\t- Avoid using `tokenizers` before the fork if possible\n",
      "\t- Explicitly set the environment variable TOKENIZERS_PARALLELISM=(true | false)\n",
      "huggingface/tokenizers: The current process just got forked, after parallelism has already been used. Disabling parallelism to avoid deadlocks...\n",
      "To disable this warning, you can either:\n",
      "\t- Avoid using `tokenizers` before the fork if possible\n",
      "\t- Explicitly set the environment variable TOKENIZERS_PARALLELISM=(true | false)\n",
      "huggingface/tokenizers: The current process just got forked, after parallelism has already been used. Disabling parallelism to avoid deadlocks...\n",
      "To disable this warning, you can either:\n",
      "\t- Avoid using `tokenizers` before the fork if possible\n",
      "\t- Explicitly set the environment variable TOKENIZERS_PARALLELISM=(true | false)\n",
      "huggingface/tokenizers: The current process just got forked, after parallelism has already been used. Disabling parallelism to avoid deadlocks...\n",
      "To disable this warning, you can either:\n",
      "\t- Avoid using `tokenizers` before the fork if possible\n",
      "\t- Explicitly set the environment variable TOKENIZERS_PARALLELISM=(true | false)\n",
      "^C\n",
      "Traceback (most recent call last):\n",
      "  File \"/Users/joshuajanzen/zen/dev/sds/.venv/lib/python3.12/site-packages/gradio/blocks.py\", line 2958, in block_thread\n",
      "    time.sleep(0.1)\n",
      "KeyboardInterrupt\n",
      "\n",
      "During handling of the above exception, another exception occurred:\n",
      "\n",
      "Traceback (most recent call last):\n",
      "  File \"/Users/joshuajanzen/zen/dev/sds/week2/evaluator.py\", line 236, in <module>\n",
      "    main()\n",
      "  File \"/Users/joshuajanzen/zen/dev/sds/week2/evaluator.py\", line 232, in main\n"
     ]
    }
   ],
   "source": [
    "!uv run evaluator.py"
   ]
  },
  {
   "cell_type": "markdown",
   "metadata": {},
   "source": [
    "## Ideas for your experiments\n",
    "\n",
    "### Quick wins\n",
    "\n",
    "- Experiment with the encoder\n",
    "- Experiment with chunking strategies\n",
    "\n",
    "### Big change ideas\n",
    "\n",
    "1. Pre-processing - use an LLM to rewrite (a) the chunks and/or (b) the questions / conversation history\n",
    "2. Hierarchical RAG - summarize at different levels and do RAG over summaries\n",
    "3. Tools!"
   ]
  },
  {
   "cell_type": "markdown",
   "metadata": {},
   "source": [
    "# 10 RAG Techniques\n",
    "\n",
    "1. **Chunking R&D:** experiment with chunking strategy to optimize for your commercial goal\n",
    "2. **Encoder R&D:** select the best Encoder model based on a test set\n",
    "3. **Improve Prompts:** general content, the current date, relevant context and history\n",
    "4. **Document pre-processing:** use an LLM to make the chunks and/or text for encoding\n",
    "5. **Query rewriting:** use an LLM to convert the user’s question to a RAG query\n",
    "6. **Query expansion:** use an LLM to turn the question into multiple RAG queries\n",
    "7. **Re-ranking:** use an LLM to sub-select from RAG results\n",
    "8. **Hierarchical:** use an LLM to summarize at multiple levels\n",
    "9. **Graph RAG:** retrieve content closely related to similar documents\n",
    "10. **Agentic RAG:** use Agents for retrieval, combining with Memory and Tools such as SQL\n"
   ]
  },
  {
   "cell_type": "markdown",
   "metadata": {},
   "source": [
    "2 hard questions that can be addressed with the above:\n",
    "\n",
    "- Who won the IIOTY award in 2023?\n",
    "\n",
    "- What proportion of employees have a salary over $90,000?\n",
    "\n"
   ]
  },
  {
   "cell_type": "markdown",
   "metadata": {},
   "source": []
  }
 ],
 "metadata": {
  "kernelspec": {
   "display_name": "sds",
   "language": "python",
   "name": "python3"
  },
  "language_info": {
   "codemirror_mode": {
    "name": "ipython",
    "version": 3
   },
   "file_extension": ".py",
   "mimetype": "text/x-python",
   "name": "python",
   "nbconvert_exporter": "python",
   "pygments_lexer": "ipython3",
   "version": "3.12.11"
  }
 },
 "nbformat": 4,
 "nbformat_minor": 4
}
