{
 "cells": [
  {
   "cell_type": "markdown",
   "id": "3a6df45a",
   "metadata": {},
   "source": [
    "## AND NOW... the Agent Loop!"
   ]
  },
  {
   "cell_type": "code",
   "execution_count": 1,
   "id": "a13f270a",
   "metadata": {},
   "outputs": [
    {
     "data": {
      "text/plain": [
       "True"
      ]
     },
     "execution_count": 1,
     "metadata": {},
     "output_type": "execute_result"
    }
   ],
   "source": [
    "from agents import Agent, Runner, function_tool\n",
    "from dotenv import load_dotenv\n",
    "from pydantic import BaseModel, Field\n",
    "from rich.console import Console\n",
    "import docker\n",
    "import tempfile\n",
    "import os\n",
    "import requests\n",
    "load_dotenv(override=True)"
   ]
  },
  {
   "cell_type": "code",
   "execution_count": 11,
   "id": "def22d54",
   "metadata": {},
   "outputs": [],
   "source": [
    "todos = []\n",
    "\n",
    "class ToDoItem(BaseModel):\n",
    "    description: str = Field(..., description=\"The text describing the task\")\n",
    "    completed: bool = Field(False, description=\"Whether the task is complete\")"
   ]
  },
  {
   "cell_type": "code",
   "execution_count": 12,
   "id": "2a0c4734",
   "metadata": {},
   "outputs": [],
   "source": [
    "def get_todo_report(print: bool=False) -> str:\n",
    "    \"\"\"Get a report of all todos.\"\"\"\n",
    "    result = \"\"\n",
    "    for index, todo in enumerate(todos):\n",
    "        completed = \"X\" if todo.completed else \" \"\n",
    "        start = \"[strike][green]\" if todo.completed else \"\"\n",
    "        end = \"[/strike][/green]\" if todo.completed else \"\"\n",
    "        start += \"[red]\" if \"python\" in todo.description.lower() else \"\"\n",
    "        end += \"[/red]\" if \"python\" in todo.description.lower() else \"\"\n",
    "        result += f\"Todo #{index + 1}: [{completed}] {start}{todo.description}{end}\\n\"\n",
    "    if print:\n",
    "        Console().print(result)\n",
    "    return result"
   ]
  },
  {
   "cell_type": "code",
   "execution_count": 13,
   "id": "3248b85f",
   "metadata": {},
   "outputs": [],
   "source": [
    "@function_tool\n",
    "def create_todos(descriptions: list[str]) -> str:\n",
    "    \"\"\"Add new todos from a list of descriptions and return the full list\"\"\"\n",
    "    for desc in descriptions:\n",
    "        todos.append(ToDoItem(description=desc))\n",
    "    return get_todo_report(print=True)\n",
    "\n",
    "\n",
    "@function_tool\n",
    "def mark_complete(index: int) -> str:\n",
    "    \"\"\"Mark complete the todo at the given position (starting from 1) and return the full list\"\"\"\n",
    "    if 1 <= index <= len(todos):\n",
    "        todos[index - 1].completed = True\n",
    "    else:\n",
    "        return \"No todo at this index.\"\n",
    "    return get_todo_report(print=True)\n",
    "\n",
    "\n",
    "@function_tool\n",
    "def list_todos() -> str:\n",
    "    \"\"\"Return the full list of todos with completed ones checked off\"\"\"\n",
    "    return get_todo_report()\n"
   ]
  },
  {
   "cell_type": "code",
   "execution_count": null,
   "id": "1c5c6dd1",
   "metadata": {},
   "outputs": [],
   "source": []
  },
  {
   "cell_type": "code",
   "execution_count": 14,
   "id": "7ba7f42c",
   "metadata": {},
   "outputs": [],
   "source": [
    "instructions = \"\"\"\n",
    "You are given a problem to solve, by using your todo tools to plan a list of steps, then carrying out each step in turn.\n",
    "Now use the todo list tools, create a plan, carry out the steps, and reply with the solution.\n",
    "Provide your solution in Rich console markup (e.g. [bold red]Error[/bold red]) to indicate colors and styles.\n",
    "\"\"\"\n",
    "tools = [create_todos, mark_complete, list_todos]\n",
    "agent = Agent(\"Puzzle Agent\", model=\"gpt-4.1-mini\", instructions=instructions, tools=tools)"
   ]
  },
  {
   "cell_type": "code",
   "execution_count": 15,
   "id": "c0f439dd",
   "metadata": {},
   "outputs": [
    {
     "data": {
      "text/html": [
       "<pre style=\"white-space:pre;overflow-x:auto;line-height:normal;font-family:Menlo,'DejaVu Sans Mono',consolas,'Courier New',monospace\">Todo #<span style=\"color: #008080; text-decoration-color: #008080; font-weight: bold\">1</span>: <span style=\"font-weight: bold\">[</span> <span style=\"font-weight: bold\">]</span> Calculate the distance between Boston and New York\n",
       "Todo #<span style=\"color: #008080; text-decoration-color: #008080; font-weight: bold\">2</span>: <span style=\"font-weight: bold\">[</span> <span style=\"font-weight: bold\">]</span> Set up equations for the distances traveled by both trains\n",
       "Todo #<span style=\"color: #008080; text-decoration-color: #008080; font-weight: bold\">3</span>: <span style=\"font-weight: bold\">[</span> <span style=\"font-weight: bold\">]</span> Calculate the meeting time using relative speeds\n",
       "\n",
       "</pre>\n"
      ],
      "text/plain": [
       "Todo #\u001b[1;36m1\u001b[0m: \u001b[1m[\u001b[0m \u001b[1m]\u001b[0m Calculate the distance between Boston and New York\n",
       "Todo #\u001b[1;36m2\u001b[0m: \u001b[1m[\u001b[0m \u001b[1m]\u001b[0m Set up equations for the distances traveled by both trains\n",
       "Todo #\u001b[1;36m3\u001b[0m: \u001b[1m[\u001b[0m \u001b[1m]\u001b[0m Calculate the meeting time using relative speeds\n",
       "\n"
      ]
     },
     "metadata": {},
     "output_type": "display_data"
    },
    {
     "data": {
      "text/html": [
       "<pre style=\"white-space:pre;overflow-x:auto;line-height:normal;font-family:Menlo,'DejaVu Sans Mono',consolas,'Courier New',monospace\">Todo #<span style=\"color: #008080; text-decoration-color: #008080; font-weight: bold\">1</span>: <span style=\"font-weight: bold\">[</span>X<span style=\"font-weight: bold\">]</span> <span style=\"color: #008000; text-decoration-color: #008000; text-decoration: line-through\">Calculate the distance between Boston and New York</span>\n",
       "Todo #<span style=\"color: #008080; text-decoration-color: #008080; font-weight: bold\">2</span>: <span style=\"font-weight: bold\">[</span> <span style=\"font-weight: bold\">]</span> Set up equations for the distances traveled by both trains\n",
       "Todo #<span style=\"color: #008080; text-decoration-color: #008080; font-weight: bold\">3</span>: <span style=\"font-weight: bold\">[</span> <span style=\"font-weight: bold\">]</span> Calculate the meeting time using relative speeds\n",
       "\n",
       "</pre>\n"
      ],
      "text/plain": [
       "Todo #\u001b[1;36m1\u001b[0m: \u001b[1m[\u001b[0mX\u001b[1m]\u001b[0m \u001b[9;32mCalculate the distance between Boston and New York\u001b[0m\n",
       "Todo #\u001b[1;36m2\u001b[0m: \u001b[1m[\u001b[0m \u001b[1m]\u001b[0m Set up equations for the distances traveled by both trains\n",
       "Todo #\u001b[1;36m3\u001b[0m: \u001b[1m[\u001b[0m \u001b[1m]\u001b[0m Calculate the meeting time using relative speeds\n",
       "\n"
      ]
     },
     "metadata": {},
     "output_type": "display_data"
    },
    {
     "data": {
      "text/html": [
       "<pre style=\"white-space:pre;overflow-x:auto;line-height:normal;font-family:Menlo,'DejaVu Sans Mono',consolas,'Courier New',monospace\">Todo #<span style=\"color: #008080; text-decoration-color: #008080; font-weight: bold\">1</span>: <span style=\"font-weight: bold\">[</span>X<span style=\"font-weight: bold\">]</span> <span style=\"color: #008000; text-decoration-color: #008000; text-decoration: line-through\">Calculate the distance between Boston and New York</span>\n",
       "Todo #<span style=\"color: #008080; text-decoration-color: #008080; font-weight: bold\">2</span>: <span style=\"font-weight: bold\">[</span>X<span style=\"font-weight: bold\">]</span> <span style=\"color: #008000; text-decoration-color: #008000; text-decoration: line-through\">Set up equations for the distances traveled by both trains</span>\n",
       "Todo #<span style=\"color: #008080; text-decoration-color: #008080; font-weight: bold\">3</span>: <span style=\"font-weight: bold\">[</span> <span style=\"font-weight: bold\">]</span> Calculate the meeting time using relative speeds\n",
       "\n",
       "</pre>\n"
      ],
      "text/plain": [
       "Todo #\u001b[1;36m1\u001b[0m: \u001b[1m[\u001b[0mX\u001b[1m]\u001b[0m \u001b[9;32mCalculate the distance between Boston and New York\u001b[0m\n",
       "Todo #\u001b[1;36m2\u001b[0m: \u001b[1m[\u001b[0mX\u001b[1m]\u001b[0m \u001b[9;32mSet up equations for the distances traveled by both trains\u001b[0m\n",
       "Todo #\u001b[1;36m3\u001b[0m: \u001b[1m[\u001b[0m \u001b[1m]\u001b[0m Calculate the meeting time using relative speeds\n",
       "\n"
      ]
     },
     "metadata": {},
     "output_type": "display_data"
    },
    {
     "data": {
      "text/html": [
       "<pre style=\"white-space:pre;overflow-x:auto;line-height:normal;font-family:Menlo,'DejaVu Sans Mono',consolas,'Courier New',monospace\">Todo #<span style=\"color: #008080; text-decoration-color: #008080; font-weight: bold\">1</span>: <span style=\"font-weight: bold\">[</span>X<span style=\"font-weight: bold\">]</span> <span style=\"color: #008000; text-decoration-color: #008000; text-decoration: line-through\">Calculate the distance between Boston and New York</span>\n",
       "Todo #<span style=\"color: #008080; text-decoration-color: #008080; font-weight: bold\">2</span>: <span style=\"font-weight: bold\">[</span>X<span style=\"font-weight: bold\">]</span> <span style=\"color: #008000; text-decoration-color: #008000; text-decoration: line-through\">Set up equations for the distances traveled by both trains</span>\n",
       "Todo #<span style=\"color: #008080; text-decoration-color: #008080; font-weight: bold\">3</span>: <span style=\"font-weight: bold\">[</span>X<span style=\"font-weight: bold\">]</span> <span style=\"color: #008000; text-decoration-color: #008000; text-decoration: line-through\">Calculate the meeting time using relative speeds</span>\n",
       "\n",
       "</pre>\n"
      ],
      "text/plain": [
       "Todo #\u001b[1;36m1\u001b[0m: \u001b[1m[\u001b[0mX\u001b[1m]\u001b[0m \u001b[9;32mCalculate the distance between Boston and New York\u001b[0m\n",
       "Todo #\u001b[1;36m2\u001b[0m: \u001b[1m[\u001b[0mX\u001b[1m]\u001b[0m \u001b[9;32mSet up equations for the distances traveled by both trains\u001b[0m\n",
       "Todo #\u001b[1;36m3\u001b[0m: \u001b[1m[\u001b[0mX\u001b[1m]\u001b[0m \u001b[9;32mCalculate the meeting time using relative speeds\u001b[0m\n",
       "\n"
      ]
     },
     "metadata": {},
     "output_type": "display_data"
    },
    {
     "data": {
      "text/html": [
       "<pre style=\"white-space:pre;overflow-x:auto;line-height:normal;font-family:Menlo,'DejaVu Sans Mono',consolas,'Courier New',monospace\">\n",
       "\n",
       "Solving the equation for t:\n",
       "\n",
       "60t + <span style=\"color: #800080; text-decoration-color: #800080; font-weight: bold\">80</span><span style=\"font-weight: bold\">(</span>t - <span style=\"color: #008080; text-decoration-color: #008080; font-weight: bold\">1</span><span style=\"font-weight: bold\">)</span> = <span style=\"color: #008080; text-decoration-color: #008080; font-weight: bold\">215</span>  \n",
       "60t + 80t - <span style=\"color: #008080; text-decoration-color: #008080; font-weight: bold\">80</span> = <span style=\"color: #008080; text-decoration-color: #008080; font-weight: bold\">215</span>  \n",
       "140t - <span style=\"color: #008080; text-decoration-color: #008080; font-weight: bold\">80</span> = <span style=\"color: #008080; text-decoration-color: #008080; font-weight: bold\">215</span>  \n",
       "140t = <span style=\"color: #008080; text-decoration-color: #008080; font-weight: bold\">295</span>  \n",
       "t = <span style=\"color: #008080; text-decoration-color: #008080; font-weight: bold\">295</span> <span style=\"color: #800080; text-decoration-color: #800080\">/</span> <span style=\"color: #008080; text-decoration-color: #008080; font-weight: bold\">140</span>  \n",
       "t ≈ <span style=\"color: #008080; text-decoration-color: #008080; font-weight: bold\">2.11</span> hours after <span style=\"color: #00ff00; text-decoration-color: #00ff00; font-weight: bold\">2:00</span> pm\n",
       "\n",
       "This means the trains meet approximately <span style=\"color: #008080; text-decoration-color: #008080; font-weight: bold\">2.11</span> hours after <span style=\"color: #00ff00; text-decoration-color: #00ff00; font-weight: bold\">2:00</span> pm, which is about <span style=\"color: #008080; text-decoration-color: #008080; font-weight: bold\">2</span> hours and <span style=\"color: #008080; text-decoration-color: #008080; font-weight: bold\">7</span> minutes after <span style=\"color: #00ff00; text-decoration-color: #00ff00; font-weight: bold\">2:00</span> \n",
       "pm.\n",
       "\n",
       "Therefore, the trains meet around <span style=\"color: #00ff00; text-decoration-color: #00ff00; font-weight: bold\">4:07</span> pm.\n",
       "\n",
       "<span style=\"color: #008000; text-decoration-color: #008000; font-weight: bold\">Answer:</span> The trains meet at approximately <span style=\"color: #00ff00; text-decoration-color: #00ff00; font-weight: bold\">4:07</span> pm.\n",
       "</pre>\n"
      ],
      "text/plain": [
       "\n",
       "\n",
       "Solving the equation for t:\n",
       "\n",
       "60t + \u001b[1;35m80\u001b[0m\u001b[1m(\u001b[0mt - \u001b[1;36m1\u001b[0m\u001b[1m)\u001b[0m = \u001b[1;36m215\u001b[0m  \n",
       "60t + 80t - \u001b[1;36m80\u001b[0m = \u001b[1;36m215\u001b[0m  \n",
       "140t - \u001b[1;36m80\u001b[0m = \u001b[1;36m215\u001b[0m  \n",
       "140t = \u001b[1;36m295\u001b[0m  \n",
       "t = \u001b[1;36m295\u001b[0m \u001b[35m/\u001b[0m \u001b[1;36m140\u001b[0m  \n",
       "t ≈ \u001b[1;36m2.11\u001b[0m hours after \u001b[1;92m2:00\u001b[0m pm\n",
       "\n",
       "This means the trains meet approximately \u001b[1;36m2.11\u001b[0m hours after \u001b[1;92m2:00\u001b[0m pm, which is about \u001b[1;36m2\u001b[0m hours and \u001b[1;36m7\u001b[0m minutes after \u001b[1;92m2:00\u001b[0m \n",
       "pm.\n",
       "\n",
       "Therefore, the trains meet around \u001b[1;92m4:07\u001b[0m pm.\n",
       "\n",
       "\u001b[1;32mAnswer:\u001b[0m The trains meet at approximately \u001b[1;92m4:07\u001b[0m pm.\n"
      ]
     },
     "metadata": {},
     "output_type": "display_data"
    }
   ],
   "source": [
    "task = \"A train leaves Boston at 2:00 pm traveling 60 mph. Another train leaves New York at 3:00 pm traveling 80 mph toward Boston. When do they meet?\"\n",
    "todos = []\n",
    "response = await Runner.run(agent, task)\n",
    "Console().print(\"\\n\\n\" + response.final_output)"
   ]
  },
  {
   "cell_type": "code",
   "execution_count": 16,
   "id": "ee7f491b",
   "metadata": {},
   "outputs": [],
   "source": [
    "#client = docker.from_env()\n",
    "client = docker.DockerClient(base_url='unix:///Users/joshuajanzen/.colima/default/docker.sock')\n",
    "image = \"python:3.12-slim\""
   ]
  },
  {
   "cell_type": "code",
   "execution_count": 17,
   "id": "1b709eed",
   "metadata": {},
   "outputs": [],
   "source": [
    "@function_tool\n",
    "def execute_python(code: str) -> str:\n",
    "    \"\"\"\n",
    "    Execute the given Python code inside a Docker container with python:3.12-slim,\n",
    "    and return whatever is printed to stdout.\n",
    "    You must print the result of the code to stdout in order to retrieve it.\n",
    "    This uses the python:3.12-slim image and so it does not have scientific libraries installed;\n",
    "    write simple python 3.12 code using the standard library only. Do not use numpy or scipy.\n",
    "    IMPORTANT: You must print the result of the code in order to retrieve it.\n",
    "\n",
    "    Args:\n",
    "        code: The Python code to run. Remember to print the result.\n",
    "\n",
    "    \"\"\"\n",
    "    print(f\"Executing code: {code}\")\n",
    "    with tempfile.TemporaryDirectory() as tmpdir:\n",
    "        script_path = os.path.join(tmpdir, \"script.py\")\n",
    "        volumes = {tmpdir: {\"bind\": \"/tmp\", \"mode\": \"ro\"}}\n",
    "        command = [\"python\", \"/tmp/script.py\"]\n",
    "        with open(script_path, \"w\") as f:\n",
    "            f.write(code)\n",
    "        logs = client.containers.run(image=image, command=command, volumes=volumes, remove=True)\n",
    "    result = logs.decode(\"utf-8\")\n",
    "    print(f\"Result: {result}\")\n",
    "    return result"
   ]
  },
  {
   "cell_type": "code",
   "execution_count": 18,
   "id": "8dfba04c",
   "metadata": {},
   "outputs": [],
   "source": [
    "pushover_user = os.getenv(\"PUSHOVER_USER\")\n",
    "pushover_token = os.getenv(\"PUSHOVER_TOKEN\")\n",
    "pushover_url = \"https://api.pushover.net/1/messages.json\"\n",
    "\n",
    "def send_push_notification(message: str):\n",
    "    payload = {\"user\": pushover_user, \"token\": pushover_token, \"message\": message}\n",
    "    requests.post(pushover_url, data=payload)\n",
    "\n",
    "@function_tool\n",
    "def push(message: str) -> str:\n",
    "    \"\"\"Send a text message as a push notification with this brief message\n",
    "\n",
    "    Args:\n",
    "        message: The short text message to push\n",
    "    \"\"\"\n",
    "\n",
    "    send_push_notification(message)\n",
    "    return \"Push notification sent\""
   ]
  },
  {
   "cell_type": "code",
   "execution_count": 21,
   "id": "86350631",
   "metadata": {},
   "outputs": [],
   "source": [
    "instructions = \"\"\"\n",
    "You are given a problem to solve, by using your todo tools to plan a list of steps, then carrying out each step in turn.\n",
    "You also have access to an execute_python tool to run Python.\n",
    "To use the execute_python tool, you must have a task on your todo list prefixed with \"Write Python code to...\".\n",
    "Write Python code to solve the problem, and then write python to validate your solution to check your work, then use your push tool to send a message with the solution.\n",
    "Now use the todo list tools, create a plan, carry out the steps, and reply with the solution in Rich console markup (e.g. [bold red]Error[/bold red]).\n",
    "Make sure and send a Push notification with the final answer so Josh sees it right away. \n",
    "\"\"\"\n",
    "tools = [create_todos, mark_complete, list_todos, execute_python, push]\n",
    "agent = Agent(\"Puzzle Agent\", model=\"gpt-4.1-mini\", instructions=instructions, tools=tools)"
   ]
  },
  {
   "cell_type": "code",
   "execution_count": 22,
   "id": "df72308b",
   "metadata": {},
   "outputs": [
    {
     "data": {
      "text/html": [
       "<pre style=\"white-space:pre;overflow-x:auto;line-height:normal;font-family:Menlo,'DejaVu Sans Mono',consolas,'Courier New',monospace\">Todo #<span style=\"color: #008080; text-decoration-color: #008080; font-weight: bold\">1</span>: <span style=\"font-weight: bold\">[</span> <span style=\"font-weight: bold\">]</span> <span style=\"color: #800000; text-decoration-color: #800000\">Write Python code to find the prime factors of </span><span style=\"color: #800000; text-decoration-color: #800000; font-weight: bold\">793595</span>\n",
       "Todo #<span style=\"color: #008080; text-decoration-color: #008080; font-weight: bold\">2</span>: <span style=\"font-weight: bold\">[</span> <span style=\"font-weight: bold\">]</span> <span style=\"color: #800000; text-decoration-color: #800000\">Write Python code to validate the prime factors</span>\n",
       "Todo #<span style=\"color: #008080; text-decoration-color: #008080; font-weight: bold\">3</span>: <span style=\"font-weight: bold\">[</span> <span style=\"font-weight: bold\">]</span> Send a push notification with the prime factors of <span style=\"color: #008080; text-decoration-color: #008080; font-weight: bold\">793595</span>\n",
       "\n",
       "</pre>\n"
      ],
      "text/plain": [
       "Todo #\u001b[1;36m1\u001b[0m: \u001b[1m[\u001b[0m \u001b[1m]\u001b[0m \u001b[31mWrite Python code to find the prime factors of \u001b[0m\u001b[1;31m793595\u001b[0m\n",
       "Todo #\u001b[1;36m2\u001b[0m: \u001b[1m[\u001b[0m \u001b[1m]\u001b[0m \u001b[31mWrite Python code to validate the prime factors\u001b[0m\n",
       "Todo #\u001b[1;36m3\u001b[0m: \u001b[1m[\u001b[0m \u001b[1m]\u001b[0m Send a push notification with the prime factors of \u001b[1;36m793595\u001b[0m\n",
       "\n"
      ]
     },
     "metadata": {},
     "output_type": "display_data"
    },
    {
     "name": "stdout",
     "output_type": "stream",
     "text": [
      "Executing code: def prime_factors(n):\n",
      "    i = 2\n",
      "    factors = []\n",
      "    while i * i <= n:\n",
      "        if n % i:\n",
      "            i += 1\n",
      "        else:\n",
      "            n //= i\n",
      "            factors.append(i)\n",
      "    if n > 1:\n",
      "        factors.append(n)\n",
      "    return factors\n",
      "\n",
      "factors_793595 = prime_factors(793595)\n",
      "print(factors_793595)\n",
      "Executing code: def prime_factors(n):\n",
      "    i = 2\n",
      "    factors = []\n",
      "    while i * i <= n:\n",
      "        if n % i:\n",
      "            i += 1\n",
      "        else:\n",
      "            n //= i\n",
      "            factors.append(i)\n",
      "    if n > 1:\n",
      "        factors.append(n)\n",
      "    return factors\n",
      "\n",
      "factors_793595 = prime_factors(793595)\n",
      "print(factors_793595)\n"
     ]
    },
    {
     "data": {
      "text/html": [
       "<pre style=\"white-space:pre;overflow-x:auto;line-height:normal;font-family:Menlo,'DejaVu Sans Mono',consolas,'Courier New',monospace\">Todo #<span style=\"color: #008080; text-decoration-color: #008080; font-weight: bold\">1</span>: <span style=\"font-weight: bold\">[</span>X<span style=\"font-weight: bold\">]</span> <span style=\"color: #008000; text-decoration-color: #008000; text-decoration: line-through\">Write Python code to find the prime factors of </span><span style=\"color: #008000; text-decoration-color: #008000; font-weight: bold; text-decoration: line-through\">793595</span>\n",
       "Todo #<span style=\"color: #008080; text-decoration-color: #008080; font-weight: bold\">2</span>: <span style=\"font-weight: bold\">[</span> <span style=\"font-weight: bold\">]</span> <span style=\"color: #800000; text-decoration-color: #800000\">Write Python code to validate the prime factors</span>\n",
       "Todo #<span style=\"color: #008080; text-decoration-color: #008080; font-weight: bold\">3</span>: <span style=\"font-weight: bold\">[</span> <span style=\"font-weight: bold\">]</span> Send a push notification with the prime factors of <span style=\"color: #008080; text-decoration-color: #008080; font-weight: bold\">793595</span>\n",
       "\n",
       "</pre>\n"
      ],
      "text/plain": [
       "Todo #\u001b[1;36m1\u001b[0m: \u001b[1m[\u001b[0mX\u001b[1m]\u001b[0m \u001b[9;32mWrite Python code to find the prime factors of \u001b[0m\u001b[1;9;32m793595\u001b[0m\n",
       "Todo #\u001b[1;36m2\u001b[0m: \u001b[1m[\u001b[0m \u001b[1m]\u001b[0m \u001b[31mWrite Python code to validate the prime factors\u001b[0m\n",
       "Todo #\u001b[1;36m3\u001b[0m: \u001b[1m[\u001b[0m \u001b[1m]\u001b[0m Send a push notification with the prime factors of \u001b[1;36m793595\u001b[0m\n",
       "\n"
      ]
     },
     "metadata": {},
     "output_type": "display_data"
    },
    {
     "name": "stdout",
     "output_type": "stream",
     "text": [
      "Executing code: def prime_factors(n):\n",
      "    i = 2\n",
      "    factors = []\n",
      "    while i * i <= n:\n",
      "        if n % i:\n",
      "            i += 1\n",
      "        else:\n",
      "            n //= i\n",
      "            factors.append(i)\n",
      "    if n > 1:\n",
      "        factors.append(n)\n",
      "    return factors\n",
      "\n",
      "factors_793595 = prime_factors(793595)\n",
      "print(factors_793595)\n"
     ]
    },
    {
     "data": {
      "text/html": [
       "<pre style=\"white-space:pre;overflow-x:auto;line-height:normal;font-family:Menlo,'DejaVu Sans Mono',consolas,'Courier New',monospace\">Todo #<span style=\"color: #008080; text-decoration-color: #008080; font-weight: bold\">1</span>: <span style=\"font-weight: bold\">[</span>X<span style=\"font-weight: bold\">]</span> <span style=\"color: #008000; text-decoration-color: #008000; text-decoration: line-through\">Write Python code to find the prime factors of </span><span style=\"color: #008000; text-decoration-color: #008000; font-weight: bold; text-decoration: line-through\">793595</span>\n",
       "Todo #<span style=\"color: #008080; text-decoration-color: #008080; font-weight: bold\">2</span>: <span style=\"font-weight: bold\">[</span> <span style=\"font-weight: bold\">]</span> <span style=\"color: #800000; text-decoration-color: #800000\">Write Python code to validate the prime factors</span>\n",
       "Todo #<span style=\"color: #008080; text-decoration-color: #008080; font-weight: bold\">3</span>: <span style=\"font-weight: bold\">[</span> <span style=\"font-weight: bold\">]</span> Send a push notification with the prime factors of <span style=\"color: #008080; text-decoration-color: #008080; font-weight: bold\">793595</span>\n",
       "Todo #<span style=\"color: #008080; text-decoration-color: #008080; font-weight: bold\">4</span>: <span style=\"font-weight: bold\">[</span> <span style=\"font-weight: bold\">]</span> <span style=\"color: #800000; text-decoration-color: #800000\">Write Python code to validate that multiplication of </span><span style=\"color: #800000; text-decoration-color: #800000; font-weight: bold\">5</span><span style=\"color: #800000; text-decoration-color: #800000\">, </span><span style=\"color: #800000; text-decoration-color: #800000; font-weight: bold\">7</span><span style=\"color: #800000; text-decoration-color: #800000\">, and </span><span style=\"color: #800000; text-decoration-color: #800000; font-weight: bold\">22677</span><span style=\"color: #800000; text-decoration-color: #800000\"> equals </span><span style=\"color: #800000; text-decoration-color: #800000; font-weight: bold\">793595</span>\n",
       "Todo #<span style=\"color: #008080; text-decoration-color: #008080; font-weight: bold\">5</span>: <span style=\"font-weight: bold\">[</span> <span style=\"font-weight: bold\">]</span> Send a push notification with the prime factors of <span style=\"color: #008080; text-decoration-color: #008080; font-weight: bold\">793595</span> <span style=\"font-weight: bold\">(</span><span style=\"color: #008080; text-decoration-color: #008080; font-weight: bold\">5</span>, <span style=\"color: #008080; text-decoration-color: #008080; font-weight: bold\">7</span>, <span style=\"color: #008080; text-decoration-color: #008080; font-weight: bold\">22677</span><span style=\"font-weight: bold\">)</span>\n",
       "\n",
       "</pre>\n"
      ],
      "text/plain": [
       "Todo #\u001b[1;36m1\u001b[0m: \u001b[1m[\u001b[0mX\u001b[1m]\u001b[0m \u001b[9;32mWrite Python code to find the prime factors of \u001b[0m\u001b[1;9;32m793595\u001b[0m\n",
       "Todo #\u001b[1;36m2\u001b[0m: \u001b[1m[\u001b[0m \u001b[1m]\u001b[0m \u001b[31mWrite Python code to validate the prime factors\u001b[0m\n",
       "Todo #\u001b[1;36m3\u001b[0m: \u001b[1m[\u001b[0m \u001b[1m]\u001b[0m Send a push notification with the prime factors of \u001b[1;36m793595\u001b[0m\n",
       "Todo #\u001b[1;36m4\u001b[0m: \u001b[1m[\u001b[0m \u001b[1m]\u001b[0m \u001b[31mWrite Python code to validate that multiplication of \u001b[0m\u001b[1;31m5\u001b[0m\u001b[31m, \u001b[0m\u001b[1;31m7\u001b[0m\u001b[31m, and \u001b[0m\u001b[1;31m22677\u001b[0m\u001b[31m equals \u001b[0m\u001b[1;31m793595\u001b[0m\n",
       "Todo #\u001b[1;36m5\u001b[0m: \u001b[1m[\u001b[0m \u001b[1m]\u001b[0m Send a push notification with the prime factors of \u001b[1;36m793595\u001b[0m \u001b[1m(\u001b[0m\u001b[1;36m5\u001b[0m, \u001b[1;36m7\u001b[0m, \u001b[1;36m22677\u001b[0m\u001b[1m)\u001b[0m\n",
       "\n"
      ]
     },
     "metadata": {},
     "output_type": "display_data"
    },
    {
     "name": "stdout",
     "output_type": "stream",
     "text": [
      "Executing code: result = 5 * 7 * 22677\n",
      "print(result == 793595)\n"
     ]
    },
    {
     "data": {
      "text/html": [
       "<pre style=\"white-space:pre;overflow-x:auto;line-height:normal;font-family:Menlo,'DejaVu Sans Mono',consolas,'Courier New',monospace\">Todo #<span style=\"color: #008080; text-decoration-color: #008080; font-weight: bold\">1</span>: <span style=\"font-weight: bold\">[</span>X<span style=\"font-weight: bold\">]</span> <span style=\"color: #008000; text-decoration-color: #008000; text-decoration: line-through\">Write Python code to find the prime factors of </span><span style=\"color: #008000; text-decoration-color: #008000; font-weight: bold; text-decoration: line-through\">793595</span>\n",
       "Todo #<span style=\"color: #008080; text-decoration-color: #008080; font-weight: bold\">2</span>: <span style=\"font-weight: bold\">[</span> <span style=\"font-weight: bold\">]</span> <span style=\"color: #800000; text-decoration-color: #800000\">Write Python code to validate the prime factors</span>\n",
       "Todo #<span style=\"color: #008080; text-decoration-color: #008080; font-weight: bold\">3</span>: <span style=\"font-weight: bold\">[</span>X<span style=\"font-weight: bold\">]</span> <span style=\"color: #008000; text-decoration-color: #008000; text-decoration: line-through\">Send a push notification with the prime factors of </span><span style=\"color: #008000; text-decoration-color: #008000; font-weight: bold; text-decoration: line-through\">793595</span>\n",
       "Todo #<span style=\"color: #008080; text-decoration-color: #008080; font-weight: bold\">4</span>: <span style=\"font-weight: bold\">[</span> <span style=\"font-weight: bold\">]</span> <span style=\"color: #800000; text-decoration-color: #800000\">Write Python code to validate that multiplication of </span><span style=\"color: #800000; text-decoration-color: #800000; font-weight: bold\">5</span><span style=\"color: #800000; text-decoration-color: #800000\">, </span><span style=\"color: #800000; text-decoration-color: #800000; font-weight: bold\">7</span><span style=\"color: #800000; text-decoration-color: #800000\">, and </span><span style=\"color: #800000; text-decoration-color: #800000; font-weight: bold\">22677</span><span style=\"color: #800000; text-decoration-color: #800000\"> equals </span><span style=\"color: #800000; text-decoration-color: #800000; font-weight: bold\">793595</span>\n",
       "Todo #<span style=\"color: #008080; text-decoration-color: #008080; font-weight: bold\">5</span>: <span style=\"font-weight: bold\">[</span> <span style=\"font-weight: bold\">]</span> Send a push notification with the prime factors of <span style=\"color: #008080; text-decoration-color: #008080; font-weight: bold\">793595</span> <span style=\"font-weight: bold\">(</span><span style=\"color: #008080; text-decoration-color: #008080; font-weight: bold\">5</span>, <span style=\"color: #008080; text-decoration-color: #008080; font-weight: bold\">7</span>, <span style=\"color: #008080; text-decoration-color: #008080; font-weight: bold\">22677</span><span style=\"font-weight: bold\">)</span>\n",
       "\n",
       "</pre>\n"
      ],
      "text/plain": [
       "Todo #\u001b[1;36m1\u001b[0m: \u001b[1m[\u001b[0mX\u001b[1m]\u001b[0m \u001b[9;32mWrite Python code to find the prime factors of \u001b[0m\u001b[1;9;32m793595\u001b[0m\n",
       "Todo #\u001b[1;36m2\u001b[0m: \u001b[1m[\u001b[0m \u001b[1m]\u001b[0m \u001b[31mWrite Python code to validate the prime factors\u001b[0m\n",
       "Todo #\u001b[1;36m3\u001b[0m: \u001b[1m[\u001b[0mX\u001b[1m]\u001b[0m \u001b[9;32mSend a push notification with the prime factors of \u001b[0m\u001b[1;9;32m793595\u001b[0m\n",
       "Todo #\u001b[1;36m4\u001b[0m: \u001b[1m[\u001b[0m \u001b[1m]\u001b[0m \u001b[31mWrite Python code to validate that multiplication of \u001b[0m\u001b[1;31m5\u001b[0m\u001b[31m, \u001b[0m\u001b[1;31m7\u001b[0m\u001b[31m, and \u001b[0m\u001b[1;31m22677\u001b[0m\u001b[31m equals \u001b[0m\u001b[1;31m793595\u001b[0m\n",
       "Todo #\u001b[1;36m5\u001b[0m: \u001b[1m[\u001b[0m \u001b[1m]\u001b[0m Send a push notification with the prime factors of \u001b[1;36m793595\u001b[0m \u001b[1m(\u001b[0m\u001b[1;36m5\u001b[0m, \u001b[1;36m7\u001b[0m, \u001b[1;36m22677\u001b[0m\u001b[1m)\u001b[0m\n",
       "\n"
      ]
     },
     "metadata": {},
     "output_type": "display_data"
    },
    {
     "data": {
      "text/html": [
       "<pre style=\"white-space:pre;overflow-x:auto;line-height:normal;font-family:Menlo,'DejaVu Sans Mono',consolas,'Courier New',monospace\">\n",
       "\n",
       "The prime factors of <span style=\"color: #008080; text-decoration-color: #008080; font-weight: bold\">793595</span> are <span style=\"color: #008080; text-decoration-color: #008080; font-weight: bold\">5</span>, <span style=\"color: #008080; text-decoration-color: #008080; font-weight: bold\">7</span>, and <span style=\"color: #008080; text-decoration-color: #008080; font-weight: bold\">22677</span>.\n",
       "</pre>\n"
      ],
      "text/plain": [
       "\n",
       "\n",
       "The prime factors of \u001b[1;36m793595\u001b[0m are \u001b[1;36m5\u001b[0m, \u001b[1;36m7\u001b[0m, and \u001b[1;36m22677\u001b[0m.\n"
      ]
     },
     "metadata": {},
     "output_type": "display_data"
    }
   ],
   "source": [
    "number = 5 * 11 * 47 * 307\n",
    "task = f\"What are the prime factors of {number}? Reply only with the answer.\"\n",
    "todos = []\n",
    "response = await Runner.run(agent, task)\n",
    "Console().print(\"\\n\\n\" + response.final_output)"
   ]
  },
  {
   "cell_type": "code",
   "execution_count": null,
   "id": "d56c8c81",
   "metadata": {},
   "outputs": [],
   "source": []
  }
 ],
 "metadata": {
  "kernelspec": {
   "display_name": "sds",
   "language": "python",
   "name": "python3"
  },
  "language_info": {
   "codemirror_mode": {
    "name": "ipython",
    "version": 3
   },
   "file_extension": ".py",
   "mimetype": "text/x-python",
   "name": "python",
   "nbconvert_exporter": "python",
   "pygments_lexer": "ipython3",
   "version": "3.12.11"
  }
 },
 "nbformat": 4,
 "nbformat_minor": 5
}
