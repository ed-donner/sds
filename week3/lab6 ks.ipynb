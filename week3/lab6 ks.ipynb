{
 "cells": [
  {
   "cell_type": "markdown",
   "metadata": {},
   "source": [
    "# Lab 6 - Coder Agent\n",
    "\n",
    "A coder agent doesn't necessarily mean that it generates code - but more broadly that it can write code and run it in order to solve a task."
   ]
  },
  {
   "cell_type": "code",
   "execution_count": 1,
   "metadata": {},
   "outputs": [
    {
     "data": {
      "text/plain": [
       "True"
      ]
     },
     "execution_count": 1,
     "metadata": {},
     "output_type": "execute_result"
    }
   ],
   "source": [
    "from agents import Agent, Runner, trace, function_tool\n",
    "import docker\n",
    "import tempfile\n",
    "import os\n",
    "from dotenv import load_dotenv\n",
    "load_dotenv(override=True)"
   ]
  },
  {
   "cell_type": "code",
   "execution_count": 2,
   "metadata": {},
   "outputs": [],
   "source": [
    "client = docker.from_env()\n",
    "image = \"python:3.12-slim\""
   ]
  },
  {
   "cell_type": "code",
   "execution_count": 3,
   "metadata": {},
   "outputs": [
    {
     "data": {
      "text/plain": [
       "b'4\\n'"
      ]
     },
     "execution_count": 3,
     "metadata": {},
     "output_type": "execute_result"
    }
   ],
   "source": [
    "client.containers.run(image=\"python:3.12-slim\", command=[\"python\", \"-c\", \"print(2+2)\"], remove=True)"
   ]
  },
  {
   "cell_type": "code",
   "execution_count": 4,
   "metadata": {},
   "outputs": [],
   "source": [
    "@function_tool\n",
    "def execute_python(code: str) -> str:\n",
    "    \"\"\"\n",
    "    Execute the given Python code inside a Docker container with python:3.12-slim,\n",
    "    and return whatever is printed to stdout.\n",
    "    You must print the result of the code to stdout in order to retrieve it.\n",
    "    This uses the python:3.12-slim image and so it does not have scientific libraries installed;\n",
    "    write simple python 3.12 code using the standard library only. Do not use numpy or scipy.\n",
    "    IMPORTANT: You must print the result of the code in order to retrieve it.\n",
    "\n",
    "    Args:\n",
    "        code: The Python code to run. Remember to print the result.\n",
    "\n",
    "    \"\"\"\n",
    "    print(f\"Executing code: {code}\")\n",
    "    with tempfile.TemporaryDirectory() as tmpdir:\n",
    "        script_path = os.path.join(tmpdir, \"script.py\")\n",
    "        volumes = {tmpdir: {\"bind\": \"/tmp\", \"mode\": \"ro\"}}\n",
    "        command = [\"python\", \"/tmp/script.py\"]\n",
    "        with open(script_path, \"w\") as f:\n",
    "            f.write(code)\n",
    "        logs = client.containers.run(image=image, command=command, volumes=volumes, remove=True)\n",
    "    result = logs.decode(\"utf-8\")\n",
    "    print(f\"Result: {result}\")\n",
    "    return result"
   ]
  },
  {
   "cell_type": "code",
   "execution_count": 5,
   "metadata": {},
   "outputs": [
    {
     "name": "stdout",
     "output_type": "stream",
     "text": [
      "Execute the given Python code inside a Docker container with python:3.12-slim,\n",
      "and return whatever is printed to stdout.\n",
      "You must print the result of the code to stdout in order to retrieve it.\n",
      "This uses the python:3.12-slim image and so it does not have scientific libraries installed;\n",
      "write simple python 3.12 code using the standard library only. Do not use numpy or scipy.\n",
      "IMPORTANT: You must print the result of the code in order to retrieve it.\n"
     ]
    }
   ],
   "source": [
    "print(execute_python.description)"
   ]
  },
  {
   "cell_type": "code",
   "execution_count": 6,
   "metadata": {},
   "outputs": [],
   "source": [
    "instructions = \"\"\"\n",
    "You are a Coder Agent that writes python, uses a tool to execute the code, and returns the results,\n",
    "in order to solve the user's problem.\n",
    "\"\"\""
   ]
  },
  {
   "cell_type": "code",
   "execution_count": 7,
   "metadata": {},
   "outputs": [],
   "source": [
    "number = 5 * 11 * 47 * 307\n",
    "input = f\"What are the prime factors of {number}? Reply only with the answer.\""
   ]
  },
  {
   "cell_type": "code",
   "execution_count": 8,
   "metadata": {},
   "outputs": [
    {
     "name": "stdout",
     "output_type": "stream",
     "text": [
      "Executing code: def prime_factors(n):\n",
      "    i = 2\n",
      "    factors = []\n",
      "    while i * i <= n:\n",
      "        if n % i:\n",
      "            i += 1\n",
      "        else:\n",
      "            n //= i\n",
      "            factors.append(i)\n",
      "    if n > 1:\n",
      "        factors.append(n)\n",
      "    return factors\n",
      "\n",
      "result = prime_factors(793595)\n",
      "print(result)\n",
      "Result: [5, 11, 47, 307]\n",
      "\n",
      "The prime factors of 793595 are 5, 11, 47, and 307.\n"
     ]
    }
   ],
   "source": [
    "agent = Agent(\"Coder Agent\", model=\"gpt-4.1-mini\", instructions=instructions, tools=[execute_python])\n",
    "\n",
    "with trace(\"Coder Agent\"):\n",
    "    result = await Runner.run(agent, input)\n",
    "    print(result.final_output)"
   ]
  },
  {
   "cell_type": "code",
   "execution_count": 9,
   "metadata": {},
   "outputs": [],
   "source": [
    "\n",
    "\n",
    "input = \"\"\"\n",
    "Write a python function to calculate the price of an option using the Black-Scholes model.\n",
    "Then use your tool to execute the code and calculate the price of this option:\n",
    "GOOGL\n",
    "Stock Price: 150\n",
    "Strike Price: 155\n",
    "Time to maturity: 3 years\n",
    "Risk free rate: 1%\n",
    "Volatility: 20%\n",
    "Dividend Yield: 0%\n",
    "Respond with the calculated price of the option only.\n",
    "\"\"\""
   ]
  },
  {
   "cell_type": "code",
   "execution_count": 10,
   "metadata": {},
   "outputs": [
    {
     "name": "stdout",
     "output_type": "stream",
     "text": [
      "Executing code: import math\n",
      "from math import log, sqrt, exp\n",
      "\n",
      "# Cumulative distribution function for standard normal distribution\n",
      "from math import erf\n",
      "def norm_cdf(x):\n",
      "    return (1.0 + erf(x / sqrt(2.0))) / 2.0\n",
      "\n",
      "def black_scholes_call(S, K, T, r, sigma, q=0):\n",
      "    # S: Current stock price\n",
      "    # K: Strike price\n",
      "    # T: Time to maturity (in years)\n",
      "    # r: Risk-free rate\n",
      "    # sigma: Volatility\n",
      "    # q: Dividend yield\n",
      "    d1 = (log(S / K) + (r - q + 0.5 * sigma ** 2) * T) / (sigma * sqrt(T))\n",
      "    d2 = d1 - sigma * sqrt(T)\n",
      "    call_price = S * exp(-q * T) * norm_cdf(d1) - K * exp(-r * T) * norm_cdf(d2)\n",
      "    return call_price\n",
      "\n",
      "# Given parameters\n",
      "S = 150\n",
      "K = 155\n",
      "T = 3\n",
      "r = 0.01\n",
      "sigma = 0.20\n",
      "q = 0\n",
      "\n",
      "call_price = black_scholes_call(S, K, T, r, sigma, q)\n",
      "print(call_price)\n",
      "Result: 20.44641206078066\n",
      "\n",
      "The calculated price of the option using the Black-Scholes model is 20.44641206078066.\n"
     ]
    }
   ],
   "source": [
    "\n",
    "agent = Agent(\"Coder Agent\", model=\"gpt-4.1-mini\", instructions=instructions, tools=[execute_python])\n",
    "\n",
    "with trace(\"Coder Agent\"):\n",
    "    result = await Runner.run(agent, input)\n",
    "    print(result.final_output)"
   ]
  },
  {
   "cell_type": "code",
   "execution_count": null,
   "metadata": {},
   "outputs": [],
   "source": []
  }
 ],
 "metadata": {
  "kernelspec": {
   "display_name": ".venv",
   "language": "python",
   "name": "python3"
  },
  "language_info": {
   "codemirror_mode": {
    "name": "ipython",
    "version": 3
   },
   "file_extension": ".py",
   "mimetype": "text/x-python",
   "name": "python",
   "nbconvert_exporter": "python",
   "pygments_lexer": "ipython3",
   "version": "3.12.11"
  }
 },
 "nbformat": 4,
 "nbformat_minor": 2
}
