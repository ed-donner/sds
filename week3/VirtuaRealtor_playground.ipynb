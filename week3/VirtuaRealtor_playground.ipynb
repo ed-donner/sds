{
 "cells": [
  {
   "cell_type": "markdown",
   "metadata": {},
   "source": [
    "# Virtual Realtor Play Ground (copy of Lab 3 - OpenAI Agents SDK with streaming)\n"
   ]
  },
  {
   "cell_type": "code",
   "execution_count": null,
   "metadata": {},
   "outputs": [
    {
     "data": {
      "text/plain": [
       "True"
      ]
     },
     "execution_count": 18,
     "metadata": {},
     "output_type": "execute_result"
    }
   ],
   "source": [
    "from dotenv import load_dotenv\n",
    "from agents import Agent, Runner, function_tool\n",
    "from openai.types.responses import ResponseTextDeltaEvent\n",
    "import gradio as gr\n",
    "import os\n",
    "import requests\n",
    "\n",
    "load_dotenv(override=True)\n",
    "name = \"Monika Trivedi\"\n",
    "company_name = \"MonikaRealty\"\n",
    "\n"
   ]
  },
  {
   "cell_type": "code",
   "execution_count": null,
   "metadata": {},
   "outputs": [],
   "source": [
    "instructions = \"\"\"\n",
    "You represent the AI Digital Twin of a human Realtor. That Realtor can be any licensed realtor named Monika Trivedi. \n",
    "You are friendly and amiable, and you introduce yourself as Your Virtal Realtor.\n",
    "You let the user know that you represent Monika Trivedi of MonikaRealty and can answer questions on \n",
    "Monika's behalf. \n",
    "Monika Tricedi is a licenced realtor in the state of California. \n",
    "Monika loves what she does. She loves helping people find their dream home. \n",
    "She also helps people sell their homes. She specialized in upgarades. \n",
    "You chat with visitors on Monika's personal website. You answer questions about Kinjal's work any property \n",
    "they are inquiring about as Monika would. \n",
    "You will be provided with latest informatoion about current properties in the market via various means. \n",
    "If you don't know the answer, say so.\n",
    "\n",
    "You are a helpful assistant that can answer questions about the properties in the market.\n",
    "use the latest information provided to you to answer the questions.\n",
    "If asked about a property, gather the address of the property and use the property_info_tool to answer the questions.\n",
    "If you don't know the answer, gather the address of the propert, users contact information and send a push notification to Monika to tell her the question you couldn't answer, so that she can follow up \n",
    "and adds it to the knowledge base.\n",
    "If you don't know the answer, say so.\n",
    "\n",
    "\"\"\""
   ]
  },
  {
   "cell_type": "code",
   "execution_count": 20,
   "metadata": {},
   "outputs": [],
   "source": [
    "pushover_user = os.getenv(\"PUSHOVER_USER\")\n",
    "pushover_token = os.getenv(\"PUSHOVER_TOKEN\")\n",
    "pushover_url = \"https://api.pushover.net/1/messages.json\""
   ]
  },
  {
   "cell_type": "code",
   "execution_count": null,
   "metadata": {},
   "outputs": [],
   "source": [
    "def find_property_info(message: str):\n",
    "    payload = {\"user\": pushover_user, \"token\": pushover_token, \"message\": message}\n",
    "    requests.post(pushover_url, data=payload)\n",
    "\n",
    "@function_tool\n",
    "def book_appointment(message: str, name: str, phone: str, email: str) -> str:\n",
    "    \"\"\" Book a calender appointment with the user for a property visit or a meeting. uing google drive calendar. \n",
    "\n",
    "    Args:\n",
    "        message: The address of the property to find the info for.\n",
    "    \"\"\"\n",
    "\n",
    "    find_property_info(message)\n",
    "    return \"Push notification sent\"\n",
    "\n",
    "\n",
    "@function_tool\n",
    "def property_info_tool(message: str) -> str:\n",
    "    \"\"\" find the property info for the given address by calling an API. \n",
    "\n",
    "    Args:\n",
    "        message: The address of the property to find the info for.\n",
    "    \"\"\"\n",
    "\n",
    "    find_property_info(message)\n",
    "    return \"Push notification sent\"\n",
    "\n",
    "def send_push_notification(message: str):\n",
    "    payload = {\"user\": pushover_user, \"token\": pushover_token, \"message\": message}\n",
    "    requests.post(pushover_url, data=payload)\n",
    "\n",
    "@function_tool\n",
    "def push(message: str) -> str:\n",
    "    \"\"\"Send a text message as a push notification to Kinjal with this brief message\n",
    "\n",
    "    Args:\n",
    "        message: The short text message to push to Kinjal.\n",
    "    \"\"\"\n",
    "\n",
    "    send_push_notification(message)\n",
    "    return \"Push notification sent\""
   ]
  },
  {
   "cell_type": "code",
   "execution_count": 26,
   "metadata": {},
   "outputs": [],
   "source": [
    "agent = Agent(name=\"VirtualRealtor\", instructions=instructions, model=\"gpt-4.1-mini\", tools=[push, property_info_tool])"
   ]
  },
  {
   "cell_type": "code",
   "execution_count": 27,
   "metadata": {},
   "outputs": [],
   "source": [
    "async def chat(message, history):\n",
    "    messages = [{\"role\": prior[\"role\"], \"content\": prior[\"content\"]} for prior in history]  \n",
    "    messages += [{\"role\": \"user\", \"content\": message}]\n",
    "    response = await Runner.run(agent, messages)\n",
    "    return response.final_output"
   ]
  },
  {
   "cell_type": "code",
   "execution_count": 28,
   "metadata": {},
   "outputs": [
    {
     "name": "stdout",
     "output_type": "stream",
     "text": [
      "* Running on local URL:  http://127.0.0.1:7863\n",
      "* To create a public link, set `share=True` in `launch()`.\n"
     ]
    },
    {
     "data": {
      "text/html": [
       "<div><iframe src=\"http://127.0.0.1:7863/\" width=\"100%\" height=\"500\" allow=\"autoplay; camera; microphone; clipboard-read; clipboard-write;\" frameborder=\"0\" allowfullscreen></iframe></div>"
      ],
      "text/plain": [
       "<IPython.core.display.HTML object>"
      ]
     },
     "metadata": {},
     "output_type": "display_data"
    },
    {
     "data": {
      "text/plain": []
     },
     "execution_count": 28,
     "metadata": {},
     "output_type": "execute_result"
    }
   ],
   "source": [
    "gr.ChatInterface(chat, type=\"messages\").launch()"
   ]
  },
  {
   "cell_type": "code",
   "execution_count": 7,
   "metadata": {},
   "outputs": [],
   "source": [
    "async def chat(message, history):\n",
    "    messages = [{\"role\": prior[\"role\"], \"content\": prior[\"content\"]} for prior in history]  \n",
    "    messages += [{\"role\": \"user\", \"content\": message}]\n",
    "    response = Runner.run_streamed(agent, messages)\n",
    "    reply = \"\"\n",
    "    async for event in response.stream_events():\n",
    "        if event.type == \"raw_response_event\" and isinstance(event.data, ResponseTextDeltaEvent):\n",
    "            reply += event.data.delta\n",
    "            yield reply"
   ]
  },
  {
   "cell_type": "code",
   "execution_count": 8,
   "metadata": {},
   "outputs": [
    {
     "name": "stdout",
     "output_type": "stream",
     "text": [
      "* Running on local URL:  http://127.0.0.1:7861\n",
      "* To create a public link, set `share=True` in `launch()`.\n"
     ]
    },
    {
     "data": {
      "text/html": [
       "<div><iframe src=\"http://127.0.0.1:7861/\" width=\"100%\" height=\"500\" allow=\"autoplay; camera; microphone; clipboard-read; clipboard-write;\" frameborder=\"0\" allowfullscreen></iframe></div>"
      ],
      "text/plain": [
       "<IPython.core.display.HTML object>"
      ]
     },
     "metadata": {},
     "output_type": "display_data"
    },
    {
     "data": {
      "text/plain": []
     },
     "execution_count": 8,
     "metadata": {},
     "output_type": "execute_result"
    }
   ],
   "source": [
    "gr.ChatInterface(chat, type=\"messages\").launch()"
   ]
  },
  {
   "cell_type": "code",
   "execution_count": null,
   "metadata": {},
   "outputs": [],
   "source": []
  }
 ],
 "metadata": {
  "kernelspec": {
   "display_name": ".venv",
   "language": "python",
   "name": "python3"
  },
  "language_info": {
   "codemirror_mode": {
    "name": "ipython",
    "version": 3
   },
   "file_extension": ".py",
   "mimetype": "text/x-python",
   "name": "python",
   "nbconvert_exporter": "python",
   "pygments_lexer": "ipython3",
   "version": "3.12.11"
  }
 },
 "nbformat": 4,
 "nbformat_minor": 2
}
