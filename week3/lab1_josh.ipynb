{
 "cells": [
  {
   "cell_type": "markdown",
   "id": "3e9a75ce",
   "metadata": {},
   "source": [
    "# Welcome to Week 3!\n",
    "\n",
    "## Agenda\n",
    "\n",
    "### Part 1: Intro\n",
    "\n",
    "1. A review of your own [Evals](https://docs.google.com/presentation/d/1OI-9yqJWK5hHNO06JDz44UduN4YmTf1HP-IRTtuAnig/edit?slide=id.p10#slide=id.p10)\n",
    "2. What is an Agent?\n",
    "3. Digital Twin Teams\n",
    "4. First Agent labs - structured outputs (lab 2)\n",
    "\n",
    "### Part 2: Agents\n",
    "\n",
    "- Streaming (lab 3)\n",
    "- Tools (lab 4)\n",
    "- Interactions (lab 5)\n",
    "- Coding (lab 6)\n",
    "- Agent Loop (lab 7)\n",
    "\n",
    "### Part 3: Team planning\n",
    "\n",
    "1. Group and plan\n",
    "2. Experiment!\n",
    "3. Determine approach\n",
    "4. Regroup\n"
   ]
  },
  {
   "cell_type": "markdown",
   "id": "cc1b2670",
   "metadata": {},
   "source": [
    "## New Teams for Digital Twin\n",
    "\n",
    "The idea is that each of you builds the Digital Twin individually, but you collaborate to share your approach and leanings together, and to share tools.\n",
    "\n",
    "**Team 1:**\n",
    "\n",
    "Seb, Kinjal, Marylou, Dave\n",
    "\n",
    "**Team 2:**\n",
    "\n",
    "Jeff, Rohit, Salma\n",
    "\n",
    "**Team 3:**\n",
    "\n",
    "Sathiya, Ilya, Oscar, Josh\n"
   ]
  },
  {
   "cell_type": "code",
   "execution_count": 1,
   "id": "9921dedb",
   "metadata": {},
   "outputs": [
    {
     "data": {
      "text/plain": [
       "True"
      ]
     },
     "execution_count": 1,
     "metadata": {},
     "output_type": "execute_result"
    }
   ],
   "source": [
    "from agents import Agent, Runner\n",
    "from dotenv import load_dotenv\n",
    "load_dotenv(override=True)"
   ]
  },
  {
   "cell_type": "code",
   "execution_count": 2,
   "id": "20736ebf",
   "metadata": {},
   "outputs": [
    {
     "name": "stdout",
     "output_type": "stream",
     "text": [
      "Why did the agentic AI quit its day job?\n",
      "\n",
      "Because it decided to *take matters into its own algorithms!*\n"
     ]
    }
   ],
   "source": [
    "agent = Agent(name=\"Jokester\")\n",
    "response = await Runner.run(agent, \"Tell me a joke about Agentic AI\")\n",
    "print(response.final_output)"
   ]
  },
  {
   "cell_type": "markdown",
   "id": "15baa5e8",
   "metadata": {},
   "source": [
    "# OpenAI Func Calling"
   ]
  },
  {
   "cell_type": "code",
   "execution_count": 13,
   "id": "f5dd9e0c",
   "metadata": {},
   "outputs": [
    {
     "data": {
      "text/plain": [
       "'$799'"
      ]
     },
     "execution_count": 13,
     "metadata": {},
     "output_type": "execute_result"
    }
   ],
   "source": [
    "ticket_prices = {\"london\": \"$799\", \"paris\": \"$899\", \"tokyo\": \"$1400\", \"sydney\": \"$2999\"}\n",
    "\n",
    "def get_ticket_prices(city: str) -> str:\n",
    "    if city.lower() in ticket_prices:\n",
    "        return ticket_prices[city.lower()]\n",
    "    else:\n",
    "        return \"Sorry, we don't have ticket prices for that city.\"\n",
    "\n",
    "get_ticket_prices(city=\"London\")"
   ]
  },
  {
   "cell_type": "code",
   "execution_count": 18,
   "id": "810ad32a",
   "metadata": {},
   "outputs": [],
   "source": [
    "tools = [\n",
    "    {\n",
    "        \"type\": \"function\",\n",
    "        \"function\": {\n",
    "            \"name\": \"get_ticket_prices\",\n",
    "            \"description\": \"Get the ticket price for flights to a specific city\",\n",
    "            \"parameters\": {\n",
    "                \"type\": \"object\",\n",
    "                \"properties\": {\n",
    "                    \"city\": {\n",
    "                        \"type\": \"string\",\n",
    "                        \"description\": \"The destination city name\"\n",
    "                    }\n",
    "                },\n",
    "                \"required\": [\"city\"]\n",
    "            }\n",
    "        }\n",
    "    }\n",
    "]"
   ]
  },
  {
   "cell_type": "code",
   "execution_count": 33,
   "id": "461e18f4",
   "metadata": {},
   "outputs": [
    {
     "name": "stdout",
     "output_type": "stream",
     "text": [
      "Calling function get_ticket_prices with args {'city': 'London'}\n"
     ]
    },
    {
     "data": {
      "text/markdown": [
       "The ticket price to London is $799."
      ],
      "text/plain": [
       "<IPython.core.display.Markdown object>"
      ]
     },
     "metadata": {},
     "output_type": "display_data"
    }
   ],
   "source": [
    "from dotenv import load_dotenv\n",
    "from openai import OpenAI\n",
    "import json\n",
    "from IPython.display import Markdown, display\n",
    "\n",
    "load_dotenv(override=True)\n",
    "openai = OpenAI()\n",
    "\n",
    "some_city = \"mankato\"\n",
    "some_city = \"london\"\n",
    "\n",
    "SYSTEM_PROMPT = f\"you are an airline pricing expert.  keep your answers very brief.  if you don't know the answer, just say you don't know.\"\n",
    "USER_PROMPT = f\"You are looking to fly to {some_city}\"\n",
    "\n",
    "# messages = [{\"role\": \"user\", \"content\": message}]\n",
    "messages = [\n",
    "    {\"role\": \"system\", \"content\": SYSTEM_PROMPT},\n",
    "    {\"role\": \"user\", \"content\": USER_PROMPT}\n",
    "    ]\n",
    "\n",
    "response = openai.chat.completions.create(model=\"gpt-4o-mini\",\n",
    "                                          messages=messages,\n",
    "                                          tools=tools,\n",
    "                                          tool_choice=\"auto\")\n",
    "response_message = response.choices[0].message\n",
    "messages.append(response_message)\n",
    "\n",
    "# Check if the model wants to call a function\n",
    "if response_message.tool_calls:\n",
    "    for tool_call in response_message.tool_calls:\n",
    "        function_name = tool_call.function.name\n",
    "        function_args = json.loads(tool_call.function.arguments)\n",
    "        \n",
    "        # Call your function\n",
    "        if function_name == \"get_ticket_prices\":\n",
    "            print(f\"Calling function {function_name} with args {function_args}\")\n",
    "            function_response = get_ticket_prices(city=function_args.get(\"city\"))\n",
    "            \n",
    "            # Add function response to messages\n",
    "            messages.append({\n",
    "                \"role\": \"tool\",\n",
    "                \"tool_call_id\": tool_call.id,\n",
    "                \"name\": function_name,\n",
    "                \"content\": function_response\n",
    "            })\n",
    "        else:\n",
    "            print(f\"Function {function_name} not needed\")\n",
    "    \n",
    "    # Second API call with function results\n",
    "    final_response = openai.chat.completions.create(\n",
    "        model=\"gpt-4o-mini\",\n",
    "        messages=messages\n",
    "    )\n",
    "    \n",
    "    reply = final_response.choices[0].message.content\n",
    "else:\n",
    "    reply = response_message.content\n",
    "\n",
    "display(Markdown(reply))\n"
   ]
  },
  {
   "cell_type": "markdown",
   "id": "02a0c799",
   "metadata": {},
   "source": []
  }
 ],
 "metadata": {
  "kernelspec": {
   "display_name": "sds",
   "language": "python",
   "name": "python3"
  },
  "language_info": {
   "codemirror_mode": {
    "name": "ipython",
    "version": 3
   },
   "file_extension": ".py",
   "mimetype": "text/x-python",
   "name": "python",
   "nbconvert_exporter": "python",
   "pygments_lexer": "ipython3",
   "version": "3.12.11"
  }
 },
 "nbformat": 4,
 "nbformat_minor": 5
}
