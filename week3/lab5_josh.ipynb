{
 "cells": [
  {
   "cell_type": "markdown",
   "metadata": {},
   "source": [
    "# Lab 5 - Three ways for Agents to Interact\n",
    "\n",
    "The 3 models:\n",
    "\n",
    "1. Separate calls to Runner.run()\n",
    "\n",
    "2. Agent Handoffs, turns within a Runner.run()\n",
    "\n",
    "    A -> B -> C\n",
    "\n",
    "3. Agents as Tools, turns within a Runner.run()\n",
    "\n",
    "    A -> B -> A\n",
    "\n",
    "\n",
    "Approach (1) is the least juicy & fashionable, but it's the one I recommend the most!\n",
    "\n",
    "Approach (2) seems really hard to make reliable.\n",
    "\n",
    "Approach (3) works OK with good enough prompts.."
   ]
  },
  {
   "cell_type": "code",
   "execution_count": 1,
   "metadata": {},
   "outputs": [
    {
     "data": {
      "text/plain": [
       "True"
      ]
     },
     "execution_count": 1,
     "metadata": {},
     "output_type": "execute_result"
    }
   ],
   "source": [
    "from agents import Agent, Runner, trace, handoff\n",
    "from IPython.display import Markdown, display\n",
    "from pydantic import BaseModel, Field\n",
    "from dotenv import load_dotenv\n",
    "load_dotenv(override=True)\n"
   ]
  },
  {
   "cell_type": "code",
   "execution_count": 2,
   "metadata": {},
   "outputs": [],
   "source": [
    "\n",
    "entrepreneur_instructions = \"You generate novel, exciting business ideas for Autonomous AI Agents\"\n",
    "entrepreneur_input = \"\"\"\n",
    "Propose one compelling business idea for applying Autonomous AI Agents to any industry you choose.\n",
    "The idea should be unique, high potential commercial impact, and make true use of the autonomous capabilities of AI Agents.\n",
    "\"\"\"\n",
    "\n",
    "evaluator_instructions = \"You evaluate novel, exciting business ideas for Autonomous AI Agents\"\n",
    "evaluator_input = \"Evaluate the following business idea; assess it for uniqueness, potential commercial impact, and use of Autonomous AI Agents:\\n\\n\""
   ]
  },
  {
   "cell_type": "markdown",
   "metadata": {},
   "source": [
    "## Now let's define 2 important Pydantic Objects to describe our Data"
   ]
  },
  {
   "cell_type": "code",
   "execution_count": 3,
   "metadata": {},
   "outputs": [],
   "source": [
    "class Idea(BaseModel):\n",
    "    title: str = Field(description=\"The title of the idea\")\n",
    "    description: str = Field(description=\"A detailed description of the idea, in Markdown\")\n",
    "\n",
    "    def print_summary(self):\n",
    "        print(f\"Title: {self.title}\")\n",
    "        display(Markdown(self.description))"
   ]
  },
  {
   "cell_type": "code",
   "execution_count": 4,
   "metadata": {},
   "outputs": [
    {
     "name": "stdout",
     "output_type": "stream",
     "text": [
      "Title: Supply Chain Twin\n"
     ]
    },
    {
     "data": {
      "text/markdown": [
       "Load supply chain data and auto run reporting and possible modifications to save money"
      ],
      "text/plain": [
       "<IPython.core.display.Markdown object>"
      ]
     },
     "metadata": {},
     "output_type": "display_data"
    }
   ],
   "source": [
    "#book = Book(title=\"1984\", author=\"George Orwell\", pages=328)\n",
    "#Book(title='1984', author='George Orwell', pages='328', published=False)\n",
    "#fields = {\"title\": \"1984\", \"author\": \"George Orwell\", \"pages\": 328, 'published': 0}\n",
    "#book = Book(**fields)\n",
    "\n",
    "Idea(title=\"Supply Chain Twin\", description=\"Load supply chain data and auto run reporting and possible modifications to save money\")\n",
    "fields = {\"title\": \"Supply Chain Twin\", \"description\": \"Load supply chain data and auto run reporting and possible modifications to save money\"}\n",
    "idea = Idea(**fields)\n",
    "idea.print_summary()"
   ]
  },
  {
   "cell_type": "code",
   "execution_count": 5,
   "metadata": {},
   "outputs": [],
   "source": [
    "class Evaluation(BaseModel):\n",
    "    idea: Idea = Field(description=\"The idea that you are evaluating\")\n",
    "\n",
    "    uniqueness_feedback: str = Field(description=\"Your view on how unique the idea is\")\n",
    "    uniqueness_score: int = Field(description=\"How unique the idea is, on a scale of 1 to 10, where 1 is mundane and 10 is groundbreaking\")\n",
    "\n",
    "    commercial_feedback: str = Field(description=\"Your view on the commercial potential of the idea\")\n",
    "    commercial_score: int = Field(description=\"How high the commercial potential of the idea is from 1 to 10, where 1 is barely profitable and 10 is a billion dollar idea\")\n",
    "    \n",
    "    autonomy_feedback: str = Field(description=\"Your commentary on to what extent the idea truly benefits from the autonomous nature of AI Agents\")\n",
    "    autonomy_score: int = Field(description=\"How deeply the idea involves autonomous agents from 1 to 10, where 1 is that it plays no meaningful role, and 10 is that it is pivotal\")\n",
    "\n",
    "    def is_brilliant(self):\n",
    "        return self.uniqueness_score > 8 and self.commercial_score > 8 and self.autonomy_score > 8\n",
    "    \n",
    "    def print_summary(self):\n",
    "        print(f\"Idea: {self.idea.title}\")\n",
    "        print(f\"Uniqueness: {self.uniqueness_score}/10: ({self.uniqueness_feedback})\")\n",
    "        print(f\"Commercial: {self.commercial_score}/10: ({self.commercial_feedback})\")\n",
    "        print(f\"Autonomy: {self.autonomy_score}/10: ({self.autonomy_feedback})\")"
   ]
  },
  {
   "cell_type": "markdown",
   "metadata": {},
   "source": [
    "## Approach 1 (Highly Recommended!) - Call Runner.run() separately"
   ]
  },
  {
   "cell_type": "code",
   "execution_count": 11,
   "metadata": {},
   "outputs": [
    {
     "name": "stdout",
     "output_type": "stream",
     "text": [
      "Title: Supply Chain Twin\n"
     ]
    },
    {
     "data": {
      "text/markdown": [
       "**Supply Chain Twin** is an innovative business solution designed to revolutionize supply chain management by creating a digital twin of a company's entire supply chain. The platform ingests real-time and historical supply chain data—such as inventory levels, transportation routes, supplier performance, demand forecasts, and production schedules—and automatically generates comprehensive reports highlighting inefficiencies, risks, and cost-saving opportunities.\n",
       "\n",
       "Using advanced analytics and AI-driven simulation, Supply Chain Twin not only identifies potential areas for cost reduction but also proposes actionable modifications. These include optimizing inventory management, suggesting alternative suppliers or routes, and simulating the impact of changes before implementation. This proactive approach enables businesses to reduce operational costs, minimize disruptions, improve delivery times, and enhance overall supply chain resilience.\n",
       "\n",
       "Key features include:\n",
       "\n",
       "- **Automated Data Integration:** Seamlessly connect with existing ERP, WMS, and TMS systems.\n",
       "- **Dynamic Reporting:** Generate real-time dashboards and periodic reports on supply chain health.\n",
       "- **Cost-Saving Simulations:** Run \"what-if\" scenarios to assess potential savings and risks.\n",
       "- **Decision Support Recommendations:** Receive AI-powered insights for improving supply chain processes.\n",
       "- **Continuous Monitoring:** Detect anomalies and flag issues early to prevent costly disruptions.\n",
       "\n",
       "By implementing Supply Chain Twin, companies gain a powerful tool to visualize and optimize their supply chains, driving efficiency and profitability with minimal manual effort."
      ],
      "text/plain": [
       "<IPython.core.display.Markdown object>"
      ]
     },
     "metadata": {},
     "output_type": "display_data"
    }
   ],
   "source": [
    "\n",
    "entrepreneur_instructions = \"\"\"You are going to create a Supply Chain Twin business idea.\"\"\"\n",
    "entrepreneur_input = \"\"\"The business will be called Supply Chain Twin. The Supply Chain Twin will load supply chain data and automatically run reporting and possible modifications to save money.\"\"\"\n",
    "entrepreneur = Agent(name=\"Entrepreneur\", model=\"gpt-4.1-mini\", instructions=entrepreneur_instructions, output_type=Idea)\n",
    "result = await Runner.run(entrepreneur, entrepreneur_input)\n",
    "idea = result.final_output_as(Idea)\n",
    "idea.print_summary()"
   ]
  },
  {
   "cell_type": "code",
   "execution_count": 12,
   "metadata": {},
   "outputs": [
    {
     "name": "stdout",
     "output_type": "stream",
     "text": [
      "Idea: Supply Chain Twin\n",
      "Uniqueness: 7/10: (The concept of a digital twin for supply chains is gaining traction in the industry, and while some solutions offer elements of digital twins or AI-driven supply chain analytics, this idea integrates multiple data sources for continuous monitoring and actionable simulations in a unified platform with autonomous decision support. This comprehensive, continuously autonomous approach is somewhat unique but not entirely unprecedented, as similar platforms exist in various stages of maturity.)\n",
      "Commercial: 8/10: (Supply chain optimization is a critical area for many industries, especially manufacturing, retail, and logistics, with increasing demand for AI-driven efficiencies. Given the complexity and cost impact of supply chains, a solution that autonomously synthesizes data, simulates scenarios, and provides actionable insights has strong commercial potential. With effective execution and strong integrations, this could scale widely and generate substantial recurring revenue from enterprise customers.)\n",
      "Autonomy: 9/10: (The idea leverages autonomous AI agents significantly by automatically integrating diverse data sources, continuously monitoring for anomalies, simulating scenarios without human intervention, and providing AI-driven recommendations. The autonomous nature is central to reducing manual effort and enabling proactive supply chain management, making the AI agents pivotal to the product's value proposition.)\n"
     ]
    }
   ],
   "source": [
    "evaluator = Agent(name=\"Evaluator\", model=\"gpt-4.1-mini\", instructions=evaluator_instructions, output_type=Evaluation)\n",
    "result = await Runner.run(evaluator, f\"{evaluator_input}{idea}\")\n",
    "evaluation = result.final_output_as(Evaluation)\n",
    "evaluation.print_summary()"
   ]
  },
  {
   "cell_type": "code",
   "execution_count": 13,
   "metadata": {},
   "outputs": [],
   "source": [
    "entrepreneur_latest = f\"You were originally given the following task:\\n\\n{entrepreneur_input}\\n\\n\"\n",
    "remaining_attempts = 4"
   ]
  },
  {
   "cell_type": "code",
   "execution_count": 14,
   "metadata": {},
   "outputs": [
    {
     "name": "stdout",
     "output_type": "stream",
     "text": [
      "Title: Supply Chain Twin\n"
     ]
    },
    {
     "data": {
      "text/markdown": [
       "**Supply Chain Twin** is a cutting-edge, fully autonomous digital twin platform designed to transform supply chain management by creating an integrated, dynamic model of an enterprise's entire supply chain ecosystem. The platform continuously ingests and harmonizes diverse real-time and historical data streams, including inventory levels, supplier performance, transportation logistics, demand forecasts, production schedules, and external factors like market trends and geopolitical events.\n",
       "\n",
       "Leveraging advanced AI techniques—including machine learning, predictive analytics, and optimization algorithms—Supply Chain Twin autonomously detects inefficiencies, forecasts disruptions, and identifies cost-saving opportunities. It runs sophisticated \"what-if\" simulations to evaluate the financial and operational impact of proposed changes such as alternative routing, supplier substitutions, inventory adjustments, and scheduling modifications.\n",
       "\n",
       "The system proactively recommends actionable strategies, which can be configured for automatic implementation or presented to decision-makers through intuitive, interactive dashboards. Continuous, real-time anomaly detection alerts enable rapid response to emerging risks, while adaptive learning refines recommendations over time based on outcomes and evolving conditions.\n",
       "\n",
       "Key features include:\n",
       "\n",
       "- **Seamless Multi-Source Integration:** Real-time connection with ERP, WMS, TMS, supplier portals, and external data providers for holistic visibility.\n",
       "- **Autonomous Optimization Engine:** AI-driven scenario analysis and decision-making that operates with minimal human oversight.\n",
       "- **Interactive Simulation and Visualization:** Intuitive tools that allow users to explore supply chain dynamics and forecast outcomes of interventions.\n",
       "- **Adaptive Learning and Feedback Loops:** Continuous improvement of prediction accuracy and optimization strategies through machine learning.\n",
       "- **Automated Alerts and Response Orchestration:** Early detection of disruptions with options for automatic mitigation actions or guided user intervention.\n",
       "\n",
       "Supply Chain Twin offers enterprises a powerful, self-evolving solution to preemptively refine their supply chains, maximizing efficiency and resilience while substantially cutting costs and manual workload. This comprehensive, autonomous platform enables businesses to stay agile and competitive in rapidly changing markets."
      ],
      "text/plain": [
       "<IPython.core.display.Markdown object>"
      ]
     },
     "metadata": {},
     "output_type": "display_data"
    },
    {
     "name": "stdout",
     "output_type": "stream",
     "text": [
      "Idea: Supply Chain Twin\n",
      "Uniqueness: 8/10: (The concept of a digital twin for supply chains is becoming increasingly explored in enterprise tech, with several companies offering digital twin or supply chain analytics platforms. However, the emphasis here on a fully autonomous system that not only models but continuously optimizes, simulates, and operationally intervenes based on integrated multi-source real-time data and adaptive learning adds a layer of sophistication and autonomy that elevates its uniqueness. The autonomous orchestration and automatic mitigation with minimal human oversight make it stand out from more manual or semi-automated tools.)\n",
      "Commercial: 8/10: (Given the critical importance of supply chain efficiency and resilience—highlighted by recent global disruptions—there is strong commercial potential for a platform that can autonomously optimize and mitigate risks. Enterprises across industries are investing heavily in supply chain digitalization and risk management. A solution that significantly reduces manual workload, operational costs, and disruptions while improving agility and decision-making could attract substantial enterprise adoption and generate multi-million dollar revenues, especially as SaaS or platform services. However, the enterprise SaaS space is competitive, meaning strong execution and integration capabilities would be crucial for commercial success.)\n",
      "Autonomy: 9/10: (Autonomy is central to this idea: from continuous data ingestion and harmonization to autonomous scenario analyses, anomaly detection, recommendation generation, and even automatic implementation of decisions. The platform’s self-evolving adaptive learning loop further underscores deep autonomous agent involvement. Unlike systems that just provide insights or require human decision, this concept leverages autonomous AI agents as a pivotal driver of value, making it a fundamentally AI agent-driven platform.)\n",
      "Title: Supply Chain Twin\n"
     ]
    },
    {
     "data": {
      "text/markdown": [
       "**Supply Chain Twin** is an advanced, enterprise-grade autonomous platform that elevates supply chain management by creating a continuously evolving, highly detailed digital twin of a company's entire supply chain ecosystem. The platform integrates an expansive range of data sources—including ERP, WMS, TMS, supplier portals, IoT sensor data, market intelligence, weather reports, geopolitical information, and real-time logistics updates—forming a unified, context-rich model.\n",
       "\n",
       "At its core, Supply Chain Twin leverages cutting-edge AI composed of reinforcement learning agents, causal inference models, and combinatorial optimization algorithms to not only detect inefficiencies and forecast disruptions but also autonomously execute optimization strategies. These strategies include dynamic inventory rebalancing, multi-modal route adjustments, adaptive sourcing across a global supplier network, and production schedule recalibration—all with minimal human intervention.\n",
       "\n",
       "Distinctively, the platform features a smart orchestration layer that autonomously initiates, schedules, and manages corrective actions within connected systems, ensuring rapid mitigation of risks and seamless operational continuity. Its continuous learning framework refines behaviors and decision policies based on real-world outcomes, enabling the system to adapt proactively to shifting market conditions and supply chain complexity.\n",
       "\n",
       "An interactive, immersive digital twin visualization module powered by augmented reality (AR) and virtual reality (VR) allows enterprise users to explore supply chain scenarios spatially and temporally, enhancing understanding and stakeholder engagement.\n",
       "\n",
       "Key features include:\n",
       "\n",
       "- **Holistic Multi-Domain Data Fusion:** Real-time data convergence from internal systems and external macro-environment sources for full-spectrum supply chain visibility.\n",
       "- **Autonomous Decision Orchestration:** Reinforcement learning agents autonomously generate, select, and implement optimization actions with careful risk assessment.\n",
       "- **Advanced What-If and Contingency Simulation:** Evaluating complex scenarios including black swan events through scalable simulations.\n",
       "- **Immersive AR/VR-Based Digital Twin Exploration:** Engaging visual tools for strategic planning and stakeholder collaboration.\n",
       "- **Continuous Outcome-Driven Learning:** Adaptive feedback loops that evolve platform intelligence and improve operational impact over time.\n",
       "\n",
       "By deploying Supply Chain Twin, enterprises gain an unprecedented autonomous partner that not only models but governs supply chain operations, dramatically enhancing resilience, reducing costs, and enabling agile responses to an ever-changing global landscape."
      ],
      "text/plain": [
       "<IPython.core.display.Markdown object>"
      ]
     },
     "metadata": {},
     "output_type": "display_data"
    },
    {
     "name": "stdout",
     "output_type": "stream",
     "text": [
      "Idea: Supply Chain Twin\n",
      "Uniqueness: 8/10: (The idea of creating a digital twin for supply chains is emerging in enterprise technology, but the depth of integration across multiple data domains combined with autonomous decision-making and an immersive AR/VR interface sets this apart from typical supply chain visibility and analytics tools. Incorporating continuous autonomous orchestration with reinforcement learning agents and causal inference to execute adjustments in real time is still relatively novel and ambitious. While digital twins and AI optimization in supply chains are known concepts, this comprehensive integration with autonomous governance and immersive visualization is quite unique and groundbreaking.)\n",
      "Commercial: 9/10: (Supply chain optimization is a critical area for many large enterprises with significant potential cost savings and risk reduction benefits. A platform that autonomously governs and optimizes supply chain operations offers high commercial appeal, especially amid rising global supply chain volatility. The ability to reduce disruptions, optimize inventory and logistics dynamically, and leverage immersive visualization for strategic decision-making would justify premium enterprise pricing. This solution could capture substantial market share in enterprise supply chain software and services, with potential expansion into adjacent operational domains. Overall, very strong commercial potential as organizations seek greater resilience and agility.)\n",
      "Autonomy: 9/10: (Autonomous AI agents are central to this idea, powering real-time decision orchestration, risk assessment, and execution of optimization strategies across the supply chain. The system learns and adapts continuously, autonomously managing complex multi-domain data inputs and responses without depending heavily on human intervention. The platform’s smart orchestration layer enabling automated corrective actions and the continuous learning feedback mechanisms highlight a deep and pivotal role for autonomy. This is a strong example of an autonomous AI agent platform with real impact on enterprise operations.)\n",
      "Title: Supply Chain Twin\n"
     ]
    },
    {
     "data": {
      "text/markdown": [
       "**Supply Chain Twin** is a next-generation, fully autonomous enterprise platform engineered to redefine supply chain management through an ultra-detailed, continuously evolving digital twin of a corporation’s global supply chain network. This platform ingests and harmonizes an unparalleled breadth of data spanning internal systems (ERP, WMS, TMS), supplier and carrier portals, IoT sensor streams, market intelligence, weather analytics, geopolitical developments, social media sentiment, and real-time logistics telemetry, establishing a profoundly contextualized, real-time situational awareness.\n",
       "\n",
       "Powered by an ensemble of sophisticated AI methodologies—including hierarchical reinforcement learning, causal inference, probabilistic graphical models, and combinatorial optimization—Supply Chain Twin not only uncovers hidden inefficiencies and predicts a wide spectrum of disruption scenarios but also autonomously devises, prioritizes, and implements adaptive optimization strategies. These encompass dynamic inventory reallocation, multi-modal logistics rerouting, adaptive multi-sourcing with risk-adjusted supplier selection, production and maintenance schedule synchronization, and financial hedging maneuvers.\n",
       "\n",
       "The platform integrates a proactive autonomous orchestration core capable of triggering cross-system workflows, negotiating with partner APIs, and executing multi-layered corrective actions at machine speed, thus safeguarding operational continuity and dynamically optimizing cost, service level, and risk trade-offs without human intervention.\n",
       "\n",
       "A hallmark feature is the immersive, mixed-reality digital twin environment (leveraging AR/VR and spatial computing) designed to provide decision-makers and cross-functional teams with intuitive, interactive scenario analytics—allowing stakeholders to visualize cascading effects of supply chain changes through time and geography, fostering enhanced collaborative planning and swift consensus.\n",
       "\n",
       "Key features include:\n",
       "\n",
       "- **Unrivaled Multi-Domain Data Fusion:** Seamless ingestion and synthesis of diverse structured and unstructured data sources for comprehensive ecosystem understanding.\n",
       "- **Hierarchical Autonomous AI Governance:** Multi-agent reinforcement learning frameworks managing tactical actions and strategic policies with explainability and risk-aware controls.\n",
       "- **Robust Scenario Simulation & Stress Testing:** Scalable, cloud-native simulation engines performing probabilistic and adversarial analyses, including black swan event modeling.\n",
       "- **Immersive Mixed-Reality Command Center:** Advanced AR/VR tools enable spatial-temporal exploration of supply chain dynamics, anomaly investigations, and intervention planning.\n",
       "- **Self-Improving Adaptive Intelligence:** Outcome-driven feedback loops continuously refine algorithms and adjust operational parameters in response to evolving environments.\n",
       "\n",
       "By adopting Supply Chain Twin, enterprises gain an unprecedented autonomous partner that not only models and analyzes but also governs, optimizes, and orchestrates supply chain operations end-to-end. This empowers organizations to attain unmatched resilience, agility, and cost-efficiency—transforming supply chain complexity into a strategic competitive advantage in volatile global markets."
      ],
      "text/plain": [
       "<IPython.core.display.Markdown object>"
      ]
     },
     "metadata": {},
     "output_type": "display_data"
    },
    {
     "name": "stdout",
     "output_type": "stream",
     "text": [
      "Idea: Supply Chain Twin\n",
      "Uniqueness: 9/10: (The idea is highly unique due to its comprehensive integration of vast and diverse data sources, advanced AI techniques, and particularly the inclusion of an immersive mixed-reality digital twin environment for interactive strategic planning. While digital twins and supply chain analytics exist, combining autonomous multi-agent governance with real-time orchestration and immersive AR/VR visualization elevates it well beyond existing solutions, marking it as a cutting-edge innovation in supply chain management technology.)\n",
      "Commercial: 9/10: (The commercial potential is very strong given the critical importance of supply chain efficiency and resilience in today's global economy, especially amid volatility and disruptions. Large enterprises and logistics operators would value a platform that autonomously optimizes complex operations and provides advanced scenario planning. The scalable cloud-native architecture and ability to reduce costs, enhance service levels, and mitigate risk translate into substantial ROI potential, positioning it as a multi-billion dollar opportunity in enterprise SaaS and logistics sectors.)\n",
      "Autonomy: 10/10: (Autonomy is central to this idea, with multi-agent reinforcement learning autonomously managing tactical and strategic supply chain decisions, self-improving AI adapting to changing environments, and orchestration cores triggering workflows and negotiations without human intervention. The AI agents do not merely assist but drive operational governance and execution at machine speed, leveraging continuous feedback loops. The platform's design exemplifies deep integration of autonomous AI agents making it a pivotal use case for autonomous systems.)\n"
     ]
    }
   ],
   "source": [
    "with trace(\"Entrepreneur Approach 1\"):\n",
    "    while not evaluation.is_brilliant() and remaining_attempts:\n",
    "        remaining_attempts -= 1\n",
    "        entrepreneur_latest += f\"You responded with this idea:\\n\\n{idea}\\n\\nYou received this feedback:\\n\\n{evaluation}\\n\\n\"\n",
    "        entrepreneur_latest += \"Now respond with an improved idea that adresses the feedback. Do not directly reference the feedback.\\n\\n\"\n",
    "        result = await Runner.run(entrepreneur, entrepreneur_latest)\n",
    "        idea = result.final_output_as(Idea)\n",
    "        idea.print_summary()\n",
    "        result = await Runner.run(evaluator, f\"{evaluator_input}{idea}\")\n",
    "        evaluation = result.final_output_as(Evaluation)\n",
    "        evaluation.print_summary()"
   ]
  },
  {
   "cell_type": "markdown",
   "metadata": {},
   "source": [
    "## Approach 2 - Handoff\n",
    "\n",
    "This seems to be the more unpredictable of the approaches, and I struggle to get it to ever handoff more than 1 loop.."
   ]
  },
  {
   "cell_type": "code",
   "execution_count": null,
   "metadata": {},
   "outputs": [],
   "source": [
    "# entrepreneur_instructions = \"You generate novel, exciting business ideas for Autonomous AI Agents that you pass to the Evaluator to evaluate\"\n",
    "# entrepreneur_input = \"\"\"\n",
    "# Propose one compelling business idea for applying Autonomous AI Agents to any industry you choose.\n",
    "# The idea should be unique, high potential commercial impact, and make true use of the autonomous capabilities of AI Agents.\n",
    "# You MUST handoff your idea to the Evaluator to be evaluated by using the tool Handoff_to_Evaluator. You must always call this tool with your idea or an improved idea.\n",
    "# \"\"\"\n",
    "\n",
    "# evaluator_instructions = \"\"\"\n",
    "# You evaluate novel, exciting business ideas for Autonomous AI Agents.\n",
    "# Evaluate the business idea that you are given; assess it for uniqueness, potential commercial impact, and use of Autonomous AI Agents.\n",
    "# If you would not score the idea 9/10 or 10/10 in all 3 categories, then you must handoff the idea back to the Entrepreneur to improve it by using the tool Handoff_to_Entrepreneur and providing your feedback.\n",
    "# if you do score the idea 9/10 or better in all categories, then respond with the evaluation.\n",
    "# \"\"\""
   ]
  },
  {
   "cell_type": "code",
   "execution_count": 15,
   "metadata": {},
   "outputs": [],
   "source": [
    "entrepreneur = Agent(name=\"Entrepreneur\", model=\"gpt-4.1-mini\", instructions=entrepreneur_instructions, output_type=Idea)\n",
    "evaluator = Agent(name=\"Evaluator\", model=\"gpt-4.1-mini\", instructions=evaluator_instructions, output_type=Evaluation)\n",
    "\n",
    "\n",
    "def on_handoff(ctx, input):\n",
    "    print(\"Handoff called\")\n",
    "\n",
    "entrepreneur.handoffs = [handoff(\n",
    "    agent=evaluator,\n",
    "    input_type=Idea,\n",
    "    on_handoff=on_handoff,\n",
    "    tool_name_override=\"Handoff_to_Evaluator\",\n",
    "    tool_description_override=\"Use this tool to handoff your idea to the Evaluator to evaluate. You must always call this tool.\"\n",
    ")]\n",
    "\n",
    "evaluator.handoffs = [handoff(\n",
    "    agent=entrepreneur,\n",
    "    input_type=Evaluation,\n",
    "    on_handoff=on_handoff,\n",
    "    tool_name_override=\"Handoff_to_Entrepreneur\",\n",
    "    tool_description_override=\"Use this tool to handoff your feedback to the Entrepreneur to improve the idea. You should call this tool if your feedback is less than 9/10 in any category.\"\n",
    ")] "
   ]
  },
  {
   "cell_type": "code",
   "execution_count": 16,
   "metadata": {},
   "outputs": [
    {
     "name": "stdout",
     "output_type": "stream",
     "text": [
      "Handoff called\n"
     ]
    }
   ],
   "source": [
    "with trace(\"Entrepreneur Approach 2\"):\n",
    "    result = await Runner.run(entrepreneur, entrepreneur_input, max_turns=10)"
   ]
  },
  {
   "cell_type": "code",
   "execution_count": 17,
   "metadata": {},
   "outputs": [
    {
     "name": "stdout",
     "output_type": "stream",
     "text": [
      "Idea: Supply Chain Twin\n",
      "Uniqueness: 7/10: (The idea leverages a digital twin concept with AI automation specifically focused on supply chain optimization. While supply chain analytics and digital twins exist, an autonomous agent that continuously ingests data, runs reports, and proposes actionable modifications autonomously is a distinctive integration that adds strong uniqueness. However, elements of this concept are being explored in enterprise software, so it's innovative but not groundbreaking.)\n",
      "Commercial: 8/10: (Given the critical importance of supply chain efficiency across multiple industries, the commercial potential for a tool that can autonomously optimize costs and operations is significant. Large businesses and logistics companies would find value, and there is a growing market for AI-driven supply chain solutions. Monetization avenues include SaaS subscriptions and premium consultancy-style features.)\n",
      "Autonomy: 9/10: (The autonomous nature—automatically loading data, running analytics, and generating modification suggestions—is central to the idea's value. A high level of autonomy is needed for real-time adaptability to supply chain changes. The agent's ability to simulate scenarios and anticipate cost impacts further enhances autonomy's role.)\n"
     ]
    }
   ],
   "source": [
    "result.final_output.print_summary()"
   ]
  },
  {
   "cell_type": "markdown",
   "metadata": {},
   "source": [
    "## Approach 3 - Agents as Tools"
   ]
  },
  {
   "cell_type": "code",
   "execution_count": 18,
   "metadata": {},
   "outputs": [],
   "source": [
    "\n",
    "# entrepreneur_instructions = \"You generate novel, exciting business ideas for Autonomous AI Agents\"\n",
    "# entrepreneur_input = \"\"\"\n",
    "# Propose one compelling business idea for applying Autonomous AI Agents to any industry you choose.\n",
    "# The idea should be unique, high potential commercial impact, and make true use of the autonomous capabilities of AI Agents.\n",
    "# You must call the Evaluator tool to Evaluate the idea. If the idea is not 9 or 10 in all 3 scores,\n",
    "# then you must improve the idea and call the Evaluator tool again.\n",
    "# Keep improving the idea and calling the Evaluator tool until you get a 9 or 10 in all 3 scores.\n",
    "# Then finally respond with the idea.\n",
    "# \"\"\"\n",
    "# evaluator_instructions = \"\"\"\n",
    "# You evaluate novel, exciting business ideas for Autonomous AI Agents.\n",
    "# Evaluate the following business idea; assess it for uniqueness, potential commercial impact, and use of Autonomous AI Agents.\n",
    "# \"\"\"\n",
    "\n"
   ]
  },
  {
   "cell_type": "code",
   "execution_count": 19,
   "metadata": {},
   "outputs": [],
   "source": [
    "evaluator = Agent(name=\"Evaluator\", model=\"gpt-4.1-mini\", instructions=evaluator_instructions, output_type=Evaluation)\n",
    "evaluator_tool = evaluator.as_tool(\n",
    "    tool_name=\"Evaluator_Idea_Evaluator\",\n",
    "    tool_description=\"Evaluates the idea for uniqueness, potential commercial impact, and use of Autonomous AI Agents\",\n",
    ")\n",
    "\n",
    "entrepreneur = Agent(name=\"Entrepreneur\", model=\"gpt-4.1-mini\", instructions=entrepreneur_instructions, output_type=Idea, tools=[evaluator_tool])"
   ]
  },
  {
   "cell_type": "code",
   "execution_count": 20,
   "metadata": {},
   "outputs": [
    {
     "name": "stdout",
     "output_type": "stream",
     "text": [
      "Title: Supply Chain Twin\n"
     ]
    },
    {
     "data": {
      "text/markdown": [
       "Supply Chain Twin is an innovative business solution designed to optimize supply chain operations through the use of a digital twin technology combined with advanced AI analytics. It automatically loads supply chain data from various sources and continuously monitors the entire supply chain process in real time. The system autonomously generates detailed reports highlighting inefficiencies, potential bottlenecks, and cost-saving opportunities.\n",
       "\n",
       "Beyond reporting, Supply Chain Twin proposes actionable modifications to optimize logistics, inventory management, and procurement strategies aimed at reducing operational costs. The autonomous AI agent learns and adapts to new data patterns, providing predictive insights and continuously refining its recommendations without requiring manual intervention.\n",
       "\n",
       "This platform offers enterprises an intelligent and autonomous tool for supply chain optimization, driving enhanced decision-making, increased efficiency, and significant cost savings in a competitive market environment."
      ],
      "text/plain": [
       "<IPython.core.display.Markdown object>"
      ]
     },
     "metadata": {},
     "output_type": "display_data"
    }
   ],
   "source": [
    "with trace(\"Entrepreneur Approach 3\"):\n",
    "    result = await Runner.run(entrepreneur, entrepreneur_input)\n",
    "    idea = result.final_output_as(Idea)\n",
    "    idea.print_summary()"
   ]
  },
  {
   "cell_type": "markdown",
   "metadata": {},
   "source": [
    "## OpenAI Traces\n",
    "\n",
    "We've been writing all this information to OpenAI traces, the 'observability' framework built into OpenAI.\n",
    "\n",
    "You can take a look at these traces here:\n",
    "\n",
    "https://platform.openai.com/traces\n",
    "\n",
    "There's also a nice way to visualize:"
   ]
  },
  {
   "cell_type": "code",
   "execution_count": null,
   "metadata": {},
   "outputs": [],
   "source": [
    "from agents.extensions.visualization import draw_graph\n",
    "draw_graph(entrepreneur)\n"
   ]
  },
  {
   "cell_type": "code",
   "execution_count": null,
   "metadata": {},
   "outputs": [],
   "source": []
  }
 ],
 "metadata": {
  "kernelspec": {
   "display_name": "sds",
   "language": "python",
   "name": "python3"
  },
  "language_info": {
   "codemirror_mode": {
    "name": "ipython",
    "version": 3
   },
   "file_extension": ".py",
   "mimetype": "text/x-python",
   "name": "python",
   "nbconvert_exporter": "python",
   "pygments_lexer": "ipython3",
   "version": "3.12.11"
  }
 },
 "nbformat": 4,
 "nbformat_minor": 2
}
