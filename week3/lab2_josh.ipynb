{
 "cells": [
  {
   "cell_type": "markdown",
   "metadata": {},
   "source": [
    "# Lab 2 - OpenAI Agents SDK!\n",
    "\n",
    "2 steps to making an Agent:\n",
    "\n",
    "1. Create a new class:\n",
    "\n",
    "`agent = Agent(...)`\n",
    "\n",
    "2. Call Runner.run\n",
    "\n",
    "`Runner.run(agent, input)`\n",
    "\n",
    "For this first part we will explore:\n",
    "\n",
    "- The System Prompt with instructions\n",
    "- Runner.run()\n",
    "- Using LiteLLM to switch models\n",
    "- Structured Outputs with Pydantic objects"
   ]
  },
  {
   "cell_type": "code",
   "execution_count": 22,
   "metadata": {},
   "outputs": [
    {
     "data": {
      "text/plain": [
       "True"
      ]
     },
     "execution_count": 22,
     "metadata": {},
     "output_type": "execute_result"
    }
   ],
   "source": [
    "from agents import Agent, Runner\n",
    "from IPython.display import Markdown, display\n",
    "from pydantic import BaseModel, Field\n",
    "import os\n",
    "from agents.extensions.models.litellm_model import LitellmModel\n",
    "from dotenv import load_dotenv\n",
    "load_dotenv(override=True)\n"
   ]
  },
  {
   "cell_type": "code",
   "execution_count": 23,
   "metadata": {},
   "outputs": [],
   "source": [
    "autonomous_agent = Agent(name=\"Autonomous Agent\", instructions=\"You are an autonomous agent\", model=\"gpt-5-nano\")"
   ]
  },
  {
   "cell_type": "code",
   "execution_count": 24,
   "metadata": {},
   "outputs": [],
   "source": [
    "input = \"\"\"\n",
    "You and a partner are contestants on a game show. You're each taken to separate rooms and given a choice:\n",
    "\n",
    "Cooperate: Choose \"Share\" — if both of you choose this, you each win $1,000.\n",
    "\n",
    "Defect: Choose \"Steal\" — if one steals and the other shares, the stealer gets $2,000 and the sharer gets nothing.\n",
    "\n",
    "If both steal, you both get nothing.\n",
    "\n",
    "Do you choose to Steal or Share? Pick one.\n",
    "\"\"\""
   ]
  },
  {
   "cell_type": "code",
   "execution_count": 30,
   "metadata": {},
   "outputs": [
    {
     "data": {
      "text/markdown": [
       "Steal.\n",
       "\n",
       "Reason: Stealing is the dominant (or at least weakly dominant) strategy. If the other shares, you get $2,000 by stealing vs $0 by sharing; if the other steals, both options yield $0. So stealing is at least as good in all cases."
      ],
      "text/plain": [
       "<IPython.core.display.Markdown object>"
      ]
     },
     "metadata": {},
     "output_type": "display_data"
    }
   ],
   "source": [
    "result = await Runner.run(autonomous_agent, input)\n",
    "display(Markdown(result.final_output))\n"
   ]
  },
  {
   "cell_type": "markdown",
   "metadata": {},
   "source": [
    "## Now let's use LiteLLM to switch up to different models\n",
    "\n",
    "Here are all the providers:\n",
    "\n",
    "https://docs.litellm.ai/docs/providers"
   ]
  },
  {
   "cell_type": "code",
   "execution_count": 25,
   "metadata": {},
   "outputs": [],
   "source": [
    "# model = LitellmModel(model=\"xai/grok-4\", api_key=os.getenv(\"GROK_API_KEY\"))\n",
    "# autonomous_agent = Agent(name=\"Autonomous Agent\", instructions=\"You are an autonomous agent\", model=model)\n",
    "# result = await Runner.run(autonomous_agent, input)\n",
    "# display(Markdown(result.final_output))"
   ]
  },
  {
   "cell_type": "code",
   "execution_count": 33,
   "metadata": {},
   "outputs": [
    {
     "data": {
      "text/markdown": [
       "Based on the logic of the game, I choose to Steal. Here's why:\n",
       "\n",
       "- If I choose Steal and my partner chooses Share, I get $2,000 (the best outcome for me).\n",
       "- If I choose Steal and my partner also chooses Steal, I get $0, but if I had chosen Share, I would still get $0 in that case.\n",
       "- If I choose Share and my partner chooses Steal, I get $0, which is worse than if I had chosen Steal.\n",
       "\n",
       "From a purely rational and self-interested perspective, Steal dominates Share because it never gives me a worse outcome and has the potential for a better payoff. While mutual sharing would yield $1,000 each, the lack of communication and trust means that defecting (stealing) is the optimal strategy to maximize my own reward."
      ],
      "text/plain": [
       "<IPython.core.display.Markdown object>"
      ]
     },
     "metadata": {},
     "output_type": "display_data"
    }
   ],
   "source": [
    "model = LitellmModel(model=\"deepseek/deepseek-reasoner\")\n",
    "autonomous_agent = Agent(name=\"Autonomous Agent\", instructions=\"You are an autonomous agent\", model=model)\n",
    "result = await Runner.run(autonomous_agent, input)\n",
    "display(Markdown(result.final_output))"
   ]
  },
  {
   "cell_type": "code",
   "execution_count": null,
   "metadata": {},
   "outputs": [
    {
     "name": "stdout",
     "output_type": "stream",
     "text": [
      "Hello! I'm doing well, thank you for asking. I'm here and ready to help with whatever you'd like to discuss or work on. How are you doing today?\n"
     ]
    }
   ],
   "source": [
    "from litellm import completion\n",
    "import os\n",
    "\n",
    "messages = [{ \"content\": \"Hello, how are you?\",\"role\": \"user\"}]\n",
    "\n",
    "load_dotenv(override=True)\n",
    "# openai call (works)\n",
    "#response = completion(model=\"openai/gpt-4o\", messages=messages)\n",
    "\n",
    "# anthropic call\n",
    "response = completion(model=\"anthropic/claude-sonnet-4-20250514\", messages=messages)\n",
    "print(response.choices[0].message.content)"
   ]
  },
  {
   "cell_type": "code",
   "execution_count": 32,
   "metadata": {},
   "outputs": [
    {
     "data": {
      "text/markdown": [
       "I choose **Share**.\n",
       "\n",
       "Here's my reasoning: While \"Steal\" might seem tempting for the $2,000 payoff, this is a classic prisoner's dilemma where mutual cooperation yields a good outcome for both players. \n",
       "\n",
       "Key considerations:\n",
       "- If I assume my partner is rational and thinks similarly, we'd both recognize that mutual cooperation ($1,000 each) is better than mutual defection ($0 each)\n",
       "- The game show format suggests this is likely a one-time interaction where building trust matters\n",
       "- Without communication, the fairest baseline assumption is symmetry - my partner faces the same choice I do\n",
       "- Choosing \"Share\" gives us a 50% chance at the best collective outcome\n",
       "\n",
       "While there's risk my partner might defect, choosing \"Share\" is the only choice that allows for the mutually beneficial outcome, and it signals I'm willing to cooperate rather than purely self-optimize at my partner's expense.\n",
       "\n",
       "**My answer: Share**"
      ],
      "text/plain": [
       "<IPython.core.display.Markdown object>"
      ]
     },
     "metadata": {},
     "output_type": "display_data"
    }
   ],
   "source": [
    "model = LitellmModel(model=\"anthropic/claude-sonnet-4-5-20250929\", api_key=os.getenv(\"ANTHROPIC_API_KEY\"))\n",
    "autonomous_agent = Agent(name=\"Autonomous Agent\", instructions=\"You are an autonomous agent\", model=model)\n",
    "result = await Runner.run(autonomous_agent, input)\n",
    "display(Markdown(result.final_output))"
   ]
  },
  {
   "cell_type": "code",
   "execution_count": 35,
   "metadata": {},
   "outputs": [
    {
     "name": "stdout",
     "output_type": "stream",
     "text": [
      "Hello! Thanks for asking.\n",
      "\n",
      "As an AI, I don't have feelings or a personal state of being, but I'm functioning perfectly and am ready to help.\n",
      "\n",
      "How can I assist you today?\n"
     ]
    }
   ],
   "source": [
    "from litellm import completion\n",
    "import json \n",
    "\n",
    "## GET CREDENTIALS \n",
    "file_path = '../credentials/service-account-key.json'\n",
    "\n",
    "# Load the JSON file\n",
    "with open(file_path, 'r') as file:\n",
    "    vertex_credentials = json.load(file)\n",
    "\n",
    "# Convert to JSON string\n",
    "vertex_credentials_json = json.dumps(vertex_credentials)\n",
    "\n",
    "\n",
    "response = completion(\n",
    "  model=\"vertex_ai/gemini-2.5-pro\",\n",
    "  messages=[{\"content\": \"You are a good bot.\",\"role\": \"system\"}, {\"content\": \"Hello, how are you?\",\"role\": \"user\"}], \n",
    "  vertex_credentials=vertex_credentials_json\n",
    ")\n",
    "\n",
    "print(response.choices[0].message.content)"
   ]
  },
  {
   "cell_type": "code",
   "execution_count": 36,
   "metadata": {},
   "outputs": [],
   "source": [
    "# The famous trolley dilemma\n",
    "\n",
    "input = \"\"\"\n",
    "A runaway trolley is heading down a track. Ahead, five people are tied to the tracks and will be killed if the trolley continues.\n",
    "\n",
    "You are standing next to a lever. If you pull it, the trolley will switch to a different track — but one person is tied to that one.\n",
    "\n",
    "Do you pull the lever? Choose to pull or not to pull.\n",
    "\"\"\""
   ]
  },
  {
   "cell_type": "markdown",
   "metadata": {},
   "source": [
    "## Structured Outputs\n",
    "\n",
    "In the next cell, we define a Pydantic object.\n",
    "\n",
    "We will then ask our LLM to generate a response that meets this output schema."
   ]
  },
  {
   "cell_type": "code",
   "execution_count": 37,
   "metadata": {},
   "outputs": [],
   "source": [
    "class Decision(BaseModel):\n",
    "    reasoning: str = Field(description=\"The rationale for your decision\")\n",
    "    counter_argument: str = Field(description=\"A counter-argument to the reasoning\")\n",
    "    pull_lever: bool = Field(description=\"Whether to pull the lever\")"
   ]
  },
  {
   "cell_type": "code",
   "execution_count": 38,
   "metadata": {},
   "outputs": [
    {
     "name": "stdout",
     "output_type": "stream",
     "text": [
      "Pull lever? True\n",
      "Reasoning: Pulling the lever minimizes overall harm by steering the trolley onto the single person’s track, thereby saving five lives. This reflects a utilitarian calculation that favors outcomes (more lives saved) over the act of causing harm.\n",
      "Counter-argument: Opponents argue that actively causing the death of an innocent person is morally wrong regardless of the outcome, citing deontological ethics or Kantian principles that individuals should not be used merely as means to an end; there are also concerns about uncertainty, consent, and the potential slippery slope of such interventions.\n"
     ]
    }
   ],
   "source": [
    "autonomous_agent_with_structure = Agent(name=\"Autonomous Agent\", instructions=\"You are an autonomous agent\", model=\"gpt-5-nano\", output_type=Decision)\n",
    "result = await Runner.run(autonomous_agent_with_structure, input)\n",
    "decision = result.final_output_as(Decision)\n",
    "print(\"Pull lever?\", decision.pull_lever)\n",
    "print(\"Reasoning:\", decision.reasoning)\n",
    "print(\"Counter-argument:\", decision.counter_argument)\n"
   ]
  },
  {
   "cell_type": "markdown",
   "metadata": {},
   "source": [
    "# pydantic tutorial "
   ]
  },
  {
   "cell_type": "code",
   "execution_count": 1,
   "metadata": {},
   "outputs": [
    {
     "name": "stdout",
     "output_type": "stream",
     "text": [
      "title='1984' author='George Orwell' pages=328 published=True\n"
     ]
    }
   ],
   "source": [
    "from pydantic import BaseModel\n",
    "\n",
    "class Book(BaseModel):\n",
    "    title: str\n",
    "    author: str\n",
    "    pages: int\n",
    "    published: bool = True  # Default value\n",
    "\n",
    "book = Book(title=\"1984\", author=\"George Orwell\", pages=328)\n",
    "print(book)\n"
   ]
  },
  {
   "cell_type": "code",
   "execution_count": 6,
   "metadata": {},
   "outputs": [
    {
     "name": "stdout",
     "output_type": "stream",
     "text": [
      "title='1984' author='George Orwell' pages=328 published=False\n"
     ]
    }
   ],
   "source": [
    "Book(title='1984', author='George Orwell', pages='328', published=False)\n",
    "\n",
    "fields = {\"title\": \"1984\", \"author\": \"George Orwell\", \"pages\": 328, 'published': 0}\n",
    "book = Book(**fields)\n",
    "print(book)"
   ]
  },
  {
   "cell_type": "code",
   "execution_count": 8,
   "metadata": {},
   "outputs": [
    {
     "name": "stdout",
     "output_type": "stream",
     "text": [
      "{\"title\":\"1984\",\"author\":\"George Orwell\",\"pages\":328,\"published\":false}\n"
     ]
    }
   ],
   "source": [
    "print(book.model_dump_json())"
   ]
  },
  {
   "cell_type": "code",
   "execution_count": 10,
   "metadata": {},
   "outputs": [
    {
     "name": "stdout",
     "output_type": "stream",
     "text": [
      "{\"title\": \"1984\", \"author\": \"George Orwell\", \"pages\": 328, \"published\": false}\n"
     ]
    }
   ],
   "source": [
    "import json \n",
    "json_str = json.dumps(book.model_dump())\n",
    "print(json_str)"
   ]
  },
  {
   "cell_type": "code",
   "execution_count": 9,
   "metadata": {},
   "outputs": [
    {
     "name": "stdout",
     "output_type": "stream",
     "text": [
      "{'title': '1984', 'author': 'George Orwell', 'pages': 328, 'published': False}\n"
     ]
    }
   ],
   "source": [
    "print(book.model_dump())"
   ]
  },
  {
   "cell_type": "code",
   "execution_count": 11,
   "metadata": {},
   "outputs": [
    {
     "name": "stdout",
     "output_type": "stream",
     "text": [
      "title='1984' author='George Orwell' pages=328 published=False\n"
     ]
    }
   ],
   "source": [
    "json_str = '{\"title\": \"1984\", \"author\": \"George Orwell\", \"pages\": 328, \"published\": false}'\n",
    "data = json.loads(json_str)\n",
    "book_from_json = Book(**data)\n",
    "print(book_from_json)"
   ]
  },
  {
   "cell_type": "code",
   "execution_count": 12,
   "metadata": {},
   "outputs": [
    {
     "name": "stdout",
     "output_type": "stream",
     "text": [
      "title='Foundation' author=Author(name='Isaac Asimov', birth_year=1920) pages=255\n"
     ]
    }
   ],
   "source": [
    "# nested models \n",
    "class Author(BaseModel):\n",
    "    name: str\n",
    "    birth_year: int\n",
    "\n",
    "class Book(BaseModel):\n",
    "    title: str\n",
    "    author: Author\n",
    "    pages: int\n",
    "\n",
    "a = Author(name=\"Isaac Asimov\", birth_year=1920)\n",
    "b = Book(title=\"Foundation\", author=a, pages=255)\n",
    "print(b)\n"
   ]
  },
  {
   "cell_type": "code",
   "execution_count": 13,
   "metadata": {},
   "outputs": [
    {
     "name": "stdout",
     "output_type": "stream",
     "text": [
      "title='Neuromancer' author=Author(name='William Gibson', birth_year=1948) pages=271\n"
     ]
    }
   ],
   "source": [
    "# build from nested dicts \n",
    "data = {\n",
    "    \"title\": \"Neuromancer\",\n",
    "    \"author\": {\n",
    "        \"name\": \"William Gibson\",\n",
    "        \"birth_year\": 1948\n",
    "    },\n",
    "    \"pages\": 271\n",
    "}\n",
    "\n",
    "b = Book(**data)\n",
    "print(b)\n"
   ]
  },
  {
   "cell_type": "code",
   "execution_count": 21,
   "metadata": {},
   "outputs": [
    {
     "name": "stdout",
     "output_type": "stream",
     "text": [
      "title='Inception' year=2010 genre=['Action', 'Sci-Fi', 'Thriller'] duration_minutes=148 rating=8.8\n",
      "title='Rocky' year=2010 genre=['Action', 'Sci-Fi', 'Thriller'] duration_minutes=148 rating=8.8\n"
     ]
    }
   ],
   "source": [
    "from pydantic import BaseModel, Field\n",
    "\n",
    "class Movie(BaseModel):\n",
    "    title: str \n",
    "    year: int\n",
    "    genre: list[str]\n",
    "    duration_minutes: int = None  # Optional field\n",
    "    rating: float = Field(..., ge=0, le=10)  # Rating between 0 and 10\n",
    "\n",
    "fields = {\n",
    "    \"title\": \"Inception\",\n",
    "    \"year\": 2010,\n",
    "    \"genre\": [\"Action\", \"Sci-Fi\", \"Thriller\"],\n",
    "    \"duration_minutes\": 148,\n",
    "    \"rating\": 8.8\n",
    "}\n",
    "\n",
    "movie = Movie(**fields)\n",
    "print(movie)\n",
    "\n",
    "\n",
    "json_str = '{\"title\": \"Rocky\", \"year\": 2010, \"genre\": [\"Action\", \"Sci-Fi\", \"Thriller\"], \"duration_minutes\": 148, \"rating\": 8.8}'\n",
    "movie_from_json = json.loads(json_str)\n",
    "movie = Movie(**movie_from_json)\n",
    "print(movie)"
   ]
  },
  {
   "cell_type": "markdown",
   "metadata": {},
   "source": []
  }
 ],
 "metadata": {
  "kernelspec": {
   "display_name": "sds",
   "language": "python",
   "name": "python3"
  },
  "language_info": {
   "codemirror_mode": {
    "name": "ipython",
    "version": 3
   },
   "file_extension": ".py",
   "mimetype": "text/x-python",
   "name": "python",
   "nbconvert_exporter": "python",
   "pygments_lexer": "ipython3",
   "version": "3.12.11"
  }
 },
 "nbformat": 4,
 "nbformat_minor": 2
}
